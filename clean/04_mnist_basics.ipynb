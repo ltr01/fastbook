{
 "cells": [
  {
   "cell_type": "code",
   "execution_count": 1,
   "metadata": {},
   "outputs": [],
   "source": [
    "#hide\n",
    "! [ -e /content ] && pip install -Uqq fastbook  \n",
    "# see if there's a directory called /content (no ,there isn't\n",
    "# this exist for colab, colab uses pip, and uses an older version of fastai\n",
    "import fastbook\n",
    "fastbook.setup_book()"
   ]
  },
  {
   "cell_type": "markdown",
   "metadata": {},
   "source": [
    "To install:\n",
    "\n",
    "- mamba install -c fastchan fastbook\n"
   ]
  },
  {
   "cell_type": "code",
   "execution_count": 2,
   "metadata": {},
   "outputs": [],
   "source": [
    "#hide\n",
    "from fastai.vision.all import *\n",
    "from fastbook import *\n",
    "\n",
    "matplotlib.rc('image', cmap='Greys')"
   ]
  },
  {
   "cell_type": "markdown",
   "metadata": {},
   "source": [
    "# Under the Hood: Training a Digit Classifier"
   ]
  },
  {
   "cell_type": "markdown",
   "metadata": {},
   "source": [
    "## Pixels: The Foundations of Computer Vision"
   ]
  },
  {
   "cell_type": "markdown",
   "metadata": {},
   "source": [
    "## Sidebar: Tenacity and Deep Learning"
   ]
  },
  {
   "cell_type": "markdown",
   "metadata": {},
   "source": [
    "## End sidebar"
   ]
  },
  {
   "cell_type": "code",
   "execution_count": 3,
   "metadata": {},
   "outputs": [],
   "source": [
    "path = untar_data(URLs.MNIST_SAMPLE)"
   ]
  },
  {
   "cell_type": "code",
   "execution_count": 4,
   "metadata": {},
   "outputs": [],
   "source": [
    "#hide\n",
    "Path.BASE_PATH = path"
   ]
  },
  {
   "cell_type": "code",
   "execution_count": 5,
   "metadata": {},
   "outputs": [
    {
     "data": {
      "text/plain": [
       "(#3) [Path('train'),Path('valid'),Path('labels.csv')]"
      ]
     },
     "execution_count": 5,
     "metadata": {},
     "output_type": "execute_result"
    }
   ],
   "source": [
    "path.ls()"
   ]
  },
  {
   "cell_type": "code",
   "execution_count": 6,
   "metadata": {},
   "outputs": [
    {
     "data": {
      "text/plain": [
       "(#2) [Path('train/7'),Path('train/3')]"
      ]
     },
     "execution_count": 6,
     "metadata": {},
     "output_type": "execute_result"
    }
   ],
   "source": [
    "(path/'train').ls()"
   ]
  },
  {
   "cell_type": "code",
   "execution_count": 7,
   "metadata": {},
   "outputs": [
    {
     "data": {
      "text/plain": [
       "(#6131) [Path('train/3/10.png'),Path('train/3/10000.png'),Path('train/3/10011.png'),Path('train/3/10031.png'),Path('train/3/10034.png'),Path('train/3/10042.png'),Path('train/3/10052.png'),Path('train/3/1007.png'),Path('train/3/10074.png'),Path('train/3/10091.png')...]"
      ]
     },
     "execution_count": 7,
     "metadata": {},
     "output_type": "execute_result"
    }
   ],
   "source": [
    "threes = (path/'train'/'3').ls().sorted()\n",
    "sevens = (path/'train'/'7').ls().sorted()\n",
    "threes"
   ]
  },
  {
   "cell_type": "code",
   "execution_count": 8,
   "metadata": {},
   "outputs": [
    {
     "data": {
      "image/png": "[encoded data removed]",
      "text/plain": [
       "<PIL.PngImagePlugin.PngImageFile image mode=L size=28x28>"
      ]
     },
     "execution_count": 8,
     "metadata": {},
     "output_type": "execute_result"
    }
   ],
   "source": [
    "im3_path = threes[1]\n",
    "im3 = Image.open(im3_path)\n",
    "im3"
   ]
  },
  {
   "cell_type": "code",
   "execution_count": 9,
   "metadata": {},
   "outputs": [
    {
     "data": {
      "text/plain": [
       "array([[  0,   0,   0,   0,   0,   0],\n",
       "       [  0,   0,   0,   0,   0,  29],\n",
       "       [  0,   0,   0,  48, 166, 224],\n",
       "       [  0,  93, 244, 249, 253, 187],\n",
       "       [  0, 107, 253, 253, 230,  48],\n",
       "       [  0,   3,  20,  20,  15,   0]], dtype=uint8)"
      ]
     },
     "execution_count": 9,
     "metadata": {},
     "output_type": "execute_result"
    }
   ],
   "source": [
    "array(im3)[4:10,4:10]"
   ]
  },
  {
   "cell_type": "code",
   "execution_count": 10,
   "metadata": {},
   "outputs": [
    {
     "data": {
      "text/plain": [
       "tensor([[  0,   0,   0,   0,   0,   0],\n",
       "        [  0,   0,   0,   0,   0,  29],\n",
       "        [  0,   0,   0,  48, 166, 224],\n",
       "        [  0,  93, 244, 249, 253, 187],\n",
       "        [  0, 107, 253, 253, 230,  48],\n",
       "        [  0,   3,  20,  20,  15,   0]], dtype=torch.uint8)"
      ]
     },
     "execution_count": 10,
     "metadata": {},
     "output_type": "execute_result"
    }
   ],
   "source": [
    "tensor(im3)[4:10,4:10]"
   ]
  },
  {
   "cell_type": "code",
   "execution_count": 11,
   "metadata": {},
   "outputs": [
    {
     "data": {
      "text/html": [
       "<style type=\"text/css\">\n",
       "#T_937d7_row0_col0, #T_937d7_row0_col1, #T_937d7_row0_col2, #T_937d7_row0_col3, #T_937d7_row0_col4, #T_937d7_row0_col5, #T_937d7_row0_col6, #T_937d7_row0_col7, #T_937d7_row0_col8, #T_937d7_row0_col9, #T_937d7_row0_col10, #T_937d7_row0_col11, #T_937d7_row0_col12, #T_937d7_row0_col13, #T_937d7_row0_col14, #T_937d7_row0_col15, #T_937d7_row0_col16, #T_937d7_row0_col17, #T_937d7_row1_col0, #T_937d7_row1_col1, #T_937d7_row1_col2, #T_937d7_row1_col3, #T_937d7_row1_col4, #T_937d7_row1_col15, #T_937d7_row1_col16, #T_937d7_row1_col17, #T_937d7_row2_col0, #T_937d7_row2_col1, #T_937d7_row2_col2, #T_937d7_row2_col15, #T_937d7_row2_col16, #T_937d7_row2_col17, #T_937d7_row3_col0, #T_937d7_row3_col15, #T_937d7_row3_col16, #T_937d7_row3_col17, #T_937d7_row4_col0, #T_937d7_row4_col6, #T_937d7_row4_col7, #T_937d7_row4_col8, #T_937d7_row4_col9, #T_937d7_row4_col10, #T_937d7_row4_col15, #T_937d7_row4_col16, #T_937d7_row4_col17, #T_937d7_row5_col0, #T_937d7_row5_col5, #T_937d7_row5_col6, #T_937d7_row5_col7, #T_937d7_row5_col8, #T_937d7_row5_col9, #T_937d7_row5_col15, #T_937d7_row5_col16, #T_937d7_row5_col17, #T_937d7_row6_col0, #T_937d7_row6_col1, #T_937d7_row6_col2, #T_937d7_row6_col3, #T_937d7_row6_col4, #T_937d7_row6_col5, #T_937d7_row6_col6, #T_937d7_row6_col7, #T_937d7_row6_col8, #T_937d7_row6_col9, #T_937d7_row6_col14, #T_937d7_row6_col15, #T_937d7_row6_col16, #T_937d7_row6_col17, #T_937d7_row7_col0, #T_937d7_row7_col1, #T_937d7_row7_col2, #T_937d7_row7_col3, #T_937d7_row7_col4, #T_937d7_row7_col5, #T_937d7_row7_col6, #T_937d7_row7_col13, #T_937d7_row7_col14, #T_937d7_row7_col15, #T_937d7_row7_col16, #T_937d7_row7_col17, #T_937d7_row8_col0, #T_937d7_row8_col1, #T_937d7_row8_col2, #T_937d7_row8_col3, #T_937d7_row8_col4, #T_937d7_row8_col13, #T_937d7_row8_col14, #T_937d7_row8_col15, #T_937d7_row8_col16, #T_937d7_row8_col17, #T_937d7_row9_col0, #T_937d7_row9_col1, #T_937d7_row9_col2, #T_937d7_row9_col3, #T_937d7_row9_col4, #T_937d7_row9_col16, #T_937d7_row9_col17, #T_937d7_row10_col0, #T_937d7_row10_col1, #T_937d7_row10_col2, #T_937d7_row10_col3, #T_937d7_row10_col4, #T_937d7_row10_col5, #T_937d7_row10_col6, #T_937d7_row10_col17 {\n",
       "  font-size: 6pt;\n",
       "  background-color: #ffffff;\n",
       "  color: #000000;\n",
       "}\n",
       "#T_937d7_row1_col5 {\n",
       "  font-size: 6pt;\n",
       "  background-color: #efefef;\n",
       "  color: #000000;\n",
       "}\n",
       "#T_937d7_row1_col6, #T_937d7_row1_col13 {\n",
       "  font-size: 6pt;\n",
       "  background-color: #7c7c7c;\n",
       "  color: #f1f1f1;\n",
       "}\n",
       "#T_937d7_row1_col7 {\n",
       "  font-size: 6pt;\n",
       "  background-color: #4a4a4a;\n",
       "  color: #f1f1f1;\n",
       "}\n",
       "#T_937d7_row1_col8, #T_937d7_row1_col9, #T_937d7_row1_col10, #T_937d7_row2_col5, #T_937d7_row2_col6, #T_937d7_row2_col7, #T_937d7_row2_col11, #T_937d7_row2_col12, #T_937d7_row2_col13, #T_937d7_row3_col4, #T_937d7_row3_col12, #T_937d7_row3_col13, #T_937d7_row4_col1, #T_937d7_row4_col2, #T_937d7_row4_col3, #T_937d7_row4_col12, #T_937d7_row4_col13, #T_937d7_row5_col12, #T_937d7_row6_col11, #T_937d7_row9_col11, #T_937d7_row10_col11, #T_937d7_row10_col12, #T_937d7_row10_col13, #T_937d7_row10_col14, #T_937d7_row10_col15, #T_937d7_row10_col16 {\n",
       "  font-size: 6pt;\n",
       "  background-color: #000000;\n",
       "  color: #f1f1f1;\n",
       "}\n",
       "#T_937d7_row1_col11 {\n",
       "  font-size: 6pt;\n",
       "  background-color: #606060;\n",
       "  color: #f1f1f1;\n",
       "}\n",
       "#T_937d7_row1_col12 {\n",
       "  font-size: 6pt;\n",
       "  background-color: #4d4d4d;\n",
       "  color: #f1f1f1;\n",
       "}\n",
       "#T_937d7_row1_col14 {\n",
       "  font-size: 6pt;\n",
       "  background-color: #bbbbbb;\n",
       "  color: #000000;\n",
       "}\n",
       "#T_937d7_row2_col3 {\n",
       "  font-size: 6pt;\n",
       "  background-color: #e4e4e4;\n",
       "  color: #000000;\n",
       "}\n",
       "#T_937d7_row2_col4, #T_937d7_row8_col6 {\n",
       "  font-size: 6pt;\n",
       "  background-color: #6b6b6b;\n",
       "  color: #f1f1f1;\n",
       "}\n",
       "#T_937d7_row2_col8, #T_937d7_row2_col14, #T_937d7_row3_col14 {\n",
       "  font-size: 6pt;\n",
       "  background-color: #171717;\n",
       "  color: #f1f1f1;\n",
       "}\n",
       "#T_937d7_row2_col9, #T_937d7_row3_col11 {\n",
       "  font-size: 6pt;\n",
       "  background-color: #4b4b4b;\n",
       "  color: #f1f1f1;\n",
       "}\n",
       "#T_937d7_row2_col10, #T_937d7_row7_col10, #T_937d7_row8_col8, #T_937d7_row8_col10, #T_937d7_row9_col8, #T_937d7_row9_col10 {\n",
       "  font-size: 6pt;\n",
       "  background-color: #010101;\n",
       "  color: #f1f1f1;\n",
       "}\n",
       "#T_937d7_row3_col1 {\n",
       "  font-size: 6pt;\n",
       "  background-color: #272727;\n",
       "  color: #f1f1f1;\n",
       "}\n",
       "#T_937d7_row3_col2 {\n",
       "  font-size: 6pt;\n",
       "  background-color: #0a0a0a;\n",
       "  color: #f1f1f1;\n",
       "}\n",
       "#T_937d7_row3_col3 {\n",
       "  font-size: 6pt;\n",
       "  background-color: #050505;\n",
       "  color: #f1f1f1;\n",
       "}\n",
       "#T_937d7_row3_col5 {\n",
       "  font-size: 6pt;\n",
       "  background-color: #333333;\n",
       "  color: #f1f1f1;\n",
       "}\n",
       "#T_937d7_row3_col6 {\n",
       "  font-size: 6pt;\n",
       "  background-color: #e6e6e6;\n",
       "  color: #000000;\n",
       "}\n",
       "#T_937d7_row3_col7, #T_937d7_row3_col10 {\n",
       "  font-size: 6pt;\n",
       "  background-color: #fafafa;\n",
       "  color: #000000;\n",
       "}\n",
       "#T_937d7_row3_col8 {\n",
       "  font-size: 6pt;\n",
       "  background-color: #fbfbfb;\n",
       "  color: #000000;\n",
       "}\n",
       "#T_937d7_row3_col9 {\n",
       "  font-size: 6pt;\n",
       "  background-color: #fdfdfd;\n",
       "  color: #000000;\n",
       "}\n",
       "#T_937d7_row4_col4 {\n",
       "  font-size: 6pt;\n",
       "  background-color: #1b1b1b;\n",
       "  color: #f1f1f1;\n",
       "}\n",
       "#T_937d7_row4_col5 {\n",
       "  font-size: 6pt;\n",
       "  background-color: #e0e0e0;\n",
       "  color: #000000;\n",
       "}\n",
       "#T_937d7_row4_col11 {\n",
       "  font-size: 6pt;\n",
       "  background-color: #4e4e4e;\n",
       "  color: #f1f1f1;\n",
       "}\n",
       "#T_937d7_row4_col14 {\n",
       "  font-size: 6pt;\n",
       "  background-color: #767676;\n",
       "  color: #f1f1f1;\n",
       "}\n",
       "#T_937d7_row5_col1 {\n",
       "  font-size: 6pt;\n",
       "  background-color: #fcfcfc;\n",
       "  color: #000000;\n",
       "}\n",
       "#T_937d7_row5_col2, #T_937d7_row5_col3 {\n",
       "  font-size: 6pt;\n",
       "  background-color: #f6f6f6;\n",
       "  color: #000000;\n",
       "}\n",
       "#T_937d7_row5_col4, #T_937d7_row7_col7 {\n",
       "  font-size: 6pt;\n",
       "  background-color: #f8f8f8;\n",
       "  color: #000000;\n",
       "}\n",
       "#T_937d7_row5_col10, #T_937d7_row10_col7 {\n",
       "  font-size: 6pt;\n",
       "  background-color: #e8e8e8;\n",
       "  color: #000000;\n",
       "}\n",
       "#T_937d7_row5_col11 {\n",
       "  font-size: 6pt;\n",
       "  background-color: #222222;\n",
       "  color: #f1f1f1;\n",
       "}\n",
       "#T_937d7_row5_col13, #T_937d7_row6_col12 {\n",
       "  font-size: 6pt;\n",
       "  background-color: #090909;\n",
       "  color: #f1f1f1;\n",
       "}\n",
       "#T_937d7_row5_col14 {\n",
       "  font-size: 6pt;\n",
       "  background-color: #d0d0d0;\n",
       "  color: #000000;\n",
       "}\n",
       "#T_937d7_row6_col10, #T_937d7_row7_col11, #T_937d7_row9_col6 {\n",
       "  font-size: 6pt;\n",
       "  background-color: #060606;\n",
       "  color: #f1f1f1;\n",
       "}\n",
       "#T_937d7_row6_col13 {\n",
       "  font-size: 6pt;\n",
       "  background-color: #979797;\n",
       "  color: #f1f1f1;\n",
       "}\n",
       "#T_937d7_row7_col8 {\n",
       "  font-size: 6pt;\n",
       "  background-color: #b6b6b6;\n",
       "  color: #000000;\n",
       "}\n",
       "#T_937d7_row7_col9 {\n",
       "  font-size: 6pt;\n",
       "  background-color: #252525;\n",
       "  color: #f1f1f1;\n",
       "}\n",
       "#T_937d7_row7_col12 {\n",
       "  font-size: 6pt;\n",
       "  background-color: #999999;\n",
       "  color: #f1f1f1;\n",
       "}\n",
       "#T_937d7_row8_col5 {\n",
       "  font-size: 6pt;\n",
       "  background-color: #f9f9f9;\n",
       "  color: #000000;\n",
       "}\n",
       "#T_937d7_row8_col7 {\n",
       "  font-size: 6pt;\n",
       "  background-color: #101010;\n",
       "  color: #f1f1f1;\n",
       "}\n",
       "#T_937d7_row8_col9, #T_937d7_row9_col9 {\n",
       "  font-size: 6pt;\n",
       "  background-color: #020202;\n",
       "  color: #f1f1f1;\n",
       "}\n",
       "#T_937d7_row8_col11 {\n",
       "  font-size: 6pt;\n",
       "  background-color: #545454;\n",
       "  color: #f1f1f1;\n",
       "}\n",
       "#T_937d7_row8_col12 {\n",
       "  font-size: 6pt;\n",
       "  background-color: #f1f1f1;\n",
       "  color: #000000;\n",
       "}\n",
       "#T_937d7_row9_col5 {\n",
       "  font-size: 6pt;\n",
       "  background-color: #f7f7f7;\n",
       "  color: #000000;\n",
       "}\n",
       "#T_937d7_row9_col7 {\n",
       "  font-size: 6pt;\n",
       "  background-color: #030303;\n",
       "  color: #f1f1f1;\n",
       "}\n",
       "#T_937d7_row9_col12 {\n",
       "  font-size: 6pt;\n",
       "  background-color: #181818;\n",
       "  color: #f1f1f1;\n",
       "}\n",
       "#T_937d7_row9_col13 {\n",
       "  font-size: 6pt;\n",
       "  background-color: #303030;\n",
       "  color: #f1f1f1;\n",
       "}\n",
       "#T_937d7_row9_col14 {\n",
       "  font-size: 6pt;\n",
       "  background-color: #a9a9a9;\n",
       "  color: #f1f1f1;\n",
       "}\n",
       "#T_937d7_row9_col15 {\n",
       "  font-size: 6pt;\n",
       "  background-color: #fefefe;\n",
       "  color: #000000;\n",
       "}\n",
       "#T_937d7_row10_col8, #T_937d7_row10_col9 {\n",
       "  font-size: 6pt;\n",
       "  background-color: #bababa;\n",
       "  color: #000000;\n",
       "}\n",
       "#T_937d7_row10_col10 {\n",
       "  font-size: 6pt;\n",
       "  background-color: #393939;\n",
       "  color: #f1f1f1;\n",
       "}\n",
       "</style>\n",
       "<table id=\"T_937d7\">\n",
       "  <thead>\n",
       "    <tr>\n",
       "      <th class=\"blank level0\" >&nbsp;</th>\n",
       "      <th id=\"T_937d7_level0_col0\" class=\"col_heading level0 col0\" >0</th>\n",
       "      <th id=\"T_937d7_level0_col1\" class=\"col_heading level0 col1\" >1</th>\n",
       "      <th id=\"T_937d7_level0_col2\" class=\"col_heading level0 col2\" >2</th>\n",
       "      <th id=\"T_937d7_level0_col3\" class=\"col_heading level0 col3\" >3</th>\n",
       "      <th id=\"T_937d7_level0_col4\" class=\"col_heading level0 col4\" >4</th>\n",
       "      <th id=\"T_937d7_level0_col5\" class=\"col_heading level0 col5\" >5</th>\n",
       "      <th id=\"T_937d7_level0_col6\" class=\"col_heading level0 col6\" >6</th>\n",
       "      <th id=\"T_937d7_level0_col7\" class=\"col_heading level0 col7\" >7</th>\n",
       "      <th id=\"T_937d7_level0_col8\" class=\"col_heading level0 col8\" >8</th>\n",
       "      <th id=\"T_937d7_level0_col9\" class=\"col_heading level0 col9\" >9</th>\n",
       "      <th id=\"T_937d7_level0_col10\" class=\"col_heading level0 col10\" >10</th>\n",
       "      <th id=\"T_937d7_level0_col11\" class=\"col_heading level0 col11\" >11</th>\n",
       "      <th id=\"T_937d7_level0_col12\" class=\"col_heading level0 col12\" >12</th>\n",
       "      <th id=\"T_937d7_level0_col13\" class=\"col_heading level0 col13\" >13</th>\n",
       "      <th id=\"T_937d7_level0_col14\" class=\"col_heading level0 col14\" >14</th>\n",
       "      <th id=\"T_937d7_level0_col15\" class=\"col_heading level0 col15\" >15</th>\n",
       "      <th id=\"T_937d7_level0_col16\" class=\"col_heading level0 col16\" >16</th>\n",
       "      <th id=\"T_937d7_level0_col17\" class=\"col_heading level0 col17\" >17</th>\n",
       "    </tr>\n",
       "  </thead>\n",
       "  <tbody>\n",
       "    <tr>\n",
       "      <th id=\"T_937d7_level0_row0\" class=\"row_heading level0 row0\" >0</th>\n",
       "      <td id=\"T_937d7_row0_col0\" class=\"data row0 col0\" >0</td>\n",
       "      <td id=\"T_937d7_row0_col1\" class=\"data row0 col1\" >0</td>\n",
       "      <td id=\"T_937d7_row0_col2\" class=\"data row0 col2\" >0</td>\n",
       "      <td id=\"T_937d7_row0_col3\" class=\"data row0 col3\" >0</td>\n",
       "      <td id=\"T_937d7_row0_col4\" class=\"data row0 col4\" >0</td>\n",
       "      <td id=\"T_937d7_row0_col5\" class=\"data row0 col5\" >0</td>\n",
       "      <td id=\"T_937d7_row0_col6\" class=\"data row0 col6\" >0</td>\n",
       "      <td id=\"T_937d7_row0_col7\" class=\"data row0 col7\" >0</td>\n",
       "      <td id=\"T_937d7_row0_col8\" class=\"data row0 col8\" >0</td>\n",
       "      <td id=\"T_937d7_row0_col9\" class=\"data row0 col9\" >0</td>\n",
       "      <td id=\"T_937d7_row0_col10\" class=\"data row0 col10\" >0</td>\n",
       "      <td id=\"T_937d7_row0_col11\" class=\"data row0 col11\" >0</td>\n",
       "      <td id=\"T_937d7_row0_col12\" class=\"data row0 col12\" >0</td>\n",
       "      <td id=\"T_937d7_row0_col13\" class=\"data row0 col13\" >0</td>\n",
       "      <td id=\"T_937d7_row0_col14\" class=\"data row0 col14\" >0</td>\n",
       "      <td id=\"T_937d7_row0_col15\" class=\"data row0 col15\" >0</td>\n",
       "      <td id=\"T_937d7_row0_col16\" class=\"data row0 col16\" >0</td>\n",
       "      <td id=\"T_937d7_row0_col17\" class=\"data row0 col17\" >0</td>\n",
       "    </tr>\n",
       "    <tr>\n",
       "      <th id=\"T_937d7_level0_row1\" class=\"row_heading level0 row1\" >1</th>\n",
       "      <td id=\"T_937d7_row1_col0\" class=\"data row1 col0\" >0</td>\n",
       "      <td id=\"T_937d7_row1_col1\" class=\"data row1 col1\" >0</td>\n",
       "      <td id=\"T_937d7_row1_col2\" class=\"data row1 col2\" >0</td>\n",
       "      <td id=\"T_937d7_row1_col3\" class=\"data row1 col3\" >0</td>\n",
       "      <td id=\"T_937d7_row1_col4\" class=\"data row1 col4\" >0</td>\n",
       "      <td id=\"T_937d7_row1_col5\" class=\"data row1 col5\" >29</td>\n",
       "      <td id=\"T_937d7_row1_col6\" class=\"data row1 col6\" >150</td>\n",
       "      <td id=\"T_937d7_row1_col7\" class=\"data row1 col7\" >195</td>\n",
       "      <td id=\"T_937d7_row1_col8\" class=\"data row1 col8\" >254</td>\n",
       "      <td id=\"T_937d7_row1_col9\" class=\"data row1 col9\" >255</td>\n",
       "      <td id=\"T_937d7_row1_col10\" class=\"data row1 col10\" >254</td>\n",
       "      <td id=\"T_937d7_row1_col11\" class=\"data row1 col11\" >176</td>\n",
       "      <td id=\"T_937d7_row1_col12\" class=\"data row1 col12\" >193</td>\n",
       "      <td id=\"T_937d7_row1_col13\" class=\"data row1 col13\" >150</td>\n",
       "      <td id=\"T_937d7_row1_col14\" class=\"data row1 col14\" >96</td>\n",
       "      <td id=\"T_937d7_row1_col15\" class=\"data row1 col15\" >0</td>\n",
       "      <td id=\"T_937d7_row1_col16\" class=\"data row1 col16\" >0</td>\n",
       "      <td id=\"T_937d7_row1_col17\" class=\"data row1 col17\" >0</td>\n",
       "    </tr>\n",
       "    <tr>\n",
       "      <th id=\"T_937d7_level0_row2\" class=\"row_heading level0 row2\" >2</th>\n",
       "      <td id=\"T_937d7_row2_col0\" class=\"data row2 col0\" >0</td>\n",
       "      <td id=\"T_937d7_row2_col1\" class=\"data row2 col1\" >0</td>\n",
       "      <td id=\"T_937d7_row2_col2\" class=\"data row2 col2\" >0</td>\n",
       "      <td id=\"T_937d7_row2_col3\" class=\"data row2 col3\" >48</td>\n",
       "      <td id=\"T_937d7_row2_col4\" class=\"data row2 col4\" >166</td>\n",
       "      <td id=\"T_937d7_row2_col5\" class=\"data row2 col5\" >224</td>\n",
       "      <td id=\"T_937d7_row2_col6\" class=\"data row2 col6\" >253</td>\n",
       "      <td id=\"T_937d7_row2_col7\" class=\"data row2 col7\" >253</td>\n",
       "      <td id=\"T_937d7_row2_col8\" class=\"data row2 col8\" >234</td>\n",
       "      <td id=\"T_937d7_row2_col9\" class=\"data row2 col9\" >196</td>\n",
       "      <td id=\"T_937d7_row2_col10\" class=\"data row2 col10\" >253</td>\n",
       "      <td id=\"T_937d7_row2_col11\" class=\"data row2 col11\" >253</td>\n",
       "      <td id=\"T_937d7_row2_col12\" class=\"data row2 col12\" >253</td>\n",
       "      <td id=\"T_937d7_row2_col13\" class=\"data row2 col13\" >253</td>\n",
       "      <td id=\"T_937d7_row2_col14\" class=\"data row2 col14\" >233</td>\n",
       "      <td id=\"T_937d7_row2_col15\" class=\"data row2 col15\" >0</td>\n",
       "      <td id=\"T_937d7_row2_col16\" class=\"data row2 col16\" >0</td>\n",
       "      <td id=\"T_937d7_row2_col17\" class=\"data row2 col17\" >0</td>\n",
       "    </tr>\n",
       "    <tr>\n",
       "      <th id=\"T_937d7_level0_row3\" class=\"row_heading level0 row3\" >3</th>\n",
       "      <td id=\"T_937d7_row3_col0\" class=\"data row3 col0\" >0</td>\n",
       "      <td id=\"T_937d7_row3_col1\" class=\"data row3 col1\" >93</td>\n",
       "      <td id=\"T_937d7_row3_col2\" class=\"data row3 col2\" >244</td>\n",
       "      <td id=\"T_937d7_row3_col3\" class=\"data row3 col3\" >249</td>\n",
       "      <td id=\"T_937d7_row3_col4\" class=\"data row3 col4\" >253</td>\n",
       "      <td id=\"T_937d7_row3_col5\" class=\"data row3 col5\" >187</td>\n",
       "      <td id=\"T_937d7_row3_col6\" class=\"data row3 col6\" >46</td>\n",
       "      <td id=\"T_937d7_row3_col7\" class=\"data row3 col7\" >10</td>\n",
       "      <td id=\"T_937d7_row3_col8\" class=\"data row3 col8\" >8</td>\n",
       "      <td id=\"T_937d7_row3_col9\" class=\"data row3 col9\" >4</td>\n",
       "      <td id=\"T_937d7_row3_col10\" class=\"data row3 col10\" >10</td>\n",
       "      <td id=\"T_937d7_row3_col11\" class=\"data row3 col11\" >194</td>\n",
       "      <td id=\"T_937d7_row3_col12\" class=\"data row3 col12\" >253</td>\n",
       "      <td id=\"T_937d7_row3_col13\" class=\"data row3 col13\" >253</td>\n",
       "      <td id=\"T_937d7_row3_col14\" class=\"data row3 col14\" >233</td>\n",
       "      <td id=\"T_937d7_row3_col15\" class=\"data row3 col15\" >0</td>\n",
       "      <td id=\"T_937d7_row3_col16\" class=\"data row3 col16\" >0</td>\n",
       "      <td id=\"T_937d7_row3_col17\" class=\"data row3 col17\" >0</td>\n",
       "    </tr>\n",
       "    <tr>\n",
       "      <th id=\"T_937d7_level0_row4\" class=\"row_heading level0 row4\" >4</th>\n",
       "      <td id=\"T_937d7_row4_col0\" class=\"data row4 col0\" >0</td>\n",
       "      <td id=\"T_937d7_row4_col1\" class=\"data row4 col1\" >107</td>\n",
       "      <td id=\"T_937d7_row4_col2\" class=\"data row4 col2\" >253</td>\n",
       "      <td id=\"T_937d7_row4_col3\" class=\"data row4 col3\" >253</td>\n",
       "      <td id=\"T_937d7_row4_col4\" class=\"data row4 col4\" >230</td>\n",
       "      <td id=\"T_937d7_row4_col5\" class=\"data row4 col5\" >48</td>\n",
       "      <td id=\"T_937d7_row4_col6\" class=\"data row4 col6\" >0</td>\n",
       "      <td id=\"T_937d7_row4_col7\" class=\"data row4 col7\" >0</td>\n",
       "      <td id=\"T_937d7_row4_col8\" class=\"data row4 col8\" >0</td>\n",
       "      <td id=\"T_937d7_row4_col9\" class=\"data row4 col9\" >0</td>\n",
       "      <td id=\"T_937d7_row4_col10\" class=\"data row4 col10\" >0</td>\n",
       "      <td id=\"T_937d7_row4_col11\" class=\"data row4 col11\" >192</td>\n",
       "      <td id=\"T_937d7_row4_col12\" class=\"data row4 col12\" >253</td>\n",
       "      <td id=\"T_937d7_row4_col13\" class=\"data row4 col13\" >253</td>\n",
       "      <td id=\"T_937d7_row4_col14\" class=\"data row4 col14\" >156</td>\n",
       "      <td id=\"T_937d7_row4_col15\" class=\"data row4 col15\" >0</td>\n",
       "      <td id=\"T_937d7_row4_col16\" class=\"data row4 col16\" >0</td>\n",
       "      <td id=\"T_937d7_row4_col17\" class=\"data row4 col17\" >0</td>\n",
       "    </tr>\n",
       "    <tr>\n",
       "      <th id=\"T_937d7_level0_row5\" class=\"row_heading level0 row5\" >5</th>\n",
       "      <td id=\"T_937d7_row5_col0\" class=\"data row5 col0\" >0</td>\n",
       "      <td id=\"T_937d7_row5_col1\" class=\"data row5 col1\" >3</td>\n",
       "      <td id=\"T_937d7_row5_col2\" class=\"data row5 col2\" >20</td>\n",
       "      <td id=\"T_937d7_row5_col3\" class=\"data row5 col3\" >20</td>\n",
       "      <td id=\"T_937d7_row5_col4\" class=\"data row5 col4\" >15</td>\n",
       "      <td id=\"T_937d7_row5_col5\" class=\"data row5 col5\" >0</td>\n",
       "      <td id=\"T_937d7_row5_col6\" class=\"data row5 col6\" >0</td>\n",
       "      <td id=\"T_937d7_row5_col7\" class=\"data row5 col7\" >0</td>\n",
       "      <td id=\"T_937d7_row5_col8\" class=\"data row5 col8\" >0</td>\n",
       "      <td id=\"T_937d7_row5_col9\" class=\"data row5 col9\" >0</td>\n",
       "      <td id=\"T_937d7_row5_col10\" class=\"data row5 col10\" >43</td>\n",
       "      <td id=\"T_937d7_row5_col11\" class=\"data row5 col11\" >224</td>\n",
       "      <td id=\"T_937d7_row5_col12\" class=\"data row5 col12\" >253</td>\n",
       "      <td id=\"T_937d7_row5_col13\" class=\"data row5 col13\" >245</td>\n",
       "      <td id=\"T_937d7_row5_col14\" class=\"data row5 col14\" >74</td>\n",
       "      <td id=\"T_937d7_row5_col15\" class=\"data row5 col15\" >0</td>\n",
       "      <td id=\"T_937d7_row5_col16\" class=\"data row5 col16\" >0</td>\n",
       "      <td id=\"T_937d7_row5_col17\" class=\"data row5 col17\" >0</td>\n",
       "    </tr>\n",
       "    <tr>\n",
       "      <th id=\"T_937d7_level0_row6\" class=\"row_heading level0 row6\" >6</th>\n",
       "      <td id=\"T_937d7_row6_col0\" class=\"data row6 col0\" >0</td>\n",
       "      <td id=\"T_937d7_row6_col1\" class=\"data row6 col1\" >0</td>\n",
       "      <td id=\"T_937d7_row6_col2\" class=\"data row6 col2\" >0</td>\n",
       "      <td id=\"T_937d7_row6_col3\" class=\"data row6 col3\" >0</td>\n",
       "      <td id=\"T_937d7_row6_col4\" class=\"data row6 col4\" >0</td>\n",
       "      <td id=\"T_937d7_row6_col5\" class=\"data row6 col5\" >0</td>\n",
       "      <td id=\"T_937d7_row6_col6\" class=\"data row6 col6\" >0</td>\n",
       "      <td id=\"T_937d7_row6_col7\" class=\"data row6 col7\" >0</td>\n",
       "      <td id=\"T_937d7_row6_col8\" class=\"data row6 col8\" >0</td>\n",
       "      <td id=\"T_937d7_row6_col9\" class=\"data row6 col9\" >0</td>\n",
       "      <td id=\"T_937d7_row6_col10\" class=\"data row6 col10\" >249</td>\n",
       "      <td id=\"T_937d7_row6_col11\" class=\"data row6 col11\" >253</td>\n",
       "      <td id=\"T_937d7_row6_col12\" class=\"data row6 col12\" >245</td>\n",
       "      <td id=\"T_937d7_row6_col13\" class=\"data row6 col13\" >126</td>\n",
       "      <td id=\"T_937d7_row6_col14\" class=\"data row6 col14\" >0</td>\n",
       "      <td id=\"T_937d7_row6_col15\" class=\"data row6 col15\" >0</td>\n",
       "      <td id=\"T_937d7_row6_col16\" class=\"data row6 col16\" >0</td>\n",
       "      <td id=\"T_937d7_row6_col17\" class=\"data row6 col17\" >0</td>\n",
       "    </tr>\n",
       "    <tr>\n",
       "      <th id=\"T_937d7_level0_row7\" class=\"row_heading level0 row7\" >7</th>\n",
       "      <td id=\"T_937d7_row7_col0\" class=\"data row7 col0\" >0</td>\n",
       "      <td id=\"T_937d7_row7_col1\" class=\"data row7 col1\" >0</td>\n",
       "      <td id=\"T_937d7_row7_col2\" class=\"data row7 col2\" >0</td>\n",
       "      <td id=\"T_937d7_row7_col3\" class=\"data row7 col3\" >0</td>\n",
       "      <td id=\"T_937d7_row7_col4\" class=\"data row7 col4\" >0</td>\n",
       "      <td id=\"T_937d7_row7_col5\" class=\"data row7 col5\" >0</td>\n",
       "      <td id=\"T_937d7_row7_col6\" class=\"data row7 col6\" >0</td>\n",
       "      <td id=\"T_937d7_row7_col7\" class=\"data row7 col7\" >14</td>\n",
       "      <td id=\"T_937d7_row7_col8\" class=\"data row7 col8\" >101</td>\n",
       "      <td id=\"T_937d7_row7_col9\" class=\"data row7 col9\" >223</td>\n",
       "      <td id=\"T_937d7_row7_col10\" class=\"data row7 col10\" >253</td>\n",
       "      <td id=\"T_937d7_row7_col11\" class=\"data row7 col11\" >248</td>\n",
       "      <td id=\"T_937d7_row7_col12\" class=\"data row7 col12\" >124</td>\n",
       "      <td id=\"T_937d7_row7_col13\" class=\"data row7 col13\" >0</td>\n",
       "      <td id=\"T_937d7_row7_col14\" class=\"data row7 col14\" >0</td>\n",
       "      <td id=\"T_937d7_row7_col15\" class=\"data row7 col15\" >0</td>\n",
       "      <td id=\"T_937d7_row7_col16\" class=\"data row7 col16\" >0</td>\n",
       "      <td id=\"T_937d7_row7_col17\" class=\"data row7 col17\" >0</td>\n",
       "    </tr>\n",
       "    <tr>\n",
       "      <th id=\"T_937d7_level0_row8\" class=\"row_heading level0 row8\" >8</th>\n",
       "      <td id=\"T_937d7_row8_col0\" class=\"data row8 col0\" >0</td>\n",
       "      <td id=\"T_937d7_row8_col1\" class=\"data row8 col1\" >0</td>\n",
       "      <td id=\"T_937d7_row8_col2\" class=\"data row8 col2\" >0</td>\n",
       "      <td id=\"T_937d7_row8_col3\" class=\"data row8 col3\" >0</td>\n",
       "      <td id=\"T_937d7_row8_col4\" class=\"data row8 col4\" >0</td>\n",
       "      <td id=\"T_937d7_row8_col5\" class=\"data row8 col5\" >11</td>\n",
       "      <td id=\"T_937d7_row8_col6\" class=\"data row8 col6\" >166</td>\n",
       "      <td id=\"T_937d7_row8_col7\" class=\"data row8 col7\" >239</td>\n",
       "      <td id=\"T_937d7_row8_col8\" class=\"data row8 col8\" >253</td>\n",
       "      <td id=\"T_937d7_row8_col9\" class=\"data row8 col9\" >253</td>\n",
       "      <td id=\"T_937d7_row8_col10\" class=\"data row8 col10\" >253</td>\n",
       "      <td id=\"T_937d7_row8_col11\" class=\"data row8 col11\" >187</td>\n",
       "      <td id=\"T_937d7_row8_col12\" class=\"data row8 col12\" >30</td>\n",
       "      <td id=\"T_937d7_row8_col13\" class=\"data row8 col13\" >0</td>\n",
       "      <td id=\"T_937d7_row8_col14\" class=\"data row8 col14\" >0</td>\n",
       "      <td id=\"T_937d7_row8_col15\" class=\"data row8 col15\" >0</td>\n",
       "      <td id=\"T_937d7_row8_col16\" class=\"data row8 col16\" >0</td>\n",
       "      <td id=\"T_937d7_row8_col17\" class=\"data row8 col17\" >0</td>\n",
       "    </tr>\n",
       "    <tr>\n",
       "      <th id=\"T_937d7_level0_row9\" class=\"row_heading level0 row9\" >9</th>\n",
       "      <td id=\"T_937d7_row9_col0\" class=\"data row9 col0\" >0</td>\n",
       "      <td id=\"T_937d7_row9_col1\" class=\"data row9 col1\" >0</td>\n",
       "      <td id=\"T_937d7_row9_col2\" class=\"data row9 col2\" >0</td>\n",
       "      <td id=\"T_937d7_row9_col3\" class=\"data row9 col3\" >0</td>\n",
       "      <td id=\"T_937d7_row9_col4\" class=\"data row9 col4\" >0</td>\n",
       "      <td id=\"T_937d7_row9_col5\" class=\"data row9 col5\" >16</td>\n",
       "      <td id=\"T_937d7_row9_col6\" class=\"data row9 col6\" >248</td>\n",
       "      <td id=\"T_937d7_row9_col7\" class=\"data row9 col7\" >250</td>\n",
       "      <td id=\"T_937d7_row9_col8\" class=\"data row9 col8\" >253</td>\n",
       "      <td id=\"T_937d7_row9_col9\" class=\"data row9 col9\" >253</td>\n",
       "      <td id=\"T_937d7_row9_col10\" class=\"data row9 col10\" >253</td>\n",
       "      <td id=\"T_937d7_row9_col11\" class=\"data row9 col11\" >253</td>\n",
       "      <td id=\"T_937d7_row9_col12\" class=\"data row9 col12\" >232</td>\n",
       "      <td id=\"T_937d7_row9_col13\" class=\"data row9 col13\" >213</td>\n",
       "      <td id=\"T_937d7_row9_col14\" class=\"data row9 col14\" >111</td>\n",
       "      <td id=\"T_937d7_row9_col15\" class=\"data row9 col15\" >2</td>\n",
       "      <td id=\"T_937d7_row9_col16\" class=\"data row9 col16\" >0</td>\n",
       "      <td id=\"T_937d7_row9_col17\" class=\"data row9 col17\" >0</td>\n",
       "    </tr>\n",
       "    <tr>\n",
       "      <th id=\"T_937d7_level0_row10\" class=\"row_heading level0 row10\" >10</th>\n",
       "      <td id=\"T_937d7_row10_col0\" class=\"data row10 col0\" >0</td>\n",
       "      <td id=\"T_937d7_row10_col1\" class=\"data row10 col1\" >0</td>\n",
       "      <td id=\"T_937d7_row10_col2\" class=\"data row10 col2\" >0</td>\n",
       "      <td id=\"T_937d7_row10_col3\" class=\"data row10 col3\" >0</td>\n",
       "      <td id=\"T_937d7_row10_col4\" class=\"data row10 col4\" >0</td>\n",
       "      <td id=\"T_937d7_row10_col5\" class=\"data row10 col5\" >0</td>\n",
       "      <td id=\"T_937d7_row10_col6\" class=\"data row10 col6\" >0</td>\n",
       "      <td id=\"T_937d7_row10_col7\" class=\"data row10 col7\" >43</td>\n",
       "      <td id=\"T_937d7_row10_col8\" class=\"data row10 col8\" >98</td>\n",
       "      <td id=\"T_937d7_row10_col9\" class=\"data row10 col9\" >98</td>\n",
       "      <td id=\"T_937d7_row10_col10\" class=\"data row10 col10\" >208</td>\n",
       "      <td id=\"T_937d7_row10_col11\" class=\"data row10 col11\" >253</td>\n",
       "      <td id=\"T_937d7_row10_col12\" class=\"data row10 col12\" >253</td>\n",
       "      <td id=\"T_937d7_row10_col13\" class=\"data row10 col13\" >253</td>\n",
       "      <td id=\"T_937d7_row10_col14\" class=\"data row10 col14\" >253</td>\n",
       "      <td id=\"T_937d7_row10_col15\" class=\"data row10 col15\" >187</td>\n",
       "      <td id=\"T_937d7_row10_col16\" class=\"data row10 col16\" >22</td>\n",
       "      <td id=\"T_937d7_row10_col17\" class=\"data row10 col17\" >0</td>\n",
       "    </tr>\n",
       "  </tbody>\n",
       "</table>\n"
      ],
      "text/plain": [
       "<pandas.io.formats.style.Styler at 0x7f79e4fc0f50>"
      ]
     },
     "execution_count": 11,
     "metadata": {},
     "output_type": "execute_result"
    }
   ],
   "source": [
    "im3_t = tensor(im3)\n",
    "df = pd.DataFrame(im3_t[4:15,4:22])\n",
    "df.style.set_properties(**{'font-size':'6pt'}).background_gradient('Greys')"
   ]
  },
  {
   "cell_type": "markdown",
   "metadata": {},
   "source": [
    "## First Try: Pixel Similarity"
   ]
  },
  {
   "cell_type": "code",
   "execution_count": 12,
   "metadata": {},
   "outputs": [
    {
     "data": {
      "text/plain": [
       "(6131, 6265)"
      ]
     },
     "execution_count": 12,
     "metadata": {},
     "output_type": "execute_result"
    }
   ],
   "source": [
    "seven_tensors = [tensor(Image.open(o)) for o in sevens]\n",
    "three_tensors = [tensor(Image.open(o)) for o in threes]\n",
    "len(three_tensors),len(seven_tensors)"
   ]
  },
  {
   "cell_type": "code",
   "execution_count": 13,
   "metadata": {},
   "outputs": [
    {
     "data": {
      "image/png": "[encoded data removed]",
      "text/plain": [
       "<Figure size 100x100 with 1 Axes>"
      ]
     },
     "metadata": {},
     "output_type": "display_data"
    }
   ],
   "source": [
    "show_image(three_tensors[1]);"
   ]
  },
  {
   "cell_type": "code",
   "execution_count": 14,
   "metadata": {},
   "outputs": [
    {
     "data": {
      "text/plain": [
       "torch.Size([6131, 28, 28])"
      ]
     },
     "execution_count": 14,
     "metadata": {},
     "output_type": "execute_result"
    }
   ],
   "source": [
    "stacked_sevens = torch.stack(seven_tensors).float()/255\n",
    "stacked_threes = torch.stack(three_tensors).float()/255\n",
    "stacked_threes.shape"
   ]
  },
  {
   "cell_type": "code",
   "execution_count": 15,
   "metadata": {},
   "outputs": [
    {
     "data": {
      "text/plain": [
       "3"
      ]
     },
     "execution_count": 15,
     "metadata": {},
     "output_type": "execute_result"
    }
   ],
   "source": [
    "len(stacked_threes.shape)"
   ]
  },
  {
   "cell_type": "code",
   "execution_count": 16,
   "metadata": {},
   "outputs": [
    {
     "data": {
      "text/plain": [
       "3"
      ]
     },
     "execution_count": 16,
     "metadata": {},
     "output_type": "execute_result"
    }
   ],
   "source": [
    "stacked_threes.ndim"
   ]
  },
  {
   "cell_type": "code",
   "execution_count": 17,
   "metadata": {},
   "outputs": [
    {
     "data": {
      "image/png": "[encoded data removed]",
      "text/plain": [
       "<Figure size 100x100 with 1 Axes>"
      ]
     },
     "metadata": {},
     "output_type": "display_data"
    }
   ],
   "source": [
    "mean3 = stacked_threes.mean(0) # the key here is mean3 and 7\n",
    "show_image(mean3);"
   ]
  },
  {
   "cell_type": "code",
   "execution_count": 18,
   "metadata": {},
   "outputs": [
    {
     "data": {
      "image/png": "[encoded data removed]",
      "text/plain": [
       "<Figure size 100x100 with 1 Axes>"
      ]
     },
     "metadata": {},
     "output_type": "display_data"
    }
   ],
   "source": [
    "mean7 = stacked_sevens.mean(0)\n",
    "show_image(mean7);"
   ]
  },
  {
   "cell_type": "code",
   "execution_count": 19,
   "metadata": {},
   "outputs": [
    {
     "data": {
      "image/png": "[encoded data removed]",
      "text/plain": [
       "<Figure size 100x100 with 1 Axes>"
      ]
     },
     "metadata": {},
     "output_type": "display_data"
    }
   ],
   "source": [
    "a_3 = stacked_threes[1]\n",
    "show_image(a_3);"
   ]
  },
  {
   "cell_type": "code",
   "execution_count": 20,
   "metadata": {},
   "outputs": [
    {
     "data": {
      "text/plain": [
       "(tensor(0.1114), tensor(0.2021))"
      ]
     },
     "execution_count": 20,
     "metadata": {},
     "output_type": "execute_result"
    }
   ],
   "source": [
    "dist_3_abs = (a_3 - mean3).abs().mean()\n",
    "dist_3_sqr = ((a_3 - mean3)**2).mean().sqrt()\n",
    "dist_3_abs,dist_3_sqr  # the distance of a_3 to ideal 3 is small than from a_3 to ideal7 therefore it is a 3 (obviously because we chosed a 3)"
   ]
  },
  {
   "cell_type": "code",
   "execution_count": 22,
   "metadata": {},
   "outputs": [
    {
     "data": {
      "text/plain": [
       "(tensor(0.1586), tensor(0.3021))"
      ]
     },
     "execution_count": 22,
     "metadata": {},
     "output_type": "execute_result"
    }
   ],
   "source": [
    "dist_7_abs = (a_3 - mean7).abs().mean()\n",
    "dist_7_sqr = ((a_3 - mean7)**2).mean().sqrt()\n",
    "dist_7_abs,dist_7_sqr"
   ]
  },
  {
   "cell_type": "code",
   "execution_count": 23,
   "metadata": {},
   "outputs": [
    {
     "data": {
      "text/plain": [
       "(tensor(0.1586), tensor(0.3021))"
      ]
     },
     "execution_count": 23,
     "metadata": {},
     "output_type": "execute_result"
    }
   ],
   "source": [
    "F.l1_loss(a_3.float(),mean7), F.mse_loss(a_3,mean7).sqrt()"
   ]
  },
  {
   "cell_type": "markdown",
   "metadata": {},
   "source": [
    "### NumPy Arrays and PyTorch Tensors"
   ]
  },
  {
   "cell_type": "code",
   "execution_count": null,
   "metadata": {},
   "outputs": [],
   "source": [
    "data = [[1,2,3],[4,5,6]]\n",
    "arr = array (data)\n",
    "tns = tensor(data)"
   ]
  },
  {
   "cell_type": "code",
   "execution_count": null,
   "metadata": {},
   "outputs": [],
   "source": [
    "arr  # numpy   "
   ]
  },
  {
   "cell_type": "code",
   "execution_count": null,
   "metadata": {},
   "outputs": [],
   "source": [
    "tns  # pytorch  "
   ]
  },
  {
   "cell_type": "code",
   "execution_count": null,
   "metadata": {},
   "outputs": [],
   "source": [
    "tns[1]"
   ]
  },
  {
   "cell_type": "code",
   "execution_count": null,
   "metadata": {},
   "outputs": [],
   "source": [
    "tns[:,1]"
   ]
  },
  {
   "cell_type": "code",
   "execution_count": null,
   "metadata": {},
   "outputs": [],
   "source": [
    "tns[1,1:3]"
   ]
  },
  {
   "cell_type": "code",
   "execution_count": null,
   "metadata": {},
   "outputs": [],
   "source": [
    "tns+1"
   ]
  },
  {
   "cell_type": "code",
   "execution_count": null,
   "metadata": {},
   "outputs": [],
   "source": [
    "tns.type()"
   ]
  },
  {
   "cell_type": "code",
   "execution_count": null,
   "metadata": {},
   "outputs": [],
   "source": [
    "tns*1.5"
   ]
  },
  {
   "cell_type": "markdown",
   "metadata": {},
   "source": [
    "## Computing Metrics Using Broadcasting"
   ]
  },
  {
   "cell_type": "code",
   "execution_count": 24,
   "metadata": {},
   "outputs": [
    {
     "data": {
      "text/plain": [
       "(torch.Size([1010, 28, 28]), torch.Size([1028, 28, 28]))"
      ]
     },
     "execution_count": 24,
     "metadata": {},
     "output_type": "execute_result"
    }
   ],
   "source": [
    "valid_3_tens = torch.stack([tensor(Image.open(o)) \n",
    "                            for o in (path/'valid'/'3').ls()])\n",
    "valid_3_tens = valid_3_tens.float()/255\n",
    "valid_7_tens = torch.stack([tensor(Image.open(o)) \n",
    "                            for o in (path/'valid'/'7').ls()])\n",
    "valid_7_tens = valid_7_tens.float()/255\n",
    "valid_3_tens.shape,valid_7_tens.shape"
   ]
  },
  {
   "cell_type": "code",
   "execution_count": 25,
   "metadata": {},
   "outputs": [
    {
     "data": {
      "text/plain": [
       "tensor(0.1114)"
      ]
     },
     "execution_count": 25,
     "metadata": {},
     "output_type": "execute_result"
    }
   ],
   "source": [
    "def mnist_distance(a,b): return (a-b).abs().mean((-1,-2))\n",
    "mnist_distance(a_3, mean3)"
   ]
  },
  {
   "cell_type": "code",
   "execution_count": 26,
   "metadata": {},
   "outputs": [
    {
     "data": {
      "text/plain": [
       "(tensor([0.1086, 0.1092, 0.1124,  ..., 0.1368, 0.1382, 0.1187]),\n",
       " torch.Size([1010]))"
      ]
     },
     "execution_count": 26,
     "metadata": {},
     "output_type": "execute_result"
    }
   ],
   "source": [
    "valid_3_dist = mnist_distance(valid_3_tens, mean3)  # the key is calculating mean3 and 7\n",
    "valid_3_dist, valid_3_dist.shape"
   ]
  },
  {
   "cell_type": "code",
   "execution_count": null,
   "metadata": {},
   "outputs": [],
   "source": [
    "tensor([1,2,3]) + tensor(1)"
   ]
  },
  {
   "cell_type": "code",
   "execution_count": 27,
   "metadata": {},
   "outputs": [
    {
     "data": {
      "text/plain": [
       "torch.Size([1010, 28, 28])"
      ]
     },
     "execution_count": 27,
     "metadata": {},
     "output_type": "execute_result"
    }
   ],
   "source": [
    "(valid_3_tens-mean3).shape"
   ]
  },
  {
   "cell_type": "code",
   "execution_count": 28,
   "metadata": {},
   "outputs": [],
   "source": [
    "def is_3(x): return mnist_distance(x,mean3) < mnist_distance(x,mean7)"
   ]
  },
  {
   "cell_type": "code",
   "execution_count": 29,
   "metadata": {},
   "outputs": [
    {
     "data": {
      "text/plain": [
       "(tensor(True), tensor(1.))"
      ]
     },
     "execution_count": 29,
     "metadata": {},
     "output_type": "execute_result"
    }
   ],
   "source": [
    "is_3(a_3), is_3(a_3).float()"
   ]
  },
  {
   "cell_type": "code",
   "execution_count": 30,
   "metadata": {},
   "outputs": [
    {
     "data": {
      "text/plain": [
       "tensor([True, True, True,  ..., True, True, True])"
      ]
     },
     "execution_count": 30,
     "metadata": {},
     "output_type": "execute_result"
    }
   ],
   "source": [
    "is_3(valid_3_tens)"
   ]
  },
  {
   "cell_type": "code",
   "execution_count": 32,
   "metadata": {},
   "outputs": [
    {
     "data": {
      "text/plain": [
       "(tensor(0.9168), tensor(0.9854), tensor(0.9511))"
      ]
     },
     "execution_count": 32,
     "metadata": {},
     "output_type": "execute_result"
    }
   ],
   "source": [
    "accuracy_3s =      is_3(valid_3_tens).float() .mean()  # is using valids and not train because we didn't train anything here, we don't have a function to train for now\n",
    "accuracy_7s = (1 - is_3(valid_7_tens).float()).mean()\n",
    "\n",
    "accuracy_3s,accuracy_7s,(accuracy_3s+accuracy_7s)/2"
   ]
  },
  {
   "cell_type": "markdown",
   "metadata": {},
   "source": [
    "## Stochastic Gradient Descent (SGD)  \n",
    "shows GD with a loss function without being related to the MNIST data set from the beginning"
   ]
  },
  {
   "cell_type": "code",
   "execution_count": 38,
   "metadata": {
    "execution": {
     "iopub.execute_input": "2023-11-08T17:36:30.556097Z",
     "iopub.status.busy": "2023-11-08T17:36:30.555867Z",
     "iopub.status.idle": "2023-11-08T17:36:30.576975Z",
     "shell.execute_reply": "2023-11-08T17:36:30.576359Z",
     "shell.execute_reply.started": "2023-11-08T17:36:30.556081Z"
    }
   },
   "outputs": [
    {
     "data": {
      "image/svg+xml": [
       "<?xml version=\"1.0\" encoding=\"UTF-8\" standalone=\"no\"?>\n",
       "<!DOCTYPE svg PUBLIC \"-//W3C//DTD SVG 1.1//EN\"\n",
       " \"http://www.w3.org/Graphics/SVG/1.1/DTD/svg11.dtd\">\n",
       "<!-- Generated by graphviz version 7.1.0 (20230122.1345)\n",
       " -->\n",
       "<!-- Title: G Pages: 1 -->\n",
       "<svg width=\"661pt\" height=\"78pt\"\n",
       " viewBox=\"0.00 0.00 660.87 78.00\" xmlns=\"http://www.w3.org/2000/svg\" xmlns:xlink=\"http://www.w3.org/1999/xlink\">\n",
       "<g id=\"graph0\" class=\"graph\" transform=\"scale(1 1) rotate(0) translate(4 74)\">\n",
       "<title>G</title>\n",
       "<polygon fill=\"white\" stroke=\"none\" points=\"-4,4 -4,-74 656.87,-74 656.87,4 -4,4\"/>\n",
       "<!-- init -->\n",
       "<g id=\"node1\" class=\"node\">\n",
       "<title>init</title>\n",
       "<ellipse fill=\"none\" stroke=\"black\" cx=\"27\" cy=\"-18\" rx=\"27\" ry=\"18\"/>\n",
       "<text text-anchor=\"middle\" x=\"27\" y=\"-14.3\" font-family=\"Times,serif\" font-size=\"14.00\">init</text>\n",
       "</g>\n",
       "<!-- predict -->\n",
       "<g id=\"node2\" class=\"node\">\n",
       "<title>predict</title>\n",
       "<ellipse fill=\"none\" stroke=\"black\" cx=\"135.2\" cy=\"-18\" rx=\"44.39\" ry=\"18\"/>\n",
       "<text text-anchor=\"middle\" x=\"135.2\" y=\"-14.3\" font-family=\"Times,serif\" font-size=\"14.00\">predict</text>\n",
       "</g>\n",
       "<!-- init&#45;&gt;predict -->\n",
       "<g id=\"edge1\" class=\"edge\">\n",
       "<title>init&#45;&gt;predict</title>\n",
       "<path fill=\"none\" stroke=\"black\" d=\"M54.25,-18C61.85,-18 70.45,-18 79.12,-18\"/>\n",
       "<polygon fill=\"black\" stroke=\"black\" points=\"78.96,-21.5 88.96,-18 78.96,-14.5 78.96,-21.5\"/>\n",
       "</g>\n",
       "<!-- loss -->\n",
       "<g id=\"node3\" class=\"node\">\n",
       "<title>loss</title>\n",
       "<ellipse fill=\"none\" stroke=\"black\" cx=\"244.99\" cy=\"-52\" rx=\"28.7\" ry=\"18\"/>\n",
       "<text text-anchor=\"middle\" x=\"244.99\" y=\"-48.3\" font-family=\"Times,serif\" font-size=\"14.00\">loss</text>\n",
       "</g>\n",
       "<!-- predict&#45;&gt;loss -->\n",
       "<g id=\"edge2\" class=\"edge\">\n",
       "<title>predict&#45;&gt;loss</title>\n",
       "<path fill=\"none\" stroke=\"black\" d=\"M171.19,-29.04C182.93,-32.74 196.04,-36.88 207.87,-40.61\"/>\n",
       "<polygon fill=\"black\" stroke=\"black\" points=\"206.69,-43.9 217.28,-43.58 208.8,-37.23 206.69,-43.9\"/>\n",
       "</g>\n",
       "<!-- gradient -->\n",
       "<g id=\"node4\" class=\"node\">\n",
       "<title>gradient</title>\n",
       "<ellipse fill=\"none\" stroke=\"black\" cx=\"406.63\" cy=\"-52\" rx=\"50.09\" ry=\"18\"/>\n",
       "<text text-anchor=\"middle\" x=\"406.63\" y=\"-48.3\" font-family=\"Times,serif\" font-size=\"14.00\">gradient</text>\n",
       "</g>\n",
       "<!-- loss&#45;&gt;gradient -->\n",
       "<g id=\"edge3\" class=\"edge\">\n",
       "<title>loss&#45;&gt;gradient</title>\n",
       "<path fill=\"none\" stroke=\"black\" d=\"M274.16,-52C293.71,-52 320.51,-52 344.81,-52\"/>\n",
       "<polygon fill=\"black\" stroke=\"black\" points=\"344.61,-55.5 354.61,-52 344.61,-48.5 344.61,-55.5\"/>\n",
       "</g>\n",
       "<!-- step -->\n",
       "<g id=\"node5\" class=\"node\">\n",
       "<title>step</title>\n",
       "<ellipse fill=\"none\" stroke=\"black\" cx=\"524.23\" cy=\"-18\" rx=\"30.59\" ry=\"18\"/>\n",
       "<text text-anchor=\"middle\" x=\"524.23\" y=\"-14.3\" font-family=\"Times,serif\" font-size=\"14.00\">step</text>\n",
       "</g>\n",
       "<!-- gradient&#45;&gt;step -->\n",
       "<g id=\"edge4\" class=\"edge\">\n",
       "<title>gradient&#45;&gt;step</title>\n",
       "<path fill=\"none\" stroke=\"black\" d=\"M446.12,-40.68C458.69,-36.98 472.64,-32.88 485.18,-29.19\"/>\n",
       "<polygon fill=\"black\" stroke=\"black\" points=\"486.16,-32.55 494.77,-26.37 484.18,-25.84 486.16,-32.55\"/>\n",
       "</g>\n",
       "<!-- step&#45;&gt;predict -->\n",
       "<g id=\"edge6\" class=\"edge\">\n",
       "<title>step&#45;&gt;predict</title>\n",
       "<path fill=\"none\" stroke=\"black\" d=\"M493.24,-18C428.38,-18 274.25,-18 191.3,-18\"/>\n",
       "<polygon fill=\"black\" stroke=\"black\" points=\"191.35,-14.5 181.35,-18 191.35,-21.5 191.35,-14.5\"/>\n",
       "<text text-anchor=\"middle\" x=\"315.09\" y=\"-21.8\" font-family=\"Times,serif\" font-size=\"14.00\">repeat</text>\n",
       "</g>\n",
       "<!-- stop -->\n",
       "<g id=\"node6\" class=\"node\">\n",
       "<title>stop</title>\n",
       "<ellipse fill=\"none\" stroke=\"black\" cx=\"622.32\" cy=\"-18\" rx=\"30.59\" ry=\"18\"/>\n",
       "<text text-anchor=\"middle\" x=\"622.32\" y=\"-14.3\" font-family=\"Times,serif\" font-size=\"14.00\">stop</text>\n",
       "</g>\n",
       "<!-- step&#45;&gt;stop -->\n",
       "<g id=\"edge5\" class=\"edge\">\n",
       "<title>step&#45;&gt;stop</title>\n",
       "<path fill=\"none\" stroke=\"black\" d=\"M555.1,-18C563.06,-18 571.79,-18 580.23,-18\"/>\n",
       "<polygon fill=\"black\" stroke=\"black\" points=\"579.95,-21.5 589.95,-18 579.95,-14.5 579.95,-21.5\"/>\n",
       "</g>\n",
       "</g>\n",
       "</svg>\n"
      ],
      "text/plain": [
       "<graphviz.sources.Source at 0x7f5d783bbe10>"
      ]
     },
     "execution_count": 38,
     "metadata": {},
     "output_type": "execute_result"
    }
   ],
   "source": [
    "gv('''\n",
    "init->predict->loss->gradient->step->stop\n",
    "step->predict[label=repeat]\n",
    "''')"
   ]
  },
  {
   "cell_type": "code",
   "execution_count": 36,
   "metadata": {},
   "outputs": [],
   "source": [
    "def f(x): return x**2  # this is our loss function; loss is a function of the weight x"
   ]
  },
  {
   "cell_type": "code",
   "execution_count": 37,
   "metadata": {},
   "outputs": [
    {
     "data": {
      "image/png": "[encoded data removed]",
      "text/plain": [
       "<Figure size 600x400 with 1 Axes>"
      ]
     },
     "metadata": {},
     "output_type": "display_data"
    }
   ],
   "source": [
    "plot_function(f, 'x', 'x**2')"
   ]
  },
  {
   "cell_type": "code",
   "execution_count": 38,
   "metadata": {},
   "outputs": [
    {
     "data": {
      "image/png": "[encoded data removed]",
      "text/plain": [
       "<Figure size 600x400 with 1 Axes>"
      ]
     },
     "metadata": {},
     "output_type": "display_data"
    }
   ],
   "source": [
    "plot_function(f, 'x', 'x**2')\n",
    "plt.scatter(-1.5, f(-1.5), color='red');  # step 1 initialize the weight to -1.5 and calculate the loss (red dot)"
   ]
  },
  {
   "cell_type": "markdown",
   "metadata": {},
   "source": [
    "### Calculating Gradients"
   ]
  },
  {
   "cell_type": "code",
   "execution_count": 39,
   "metadata": {},
   "outputs": [],
   "source": [
    "xt = tensor(3.).requires_grad_()  # the parameter x (weight) is 3 and we want gradient/slope at 3"
   ]
  },
  {
   "cell_type": "code",
   "execution_count": 40,
   "metadata": {},
   "outputs": [
    {
     "data": {
      "text/plain": [
       "tensor(9., grad_fn=<PowBackward0>)"
      ]
     },
     "execution_count": 40,
     "metadata": {},
     "output_type": "execute_result"
    }
   ],
   "source": [
    "yt = f(xt)\n",
    "yt"
   ]
  },
  {
   "cell_type": "code",
   "execution_count": 41,
   "metadata": {},
   "outputs": [],
   "source": [
    "yt.backward()  # calculate gradient at 3/9"
   ]
  },
  {
   "cell_type": "code",
   "execution_count": 42,
   "metadata": {},
   "outputs": [
    {
     "data": {
      "text/plain": [
       "tensor(6.)"
      ]
     },
     "execution_count": 42,
     "metadata": {},
     "output_type": "execute_result"
    }
   ],
   "source": [
    "xt.grad  # show the gradient at 3; the gradient is derivate of x**2 = 2*x = 2*3"
   ]
  },
  {
   "cell_type": "code",
   "execution_count": 43,
   "metadata": {},
   "outputs": [
    {
     "data": {
      "text/plain": [
       "tensor([ 3.,  4., 10.], requires_grad=True)"
      ]
     },
     "execution_count": 43,
     "metadata": {},
     "output_type": "execute_result"
    }
   ],
   "source": [
    "xt = tensor([3.,4.,10.]).requires_grad_()  # a more complicated loss function with 3 weights instead of 1\n",
    "xt"
   ]
  },
  {
   "cell_type": "code",
   "execution_count": 44,
   "metadata": {},
   "outputs": [
    {
     "data": {
      "text/plain": [
       "tensor(125., grad_fn=<SumBackward0>)"
      ]
     },
     "execution_count": 44,
     "metadata": {},
     "output_type": "execute_result"
    }
   ],
   "source": [
    "def f(x): return (x**2).sum()  # the loss returns a scalar; why scalar and not a vector/tensor-1 as the input x?\n",
    "\n",
    "yt = f(xt)\n",
    "yt"
   ]
  },
  {
   "cell_type": "code",
   "execution_count": 45,
   "metadata": {},
   "outputs": [
    {
     "data": {
      "text/plain": [
       "tensor([ 6.,  8., 20.])"
      ]
     },
     "execution_count": 45,
     "metadata": {},
     "output_type": "execute_result"
    }
   ],
   "source": [
    "yt.backward()  # calculate gradients\n",
    "xt.grad"
   ]
  },
  {
   "cell_type": "markdown",
   "metadata": {},
   "source": [
    "### Stepping With a Learning Rate"
   ]
  },
  {
   "cell_type": "markdown",
   "metadata": {},
   "source": [
    "### An End-to-End SGD Example"
   ]
  },
  {
   "cell_type": "code",
   "execution_count": 46,
   "metadata": {},
   "outputs": [
    {
     "data": {
      "text/plain": [
       "tensor([ 0.,  1.,  2.,  3.,  4.,  5.,  6.,  7.,  8.,  9., 10., 11., 12., 13., 14., 15., 16., 17., 18., 19.])"
      ]
     },
     "execution_count": 46,
     "metadata": {},
     "output_type": "execute_result"
    }
   ],
   "source": [
    "time = torch.arange(0,20).float();  # a tensor with 20 time intervals from 0 to 19\n",
    "time"
   ]
  },
  {
   "cell_type": "code",
   "execution_count": 47,
   "metadata": {},
   "outputs": [
    {
     "data": {
      "image/png": "[encoded data removed]",
      "text/plain": [
       "<Figure size 640x480 with 1 Axes>"
      ]
     },
     "metadata": {},
     "output_type": "display_data"
    }
   ],
   "source": [
    "speed = torch.randn(20)*3 + 0.75*(time-9.5)**2 + 1  # speed are some values for speed that were supposedly measured every 20s\n",
    "plt.scatter(time,speed);                            # they are recorded data, target data"
   ]
  },
  {
   "cell_type": "code",
   "execution_count": 48,
   "metadata": {},
   "outputs": [],
   "source": [
    "def f(t, params):                     # f is a function that aim to match the points above; we guess it's quadratic\n",
    "    a,b,c = params                    # input is time and parameters are a,b,c\n",
    "    return a*(t**2) + (b*t) + c       "
   ]
  },
  {
   "cell_type": "code",
   "execution_count": 49,
   "metadata": {},
   "outputs": [],
   "source": [
    "def mse(preds, targets): return ((preds-targets)**2).mean()  # define the loss function, the mse between predictions and targets"
   ]
  },
  {
   "cell_type": "markdown",
   "metadata": {},
   "source": [
    "#### Step 1: Initialize the parameters"
   ]
  },
  {
   "cell_type": "code",
   "execution_count": 50,
   "metadata": {},
   "outputs": [],
   "source": [
    "params = torch.randn(3).requires_grad_()  # initialize the parameters with some random values; the params the the a,b,c of the quadratic function we want to find"
   ]
  },
  {
   "cell_type": "code",
   "execution_count": 51,
   "metadata": {},
   "outputs": [],
   "source": [
    "#hide\n",
    "orig_params = params.clone()"
   ]
  },
  {
   "cell_type": "markdown",
   "metadata": {},
   "source": [
    "#### Step 2: Calculate the predictions"
   ]
  },
  {
   "cell_type": "code",
   "execution_count": 52,
   "metadata": {},
   "outputs": [],
   "source": [
    "preds = f(time, params)  # calculate the prediction of the quadratic f with the random params"
   ]
  },
  {
   "cell_type": "code",
   "execution_count": 53,
   "metadata": {},
   "outputs": [],
   "source": [
    "def show_preds(preds, ax=None):\n",
    "    if ax is None: ax=plt.subplots()[1]\n",
    "    ax.scatter(time, speed)\n",
    "    ax.scatter(time, to_np(preds), color='red')\n",
    "    ax.set_ylim(-300,100)"
   ]
  },
  {
   "cell_type": "code",
   "execution_count": 54,
   "metadata": {},
   "outputs": [
    {
     "data": {
      "image/png": "[encoded data removed]",
      "text/plain": [
       "<Figure size 640x480 with 1 Axes>"
      ]
     },
     "metadata": {},
     "output_type": "display_data"
    }
   ],
   "source": [
    "show_preds(preds)  # show predictions (red) with 1st choice of random parameters (params)"
   ]
  },
  {
   "cell_type": "markdown",
   "metadata": {},
   "source": [
    "#### Step 3: Calculate the loss"
   ]
  },
  {
   "cell_type": "code",
   "execution_count": 55,
   "metadata": {},
   "outputs": [
    {
     "data": {
      "text/plain": [
       "tensor(25823.8086, grad_fn=<MeanBackward0>)"
      ]
     },
     "execution_count": 55,
     "metadata": {},
     "output_type": "execute_result"
    }
   ],
   "source": [
    "loss = mse(preds, speed)  # the loss is mse between predictions and measured speed\n",
    "loss"
   ]
  },
  {
   "cell_type": "markdown",
   "metadata": {},
   "source": [
    "#### Step 4: Calculate the gradients"
   ]
  },
  {
   "cell_type": "code",
   "execution_count": 56,
   "metadata": {},
   "outputs": [
    {
     "data": {
      "text/plain": [
       "tensor([-53195.8633,  -3419.7148,   -253.8908])"
      ]
     },
     "execution_count": 56,
     "metadata": {},
     "output_type": "execute_result"
    }
   ],
   "source": [
    "loss.backward()  # calculate gradients by derivating the loss function; find each gradient by derivating each ax**2 and keeping the rest as a constant\n",
    "params.grad      # gradients are \"attached\" to params because it shows in which direction to change the params a,b,c  "
   ]
  },
  {
   "cell_type": "code",
   "execution_count": 57,
   "metadata": {},
   "outputs": [
    {
     "data": {
      "text/plain": [
       "tensor([-0.5320, -0.0342, -0.0025])"
      ]
     },
     "execution_count": 57,
     "metadata": {},
     "output_type": "execute_result"
    }
   ],
   "source": [
    "params.grad * 1e-5  # the step with who we adjust the gradients: -53k * 0.00001 = 0.5320"
   ]
  },
  {
   "cell_type": "code",
   "execution_count": 61,
   "metadata": {
    "execution": {
     "iopub.execute_input": "2023-11-08T17:37:24.037631Z",
     "iopub.status.busy": "2023-11-08T17:37:24.036932Z",
     "iopub.status.idle": "2023-11-08T17:37:24.045781Z",
     "shell.execute_reply": "2023-11-08T17:37:24.045166Z",
     "shell.execute_reply.started": "2023-11-08T17:37:24.037566Z"
    }
   },
   "outputs": [
    {
     "data": {
      "text/plain": [
       "tensor([ 0.6863,  0.4679, -0.2049], requires_grad=True)"
      ]
     },
     "execution_count": 61,
     "metadata": {},
     "output_type": "execute_result"
    }
   ],
   "source": [
    "params  # these are the parameters before being adjusted with the learning rate"
   ]
  },
  {
   "cell_type": "code",
   "execution_count": 62,
   "metadata": {
    "execution": {
     "iopub.execute_input": "2023-11-08T17:37:25.074367Z",
     "iopub.status.busy": "2023-11-08T17:37:25.074137Z",
     "iopub.status.idle": "2023-11-08T17:37:25.077307Z",
     "shell.execute_reply": "2023-11-08T17:37:25.076668Z",
     "shell.execute_reply.started": "2023-11-08T17:37:25.074350Z"
    }
   },
   "outputs": [],
   "source": [
    "#params.data # is the same as params\n",
    "#params.grad.data  #  "
   ]
  },
  {
   "cell_type": "markdown",
   "metadata": {},
   "source": [
    "#### Step 5: Step the weights. "
   ]
  },
  {
   "cell_type": "code",
   "execution_count": 63,
   "metadata": {
    "execution": {
     "iopub.execute_input": "2023-11-08T17:38:29.493068Z",
     "iopub.status.busy": "2023-11-08T17:38:29.492021Z",
     "iopub.status.idle": "2023-11-08T17:38:29.498259Z",
     "shell.execute_reply": "2023-11-08T17:38:29.497768Z",
     "shell.execute_reply.started": "2023-11-08T17:38:29.493021Z"
    }
   },
   "outputs": [],
   "source": [
    "# w -=gradient(w)*lr\n",
    "# adjusts the parameter in the direction of the slope (gradient)\n",
    "# increasing the parameter when the slope (gradient) is negative and decreasing the parameter when the slope is positive\n",
    "lr = 1e-5\n",
    "params.data -= lr * params.grad.data  # how to change our parameters based on the values of the gradients\t                            \n",
    "params.grad = None                    # multiplying the gradient by some small number, called the learning rate (LR)"
   ]
  },
  {
   "cell_type": "code",
   "execution_count": 64,
   "metadata": {
    "execution": {
     "iopub.execute_input": "2023-11-08T17:38:31.493296Z",
     "iopub.status.busy": "2023-11-08T17:38:31.493056Z",
     "iopub.status.idle": "2023-11-08T17:38:31.499276Z",
     "shell.execute_reply": "2023-11-08T17:38:31.498652Z",
     "shell.execute_reply.started": "2023-11-08T17:38:31.493281Z"
    }
   },
   "outputs": [
    {
     "data": {
      "text/plain": [
       "tensor(2470.4714, grad_fn=<MeanBackward0>)"
      ]
     },
     "execution_count": 64,
     "metadata": {},
     "output_type": "execute_result"
    }
   ],
   "source": [
    "preds = f(time,params)  # new predictions based on quadratic f with new parameters\n",
    "mse(preds, speed)       # new loss"
   ]
  },
  {
   "cell_type": "code",
   "execution_count": 65,
   "metadata": {
    "execution": {
     "iopub.execute_input": "2023-11-08T17:38:33.525591Z",
     "iopub.status.busy": "2023-11-08T17:38:33.525363Z",
     "iopub.status.idle": "2023-11-08T17:38:33.675942Z",
     "shell.execute_reply": "2023-11-08T17:38:33.675281Z",
     "shell.execute_reply.started": "2023-11-08T17:38:33.525574Z"
    }
   },
   "outputs": [
    {
     "data": {
      "image/png": "[encoded data removed]",
      "text/plain": [
       "<Figure size 640x480 with 1 Axes>"
      ]
     },
     "metadata": {},
     "output_type": "display_data"
    }
   ],
   "source": [
    "show_preds(preds)"
   ]
  },
  {
   "cell_type": "code",
   "execution_count": 66,
   "metadata": {
    "execution": {
     "iopub.execute_input": "2023-11-08T17:38:39.252645Z",
     "iopub.status.busy": "2023-11-08T17:38:39.252392Z",
     "iopub.status.idle": "2023-11-08T17:38:39.257155Z",
     "shell.execute_reply": "2023-11-08T17:38:39.256611Z",
     "shell.execute_reply.started": "2023-11-08T17:38:39.252629Z"
    }
   },
   "outputs": [
    {
     "data": {
      "text/plain": [
       "tensor([ 0.3590,  0.4469, -0.2062], requires_grad=True)"
      ]
     },
     "execution_count": 66,
     "metadata": {},
     "output_type": "execute_result"
    }
   ],
   "source": [
    "params  # added by me"
   ]
  },
  {
   "cell_type": "code",
   "execution_count": 68,
   "metadata": {
    "execution": {
     "iopub.execute_input": "2023-11-08T17:41:46.017592Z",
     "iopub.status.busy": "2023-11-08T17:41:46.017133Z",
     "iopub.status.idle": "2023-11-08T17:41:46.024463Z",
     "shell.execute_reply": "2023-11-08T17:41:46.023476Z",
     "shell.execute_reply.started": "2023-11-08T17:41:46.017552Z"
    }
   },
   "outputs": [],
   "source": [
    "def apply_step(params, prn=True):  # all the above steps\n",
    "    preds = f(time, params)\n",
    "    loss = mse(preds, speed)\n",
    "    loss.backward()\n",
    "    params.data -= lr * params.grad.data\n",
    "    params.grad = None\n",
    "    if prn: print(loss.item())\n",
    "    return preds"
   ]
  },
  {
   "cell_type": "markdown",
   "metadata": {},
   "source": [
    "#### Step 6: Repeat the process "
   ]
  },
  {
   "cell_type": "code",
   "execution_count": 70,
   "metadata": {
    "execution": {
     "iopub.execute_input": "2023-11-08T17:42:29.129986Z",
     "iopub.status.busy": "2023-11-08T17:42:29.129492Z",
     "iopub.status.idle": "2023-11-08T17:42:29.141419Z",
     "shell.execute_reply": "2023-11-08T17:42:29.140506Z",
     "shell.execute_reply.started": "2023-11-08T17:42:29.129942Z"
    }
   },
   "outputs": [
    {
     "name": "stdout",
     "output_type": "stream",
     "text": [
      "669.2116088867188\n",
      "669.2081298828125\n",
      "669.2045288085938\n",
      "669.2009887695312\n",
      "669.1973876953125\n",
      "669.19384765625\n",
      "669.1903686523438\n",
      "669.1868286132812\n",
      "669.1832885742188\n",
      "669.1797485351562\n"
     ]
    }
   ],
   "source": [
    "for i in range(10): apply_step(params)  # iterate 10 times and see the loss going down"
   ]
  },
  {
   "cell_type": "code",
   "execution_count": 76,
   "metadata": {
    "execution": {
     "iopub.execute_input": "2023-11-08T18:28:46.364467Z",
     "iopub.status.busy": "2023-11-08T18:28:46.364221Z",
     "iopub.status.idle": "2023-11-08T18:28:46.367903Z",
     "shell.execute_reply": "2023-11-08T18:28:46.367332Z",
     "shell.execute_reply.started": "2023-11-08T18:28:46.364452Z"
    }
   },
   "outputs": [],
   "source": [
    "#hide\n",
    "params = orig_params.detach().requires_grad_()  # what is this?"
   ]
  },
  {
   "cell_type": "code",
   "execution_count": 79,
   "metadata": {
    "execution": {
     "iopub.execute_input": "2023-11-08T18:42:33.165090Z",
     "iopub.status.busy": "2023-11-08T18:42:33.164867Z",
     "iopub.status.idle": "2023-11-08T18:42:33.531321Z",
     "shell.execute_reply": "2023-11-08T18:42:33.530708Z",
     "shell.execute_reply.started": "2023-11-08T18:42:33.165074Z"
    }
   },
   "outputs": [
    {
     "data": {
      "image/png": "[encoded data removed]",
      "text/plain": [
       "<Figure size 1200x300 with 4 Axes>"
      ]
     },
     "metadata": {},
     "output_type": "display_data"
    }
   ],
   "source": [
    "_,axs = plt.subplots(1,4,figsize=(12,3))                 # instead of printing the loss, we plot the quadratic at every step\n",
    "for ax in axs: show_preds(apply_step(params, False), ax)\n",
    "plt.tight_layout()"
   ]
  },
  {
   "cell_type": "markdown",
   "metadata": {},
   "source": [
    "#### Step 7: stop"
   ]
  },
  {
   "cell_type": "markdown",
   "metadata": {},
   "source": [
    "### Summarizing Gradient Descent"
   ]
  },
  {
   "cell_type": "code",
   "execution_count": 75,
   "metadata": {
    "execution": {
     "iopub.execute_input": "2023-11-08T18:13:03.752728Z",
     "iopub.status.busy": "2023-11-08T18:13:03.751841Z",
     "iopub.status.idle": "2023-11-08T18:13:03.777256Z",
     "shell.execute_reply": "2023-11-08T18:13:03.776621Z",
     "shell.execute_reply.started": "2023-11-08T18:13:03.752645Z"
    }
   },
   "outputs": [
    {
     "data": {
      "image/svg+xml": [
       "<?xml version=\"1.0\" encoding=\"UTF-8\" standalone=\"no\"?>\n",
       "<!DOCTYPE svg PUBLIC \"-//W3C//DTD SVG 1.1//EN\"\n",
       " \"http://www.w3.org/Graphics/SVG/1.1/DTD/svg11.dtd\">\n",
       "<!-- Generated by graphviz version 7.1.0 (20230122.1345)\n",
       " -->\n",
       "<!-- Title: G Pages: 1 -->\n",
       "<svg width=\"661pt\" height=\"78pt\"\n",
       " viewBox=\"0.00 0.00 660.87 78.00\" xmlns=\"http://www.w3.org/2000/svg\" xmlns:xlink=\"http://www.w3.org/1999/xlink\">\n",
       "<g id=\"graph0\" class=\"graph\" transform=\"scale(1 1) rotate(0) translate(4 74)\">\n",
       "<title>G</title>\n",
       "<polygon fill=\"white\" stroke=\"none\" points=\"-4,4 -4,-74 656.87,-74 656.87,4 -4,4\"/>\n",
       "<!-- init -->\n",
       "<g id=\"node1\" class=\"node\">\n",
       "<title>init</title>\n",
       "<ellipse fill=\"none\" stroke=\"black\" cx=\"27\" cy=\"-18\" rx=\"27\" ry=\"18\"/>\n",
       "<text text-anchor=\"middle\" x=\"27\" y=\"-14.3\" font-family=\"Times,serif\" font-size=\"14.00\">init</text>\n",
       "</g>\n",
       "<!-- predict -->\n",
       "<g id=\"node2\" class=\"node\">\n",
       "<title>predict</title>\n",
       "<ellipse fill=\"none\" stroke=\"black\" cx=\"135.2\" cy=\"-18\" rx=\"44.39\" ry=\"18\"/>\n",
       "<text text-anchor=\"middle\" x=\"135.2\" y=\"-14.3\" font-family=\"Times,serif\" font-size=\"14.00\">predict</text>\n",
       "</g>\n",
       "<!-- init&#45;&gt;predict -->\n",
       "<g id=\"edge1\" class=\"edge\">\n",
       "<title>init&#45;&gt;predict</title>\n",
       "<path fill=\"none\" stroke=\"black\" d=\"M54.25,-18C61.85,-18 70.45,-18 79.12,-18\"/>\n",
       "<polygon fill=\"black\" stroke=\"black\" points=\"78.96,-21.5 88.96,-18 78.96,-14.5 78.96,-21.5\"/>\n",
       "</g>\n",
       "<!-- loss -->\n",
       "<g id=\"node3\" class=\"node\">\n",
       "<title>loss</title>\n",
       "<ellipse fill=\"none\" stroke=\"black\" cx=\"244.99\" cy=\"-52\" rx=\"28.7\" ry=\"18\"/>\n",
       "<text text-anchor=\"middle\" x=\"244.99\" y=\"-48.3\" font-family=\"Times,serif\" font-size=\"14.00\">loss</text>\n",
       "</g>\n",
       "<!-- predict&#45;&gt;loss -->\n",
       "<g id=\"edge2\" class=\"edge\">\n",
       "<title>predict&#45;&gt;loss</title>\n",
       "<path fill=\"none\" stroke=\"black\" d=\"M171.19,-29.04C182.93,-32.74 196.04,-36.88 207.87,-40.61\"/>\n",
       "<polygon fill=\"black\" stroke=\"black\" points=\"206.69,-43.9 217.28,-43.58 208.8,-37.23 206.69,-43.9\"/>\n",
       "</g>\n",
       "<!-- gradient -->\n",
       "<g id=\"node4\" class=\"node\">\n",
       "<title>gradient</title>\n",
       "<ellipse fill=\"none\" stroke=\"black\" cx=\"406.63\" cy=\"-52\" rx=\"50.09\" ry=\"18\"/>\n",
       "<text text-anchor=\"middle\" x=\"406.63\" y=\"-48.3\" font-family=\"Times,serif\" font-size=\"14.00\">gradient</text>\n",
       "</g>\n",
       "<!-- loss&#45;&gt;gradient -->\n",
       "<g id=\"edge3\" class=\"edge\">\n",
       "<title>loss&#45;&gt;gradient</title>\n",
       "<path fill=\"none\" stroke=\"black\" d=\"M274.16,-52C293.71,-52 320.51,-52 344.81,-52\"/>\n",
       "<polygon fill=\"black\" stroke=\"black\" points=\"344.61,-55.5 354.61,-52 344.61,-48.5 344.61,-55.5\"/>\n",
       "</g>\n",
       "<!-- step -->\n",
       "<g id=\"node5\" class=\"node\">\n",
       "<title>step</title>\n",
       "<ellipse fill=\"none\" stroke=\"black\" cx=\"524.23\" cy=\"-18\" rx=\"30.59\" ry=\"18\"/>\n",
       "<text text-anchor=\"middle\" x=\"524.23\" y=\"-14.3\" font-family=\"Times,serif\" font-size=\"14.00\">step</text>\n",
       "</g>\n",
       "<!-- gradient&#45;&gt;step -->\n",
       "<g id=\"edge4\" class=\"edge\">\n",
       "<title>gradient&#45;&gt;step</title>\n",
       "<path fill=\"none\" stroke=\"black\" d=\"M446.12,-40.68C458.69,-36.98 472.64,-32.88 485.18,-29.19\"/>\n",
       "<polygon fill=\"black\" stroke=\"black\" points=\"486.16,-32.55 494.77,-26.37 484.18,-25.84 486.16,-32.55\"/>\n",
       "</g>\n",
       "<!-- step&#45;&gt;predict -->\n",
       "<g id=\"edge6\" class=\"edge\">\n",
       "<title>step&#45;&gt;predict</title>\n",
       "<path fill=\"none\" stroke=\"black\" d=\"M493.24,-18C428.38,-18 274.25,-18 191.3,-18\"/>\n",
       "<polygon fill=\"black\" stroke=\"black\" points=\"191.35,-14.5 181.35,-18 191.35,-21.5 191.35,-14.5\"/>\n",
       "<text text-anchor=\"middle\" x=\"315.09\" y=\"-21.8\" font-family=\"Times,serif\" font-size=\"14.00\">repeat</text>\n",
       "</g>\n",
       "<!-- stop -->\n",
       "<g id=\"node6\" class=\"node\">\n",
       "<title>stop</title>\n",
       "<ellipse fill=\"none\" stroke=\"black\" cx=\"622.32\" cy=\"-18\" rx=\"30.59\" ry=\"18\"/>\n",
       "<text text-anchor=\"middle\" x=\"622.32\" y=\"-14.3\" font-family=\"Times,serif\" font-size=\"14.00\">stop</text>\n",
       "</g>\n",
       "<!-- step&#45;&gt;stop -->\n",
       "<g id=\"edge5\" class=\"edge\">\n",
       "<title>step&#45;&gt;stop</title>\n",
       "<path fill=\"none\" stroke=\"black\" d=\"M555.1,-18C563.06,-18 571.79,-18 580.23,-18\"/>\n",
       "<polygon fill=\"black\" stroke=\"black\" points=\"579.95,-21.5 589.95,-18 579.95,-14.5 579.95,-21.5\"/>\n",
       "</g>\n",
       "</g>\n",
       "</svg>\n"
      ],
      "text/plain": [
       "<graphviz.sources.Source at 0x7f5d6cf309d0>"
      ]
     },
     "execution_count": 75,
     "metadata": {},
     "output_type": "execute_result"
    }
   ],
   "source": [
    "gv('''\n",
    "init->predict->loss->gradient->step->stop\n",
    "step->predict[label=repeat]\n",
    "''')"
   ]
  },
  {
   "cell_type": "markdown",
   "metadata": {},
   "source": [
    "## The MNIST Loss Function"
   ]
  },
  {
   "cell_type": "code",
   "execution_count": null,
   "metadata": {},
   "outputs": [],
   "source": [
    "train_x = torch.cat([stacked_threes, stacked_sevens]).view(-1, 28*28)"
   ]
  },
  {
   "cell_type": "code",
   "execution_count": null,
   "metadata": {},
   "outputs": [],
   "source": [
    "train_y = tensor([1]*len(threes) + [0]*len(sevens)).unsqueeze(1)\n",
    "train_x.shape,train_y.shape"
   ]
  },
  {
   "cell_type": "code",
   "execution_count": null,
   "metadata": {},
   "outputs": [],
   "source": [
    "dset = list(zip(train_x,train_y))\n",
    "x,y = dset[0]\n",
    "x.shape,y"
   ]
  },
  {
   "cell_type": "code",
   "execution_count": null,
   "metadata": {},
   "outputs": [],
   "source": [
    "valid_x = torch.cat([valid_3_tens, valid_7_tens]).view(-1, 28*28)\n",
    "valid_y = tensor([1]*len(valid_3_tens) + [0]*len(valid_7_tens)).unsqueeze(1)\n",
    "valid_dset = list(zip(valid_x,valid_y))"
   ]
  },
  {
   "cell_type": "code",
   "execution_count": null,
   "metadata": {},
   "outputs": [],
   "source": [
    "def init_params(size, std=1.0): return (torch.randn(size)*std).requires_grad_()"
   ]
  },
  {
   "cell_type": "code",
   "execution_count": null,
   "metadata": {},
   "outputs": [],
   "source": [
    "weights = init_params((28*28,1))"
   ]
  },
  {
   "cell_type": "code",
   "execution_count": null,
   "metadata": {},
   "outputs": [],
   "source": [
    "bias = init_params(1)"
   ]
  },
  {
   "cell_type": "code",
   "execution_count": null,
   "metadata": {},
   "outputs": [],
   "source": [
    "(train_x[0]*weights.T).sum() + bias"
   ]
  },
  {
   "cell_type": "code",
   "execution_count": null,
   "metadata": {},
   "outputs": [],
   "source": [
    "def linear1(xb): return xb@weights + bias\n",
    "preds = linear1(train_x)\n",
    "preds"
   ]
  },
  {
   "cell_type": "code",
   "execution_count": null,
   "metadata": {},
   "outputs": [],
   "source": [
    "corrects = (preds>0.0).float() == train_y\n",
    "corrects"
   ]
  },
  {
   "cell_type": "code",
   "execution_count": null,
   "metadata": {},
   "outputs": [],
   "source": [
    "corrects.float().mean().item()"
   ]
  },
  {
   "cell_type": "code",
   "execution_count": null,
   "metadata": {},
   "outputs": [],
   "source": [
    "with torch.no_grad(): weights[0] *= 1.0001"
   ]
  },
  {
   "cell_type": "code",
   "execution_count": null,
   "metadata": {},
   "outputs": [],
   "source": [
    "preds = linear1(train_x)\n",
    "((preds>0.0).float() == train_y).float().mean().item()"
   ]
  },
  {
   "cell_type": "code",
   "execution_count": null,
   "metadata": {},
   "outputs": [],
   "source": [
    "trgts  = tensor([1,0,1])\n",
    "prds   = tensor([0.9, 0.4, 0.2])"
   ]
  },
  {
   "cell_type": "code",
   "execution_count": null,
   "metadata": {},
   "outputs": [],
   "source": [
    "def mnist_loss(predictions, targets):\n",
    "    return torch.where(targets==1, 1-predictions, predictions).mean()"
   ]
  },
  {
   "cell_type": "code",
   "execution_count": null,
   "metadata": {},
   "outputs": [],
   "source": [
    "torch.where(trgts==1, 1-prds, prds)"
   ]
  },
  {
   "cell_type": "code",
   "execution_count": null,
   "metadata": {},
   "outputs": [],
   "source": [
    "mnist_loss(prds,trgts)"
   ]
  },
  {
   "cell_type": "code",
   "execution_count": null,
   "metadata": {},
   "outputs": [],
   "source": [
    "mnist_loss(tensor([0.9, 0.4, 0.8]),trgts)"
   ]
  },
  {
   "cell_type": "markdown",
   "metadata": {},
   "source": [
    "### Sigmoid"
   ]
  },
  {
   "cell_type": "code",
   "execution_count": null,
   "metadata": {},
   "outputs": [],
   "source": [
    "def sigmoid(x): return 1/(1+torch.exp(-x))"
   ]
  },
  {
   "cell_type": "code",
   "execution_count": null,
   "metadata": {},
   "outputs": [],
   "source": [
    "plot_function(torch.sigmoid, title='Sigmoid', min=-4, max=4)"
   ]
  },
  {
   "cell_type": "code",
   "execution_count": null,
   "metadata": {},
   "outputs": [],
   "source": [
    "def mnist_loss(predictions, targets):\n",
    "    predictions = predictions.sigmoid()\n",
    "    return torch.where(targets==1, 1-predictions, predictions).mean()"
   ]
  },
  {
   "cell_type": "markdown",
   "metadata": {},
   "source": [
    "### SGD and Mini-Batches"
   ]
  },
  {
   "cell_type": "code",
   "execution_count": null,
   "metadata": {},
   "outputs": [],
   "source": [
    "coll = range(15)\n",
    "dl = DataLoader(coll, batch_size=5, shuffle=True)\n",
    "list(dl)"
   ]
  },
  {
   "cell_type": "code",
   "execution_count": null,
   "metadata": {},
   "outputs": [],
   "source": [
    "ds = L(enumerate(string.ascii_lowercase))\n",
    "ds"
   ]
  },
  {
   "cell_type": "code",
   "execution_count": null,
   "metadata": {},
   "outputs": [],
   "source": [
    "dl = DataLoader(ds, batch_size=6, shuffle=True)\n",
    "list(dl)"
   ]
  },
  {
   "cell_type": "markdown",
   "metadata": {},
   "source": [
    "## Putting It All Together"
   ]
  },
  {
   "cell_type": "code",
   "execution_count": null,
   "metadata": {},
   "outputs": [],
   "source": [
    "weights = init_params((28*28,1))\n",
    "bias = init_params(1)"
   ]
  },
  {
   "cell_type": "code",
   "execution_count": null,
   "metadata": {},
   "outputs": [],
   "source": [
    "dl = DataLoader(dset, batch_size=256)\n",
    "xb,yb = first(dl)\n",
    "xb.shape,yb.shape"
   ]
  },
  {
   "cell_type": "code",
   "execution_count": null,
   "metadata": {},
   "outputs": [],
   "source": [
    "valid_dl = DataLoader(valid_dset, batch_size=256)"
   ]
  },
  {
   "cell_type": "code",
   "execution_count": null,
   "metadata": {},
   "outputs": [],
   "source": [
    "batch = train_x[:4]\n",
    "batch.shape"
   ]
  },
  {
   "cell_type": "code",
   "execution_count": null,
   "metadata": {},
   "outputs": [],
   "source": [
    "preds = linear1(batch)\n",
    "preds"
   ]
  },
  {
   "cell_type": "code",
   "execution_count": null,
   "metadata": {},
   "outputs": [],
   "source": [
    "loss = mnist_loss(preds, train_y[:4])\n",
    "loss"
   ]
  },
  {
   "cell_type": "code",
   "execution_count": null,
   "metadata": {},
   "outputs": [],
   "source": [
    "loss.backward()\n",
    "weights.grad.shape,weights.grad.mean(),bias.grad"
   ]
  },
  {
   "cell_type": "code",
   "execution_count": null,
   "metadata": {},
   "outputs": [],
   "source": [
    "def calc_grad(xb, yb, model):\n",
    "    preds = model(xb)\n",
    "    loss = mnist_loss(preds, yb)\n",
    "    loss.backward()"
   ]
  },
  {
   "cell_type": "code",
   "execution_count": null,
   "metadata": {},
   "outputs": [],
   "source": [
    "calc_grad(batch, train_y[:4], linear1)\n",
    "weights.grad.mean(),bias.grad"
   ]
  },
  {
   "cell_type": "code",
   "execution_count": null,
   "metadata": {},
   "outputs": [],
   "source": [
    "calc_grad(batch, train_y[:4], linear1)\n",
    "weights.grad.mean(),bias.grad"
   ]
  },
  {
   "cell_type": "code",
   "execution_count": null,
   "metadata": {},
   "outputs": [],
   "source": [
    "weights.grad.zero_()\n",
    "bias.grad.zero_();"
   ]
  },
  {
   "cell_type": "code",
   "execution_count": null,
   "metadata": {},
   "outputs": [],
   "source": [
    "def train_epoch(model, lr, params):\n",
    "    for xb,yb in dl:\n",
    "        calc_grad(xb, yb, model)\n",
    "        for p in params:\n",
    "            p.data -= p.grad*lr\n",
    "            p.grad.zero_()"
   ]
  },
  {
   "cell_type": "code",
   "execution_count": null,
   "metadata": {},
   "outputs": [],
   "source": [
    "(preds>0.0).float() == train_y[:4]"
   ]
  },
  {
   "cell_type": "code",
   "execution_count": null,
   "metadata": {},
   "outputs": [],
   "source": [
    "def batch_accuracy(xb, yb):\n",
    "    preds = xb.sigmoid()\n",
    "    correct = (preds>0.5) == yb\n",
    "    return correct.float().mean()"
   ]
  },
  {
   "cell_type": "code",
   "execution_count": null,
   "metadata": {},
   "outputs": [],
   "source": [
    "batch_accuracy(linear1(batch), train_y[:4])"
   ]
  },
  {
   "cell_type": "code",
   "execution_count": null,
   "metadata": {},
   "outputs": [],
   "source": [
    "def validate_epoch(model):\n",
    "    accs = [batch_accuracy(model(xb), yb) for xb,yb in valid_dl]\n",
    "    return round(torch.stack(accs).mean().item(), 4)"
   ]
  },
  {
   "cell_type": "code",
   "execution_count": null,
   "metadata": {},
   "outputs": [],
   "source": [
    "validate_epoch(linear1)"
   ]
  },
  {
   "cell_type": "code",
   "execution_count": null,
   "metadata": {},
   "outputs": [],
   "source": [
    "lr = 1.\n",
    "params = weights,bias\n",
    "train_epoch(linear1, lr, params)\n",
    "validate_epoch(linear1)"
   ]
  },
  {
   "cell_type": "code",
   "execution_count": null,
   "metadata": {},
   "outputs": [],
   "source": [
    "for i in range(20):\n",
    "    train_epoch(linear1, lr, params)\n",
    "    print(validate_epoch(linear1), end=' ')"
   ]
  },
  {
   "cell_type": "markdown",
   "metadata": {},
   "source": [
    "### Creating an Optimizer"
   ]
  },
  {
   "cell_type": "code",
   "execution_count": null,
   "metadata": {},
   "outputs": [],
   "source": [
    "linear_model = nn.Linear(28*28,1)"
   ]
  },
  {
   "cell_type": "code",
   "execution_count": null,
   "metadata": {},
   "outputs": [],
   "source": [
    "w,b = linear_model.parameters()\n",
    "w.shape,b.shape"
   ]
  },
  {
   "cell_type": "code",
   "execution_count": null,
   "metadata": {},
   "outputs": [],
   "source": [
    "class BasicOptim:\n",
    "    def __init__(self,params,lr): self.params,self.lr = list(params),lr\n",
    "\n",
    "    def step(self, *args, **kwargs):\n",
    "        for p in self.params: p.data -= p.grad.data * self.lr\n",
    "\n",
    "    def zero_grad(self, *args, **kwargs):\n",
    "        for p in self.params: p.grad = None"
   ]
  },
  {
   "cell_type": "code",
   "execution_count": null,
   "metadata": {},
   "outputs": [],
   "source": [
    "opt = BasicOptim(linear_model.parameters(), lr)"
   ]
  },
  {
   "cell_type": "code",
   "execution_count": null,
   "metadata": {},
   "outputs": [],
   "source": [
    "def train_epoch(model):\n",
    "    for xb,yb in dl:\n",
    "        calc_grad(xb, yb, model)\n",
    "        opt.step()\n",
    "        opt.zero_grad()"
   ]
  },
  {
   "cell_type": "code",
   "execution_count": null,
   "metadata": {},
   "outputs": [],
   "source": [
    "validate_epoch(linear_model)"
   ]
  },
  {
   "cell_type": "code",
   "execution_count": null,
   "metadata": {},
   "outputs": [],
   "source": [
    "def train_model(model, epochs):\n",
    "    for i in range(epochs):\n",
    "        train_epoch(model)\n",
    "        print(validate_epoch(model), end=' ')"
   ]
  },
  {
   "cell_type": "code",
   "execution_count": null,
   "metadata": {},
   "outputs": [],
   "source": [
    "train_model(linear_model, 20)"
   ]
  },
  {
   "cell_type": "code",
   "execution_count": null,
   "metadata": {},
   "outputs": [],
   "source": [
    "linear_model = nn.Linear(28*28,1)\n",
    "opt = SGD(linear_model.parameters(), lr)\n",
    "train_model(linear_model, 20)"
   ]
  },
  {
   "cell_type": "code",
   "execution_count": null,
   "metadata": {},
   "outputs": [],
   "source": [
    "dls = DataLoaders(dl, valid_dl)"
   ]
  },
  {
   "cell_type": "code",
   "execution_count": null,
   "metadata": {},
   "outputs": [],
   "source": [
    "learn = Learner(dls, nn.Linear(28*28,1), opt_func=SGD,\n",
    "                loss_func=mnist_loss, metrics=batch_accuracy)"
   ]
  },
  {
   "cell_type": "code",
   "execution_count": null,
   "metadata": {},
   "outputs": [],
   "source": [
    "learn.fit(10, lr=lr)"
   ]
  },
  {
   "cell_type": "markdown",
   "metadata": {},
   "source": [
    "## Adding a Nonlinearity"
   ]
  },
  {
   "cell_type": "code",
   "execution_count": null,
   "metadata": {},
   "outputs": [],
   "source": [
    "def simple_net(xb): \n",
    "    res = xb@w1 + b1\n",
    "    res = res.max(tensor(0.0))\n",
    "    res = res@w2 + b2\n",
    "    return res"
   ]
  },
  {
   "cell_type": "code",
   "execution_count": null,
   "metadata": {},
   "outputs": [],
   "source": [
    "w1 = init_params((28*28,30))\n",
    "b1 = init_params(30)\n",
    "w2 = init_params((30,1))\n",
    "b2 = init_params(1)"
   ]
  },
  {
   "cell_type": "code",
   "execution_count": null,
   "metadata": {},
   "outputs": [],
   "source": [
    "plot_function(F.relu)"
   ]
  },
  {
   "cell_type": "code",
   "execution_count": null,
   "metadata": {},
   "outputs": [],
   "source": [
    "simple_net = nn.Sequential(\n",
    "    nn.Linear(28*28,30),\n",
    "    nn.ReLU(),\n",
    "    nn.Linear(30,1)\n",
    ")"
   ]
  },
  {
   "cell_type": "code",
   "execution_count": null,
   "metadata": {},
   "outputs": [],
   "source": [
    "learn = Learner(dls, simple_net, opt_func=SGD,\n",
    "                loss_func=mnist_loss, metrics=batch_accuracy)"
   ]
  },
  {
   "cell_type": "code",
   "execution_count": null,
   "metadata": {},
   "outputs": [],
   "source": [
    "learn.fit(40, 0.1)"
   ]
  },
  {
   "cell_type": "code",
   "execution_count": null,
   "metadata": {},
   "outputs": [],
   "source": [
    "plt.plot(L(learn.recorder.values).itemgot(2));"
   ]
  },
  {
   "cell_type": "code",
   "execution_count": null,
   "metadata": {},
   "outputs": [],
   "source": [
    "learn.recorder.values[-1][2]"
   ]
  },
  {
   "cell_type": "markdown",
   "metadata": {},
   "source": [
    "### Going Deeper"
   ]
  },
  {
   "cell_type": "code",
   "execution_count": null,
   "metadata": {},
   "outputs": [],
   "source": [
    "dls = ImageDataLoaders.from_folder(path)\n",
    "learn = vision_learner(dls, resnet18, pretrained=False,\n",
    "                    loss_func=F.cross_entropy, metrics=accuracy)\n",
    "learn.fit_one_cycle(1, 0.1)"
   ]
  },
  {
   "cell_type": "markdown",
   "metadata": {},
   "source": [
    "## Jargon Recap"
   ]
  },
  {
   "cell_type": "markdown",
   "metadata": {},
   "source": [
    "## Questionnaire"
   ]
  },
  {
   "cell_type": "markdown",
   "metadata": {},
   "source": [
    "1. How is a grayscale image represented on a computer? How about a color image?\n",
    "1. How are the files and folders in the `MNIST_SAMPLE` dataset structured? Why?\n",
    "1. Explain how the \"pixel similarity\" approach to classifying digits works.\n",
    "1. What is a list comprehension? Create one now that selects odd numbers from a list and doubles them.\n",
    "1. What is a \"rank-3 tensor\"?\n",
    "1. What is the difference between tensor rank and shape? How do you get the rank from the shape?\n",
    "1. What are RMSE and L1 norm?\n",
    "1. How can you apply a calculation on thousands of numbers at once, many thousands of times faster than a Python loop?\n",
    "1. Create a 3×3 tensor or array containing the numbers from 1 to 9. Double it. Select the bottom-right four numbers.\n",
    "1. What is broadcasting?\n",
    "1. Are metrics generally calculated using the training set, or the validation set? Why?\n",
    "1. What is SGD?\n",
    "1. Why does SGD use mini-batches?\n",
    "1. What are the seven steps in SGD for machine learning?\n",
    "1. How do we initialize the weights in a model?\n",
    "1. What is \"loss\"?\n",
    "1. Why can't we always use a high learning rate?\n",
    "1. What is a \"gradient\"?\n",
    "1. Do you need to know how to calculate gradients yourself?\n",
    "1. Why can't we use accuracy as a loss function?\n",
    "1. Draw the sigmoid function. What is special about its shape?\n",
    "1. What is the difference between a loss function and a metric?\n",
    "1. What is the function to calculate new weights using a learning rate?\n",
    "1. What does the `DataLoader` class do?\n",
    "1. Write pseudocode showing the basic steps taken in each epoch for SGD.\n",
    "1. Create a function that, if passed two arguments `[1,2,3,4]` and `'abcd'`, returns `[(1, 'a'), (2, 'b'), (3, 'c'), (4, 'd')]`. What is special about that output data structure?\n",
    "1. What does `view` do in PyTorch?\n",
    "1. What are the \"bias\" parameters in a neural network? Why do we need them?\n",
    "1. What does the `@` operator do in Python?\n",
    "1. What does the `backward` method do?\n",
    "1. Why do we have to zero the gradients?\n",
    "1. What information do we have to pass to `Learner`?\n",
    "1. Show Python or pseudocode for the basic steps of a training loop.\n",
    "1. What is \"ReLU\"? Draw a plot of it for values from `-2` to `+2`.\n",
    "1. What is an \"activation function\"?\n",
    "1. What's the difference between `F.relu` and `nn.ReLU`?\n",
    "1. The universal approximation theorem shows that any function can be approximated as closely as needed using just one nonlinearity. So why do we normally use more?"
   ]
  },
  {
   "cell_type": "markdown",
   "metadata": {},
   "source": [
    "### Further Research"
   ]
  },
  {
   "cell_type": "markdown",
   "metadata": {},
   "source": [
    "1. Create your own implementation of `Learner` from scratch, based on the training loop shown in this chapter.\n",
    "1. Complete all the steps in this chapter using the full MNIST datasets (that is, for all digits, not just 3s and 7s). This is a significant project and will take you quite a bit of time to complete! You'll need to do some of your own research to figure out how to overcome some obstacles you'll meet on the way."
   ]
  },
  {
   "cell_type": "code",
   "execution_count": null,
   "metadata": {},
   "outputs": [],
   "source": []
  }
 ],
 "metadata": {
  "jupytext": {
   "split_at_heading": true
  },
  "kernelspec": {
   "display_name": "fastai23",
   "language": "python",
   "name": "fastai23"
  },
  "language_info": {
   "codemirror_mode": {
    "name": "ipython",
    "version": 3
   },
   "file_extension": ".py",
   "mimetype": "text/x-python",
   "name": "python",
   "nbconvert_exporter": "python",
   "pygments_lexer": "ipython3",
   "version": "3.11.5"
  },
  "widgets": {
   "application/vnd.jupyter.widget-state+json": {
    "state": {},
    "version_major": 2,
    "version_minor": 0
   }
  }
 },
 "nbformat": 4,
 "nbformat_minor": 4
}
