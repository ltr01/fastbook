{
 "cells": [
  {
   "cell_type": "code",
   "execution_count": 1,
   "metadata": {},
   "outputs": [],
   "source": [
    "#hide\n",
    "! [ -e /content ] && pip install -Uqq fastbook\n",
    "import fastbook\n",
    "fastbook.setup_book()"
   ]
  },
  {
   "cell_type": "markdown",
   "metadata": {},
   "source": [
    "#### "
   ]
  },
  {
   "cell_type": "code",
   "execution_count": 2,
   "metadata": {},
   "outputs": [],
   "source": [
    "#hide\n",
    "from fastai.vision.all import *\n",
    "from fastbook import *\n",
    "\n",
    "matplotlib.rc('image', cmap='Greys')"
   ]
  },
  {
   "cell_type": "raw",
   "metadata": {},
   "source": [
    "[[chapter_mnist_basics]]"
   ]
  },
  {
   "cell_type": "markdown",
   "metadata": {},
   "source": [
    "# Under the Hood: Training a Digit Classifier"
   ]
  },
  {
   "cell_type": "markdown",
   "metadata": {},
   "source": [
    "Having seen what it looks like to actually train a variety of models in Chapter 2, **let’s now look under the hood and see exactly what is going on**.  \n",
    "We’ll start by **using computer vision** to introduce fundamental tools and concepts for deep learning.\n",
    "\n",
    "To be exact, we'll discuss the **roles of arrays and tensors and of broadcasting**, a powerful technique for using them expressively.  \n",
    "We'll explain **stochastic gradient descent (SGD)**, the mechanism for learning by updating weights automatically.  \n",
    "We'll discuss the choice of a **loss function** for our basic classification task, and the role of mini-batches.  \n",
    "We'll also describe **the math that a basic neural network** is actually doing.  \n",
    "Finally, we'll put all these pieces together.\n",
    "\n",
    "In future chapters we’ll do deep dives into other applications as well, and see how these concepts and tools generalize.  \n",
    "But this chapter is about **laying foundation stones**. To be frank, that also makes this one of the hardest chapters, because of how these concepts all depend on each other.  \n",
    "Like an arch, all the stones need to be in place for the structure to stay up. Also like an arch, once that happens, it's a powerful structure that can support other things.  \n",
    "But it requires some patience to assemble.\n",
    "\n",
    "Let's begin. The first step is to consider how images are represented in a computer."
   ]
  },
  {
   "cell_type": "markdown",
   "metadata": {},
   "source": [
    "## Pixels: The Foundations of Computer Vision"
   ]
  },
  {
   "cell_type": "markdown",
   "metadata": {},
   "source": [
    "In order to understand what happens in a **computer vision model**, we first have to understand **how computers handle images**.  \n",
    "We'll use one of **the most famous datasets in computer vision, [MNIST](https://en.wikipedia.org/wiki/MNIST_database)**, for our experiments.  \n",
    "MNIST contains images of handwritten digits, collected by the National Institute of Standards and Technology and collated into a machine learning dataset by Yann Lecun and his colleagues.  \n",
    "Lecun used MNIST in 1998 in [Lenet-5](http://yann.lecun.com/exdb/lenet/), the first computer system to demonstrate practically useful recognition of handwritten digit sequences.  \n",
    "This was one of the most important breakthroughs in the history of AI."
   ]
  },
  {
   "cell_type": "markdown",
   "metadata": {},
   "source": [
    "## Sidebar: Tenacity and Deep Learning"
   ]
  },
  {
   "cell_type": "markdown",
   "metadata": {},
   "source": [
    "The story of deep learning is one of tenacity and grit by a handful of dedicated researchers.  \n",
    "After early hopes (and hype!) neural networks went out of favor in the 1990's and 2000's, and just a handful of researchers kept trying to make them work well.  \n",
    "Three of them, Yann Lecun, Yoshua Bengio, and Geoffrey Hinton, were awarded the highest honor in computer science, the Turing Award (generally considered the \"Nobel Prize of computer science\"),  \n",
    "in 2018 after triumphing despite the deep skepticism and disinterest of the wider machine learning and statistics community.\n",
    "\n",
    "Geoff Hinton has told of how even academic papers showing dramatically better results than anything previously published would be rejected by top journals and conferences, just because they used a neural network.  \n",
    "Yann Lecun's work on convolutional neural networks, which we will study in the next section, showed that these models could read handwritten text—something that had never been achieved before.  \n",
    "However, his breakthrough was ignored by most researchers, even as it was used commercially to read 10% of the checks in the US!\n",
    "\n",
    "In addition to these three Turing Award winners, there are many other researchers who have battled to get us to where we are today.  \n",
    "For instance, Jurgen Schmidhuber (who many believe should have shared in the Turing Award) pioneered many important ideas, \n",
    "including working with his student Sepp Hochreiter on the long short-term memory (LSTM) architecture (widely used for speech recognition and other text modeling tasks, and used in the IMDb example in <<chapter_intro>>).  \n",
    "Perhaps most important of all, Paul Werbos in 1974 invented back-propagation for neural networks, the technique shown in this chapter and used universally for training neural networks ([Werbos 1994](https://books.google.com/books/about/The_Roots_of_Backpropagation.html?id=WdR3OOM2gBwC)).  \n",
    "His development was almost entirely ignored for decades, but today it is considered the most important foundation of modern AI.\n",
    "\n",
    "There is a lesson here for all of us! On your deep learning journey you will face many obstacles, both technical, and (even more difficult) posed by people around you who don't believe you'll be successful.  \n",
    "There's one *guaranteed* way to fail, and that's to stop trying.  \n",
    "We've seen that the only consistent trait amongst every fast.ai student that's gone on to be a world-class practitioner is that they are all very tenacious."
   ]
  },
  {
   "cell_type": "markdown",
   "metadata": {},
   "source": [
    "## End sidebar"
   ]
  },
  {
   "cell_type": "markdown",
   "metadata": {},
   "source": [
    "For this initial tutorial we are just going to try to **create a model that can classify any image as a 3 or a 7**.  \n",
    "So let's download a **sample of MNIST that contains images of just these digits:**"
   ]
  },
  {
   "cell_type": "code",
   "execution_count": 3,
   "metadata": {},
   "outputs": [
    {
     "data": {
      "text/plain": [
       "'https://s3.amazonaws.com/fast-ai-sample/mnist_sample.tgz'"
      ]
     },
     "execution_count": 3,
     "metadata": {},
     "output_type": "execute_result"
    }
   ],
   "source": [
    "URLs.MNIST_SAMPLE"
   ]
  },
  {
   "cell_type": "code",
   "execution_count": 4,
   "metadata": {},
   "outputs": [],
   "source": [
    "# https://docs.fast.ai/data.external.html  - downloads them to /home/.fastai folder\n",
    "path = untar_data(URLs.MNIST_SAMPLE)"
   ]
  },
  {
   "cell_type": "code",
   "execution_count": 5,
   "metadata": {},
   "outputs": [],
   "source": [
    "#hide\n",
    "Path.BASE_PATH = path"
   ]
  },
  {
   "cell_type": "code",
   "execution_count": 6,
   "metadata": {},
   "outputs": [
    {
     "data": {
      "text/plain": [
       "Path('.')"
      ]
     },
     "execution_count": 6,
     "metadata": {},
     "output_type": "execute_result"
    }
   ],
   "source": [
    "path  # tells me where it is; path is . because I used this special base_path attribute to path, to tell it where's my starting point"
   ]
  },
  {
   "cell_type": "code",
   "execution_count": 7,
   "metadata": {},
   "outputs": [
    {
     "data": {
      "text/plain": [
       "pathlib.PosixPath"
      ]
     },
     "execution_count": 7,
     "metadata": {},
     "output_type": "execute_result"
    }
   ],
   "source": [
    "type(path)  # it's a pathlib path object; pathlib is part of the python standard library; p s l doesn't have ls though, so we addded ls "
   ]
  },
  {
   "cell_type": "code",
   "execution_count": 8,
   "metadata": {},
   "outputs": [],
   "source": [
    "#path.ls?  # from where it comes from: a library called fastcore, which is a lot of the foundational stuff in fastai that is not dependent on pytorch, pandas or any of these big libraries"
   ]
  },
  {
   "cell_type": "code",
   "execution_count": 9,
   "metadata": {},
   "outputs": [],
   "source": [
    "#path.ls??  # if you want to see exactly what it does put ?? to get the source code"
   ]
  },
  {
   "cell_type": "code",
   "execution_count": 10,
   "metadata": {},
   "outputs": [
    {
     "data": {
      "text/html": [
       "<hr/>\n",
       "<h3>Path.ls</h3>\n",
       "<blockquote><pre><code>Path.ls(n_max=None, file_type=None, file_exts=None)</code></pre></blockquote><p>Contents of path as a list</p>\n",
       "<p><a href=\"https://fastcore.fast.ai/xtras.html#path.ls\" target=\"_blank\" rel=\"noreferrer noopener\">Show in docs</a></p>"
      ],
      "text/plain": [
       "<IPython.core.display.HTML object>"
      ]
     },
     "metadata": {},
     "output_type": "display_data"
    }
   ],
   "source": [
    "doc(path.ls)  # documentation, to see examples, pictures, tutorials, tests"
   ]
  },
  {
   "cell_type": "markdown",
   "metadata": {},
   "source": [
    "We can see **what's in this directory by using `ls`**, a method added by fastai.  \n",
    "This method returns an object of a special fastai class called `L`, which has all the same functionality of Python's built-in `list`, plus a lot more.  \n",
    "One of its handy features is that, when printed, it displays **the count of items**, before **listing the items** themselves (if there are more than 10 items, it just shows the first few):"
   ]
  },
  {
   "cell_type": "code",
   "execution_count": 11,
   "metadata": {},
   "outputs": [
    {
     "data": {
      "text/plain": [
       "(#3) [Path('train'),Path('valid'),Path('labels.csv')]"
      ]
     },
     "execution_count": 11,
     "metadata": {},
     "output_type": "execute_result"
    }
   ],
   "source": [
    "path.ls()  # it makes it easier not to have to see the whole set of parent path folders; use ls to see what's in the dataset \n",
    "           # there's a train folder and valid folder"
   ]
  },
  {
   "cell_type": "markdown",
   "metadata": {},
   "source": [
    "The MNIST dataset follows a common layout for machine learning datasets: **separate folders for the training set and the validation set (and/or test set)**.  \n",
    "Let's see what's **inside the training set:**"
   ]
  },
  {
   "cell_type": "code",
   "execution_count": 12,
   "metadata": {},
   "outputs": [
    {
     "data": {
      "text/plain": [
       "(#2) [Path('train/7'),Path('train/3')]"
      ]
     },
     "execution_count": 12,
     "metadata": {},
     "output_type": "execute_result"
    }
   ],
   "source": [
    "(path/'train').ls()  # this looks like our bear classifier data set; we downloaded each set of images into a folder based on what its label was (3 or 7)"
   ]
  },
  {
   "cell_type": "markdown",
   "metadata": {},
   "source": [
    "There's a folder of 3s, and a folder of 7s. In machine learning parlance, we say that **\"3\" and \"7\" are the *labels* (or targets)** in this dataset.  \n",
    "Let's take a look in one of these folders (using **`sorted`** to ensure we all get the same order of files):"
   ]
  },
  {
   "cell_type": "code",
   "execution_count": 13,
   "metadata": {},
   "outputs": [
    {
     "data": {
      "text/plain": [
       "(#6131) [Path('train/3/10.png'),Path('train/3/10000.png'),Path('train/3/10011.png'),Path('train/3/10031.png'),Path('train/3/10034.png'),Path('train/3/10042.png'),Path('train/3/10052.png'),Path('train/3/1007.png'),Path('train/3/10074.png'),Path('train/3/10091.png')...]"
      ]
     },
     "execution_count": 13,
     "metadata": {},
     "output_type": "execute_result"
    }
   ],
   "source": [
    "threes = (path/'train'/'3').ls().sorted()  # they's just numbered \n",
    "sevens = (path/'train'/'7').ls().sorted()\n",
    "threes"
   ]
  },
  {
   "cell_type": "markdown",
   "metadata": {},
   "source": [
    "As we might expect, it's full of image files.  \n",
    "Let’s take a look at one now.  \n",
    "Here’s an image of a **handwritten number 3**, taken from the famous MNIST dataset of handwritten numbers:"
   ]
  },
  {
   "cell_type": "code",
   "execution_count": 14,
   "metadata": {},
   "outputs": [
    {
     "data": {
      "image/png": "[encoded data removed]",
      "text/plain": [
       "<PIL.PngImagePlugin.PngImageFile image mode=L size=28x28>"
      ]
     },
     "execution_count": 14,
     "metadata": {},
     "output_type": "execute_result"
    }
   ],
   "source": [
    "im3_path = threes[1]        \n",
    "im3 = Image.open(im3_path)\n",
    "im3"
   ]
  },
  {
   "cell_type": "code",
   "execution_count": 15,
   "metadata": {},
   "outputs": [
    {
     "data": {
      "text/plain": [
       "PIL.PngImagePlugin.PngImageFile"
      ]
     },
     "execution_count": 15,
     "metadata": {},
     "output_type": "execute_result"
    }
   ],
   "source": [
    "type(im3)  # PIL is python imaging library (the most popular lib by far for working with images and its a PNG); PIL will come with something that displays the image"
   ]
  },
  {
   "cell_type": "markdown",
   "metadata": {},
   "source": [
    "Here we are using the **`Image` class from the *Python Imaging Library* (PIL)**, which is the most widely used Python package for opening, manipulating, and viewing images.  \n",
    "Jupyter knows about PIL images, so it displays the image for us automatically.\n",
    "\n",
    "In a computer, everything is represented as a number.  \n",
    "**To view the numbers that make up this image, we have to convert it to a *NumPy array* or a *PyTorch tensor***.  \n",
    "For instance, here's what a section of the image looks like, converted to a **NumPy array**:"
   ]
  },
  {
   "cell_type": "code",
   "execution_count": null,
   "metadata": {},
   "outputs": [],
   "source": [
    "'''\n",
    "one easy way to treat things as numbers is to turn them into an array\n",
    "the array is part of numpy, the most popular array programming library for python\n",
    "so if we pass our PIL image object to array it just converts the image into a bunch of numbers\n",
    "the truth is it was a bunch of numbers the whole time\n",
    "it was stored as bunch of numbers on disk\n",
    "it just that there's this magic thing in jupyter that knows how to display those numbers on the screen\n",
    "an image is just a bunch of numbers on a pc, so we can compute with it\n",
    "'''\n",
    "array(im3)[4:10,4:10]  # this converts the image im3 to numbers in form of an array"
   ]
  },
  {
   "cell_type": "markdown",
   "metadata": {},
   "source": [
    "**The `4:10` indicates we requested the rows from index 4 (included) to 10 (not included) and the same for the columns**.  \n",
    "NumPy indexes from top to bottom and left to right, so this section is located in the top-left corner of the image.  \n",
    "Here's the same thing as a **PyTorch tensor**:"
   ]
  },
  {
   "cell_type": "code",
   "execution_count": null,
   "metadata": {},
   "outputs": [],
   "source": [
    "'''\n",
    "a tensor is the pytorch version of a numpy array\n",
    "a pytorch tensor and numpy array behave nearly identically, much if not most of the time\n",
    "the key thing is a pytorch tensor can also be computed on a gpu, not just cpu\n",
    "so we use tensors because they have all the benefits of numpy arrays plus all the benefits of gpu computation\n",
    "and they have a whole lot of extra functionality as well\n",
    "'''\n",
    "tensor(im3)[4:10,4:10]  # this converts the image im3 to numbers in form of an tensor"
   ]
  },
  {
   "cell_type": "markdown",
   "metadata": {},
   "source": [
    "We can **slice the array** to pick just the part with the top of the digit in it,   \n",
    "and then use a Pandas DataFrame to **color-code the values using a gradient**, which shows us clearly how the image is created from the pixel values:"
   ]
  },
  {
   "cell_type": "code",
   "execution_count": null,
   "metadata": {},
   "outputs": [],
   "source": [
    "'''\n",
    "grab a bit of the image with slicing and turn it into a panda's data frame, \n",
    "because pandas has a very convenient thing called backgroud_gradient()\n",
    "that turns a background into a gradient, as you can see\n",
    "\n",
    "this is super tiny, my phone has millions of pixels\n",
    "'''\n",
    "#hide_output\n",
    "im3_t = tensor(im3)  # image converted into a tensor\n",
    "#df = pd.DataFrame(im3_t[4:15,4:22])  # panda data frame\n",
    "df = pd.DataFrame(im3_t[0:28,0:28])  # panda data frame\n",
    "df.style.set_properties(**{'font-size':'6pt'}).background_gradient('Greys')"
   ]
  },
  {
   "cell_type": "markdown",
   "metadata": {},
   "source": [
    "<img width=\"453\" id=\"output_pd_pixels\" src=\"images/att_00058.png\">"
   ]
  },
  {
   "cell_type": "markdown",
   "metadata": {},
   "source": [
    "You can see that the background **white** pixels are stored as the number **0**, **black** is the number **255**, and **shades of gray** are between the two.  \n",
    "**The entire image contains 28 pixels across and 28 pixels down, for a total of 784 pixels.**  \n",
    "(This is much smaller than an image that you would get from a phone camera, which has millions of pixels, but is a convenient size for our initial learning and experiments.  \n",
    "We will build up to bigger, full-color images soon.)\n",
    "\n",
    "So, now you've seen what an image looks like to a computer,  \n",
    "**let's recall our GOAL: create a model (some kind of a computer program) that can recognize 3s and 7s**.  \n",
    "How might you go about getting a computer to do that?\n",
    "\n",
    "> Warning: Stop and Think!:\n",
    "> Before you read on, take a moment to think about how a computer might be able to recognize these two different digits.  \n",
    "> What kinds of features might it be able to look at?  \n",
    "> How might it be able to identify these features?  \n",
    "> How could it combine them together?  \n",
    "> Learning works best when you try to solve problems yourself, rather than just reading somebody else's answers;  \n",
    "> so step away from this book for a few minutes, grab a piece of paper and pen, and jot some ideas down…  "
   ]
  },
  {
   "cell_type": "markdown",
   "metadata": {},
   "source": [
    "## First Try: Pixel Similarity"
   ]
  },
  {
   "cell_type": "markdown",
   "metadata": {},
   "source": [
    "So, here is a first idea: how about we **find the average pixel value for every pixel of the 3s, then do the same for the 7s**.  \n",
    "This will give us two group averages, defining what we might call the **\"ideal\" 3 and 7**.  \n",
    "**Then, to classify an image as one digit or the other, we see which of these two ideal digits the image is most similar to**.  \n",
    "This certainly seems like it should be better than nothing, so it will make **a good baseline**."
   ]
  },
  {
   "cell_type": "markdown",
   "metadata": {},
   "source": [
    "> jargon: Baseline: A simple model which you are confident should perform reasonably well.  \n",
    "> It should be very simple to implement, and very easy to test, so that you can then test each of your improved ideas, and make sure they are always better than your baseline.  \n",
    "> Without starting with a sensible baseline, it is very difficult to know whether your super-fancy models are actually any good.  \n",
    "> One good approach to creating a baseline is doing what we have done here: think of a simple, easy-to-implement model.  \n",
    "> Another good approach is to search around to find other people that have solved similar problems to yours, and download and run their code on your dataset.  \n",
    "> Ideally, try both of these!  "
   ]
  },
  {
   "cell_type": "markdown",
   "metadata": {},
   "source": [
    "Step one for our simple model is to get **the average of pixel values for each of our two groups**.  \n",
    "In the process of doing this, we will learn a lot of neat Python numeric programming tricks!\n",
    "\n",
    "Let's create **a tensor containing all of our 3s stacked together**.  \n",
    "We already know how to create a tensor containing a single image.  \n",
    "To create **a tensor containing all the images in a directory**, we will first use a **Python list comprehension** to create **a plain list of the single image tensors**.\n",
    "\n",
    "We will use Jupyter to do some little checks of our work along the way—in this case, making sure that the number of returned items seems reasonable:"
   ]
  },
  {
   "cell_type": "code",
   "execution_count": 16,
   "metadata": {},
   "outputs": [
    {
     "data": {
      "text/plain": [
       "(6131, 6265)"
      ]
     },
     "execution_count": 16,
     "metadata": {},
     "output_type": "execute_result"
    }
   ],
   "source": [
    "'''\n",
    "for each of those file names in the sevens,\n",
    "lets Image.open() that file just like we did before, to get a PIL object, \n",
    "and convert that into a tensor\n",
    "and all will be colated into a list with all of the sevens\n",
    "\n",
    "all this thing is a list comprehension (one of the most powerful and useful tools in python)\n",
    "similar with link in c# but not as powerful\n",
    "'''\n",
    "# tensor(img) creates a tensor then you have a tensor of tensors with [tensor(img1), tensor(img2), etc]\n",
    "seven_tensors = [tensor(Image.open(o)) for o in sevens]  # sevens is a list (vector like) that keeps the path to pictures \n",
    "three_tensors = [tensor(Image.open(o)) for o in threes]  # and seven_tensors is a tensor that keeps the all the pictures, as pictures\n",
    "len(three_tensors),len(seven_tensors)                    # see below how an image looks like"
   ]
  },
  {
   "cell_type": "markdown",
   "metadata": {},
   "source": [
    "> note: **List Comprehensions:** List and dictionary comprehensions are a wonderful feature of Python.  \n",
    "Many Python programmers use them every day, including the authors of this book—they are part of \"idiomatic Python.\"  \n",
    "But programmers coming from other languages may have never seen them before.  \n",
    "There are a lot of great tutorials just a web search away, so we won't spend a long time discussing them now.  \n",
    "Here is a quick explanation and example to get you started. A list comprehension looks like this:  \n",
    "**`new_list = [f(o) for o in a_list if o>0]`.  \n",
    "This will return every element of `a_list` that is greater than 0, after passing it to the function `f`**.  \n",
    "There are three parts here:  \n",
    "the collection you are iterating over (`a_list`),  \n",
    "an optional filter (`if o>0`),  \n",
    "and something to do to each element (`f(o)`).  \n",
    "It's not only shorter to write but way faster than the alternative ways of creating the same list with a loop."
   ]
  },
  {
   "cell_type": "markdown",
   "metadata": {},
   "source": [
    "We'll also check that one of the images looks okay.  \n",
    "Since we **now have tensors** (which Jupyter by default will print as values),  \n",
    "**rather than PIL images** (which Jupyter by default will display as images),  \n",
    "we need to use **fastai's `show_image` function** to display it:"
   ]
  },
  {
   "cell_type": "code",
   "execution_count": 17,
   "metadata": {},
   "outputs": [
    {
     "data": {
      "image/png": "[encoded data removed]",
      "text/plain": [
       "<Figure size 100x100 with 1 Axes>"
      ]
     },
     "metadata": {},
     "output_type": "display_data"
    }
   ],
   "source": [
    "show_image(three_tensors[1]);  # a tensors needs fastai's function to display the image"
   ]
  },
  {
   "cell_type": "code",
   "execution_count": 18,
   "metadata": {},
   "outputs": [
    {
     "data": {
      "text/plain": [
       "tensor([[  0,   0,   0,   0,   0,   0,   0,   0,   0,   0,   0,   0,   0,   0,   0,   0,   0,   0,   0,   0,   0,   0,   0,   0,   0,   0,   0,   0],\n",
       "        [  0,   0,   0,   0,   0,   0,   0,   0,   0,   0,   0,   0,   0,   0,   0,   0,   0,   0,   0,   0,   0,   0,   0,   0,   0,   0,   0,   0],\n",
       "        [  0,   0,   0,   0,   0,   0,   0,   0,   0,   0,   0,   0,   0,   0,   0,   0,   0,   0,   0,   0,   0,   0,   0,   0,   0,   0,   0,   0],\n",
       "        [  0,   0,   0,   0,   0,   0,   0,   0,   0,   0,   0,   0,   0,   0,   0,   0,   0,   0,   0,   0,   0,   0,   0,   0,   0,   0,   0,   0],\n",
       "        [  0,   0,   0,   0,   0,   0,   0,   0,   0,   0,   0,   0,   0,   0,   0,   0,   0,   0,   0,   0,   0,   0,   0,   0,   0,   0,   0,   0],\n",
       "        [  0,   0,   0,   0,   0,   0,   0,   0,   0,  29, 150, 195, 254, 255, 254, 176, 193, 150,  96,   0,   0,   0,   0,   0,   0,   0,   0,   0],\n",
       "        [  0,   0,   0,   0,   0,   0,   0,  48, 166, 224, 253, 253, 234, 196, 253, 253, 253, 253, 233,   0,   0,   0,   0,   0,   0,   0,   0,   0],\n",
       "        [  0,   0,   0,   0,   0,  93, 244, 249, 253, 187,  46,  10,   8,   4,  10, 194, 253, 253, 233,   0,   0,   0,   0,   0,   0,   0,   0,   0],\n",
       "        [  0,   0,   0,   0,   0, 107, 253, 253, 230,  48,   0,   0,   0,   0,   0, 192, 253, 253, 156,   0,   0,   0,   0,   0,   0,   0,   0,   0],\n",
       "        [  0,   0,   0,   0,   0,   3,  20,  20,  15,   0,   0,   0,   0,   0,  43, 224, 253, 245,  74,   0,   0,   0,   0,   0,   0,   0,   0,   0],\n",
       "        [  0,   0,   0,   0,   0,   0,   0,   0,   0,   0,   0,   0,   0,   0, 249, 253, 245, 126,   0,   0,   0,   0,   0,   0,   0,   0,   0,   0],\n",
       "        [  0,   0,   0,   0,   0,   0,   0,   0,   0,   0,   0,  14, 101, 223, 253, 248, 124,   0,   0,   0,   0,   0,   0,   0,   0,   0,   0,   0],\n",
       "        [  0,   0,   0,   0,   0,   0,   0,   0,   0,  11, 166, 239, 253, 253, 253, 187,  30,   0,   0,   0,   0,   0,   0,   0,   0,   0,   0,   0],\n",
       "        [  0,   0,   0,   0,   0,   0,   0,   0,   0,  16, 248, 250, 253, 253, 253, 253, 232, 213, 111,   2,   0,   0,   0,   0,   0,   0,   0,   0],\n",
       "        [  0,   0,   0,   0,   0,   0,   0,   0,   0,   0,   0,  43,  98,  98, 208, 253, 253, 253, 253, 187,  22,   0,   0,   0,   0,   0,   0,   0],\n",
       "        [  0,   0,   0,   0,   0,   0,   0,   0,   0,   0,   0,   0,   0,   0,   9,  51, 119, 253, 253, 253,  76,   0,   0,   0,   0,   0,   0,   0],\n",
       "        [  0,   0,   0,   0,   0,   0,   0,   0,   0,   0,   0,   0,   0,   0,   0,   0,   1, 183, 253, 253, 139,   0,   0,   0,   0,   0,   0,   0],\n",
       "        [  0,   0,   0,   0,   0,   0,   0,   0,   0,   0,   0,   0,   0,   0,   0,   0,   0, 182, 253, 253, 104,   0,   0,   0,   0,   0,   0,   0],\n",
       "        [  0,   0,   0,   0,   0,   0,   0,   0,   0,   0,   0,   0,   0,   0,   0,   0,  85, 249, 253, 253,  36,   0,   0,   0,   0,   0,   0,   0],\n",
       "        [  0,   0,   0,   0,   0,   0,   0,   0,   0,   0,   0,   0,   0,   0,   0,  60, 214, 253, 253, 173,  11,   0,   0,   0,   0,   0,   0,   0],\n",
       "        [  0,   0,   0,   0,   0,   0,   0,   0,   0,   0,   0,   0,   0,   0,  98, 247, 253, 253, 226,   9,   0,   0,   0,   0,   0,   0,   0,   0],\n",
       "        [  0,   0,   0,   0,   0,   0,   0,   0,   0,   0,   0,   0,  42, 150, 252, 253, 253, 233,  53,   0,   0,   0,   0,   0,   0,   0,   0,   0],\n",
       "        [  0,   0,   0,   0,   0,   0,  42, 115,  42,  60, 115, 159, 240, 253, 253, 250, 175,  25,   0,   0,   0,   0,   0,   0,   0,   0,   0,   0],\n",
       "        [  0,   0,   0,   0,   0,   0, 187, 253, 253, 253, 253, 253, 253, 253, 197,  86,   0,   0,   0,   0,   0,   0,   0,   0,   0,   0,   0,   0],\n",
       "        [  0,   0,   0,   0,   0,   0, 103, 253, 253, 253, 253, 253, 232,  67,   1,   0,   0,   0,   0,   0,   0,   0,   0,   0,   0,   0,   0,   0],\n",
       "        [  0,   0,   0,   0,   0,   0,   0,   0,   0,   0,   0,   0,   0,   0,   0,   0,   0,   0,   0,   0,   0,   0,   0,   0,   0,   0,   0,   0],\n",
       "        [  0,   0,   0,   0,   0,   0,   0,   0,   0,   0,   0,   0,   0,   0,   0,   0,   0,   0,   0,   0,   0,   0,   0,   0,   0,   0,   0,   0],\n",
       "        [  0,   0,   0,   0,   0,   0,   0,   0,   0,   0,   0,   0,   0,   0,   0,   0,   0,   0,   0,   0,   0,   0,   0,   0,   0,   0,   0,   0]], dtype=torch.uint8)"
      ]
     },
     "execution_count": 18,
     "metadata": {},
     "output_type": "execute_result"
    }
   ],
   "source": [
    "three_tensors[1]  # added by me - jupyter by default prints tensors as values not images"
   ]
  },
  {
   "cell_type": "code",
   "execution_count": 19,
   "metadata": {},
   "outputs": [
    {
     "data": {
      "text/plain": [
       "torch.Size([28, 28])"
      ]
     },
     "execution_count": 19,
     "metadata": {},
     "output_type": "execute_result"
    }
   ],
   "source": [
    "three_tensors[1].shape  # the size is a 28 by 28; the rows by columns"
   ]
  },
  {
   "cell_type": "code",
   "execution_count": 20,
   "metadata": {},
   "outputs": [
    {
     "data": {
      "text/plain": [
       "list"
      ]
     },
     "execution_count": 20,
     "metadata": {},
     "output_type": "execute_result"
    }
   ],
   "source": [
    "'''\n",
    "but three_tensors itself is a list; I can't easily do mathematical computations on that\n",
    "we could stack these 28x28 images on top of eachother, to create like a 3d cube of images\n",
    "it's still called a tensor, and to stack them up you use stack()\n",
    "'''\n",
    "type(three_tensors)\n"
   ]
  },
  {
   "cell_type": "markdown",
   "metadata": {},
   "source": [
    "**For every pixel position**, we want to compute **the average** over all the images of the intensity of that pixel.  \n",
    "**To do this we first combine all the images in this list into a single three-dimensional tensor**.  \n",
    "    - three_tensors is a list and we transform it into a 3-dim tensor  \n",
    "    - why 3 dims?! bc each image is 28x28 and there are 6131 images - so 3 dimensions  \n",
    "    - but why the need for that? a tensor of tensors like three_tensors isn't the same? no, a tensor of tensors holds multiple tensors, and a rank-3 tensor is only one tensor!  \n",
    "The most common way to describe such a tensor is to call it a **rank-3 tensor**.   \n",
    "**We often need to stack up individual tensors in a collection into a single tensor.**  \n",
    "Unsurprisingly, **PyTorch** comes with a function called **`stack`** that we can use for this purpose.\n",
    "\n",
    "Some operations in PyTorch, such as **taking a mean, require us to *cast* our integer types to float types**.  \n",
    "Since we'll be needing this later, we'll also cast our stacked tensor to `float` now.  \n",
    "Casting in PyTorch is as simple as typing the name of the type you wish to cast to, and treating it as a method.\n",
    "\n",
    "**Generally when images are floats, the pixel values are expected to be between 0 and 1**, so we will also divide by 255 here:"
   ]
  },
  {
   "cell_type": "code",
   "execution_count": 21,
   "metadata": {},
   "outputs": [
    {
     "data": {
      "text/plain": [
       "torch.Size([6131, 28, 28])"
      ]
     },
     "execution_count": 21,
     "metadata": {},
     "output_type": "execute_result"
    }
   ],
   "source": [
    "'''\n",
    "we need the averate of all of those 3s\n",
    "so the 1st thing to do is to change a list into a tensor\n",
    "the shape of it is now 6131x28x28\n",
    "it's like a cube of height 6131 by 28 by 28 \n",
    "if we want to take the mean, we're going to turn into floating point values, because we don't want to have integers rounding off\n",
    "and it's kind of a standard in computer vision that when you're working with floats, you expect them to be between 0 and 1\n",
    "so we divide by 255 because they were between 0 and 255 before (the pixels)\n",
    "'''\n",
    "stacked_sevens = torch.stack(seven_tensors).float()/255  # stacked tensors is a single tensor with 3 dims, seven_tensors is a list of tensors rank 2 (a list of matrices; like a vector of vectors)\n",
    "stacked_threes = torch.stack(three_tensors).float()/255  # mean operation needs float, and when images are floats we need values between 0 and 1\n",
    "stacked_threes.shape"
   ]
  },
  {
   "cell_type": "code",
   "execution_count": 22,
   "metadata": {},
   "outputs": [
    {
     "data": {
      "text/plain": [
       "torch.Tensor"
      ]
     },
     "execution_count": 22,
     "metadata": {},
     "output_type": "execute_result"
    }
   ],
   "source": [
    "type(stacked_sevens)"
   ]
  },
  {
   "cell_type": "code",
   "execution_count": 23,
   "metadata": {},
   "outputs": [
    {
     "data": {
      "image/png": "[encoded data removed]",
      "text/plain": [
       "<Figure size 100x100 with 1 Axes>"
      ]
     },
     "metadata": {},
     "output_type": "display_data"
    }
   ],
   "source": [
    "show_image(stacked_threes[1]);  # added by me\n",
    "#stacked_threes[1]  # shows numbers between 0 and 1"
   ]
  },
  {
   "cell_type": "markdown",
   "metadata": {},
   "source": [
    "Perhaps the most important attribute of a tensor is its **shape**.  \n",
    "**This tells you the length of each axis.**   \n",
    "In this case, we can see that we have **6,131 images, each of size 28×28 pixels**.  -> that's why 3 dims    \n",
    "There is nothing specifically about this tensor that says that:  \n",
    "    the first axis is the number of images,  \n",
    "    the second is the height,  \n",
    "    and the third is the width  \n",
    "— the semantics of a tensor are entirely up to us, and how we construct it.  \n",
    "As far as PyTorch is concerned, it is just a bunch of numbers in memory.\n",
    "\n",
    "**The length of a tensor's shape is its rank**:"
   ]
  },
  {
   "cell_type": "code",
   "execution_count": 24,
   "metadata": {},
   "outputs": [
    {
     "data": {
      "text/plain": [
       "3"
      ]
     },
     "execution_count": 24,
     "metadata": {},
     "output_type": "execute_result"
    }
   ],
   "source": [
    "'''\n",
    "this is rank 3 tensor, with 3 axis\n",
    "there_tensors[1] was a rank 2 tensor, with 2 axis\n",
    "numpy calls it axis, pytorch calls it dimensions \n",
    "so the rank is also the number of dimensions: ndim\n",
    "'''\n",
    "len(stacked_threes.shape)  "
   ]
  },
  {
   "cell_type": "markdown",
   "metadata": {},
   "source": [
    "It is really important for you to commit to memory and practice these bits of tensor jargon:  \n",
    "**_rank_ is the number of axes or dimensions in a tensor;**  \n",
    "**_shape_ is the size of each axis of a tensor.**  (a list containing the size of each axis in a tensor)  \n",
    "\n",
    "> A: Watch out because the term \"dimension\" is sometimes used in two ways.  \n",
    "Consider that we live in \"three-dimensional space\" where a physical position can be described by a 3-vector `v`.  \n",
    "But according to PyTorch, the attribute `v.ndim` (which sure looks like the \"number of dimensions\" of `v`) equals one, not three!  \n",
    "Why? Because `v` is a vector, which is a tensor of rank one, meaning that it has only one _axis_ (even if that axis has a length of three).  \n",
    "In other words, sometimes dimension is used for the size of an axis (\"space is three-dimensional\");  \n",
    "other times, it is used for the rank, or the number of axes (\"a matrix has two dimensions\").  \n",
    "When confused, I find it helpful to translate all statements into terms of rank, axis, and length, which are unambiguous terms."
   ]
  },
  {
   "cell_type": "markdown",
   "metadata": {},
   "source": [
    "We can also get a **tensor's rank** directly with **`ndim`**:"
   ]
  },
  {
   "cell_type": "code",
   "execution_count": 25,
   "metadata": {},
   "outputs": [
    {
     "data": {
      "text/plain": [
       "3"
      ]
     },
     "execution_count": 25,
     "metadata": {},
     "output_type": "execute_result"
    }
   ],
   "source": [
    "stacked_threes.ndim"
   ]
  },
  {
   "cell_type": "markdown",
   "metadata": {},
   "source": [
    "**Finally, we can compute what the ideal 3 looks like.**  \n",
    "We calculate **the mean of all the image tensors by taking the mean along dimension 0** of our stacked, rank-3 tensor.  \n",
    "This is the dimension that indexes over all the images.  \n",
    "\n",
    "In other words, **for every pixel position, this will compute the average of that pixel over all images.**  \n",
    "**The result will be one value for every pixel position, or a single image.**  \n",
    "Here it is:"
   ]
  },
  {
   "cell_type": "code",
   "execution_count": 26,
   "metadata": {},
   "outputs": [
    {
     "data": {
      "text/plain": [
       "tensor(0.1415)"
      ]
     },
     "execution_count": 26,
     "metadata": {},
     "output_type": "execute_result"
    }
   ],
   "source": [
    "'''\n",
    "this returns a single number, that's the average pixel across the whole cube, the whole rank three tensor  \n",
    "'''\n",
    "stacked_threes.mean()"
   ]
  },
  {
   "cell_type": "code",
   "execution_count": 27,
   "metadata": {},
   "outputs": [
    {
     "data": {
      "image/png": "[encoded data removed]",
      "text/plain": [
       "<Figure size 100x100 with 1 Axes>"
      ]
     },
     "metadata": {},
     "output_type": "display_data"
    }
   ],
   "source": [
    "'''\n",
    "but if we say mean(0) that means take the mean over axis 0; \n",
    "the mean across the images\n",
    "'''\n",
    "mean3 = stacked_threes.mean(0)  # calculate mean along dimension 0\n",
    "show_image(mean3);  "
   ]
  },
  {
   "cell_type": "code",
   "execution_count": null,
   "metadata": {},
   "outputs": [],
   "source": [
    "'''\n",
    "that's now 28x28 again, because we kind of like reduced over this 6131\n",
    "we took the mean across that axis and so we can show that image\n",
    "'''\n",
    "mean3.shape"
   ]
  },
  {
   "cell_type": "markdown",
   "metadata": {},
   "source": [
    "According to this dataset, this is **the ideal number 3**! (You may not like it, but this is what peak number 3 performance looks like.)  \n",
    "You can see how it's very dark where all the images agree it should be dark, but it becomes wispy and blurry where the images disagree. \n",
    "\n",
    "Let's do **the same thing for the 7s**, but put all the steps together at once to save some time:"
   ]
  },
  {
   "cell_type": "code",
   "execution_count": 28,
   "metadata": {},
   "outputs": [
    {
     "data": {
      "image/png": "[encoded data removed]",
      "text/plain": [
       "<Figure size 100x100 with 1 Axes>"
      ]
     },
     "metadata": {},
     "output_type": "display_data"
    }
   ],
   "source": [
    "mean7 = stacked_sevens.mean(0)\n",
    "show_image(mean7);"
   ]
  },
  {
   "cell_type": "markdown",
   "metadata": {},
   "source": [
    "Let's now pick an **arbitrary 3 and measure its distance from our \"ideal digits\"**.\n",
    "\n",
    "> Stop and Think!: How would you calculate how similar a particular image is to each of our ideal digits?  \n",
    "Remember to step away from this book and jot down some ideas before you move on!  \n",
    "Research shows that recall and understanding improves dramatically when you are engaged with the learning process by solving problems, experimenting, and trying new ideas yourself\n",
    "\n",
    "**Here's a sample 3:**"
   ]
  },
  {
   "cell_type": "code",
   "execution_count": 29,
   "metadata": {},
   "outputs": [
    {
     "data": {
      "image/png": "[encoded data removed]",
      "text/plain": [
       "<Figure size 100x100 with 1 Axes>"
      ]
     },
     "metadata": {},
     "output_type": "display_data"
    }
   ],
   "source": [
    "'''\n",
    "now let's grab any 3\n",
    "and now is this 3 more similar to the ideal 3 or to the ideal 7?\n",
    "and whichever one it's more similar to, I'm going to assume that's the answer \n",
    "'''\n",
    "a_3 = stacked_threes[1]    \n",
    "show_image(a_3);"
   ]
  },
  {
   "cell_type": "markdown",
   "metadata": {},
   "source": [
    "**How can we determine its distance from our ideal 3?**  \n",
    "**We can't just add up the differences between the pixels of this image and the ideal digit.  \n",
    "Some differences will be positive while others will be negative, and these differences will cancel out,**  \n",
    "resulting in a situation where an image that is too dark in some places and too light in others might be shown as having zero total differences from the ideal.  \n",
    "That would be misleading!  \n",
    "(we need them all to be positive numbers  \n",
    "there are 2 ways to make them all positive numbers)\n",
    "\n",
    "To avoid this, there are **two main ways data scientists measure distance in this context**:\n",
    "\n",
    "- Take the **mean of the *absolute value* of differences** (absolute value is the function that replaces negative values with positive values). This is called the **mean absolute difference** or **L1 norm**\n",
    "- Take the **mean of the *square* of differences** (which makes everything positive) **and then take the *square root*** (which undoes the squaring). This is called the **root mean squared error** (RMSE) or **L2 norm**.\n",
    "\n",
    "> important: It's Okay to Have Forgotten Your Math: In this book we generally assume that you have completed high school math, and remember at least some of it... But everybody forgets some things! It all depends on what you happen to have had reason to practice in the meantime. Perhaps you have forgotten what a _square root_ is, or exactly how they work. No problem! Any time you come across a maths concept that is not explained fully in this book, don't just keep moving on; instead, stop and look it up. Make sure you understand the basic idea, how it works, and why we might be using it. One of the best places to refresh your understanding is Khan Academy. For instance, Khan Academy has a great [introduction to square roots](https://www.khanacademy.org/math/algebra/x2f8bb11595b61c86:rational-exponents-radicals/x2f8bb11595b61c86:radicals/v/understanding-square-roots)."
   ]
  },
  {
   "cell_type": "markdown",
   "metadata": {},
   "source": [
    "Let's try both of these now:"
   ]
  },
  {
   "cell_type": "code",
   "execution_count": 30,
   "metadata": {},
   "outputs": [
    {
     "data": {
      "text/plain": [
       "(tensor(0.1114), tensor(0.2021))"
      ]
     },
     "execution_count": 30,
     "metadata": {},
     "output_type": "execute_result"
    }
   ],
   "source": [
    "dist_3_abs = (a_3 - mean3).abs().mean()  # a_3 is a tensor from position 1 and mean3 and the average of all 3s\n",
    "dist_3_sqr = ((a_3 - mean3)**2).mean().sqrt()\n",
    "dist_3_abs,dist_3_sqr   # this will be used later"
   ]
  },
  {
   "cell_type": "code",
   "execution_count": 31,
   "metadata": {},
   "outputs": [
    {
     "data": {
      "text/plain": [
       "(tensor(0.1586), tensor(0.3021))"
      ]
     },
     "execution_count": 31,
     "metadata": {},
     "output_type": "execute_result"
    }
   ],
   "source": [
    "dist_7_abs = (a_3 - mean7).abs().mean()  # this time we'll compare it to the mean of the sevens\n",
    "dist_7_sqr = ((a_3 - mean7)**2).mean().sqrt()\n",
    "dist_7_abs,dist_7_sqr"
   ]
  },
  {
   "cell_type": "markdown",
   "metadata": {},
   "source": [
    "**In both cases, the distance between our 3 and the \"ideal\" 3 is less than the distance to the ideal 7.**  \n",
    "(0.1114 < 0.1586 and 0.2021 < 0.3021)  \n",
    "So our simple model will give the right prediction in this case. (me: it's a 3)  \n",
    "\n",
    "so it's closer to the mean of the 3s than to the mean of the 7s  \n",
    "so we guess therefore that this is a 3  \n",
    "so this is a good baseline"
   ]
  },
  {
   "cell_type": "markdown",
   "metadata": {},
   "source": [
    "PyTorch already provides both of these as **loss functions**.  \n",
    "You'll find these inside `torch.nn.functional`, which the PyTorch team recommends importing as `F` (and is available by default under that name in fastai):"
   ]
  },
  {
   "cell_type": "code",
   "execution_count": 32,
   "metadata": {},
   "outputs": [
    {
     "data": {
      "text/plain": [
       "(tensor(0.1586), tensor(0.3021))"
      ]
     },
     "execution_count": 32,
     "metadata": {},
     "output_type": "execute_result"
    }
   ],
   "source": [
    "#F.l1_loss(a_3.float(),mean7), F.mse_loss(a_3,mean7).sqrt()  # original code but float() has no sense there bc a_3 is a stacked_three[1] which is already transformed to float, and the same for mean7\n",
    "F.l1_loss(a_3,mean7), F.mse_loss(a_3,mean7).sqrt()  # mse_loss doesn't do the sqrt by default so we need to pop that in"
   ]
  },
  {
   "cell_type": "markdown",
   "metadata": {},
   "source": [
    "Here `mse` stands for *mean squared error*, and `l1` refers to the standard mathematical jargon for *mean absolute value* (in math it's called the *L1 norm*)."
   ]
  },
  {
   "cell_type": "markdown",
   "metadata": {},
   "source": [
    "> S: Intuitively, the difference between L1 norm and mean squared error (MSE) is that the **latter (MSE) will penalize bigger mistakes more heavily than the former(L1 norm) (and be more lenient with small mistakes).**"
   ]
  },
  {
   "cell_type": "markdown",
   "metadata": {},
   "source": [
    "> J: When I first came across this \"L1\" thingie, I looked it up to see what on earth it meant. I found on Google that it is a _vector norm_ using _absolute value_, so looked up _vector norm_ and started reading: _Given a vector space V over a field F of the real or complex numbers, a norm on V is a nonnegative-valued any function p: V → \\[0,+∞) with the following properties: For all a ∈ F and all u, v ∈ V, p(u + v) ≤ p(u) + p(v)..._ Then I stopped reading. \"Ugh, I'll never understand math!\" I thought, for the thousandth time. Since then I've learned that every time these complex mathy bits of jargon come up in practice, it turns out I can replace them with a tiny bit of code!  \n",
    "Like, the **_L1 loss_ is just equal to `(a-b).abs().mean()`**, here `a` and `b` are tensors.  \n",
    "I guess mathy folks just think differently than me... I'll make sure in this book that every time some mathy jargon comes up, I'll give you the little bit of code it's equal to as well, and explain in common-sense terms what's going on."
   ]
  },
  {
   "cell_type": "markdown",
   "metadata": {},
   "source": [
    "We just completed various mathematical operations on PyTorch tensors.  \n",
    "If you've done some numeric programming in NumPy before, you may recognize these as being similar to NumPy arrays.  \n",
    "**Let's have a look at those two very important data structures.**"
   ]
  },
  {
   "cell_type": "markdown",
   "metadata": {},
   "source": [
    "### NumPy Arrays and PyTorch Tensors"
   ]
  },
  {
   "cell_type": "markdown",
   "metadata": {},
   "source": [
    "**[NumPy](https://numpy.org/)** is the most widely used library for scientific and numeric programming in Python.  \n",
    "It provides very similar functionality and a very similar API to that provided by PyTorch;  \n",
    "however, **it does not support using the GPU or calculating gradients**, which are both critical for deep learning.  \n",
    "Therefore, in this book **we will generally use PyTorch tensors instead of NumPy arrays**, where possible.  \n",
    "\n",
    "(Note that fastai adds some features to NumPy and PyTorch to make them a bit more similar to each other.  \n",
    "If any code in this book doesn't work on your computer, it's possible that you forgot to include a line like this at the start of your notebook: `from fastai.vision.all import *`.)\n",
    "\n",
    "But what are arrays and tensors, and why should you care?"
   ]
  },
  {
   "cell_type": "markdown",
   "metadata": {},
   "source": [
    "Python is slow compared to many languages. Anything fast in Python, NumPy, or PyTorch is likely to be a wrapper for a compiled object written (and optimized) in another language—specifically C.  \n",
    "In fact, **NumPy arrays and PyTorch tensors can finish computations many thousands of times faster than using pure Python.**\n",
    "\n",
    "**A NumPy array is a multidimensional table of data, with all items of the same type.**  \n",
    "Since that can be any type at all, they can even be arrays of arrays, with **the innermost arrays potentially being different sizes—this is called a \"jagged array.\"** (ca un fierastrau)  \n",
    "By \"multidimensional table\" we mean, for instance, a list (dimension of one), a table or matrix (dimension of two), a \"table of tables\" or \"cube\" (dimension of three), and so forth.  \n",
    "**If the items are all of some simple type such as integer or float, then NumPy will store them as a compact C data structure in memory.**  \n",
    "This is where NumPy shines. NumPy has a wide variety of operators and methods that can run computations on these compact structures at the same speed as optimized C, because they are written in optimized C.\n",
    "\n",
    "**A PyTorch tensor** is nearly the same thing as a NumPy array, but with **an additional restriction that unlocks some additional capabilities.**  \n",
    "It's the same in that it, too, is a multidimensional table of data, with all items of the same type.  \n",
    "**However, the restriction is that a tensor cannot use just any old type—it has to use a single basic numeric type for all components.**     \n",
    "For example, **a PyTorch tensor cannot be jagged. It is always a regularly shaped multidimensional rectangular structure.**  \n",
    "\n",
    "The vast majority of methods and operators supported by NumPy on these structures are also supported by PyTorch, but **PyTorch tensors have additional capabilities**.  \n",
    "One major capability is that **these structures can live on the GPU, in which case their computation will be optimized for the GPU and can run much faster** (given lots of values to work on).  \n",
    "In addition, PyTorch can automatically **calculate derivatives** of these operations, including combinations of operations.  \n",
    "As you'll see, it would be impossible to do deep learning in practice without this capability.  \n",
    "\n",
    "> S: If you don't know what C is, don't worry as you won't need it at all. In a nutshell, it's a low-level  (low-level means more similar to the language that computers use internally) language that is very fast compared to Python.  \n",
    "**To take advantage of its speed while programming in Python, try to avoid as much as possible writing loops, and replace them by commands that work directly on arrays or tensors.**\n",
    "\n",
    "Perhaps the most important new coding skill for a Python programmer to learn is how to **effectively use the array/tensor APIs**.  \n",
    "We will be showing lots more tricks later in this book, but **here's a summary** of the key things you need to know for now."
   ]
  },
  {
   "cell_type": "markdown",
   "metadata": {},
   "source": [
    "**To create an array or tensor,  \n",
    "pass a list (or list of lists, or list of lists of lists, etc.)  \n",
    "to `array()` or `tensor()`:**"
   ]
  },
  {
   "cell_type": "code",
   "execution_count": 33,
   "metadata": {},
   "outputs": [],
   "source": [
    "data = [[1,2,3],[4,5,6]]\n",
    "arr = array (data)\n",
    "tns = tensor(data)"
   ]
  },
  {
   "cell_type": "code",
   "execution_count": 34,
   "metadata": {},
   "outputs": [
    {
     "data": {
      "text/plain": [
       "array([[1, 2, 3],\n",
       "       [4, 5, 6]])"
      ]
     },
     "execution_count": 34,
     "metadata": {},
     "output_type": "execute_result"
    }
   ],
   "source": [
    "arr  # numpy"
   ]
  },
  {
   "cell_type": "code",
   "execution_count": 35,
   "metadata": {},
   "outputs": [
    {
     "data": {
      "text/plain": [
       "tensor([[1, 2, 3],\n",
       "        [4, 5, 6]])"
      ]
     },
     "execution_count": 35,
     "metadata": {},
     "output_type": "execute_result"
    }
   ],
   "source": [
    "tns  # pytorch"
   ]
  },
  {
   "cell_type": "markdown",
   "metadata": {},
   "source": [
    "All the operations that follow are shown on tensors, but the syntax and results for NumPy arrays is identical.\n",
    "\n",
    "**You can select a row** (note that, like lists in Python, tensors are 0-indexed so 1 refers to the second row/column):"
   ]
  },
  {
   "cell_type": "code",
   "execution_count": 36,
   "metadata": {},
   "outputs": [
    {
     "data": {
      "text/plain": [
       "tensor([4, 5, 6])"
      ]
     },
     "execution_count": 36,
     "metadata": {},
     "output_type": "execute_result"
    }
   ],
   "source": [
    "tns[1]  # row 1; the 2nd row"
   ]
  },
  {
   "cell_type": "markdown",
   "metadata": {},
   "source": [
    "or **a column**, by using **`:` to indicate *all of the first axis*** (we sometimes refer to the dimensions of tensors/arrays as *axes*):"
   ]
  },
  {
   "cell_type": "code",
   "execution_count": 37,
   "metadata": {},
   "outputs": [
    {
     "data": {
      "text/plain": [
       "tensor([2, 5])"
      ]
     },
     "execution_count": 37,
     "metadata": {},
     "output_type": "execute_result"
    }
   ],
   "source": [
    "tns[:,1]  # 1st position shows the row, 2nd position shows the column"
   ]
  },
  {
   "cell_type": "markdown",
   "metadata": {},
   "source": [
    "You can combine these with Python **slice syntax (`[start:end]` with `end` being excluded)** to select part of a row or column:"
   ]
  },
  {
   "cell_type": "code",
   "execution_count": 38,
   "metadata": {},
   "outputs": [
    {
     "data": {
      "text/plain": [
       "tensor([5, 6])"
      ]
     },
     "execution_count": 38,
     "metadata": {},
     "output_type": "execute_result"
    }
   ],
   "source": [
    "tns[1,1:3]   # row 1, columns 1,2 (not 3)"
   ]
  },
  {
   "cell_type": "markdown",
   "metadata": {},
   "source": [
    "And you can use the standard operators such as `+`, `-`, `*`, `/`:"
   ]
  },
  {
   "cell_type": "code",
   "execution_count": 39,
   "metadata": {},
   "outputs": [
    {
     "data": {
      "text/plain": [
       "tensor([[2, 3, 4],\n",
       "        [5, 6, 7]])"
      ]
     },
     "execution_count": 39,
     "metadata": {},
     "output_type": "execute_result"
    }
   ],
   "source": [
    "tns+1"
   ]
  },
  {
   "cell_type": "markdown",
   "metadata": {},
   "source": [
    "Tensors have a **type**:"
   ]
  },
  {
   "cell_type": "code",
   "execution_count": 40,
   "metadata": {},
   "outputs": [
    {
     "data": {
      "text/plain": [
       "'torch.LongTensor'"
      ]
     },
     "execution_count": 40,
     "metadata": {},
     "output_type": "execute_result"
    }
   ],
   "source": [
    "tns.type()"
   ]
  },
  {
   "cell_type": "code",
   "execution_count": 41,
   "metadata": {},
   "outputs": [
    {
     "data": {
      "text/plain": [
       "torch.Tensor"
      ]
     },
     "execution_count": 41,
     "metadata": {},
     "output_type": "execute_result"
    }
   ],
   "source": [
    "'''\n",
    "this is different from python type, which is a method\n",
    "this tells you it's a tensor\n",
    "if you want to know what kind of a tensor, you have to use type as a method: tns.type()\n",
    "'''\n",
    "type(tns)"
   ]
  },
  {
   "cell_type": "markdown",
   "metadata": {},
   "source": [
    "And will **automatically change type as needed**, for example from `int` to `float`:"
   ]
  },
  {
   "cell_type": "code",
   "execution_count": 42,
   "metadata": {},
   "outputs": [
    {
     "data": {
      "text/plain": [
       "tensor([[1.5000, 3.0000, 4.5000],\n",
       "        [6.0000, 7.5000, 9.0000]])"
      ]
     },
     "execution_count": 42,
     "metadata": {},
     "output_type": "execute_result"
    }
   ],
   "source": [
    "tns*1.5"
   ]
  },
  {
   "cell_type": "markdown",
   "metadata": {},
   "source": [
    "**So, is our baseline model any good?  \n",
    "Our model that compares something to the mean  \n",
    "To quantify this, we must define a metric**."
   ]
  },
  {
   "cell_type": "markdown",
   "metadata": {},
   "source": [
    "## Computing Metrics Using Broadcasting"
   ]
  },
  {
   "cell_type": "markdown",
   "metadata": {},
   "source": [
    "Recall that **a metric is a number that is calculated based on the predictions of our model, and the correct labels in our dataset, in order to tell us how good our model is**.  \n",
    "For instance, we could use either of the functions we saw in the previous section, **mean squared error, or mean absolute error, and take the average of them over the whole dataset.**   \n",
    "However, neither of these are numbers that are very understandable to most people;  \n",
    "in practice, we normally **use accuracy as the metric for classification models**.  \n",
    "\n",
    "As we've discussed, we want to **calculate our metric over a validation set**.  \n",
    "This is so that we don't inadvertently **overfit—that is, train a model to work well only on our training data**.  \n",
    "This is not really a risk with the pixel similarity model we're using here as a first try, since it has no trained components,  \n",
    "but we'll use a validation set anyway to follow normal practices and to be ready for our second try later.\n",
    "\n",
    "To get a validation set we need to remove some of the data from training entirely, so it is not seen by the model at all.  \n",
    "As it turns out, the creators of the MNIST dataset have already done this for us.  \n",
    "Do you remember how there was a whole separate **directory called *valid***? That's what this directory is for!\n",
    "\n",
    "So to start with, **let's create tensors for our 3s and 7s from that directory (valid)**.  \n",
    "**These are the tensors we will use to calculate a metric measuring the quality of our first-try model, which measures distance from an ideal image**:"
   ]
  },
  {
   "cell_type": "code",
   "execution_count": 43,
   "metadata": {},
   "outputs": [
    {
     "data": {
      "text/plain": [
       "(torch.Size([1010, 28, 28]), torch.Size([1028, 28, 28]))"
      ]
     },
     "execution_count": 43,
     "metadata": {},
     "output_type": "execute_result"
    }
   ],
   "source": [
    "valid_3_tens = torch.stack([tensor(Image.open(o)) for o in (path/'valid'/'3').ls()])  # combine all the steps for valids\n",
    "valid_3_tens = valid_3_tens.float()/255\n",
    "#\n",
    "valid_7_tens = torch.stack([tensor(Image.open(o)) for o in (path/'valid'/'7').ls()])\n",
    "valid_7_tens = valid_7_tens.float()/255\n",
    "#\n",
    "valid_3_tens.shape, valid_7_tens.shape   # they are just 1k because it's the validation set"
   ]
  },
  {
   "cell_type": "markdown",
   "metadata": {},
   "source": [
    "It's good to get in **the habit of checking shapes** as you go.  \n",
    "Here we see two tensors, one representing the 3s validation set of 1,010 images of size 28×28, and one representing the 7s validation set of 1,028 images of size 28×28.\n",
    "\n",
    "==\n",
    "\n",
    "We ultimately want to write **a function, `is_3`, that will decide if an arbitrary image is a 3 or a 7.  \n",
    "(will return true if something is a 3)**    \n",
    "**It will do this by deciding which of our two \"ideal digits\" this arbitrary image is closer to.**  \n",
    "(to do that we have to decide whether our digit that we're testing on is closer to the ideal 3 or to ideal 7)  \n",
    "For that we need to define **a notion of distance  \n",
    "— that is, a function that calculates the distance between two images**.  \n",
    "\n",
    "We can write a simple **function that calculates the mean absolute error** using an expression very similar to the one we wrote in the last section:  \n",
    "(takes distance between 2 tensors, takes the absolute value and then takes the mean)"
   ]
  },
  {
   "cell_type": "code",
   "execution_count": 44,
   "metadata": {},
   "outputs": [
    {
     "data": {
      "text/plain": [
       "tensor(0.1114)"
      ]
     },
     "execution_count": 44,
     "metadata": {},
     "output_type": "execute_result"
    }
   ],
   "source": [
    "'''\n",
    "the mean over the last and the second last dimensions (0 is the 1st, -1 is the last, -2 is the second last)\n",
    "so this is going to take the mean acros the x and y axis\n",
    "'''\n",
    "\n",
    "def mnist_distance(a,b):               \n",
    "    return (a-b).abs().mean((-1,-2))   # why -1,-2? https://forums.fast.ai/t/understanding-mean-1-2-in-mnist-distance/84430\n",
    "mnist_distance(a_3, mean3)             # same as dist_a3_abs, cell 27"
   ]
  },
  {
   "cell_type": "markdown",
   "metadata": {},
   "source": [
    "This is **the same value** we previously calculated for the **distance between these two images,  \n",
    "the ideal 3, `mean3` and the arbitrary sample 3 `a_3`,**    \n",
    "which are both single-image tensors with a shape of `[28,28]`.\n",
    "\n",
    "But in order to calculate **A METRIC FOR OVERALL ACCURACY**,  \n",
    "**we will need to calculate the distance to the ideal 3 for _every_ image in the validation set**.  \n",
    "How do we do that calculation?  \n",
    "We could write a loop over all of the single-image tensors that are stacked within our validation set tensor,  \n",
    "`valid_3_tens`, which has a shape of `[1010,28,28]` representing 1,010 images.  \n",
    "But there is a better way.  \n",
    "\n",
    "Something very interesting happens when **we take this exact same distance function,  \n",
    "designed for comparing two single images,  \n",
    "but pass in as an argument `valid_3_tens`,  \n",
    "the tensor that represents the 3s validation set** (a rank-3 tensors):"
   ]
  },
  {
   "cell_type": "code",
   "execution_count": 45,
   "metadata": {},
   "outputs": [
    {
     "data": {
      "text/plain": [
       "(tensor([0.1086, 0.1092, 0.1124,  ..., 0.1368, 0.1382, 0.1187]),\n",
       " torch.Size([1010]),\n",
       " 1)"
      ]
     },
     "execution_count": 45,
     "metadata": {},
     "output_type": "execute_result"
    }
   ],
   "source": [
    "'''\n",
    "mnist_distance:\n",
    "    takes the difference between different tensors with broadcasting\n",
    "    then we say the absolute value on something of size 1010x28x28 (difference.shape) \n",
    "    it just calls abs value on each underlying thing\n",
    "    and finally, we call mean: -1 is the last element in python, -2 is the second last\n",
    "    so this is taking the mean over the last 2 axis\n",
    "    and it's going to return just the 1st axis - meaning 1010 elements, each element is the mean of a 784 (28x28) pixels\n",
    "    which is what we want: to know how far away is each of our validation items from the ideal 3\n",
    "'''\n",
    "valid_3_dist = mnist_distance(valid_3_tens, mean3)\n",
    "valid_3_dist, valid_3_dist.shape, valid_3_dist.ndim"
   ]
  },
  {
   "cell_type": "code",
   "execution_count": 46,
   "metadata": {},
   "outputs": [
    {
     "data": {
      "text/plain": [
       "torch.Size([1010, 28, 28])"
      ]
     },
     "execution_count": 46,
     "metadata": {},
     "output_type": "execute_result"
    }
   ],
   "source": [
    "valid_3_tens.shape"
   ]
  },
  {
   "cell_type": "code",
   "execution_count": 47,
   "metadata": {},
   "outputs": [
    {
     "data": {
      "text/plain": [
       "torch.Size([28, 28])"
      ]
     },
     "execution_count": 47,
     "metadata": {},
     "output_type": "execute_result"
    }
   ],
   "source": [
    "'''\n",
    "because they don't match it acts like as if there's a 1010 versions of this 28x28 of this mean3\n",
    "so it's going to substract mean3 from every single valid_3_tens \n",
    "'''\n",
    "mean3.shape"
   ]
  },
  {
   "cell_type": "markdown",
   "metadata": {},
   "source": [
    "Instead of complaining about shapes not matching,  \n",
    "it returned the **distance for every single image as a vector (i.e., a rank-1 tensor) of length 1,010** (the number of 3s in our validation set).  \n",
    "How did that happen?\n",
    "\n",
    "Take another look at our function `mnist_distance`, and you'll see we have there the subtraction `(a-b)`.  \n",
    "The magic trick is that PyTorch, when it tries to perform a simple subtraction operation between two tensors of different ranks, will use **broadcasting**.  \n",
    "That is, **it will automatically expand the tensor with the smaller rank to have the same size as the one with the larger rank**.  \n",
    "Broadcasting is an important capability that makes tensor code much easier to write.\n",
    "\n",
    "After broadcasting so the two argument tensors have the same rank,  \n",
    "PyTorch applies its usual logic for two tensors of the same rank:  \n",
    "it performs the operation on each corresponding element of the two tensors, and returns the tensor result.  \n",
    "For instance:"
   ]
  },
  {
   "cell_type": "code",
   "execution_count": 48,
   "metadata": {},
   "outputs": [
    {
     "data": {
      "text/plain": [
       "tensor([2, 3, 4])"
      ]
     },
     "execution_count": 48,
     "metadata": {},
     "output_type": "execute_result"
    }
   ],
   "source": [
    "'''\n",
    "element wise operations - adds each element\n",
    "'''\n",
    "tensor([1,2,3]) + tensor([1,1,1])"
   ]
  },
  {
   "cell_type": "code",
   "execution_count": 49,
   "metadata": {},
   "outputs": [
    {
     "data": {
      "text/plain": [
       "tensor([2, 3, 4])"
      ]
     },
     "execution_count": 49,
     "metadata": {},
     "output_type": "execute_result"
    }
   ],
   "source": [
    "'''\n",
    "when I have different shapes, it copies 1 for 3 times\n",
    "'''\n",
    "tensor([1,2,3]) + tensor(1)"
   ]
  },
  {
   "cell_type": "markdown",
   "metadata": {},
   "source": [
    "So in this case, PyTorch **treats `mean3`, a rank-2 tensor representing a single image, as if it were 1,010 copies of the same image**,  \n",
    "and then subtracts each of those copies from each 3 in our validation set.  \n",
    "What shape would you expect this tensor to have?  \n",
    "Try to figure it out yourself before you look at the answer below:"
   ]
  },
  {
   "cell_type": "code",
   "execution_count": 50,
   "metadata": {},
   "outputs": [
    {
     "data": {
      "text/plain": [
       "torch.Size([1010, 28, 28])"
      ]
     },
     "execution_count": 50,
     "metadata": {},
     "output_type": "execute_result"
    }
   ],
   "source": [
    "'''\n",
    "valid_3_tens minus 1010 copies of mean3\n",
    "'''\n",
    "(valid_3_tens-mean3).shape"
   ]
  },
  {
   "cell_type": "markdown",
   "metadata": {},
   "source": [
    "We are calculating **the difference between our \"ideal 3\" and each of the 1,010 3s in the validation set, for each of 28×28 images, resulting in the shape `[1010,28,28]`**.\n",
    "\n",
    "There are a couple of **important points about how broadcasting is implemented**, which make it valuable not just for expressivity but also for **performance**:\n",
    "\n",
    "- **PyTorch doesn't *actually* copy `mean3` 1,010 times. It *pretends* it were a tensor of that shape, but doesn't actually allocate any additional memory**  \n",
    "- **It does the whole calculation in C (or, if you're using a GPU, in CUDA, the equivalent of C on the GPU)**, tens of thousands of times faster than pure Python (up to millions of times faster on a GPU!).\n",
    "\n",
    "**This is true of all broadcasting and elementwise operations and functions done in PyTorch.  \n",
    "*It's the most important technique for you to know to create efficient PyTorch code.***\n",
    "\n",
    "Next in `mnist_distance` we see **`abs`**. You might be able to guess now what this does when applied to a tensor.  \n",
    "**It applies the method to each individual element in the tensor, and returns a tensor of the results (that is, it applies the method \"elementwise\").**    \n",
    "So in this case, we'll get back **1,010 matrices of absolute values**. (1010x(28x28))\n",
    "\n",
    "**Finally, our function calls `mean((-1,-2))`**.  \n",
    "The tuple `(-1,-2)` represents **a range of axes**.  \n",
    "In Python, `-1` refers to the *last element*, and `-2` refers to the *second-to-last*.  \n",
    "So in this case, **this tells PyTorch that we want to take the mean ranging over the values indexed by the last two axes of the tensor.  \n",
    "The last two axes are the horizontal and vertical dimensions of an image. (me: the 28x28 axis of each image)  \n",
    "After taking the mean over the last two axes, we are left with just the first tensor axis,  \n",
    "which indexes over our images, which is why our final size was `(1010 means)`.**  \n",
    "**In other words, for every image, we averaged the intensity of all the pixels in that image.**  (so not the average of every pixel from the axis 0, but the average of every image 28x28)\n",
    "\n",
    "We'll be learning lots more about broadcasting throughout this book, especially in <<chapter_foundations>>, and will be practicing it regularly too.\n",
    "\n",
    "We can use `mnist_distance` to figure out whether **an image is a 3 or not** by using the following logic:  \n",
    "**if the distance between the digit in question and the ideal 3 is less than the distance to the ideal 7, then it's a 3.**  \n",
    "This function will automatically do broadcasting and be applied elementwise, just like all PyTorch functions and operators:"
   ]
  },
  {
   "cell_type": "code",
   "execution_count": 51,
   "metadata": {},
   "outputs": [],
   "source": [
    "'''\n",
    "is the distance between the number in question and the perfect 3 less than \n",
    "the distance between the number in question and the perfect 7?\n",
    "if it is, it's a 3\n",
    "'''\n",
    "\n",
    "def is_3(x): return mnist_distance(x,mean3) < mnist_distance(x,mean7)"
   ]
  },
  {
   "cell_type": "markdown",
   "metadata": {},
   "source": [
    "**Let's test it on our example case:**"
   ]
  },
  {
   "cell_type": "code",
   "execution_count": 52,
   "metadata": {},
   "outputs": [
    {
     "data": {
      "text/plain": [
       "(tensor(True), tensor(1.))"
      ]
     },
     "execution_count": 52,
     "metadata": {},
     "output_type": "execute_result"
    }
   ],
   "source": [
    "is_3(a_3), is_3(a_3).float()  # we can turn that into a float and yes becomes 1"
   ]
  },
  {
   "cell_type": "markdown",
   "metadata": {},
   "source": [
    "Note that when we convert the Boolean response to a float, we get `1.0` for `True` and `0.0` for `False`.  \n",
    "**Thanks to broadcasting, we can also test it on the full validation set of 3s:**"
   ]
  },
  {
   "cell_type": "code",
   "execution_count": 53,
   "metadata": {},
   "outputs": [
    {
     "data": {
      "text/plain": [
       "tensor([True, True, True,  ..., True, True, True])"
      ]
     },
     "execution_count": 53,
     "metadata": {},
     "output_type": "execute_result"
    }
   ],
   "source": [
    "'''\n",
    "thanks to broadcasting, we can do it for the entire validation set of 3s\n",
    "we basically get rid of loops\n",
    "in this kind of programming, you should have very few loops\n",
    "loops make things much harder to read, and hundreds of thousands of times slower\n",
    "on gpu potentially tens of millions of times slower\n",
    "'''\n",
    "is_3(valid_3_tens)  "
   ]
  },
  {
   "cell_type": "code",
   "execution_count": 54,
   "metadata": {},
   "outputs": [
    {
     "data": {
      "text/plain": [
       "tensor([1., 1., 1.,  ..., 1., 1., 1.])"
      ]
     },
     "execution_count": 54,
     "metadata": {},
     "output_type": "execute_result"
    }
   ],
   "source": [
    "is_3(valid_3_tens).float()  # added by me"
   ]
  },
  {
   "cell_type": "markdown",
   "metadata": {},
   "source": [
    "Now we can calculate **the accuracy for each of the 3s and 7s by taking the average of that function for all 3s and its inverse for all 7s:**"
   ]
  },
  {
   "cell_type": "code",
   "execution_count": 55,
   "metadata": {},
   "outputs": [
    {
     "data": {
      "text/plain": [
       "(tensor(0.9168), tensor(0.9854), tensor(0.9511))"
      ]
     },
     "execution_count": 55,
     "metadata": {},
     "output_type": "execute_result"
    }
   ],
   "source": [
    "'''\n",
    "so the accuracy across 3s is about 91%, on 7 is 98%\n",
    "and the average of those 2 is about 95%\n",
    "so here we have a model that's 95% accurate in recognising 3s from 7s\n",
    "it can suprise you that we can do that nothing but arithmetic\n",
    "so that's what I mean by getting a good baseline\n",
    "\n",
    "but it doesn't match Arthur Samuel description of machine learning\n",
    "this is not something where there's a function which has some parameters\n",
    "which we're testing against some kind of measure of fitness\n",
    "and then using that to like improve the parameters iteratively\n",
    "\n",
    "here we just did one step and that's that\n",
    "'''\n",
    "accuracy_3s =      is_3(valid_3_tens).float() .mean()\n",
    "accuracy_7s = (1 - is_3(valid_7_tens).float()).mean()\n",
    "\n",
    "accuracy_3s,accuracy_7s,(accuracy_3s+accuracy_7s)/2  # me: it's 0.90 because some of the is_3 are not 1 but 0 or 0.5 etc"
   ]
  },
  {
   "cell_type": "code",
   "execution_count": 56,
   "metadata": {},
   "outputs": [
    {
     "data": {
      "text/plain": [
       "tensor(0.9854)"
      ]
     },
     "execution_count": 56,
     "metadata": {},
     "output_type": "execute_result"
    }
   ],
   "source": [
    "(1-is_3(valid_7_tens).float()).mean()"
   ]
  },
  {
   "cell_type": "markdown",
   "metadata": {},
   "source": [
    "This looks like a pretty good start! We're getting **over 90% accuracy on both 3s and 7s,** (me: because some of the is_3 are not 1 but 0 or 0.5 etc)  \n",
    "and we've seen how to define a metric conveniently using broadcasting.\n",
    "\n",
    "But let's be honest: 3s and 7s are very different-looking digits.  \n",
    "And we're only classifying 2 out of the 10 possible digits so far.  \n",
    "So we're going to need to do better!\n",
    "\n",
    "To do better, perhaps it is time to **try a system that does some real learning\n",
    "— that is, that can automatically modify itself to improve its performance.**  \n",
    "In other words, it's time to talk about **the training process, and SGD.**"
   ]
  },
  {
   "cell_type": "markdown",
   "metadata": {},
   "source": [
    "## Stochastic Gradient Descent (SGD)"
   ]
  },
  {
   "cell_type": "markdown",
   "metadata": {},
   "source": [
    "Do you remember the way that Arthur Samuel **described machine learning**, which we quoted in <<chapter_intro>>?\n",
    "\n",
    "> **Suppose we arrange for some automatic means  \n",
    "of testing the effectiveness of any current weight (parameter) assignment in terms of actual performance  \n",
    "and provide a mechanism for altering the weight assignment so as to maximize the performance.  \n",
    "We need not go into the details of such a procedure to see that it could be made entirely automatic  \n",
    "and to see that a machine so programmed would \"learn\" from its experience.**\n",
    "\n",
    "As we discussed, this is the key to allowing us to have **a model that can get better and better — that can learn.**  \n",
    "**But our pixel similarity approach does not really do this.**  \n",
    "We do not have any kind of weight assignment, or any way of improving based on testing the effectiveness of a weight assignment.  \n",
    "In other words, **we can't really improve our pixel similarity approach by modifying a set of parameters.**    \n",
    "**In order to take advantage of the power of deep learning,  \n",
    "we will first have to represent our task in the way that Arthur Samuel described it.**\n",
    "\n",
    "Instead of trying to find the similarity between an image and an \"ideal image,\"  \n",
    "we could instead **look at each individual pixel and come up with a set of weights for each one,  \n",
    "such that the highest weights are associated with those pixels most likely to be black for a particular category.**  \n",
    "For instance, **pixels toward the bottom right** are not very likely to be activated for a 7, so they should have **a low weight for a 7,**  \n",
    "but they are likely to be activated for an 8, so they should have **a high weight for an 8.**  \n",
    "This can be represented as **a function and set of weight values for each possible category  \n",
    "— for instance the probability of being the number 8:**\n",
    "\n",
    "```\n",
    "def pr_eight(x,w): return (x*w).sum()\n",
    "```\n",
    "> why this formula? a nn multiplies each input by a number of values and adds them (how a nn works)"
   ]
  },
  {
   "cell_type": "code",
   "execution_count": null,
   "metadata": {},
   "outputs": [],
   "source": [
    "'''\n",
    "instead of finding an ideal image and seeing how far away something is from the ideal image\n",
    "we could come up with a set of weights for each pixel\n",
    "so we're trying to find out if something is the number 3\n",
    "and so we know that like in the places that you would expect to find 3 pixels you could give those high weights\n",
    "if there's a dot in those places, we give it like a high score \n",
    "and if there's dots in other places we give it a low score (why?)\n",
    "\n",
    "so we can actually come up with a function where the probability of something being an 8\n",
    "is equal to pixels in the image (x) multiplied by some sort of weights and them we sum them up\n",
    "so then anywhere where the image we're looking at has pixels (where) there are high weights\n",
    "it's going to end up with high probability \n",
    "\n",
    "here X is the image, represented as vector, have all the rows stacked up, end to end into a single long line\n",
    "\n",
    "so we're going to use an approach were we're going to start with a vector W (rank 1 tensor)\n",
    "1. that's going to contain random weights (random parameters)\n",
    "2. we'll then predict whether a number appears to be a 3 or a 7 by using this tiny little function pr_eight\n",
    "3. and then we'll figure out how good/accurate our model is (it's loss)\n",
    "4. and then the key step is to calculate the gradient\n",
    "the gradient is something that measures for each weight \n",
    "if I made it a little bit bigger would the loss get better or worse\n",
    "if I made it a little bit smaller would the loss get better or worse?\n",
    "so if we do that for every weight we can decide for every weight whether we should make that weight a bit bigger or a bit smaller\n",
    "that's called the gradient\n",
    "5. once we have the gradient we then step (change) all the weights \n",
    "up a little bit for the ones where the gradient said we should make them a bit higher\n",
    "and down a little bit for all the once where the gradient said they should be a little bit lower\n",
    "so now it should be a tiny bit better \n",
    "6. and then we go back to step 2 and calculate a new set of predictions, using this formula\n",
    "calculate the gradient again, step the weights, keep doing that\n",
    "this is the flow chart \n",
    "7. and at somw point when we're sick of waiting or when the loss gets good enough we'll stop\n",
    "\n",
    "these 7 steps are key to training all DL models\n",
    "this technique is called stochastic gradient descent \n",
    "well, it's gradient descent, we'll the see the stochastic very soon\n",
    "'''"
   ]
  },
  {
   "cell_type": "markdown",
   "metadata": {},
   "source": [
    "Here we are assuming that **`x` is the image, represented as a vector**  \n",
    "— in other words, with <u>all of the rows stacked up end to end into a single long line</u>.    \n",
    "And we are assuming that **the weights are a vector `w`**.  \n",
    "If we have this function, then we just need some **way to update the weights to make them a little bit better**.  \n",
    "With such an approach, we can repeat that step a number of times,  \n",
    "making the weights better and better, until they are as good as we can make them.\n",
    "\n",
    "**We want to find the specific values for the vector `w`  \n",
    "that causes the result of our function to be high for those images that are actually 8s,  \n",
    "and low for those images that are not.**  \n",
    "**Searching for the best vector `w` is a way to search for the best function for recognising 8s.**  \n",
    "(<u>Because we are not yet using a deep neural network, we are limited by what our function can actually do</u>.  \n",
    "— we are going to fix that constraint later in this chapter.) \n",
    "\n",
    "To be more specific, here are **the steps** that we are going to require,  \n",
    "**to turn this function into a machine learning classifier:**\n",
    "\n",
    "1. ***Initialize*** the weights.\n",
    "1. For each image, **use these weights to *predict*** whether it appears to be a 3 or a 7.\n",
    "1. Based on these predictions, **calculate how good the model is (its *loss*).**\n",
    "1. **Calculate the *gradient***, <u>which measures for each weight, how changing that weight would change the loss</u>\n",
    "1. ***Step* (that is, change) all the weights** based on that calculation.\n",
    "1. Go back to the **step 2, and *repeat*** the process.\n",
    "1. **Iterate until you decide to *stop*** the training process (for instance, because the model is good enough or you don't want to wait any longer)."
   ]
  },
  {
   "cell_type": "markdown",
   "metadata": {},
   "source": [
    "**These seven steps, illustrated in <<gradient_descent>>, are the key to the training of all deep learning models.**    \n",
    "That deep learning turns out to rely entirely on these steps is extremely surprising and **counterintuitive**.  \n",
    "It's amazing that this process can solve such complex problems.  \n",
    "But, as you'll see, it really does!"
   ]
  },
  {
   "cell_type": "code",
   "execution_count": 57,
   "metadata": {
    "hide_input": true
   },
   "outputs": [
    {
     "data": {
      "image/svg+xml": [
       "<?xml version=\"1.0\" encoding=\"UTF-8\" standalone=\"no\"?>\n",
       "<!DOCTYPE svg PUBLIC \"-//W3C//DTD SVG 1.1//EN\"\n",
       " \"http://www.w3.org/Graphics/SVG/1.1/DTD/svg11.dtd\">\n",
       "<!-- Generated by graphviz version 7.1.0 (20230122.1345)\n",
       " -->\n",
       "<!-- Title: G Pages: 1 -->\n",
       "<svg width=\"661pt\" height=\"78pt\"\n",
       " viewBox=\"0.00 0.00 660.87 78.00\" xmlns=\"http://www.w3.org/2000/svg\" xmlns:xlink=\"http://www.w3.org/1999/xlink\">\n",
       "<g id=\"graph0\" class=\"graph\" transform=\"scale(1 1) rotate(0) translate(4 74)\">\n",
       "<title>G</title>\n",
       "<polygon fill=\"white\" stroke=\"none\" points=\"-4,4 -4,-74 656.87,-74 656.87,4 -4,4\"/>\n",
       "<!-- init -->\n",
       "<g id=\"node1\" class=\"node\">\n",
       "<title>init</title>\n",
       "<ellipse fill=\"none\" stroke=\"black\" cx=\"27\" cy=\"-18\" rx=\"27\" ry=\"18\"/>\n",
       "<text text-anchor=\"middle\" x=\"27\" y=\"-14.3\" font-family=\"Times,serif\" font-size=\"14.00\">init</text>\n",
       "</g>\n",
       "<!-- predict -->\n",
       "<g id=\"node2\" class=\"node\">\n",
       "<title>predict</title>\n",
       "<ellipse fill=\"none\" stroke=\"black\" cx=\"135.2\" cy=\"-18\" rx=\"44.39\" ry=\"18\"/>\n",
       "<text text-anchor=\"middle\" x=\"135.2\" y=\"-14.3\" font-family=\"Times,serif\" font-size=\"14.00\">predict</text>\n",
       "</g>\n",
       "<!-- init&#45;&gt;predict -->\n",
       "<g id=\"edge1\" class=\"edge\">\n",
       "<title>init&#45;&gt;predict</title>\n",
       "<path fill=\"none\" stroke=\"black\" d=\"M54.25,-18C61.85,-18 70.45,-18 79.12,-18\"/>\n",
       "<polygon fill=\"black\" stroke=\"black\" points=\"78.96,-21.5 88.96,-18 78.96,-14.5 78.96,-21.5\"/>\n",
       "</g>\n",
       "<!-- loss -->\n",
       "<g id=\"node3\" class=\"node\">\n",
       "<title>loss</title>\n",
       "<ellipse fill=\"none\" stroke=\"black\" cx=\"244.99\" cy=\"-52\" rx=\"28.7\" ry=\"18\"/>\n",
       "<text text-anchor=\"middle\" x=\"244.99\" y=\"-48.3\" font-family=\"Times,serif\" font-size=\"14.00\">loss</text>\n",
       "</g>\n",
       "<!-- predict&#45;&gt;loss -->\n",
       "<g id=\"edge2\" class=\"edge\">\n",
       "<title>predict&#45;&gt;loss</title>\n",
       "<path fill=\"none\" stroke=\"black\" d=\"M171.19,-29.04C182.93,-32.74 196.04,-36.88 207.87,-40.61\"/>\n",
       "<polygon fill=\"black\" stroke=\"black\" points=\"206.69,-43.9 217.28,-43.58 208.8,-37.23 206.69,-43.9\"/>\n",
       "</g>\n",
       "<!-- gradient -->\n",
       "<g id=\"node4\" class=\"node\">\n",
       "<title>gradient</title>\n",
       "<ellipse fill=\"none\" stroke=\"black\" cx=\"406.63\" cy=\"-52\" rx=\"50.09\" ry=\"18\"/>\n",
       "<text text-anchor=\"middle\" x=\"406.63\" y=\"-48.3\" font-family=\"Times,serif\" font-size=\"14.00\">gradient</text>\n",
       "</g>\n",
       "<!-- loss&#45;&gt;gradient -->\n",
       "<g id=\"edge3\" class=\"edge\">\n",
       "<title>loss&#45;&gt;gradient</title>\n",
       "<path fill=\"none\" stroke=\"black\" d=\"M274.16,-52C293.71,-52 320.51,-52 344.81,-52\"/>\n",
       "<polygon fill=\"black\" stroke=\"black\" points=\"344.61,-55.5 354.61,-52 344.61,-48.5 344.61,-55.5\"/>\n",
       "</g>\n",
       "<!-- step -->\n",
       "<g id=\"node5\" class=\"node\">\n",
       "<title>step</title>\n",
       "<ellipse fill=\"none\" stroke=\"black\" cx=\"524.23\" cy=\"-18\" rx=\"30.59\" ry=\"18\"/>\n",
       "<text text-anchor=\"middle\" x=\"524.23\" y=\"-14.3\" font-family=\"Times,serif\" font-size=\"14.00\">step</text>\n",
       "</g>\n",
       "<!-- gradient&#45;&gt;step -->\n",
       "<g id=\"edge4\" class=\"edge\">\n",
       "<title>gradient&#45;&gt;step</title>\n",
       "<path fill=\"none\" stroke=\"black\" d=\"M446.12,-40.68C458.69,-36.98 472.64,-32.88 485.18,-29.19\"/>\n",
       "<polygon fill=\"black\" stroke=\"black\" points=\"486.16,-32.55 494.77,-26.37 484.18,-25.84 486.16,-32.55\"/>\n",
       "</g>\n",
       "<!-- step&#45;&gt;predict -->\n",
       "<g id=\"edge6\" class=\"edge\">\n",
       "<title>step&#45;&gt;predict</title>\n",
       "<path fill=\"none\" stroke=\"black\" d=\"M493.24,-18C428.38,-18 274.25,-18 191.3,-18\"/>\n",
       "<polygon fill=\"black\" stroke=\"black\" points=\"191.35,-14.5 181.35,-18 191.35,-21.5 191.35,-14.5\"/>\n",
       "<text text-anchor=\"middle\" x=\"315.09\" y=\"-21.8\" font-family=\"Times,serif\" font-size=\"14.00\">repeat</text>\n",
       "</g>\n",
       "<!-- stop -->\n",
       "<g id=\"node6\" class=\"node\">\n",
       "<title>stop</title>\n",
       "<ellipse fill=\"none\" stroke=\"black\" cx=\"622.32\" cy=\"-18\" rx=\"30.59\" ry=\"18\"/>\n",
       "<text text-anchor=\"middle\" x=\"622.32\" y=\"-14.3\" font-family=\"Times,serif\" font-size=\"14.00\">stop</text>\n",
       "</g>\n",
       "<!-- step&#45;&gt;stop -->\n",
       "<g id=\"edge5\" class=\"edge\">\n",
       "<title>step&#45;&gt;stop</title>\n",
       "<path fill=\"none\" stroke=\"black\" d=\"M555.1,-18C563.06,-18 571.79,-18 580.23,-18\"/>\n",
       "<polygon fill=\"black\" stroke=\"black\" points=\"579.95,-21.5 589.95,-18 579.95,-14.5 579.95,-21.5\"/>\n",
       "</g>\n",
       "</g>\n",
       "</svg>\n"
      ],
      "text/plain": [
       "<graphviz.sources.Source at 0x7fcdfade3e10>"
      ]
     },
     "execution_count": 57,
     "metadata": {},
     "output_type": "execute_result"
    }
   ],
   "source": [
    "#id gradient_descent\n",
    "#caption The gradient descent process\n",
    "#alt Graph showing the steps for Gradient Descent\n",
    "gv('''\n",
    "init->predict->loss->gradient->step->stop\n",
    "step->predict[label=repeat]\n",
    "''')"
   ]
  },
  {
   "cell_type": "code",
   "execution_count": null,
   "metadata": {},
   "outputs": [],
   "source": [
    "'''\n",
    "for each of these 7 steps there are lots of choices around exactly how to do it\n",
    "we've just kind of hand waved a lot\n",
    "    what kind of random initialization\n",
    "    how do you calculate the gradient\n",
    "    and what step do you take based on the gradient\n",
    "    and how do you decide when to stop\n",
    "\n",
    "in this course we're going to be learning about these steps, that's kind of the part 1\n",
    "the other part is what is the actual function, neural network\n",
    "so how do we train the thing that we train?\n",
    "\n",
    "so we initialize the parameters with random values\n",
    "we need some function that's going to be the loss function that will return a number that's small if the performance of the model is good\n",
    "some way to figure out if the weight should be increased or decreased a bit \n",
    "and then we need to decide when to stop, which is to say let's do a certain number of epochs\n",
    "\n",
    "1.45\n",
    "'''"
   ]
  },
  {
   "cell_type": "markdown",
   "metadata": {},
   "source": [
    "**There are many different ways to do each of these seven steps**, and we will be learning about them throughout the rest of this book.  \n",
    "These are the details that make a big difference for deep learning practitioners,  \n",
    "but it turns out that **the general approach to each one generally follows some basic principles**.  \n",
    "**Here are a few guidelines:**\n",
    "\n",
    "- **Initialize**:: **We initialize the parameters to random values**.  \n",
    "This may sound surprising.  \n",
    "There are certainly other choices we could make, such as initializing them to the percentage of times that pixel is activated for that category  \n",
    "— but since we already know that we have a routine to improve these weights, it turns out that just starting with random weights works perfectly well.   \n",
    "- **Loss**:: This is what Samuel referred to when he spoke of ***testing the effectiveness of any current weight assignment in terms of actual performance***.  \n",
    "**We need some function that will return a number that is small if the performance of the model is good**  \n",
    "(the standard approach is to treat a small loss as good, and a large loss as bad, although this is just a convention).  \n",
    "- **Step**:: A simple way to **figure out whether a weight should be increased a bit, or decreased a bit**,  \n",
    "would be just to try it: **increase the weight by a small amount, and see if the loss goes up or down.**    \n",
    "Once you find the correct direction, you could then change that amount by a bit more, and a bit less,  \n",
    "until you find an amount that works well.  \n",
    "However, this is slow! As we will see, the magic of calculus allows us  \n",
    "**to directly figure out in which direction, and by roughly how much, to change each weight,**  \n",
    "without having to try all these small changes.  \n",
    "The way to do this is by calculating ***gradients***.  \n",
    "This is just a performance optimization, we would get exactly the same results by using the slower manual process as well.  \n",
    "- **Stop**:: Once we've decided **how many epochs to train the model for** (a few suggestions for this were given in the earlier list),  \n",
    "we apply that decision. This is where that decision is applied.  \n",
    "For our digit classifier, we would **keep training until the accuracy of the model started getting worse, or we ran out of time.**   "
   ]
  },
  {
   "cell_type": "markdown",
   "metadata": {},
   "source": [
    "Before applying these steps to our image classification problem, **let's illustrate what they look like in a simpler case.**    \n",
    "First we will define a very simple function,  \n",
    "**the quadratic — let's pretend that this is our loss function, and `x` is a weight parameter of the function:**  \n",
    ">me: why x is the weight parameter?  \n",
    "we need to minimize the loss function  \n",
    "and the loss is a function of the weight (in this case a quadratic function, but it can be some other function)  \n",
    "why loss is a function of the weight? because we need to find the weights where the loss is minimum!!  \n",
    "more logical would be f(a)=a**2"
   ]
  },
  {
   "cell_type": "code",
   "execution_count": 58,
   "metadata": {},
   "outputs": [],
   "source": [
    "'''\n",
    "so let's go even simpler, we're not going to do mnist\n",
    "we're going to start with this x**2\n",
    "and in fastai we've created a tiny thing called plot function\n",
    "that plots a function \n",
    "'''\n",
    "def f(x): return x**2"
   ]
  },
  {
   "cell_type": "markdown",
   "metadata": {},
   "source": [
    "Here is a **graph** of that function:"
   ]
  },
  {
   "cell_type": "code",
   "execution_count": 59,
   "metadata": {},
   "outputs": [
    {
     "data": {
      "image/png": "[encoded data removed]",
      "text/plain": [
       "<Figure size 600x400 with 1 Axes>"
      ]
     },
     "metadata": {},
     "output_type": "display_data"
    }
   ],
   "source": [
    "plot_function(f, 'x', 'x**2')"
   ]
  },
  {
   "cell_type": "markdown",
   "metadata": {},
   "source": [
    "The sequence of steps we described earlier \n",
    "**starts by picking some random value for a parameter, \n",
    "and calculating the value of the loss:**  \n",
    "> me: step 1 initialize the weights or parameters;  \n",
    "> so if it says pick a random value for a parameter then x is the parameter, -1.5  \n",
    "x=-1.5 and the loss is f(-1.5) because quadratic f is the loss  "
   ]
  },
  {
   "cell_type": "code",
   "execution_count": 60,
   "metadata": {},
   "outputs": [
    {
     "data": {
      "image/png": "[encoded data removed]",
      "text/plain": [
       "<Figure size 600x400 with 1 Axes>"
      ]
     },
     "metadata": {},
     "output_type": "display_data"
    }
   ],
   "source": [
    "'''\n",
    "so there's our loss function f, \n",
    "and we're going to do is we're going to try to find the bottom point\n",
    "we're trying to figure out what is the x value, which is at the bottom\n",
    "so our seven stop procedure requires us to start out by initializing the weights\n",
    "so we need to pick some value\n",
    "so the value we pick is just randomly -1.5\n",
    "\n",
    "so now we need to know if I increased x a bit, does my loss gets a bit better\n",
    "better is smaller, going down, or a bit worse?\n",
    "we can try a slightly higher x, a lower x and see what happens\n",
    "\n",
    "and you can see it's just the slope\n",
    "the slope at this point (X=-1.5) tells you that if I increased x by a bit then \n",
    "my loss will decrease because that is the slope at this point\n",
    "so if we change our weight, our parameter, just a little bit, in the direction of the slope\n",
    "\n",
    "here is the direction of the slope; the big red, horizontal line\n",
    "here is the new value at that point, intersect of the verticall dotted line with the function\n",
    "and then do it again\n",
    "and then do it again\n",
    "eventually we'll get to the bottom of this curve\n",
    "'''\n",
    "plot_function(f, 'x', 'x**2')\n",
    "plt.scatter(-1.5, f(-1.5), color='red');"
   ]
  },
  {
   "cell_type": "markdown",
   "metadata": {},
   "source": [
    "Now we look to see **what would happen if we increased or decreased our parameter by a little bit — the *adjustment***.  \n",
    "This is simply **the slope** at a particular point:"
   ]
  },
  {
   "cell_type": "markdown",
   "metadata": {},
   "source": [
    "<img alt=\"A graph showing the squared function with the slope at one point\" width=\"400\" src=\"images/grad_illustration.svg\"/>"
   ]
  },
  {
   "cell_type": "markdown",
   "metadata": {},
   "source": [
    "We can \n",
    "**change our weight by a little in the direction of the slope, (me: increase the parameter/weight)    \n",
    "calculate our loss and adjustment again,  \n",
    "and repeat this a few times**.   \n",
    "Eventually, we will get to **the lowest point on our curve**:"
   ]
  },
  {
   "cell_type": "markdown",
   "metadata": {},
   "source": [
    "here is the direction of the slope; the big red, horizontal line  \n",
    "here is the new value at that point, intersect of the verticall dotted line with the function  \n",
    "and then do it again  \n",
    "and then do it again  \n",
    "eventually we'll get to the bottom of this curve  \n",
    "\n",
    "<img alt=\"An illustration of gradient descent\" width=\"400\" src=\"images/chapter2_perfect.svg\"/>"
   ]
  },
  {
   "cell_type": "markdown",
   "metadata": {},
   "source": [
    "This basic idea goes all the way back to **Isaac Newton**, who pointed out that we can optimize arbitrary functions in this way.  \n",
    "Regardless of how complicated our functions become, **this basic approach of gradient descent will not significantly change**.  \n",
    "The only minor changes we will see later in this book are **some handy ways we can make it faster, by finding better steps**.\n",
    "\n",
    "video:\n",
    "the idea is called newton's method  \n",
    "so a key thing we need to be able to do is to calculate this slope  \n",
    "the bad news is to do that we need calculus  \n",
    "we have to calculate the derivative  \n",
    "1.48.55  "
   ]
  },
  {
   "cell_type": "markdown",
   "metadata": {},
   "source": [
    "### Calculating Gradients"
   ]
  },
  {
   "cell_type": "markdown",
   "metadata": {},
   "source": [
    "**The one magic step is the bit where we calculate the gradients**.    \n",
    "As we mentioned, we use calculus as a performance optimization;  \n",
    "it allows us to more quickly **calculate whether our loss will go up or down when we adjust our parameters up or down**.  \n",
    "In other words, **the gradients will tell us how much we have to change each weight to make our model better**.\n",
    "\n",
    "You may remember from your high school calculus class that  \n",
    "**the *derivative* of a function tells you how much a change in its parameters will change its result**.   \n",
    "If not, don't worry, lots of us forget calculus once high school is behind us!  \n",
    "But you will have to have some intuitive understanding of what a derivative is before you continue,  \n",
    "so if this is all very fuzzy in your head, head over to Khan Academy and complete the **[lessons on basic derivatives](https://www.khanacademy.org/math/differential-calculus/dc-diff-intro)**.  \n",
    "You won't have to know how to calculate them yourselves, **you just have to know what a derivative is.**\n",
    "\n",
    "**The key point about a derivative is this:** <u>for any function, such as the quadratic function we saw in the previous section, we can calculate its derivative</u>.  \n",
    "The derivative is another function.  \n",
    "**It calculates the change, rather than the value.**  \n",
    "For instance, **the derivative of the quadratic function at the value 3 tells us how rapidly the function changes at the value 3.  \n",
    "= THE SPEED**   \n",
    "More specifically, you may recall that **gradient** is defined as ***rise/run***,  \n",
    "that is, **<u>the change in the value of the function, divided by the change in the value of the parameter</u>**.  \n",
    "**When we know how our function will change, then we know what we need to do to make it smaller**.  \n",
    ">(me: because slope=rise/run or delta-function/delta-parameter and is negative  \n",
    "and delta-func is negative because the func value is lower  \n",
    "then we need to increase the param so that delta-param is positive so that the slope is negative  \n",
    "if the param would decrease then delta-param would be negative and the slope positive, but that's not the case)         \n",
    "\n",
    "**This is the key to machine learning: having a way to change the parameters of a function to make it smaller**.  \n",
    "Calculus provides us with a computational shortcut, **the derivative, which lets us directly calculate the gradients of our functions**.  "
   ]
  },
  {
   "cell_type": "markdown",
   "metadata": {},
   "source": [
    "One important thing to be aware of is that **our function has lots of weights** that we need to adjust,  \n",
    "so when we **calculate the derivative** we won't get back one number, but lots of them — **a gradient for every weight**.  \n",
    "But there is nothing mathematically tricky here;  \n",
    "you can calculate **the derivative with respect to one weight, and treat all the other ones as constant,  \n",
    "then repeat that for each other weight**.   \n",
    "This is how all of the gradients are calculated, for every weight.\n",
    "\n",
    "We mentioned just now that you won't have to calculate any gradients yourself. How can that be?  \n",
    "Amazingly enough, **PyTorch is able to automatically compute the derivative of nearly any function!**  \n",
    "What's more, it does it very fast.  \n",
    "Most of the time, it will be at least as fast as any derivative function that you can create by hand.  \n",
    "Let's see **an example.**\n",
    "\n",
    "First, **let's pick a tensor value which we want gradients at:** (me: the parameter is 3)"
   ]
  },
  {
   "cell_type": "code",
   "execution_count": 61,
   "metadata": {},
   "outputs": [],
   "source": [
    "'''\n",
    "we start with a tensor, and we'll modify this tensor with this special method called requires_grad_\n",
    "and this tells pytorch that any time I do a calculation with this xt\n",
    "it should remember what calculation it does so that I can take the derivative later \n",
    "_ at the end of a method in pytorch means this is called an in-place operation: it actually modifies tensor(3.)\n",
    "so requires_grad_ modifies this tensor to tell pytorch that we want to be calculation gradients on it\n",
    "so that means it's just going to keep track of all of the computations we do so that it can calculate the derivative later\n",
    "'''\n",
    "xt = tensor(3.).requires_grad_()  # xt = xtensor?!"
   ]
  },
  {
   "cell_type": "markdown",
   "metadata": {},
   "source": [
    "Notice the special method `requires_grad_`?  \n",
    "That's the magical incantation we use to tell PyTorch that we want to **calculate gradients with respect to that variable at that value.**    \n",
    "**It is essentially tagging the variable,** so PyTorch will remember to   \n",
    "**keep track of how to compute gradients of the other, direct calculations on it that you will ask for**.  \n",
    "\n",
    "> a: This API might throw you off if you're coming from math or physics.  \n",
    "In those contexts the \"gradient\" of a function is just another function (i.e., its derivative),  \n",
    "so you might expect gradient-related APIs to give you a new function.  \n",
    "**But in deep learning, \"gradients\" usually means the _value_ of a function's derivative at a particular argument value.**  \n",
    "The PyTorch API also puts the focus on the argument, not the function you're actually computing the gradients of.  \n",
    "It may feel backwards at first, but it's just a different perspective.  \n",
    "\n",
    "**Now we calculate our function with that value.**  \n",
    "Notice how PyTorch prints not just the value calculated,  \n",
    "but also a note that it has a gradient function it'll be using to calculate our gradients when needed:"
   ]
  },
  {
   "cell_type": "code",
   "execution_count": 62,
   "metadata": {},
   "outputs": [
    {
     "data": {
      "text/plain": [
       "tensor(9., grad_fn=<PowBackward0>)"
      ]
     },
     "execution_count": 62,
     "metadata": {},
     "output_type": "execute_result"
    }
   ],
   "source": [
    "'''\n",
    "ok, so we've got the number 3 and call f on it\n",
    "f(3)=9 but the value is not just 9\n",
    "it's 9 accompanied with a grad function which it knows that a power operation has been taken\n",
    "'''\n",
    "yt = f(xt)  # xt is 3 so yt is the loss at 3\n",
    "yt"
   ]
  },
  {
   "cell_type": "markdown",
   "metadata": {},
   "source": [
    "**Finally, we tell PyTorch to calculate the gradients for us:**"
   ]
  },
  {
   "cell_type": "code",
   "execution_count": 63,
   "metadata": {},
   "outputs": [],
   "source": [
    "'''\n",
    "so we can now call a special method, backward\n",
    "which refers to backpropagation, and it means take the derivative\n",
    "'''\n",
    "yt.backward()"
   ]
  },
  {
   "cell_type": "markdown",
   "metadata": {},
   "source": [
    "**The \"backward\" here refers to *backpropagation***,  \n",
    "which is the name given to **the process of calculating the derivative of each layer**.   \n",
    "We'll see how this is done exactly in chapter <<chapter_foundations>>,  \n",
    "when we calculate the gradients of a deep neural net from scratch.  \n",
    "This is called **the \"backward pass\" of the network, as opposed to the \"forward pass,\"**    \n",
    "which is where the activations are calculated.  \n",
    "Life would probably be easier if `backward` was just called `calculate_grad`,  \n",
    "but deep learning folks really do like to add jargon everywhere they can!  "
   ]
  },
  {
   "cell_type": "markdown",
   "metadata": {},
   "source": [
    "**We can now view the gradients by checking the `grad` attribute of our tensor:**"
   ]
  },
  {
   "cell_type": "code",
   "execution_count": 64,
   "metadata": {},
   "outputs": [
    {
     "data": {
      "text/plain": [
       "tensor(6.)"
      ]
     },
     "execution_count": 64,
     "metadata": {},
     "output_type": "execute_result"
    }
   ],
   "source": [
    "'''\n",
    "once it does that, we can now look inside xt, which we said it requires grad\n",
    "and find out its gradient\n",
    "and remember, the derivative of x**2 is 2*x\n",
    "in this case 2*3=6 \n",
    "so we didn't have to figure out the derivative, \n",
    "we just called backward and then get the grad attribute to get the derivative\n",
    "so that's how easy it is to do calculus in pytorch\n",
    "\n",
    "so what you need to know about calculus is not how to take a derivative, but what it means\n",
    "and what it means it's a slope at some point\n",
    "\n",
    "'''\n",
    "xt.grad"
   ]
  },
  {
   "cell_type": "markdown",
   "metadata": {},
   "source": [
    "If you remember your high school calculus rules, the derivative of `x**2` is `2*x`,  \n",
    "and we have `x=3`, so the gradients should be `2*3=6`, which is what PyTorch calculated for us!\n",
    "\n",
    "Now we'll repeat the preceding steps, **but with a vector argument for our function:**"
   ]
  },
  {
   "cell_type": "code",
   "execution_count": 65,
   "metadata": {},
   "outputs": [
    {
     "data": {
      "text/plain": [
       "tensor([ 3.,  4., 10.], requires_grad=True)"
      ]
     },
     "execution_count": 65,
     "metadata": {},
     "output_type": "execute_result"
    }
   ],
   "source": [
    "'''\n",
    "something interesting, let's not just take 3, let's take a rank1 tensor, also known as a vector\n",
    "'''\n",
    "\n",
    "xt = tensor([3.,4.,10.]).requires_grad_()  # weights are 3,4,10 and are inputs for the loss function f(x)\n",
    "xt"
   ]
  },
  {
   "cell_type": "markdown",
   "metadata": {},
   "source": [
    "And we'll add **`sum`** to our function so it can **take a vector (i.e., a rank-1 tensor), and return a scalar (i.e., a rank-0 tensor):**  \n",
    "> why it needs to return a scalar? because you need to see if the loss function increases or decreases if you modify the weight/parameter x  \n",
    "> true, because it says \"pretend the quadratic is our loss function\"  \n",
    "> and the derivative of the quadratic shows if the loss function increases or decreases  "
   ]
  },
  {
   "cell_type": "code",
   "execution_count": 66,
   "metadata": {},
   "outputs": [
    {
     "data": {
      "text/plain": [
       "tensor(125., grad_fn=<SumBackward0>)"
      ]
     },
     "execution_count": 66,
     "metadata": {},
     "output_type": "execute_result"
    }
   ],
   "source": [
    "'''\n",
    "and let's add sum to our f function\n",
    "f of this vector is 125 \n",
    "'''\n",
    "def f(x): return (x**2).sum()\n",
    "\n",
    "yt = f(xt)\n",
    "yt  # loss is 125=9+16+100"
   ]
  },
  {
   "cell_type": "markdown",
   "metadata": {},
   "source": [
    "**Our gradients are `2*xt`, as we'd expect!**"
   ]
  },
  {
   "cell_type": "code",
   "execution_count": 67,
   "metadata": {},
   "outputs": [
    {
     "data": {
      "text/plain": [
       "tensor([ 6.,  8., 20.])"
      ]
     },
     "execution_count": 67,
     "metadata": {},
     "output_type": "execute_result"
    }
   ],
   "source": [
    "'''\n",
    "and we say backward and grad\n",
    "and it's 2x,2x,2x\n",
    "so this is vector calculus\n",
    "we're getting the gradient for every element of a vector with the same 2 lines of code\n",
    "so that's all you need to know about calculus\n",
    "\n",
    "so now that we know how to calculate the gradient, that is the slope of the function\n",
    "that tells us if we change our input a little bit, how will our output change correspondingly\n",
    "that's what a slope is\n",
    "\n",
    "and so that tells us that for every one of our parameters, if we know their gradients\n",
    "then we know if we change that parameter up a bit or down a bit, how it will change our loss\n",
    "so therefore, we then know how to change our parameters\n",
    "\n",
    "'''\n",
    "yt.backward()  # yt.calculate_grad() for ytensor which is the loss function; \n",
    "xt.grad        # calculate_gradients() means to derivate the loss, and it shows in which direction is the minimum"
   ]
  },
  {
   "cell_type": "markdown",
   "metadata": {},
   "source": [
    "**The gradients only tell us the slope of our function, they don't actually tell us exactly how far to adjust the parameters.**  \n",
    "> me: but why the grad is attached to xt? because the gradients show how much each weight needs to change \n",
    "\n",
    "**But it gives us some idea of how far;**  \n",
    "if the slope is **very large, then that may suggest that we have more adjustments to do,**  \n",
    "**hereas if the slope is very small, that may suggest that we are close to the optimal value.**  \n",
    ">me: very large means very far from minimum of the loss functions, where the gradient/slope is 0 (an horizontal line)"
   ]
  },
  {
   "cell_type": "markdown",
   "metadata": {},
   "source": [
    "### Stepping With a Learning Rate"
   ]
  },
  {
   "cell_type": "markdown",
   "metadata": {},
   "source": [
    "Deciding **how to change our parameters based on the values of the gradients** is an important part of the deep learning process.  \n",
    "Nearly all approaches start with the basic idea of \n",
    "**multiplying the gradient by some small number, called the *learning rate* (LR).**    \n",
    "The learning rate is often a number between **0.001 and 0.1**, although it could be anything.  \n",
    "Often, people select a learning rate just by trying a few, and finding which results in the best model after training  \n",
    "(we'll show you a better approach later in this book, called the *learning rate finder*).  \n",
    "Once you've picked a learning rate, you can **adjust your parameters** using this simple function:\n",
    "\n",
    "```\n",
    "w -= gradient(w) * lr\n",
    "```\n",
    "\n",
    "This is known as ***stepping*** your parameters, using an ***optimizer step***.  \n",
    "Notice how we **_subtract_ the `gradient * lr` from the parameter to update it.**  \n",
    "This allows us to **adjust the parameter in the direction of the slope**  \n",
    "<u>by increasing the parameter when the slope is negative and decreasing the parameter when the slope is positive</u>.  \n",
    "**We want to adjust our parameters in the direction of the slope because our goal in deep learning is to _minimize_ the loss**.\n",
    "\n",
    "If you pick a **learning rate that's too low**, it can mean having to do a lot of steps. <<descent_small>> illustrates that.\n",
    "\n"
   ]
  },
  {
   "cell_type": "code",
   "execution_count": null,
   "metadata": {},
   "outputs": [],
   "source": [
    "'''\n",
    "let's say all of our weights are called \"w\",\n",
    "we just substract off them the gradients multiplied by some small number \n",
    "and that small number is often a number between 0.001 and 0.1\n",
    "and it's called the learning rate\n",
    "\n",
    "w -= gradient(w) * lr\n",
    "\n",
    "and this here is the essence of gradient descent\n",
    "so if you pick a learning rate that is very small, then you take a small step in the direction of the slope\n",
    "and another small step, so on\n",
    "and it's going to take forever to get to the end\n",
    "'''"
   ]
  },
  {
   "cell_type": "markdown",
   "metadata": {},
   "source": [
    "<img alt=\"An illustration of gradient descent with a LR too low\" width=\"400\" caption=\"Gradient descent with low LR\" src=\"images/chapter2_small.svg\" id=\"descent_small\"/>"
   ]
  },
  {
   "cell_type": "markdown",
   "metadata": {},
   "source": [
    "But picking a **learning rate that's too high** is even worse — it can actually result in the loss getting *worse*, as we see in <<descent_div>>!"
   ]
  },
  {
   "cell_type": "code",
   "execution_count": null,
   "metadata": {},
   "outputs": [],
   "source": [
    "'''\n",
    "if you pick a learning rate that is too big, you jump way too far each time and again, it's goint to take forever\n",
    "me: why like this? because w is on the x/parameter axis and if lr is big then new w is that big\n",
    "it started at the bottom and lr is so bit that w got worse and worse, it moves away from the minimum\n",
    "'''"
   ]
  },
  {
   "cell_type": "markdown",
   "metadata": {},
   "source": [
    "<img alt=\"An illustration of gradient descent with a LR too high\" width=\"400\" caption=\"Gradient descent with high LR\" src=\"images/chapter2_div.svg\" id=\"descent_div\"/>"
   ]
  },
  {
   "cell_type": "markdown",
   "metadata": {},
   "source": [
    "If the **learning rate is too high**, it may also **\"bounce\" around**, rather than actually diverging;  \n",
    "<<descent_bouncy>> shows how this has the result of taking many steps to train successfully."
   ]
  },
  {
   "cell_type": "code",
   "execution_count": null,
   "metadata": {},
   "outputs": [],
   "source": [
    "'''\n",
    "this one is not so big that it gets worse and worse\n",
    "but it just takes a long time to bounce in and out\n",
    "\n",
    "so picking a good learning rate is really important, both to making sure is even possible to solve the problem\n",
    "and that it's possible to solve it in a reasonable amount of time\n",
    "\n",
    "so we'll be learning how to pick learning rates in this course\n",
    "'''"
   ]
  },
  {
   "cell_type": "markdown",
   "metadata": {},
   "source": [
    "<img alt=\"An illustation of gradient descent with a bouncy LR\" width=\"400\" caption=\"Gradient descent with bouncy LR\" src=\"images/chapter2_bouncy.svg\" id=\"descent_bouncy\"/>"
   ]
  },
  {
   "cell_type": "markdown",
   "metadata": {},
   "source": [
    "Now let's apply all of this in an end-to-end example."
   ]
  },
  {
   "cell_type": "markdown",
   "metadata": {},
   "source": [
    "### An End-to-End SGD Example"
   ]
  },
  {
   "cell_type": "markdown",
   "metadata": {},
   "source": [
    "We've seen how to use gradients to find a minimum.  \n",
    "Now it's time to look at **an SGD example and see how finding a minimum can be used to train a model to fit data better.**  \n",
    "(it's not S, just GD)\n",
    "\n",
    "Let's start with a simple, synthetic, example model.  \n",
    "**Imagine you were measuring the speed of a roller coaster as it went over the top of a hump.**  (me:hump means top)  \n",
    "**It would start fast, and then get slower as it went up the hill;**  \n",
    "**it would be slowest at the top, and it would then speed up again as it went downhill.**  \n",
    "**<u>You want to build a model of how the speed changes over time</u>.**  \n",
    "If you were measuring the speed manually **every second for 20 seconds,**  \n",
    "it might look something like this:"
   ]
  },
  {
   "cell_type": "code",
   "execution_count": null,
   "metadata": {},
   "outputs": [],
   "source": [
    "'''\n",
    "let's imagine you were watching a roller coaster go over the top of a hump\n",
    "so as it comes out of the previous hill, it's going super fast, \n",
    "and it's going up the hill and it's going slower and slower until it gets to the top of the hump\n",
    "and then it goes to the other side, it gets faster and faster\n",
    "\n",
    "and of you had a speedometer and you were measuring it just by hand at kind of equal times points\n",
    "you might end up with something that looks a bit like this:\n",
    "I end up with a quadratic function which is a bit bumpy\n",
    "'''"
   ]
  },
  {
   "cell_type": "code",
   "execution_count": 68,
   "metadata": {},
   "outputs": [
    {
     "data": {
      "text/plain": [
       "tensor([ 0.,  1.,  2.,  3.,  4.,  5.,  6.,  7.,  8.,  9., 10., 11., 12., 13., 14., 15., 16., 17., 18., 19.])"
      ]
     },
     "execution_count": 68,
     "metadata": {},
     "output_type": "execute_result"
    }
   ],
   "source": [
    "time = torch.arange(0,20).float();  # a tensor with 20 time intervals from 0 to 19 when I take speed measurements\n",
    "time"
   ]
  },
  {
   "cell_type": "code",
   "execution_count": 69,
   "metadata": {},
   "outputs": [
    {
     "data": {
      "image/png": "[encoded data removed]",
      "text/plain": [
       "<Figure size 640x480 with 1 Axes>"
      ]
     },
     "metadata": {},
     "output_type": "display_data"
    }
   ],
   "source": [
    "speed = torch.randn(20)*3 + 0.75*(time-9.5)**2 + 1  # speed are some values for speed that were supposedly measured every 20s\n",
    "#speed\n",
    "plt.scatter(time,speed);                            # they are recorded data, target data "
   ]
  },
  {
   "cell_type": "markdown",
   "metadata": {},
   "source": [
    "We've **added a bit of random noise**, since measuring things manually isn't precise.  \n",
    "This means it's not that easy to answer the question: **what was the roller coaster's speed?**  \n",
    "**Using SGD we can try to find a function that matches our observations**.  \n",
    "We can't consider every possible function, so let's use a **guess that it will be quadratic**;  \n",
    "i.e., a function of the form **`a*(time**2)+(b*time)+c`**.    \n",
    "\n",
    "We want to distinguish clearly between  \n",
    "the **function's input** (<u>the time</u> when we are measuring the coaster's speed)  \n",
    "and **its parameters** (<u>the values that define *which* quadratic we're trying</u>).  \n",
    "So, let's **collect the parameters in one argument and thus separate the input, `t`, and the parameters, `params`**, in the function's signature: "
   ]
  },
  {
   "cell_type": "code",
   "execution_count": 70,
   "metadata": {},
   "outputs": [],
   "source": [
    "'''\n",
    "we want to create a function that estimates at any time what is the speed of the rolercoaster\n",
    "so we start by guessing what function it might be\n",
    "so we guess that it's a quadratic function \n",
    "\n",
    "so let's create it using the albert samuel technique, machine learning technique\n",
    "it's going to take an input, which is a time\n",
    "and it's going to take some parameters, a,b,c \n",
    "so in python you can split out a list or a collection into its components (a,b,c=params)\n",
    "so we're not trying to find any function in the world, but a quadratic by finding an a,b and c\n",
    "so arthur samuel technique for doing this is to next come up with a loss function\n",
    "come up with a measurement of how good we are\n",
    "'''\n",
    "\n",
    "def f(t, params):                     # f is a function that aims to match the points above; we guess it's quadratic\n",
    "    a,b,c = params                    # input is time and parameters are a,b,c\n",
    "    return a*(t**2) + (b*t) + c       "
   ]
  },
  {
   "cell_type": "markdown",
   "metadata": {},
   "source": [
    "In other words, we've restricted the problem of finding the best imaginable function that fits the data, \n",
    "to **finding the best *quadratic* function**.  \n",
    "This greatly simplifies the problem, since every quadratic function is fully defined by the three parameters `a`, `b`, and `c`.  \n",
    "Thus, **to find the best quadratic function, we only need to find the best values for `a`, `b`, and `c`**.  \n",
    "\n",
    "If we can solve this problem for the three parameters of a quadratic function,  \n",
    "we'll be able to **apply the same approach for other, more complex functions with more parameters — such as a neural net**.  \n",
    "Let's find the parameters for `f` first, and then we'll come back and do the same thing for the MNIST dataset with a neural net.  \n",
    "\n",
    "**We need to define first what we mean by \"best\"**.  \n",
    "We define this precisely by **choosing a *loss function***,   \n",
    "**which will return a value based on a prediction and a target,**  \n",
    "where **lower values** of the function correspond to **\"better\" predictions**.   \n",
    "It is important for **loss functions to return _lower_ values when predictions are more accurate**,  \n",
    "as the SGD procedure we defined earlier will try to _minimize_ this loss.  \n",
    "**For continuous data, it's common to use *mean squared error*:**  "
   ]
  },
  {
   "cell_type": "code",
   "execution_count": 71,
   "metadata": {},
   "outputs": [],
   "source": [
    "'''\n",
    "so if we've got some predictions that come out of our function and the targets which are these actual values (blue dots from the plot)\n",
    "then we could just do the mse\n",
    "now we need to go through our 7 step process\n",
    "\n",
    "'''\n",
    "def mse(preds, targets): return ((preds-targets)**2).mean()  # the loss function is MSE between predictions and targets"
   ]
  },
  {
   "cell_type": "markdown",
   "metadata": {},
   "source": [
    "Now, let's work through our 7 step process."
   ]
  },
  {
   "cell_type": "markdown",
   "metadata": {},
   "source": [
    "#### Step 1: Initialize the parameters"
   ]
  },
  {
   "cell_type": "markdown",
   "metadata": {},
   "source": [
    "First, **we initialize the parameters to random values**,  \n",
    "and tell PyTorch that we want to **track their gradients**, using `requires_grad_`:"
   ]
  },
  {
   "cell_type": "code",
   "execution_count": 72,
   "metadata": {},
   "outputs": [],
   "source": [
    "'''\n",
    "we want to come up with a set of parameters a,b and c to random values\n",
    "we're going to be adjusting them, so tell pytorch that we want the gradients\n",
    "'''\n",
    "params = torch.randn(3).requires_grad_()  # params are the weights for the quadratic function we want to find (a,b,c)"
   ]
  },
  {
   "cell_type": "code",
   "execution_count": 73,
   "metadata": {},
   "outputs": [],
   "source": [
    "'''\n",
    "I'm going to save these away to check them later\n",
    "'''\n",
    "#hide\n",
    "orig_params = params.clone()"
   ]
  },
  {
   "cell_type": "markdown",
   "metadata": {},
   "source": [
    "#### Step 2: Calculate the predictions"
   ]
  },
  {
   "cell_type": "markdown",
   "metadata": {},
   "source": [
    "Next, we **calculate the predictions**:"
   ]
  },
  {
   "cell_type": "code",
   "execution_count": 74,
   "metadata": {},
   "outputs": [],
   "source": [
    "'''\n",
    "calculate the prediction using function f\n",
    "'''\n",
    "preds = f(time, params)  # f is quadratic with random parameters"
   ]
  },
  {
   "cell_type": "markdown",
   "metadata": {},
   "source": [
    "Let's create **a little function to see how close our predictions are to our targets**, and take a look:"
   ]
  },
  {
   "cell_type": "code",
   "execution_count": 75,
   "metadata": {},
   "outputs": [],
   "source": [
    "'''\n",
    "and now create a function that plots how good are our predictions\n",
    "here's a function that prints in red our predictions and in blue our targets\n",
    "that looks pretty terible\n",
    "'''\n",
    "def show_preds(preds, ax=None):\n",
    "    if ax is None: ax=plt.subplots()[1]\n",
    "    ax.scatter(time, speed)                      # target data\n",
    "    ax.scatter(time, to_np(preds), color='red')  # prediction data\n",
    "    ax.set_ylim(-300,100)"
   ]
  },
  {
   "cell_type": "code",
   "execution_count": 76,
   "metadata": {},
   "outputs": [
    {
     "data": {
      "image/png": "[encoded data removed]",
      "text/plain": [
       "<Figure size 640x480 with 1 Axes>"
      ]
     },
     "metadata": {},
     "output_type": "display_data"
    }
   ],
   "source": [
    "show_preds(preds)  # show predictions (red) with 1st choice of random parameters (params)"
   ]
  },
  {
   "cell_type": "markdown",
   "metadata": {},
   "source": [
    "**This doesn't look very close** —  \n",
    "our random parameters suggest that the roller coaster will end up **going backwards**,  \n",
    "since we have **negative speeds!**"
   ]
  },
  {
   "cell_type": "markdown",
   "metadata": {},
   "source": [
    "#### Step 3: Calculate the loss"
   ]
  },
  {
   "cell_type": "markdown",
   "metadata": {},
   "source": [
    "We **calculate the loss** as follows:"
   ]
  },
  {
   "cell_type": "code",
   "execution_count": 77,
   "metadata": {},
   "outputs": [
    {
     "data": {
      "text/plain": [
       "tensor(25823.8086, grad_fn=<MeanBackward0>)"
      ]
     },
     "execution_count": 77,
     "metadata": {},
     "output_type": "execute_result"
    }
   ],
   "source": [
    "'''\n",
    "so let's calculate the loss, using the mse function we wrote\n",
    "so now we want to improve this\n",
    "'''\n",
    "loss = mse(preds, speed) # preds are predictions with random parameters and speed are recorded data\n",
    "loss"
   ]
  },
  {
   "cell_type": "markdown",
   "metadata": {},
   "source": [
    "Our goal is now to **improve** this.  \n",
    "To do that, we'll need to **know the gradients.**"
   ]
  },
  {
   "cell_type": "markdown",
   "metadata": {},
   "source": [
    "#### Step 4: Calculate the gradients"
   ]
  },
  {
   "cell_type": "markdown",
   "metadata": {},
   "source": [
    "The next step is to **calculate the gradients**.  \n",
    "In other words, **calculate an approximation of how the parameters need to change**:"
   ]
  },
  {
   "cell_type": "code",
   "execution_count": 78,
   "metadata": {},
   "outputs": [
    {
     "data": {
      "text/plain": [
       "tensor([-53195.8633,  -3419.7148,   -253.8908])"
      ]
     },
     "execution_count": 78,
     "metadata": {},
     "output_type": "execute_result"
    }
   ],
   "source": [
    "'''\n",
    "calculate the gradients using the 2 steps\n",
    "each of our parameter has a gradient that's negative\n",
    "'''\n",
    "loss.backward()  # backward() means calculate_gradients(); # calculate gradients by derivating the loss function; find each gradient by derivating each ax**2 and keeping the rest as a constant\n",
    "params.grad      # gradients are \"attached\" to params because it shows in which direction to change the params a,b,c  \n",
    "                 # -73k,-5k,-0,3k"
   ]
  },
  {
   "cell_type": "code",
   "execution_count": 79,
   "metadata": {},
   "outputs": [
    {
     "data": {
      "text/plain": [
       "tensor([-0.5320, -0.0342, -0.0025])"
      ]
     },
     "execution_count": 79,
     "metadata": {},
     "output_type": "execute_result"
    }
   ],
   "source": [
    "'''\n",
    "let's pick a learning rate of 10 to the -5  \n",
    "'''\n",
    "params.grad * 1e-5  # here shows what the step will be equal to = gradients * learning rate"
   ]
  },
  {
   "cell_type": "markdown",
   "metadata": {},
   "source": [
    "**We can use these gradients to improve our parameters.**  \n",
    "We'll need to **pick a learning rate** (we'll discuss how to do that in practice in the next chapter; for now we'll just use 1e-5, or **0.00001**):"
   ]
  },
  {
   "cell_type": "code",
   "execution_count": 80,
   "metadata": {},
   "outputs": [
    {
     "data": {
      "text/plain": [
       "tensor([-0.7658, -0.7506,  1.3525], requires_grad=True)"
      ]
     },
     "execution_count": 80,
     "metadata": {},
     "output_type": "execute_result"
    }
   ],
   "source": [
    "params  # these are the parameters before being adjusted with the learning rate"
   ]
  },
  {
   "cell_type": "markdown",
   "metadata": {},
   "source": [
    "#### Step 5: Step the weights. "
   ]
  },
  {
   "cell_type": "markdown",
   "metadata": {},
   "source": [
    "Now we need to **update the parameters based on the gradients we just calculated:**"
   ]
  },
  {
   "cell_type": "code",
   "execution_count": 81,
   "metadata": {},
   "outputs": [],
   "source": [
    "'''\n",
    "and step the weights\n",
    "step is -= learning rate * gradient\n",
    "there's a wonderful trick here, which I've called .data\n",
    "there reason I've called .data is because it's a special attribute in pytorch, which if you use it, then the gradient is not calculated\n",
    "and we don't want the gradient to be calculated of the actual step we're doing - me: here, in lr*grad we don't want to call .grad, so that's why add .data\n",
    "we only want the gradient to be calculated of our function f\n",
    "all right, so when we step the weights we have to use this special .data attribute (params.data in left side of the =)\n",
    "after we do that delete the gradients what we already had and let's see if loss improved\n",
    "\n",
    "'''\n",
    "# w -=gradient(w)*lr\n",
    "# adjusts the parameter in the direction of the slope (gradient)\n",
    "# increasing the parameter when the slope (gradient) is negative and decreasing the parameter when the slope is positive\n",
    "lr = 1e-5\n",
    "params.data -= lr * params.grad.data  # how to change our parameters based on the values of the gradients\t                            \n",
    "params.grad = None                    # multiplying the gradient by some small number, called the learning rate (LR)"
   ]
  },
  {
   "cell_type": "markdown",
   "metadata": {},
   "source": [
    "> a: Understanding this bit depends on remembering recent history.   \n",
    "To **calculate the gradients** we call `backward` on the **`loss`**.  \n",
    "But this `loss` was itself calculated by **`mse`**,  \n",
    "which in turn took **`preds`** as an input,  \n",
    "which was calculated using **`f`** taking as an input **`params`**,  \n",
    "which was the object on which we originally called **`requires_grad_`**  \n",
    "— which is the original call that now allows us to call `backward` on `loss`.  \n",
    "This **chain of function calls** represents the mathematical composition of functions,  \n",
    "which **enables PyTorch** to use calculus's chain rule under the hood to **calculate these gradients.**  "
   ]
  },
  {
   "cell_type": "markdown",
   "metadata": {},
   "source": [
    "Let's see if **the loss has improved:**"
   ]
  },
  {
   "cell_type": "code",
   "execution_count": 82,
   "metadata": {},
   "outputs": [
    {
     "data": {
      "text/plain": [
       "tensor(5435.5356, grad_fn=<MeanBackward0>)"
      ]
     },
     "execution_count": 82,
     "metadata": {},
     "output_type": "execute_result"
    }
   ],
   "source": [
    "'''\n",
    "the loss before was 25823 and now is 5400\n",
    "and the plot has gone from something that goes down to -300 to something that looks much better\n",
    "'''\n",
    "preds = f(time,params)  # new predictions based on quadratic f with new parameters\n",
    "mse(preds, speed)       # new loss"
   ]
  },
  {
   "cell_type": "markdown",
   "metadata": {},
   "source": [
    "And take a look at **the plot:**"
   ]
  },
  {
   "cell_type": "code",
   "execution_count": 83,
   "metadata": {},
   "outputs": [
    {
     "data": {
      "image/png": "[encoded data removed]",
      "text/plain": [
       "<Figure size 640x480 with 1 Axes>"
      ]
     },
     "metadata": {},
     "output_type": "display_data"
    }
   ],
   "source": [
    "show_preds(preds)"
   ]
  },
  {
   "cell_type": "markdown",
   "metadata": {},
   "source": [
    "We need to repeat this a few times, so we'll create **a function to apply one step:**  "
   ]
  },
  {
   "cell_type": "code",
   "execution_count": 84,
   "metadata": {},
   "outputs": [],
   "source": [
    "def apply_step(params, prn=True):\n",
    "    preds = f(time, params)\n",
    "    loss = mse(preds, speed)\n",
    "    loss.backward()\n",
    "    params.data -= lr * params.grad.data\n",
    "    params.grad = None\n",
    "    if prn: print(loss.item())\n",
    "    return preds"
   ]
  },
  {
   "cell_type": "markdown",
   "metadata": {},
   "source": [
    "#### Step 6: Repeat the process "
   ]
  },
  {
   "cell_type": "markdown",
   "metadata": {},
   "source": [
    "Now we **iterate**.  \n",
    "By looping and performing many improvements, we hope to reach a good result:"
   ]
  },
  {
   "cell_type": "code",
   "execution_count": 85,
   "metadata": {},
   "outputs": [
    {
     "name": "stdout",
     "output_type": "stream",
     "text": [
      "5435.53564453125\n",
      "1577.44921875\n",
      "847.3778076171875\n",
      "709.2225341796875\n",
      "683.0758056640625\n",
      "678.1243896484375\n",
      "677.1838989257812\n",
      "677.0023803710938\n",
      "676.9645385742188\n",
      "676.9537353515625\n"
     ]
    }
   ],
   "source": [
    "'''\n",
    "put those steps in a function and repeat it 10 times\n",
    "and the loss is getting better and better\n",
    "'''\n",
    "for i in range(10): apply_step(params)"
   ]
  },
  {
   "cell_type": "code",
   "execution_count": 86,
   "metadata": {},
   "outputs": [],
   "source": [
    "#hide\n",
    "params = orig_params.detach().requires_grad_() "
   ]
  },
  {
   "cell_type": "markdown",
   "metadata": {},
   "source": [
    "**The loss is going down**, just as we hoped!  \n",
    "But looking only at these loss numbers disguises the fact that each **iteration represents an entirely different quadratic function being tried**,  \n",
    "on the way to finding the best possible quadratic function.  \n",
    "We can see this process visually if, instead of printing out the loss function, **we plot the function at every step.**  \n",
    "Then we can see how **the shape is approaching the best possible quadratic function for our data:**"
   ]
  },
  {
   "cell_type": "code",
   "execution_count": 87,
   "metadata": {},
   "outputs": [
    {
     "data": {
      "image/png": "[encoded data removed]",
      "text/plain": [
       "<Figure size 1200x300 with 4 Axes>"
      ]
     },
     "metadata": {},
     "output_type": "display_data"
    }
   ],
   "source": [
    "'''\n",
    "and we can actually look at it getting better and better\n",
    "so we have a technique, this is the arthur samuel technique\n",
    "for finding a set of parameters that continuously improves \n",
    "by getting feedback from the result of measuring some loss fuction\n",
    "so that was kind of the key step  \n",
    "this is the gradient descent method\n",
    "'''\n",
    "_,axs = plt.subplots(1,4,figsize=(12,3))     \n",
    "for ax in axs: show_preds(apply_step(params, False), ax)   \n",
    "plt.tight_layout()   "
   ]
  },
  {
   "cell_type": "markdown",
   "metadata": {},
   "source": [
    "#### Step 7: stop"
   ]
  },
  {
   "cell_type": "markdown",
   "metadata": {},
   "source": [
    "We just decided to stop after 10 epochs arbitrarily.  \n",
    "In practice, **we would watch the training and validation losses and our metrics to decide when to stop**, as we've discussed."
   ]
  },
  {
   "cell_type": "markdown",
   "metadata": {},
   "source": [
    "### Summarizing Gradient Descent"
   ]
  },
  {
   "cell_type": "code",
   "execution_count": 88,
   "metadata": {
    "hide_input": false
   },
   "outputs": [
    {
     "data": {
      "image/svg+xml": [
       "<?xml version=\"1.0\" encoding=\"UTF-8\" standalone=\"no\"?>\n",
       "<!DOCTYPE svg PUBLIC \"-//W3C//DTD SVG 1.1//EN\"\n",
       " \"http://www.w3.org/Graphics/SVG/1.1/DTD/svg11.dtd\">\n",
       "<!-- Generated by graphviz version 7.1.0 (20230122.1345)\n",
       " -->\n",
       "<!-- Title: G Pages: 1 -->\n",
       "<svg width=\"661pt\" height=\"78pt\"\n",
       " viewBox=\"0.00 0.00 660.87 78.00\" xmlns=\"http://www.w3.org/2000/svg\" xmlns:xlink=\"http://www.w3.org/1999/xlink\">\n",
       "<g id=\"graph0\" class=\"graph\" transform=\"scale(1 1) rotate(0) translate(4 74)\">\n",
       "<title>G</title>\n",
       "<polygon fill=\"white\" stroke=\"none\" points=\"-4,4 -4,-74 656.87,-74 656.87,4 -4,4\"/>\n",
       "<!-- init -->\n",
       "<g id=\"node1\" class=\"node\">\n",
       "<title>init</title>\n",
       "<ellipse fill=\"none\" stroke=\"black\" cx=\"27\" cy=\"-18\" rx=\"27\" ry=\"18\"/>\n",
       "<text text-anchor=\"middle\" x=\"27\" y=\"-14.3\" font-family=\"Times,serif\" font-size=\"14.00\">init</text>\n",
       "</g>\n",
       "<!-- predict -->\n",
       "<g id=\"node2\" class=\"node\">\n",
       "<title>predict</title>\n",
       "<ellipse fill=\"none\" stroke=\"black\" cx=\"135.2\" cy=\"-18\" rx=\"44.39\" ry=\"18\"/>\n",
       "<text text-anchor=\"middle\" x=\"135.2\" y=\"-14.3\" font-family=\"Times,serif\" font-size=\"14.00\">predict</text>\n",
       "</g>\n",
       "<!-- init&#45;&gt;predict -->\n",
       "<g id=\"edge1\" class=\"edge\">\n",
       "<title>init&#45;&gt;predict</title>\n",
       "<path fill=\"none\" stroke=\"black\" d=\"M54.25,-18C61.85,-18 70.45,-18 79.12,-18\"/>\n",
       "<polygon fill=\"black\" stroke=\"black\" points=\"78.96,-21.5 88.96,-18 78.96,-14.5 78.96,-21.5\"/>\n",
       "</g>\n",
       "<!-- loss -->\n",
       "<g id=\"node3\" class=\"node\">\n",
       "<title>loss</title>\n",
       "<ellipse fill=\"none\" stroke=\"black\" cx=\"244.99\" cy=\"-52\" rx=\"28.7\" ry=\"18\"/>\n",
       "<text text-anchor=\"middle\" x=\"244.99\" y=\"-48.3\" font-family=\"Times,serif\" font-size=\"14.00\">loss</text>\n",
       "</g>\n",
       "<!-- predict&#45;&gt;loss -->\n",
       "<g id=\"edge2\" class=\"edge\">\n",
       "<title>predict&#45;&gt;loss</title>\n",
       "<path fill=\"none\" stroke=\"black\" d=\"M171.19,-29.04C182.93,-32.74 196.04,-36.88 207.87,-40.61\"/>\n",
       "<polygon fill=\"black\" stroke=\"black\" points=\"206.69,-43.9 217.28,-43.58 208.8,-37.23 206.69,-43.9\"/>\n",
       "</g>\n",
       "<!-- gradient -->\n",
       "<g id=\"node4\" class=\"node\">\n",
       "<title>gradient</title>\n",
       "<ellipse fill=\"none\" stroke=\"black\" cx=\"406.63\" cy=\"-52\" rx=\"50.09\" ry=\"18\"/>\n",
       "<text text-anchor=\"middle\" x=\"406.63\" y=\"-48.3\" font-family=\"Times,serif\" font-size=\"14.00\">gradient</text>\n",
       "</g>\n",
       "<!-- loss&#45;&gt;gradient -->\n",
       "<g id=\"edge3\" class=\"edge\">\n",
       "<title>loss&#45;&gt;gradient</title>\n",
       "<path fill=\"none\" stroke=\"black\" d=\"M274.16,-52C293.71,-52 320.51,-52 344.81,-52\"/>\n",
       "<polygon fill=\"black\" stroke=\"black\" points=\"344.61,-55.5 354.61,-52 344.61,-48.5 344.61,-55.5\"/>\n",
       "</g>\n",
       "<!-- step -->\n",
       "<g id=\"node5\" class=\"node\">\n",
       "<title>step</title>\n",
       "<ellipse fill=\"none\" stroke=\"black\" cx=\"524.23\" cy=\"-18\" rx=\"30.59\" ry=\"18\"/>\n",
       "<text text-anchor=\"middle\" x=\"524.23\" y=\"-14.3\" font-family=\"Times,serif\" font-size=\"14.00\">step</text>\n",
       "</g>\n",
       "<!-- gradient&#45;&gt;step -->\n",
       "<g id=\"edge4\" class=\"edge\">\n",
       "<title>gradient&#45;&gt;step</title>\n",
       "<path fill=\"none\" stroke=\"black\" d=\"M446.12,-40.68C458.69,-36.98 472.64,-32.88 485.18,-29.19\"/>\n",
       "<polygon fill=\"black\" stroke=\"black\" points=\"486.16,-32.55 494.77,-26.37 484.18,-25.84 486.16,-32.55\"/>\n",
       "</g>\n",
       "<!-- step&#45;&gt;predict -->\n",
       "<g id=\"edge6\" class=\"edge\">\n",
       "<title>step&#45;&gt;predict</title>\n",
       "<path fill=\"none\" stroke=\"black\" d=\"M493.24,-18C428.38,-18 274.25,-18 191.3,-18\"/>\n",
       "<polygon fill=\"black\" stroke=\"black\" points=\"191.35,-14.5 181.35,-18 191.35,-21.5 191.35,-14.5\"/>\n",
       "<text text-anchor=\"middle\" x=\"315.09\" y=\"-21.8\" font-family=\"Times,serif\" font-size=\"14.00\">repeat</text>\n",
       "</g>\n",
       "<!-- stop -->\n",
       "<g id=\"node6\" class=\"node\">\n",
       "<title>stop</title>\n",
       "<ellipse fill=\"none\" stroke=\"black\" cx=\"622.32\" cy=\"-18\" rx=\"30.59\" ry=\"18\"/>\n",
       "<text text-anchor=\"middle\" x=\"622.32\" y=\"-14.3\" font-family=\"Times,serif\" font-size=\"14.00\">stop</text>\n",
       "</g>\n",
       "<!-- step&#45;&gt;stop -->\n",
       "<g id=\"edge5\" class=\"edge\">\n",
       "<title>step&#45;&gt;stop</title>\n",
       "<path fill=\"none\" stroke=\"black\" d=\"M555.1,-18C563.06,-18 571.79,-18 580.23,-18\"/>\n",
       "<polygon fill=\"black\" stroke=\"black\" points=\"579.95,-21.5 589.95,-18 579.95,-14.5 579.95,-21.5\"/>\n",
       "</g>\n",
       "</g>\n",
       "</svg>\n"
      ],
      "text/plain": [
       "<graphviz.sources.Source at 0x7fcdf9bb7e50>"
      ]
     },
     "execution_count": 88,
     "metadata": {},
     "output_type": "execute_result"
    }
   ],
   "source": [
    "#hide_input\n",
    "#id gradient_descent\n",
    "#caption The gradient descent process\n",
    "#alt Graph showing the steps for Gradient Descent\n",
    "gv('''\n",
    "init->predict->loss->gradient->step->stop\n",
    "step->predict[label=repeat]\n",
    "''')"
   ]
  },
  {
   "cell_type": "markdown",
   "metadata": {},
   "source": [
    "To summarize,  \n",
    "at the beginning, **the weights of our model can be random (training *from scratch*)**    \n",
    "**or come from a pretrained model (*transfer learning*).**    \n",
    "In the first case, the output we will get from our inputs won't have anything to do with what we want,  \n",
    "and even in the second case, it's very likely the pretrained model won't be very good at the specific task we are targeting.  \n",
    "**So the model will need to *learn* better weights.**  \n",
    "\n",
    "**We begin by comparing the outputs the model gives us with our targets**  \n",
    "(we have labeled data, so we know what result the model should give) **using a *loss function*,**  \n",
    "**which returns a number that we want to make as low as possible by improving our weights.**  \n",
    "To do this, **we take a few data items (such as images) from the training set and feed them to our model.  \n",
    "We compare the corresponding targets using our loss function,  \n",
    "and the score we get tells us how wrong our predictions were.**    \n",
    "We then **change the weights a little bit** to make it slightly better.   \n",
    "\n",
    "To find **how to change the weights to make the loss a bit better, we use calculus to calculate the *gradients*.**    \n",
    "(Actually, we let PyTorch do it for us!)   \n",
    "Let's consider an **analogy**.  \n",
    "Imagine you are lost in the mountains with your **car parked at the lowest point.**  \n",
    "To find your way back to it, you might wander in a random direction, but that probably wouldn't help much.  \n",
    "Since you know your vehicle is at the lowest point, you would be better off going downhill.  \n",
    "**By always taking a step in the direction of the steepest downward slope, you should eventually arrive at your destination.**  \n",
    "**We use the magnitude of the gradient (i.e., the steepness of the slope) to tell us how big a step to take;**  \n",
    "specifically, we multiply the gradient by a number we choose called the ***learning rate*** to decide on the step size.  \n",
    "We then ***iterate*** until we have reached the lowest point, which will be our parking lot,  \n",
    "then we can ***stop***.\n",
    "\n",
    "All of that we just saw can be transposed directly to the MNIST dataset, except for the loss function.  \n",
    "Let's now see how we can **define a good training objective.** "
   ]
  },
  {
   "cell_type": "markdown",
   "metadata": {},
   "source": [
    "## The MNIST Loss Function"
   ]
  },
  {
   "cell_type": "markdown",
   "metadata": {},
   "source": [
    "We already have our **independent variables `x`—these are the images themselves.**  \n",
    "We'll **concatenate them all into a single tensor,**  \n",
    "and also change them from **a list of matrices (a rank-3 tensor) to a list of vectors (a rank-2 tensor).**  \n",
    "We can do this using **`view`, which is a PyTorch method that changes the shape of a tensor without changing its contents.**  \n",
    "`-1` is a special parameter to `view` that means **\"make this axis as big as necessary to fit all the data\":**  "
   ]
  },
  {
   "cell_type": "code",
   "execution_count": null,
   "metadata": {},
   "outputs": [],
   "source": [
    "'''\n",
    "so now let's apply this to MNIST\n",
    "so for MNIST we want to use this exact technique and there's nothing extra that we have to do\n",
    "except on thing, we need a LOSS function\n",
    "and the metric that we've been using is the error rate, or the accuracy \n",
    "    (the accuracy = how many of the predictions are true in the validation set\n",
    "    using the mnist_distance that calculates the overall distance between an the validation set and an ideal 3/7)\n",
    "accuracy = it's like how often are we correct \n",
    "and that's the thing we're actually trying to make good, our metric\n",
    "but we've got a very serious problem, \n",
    "which is we need to calculate the gradient to figure out how we should change our parameters\n",
    "and the gradient is the slope, or the steepness, which is rise / run\n",
    "it's (y_new-y_old) / (x_new-x_old)  -->> on the loss graph\n",
    "the gradient is actually defined when x_new is very, very close to x_old, \n",
    "meaning their difference is very small (because the derivative it's the tangent)\n",
    "but think about accuracy: if I change a parameter by a tiny tiny amount, the accuracy might not change at all\n",
    "(it's an horizontal line and it's slope in that x_new point is 0)\n",
    "because there might not be any 3 that we now predict as a 7 or any 7 that we now predict as a 3\n",
    "because we change the parameter by such a small amount\n",
    "so it's certain that the gradient is 0 in many places, \n",
    "and that means our parameters aren't going to change at all\n",
    "because learning rate * gradient is still 0 when the gradient is 0 for any learning rate\n",
    "so this is why the loss function and the metric are not always the same thing\n",
    "we can't use a metric as our loss if that metric has a gradient of zero\n",
    "so we need something different\n",
    "we need to find something that is pretty similar to the accuracy \n",
    "in that like as the accuracy gets better this ideal function we want gets better as well\n",
    "but it should not have a gradient of 0\n",
    "\n",
    "so let's think about that function\n",
    "suppose we had 3 images\n",
    "actually we will stop\n",
    "we understand GD\n",
    "we know how to do it with a simple loss function \n",
    "\n",
    "\n",
    "\n",
    "lesson 4 2020\n",
    "deep into the weeds of what exactly is going on when we are training a neural network\n",
    "and we started looking at this in the previous lesson, at SGD\n",
    "\n",
    "we were looking at what Arthur Samuel said:\n",
    "automatic means of testing the effectivenes of any current weight/paramenter assignment in terms of actual performance\n",
    "and provide a mechanism for altering the weight assignment so as to maximize that performance\n",
    "so we could make that entirely automatic \n",
    "and a machine so programmed would learn from its experience\n",
    "\n",
    "our initial attempt on MNIST data set was not based on that\n",
    "we didn't have any parameters \n",
    "\n",
    "lesson 4 2020\n",
    "now let's use this to create our MNIST 3 and 7 model\n",
    "and so to create a model we're going to need to create something that we can pass into a function like\n",
    "this one: def pr_eight(x,w) = (x*w).sum()\n",
    "so we need some pixels that are all lined up and some parameters that are all lined up\n",
    "and then we're going to sum them up\n",
    "so our axis/x's are going to be pixels and so in this case,\n",
    "because we're just going to multiply each pixel by a parameter and add them up,\n",
    "the effect that the're laid out in a grid is not important so let's reshape those grids\n",
    "and turn them into vectors\n",
    "the way we reshape things in pytorch is by using the view method\n",
    "the view method you can pass to it how large you want each dimension to be\n",
    "in this case, we want the number of columns to be equal to the total number of pixels in each picture, which is 28*28=784\n",
    "and then the number of rows will be however many rows there are in the data\n",
    "(me: so each picture now occupies a row of 784 columns or 784 numbers)\n",
    "(in total are 12396 3s and 7s so there are that many rows)\n",
    "so if you use -1 when you call view, that means as many there are in the data\n",
    "so this will create something of the same, with the same total number of elements that we had before\n",
    "so we can grab all our 3, we can concatenate them with torch cat with all of our 7s\n",
    "and then reshape that into a matrix, where each row is one image\n",
    "with all of the rows and columns of an image all lined up in a single vector\n",
    "so that's our x.\n",
    "\n",
    "'''\n",
    "\n",
    "#train_test = torch.cat([stacked_threes, stacked_sevens])\n",
    "#train_test"
   ]
  },
  {
   "cell_type": "code",
   "execution_count": 114,
   "metadata": {},
   "outputs": [],
   "source": [
    "train_x = torch.cat([stacked_threes, stacked_sevens]).view(-1, 28*28)  \n",
    "# cat puts 3 above 7 because default axis is 0, the vertical axis\n",
    "# view(-1,28*28) means fix one axis to 28*28 and one picture is now 784 columns/numbers\n",
    "# and the -1 means to adapt so it can fit all images, the sum of 3s + 7s\n",
    "# so this is a matrix now"
   ]
  },
  {
   "cell_type": "markdown",
   "metadata": {},
   "source": [
    "We need a **label for each image.**  \n",
    "We'll use `1` for 3s and `0` for 7s:"
   ]
  },
  {
   "cell_type": "code",
   "execution_count": 118,
   "metadata": {},
   "outputs": [],
   "source": [
    "# test only\n",
    "#train_test = tensor([1]*len(threes) + [0]*len(sevens))\n",
    "#train_test, train_test.shape"
   ]
  },
  {
   "cell_type": "code",
   "execution_count": 115,
   "metadata": {},
   "outputs": [
    {
     "data": {
      "text/plain": [
       "(torch.Size([12396, 784]), torch.Size([12396, 1]))"
      ]
     },
     "execution_count": 115,
     "metadata": {},
     "output_type": "execute_result"
    }
   ],
   "source": [
    "'''\n",
    "then we're going to need labels, 1 for each of the 3s and a 0 for each of the 7s\n",
    "so basically we're going to create an is_3 model (what??)\n",
    "so that's going to create a vector, we actually need it to be a matrix in pytorch\n",
    "so unsqueeze will and an additional unit dimension to whatever I've asked for\n",
    "so here in position 1, \n",
    "so in other words, this is going to turn up from which is a vector of 12396 long \n",
    "into a matrix with 12396 rows and 1 column\n",
    "'''\n",
    "# create a tensor for labels\n",
    "train_y = tensor([1]*len(threes) + [0]*len(sevens)).unsqueeze(1)  # puts them vertical\n",
    "train_x.shape,train_y.shape"
   ]
  },
  {
   "cell_type": "code",
   "execution_count": 117,
   "metadata": {},
   "outputs": [
    {
     "data": {
      "text/plain": [
       "tensor([[1],\n",
       "        [1],\n",
       "        [1],\n",
       "        ...,\n",
       "        [0],\n",
       "        [0],\n",
       "        [0]])"
      ]
     },
     "execution_count": 117,
     "metadata": {},
     "output_type": "execute_result"
    }
   ],
   "source": [
    "train_y  # added by me"
   ]
  },
  {
   "cell_type": "markdown",
   "metadata": {},
   "source": [
    "**A `Dataset` in PyTorch is required to return a tuple of `(x,y)` when indexed.**  \n",
    "Python provides **a `zip` function which, when combined with `list`**, provides a simple way to get this functionality:"
   ]
  },
  {
   "cell_type": "code",
   "execution_count": 120,
   "metadata": {},
   "outputs": [
    {
     "data": {
      "text/plain": [
       "(torch.Size([784]), tensor([1]))"
      ]
     },
     "execution_count": 120,
     "metadata": {},
     "output_type": "execute_result"
    }
   ],
   "source": [
    "'''\n",
    "now we're going to turn or x and y into a dataset\n",
    "and a Dataset is a very specific concept in pytorch\n",
    "it's something we can index into, using []\n",
    "and when we do so, it's expected to return a tuple \n",
    "containing our independent variable (x) and a dependent variable (y)\n",
    "for each particular row (0 in this case)\n",
    "\n",
    "and so to do that we can use the python zip function, \n",
    "which takes one element of the train_x and combines/concatenates it with one element of train_y\n",
    "and it does that again and again and again\n",
    "and so then if we create a list of those it gives us a Dataset\n",
    "\n",
    "it gives us a list which when we index into it, it's going to contain 1 image and 1 label\n",
    "and so here you can see \"y\" there's my label\n",
    "and \"x\" my image, but I won't print the whole thing, it's a 784 long vector\n",
    "\n",
    "so that's a really important concept: Dataset, something you can index into, and get back a tuple\n",
    "this is called destructuring a tuple: which means I'm taking the 2 parts of the tuple\n",
    "and putthing the 1st part in one variable (x) and the 2nd part in the other variable\n",
    "which is something we do a lot in python, it's pretty handy\n",
    "\n",
    "'''\n",
    "\n",
    "dset = list(zip(train_x,train_y))  # so a pytorch dataset needs to return a tuple (a fixed list)\n",
    "x,y = dset[0]\n",
    "x.shape,y"
   ]
  },
  {
   "cell_type": "code",
   "execution_count": 94,
   "metadata": {},
   "outputs": [],
   "source": [
    "'''\n",
    "repeat the same 3 steps for the validation set\n",
    "so we've now got a training Dataset and a validation Dataset\n",
    "'''\n",
    "valid_x = torch.cat([valid_3_tens, valid_7_tens]).view(-1, 28*28)             # create the valid dataset\n",
    "valid_y = tensor([1]*len(valid_3_tens) + [0]*len(valid_7_tens)).unsqueeze(1)\n",
    "valid_dset = list(zip(valid_x,valid_y))"
   ]
  },
  {
   "cell_type": "markdown",
   "metadata": {},
   "source": [
    "Now we need **an (initially random) weight for every pixel**  \n",
    "(this is the ***initialize* step** in our seven-step process):"
   ]
  },
  {
   "cell_type": "code",
   "execution_count": 95,
   "metadata": {},
   "outputs": [],
   "source": [
    "'''\n",
    "so now we need to initialize our parameters\n",
    "and we just do it randomly\n",
    "here's a function that given some size (shape if you like)\n",
    "we'll randomly initialize, using a normal random number distribution in pytorch\n",
    "(hit shift+tab with cursor inside the size of rand(size) to see more details)\n",
    "and it says in the details that's going to have a variance of 1\n",
    "so I probably should not call this standard deviation (std=1), but variance\n",
    "\n",
    "so multiply it by the variance to change it's variance to whatever is requested (in arguments at std=)\n",
    "which will default to 1\n",
    "\n",
    "and as we talked about when it comes to calculating our gradients\n",
    "we have to tell pytorch which things we want gradients for\n",
    "and the way we do that is requires_grad_\n",
    "the underscore _ at the end is a special magic symbol \n",
    "which tells pytorch that we want this function to actually change the thing that is referring to\n",
    "this will change this tensor, such that it requires gradience\n",
    "\n",
    "\n",
    "'''\n",
    "def init_params(size, std=1.0): \n",
    "    return (torch.randn(size)*std).requires_grad_()"
   ]
  },
  {
   "cell_type": "code",
   "execution_count": 96,
   "metadata": {},
   "outputs": [],
   "source": [
    "'''\n",
    "here's some weights, so our weights are going to need to be 28*28=784 by 1 shape\n",
    "28*28 because every pixel is going to need a weight\n",
    "and then 1 because we're going to need to have that unit access to make it into a column\n",
    "(me: to be vertical 784 weights, a single column)\n",
    "so that's what pytorch expects \n",
    "so there's our weights\n",
    "'''\n",
    "\n",
    "weights = init_params((28*28,1))   # x are the pictures, which are 28*28 so the weights w should be the same"
   ]
  },
  {
   "cell_type": "markdown",
   "metadata": {},
   "source": [
    "**The function `weights*pixels` won't be flexible enough**  \n",
    "— it is always equal to 0 when the pixels are equal to 0 (i.e., its *intercept* is 0).  \n",
    "You might remember from high school math that **the formula for a line is `y=w*x+b`; we still need the `b`.**  \n",
    "**We'll initialize it to a random number too:**"
   ]
  },
  {
   "cell_type": "code",
   "execution_count": 97,
   "metadata": {},
   "outputs": [],
   "source": [
    "'''\n",
    "now just weights by pixels actually isn't going to be enough\n",
    "because weights by pixels were always equal 0 when the pixels are equal to 0,\n",
    "it has a 0 intercept\n",
    "so we really want something where it's like w*x+b, a line\n",
    "so the b we call the bias\n",
    "so let's grab a single number for our bias =|> (1)\n",
    "\n",
    "so I told you, there's a difference between parameters and weights\n",
    "\n",
    "the weights from weights = init_params((28*28,1)) are the w in y=wx+b equation\n",
    "and the bias is b in this equation\n",
    "and the weights and bias together are the PARAMETERS  of the function\n",
    "they're all the things that we're going to change, they're all the things that have gradients that we're going to update\n",
    "\n",
    "\n",
    "'''\n",
    "bias = init_params(1)"
   ]
  },
  {
   "cell_type": "markdown",
   "metadata": {},
   "source": [
    "In neural networks, the `w` in the equation `y=w*x+b` is called the *weights*, and the `b` is called the *bias*.  \n",
    "**Together, the weights and bias make up the *parameters*.**"
   ]
  },
  {
   "cell_type": "markdown",
   "metadata": {},
   "source": [
    "> jargon: Parameters: The _weights_ and _biases_ of a model.  \n",
    "> The weights are the `w` in the equation `w*x+b`, and the biases are the `b` in that equation."
   ]
  },
  {
   "cell_type": "markdown",
   "metadata": {},
   "source": [
    "**We can now calculate a prediction for one image:**"
   ]
  },
  {
   "cell_type": "code",
   "execution_count": 98,
   "metadata": {},
   "outputs": [
    {
     "data": {
      "text/plain": [
       "tensor([20.2336], grad_fn=<AddBackward0>)"
      ]
     },
     "execution_count": 98,
     "metadata": {},
     "output_type": "execute_result"
    }
   ],
   "source": [
    "'''\n",
    "we can now create and calculate predictions for one image \n",
    "so we can take an image such as the 1st one\n",
    "and multiply by the weights only to transpose them \n",
    "to make them line up in terms of the rows and columns \n",
    "and add it up, \n",
    "and add the bias \n",
    "and there is a prediction\n",
    "\n",
    "we want to do that for every image \n",
    "we could do that with a for loop and that would be really, really slow\n",
    "it wouldn't run on the gpu and it wouldn't run in optimized c code\n",
    "so we actually want to use always to do kind of like looping over pixels, looping over images\n",
    "you always want to make sure you're doing that without a python loop\n",
    "in this case doing this calculation for lots of rows and columns is the matrix multiplication operation\n",
    "\n",
    "'''\n",
    "(train_x[0]*weights.T).sum() + bias  # why? because a nn it's a linear function; and pr_eight is also multiplication + sum; here it adds a bias"
   ]
  },
  {
   "cell_type": "markdown",
   "metadata": {},
   "source": [
    "While we could use a Python `for` loop to calculate the prediction for each image, that would be very slow.  \n",
    "Because Python loops don't run on the GPU, and because Python is a slow language for loops in general,  \n",
    "**we need to represent as much of the computation in a model as possible using higher-level functions.**\n",
    "\n",
    "In this case, there's an extremely convenient mathematical operation that calculates `w*x` for every row of a matrix—it's called ***matrix multiplication***.  \n",
    "<<matmul>> shows what matrix multiplication looks like."
   ]
  },
  {
   "cell_type": "markdown",
   "metadata": {},
   "source": [
    "<img alt=\"Matrix multiplication\" width=\"400\" caption=\"Matrix multiplication\" src=\"images/matmul2.svg\" id=\"matmul\"/>"
   ]
  },
  {
   "cell_type": "markdown",
   "metadata": {},
   "source": [
    "This image shows two matrices, `A` and `B`, being multiplied together.  \n",
    "Each item of the result, which we'll call `AB`, contains each item of its corresponding row of `A` multiplied by each item of its corresponding column of `B`, added together.  \n",
    "For instance, **row 1, column 2 (the yellow dot with a red border) is calculated as $a_{1,1} * b_{1,2} + a_{1,2} * b_{2,2}$.**  \n",
    "If you need a refresher on matrix multiplication, we suggest you take a look at the [Intro to Matrix Multiplication](https://youtu.be/kT4Mp9EdVqs) on *Khan Academy*,  \n",
    "since this is the most important mathematical operation in deep learning.  \n",
    "\n",
    "**In Python, matrix multiplication is represented with the `@` operator.**    \n",
    "Let's try it:"
   ]
  },
  {
   "cell_type": "code",
   "execution_count": 99,
   "metadata": {},
   "outputs": [
    {
     "data": {
      "text/plain": [
       "tensor([[20.2336],\n",
       "        [17.0644],\n",
       "        [15.2384],\n",
       "        ...,\n",
       "        [18.3804],\n",
       "        [23.8567],\n",
       "        [28.6816]], grad_fn=<AddBackward0>)"
      ]
     },
     "execution_count": 99,
     "metadata": {},
     "output_type": "execute_result"
    }
   ],
   "source": [
    "'''\n",
    "1st prediction is 20.2336 as above with train_x[0]\n",
    "so matrix multiplication gives us an optimized way to do these simple linear function\n",
    "wehreas we want as many rows and columns as we want\n",
    "so this is one of the 2 fundamental equations of any neural network\n",
    "some rows and columns of data multiply some weights add some bias \n",
    "and the 2nd one is an activation function\n",
    "\n",
    "so these are some predictions from our randomly initialized model\n",
    "'''\n",
    "def linear1(xb): return xb@weights + bias\n",
    "preds = linear1(train_x)\n",
    "preds"
   ]
  },
  {
   "cell_type": "markdown",
   "metadata": {},
   "source": [
    "The first element is the same as we calculated before, as we'd expect.  \n",
    "**This equation, `batch@weights + bias`, is one of the two fundamental equations of any neural network**  \n",
    "(the other one is the ***activation function***, which we'll see in a moment)."
   ]
  },
  {
   "cell_type": "markdown",
   "metadata": {},
   "source": [
    "Let's check our **accuracy**.  \n",
    "**To decide if an output represents a 3 or a 7, we can just check whether it's greater than 0.0,**  \n",
    "so our accuracy for each item can be calculated (using broadcasting, so no loops!) with:"
   ]
  },
  {
   "cell_type": "code",
   "execution_count": 100,
   "metadata": {},
   "outputs": [
    {
     "data": {
      "text/plain": [
       "tensor([[ True],\n",
       "        [ True],\n",
       "        [ True],\n",
       "        ...,\n",
       "        [False],\n",
       "        [False],\n",
       "        [False]])"
      ]
     },
     "execution_count": 100,
     "metadata": {},
     "output_type": "execute_result"
    }
   ],
   "source": [
    "'''\n",
    "so we can check how good our model is\n",
    "and so to do that we can decide that anything greater than 0 we will call a 3\n",
    "and anything less than 0 we will call a 7\n",
    "so preds greater than 0 tells us whether or not something is predicted to be a 3 or not\n",
    "then turn that into a float, so rather than true and false, make it 1 and 0, \n",
    "because it's what our training set contains (train_y)\n",
    "\n",
    "and check with our thresholded predictions are equal to our training set \n",
    "and this will return true every time a row is correctly predicted and false otherwise\n",
    "'''\n",
    "corrects = (preds>0.0).float() == train_y  # compare the predictions with train_y\n",
    "                                           # train_y is 1(3s) and 0(7s)\n",
    "                                           # preds>0 means 1; if it's equal with 1 in train_y then it's a 3\n",
    "corrects"
   ]
  },
  {
   "cell_type": "code",
   "execution_count": 101,
   "metadata": {},
   "outputs": [
    {
     "data": {
      "text/plain": [
       "0.4912068545818329"
      ]
     },
     "execution_count": 101,
     "metadata": {},
     "output_type": "execute_result"
    }
   ],
   "source": [
    "'''\n",
    "so if we take all these trues and falses and turn them into floasts, that'll be 1s and 0s\n",
    "and then take their mean it's 0.49\n",
    "so not surprisingly our randomly initialized model is right about half the time at predicting 3s from 7s\n",
    "I added one more method here, which is .item() \n",
    "without .item() this will return a tensor, it's a rank 0 tensor, it has no rows, no columns\n",
    "it just it's number on its own, but I actually wanted to unwrap it to create a normal python scalar\n",
    "mainly just because I wanted to easily see the decimal places \n",
    "and the reason for that is I want to show you how we're going to calculate the derivative on the accuracy\n",
    "by changing a parameter a tiny bit\n",
    "'''\n",
    "corrects.float().mean().item()"
   ]
  },
  {
   "cell_type": "markdown",
   "metadata": {},
   "source": [
    "Now let's see what **the change in accuracy is for a small change in one of the weights**    \n",
    "(note that we have to ask PyTorch not to calculate gradients as we do this, which is what `with torch.no_grad()` is doing here):"
   ]
  },
  {
   "cell_type": "code",
   "execution_count": 121,
   "metadata": {},
   "outputs": [],
   "source": [
    "'''\n",
    "so let's take one parameter, which will be w[0] and multiply it with 1.0001\n",
    "and so that's going to make it a little bit bigger\n",
    "and then if I calculate how the accuracy changes based on the change in that weight\n",
    "that will be the gradient of the accuracy with respect to that parameter\n",
    "'''\n",
    "\n",
    "with torch.no_grad(): weights[0] *= 1.0001  "
   ]
  },
  {
   "cell_type": "code",
   "execution_count": 103,
   "metadata": {},
   "outputs": [
    {
     "data": {
      "text/plain": [
       "0.4912068545818329"
      ]
     },
     "execution_count": 103,
     "metadata": {},
     "output_type": "execute_result"
    }
   ],
   "source": [
    "'''\n",
    "so I can do that by calculating my new set of predictions and then I can threshold them\n",
    "and then I can check whether they're equal to the training set and then take the mean\n",
    "and I get back exactly the same number \n",
    "so remember that gradient is equal to rise/run \n",
    "\n",
    "the change in y, so y_new-y_old (that's the accuracy, the y function = wx+b)\n",
    "which is which is 0.4912 - 0.4912, which is 0\n",
    "divided by this change in x (1.0001) \n",
    "will give us 0\n",
    "so at this point we have a problem: our derivative is 0 so we have 0 gradients:\n",
    "which means our step will be 0\n",
    "which means our prediction will be unchanged\n",
    "\n",
    "ok, so we have problem\n",
    "our problem is that our gradient is zero and with a gradient of 0\n",
    "we can't take a step and we can't get better predictions\n",
    "and so intuitively speaking, the reason that our gradient is 0\n",
    "is because when we change a single pixel by a tiny bit\n",
    "we might not ever in any way change an actual prediction to change from predicting a 3 to a 7\n",
    "or viceversa\n",
    "because we have this threshold (preds>0.0)\n",
    "\n",
    "so in other words, our accuracy loss function here is very bumpy\n",
    "it's like a flat step, flat step, flat step\n",
    "so it's got this 9 gradient all over the place\n",
    "so what we need to do it use something other than accuracy as our loss function\n",
    "\n",
    "so let's try and create a new function \n",
    "and what this new function is going to do, it's going to give us a better value\n",
    "kind of in much the same way that accuracy gives a better value\n",
    "so this is the loss, and remember, the small loss is better\n",
    "so to give us a lower loss, when the accuracy is better \n",
    "but it won't have a zero gradient\n",
    "it means that a slightly better prediction needs to have a slightly better loss (lower loss is better)\n",
    "'''\n",
    "\n",
    "preds = linear1(train_x)\n",
    "((preds>0.0).float() == train_y).float().mean().item()  # same value, which means the y is constant \n",
    "                                                        # so the gradient/derivative is 0 = useless"
   ]
  },
  {
   "cell_type": "markdown",
   "metadata": {},
   "source": [
    "As we've seen, **we need gradients in order to improve our model using SGD,**  \n",
    "and in order to calculate gradients we need some ***loss function* that represents how good our model is.**  \n",
    "That is because the gradients are a measure of how that loss function changes with small tweaks to the weights.  \n",
    "\n",
    "**So, we need to choose a loss function.**  \n",
    "The obvious approach would be to use **accuracy**, which is our metric, as our loss function as well.  \n",
    "In this case, we would calculate our prediction for each image, collect these values to calculate an overall accuracy,  \n",
    "and then calculate **the gradients of each weight with respect to that overall accuracy.**\n",
    "\n",
    "Unfortunately, we have a **significant technical problem here.**  \n",
    "**The gradient of a function is its *slope***, or its steepness, which can be defined as ***rise over run***       \n",
    "— that is, how much the value of the function goes up or down, divided by how much we changed the input.  \n",
    "We can write this in mathematically as: **`(y_new - y_old) / (x_new - x_old)`**.  \n",
    "This gives us **a good approximation of the gradient when `x_new` is very similar to `x_old`**, meaning that their difference is very small.  \n",
    "**But accuracy only changes at all when a prediction changes from a 3 to a 7, or vice versa.**  \n",
    "The problem is that a small change in weights from `x_old` to `x_new` isn't likely to cause any prediction to change,    \n",
    "so `(y_new - y_old)` will almost always be 0.   \n",
    "In other words, **the gradient is 0 almost everywhere.**  "
   ]
  },
  {
   "cell_type": "markdown",
   "metadata": {},
   "source": [
    "A very small change in the value of a weight will often not actually change the accuracy at all.  \n",
    "This means **it is not useful to use accuracy as a loss function**   \n",
    "— if we do, most of the time our gradients will actually be 0, and the model will not be able to learn from that number.  \n",
    "\n",
    "> S: In mathematical terms, accuracy is a function that is constant almost everywhere (except at the threshold, 0.5),  \n",
    "> so its derivative is nil almost everywhere (and infinity at the threshold).  \n",
    "> This then gives gradients that are 0 or infinite, which are useless for updating the model.  \n",
    "\n",
    "Instead, **we need a loss function which, when our weights result in slightly better predictions, gives us a slightly better loss.**  \n",
    "So what does a \"slightly better prediction\" look like, exactly?  \n",
    "Well, in this case, it means that **if the correct answer is a 3 the score is a little higher, or if the correct answer is a 7 the score is a little lower.**  \n",
    "\n",
    "Let's write such a function now.  \n",
    "What form does it take?  \n",
    "\n",
    "**The loss function receives not the images themselves, but the predictions from the model.**  \n",
    "Let's make **one argument, `prds`, of values between 0 and 1, where each value is the prediction that an image is a 3.**  \n",
    "It is a vector (i.e., a rank-1 tensor), indexed over the images.  \n",
    "\n",
    "**The purpose of the loss function is to measure the difference between predicted values and the true values — that is, the targets (aka labels).**  \n",
    "**Let's make another argument, `trgts`, with values of 0 or 1 which tells whether an image actually is a 3 or not.**    \n",
    "It is also a vector (i.e., another rank-1 tensor), indexed over the images.  \n",
    "\n",
    "So, for instance, **suppose we had three images which we knew were a 3, a 7, and a 3.**    \n",
    "**And suppose our model predicted:**  \n",
    "    <u>with high confidence (`0.9`) that the first was a 3,</u>  \n",
    "    <u>with slight confidence (`0.4`) that the second was a 7,</u>        \n",
    "    <u>and with fair confidence (`0.2`), but incorrectly, that the last was a 7.</u>    \n",
    "This would mean **our loss function would receive these values as its inputs:**  "
   ]
  },
  {
   "cell_type": "code",
   "execution_count": null,
   "metadata": {},
   "outputs": [],
   "source": [
    "# prds are received from the model (the model doesn't send images, but predictions)"
   ]
  },
  {
   "cell_type": "code",
   "execution_count": null,
   "metadata": {},
   "outputs": [],
   "source": [
    "'''\n",
    "so let's have a look at an example\n",
    "let's say our targets, our labels, of like that are 3\n",
    "it's 3 images here: 1,0,1\n",
    "and we've made some predictions from a neural net\n",
    "and those predictions gave us 0.9,0.4,0.2\n",
    "'''\n",
    "\n",
    "trgts = tensor([1,0,1])            # true images:     3,          7,               3              (1 if it's a 3, and 0 if it's not a 3)\n",
    "prds  = tensor([0.9, 0.4, 0.2])    # model predicts:  0.9 is 3    0.4 that is 7    0.2 that is 7  (incorrect)                                   "
   ]
  },
  {
   "cell_type": "markdown",
   "metadata": {},
   "source": [
    "**Here's a first try at a loss function that measures the distance between `predictions` and `targets`:**  "
   ]
  },
  {
   "cell_type": "code",
   "execution_count": 105,
   "metadata": {},
   "outputs": [],
   "source": [
    "'''\n",
    "so now consider this loss function\n",
    "we're going to use torch.where, which is the same as this list comprehension\n",
    "it's basically an if statement so it's going to say:\n",
    "for there target equals 1, we're going to return 1-predictions\n",
    "and where is not 1 it will just be predictions\n",
    "'''\n",
    "# if it should be 1 (targets==1) then what is the distance from pred to 1 (1-pred)\n",
    "# if it should be 0 (targets==0) then what is the distance from pred to 0 (pred)\n",
    "def mnist_loss(predictions, targets):  \n",
    "    return torch.where(targets==1, 1-predictions, predictions).mean()  # the loss is the mean of all these distances between predictions and targets\n"
   ]
  },
  {
   "cell_type": "markdown",
   "metadata": {},
   "source": [
    "**We're using a new function, `torch.where(a,b,c)`.**  \n",
    "This is the same as running the **list comprehension `[b[i] if a[i] else c[i] for i in range(len(a))]`,**  \n",
    "except it works on tensors, at C/CUDA speed.  \n",
    "In plain English, **this function will measure how distant each prediction is from 1 if it should be 1,      \n",
    "and how distant it is from 0 if it should be 0,  \n",
    "and then it will take the mean of all those distances.**  \n",
    "\n",
    "> note: Read the Docs: It's important to learn about PyTorch functions like this,  \n",
    "> because looping over tensors in Python performs at Python speed, not C/CUDA speed!  \n",
    "> Try running **`help(torch.where)`** now to read the docs for this function, or, better still, look it up on the PyTorch documentation site.  "
   ]
  },
  {
   "cell_type": "code",
   "execution_count": null,
   "metadata": {},
   "outputs": [],
   "source": [
    "#help(torch.where)"
   ]
  },
  {
   "cell_type": "markdown",
   "metadata": {},
   "source": [
    "**Let's try it on our `prds` and `trgts`:**"
   ]
  },
  {
   "cell_type": "code",
   "execution_count": 106,
   "metadata": {},
   "outputs": [
    {
     "data": {
      "text/plain": [
       "tensor([0.1000, 0.4000, 0.8000])"
      ]
     },
     "execution_count": 106,
     "metadata": {},
     "output_type": "execute_result"
    }
   ],
   "source": [
    "torch.where(trgts==1, 1-prds, prds)  # if targets equal 1, replace with 1-prds, otherwise replace with prds: 1-0.9, 0.4, 1-0.8"
   ]
  },
  {
   "cell_type": "markdown",
   "metadata": {},
   "source": [
    "**You can see that this function returns a lower number when:    \n",
    "predictions are more accurate,  \n",
    "when accurate predictions are more confident (higher absolute values), (prds=0.9 and trgts=1 -> returns 0.1)    \n",
    "and when inaccurate predictions are less confident.**    \n",
    "In PyTorch, we always assume that a lower value of a loss function is better.  \n",
    "**Since we need a scalar for the final loss, `mnist_loss` takes the mean of the previous tensor:**  "
   ]
  },
  {
   "cell_type": "code",
   "execution_count": 107,
   "metadata": {},
   "outputs": [
    {
     "data": {
      "text/plain": [
       "tensor(0.4333)"
      ]
     },
     "execution_count": 107,
     "metadata": {},
     "output_type": "execute_result"
    }
   ],
   "source": [
    "mnist_loss(prds,trgts)"
   ]
  },
  {
   "cell_type": "markdown",
   "metadata": {},
   "source": [
    "For instance, if we change our prediction for **the one \"false\" target from `0.2` to `0.8` the loss will go down**,  \n",
    "indicating that this is **a better prediction:**  \n",
    "me: why 0.8 for an incorrect 7 is better than 0.2 for an incorrect 7  \n",
    "because 0.9 is closer to 1 than to 0 so it predicts a 1, which is a 3  \n",
    "and 0.2 is closer to 0 than to 1, so it predicts a 0, which is a 7 (which is incorrect)  \n",
    "and 0.8 is closer to 1, so it predicts 1, which is a 3 (which is correct)  "
   ]
  },
  {
   "cell_type": "code",
   "execution_count": 108,
   "metadata": {},
   "outputs": [
    {
     "data": {
      "text/plain": [
       "tensor(0.2333)"
      ]
     },
     "execution_count": 108,
     "metadata": {},
     "output_type": "execute_result"
    }
   ],
   "source": [
    "mnist_loss(tensor([0.9, 0.4, 0.8]),trgts)"
   ]
  },
  {
   "cell_type": "markdown",
   "metadata": {},
   "source": [
    "**One problem with `mnist_loss` as currently defined is that it assumes that predictions are always between 0 and 1.**  \n",
    "**We need to ensure, then, that this is actually the case!**  \n",
    "As it happens, there is a function that does exactly that — let's take a look."
   ]
  },
  {
   "cell_type": "markdown",
   "metadata": {},
   "source": [
    "### Sigmoid"
   ]
  },
  {
   "cell_type": "markdown",
   "metadata": {},
   "source": [
    "**The `sigmoid` function always outputs a number between 0 and 1.**  \n",
    "It's defined as follows:"
   ]
  },
  {
   "cell_type": "code",
   "execution_count": 109,
   "metadata": {},
   "outputs": [],
   "source": [
    "def sigmoid(x): \n",
    "    return 1/(1+torch.exp(-x))"
   ]
  },
  {
   "cell_type": "markdown",
   "metadata": {},
   "source": [
    "Pytorch defines an accelerated version for us, so we don’t really need our own.  \n",
    "This is an important function in deep learning, since we often want to **ensure values are between 0 and 1.**    \n",
    "This is what it looks like:"
   ]
  },
  {
   "cell_type": "code",
   "execution_count": 110,
   "metadata": {},
   "outputs": [
    {
     "data": {
      "image/png": "[encoded data removed]",
      "text/plain": [
       "<Figure size 600x400 with 1 Axes>"
      ]
     },
     "metadata": {},
     "output_type": "display_data"
    }
   ],
   "source": [
    "plot_function(torch.sigmoid, title='Sigmoid', min=-4, max=4)"
   ]
  },
  {
   "cell_type": "markdown",
   "metadata": {},
   "source": [
    "As you can see, it takes any input value, positive or negative, and smooshes it onto an output value between 0 and 1.  \n",
    "**It's also a smooth curve that only goes up, which makes it easier for SGD to find meaningful gradients.** \n",
    "\n",
    "**Let's update `mnist_loss` to first apply `sigmoid` to the inputs:**"
   ]
  },
  {
   "cell_type": "code",
   "execution_count": 111,
   "metadata": {},
   "outputs": [],
   "source": [
    "def mnist_loss(predictions, targets):\n",
    "    predictions = predictions.sigmoid()\n",
    "    return torch.where(targets==1, 1-predictions, predictions).mean()"
   ]
  },
  {
   "cell_type": "markdown",
   "metadata": {},
   "source": [
    "Now we can be confident our loss function will work, even if the predictions are not between 0 and 1.  \n",
    "**All that is required is that a higher prediction corresponds to higher confidence an image is a 3.**  \n",
    "\n",
    "Having defined a loss function, now is a good moment to recapitulate why we did this.  \n",
    "After all, we already had a metric, which was **overall accuracy.**  \n",
    "**So why did we define a loss?**  \n",
    "\n",
    "The key difference is that the metric is to drive human understanding and **the loss is to drive automated learning.**    \n",
    "**To drive automated learning, the loss must be a function that has a meaningful derivative.**  \n",
    "It can't have big flat sections and large jumps, but instead **must be reasonably smooth.**   \n",
    "This is why we designed a loss function that would respond to small changes in confidence level.  \n",
    "This requirement means that sometimes it does not really reflect exactly what we are trying to achieve,  \n",
    "**but is rather a compromise between our real goal and a function that can be optimized using its gradient.**  \n",
    "**The loss** function is calculated for **each item** in our dataset,  \n",
    "and then at the end of an epoch the loss values are all averaged and **the overall mean is reported for the epoch.**\n",
    "\n",
    "**Metrics, on the other hand, are the numbers that we really care about.**  \n",
    "These are the values that are **printed at the end of each epoch that tell us how our model is really doing.**  \n",
    "It is important that we learn to **focus on these metrics, rather than the loss, when judging the performance of a model.**"
   ]
  },
  {
   "cell_type": "markdown",
   "metadata": {},
   "source": [
    "### SGD and Mini-Batches"
   ]
  },
  {
   "cell_type": "markdown",
   "metadata": {},
   "source": [
    "Now that we have a loss function that is suitable for driving SGD,  \n",
    "we can consider some of the details involved in **the next phase of the learning process,**  \n",
    "which is to **change or update the weights based on the gradients.**  \n",
    "**This is called an *optimization step***.\n",
    "\n",
    "In order to take **an optimization step** we need to **calculate the loss over one or more data items.**  \n",
    "How many should we use? We could calculate it for **the whole dataset, and take the average,**  \n",
    "or we could calculate it for **a single data item.**  \n",
    "But neither of these is ideal.   \n",
    "Calculating it for the whole dataset would take **a very long time.**  \n",
    "Calculating it for a single item would not use much information, so it would result in **a very imprecise and unstable gradient.**  \n",
    "That is, you'd be going to the trouble of updating the weights,  \n",
    "but taking into account only how that would improve the model's performance on that single item.  \n",
    "\n",
    "So instead we take a **compromise** between the two: we calculate **the average loss for a few data items at a time.**  \n",
    "**This is called a *mini-batch*.**  \n",
    "The number of data items in the mini-batch is called the ***batch size***.  \n",
    "**A larger batch size** means that you will get a **more accurate and stable estimate** of your dataset's gradients from the loss function,  \n",
    "but it **will take longer**, and you will process fewer mini-batches per epoch.  \n",
    "Choosing a good batch size is one of the decisions you need to make as a deep learning practitioner to train your model quickly and accurately.  \n",
    "We will talk about how to make this choice throughout this book.  \n",
    "\n",
    "Another good reason for using **mini-batches** rather than calculating the gradient on individual data items is that,  \n",
    "in practice, we nearly always do our training on **an accelerator such as a GPU**.  \n",
    "These accelerators only perform well if they have **lots of work to do at a time,**  \n",
    "so it's helpful if we can give them lots of data items to work on.  \n",
    "Using mini-batches is one of the best ways to do this.  \n",
    "However, if you give them too much data to work on at once, they run out of memory — making GPUs happy is also tricky!  \n",
    "\n",
    "As we saw in our discussion of data augmentation in <<chapter_production>>,  \n",
    "**we get better generalization if we can vary things during training.**  \n",
    "One simple and effective thing **we can vary is what data items we put in each mini-batch.**  \n",
    "Rather than simply enumerating our dataset in order for every epoch,  \n",
    "instead what we normally do is **randomly shuffle it on every epoch, before we create mini-batches.**    \n",
    "**PyTorch and fastai provide a class that will do the shuffling and mini-batch collation for you, called `DataLoader`.**  \n",
    "\n",
    "**A `DataLoader` can take any Python collection and turn it into an iterator over mini-batches, like so:**"
   ]
  },
  {
   "cell_type": "code",
   "execution_count": null,
   "metadata": {},
   "outputs": [],
   "source": [
    "coll = range(15)\n",
    "dl = DataLoader(coll, batch_size=5, shuffle=True)\n",
    "list(dl)"
   ]
  },
  {
   "cell_type": "markdown",
   "metadata": {},
   "source": [
    "**For training a model, we don't just want any Python collection,  \n",
    "but a collection containing independent and dependent variables (that is, the inputs and targets of the model).**  \n",
    "**A collection that contains tuples of independent and dependent variables is known in PyTorch as a `Dataset`.**  \n",
    "Here's an example of an **extremely simple `Dataset`:**    "
   ]
  },
  {
   "cell_type": "code",
   "execution_count": null,
   "metadata": {},
   "outputs": [],
   "source": [
    "ds = L(enumerate(string.ascii_lowercase))\n",
    "ds"
   ]
  },
  {
   "cell_type": "markdown",
   "metadata": {},
   "source": [
    "**When we pass a `Dataset` to a `DataLoader` we will get back mini-batches**  \n",
    "which are themselves **tuples of tensors representing batches of independent and dependent variables:**"
   ]
  },
  {
   "cell_type": "code",
   "execution_count": null,
   "metadata": {},
   "outputs": [],
   "source": [
    "dl = DataLoader(ds, batch_size=6, shuffle=True)\n",
    "list(dl)"
   ]
  },
  {
   "cell_type": "markdown",
   "metadata": {},
   "source": [
    "We are now ready to write our first training loop for a model using SGD!"
   ]
  },
  {
   "cell_type": "markdown",
   "metadata": {},
   "source": [
    "## Putting It All Together"
   ]
  },
  {
   "cell_type": "markdown",
   "metadata": {},
   "source": [
    "It's time to **implement the process we saw in <<gradient_descent>>.**  \n",
    "In code, our process will be implemented something like this **for each epoch:**\n",
    "\n",
    "```python\n",
    "for x,y in dl:\n",
    "    pred = model(x)\n",
    "    loss = loss_func(pred, y)\n",
    "    loss.backward()\n",
    "    parameters -= parameters.grad * lr\n",
    "```"
   ]
  },
  {
   "cell_type": "markdown",
   "metadata": {},
   "source": [
    "First, let's **re-initialize our parameters:**"
   ]
  },
  {
   "cell_type": "code",
   "execution_count": null,
   "metadata": {},
   "outputs": [],
   "source": [
    "weights = init_params((28*28,1))\n",
    "bias = init_params(1)"
   ]
  },
  {
   "cell_type": "markdown",
   "metadata": {},
   "source": [
    "**A `DataLoader` can be created from a `Dataset`:**"
   ]
  },
  {
   "cell_type": "code",
   "execution_count": null,
   "metadata": {},
   "outputs": [],
   "source": [
    "dl = DataLoader(dset, batch_size=256)\n",
    "xb,yb = first(dl)  # first element of dl\n",
    "xb.shape,yb.shape"
   ]
  },
  {
   "cell_type": "markdown",
   "metadata": {},
   "source": [
    "**We'll do the same for the validation set:**"
   ]
  },
  {
   "cell_type": "code",
   "execution_count": null,
   "metadata": {},
   "outputs": [],
   "source": [
    "valid_dl = DataLoader(valid_dset, batch_size=256)"
   ]
  },
  {
   "cell_type": "markdown",
   "metadata": {},
   "source": [
    "**Let's create a mini-batch of size 4 for testing:**"
   ]
  },
  {
   "cell_type": "code",
   "execution_count": null,
   "metadata": {},
   "outputs": [],
   "source": [
    "batch = train_x[:4]\n",
    "batch.shape"
   ]
  },
  {
   "cell_type": "code",
   "execution_count": null,
   "metadata": {},
   "outputs": [],
   "source": [
    "preds = linear1(batch)  # who is linear1? the model: def linear1(xb): return xb@weights + bias  // preds = linear1(train_x) - here \n",
    "preds"
   ]
  },
  {
   "cell_type": "markdown",
   "metadata": {},
   "source": [
    "**me: calculate the loss:**"
   ]
  },
  {
   "cell_type": "code",
   "execution_count": null,
   "metadata": {},
   "outputs": [],
   "source": [
    "loss = mnist_loss(preds, train_y[:4])  # the loss between predictions and targets\n",
    "loss"
   ]
  },
  {
   "cell_type": "markdown",
   "metadata": {},
   "source": [
    "**Now we can calculate the gradients:**"
   ]
  },
  {
   "cell_type": "code",
   "execution_count": null,
   "metadata": {},
   "outputs": [],
   "source": [
    "loss.backward()\n",
    "weights.grad.shape,weights.grad.mean(),bias.grad  # 784 gradients in a vertical tensor-1 ; their mean is the 2nd value ; bias gradient is the 3rd\n",
    "#weights.grad"
   ]
  },
  {
   "cell_type": "markdown",
   "metadata": {},
   "source": [
    "**Let's put that all in a function:**"
   ]
  },
  {
   "cell_type": "code",
   "execution_count": null,
   "metadata": {},
   "outputs": [],
   "source": [
    "def calc_grad(xb, yb, model):  # all the above\n",
    "    preds = model(xb)\n",
    "    loss = mnist_loss(preds, yb)\n",
    "    loss.backward()"
   ]
  },
  {
   "cell_type": "markdown",
   "metadata": {},
   "source": [
    "**and test it:**"
   ]
  },
  {
   "cell_type": "code",
   "execution_count": null,
   "metadata": {},
   "outputs": [],
   "source": [
    "calc_grad(batch, train_y[:4], linear1)  # linear1 is the model\n",
    "weights.grad.mean(),bias.grad"
   ]
  },
  {
   "cell_type": "markdown",
   "metadata": {},
   "source": [
    "**But look what happens if we call it twice:**"
   ]
  },
  {
   "cell_type": "code",
   "execution_count": null,
   "metadata": {},
   "outputs": [],
   "source": [
    "calc_grad(batch, train_y[:4], linear1)\n",
    "weights.grad.mean(),bias.grad"
   ]
  },
  {
   "cell_type": "markdown",
   "metadata": {},
   "source": [
    "The gradients have **changed!**    \n",
    "The reason for this is that **`loss.backward` actually *adds* the gradients of `loss` to any gradients that are currently stored.**    \n",
    "**So, we have to set the current gradients to 0 first:**"
   ]
  },
  {
   "cell_type": "code",
   "execution_count": null,
   "metadata": {},
   "outputs": [],
   "source": [
    "weights.grad.zero_()  # all elements of tensor weights.grad set to 0\n",
    "bias.grad.zero_();  # all elements of tensor bias.grad set to 0"
   ]
  },
  {
   "cell_type": "markdown",
   "metadata": {},
   "source": [
    "> note: Inplace Operations: Methods in PyTorch whose names end in an underscore modify their objects _in place_.  \n",
    "> For instance, **`bias.zero_()` sets all elements of the tensor `bias` to 0.**"
   ]
  },
  {
   "cell_type": "markdown",
   "metadata": {},
   "source": [
    "**Our only remaining step is to update the weights and biases based on the gradient and learning rate.**  \n",
    "When we do so, we have to **tell PyTorch not to take the gradient of this step too**  \n",
    "— otherwise things will get very confusing when we try to compute the derivative at the next batch!  \n",
    "**If we assign to the `data` attribute of a tensor then PyTorch will not take the gradient of that step.**  \n",
    "Here's our basic **training loop for an epoch:**"
   ]
  },
  {
   "cell_type": "code",
   "execution_count": null,
   "metadata": {},
   "outputs": [],
   "source": [
    "def train_epoch(model, lr, params):\n",
    "    for xb,yb in dl:\n",
    "        calc_grad(xb, yb, model)\n",
    "        for p in params:\n",
    "            p.data -= p.grad*lr  # If we assign to the `data` attribute of a tensor then PyTorch will not take the gradient of that step.\n",
    "            p.grad.zero_()"
   ]
  },
  {
   "cell_type": "markdown",
   "metadata": {},
   "source": [
    "We also want to **check how we're doing, by looking at the accuracy of the validation set.**  (how to calculate accuracy?)  \n",
    "To decide if an output represents a 3 or a 7, we can just check whether it's greater than 0. (because a 3 is represented by 1?)   \n",
    "**So our accuracy for each item can be calculated (using broadcasting, so no loops!) with:**  "
   ]
  },
  {
   "cell_type": "code",
   "execution_count": null,
   "metadata": {},
   "outputs": [],
   "source": [
    "(preds>0.0).float() == train_y[:4]  # preds = linear1(batch) ; if prediction > 0 means it's 1 and if it's equal to targets tensor (which has 1 and 0) then it's True, otherwise False"
   ]
  },
  {
   "cell_type": "markdown",
   "metadata": {},
   "source": [
    "**That gives us this function to calculate our validation accuracy:**"
   ]
  },
  {
   "cell_type": "code",
   "execution_count": null,
   "metadata": {},
   "outputs": [],
   "source": [
    "def batch_accuracy(xb, yb):\n",
    "    preds = xb.sigmoid()\n",
    "    correct = (preds>0.5) == yb  # if prediction is bigger than 0.5 then it's a 1, otherwise is a 0 ; then compare with target yb (which is 1 or 0)\n",
    "    return correct.float().mean()  # return the mean"
   ]
  },
  {
   "cell_type": "markdown",
   "metadata": {},
   "source": [
    "**We can check it works:**"
   ]
  },
  {
   "cell_type": "code",
   "execution_count": null,
   "metadata": {},
   "outputs": [],
   "source": [
    "batch_accuracy(linear1(batch), train_y[:4])"
   ]
  },
  {
   "cell_type": "markdown",
   "metadata": {},
   "source": [
    "**and then put the batches together:**"
   ]
  },
  {
   "cell_type": "code",
   "execution_count": null,
   "metadata": {},
   "outputs": [],
   "source": [
    "def validate_epoch(model):\n",
    "    accs = [batch_accuracy(model(xb), yb) for xb,yb in valid_dl]  # compression: calculates the accuracy for each element in the valid dataloader (is like a for loop)\n",
    "    return round(torch.stack(accs).mean().item(), 4)  # returns the mean of accuracies in the bach: 1st concatenates them into a tensor and then takes the mean, and rounds it to 4 digits"
   ]
  },
  {
   "cell_type": "code",
   "execution_count": null,
   "metadata": {},
   "outputs": [],
   "source": [
    "#help(torch.stack)"
   ]
  },
  {
   "cell_type": "code",
   "execution_count": null,
   "metadata": {},
   "outputs": [],
   "source": [
    "validate_epoch(linear1)"
   ]
  },
  {
   "cell_type": "markdown",
   "metadata": {},
   "source": [
    "That's our starting point.  \n",
    "**Let's train for one epoch, and see if the accuracy improves:**"
   ]
  },
  {
   "cell_type": "code",
   "execution_count": null,
   "metadata": {},
   "outputs": [],
   "source": [
    "lr = 1.\n",
    "params = weights,bias\n",
    "train_epoch(linear1, lr, params)\n",
    "validate_epoch(linear1)"
   ]
  },
  {
   "cell_type": "markdown",
   "metadata": {},
   "source": [
    "**Then do a few more:**"
   ]
  },
  {
   "cell_type": "code",
   "execution_count": null,
   "metadata": {},
   "outputs": [],
   "source": [
    "for i in range(20):\n",
    "    train_epoch(linear1, lr, params)\n",
    "    print(validate_epoch(linear1), end=' ')"
   ]
  },
  {
   "cell_type": "markdown",
   "metadata": {},
   "source": [
    "Looking good!  \n",
    "We're already about at **the same accuracy as our \"pixel similarity\" approach**, and we've created a general-purpose foundation we can build on.  \n",
    "Our next step will be to **create an object that will handle the SGD step for us.**  \n",
    "In PyTorch, it's called **an *optimizer*.**"
   ]
  },
  {
   "cell_type": "markdown",
   "metadata": {},
   "source": [
    "### Creating an Optimizer"
   ]
  },
  {
   "cell_type": "markdown",
   "metadata": {},
   "source": [
    "Because this is such a general foundation,  \n",
    "PyTorch provides some **useful classes to make it easier to implement.**   \n",
    "The first thing we can do is replace our `linear1` function with **PyTorch's `nn.Linear` module.**  \n",
    "A *module* is an object of a class that inherits from the PyTorch `nn.Module` class.  \n",
    "Objects of this class behave identically to standard Python functions,  \n",
    "in that you can call them using parentheses and they will return the activations of a model.\n",
    "\n",
    "**`nn.Linear` does the same thing as our `init_params` and `linear` together.**  \n",
    "**It contains both the *weights* and *biases* in a single class.**  \n",
    "Here's how we replicate our model from the previous section:"
   ]
  },
  {
   "cell_type": "code",
   "execution_count": null,
   "metadata": {},
   "outputs": [],
   "source": [
    "linear_model = nn.Linear(28*28,1)"
   ]
  },
  {
   "cell_type": "markdown",
   "metadata": {},
   "source": [
    "Every PyTorch module knows **what parameters it has that can be trained;**  \n",
    "they are available through the **`parameters` method:**"
   ]
  },
  {
   "cell_type": "code",
   "execution_count": null,
   "metadata": {},
   "outputs": [],
   "source": [
    "w,b = linear_model.parameters()\n",
    "w.shape,b.shape"
   ]
  },
  {
   "cell_type": "markdown",
   "metadata": {},
   "source": [
    "We can use this information to **create an optimizer:**"
   ]
  },
  {
   "cell_type": "code",
   "execution_count": null,
   "metadata": {},
   "outputs": [],
   "source": [
    "class BasicOptim:\n",
    "    def __init__(self,params,lr):                  # self is a way to intialize the data members without declaring them separately like in c++\n",
    "        self.params,self.lr = list(params),lr\n",
    "\n",
    "    def step(self, *args, **kwargs):\n",
    "        for p in self.params: \n",
    "            p.data -= p.grad.data * self.lr\n",
    "\n",
    "    def zero_grad(self, *args, **kwargs):\n",
    "        for p in self.params: \n",
    "            p.grad = None"
   ]
  },
  {
   "cell_type": "markdown",
   "metadata": {},
   "source": [
    "**We can create our optimizer by passing in the model's parameters:**"
   ]
  },
  {
   "cell_type": "code",
   "execution_count": null,
   "metadata": {},
   "outputs": [],
   "source": [
    "opt = BasicOptim(linear_model.parameters(), lr)"
   ]
  },
  {
   "cell_type": "markdown",
   "metadata": {},
   "source": [
    "**Our training loop can now be simplified to:**"
   ]
  },
  {
   "cell_type": "code",
   "execution_count": null,
   "metadata": {},
   "outputs": [],
   "source": [
    "'''\n",
    "def train_epoch(model, lr, params):\n",
    "    for xb,yb in dl:\n",
    "        calc_grad(xb, yb, model)\n",
    "        for p in params:\n",
    "            p.data -= p.grad*lr  # If we assign to the `data` attribute of a tensor then PyTorch will not take the gradient of that step.\n",
    "            p.grad.zero_()\n",
    "'''"
   ]
  },
  {
   "cell_type": "code",
   "execution_count": null,
   "metadata": {},
   "outputs": [],
   "source": [
    "def train_epoch(model):\n",
    "    for xb,yb in dl:\n",
    "        calc_grad(xb, yb, model)   # calc gradients\n",
    "        opt.step()                 # modify the weights\n",
    "        opt.zero_grad()            # make gradients zero"
   ]
  },
  {
   "cell_type": "markdown",
   "metadata": {},
   "source": [
    "**Our validation function doesn't need to change at all:**"
   ]
  },
  {
   "cell_type": "code",
   "execution_count": null,
   "metadata": {},
   "outputs": [],
   "source": [
    "validate_epoch(linear_model)"
   ]
  },
  {
   "cell_type": "markdown",
   "metadata": {},
   "source": [
    "**Let's put our little training loop in a function, to make things simpler:**"
   ]
  },
  {
   "cell_type": "code",
   "execution_count": null,
   "metadata": {},
   "outputs": [],
   "source": [
    "def train_model(model, epochs):\n",
    "    for i in range(epochs):\n",
    "        train_epoch(model)\n",
    "        print(validate_epoch(model), end=' ')"
   ]
  },
  {
   "cell_type": "markdown",
   "metadata": {},
   "source": [
    "**The results are the same as in the previous section:**"
   ]
  },
  {
   "cell_type": "code",
   "execution_count": null,
   "metadata": {},
   "outputs": [],
   "source": [
    "train_model(linear_model, 20)"
   ]
  },
  {
   "cell_type": "markdown",
   "metadata": {},
   "source": [
    "**fastai provides the `SGD` class which, by default, does the same thing as our `BasicOptim`:**"
   ]
  },
  {
   "cell_type": "code",
   "execution_count": null,
   "metadata": {},
   "outputs": [],
   "source": [
    "linear_model = nn.Linear(28*28,1)\n",
    "opt = SGD(linear_model.parameters(), lr)  # changes the weights instead of step\n",
    "train_model(linear_model, 20)"
   ]
  },
  {
   "cell_type": "markdown",
   "metadata": {},
   "source": [
    "**fastai also provides `Learner.fit`**, which we can use instead of `train_model`.  \n",
    "**To create a `Learner` we first need to create a `DataLoaders`, by passing in our training and validation `DataLoader`s:**"
   ]
  },
  {
   "cell_type": "code",
   "execution_count": null,
   "metadata": {},
   "outputs": [],
   "source": [
    "dls = DataLoaders(dl, valid_dl)  # train and valid dataloaders"
   ]
  },
  {
   "cell_type": "markdown",
   "metadata": {},
   "source": [
    "**To create a `Learner`** without using an application (such as `vision_learner`) **we need to pass in all the elements that we've created in this chapter:**    \n",
    "the `DataLoaders`,  \n",
    "the model,  \n",
    "the optimization function (which will be passed the parameters),   \n",
    "the loss function,  \n",
    "and optionally any metrics to print:  "
   ]
  },
  {
   "cell_type": "code",
   "execution_count": null,
   "metadata": {},
   "outputs": [],
   "source": [
    "learn = Learner(dls, nn.Linear(28*28,1), opt_func=SGD,            # pass in all the elements created\n",
    "                loss_func=mnist_loss, metrics=batch_accuracy)"
   ]
  },
  {
   "cell_type": "markdown",
   "metadata": {},
   "source": [
    "Now we can call `fit`:  \n",
    "(me: fit means to run it for a number of epochs)"
   ]
  },
  {
   "cell_type": "code",
   "execution_count": null,
   "metadata": {},
   "outputs": [],
   "source": [
    "learn.fit(10, lr=lr)  # no of epochs"
   ]
  },
  {
   "cell_type": "markdown",
   "metadata": {},
   "source": [
    "As you can see, there's nothing magic about the PyTorch and fastai classes.  \n",
    "They are just convenient pre-packaged pieces that make your life a bit easier!  \n",
    "(They also provide a lot of extra functionality we'll be using in future chapters.)\n",
    "\n",
    "**With these classes, we can now replace our linear model with a neural network.**"
   ]
  },
  {
   "cell_type": "markdown",
   "metadata": {},
   "source": [
    "## Adding a Nonlinearity"
   ]
  },
  {
   "cell_type": "markdown",
   "metadata": {},
   "source": [
    "So far we have a general procedure for optimizing the parameters of a function,  \n",
    "and we have tried it out on a very boring function: **a simple linear classifier.**  \n",
    "**A linear classifier is very constrained in terms of what it can do.**  \n",
    "To make it a bit **more complex** (and able to handle more tasks),  \n",
    "**we need to add something nonlinear between two linear classifiers  \n",
    "— this is what gives us a neural network.**\n",
    "\n",
    "**Here is the entire definition of a basic neural network:**"
   ]
  },
  {
   "cell_type": "code",
   "execution_count": null,
   "metadata": {},
   "outputs": [],
   "source": [
    "def simple_net(xb):\n",
    "    res = xb@w1 + b1\n",
    "    res = res.max(tensor(0.0))  # ReLU: rectified liniar unit = replaces every negative number with a zero\n",
    "    res = res@w2 + b2\n",
    "    return res"
   ]
  },
  {
   "cell_type": "markdown",
   "metadata": {},
   "source": [
    "That's it!  \n",
    "**All we have in `simple_net` is two linear classifiers with a `max` function between them.**\n",
    "\n",
    "**Here, `w1` and `w2` are weight tensors, and `b1` and `b2` are bias tensors;**  \n",
    "that is, **parameters that are initially randomly initialized, just like we did in the previous section:**"
   ]
  },
  {
   "cell_type": "code",
   "execution_count": null,
   "metadata": {},
   "outputs": [],
   "source": [
    "w1 = init_params((28*28,30))  # weight tensor  \n",
    "b1 = init_params(30)          # bias tensor    \n",
    "w2 = init_params((30,1))\n",
    "b2 = init_params(1)"
   ]
  },
  {
   "cell_type": "markdown",
   "metadata": {},
   "source": [
    "The key point about this is that **`w1` has 30 output activations (which means that `w2` must have 30 input activations, so they match).**  \n",
    "That means that the first layer can construct 30 different features, each representing some different mix of pixels.  \n",
    "You can change that `30` to anything you like, to make the model more or less complex.  \n",
    "\n",
    "**That little function `res.max(tensor(0.0))` is called a *rectified linear unit*, also known as *ReLU*.**  \n",
    "We think we can all agree that *rectified linear unit* sounds pretty fancy and complicated...  \n",
    "But actually, there's nothing more to it than **`res.max(tensor(0.0))` — in other words, replace every negative number with a zero.**  \n",
    "This tiny function is also available in **PyTorch as `F.relu`:**"
   ]
  },
  {
   "cell_type": "code",
   "execution_count": null,
   "metadata": {},
   "outputs": [],
   "source": [
    "plot_function(F.relu)"
   ]
  },
  {
   "cell_type": "markdown",
   "metadata": {},
   "source": [
    "> J: There is an enormous amount of jargon in deep learning, including terms like **_rectified linear unit_.**  \n",
    "> The vast vast majority of this jargon is no more complicated than can be implemented in a short line of code, as we saw in this example.  \n",
    "> The reality is that for academics to get their papers published they need to make them sound as impressive and sophisticated as possible.  \n",
    "> One of the ways that they do that is to introduce jargon.  \n",
    "> Unfortunately, this has the result that the field ends up becoming far more intimidating and difficult to get into than it should be.  \n",
    "> You do have to learn the jargon, because otherwise papers and tutorials are not going to mean much to you.  \n",
    "> But that doesn't mean you have to find the jargon intimidating.  \n",
    "> Just remember, when you come across a word or phrase that you haven't seen before,  \n",
    "> it will almost certainly turn out to be referring to a very simple concept.  "
   ]
  },
  {
   "cell_type": "markdown",
   "metadata": {},
   "source": [
    "**The basic idea is that by using more linear layers, we can have our model do more computation,  \n",
    "and therefore model more complex functions.**  \n",
    "**But there's no point just putting one linear layer directly after another one,**  \n",
    "because when we multiply things together and then add them up multiple times,  \n",
    "that could be replaced by multiplying different things together and adding them up just once!  \n",
    "That is to say, **a series of any number of linear layers in a row can be replaced with a single linear layer with a different set of parameters.**  \n",
    "\n",
    "**But if we put a nonlinear function between them, such as `max`, then this is no longer true.**  \n",
    "**Now each linear layer is actually somewhat decoupled from the other ones, and can do its own useful work.**  \n",
    "The `max` function is particularly interesting, because it operates as a simple `if` statement.  "
   ]
  },
  {
   "cell_type": "markdown",
   "metadata": {},
   "source": [
    "> S: Mathematically, we say the composition of two linear functions is another linear function.  \n",
    "> So, we can stack as many linear classifiers as we want on top of each other,  \n",
    "> and without nonlinear functions between them, it will just be the same as one linear classifier.  "
   ]
  },
  {
   "cell_type": "markdown",
   "metadata": {},
   "source": [
    "**Amazingly enough, it can be mathematically proven that this little function can solve any computable problem to an arbitrarily high level of accuracy,  \n",
    "if you can find the right parameters for `w1` and `w2` and if you make these matrices big enough.**    \n",
    "For any arbitrarily wiggly function, we can approximate it as a bunch of lines joined together;  \n",
    "to make it closer to the wiggly function, we just have to use shorter lines.  \n",
    "This is known as the ***universal approximation theorem***.  \n",
    "The three lines of code that we have here are known as ***layers***.  \n",
    "**The first and third are known as *linear layers*,  \n",
    "and the second line of code is known variously as a *nonlinearity*, or *activation function*.**    \n",
    "\n",
    "Just like in the previous section, we can replace this code with something a bit simpler, **by taking advantage of PyTorch:**  "
   ]
  },
  {
   "cell_type": "code",
   "execution_count": null,
   "metadata": {},
   "outputs": [],
   "source": [
    "simple_net = nn.Sequential(\n",
    "    nn.Linear(28*28,30),\n",
    "    nn.ReLU(),\n",
    "    nn.Linear(30,1)\n",
    ")"
   ]
  },
  {
   "cell_type": "markdown",
   "metadata": {},
   "source": [
    "**`nn.Sequential` creates a module that will call each of the listed layers or functions in turn.**  \n",
    "\n",
    "**`nn.ReLU` is a PyTorch module** that does exactly the same thing as the **`F.relu` function.**  \n",
    "Most functions that can appear in a model also have identical forms that are modules.  \n",
    "Generally, it's just a case of replacing `F` with `nn` and changing the capitalization.  \n",
    "When using `nn.Sequential`, PyTorch requires us to use the module version.  \n",
    "Since modules are classes, we have to instantiate them, which is why you see `nn.ReLU()` in this example.  \n",
    "\n",
    "**Because `nn.Sequential` is a module, we can get its parameters,**  \n",
    "which will return a list of all the parameters of all the modules it contains.  \n",
    "Let's try it out!  \n",
    "As this is a deeper model, we'll use a lower learning rate and a few more epochs.  "
   ]
  },
  {
   "cell_type": "code",
   "execution_count": null,
   "metadata": {},
   "outputs": [],
   "source": [
    "learn = Learner(dls, simple_net, opt_func=SGD,\n",
    "                loss_func=mnist_loss, metrics=batch_accuracy)"
   ]
  },
  {
   "cell_type": "code",
   "execution_count": null,
   "metadata": {},
   "outputs": [],
   "source": [
    "#hide_output\n",
    "learn.fit(40, 0.1)"
   ]
  },
  {
   "cell_type": "markdown",
   "metadata": {},
   "source": [
    "We're not showing the 40 lines of output here to save room;  \n",
    "**the training process is recorded in `learn.recorder`,**  \n",
    "with the table of output stored in the `values` attribute,  \n",
    "so we can plot **the accuracy over training as:**"
   ]
  },
  {
   "cell_type": "code",
   "execution_count": null,
   "metadata": {},
   "outputs": [],
   "source": [
    "plt.plot(L(learn.recorder.values).itemgot(2));"
   ]
  },
  {
   "cell_type": "markdown",
   "metadata": {},
   "source": [
    "**And we can view the final accuracy:**"
   ]
  },
  {
   "cell_type": "code",
   "execution_count": null,
   "metadata": {},
   "outputs": [],
   "source": [
    "learn.recorder.values[-1][2]"
   ]
  },
  {
   "cell_type": "markdown",
   "metadata": {},
   "source": [
    "At this point we have something that is rather **magical:**    \n",
    "\n",
    "1. **A function that can solve any problem to any level of accuracy (the neural network) given the correct set of parameters**    \n",
    "1. **A way to find the best set of parameters for any function (stochastic gradient descent)**  \n",
    "\n",
    "This is why deep learning can do things which seem rather magical, such fantastic things.  \n",
    "Believing that this combination of simple techniques can really solve any problem is one of the biggest steps that we find many students have to take.  \n",
    "It seems too good to be true — surely things should be more difficult and complicated than this?  \n",
    "Our recommendation: try it out!  \n",
    "We just tried it on the MNIST dataset and you have seen the results.  \n",
    "And since we are doing everything from scratch ourselves (except for calculating the gradients) you know that there is no special magic hiding behind the scenes. "
   ]
  },
  {
   "cell_type": "markdown",
   "metadata": {},
   "source": [
    "### Going Deeper"
   ]
  },
  {
   "cell_type": "markdown",
   "metadata": {},
   "source": [
    "**There is no need to stop at just two linear layers.**  \n",
    "**We can add as many as we want, as long as we add a nonlinearity between each pair of linear layers.**  \n",
    "As you will learn, however, the deeper the model gets, the harder it is to optimize the parameters in practice.  \n",
    "Later in this book you will learn about some simple but brilliantly effective techniques for training deeper models.\n",
    "\n",
    "We already know that a single nonlinearity with two linear layers is enough to approximate any function.  \n",
    "**So why would we use deeper models?**  \n",
    "**The reason is performance.**  \n",
    "**<u>With a deeper model (that is, one with more layers) we do not need to use as many parameters;</u>**  \n",
    "it turns out that we can use smaller matrices with more layers, and get better results than we would get with larger matrices, and few layers.  \n",
    "\n",
    "**That means that we can train the model more quickly, and it will take up less memory.**  \n",
    "In the 1990s researchers were so focused on the universal approximation theorem that very few were experimenting with more than one nonlinearity.  \n",
    "This theoretical but not practical foundation held back the field for years.  \n",
    "Some researchers, however, did experiment with deep models, and eventually were able to show that these models could perform much better in practice.  \n",
    "**Eventually, theoretical results were developed which showed why this happens.**  \n",
    "Today, it is extremely unusual to find anybody using a neural network with just one nonlinearity.\n",
    "\n",
    "**Here is what happens when we train an 18-layer model using the same approach we saw in <<chapter_intro>>:**"
   ]
  },
  {
   "cell_type": "code",
   "execution_count": null,
   "metadata": {},
   "outputs": [],
   "source": [
    "dls = ImageDataLoaders.from_folder(path)\n",
    "learn = vision_learner(dls, resnet18, pretrained=False,\n",
    "                    loss_func=F.cross_entropy, metrics=accuracy)\n",
    "learn.fit_one_cycle(1, 0.1)"
   ]
  },
  {
   "cell_type": "markdown",
   "metadata": {},
   "source": [
    "**Nearly 100% accuracy!**  \n",
    "**That's a big difference compared to our simple neural net.**  \n",
    "But as you'll learn in the remainder of this book,  \n",
    "**there are just a few little tricks you need to use to get such great results from scratch yourself.**  \n",
    "You already know the key foundational pieces.  \n",
    "(Of course, even once you know all the tricks,  \n",
    "**you'll nearly always want to work with the pre-built classes provided by PyTorch and fastai,  \n",
    "because they save you having to think about all the little details yourself.)**"
   ]
  },
  {
   "cell_type": "markdown",
   "metadata": {},
   "source": [
    "## Jargon Recap"
   ]
  },
  {
   "cell_type": "markdown",
   "metadata": {},
   "source": [
    "Congratulations: you now know how to create and train a deep neural network from scratch!  \n",
    "We've gone through quite a few steps to get to this point, **but you might be surprised at how simple it really is.**  \n",
    "\n",
    "Now that we are at this point, it is a good opportunity to define, and review, some jargon and key concepts.  \n",
    "\n",
    "A neural network contains a lot of numbers, but they are only of two types:  \n",
    "numbers that are calculated, and the parameters that these numbers are calculated from.  \n",
    "This gives us the two most important pieces of jargon to learn:\n",
    "\n",
    "- **Activations:: Numbers that are calculated (both by linear and nonlinear layers)**\n",
    "- **Parameters:: Numbers that are randomly initialized, and optimized (that is, the numbers that define the model)**\n",
    "\n",
    "We will often talk in this book about activations and parameters.  \n",
    "Remember that they have very specific meanings.  \n",
    "They are numbers.  \n",
    "They are not abstract concepts, but they are actual specific numbers that are in your model.  \n",
    "**Part of becoming a good deep learning practitioner is getting used to the idea of actually looking at your activations and parameters,**  \n",
    "and plotting them and testing whether they are behaving correctly.\n",
    "\n",
    "**Our activations and parameters are all contained in *tensors*.**  \n",
    "These are simply regularly shaped arrays—for example, a matrix.  \n",
    "Matrices have rows and columns; we call these the *axes* or *dimensions*.  \n",
    "**The number of dimensions of a tensor is its *rank*.**  \n",
    "There are some special tensors:\n",
    "\n",
    "- Rank zero: scalar\n",
    "- Rank one: vector\n",
    "- Rank two: matrix\n",
    "\n",
    "**A neural network contains a number of layers.  \n",
    "Each layer is either *linear* or *nonlinear*.  \n",
    "We generally alternate between these two kinds of layers in a neural network.**  \n",
    "Sometimes people refer to both a linear layer and its subsequent nonlinearity together as a single layer.  \n",
    "Yes, this is confusing.  \n",
    "**Sometimes a nonlinearity is referred to as an *activation function*.**\n",
    "\n",
    "<<dljargon1>> summarizes the key concepts related to SGD.\n",
    "\n",
    "```asciidoc\n",
    "[[dljargon1]]\n",
    ".Deep learning vocabulary\n",
    "[options=\"header\"]\n",
    "|=====\n",
    "| Term | Meaning\n",
    "|ReLU | Function that returns 0 for negative numbers and doesn't change positive numbers.\n",
    "|Mini-batch | A small group of inputs and labels gathered together in two arrays. A gradient descent step is updated on this batch (rather than a whole epoch).\n",
    "|Forward pass | Applying the model to some input and computing the predictions.\n",
    "|Loss | A value that represents how well (or badly) our model is doing.\n",
    "|Gradient | The derivative of the loss with respect to some parameter of the model.\n",
    "|Backward pass | Computing the gradients of the loss with respect to all model parameters.\n",
    "|Gradient descent | Taking a step in the directions opposite to the gradients to make the model parameters a little bit better.\n",
    "|Learning rate | The size of the step we take when applying SGD to update the parameters of the model.\n",
    "|=====\n",
    "```"
   ]
  },
  {
   "cell_type": "markdown",
   "metadata": {},
   "source": [
    "> note: _Choose Your Own Adventure_ Reminder:  \n",
    "> Did you choose to skip over chapters 2 & 3, in your excitement to peek under the hood?  \n",
    "> **Well, here's your reminder to head back to chapter 2 now, because you'll be needing to know that stuff very soon!**  "
   ]
  },
  {
   "cell_type": "markdown",
   "metadata": {},
   "source": [
    "## Questionnaire"
   ]
  },
  {
   "cell_type": "markdown",
   "metadata": {},
   "source": [
    "1. How is a grayscale image represented on a computer? How about a color image?\n",
    "1. How are the files and folders in the `MNIST_SAMPLE` dataset structured? Why?\n",
    "1. Explain how the \"pixel similarity\" approach to classifying digits works.\n",
    "1. What is a list comprehension? Create one now that selects odd numbers from a list and doubles them.\n",
    "1. What is a \"rank-3 tensor\"?\n",
    "1. What is the difference between tensor rank and shape? How do you get the rank from the shape?\n",
    "1. What are RMSE and L1 norm?\n",
    "1. How can you apply a calculation on thousands of numbers at once, many thousands of times faster than a Python loop?\n",
    "1. Create a 3×3 tensor or array containing the numbers from 1 to 9. Double it. Select the bottom-right four numbers.\n",
    "1. What is broadcasting?\n",
    "1. Are metrics generally calculated using the training set, or the validation set? Why?\n",
    "1. What is SGD?\n",
    "1. Why does SGD use mini-batches?\n",
    "1. What are the seven steps in SGD for machine learning?\n",
    "1. How do we initialize the weights in a model?\n",
    "1. What is \"loss\"?\n",
    "1. Why can't we always use a high learning rate?\n",
    "1. What is a \"gradient\"?\n",
    "1. Do you need to know how to calculate gradients yourself?\n",
    "1. Why can't we use accuracy as a loss function?\n",
    "1. Draw the sigmoid function. What is special about its shape?\n",
    "1. What is the difference between a loss function and a metric?\n",
    "1. What is the function to calculate new weights using a learning rate?\n",
    "1. What does the `DataLoader` class do?\n",
    "1. Write pseudocode showing the basic steps taken in each epoch for SGD.\n",
    "1. Create a function that, if passed two arguments `[1,2,3,4]` and `'abcd'`, returns `[(1, 'a'), (2, 'b'), (3, 'c'), (4, 'd')]`. What is special about that output data structure?\n",
    "1. What does `view` do in PyTorch?\n",
    "1. What are the \"bias\" parameters in a neural network? Why do we need them?\n",
    "1. What does the `@` operator do in Python?\n",
    "1. What does the `backward` method do?\n",
    "1. Why do we have to zero the gradients?\n",
    "1. What information do we have to pass to `Learner`?\n",
    "1. Show Python or pseudocode for the basic steps of a training loop.\n",
    "1. What is \"ReLU\"? Draw a plot of it for values from `-2` to `+2`.\n",
    "1. What is an \"activation function\"?\n",
    "1. What's the difference between `F.relu` and `nn.ReLU`?\n",
    "1. The universal approximation theorem shows that any function can be approximated as closely as needed using just one nonlinearity. So why do we normally use more?"
   ]
  },
  {
   "cell_type": "markdown",
   "metadata": {},
   "source": [
    "### Further Research"
   ]
  },
  {
   "cell_type": "markdown",
   "metadata": {},
   "source": [
    "1. Create your own implementation of `Learner` from scratch, based on the training loop shown in this chapter.\n",
    "1. Complete all the steps in this chapter using the full MNIST datasets (that is, for all digits, not just 3s and 7s).  \n",
    "   This is a significant project and will take you quite a bit of time to complete!  \n",
    "   You'll need to do some of your own research to figure out how to overcome some obstacles you'll meet on the way.  "
   ]
  },
  {
   "cell_type": "code",
   "execution_count": null,
   "metadata": {},
   "outputs": [],
   "source": []
  }
 ],
 "metadata": {
  "jupytext": {
   "split_at_heading": true
  },
  "kernelspec": {
   "display_name": "fastai23",
   "language": "python",
   "name": "fastai23"
  },
  "language_info": {
   "codemirror_mode": {
    "name": "ipython",
    "version": 3
   },
   "file_extension": ".py",
   "mimetype": "text/x-python",
   "name": "python",
   "nbconvert_exporter": "python",
   "pygments_lexer": "ipython3",
   "version": "3.11.5"
  },
  "widgets": {
   "application/vnd.jupyter.widget-state+json": {
    "state": {},
    "version_major": 2,
    "version_minor": 0
   }
  }
 },
 "nbformat": 4,
 "nbformat_minor": 4
}
