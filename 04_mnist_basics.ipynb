{
 "cells": [
  {
   "cell_type": "code",
   "execution_count": 8,
   "metadata": {},
   "outputs": [],
   "source": [
    "#hide\n",
    "! [ -e /content ] && pip install -Uqq fastbook\n",
    "import fastbook\n",
    "fastbook.setup_book()"
   ]
  },
  {
   "cell_type": "markdown",
   "metadata": {},
   "source": [
    "#### "
   ]
  },
  {
   "cell_type": "code",
   "execution_count": 9,
   "metadata": {},
   "outputs": [],
   "source": [
    "#hide\n",
    "from fastai.vision.all import *\n",
    "from fastbook import *\n",
    "\n",
    "matplotlib.rc('image', cmap='Greys')"
   ]
  },
  {
   "cell_type": "raw",
   "metadata": {},
   "source": [
    "[[chapter_mnist_basics]]"
   ]
  },
  {
   "cell_type": "markdown",
   "metadata": {},
   "source": [
    "# Under the Hood: Training a Digit Classifier"
   ]
  },
  {
   "cell_type": "markdown",
   "metadata": {},
   "source": [
    "Having seen what it looks like to actually train a variety of models in Chapter 2, **let’s now look under the hood and see exactly what is going on**.  \n",
    "We’ll start by **using computer vision** to introduce fundamental tools and concepts for deep learning.\n",
    "\n",
    "To be exact, we'll discuss the **roles of arrays and tensors and of broadcasting**, a powerful technique for using them expressively.  \n",
    "We'll explain **stochastic gradient descent (SGD)**, the mechanism for learning by updating weights automatically.  \n",
    "We'll discuss the choice of a **loss function** for our basic classification task, and the role of mini-batches.  \n",
    "We'll also describe **the math that a basic neural network** is actually doing.  \n",
    "Finally, we'll put all these pieces together.\n",
    "\n",
    "In future chapters we’ll do deep dives into other applications as well, and see how these concepts and tools generalize.  \n",
    "But this chapter is about **laying foundation stones**. To be frank, that also makes this one of the hardest chapters, because of how these concepts all depend on each other.  \n",
    "Like an arch, all the stones need to be in place for the structure to stay up. Also like an arch, once that happens, it's a powerful structure that can support other things.  \n",
    "But it requires some patience to assemble.\n",
    "\n",
    "Let's begin. The first step is to consider how images are represented in a computer."
   ]
  },
  {
   "cell_type": "markdown",
   "metadata": {},
   "source": [
    "## Pixels: The Foundations of Computer Vision"
   ]
  },
  {
   "cell_type": "markdown",
   "metadata": {},
   "source": [
    "In order to understand what happens in a **computer vision model**, we first have to understand **how computers handle images**.  \n",
    "We'll use one of **the most famous datasets in computer vision, [MNIST](https://en.wikipedia.org/wiki/MNIST_database)**, for our experiments.  \n",
    "MNIST contains images of handwritten digits, collected by the National Institute of Standards and Technology and collated into a machine learning dataset by Yann Lecun and his colleagues.  \n",
    "Lecun used MNIST in 1998 in [Lenet-5](http://yann.lecun.com/exdb/lenet/), the first computer system to demonstrate practically useful recognition of handwritten digit sequences.  \n",
    "This was one of the most important breakthroughs in the history of AI."
   ]
  },
  {
   "cell_type": "markdown",
   "metadata": {},
   "source": [
    "## Sidebar: Tenacity and Deep Learning"
   ]
  },
  {
   "cell_type": "markdown",
   "metadata": {},
   "source": [
    "The story of deep learning is one of tenacity and grit by a handful of dedicated researchers.  \n",
    "After early hopes (and hype!) neural networks went out of favor in the 1990's and 2000's, and just a handful of researchers kept trying to make them work well.  \n",
    "Three of them, Yann Lecun, Yoshua Bengio, and Geoffrey Hinton, were awarded the highest honor in computer science, the Turing Award (generally considered the \"Nobel Prize of computer science\"),  \n",
    "in 2018 after triumphing despite the deep skepticism and disinterest of the wider machine learning and statistics community.\n",
    "\n",
    "Geoff Hinton has told of how even academic papers showing dramatically better results than anything previously published would be rejected by top journals and conferences, just because they used a neural network.  \n",
    "Yann Lecun's work on convolutional neural networks, which we will study in the next section, showed that these models could read handwritten text—something that had never been achieved before.  \n",
    "However, his breakthrough was ignored by most researchers, even as it was used commercially to read 10% of the checks in the US!\n",
    "\n",
    "In addition to these three Turing Award winners, there are many other researchers who have battled to get us to where we are today.  \n",
    "For instance, Jurgen Schmidhuber (who many believe should have shared in the Turing Award) pioneered many important ideas, \n",
    "including working with his student Sepp Hochreiter on the long short-term memory (LSTM) architecture (widely used for speech recognition and other text modeling tasks, and used in the IMDb example in <<chapter_intro>>).  \n",
    "Perhaps most important of all, Paul Werbos in 1974 invented back-propagation for neural networks, the technique shown in this chapter and used universally for training neural networks ([Werbos 1994](https://books.google.com/books/about/The_Roots_of_Backpropagation.html?id=WdR3OOM2gBwC)).  \n",
    "His development was almost entirely ignored for decades, but today it is considered the most important foundation of modern AI.\n",
    "\n",
    "There is a lesson here for all of us! On your deep learning journey you will face many obstacles, both technical, and (even more difficult) posed by people around you who don't believe you'll be successful.  \n",
    "There's one *guaranteed* way to fail, and that's to stop trying.  \n",
    "We've seen that the only consistent trait amongst every fast.ai student that's gone on to be a world-class practitioner is that they are all very tenacious."
   ]
  },
  {
   "cell_type": "markdown",
   "metadata": {},
   "source": [
    "## End sidebar"
   ]
  },
  {
   "cell_type": "markdown",
   "metadata": {},
   "source": [
    "For this initial tutorial we are just going to try to **create a model that can classify any image as a 3 or a 7**.  \n",
    "So let's download a **sample of MNIST that contains images of just these digits:**"
   ]
  },
  {
   "cell_type": "code",
   "execution_count": 10,
   "metadata": {},
   "outputs": [
    {
     "data": {
      "text/plain": [
       "'https://s3.amazonaws.com/fast-ai-sample/mnist_sample.tgz'"
      ]
     },
     "execution_count": 10,
     "metadata": {},
     "output_type": "execute_result"
    }
   ],
   "source": [
    "URLs.MNIST_SAMPLE"
   ]
  },
  {
   "cell_type": "code",
   "execution_count": 11,
   "metadata": {},
   "outputs": [],
   "source": [
    "# https://docs.fast.ai/data.external.html  - downloads them to /home/.fastai folder\n",
    "path = untar_data(URLs.MNIST_SAMPLE)"
   ]
  },
  {
   "cell_type": "code",
   "execution_count": 12,
   "metadata": {},
   "outputs": [],
   "source": [
    "#hide\n",
    "Path.BASE_PATH = path"
   ]
  },
  {
   "cell_type": "code",
   "execution_count": 13,
   "metadata": {},
   "outputs": [
    {
     "data": {
      "text/plain": [
       "Path('.')"
      ]
     },
     "execution_count": 13,
     "metadata": {},
     "output_type": "execute_result"
    }
   ],
   "source": [
    "path  # tells me where it is; path is . because I used this special base_path attribute to path, to tell it where's my starting point"
   ]
  },
  {
   "cell_type": "code",
   "execution_count": 14,
   "metadata": {},
   "outputs": [
    {
     "data": {
      "text/plain": [
       "pathlib.PosixPath"
      ]
     },
     "execution_count": 14,
     "metadata": {},
     "output_type": "execute_result"
    }
   ],
   "source": [
    "type(path)  # it's a pathlib path object; pathlib is part of the python standard library; p s l doesn't have ls though, so we addded ls "
   ]
  },
  {
   "cell_type": "code",
   "execution_count": 15,
   "metadata": {},
   "outputs": [],
   "source": [
    "#path.ls?  # from where it comes from: a library called fastcore, which is a lot of the foundational stuff in fastai that is not dependent on pytorch, pandas or any of these big libraries"
   ]
  },
  {
   "cell_type": "code",
   "execution_count": 16,
   "metadata": {},
   "outputs": [],
   "source": [
    "#path.ls??  # if you want to see exactly what it does put ?? to get the source code"
   ]
  },
  {
   "cell_type": "code",
   "execution_count": 17,
   "metadata": {},
   "outputs": [
    {
     "data": {
      "text/html": [
       "<hr/>\n",
       "<h3>Path.ls</h3>\n",
       "<blockquote><pre><code>Path.ls(n_max=None, file_type=None, file_exts=None)</code></pre></blockquote><p>Contents of path as a list</p>\n",
       "<p><a href=\"https://fastcore.fast.ai/xtras.html#path.ls\" target=\"_blank\" rel=\"noreferrer noopener\">Show in docs</a></p>"
      ],
      "text/plain": [
       "<IPython.core.display.HTML object>"
      ]
     },
     "metadata": {},
     "output_type": "display_data"
    }
   ],
   "source": [
    "doc(path.ls)  # documentation, to see examples, pictures, tutorials, tests"
   ]
  },
  {
   "cell_type": "markdown",
   "metadata": {},
   "source": [
    "We can see **what's in this directory by using `ls`**, a method added by fastai.  \n",
    "This method returns an object of a special fastai class called `L`, which has all the same functionality of Python's built-in `list`, plus a lot more.  \n",
    "One of its handy features is that, when printed, it displays **the count of items**, before **listing the items** themselves (if there are more than 10 items, it just shows the first few):"
   ]
  },
  {
   "cell_type": "code",
   "execution_count": 18,
   "metadata": {},
   "outputs": [
    {
     "data": {
      "text/plain": [
       "(#3) [Path('train'),Path('valid'),Path('labels.csv')]"
      ]
     },
     "execution_count": 18,
     "metadata": {},
     "output_type": "execute_result"
    }
   ],
   "source": [
    "path.ls()  # it makes it easier not to have to see the whole set of parent path folders; use ls to see what's in the dataset \n",
    "           # there's a train folder and valid folder"
   ]
  },
  {
   "cell_type": "markdown",
   "metadata": {},
   "source": [
    "The MNIST dataset follows a common layout for machine learning datasets: **separate folders for the training set and the validation set (and/or test set)**.  \n",
    "Let's see what's **inside the training set:**"
   ]
  },
  {
   "cell_type": "code",
   "execution_count": 19,
   "metadata": {},
   "outputs": [
    {
     "data": {
      "text/plain": [
       "(#2) [Path('train/7'),Path('train/3')]"
      ]
     },
     "execution_count": 19,
     "metadata": {},
     "output_type": "execute_result"
    }
   ],
   "source": [
    "(path/'train').ls()  # this looks like our bear classifier data set; we downloaded each set of images into a folder based on what its label was (3 or 7)"
   ]
  },
  {
   "cell_type": "markdown",
   "metadata": {},
   "source": [
    "There's a folder of 3s, and a folder of 7s. In machine learning parlance, we say that **\"3\" and \"7\" are the *labels* (or targets)** in this dataset.  \n",
    "Let's take a look in one of these folders (using **`sorted`** to ensure we all get the same order of files):"
   ]
  },
  {
   "cell_type": "code",
   "execution_count": 20,
   "metadata": {},
   "outputs": [
    {
     "data": {
      "text/plain": [
       "(#6131) [Path('train/3/10.png'),Path('train/3/10000.png'),Path('train/3/10011.png'),Path('train/3/10031.png'),Path('train/3/10034.png'),Path('train/3/10042.png'),Path('train/3/10052.png'),Path('train/3/1007.png'),Path('train/3/10074.png'),Path('train/3/10091.png')...]"
      ]
     },
     "execution_count": 20,
     "metadata": {},
     "output_type": "execute_result"
    }
   ],
   "source": [
    "threes = (path/'train'/'3').ls().sorted()  # they's just numbered \n",
    "sevens = (path/'train'/'7').ls().sorted()\n",
    "threes"
   ]
  },
  {
   "cell_type": "markdown",
   "metadata": {},
   "source": [
    "As we might expect, it's full of image files.  \n",
    "Let’s take a look at one now.  \n",
    "Here’s an image of a **handwritten number 3**, taken from the famous MNIST dataset of handwritten numbers:"
   ]
  },
  {
   "cell_type": "code",
   "execution_count": 21,
   "metadata": {},
   "outputs": [
    {
     "data": {
      "image/png": "[encoded data removed]",
      "text/plain": [
       "<PIL.PngImagePlugin.PngImageFile image mode=L size=28x28>"
      ]
     },
     "execution_count": 21,
     "metadata": {},
     "output_type": "execute_result"
    }
   ],
   "source": [
    "im3_path = threes[1]        \n",
    "im3 = Image.open(im3_path)\n",
    "im3"
   ]
  },
  {
   "cell_type": "code",
   "execution_count": 22,
   "metadata": {},
   "outputs": [
    {
     "data": {
      "text/plain": [
       "PIL.PngImagePlugin.PngImageFile"
      ]
     },
     "execution_count": 22,
     "metadata": {},
     "output_type": "execute_result"
    }
   ],
   "source": [
    "type(im3)  # PIL is python imaging library (the most popular lib by far for working with images and its a PNG); PIL will come with something that displays the image"
   ]
  },
  {
   "cell_type": "markdown",
   "metadata": {},
   "source": [
    "Here we are using the **`Image` class from the *Python Imaging Library* (PIL)**, which is the most widely used Python package for opening, manipulating, and viewing images.  \n",
    "Jupyter knows about PIL images, so it displays the image for us automatically.\n",
    "\n",
    "In a computer, everything is represented as a number.  \n",
    "**To view the numbers that make up this image, we have to convert it to a *NumPy array* or a *PyTorch tensor***.  \n",
    "For instance, here's what a section of the image looks like, converted to a **NumPy array**:"
   ]
  },
  {
   "cell_type": "code",
   "execution_count": 23,
   "metadata": {},
   "outputs": [
    {
     "data": {
      "text/plain": [
       "array([[  0,   0,   0,   0,   0,   0],\n",
       "       [  0,   0,   0,   0,   0,  29],\n",
       "       [  0,   0,   0,  48, 166, 224],\n",
       "       [  0,  93, 244, 249, 253, 187],\n",
       "       [  0, 107, 253, 253, 230,  48],\n",
       "       [  0,   3,  20,  20,  15,   0]], dtype=uint8)"
      ]
     },
     "execution_count": 23,
     "metadata": {},
     "output_type": "execute_result"
    }
   ],
   "source": [
    "'''\n",
    "one easy way to treat things as numbers is to turn them into an array\n",
    "the array is part of numpy, the most popular array programming library for python\n",
    "so if we pass our PIL image object to array it just converts the image into a bunch of numbers\n",
    "the truth is it was a bunch of numbers the whole time\n",
    "it was stored as bunch of numbers on disk\n",
    "it just that there's this magic thing in jupyter that knows how to display those numbers on the screen\n",
    "an image is just a bunch of numbers on a pc, so we can compute with it\n",
    "'''\n",
    "array(im3)[4:10,4:10]  # this converts the image im3 to numbers in form of an array"
   ]
  },
  {
   "cell_type": "markdown",
   "metadata": {},
   "source": [
    "**The `4:10` indicates we requested the rows from index 4 (included) to 10 (not included) and the same for the columns**.  \n",
    "NumPy indexes from top to bottom and left to right, so this section is located in the top-left corner of the image.  \n",
    "Here's the same thing as a **PyTorch tensor**:"
   ]
  },
  {
   "cell_type": "code",
   "execution_count": 24,
   "metadata": {},
   "outputs": [
    {
     "data": {
      "text/plain": [
       "tensor([[  0,   0,   0,   0,   0,   0],\n",
       "        [  0,   0,   0,   0,   0,  29],\n",
       "        [  0,   0,   0,  48, 166, 224],\n",
       "        [  0,  93, 244, 249, 253, 187],\n",
       "        [  0, 107, 253, 253, 230,  48],\n",
       "        [  0,   3,  20,  20,  15,   0]], dtype=torch.uint8)"
      ]
     },
     "execution_count": 24,
     "metadata": {},
     "output_type": "execute_result"
    }
   ],
   "source": [
    "'''\n",
    "a tensor is the pytorch version of a numpy array\n",
    "a pytorch tensor and numpy array behave nearly identically, much if not most of the time\n",
    "the key thing is a pytorch tensor can also be computed on a gpu, not just cpu\n",
    "so we use tensors because they have all the benefits of numpy arrays plus all the benefits of gpu computation\n",
    "and they have a whole lot of extra functionality as well\n",
    "'''\n",
    "tensor(im3)[4:10,4:10]  # this converts the image im3 to numbers in form of an tensor"
   ]
  },
  {
   "cell_type": "markdown",
   "metadata": {},
   "source": [
    "We can **slice the array** to pick just the part with the top of the digit in it,   \n",
    "and then use a Pandas DataFrame to **color-code the values using a gradient**, which shows us clearly how the image is created from the pixel values:"
   ]
  },
  {
   "cell_type": "code",
   "execution_count": 25,
   "metadata": {},
   "outputs": [
    {
     "data": {
      "text/html": [
       "<style type=\"text/css\">\n",
       "#T_e6e9c_row0_col0, #T_e6e9c_row0_col1, #T_e6e9c_row0_col2, #T_e6e9c_row0_col3, #T_e6e9c_row0_col4, #T_e6e9c_row0_col5, #T_e6e9c_row0_col6, #T_e6e9c_row0_col7, #T_e6e9c_row0_col8, #T_e6e9c_row0_col9, #T_e6e9c_row0_col10, #T_e6e9c_row0_col11, #T_e6e9c_row0_col12, #T_e6e9c_row0_col13, #T_e6e9c_row0_col14, #T_e6e9c_row0_col15, #T_e6e9c_row0_col16, #T_e6e9c_row0_col17, #T_e6e9c_row0_col18, #T_e6e9c_row0_col19, #T_e6e9c_row0_col20, #T_e6e9c_row0_col21, #T_e6e9c_row0_col22, #T_e6e9c_row0_col23, #T_e6e9c_row0_col24, #T_e6e9c_row0_col25, #T_e6e9c_row0_col26, #T_e6e9c_row0_col27, #T_e6e9c_row1_col0, #T_e6e9c_row1_col1, #T_e6e9c_row1_col2, #T_e6e9c_row1_col3, #T_e6e9c_row1_col4, #T_e6e9c_row1_col5, #T_e6e9c_row1_col6, #T_e6e9c_row1_col7, #T_e6e9c_row1_col8, #T_e6e9c_row1_col9, #T_e6e9c_row1_col10, #T_e6e9c_row1_col11, #T_e6e9c_row1_col12, #T_e6e9c_row1_col13, #T_e6e9c_row1_col14, #T_e6e9c_row1_col15, #T_e6e9c_row1_col16, #T_e6e9c_row1_col17, #T_e6e9c_row1_col18, #T_e6e9c_row1_col19, #T_e6e9c_row1_col20, #T_e6e9c_row1_col21, #T_e6e9c_row1_col22, #T_e6e9c_row1_col23, #T_e6e9c_row1_col24, #T_e6e9c_row1_col25, #T_e6e9c_row1_col26, #T_e6e9c_row1_col27, #T_e6e9c_row2_col0, #T_e6e9c_row2_col1, #T_e6e9c_row2_col2, #T_e6e9c_row2_col3, #T_e6e9c_row2_col4, #T_e6e9c_row2_col5, #T_e6e9c_row2_col6, #T_e6e9c_row2_col7, #T_e6e9c_row2_col8, #T_e6e9c_row2_col9, #T_e6e9c_row2_col10, #T_e6e9c_row2_col11, #T_e6e9c_row2_col12, #T_e6e9c_row2_col13, #T_e6e9c_row2_col14, #T_e6e9c_row2_col15, #T_e6e9c_row2_col16, #T_e6e9c_row2_col17, #T_e6e9c_row2_col18, #T_e6e9c_row2_col19, #T_e6e9c_row2_col20, #T_e6e9c_row2_col21, #T_e6e9c_row2_col22, #T_e6e9c_row2_col23, #T_e6e9c_row2_col24, #T_e6e9c_row2_col25, #T_e6e9c_row2_col26, #T_e6e9c_row2_col27, #T_e6e9c_row3_col0, #T_e6e9c_row3_col1, #T_e6e9c_row3_col2, #T_e6e9c_row3_col3, #T_e6e9c_row3_col4, #T_e6e9c_row3_col5, #T_e6e9c_row3_col6, #T_e6e9c_row3_col7, #T_e6e9c_row3_col8, #T_e6e9c_row3_col9, #T_e6e9c_row3_col10, #T_e6e9c_row3_col11, #T_e6e9c_row3_col12, #T_e6e9c_row3_col13, #T_e6e9c_row3_col14, #T_e6e9c_row3_col15, #T_e6e9c_row3_col16, #T_e6e9c_row3_col17, #T_e6e9c_row3_col18, #T_e6e9c_row3_col19, #T_e6e9c_row3_col20, #T_e6e9c_row3_col21, #T_e6e9c_row3_col22, #T_e6e9c_row3_col23, #T_e6e9c_row3_col24, #T_e6e9c_row3_col25, #T_e6e9c_row3_col26, #T_e6e9c_row3_col27, #T_e6e9c_row4_col0, #T_e6e9c_row4_col1, #T_e6e9c_row4_col2, #T_e6e9c_row4_col3, #T_e6e9c_row4_col4, #T_e6e9c_row4_col5, #T_e6e9c_row4_col6, #T_e6e9c_row4_col7, #T_e6e9c_row4_col8, #T_e6e9c_row4_col9, #T_e6e9c_row4_col10, #T_e6e9c_row4_col11, #T_e6e9c_row4_col12, #T_e6e9c_row4_col13, #T_e6e9c_row4_col14, #T_e6e9c_row4_col15, #T_e6e9c_row4_col16, #T_e6e9c_row4_col17, #T_e6e9c_row4_col18, #T_e6e9c_row4_col19, #T_e6e9c_row4_col20, #T_e6e9c_row4_col21, #T_e6e9c_row4_col22, #T_e6e9c_row4_col23, #T_e6e9c_row4_col24, #T_e6e9c_row4_col25, #T_e6e9c_row4_col26, #T_e6e9c_row4_col27, #T_e6e9c_row5_col0, #T_e6e9c_row5_col1, #T_e6e9c_row5_col2, #T_e6e9c_row5_col3, #T_e6e9c_row5_col4, #T_e6e9c_row5_col5, #T_e6e9c_row5_col6, #T_e6e9c_row5_col7, #T_e6e9c_row5_col8, #T_e6e9c_row5_col19, #T_e6e9c_row5_col20, #T_e6e9c_row5_col21, #T_e6e9c_row5_col22, #T_e6e9c_row5_col23, #T_e6e9c_row5_col24, #T_e6e9c_row5_col25, #T_e6e9c_row5_col26, #T_e6e9c_row5_col27, #T_e6e9c_row6_col0, #T_e6e9c_row6_col1, #T_e6e9c_row6_col2, #T_e6e9c_row6_col3, #T_e6e9c_row6_col4, #T_e6e9c_row6_col5, #T_e6e9c_row6_col6, #T_e6e9c_row6_col19, #T_e6e9c_row6_col20, #T_e6e9c_row6_col21, #T_e6e9c_row6_col22, #T_e6e9c_row6_col23, #T_e6e9c_row6_col24, #T_e6e9c_row6_col25, #T_e6e9c_row6_col26, #T_e6e9c_row6_col27, #T_e6e9c_row7_col0, #T_e6e9c_row7_col1, #T_e6e9c_row7_col2, #T_e6e9c_row7_col3, #T_e6e9c_row7_col4, #T_e6e9c_row7_col19, #T_e6e9c_row7_col20, #T_e6e9c_row7_col21, #T_e6e9c_row7_col22, #T_e6e9c_row7_col23, #T_e6e9c_row7_col24, #T_e6e9c_row7_col25, #T_e6e9c_row7_col26, #T_e6e9c_row7_col27, #T_e6e9c_row8_col0, #T_e6e9c_row8_col1, #T_e6e9c_row8_col2, #T_e6e9c_row8_col3, #T_e6e9c_row8_col4, #T_e6e9c_row8_col10, #T_e6e9c_row8_col11, #T_e6e9c_row8_col12, #T_e6e9c_row8_col13, #T_e6e9c_row8_col14, #T_e6e9c_row8_col19, #T_e6e9c_row8_col20, #T_e6e9c_row8_col21, #T_e6e9c_row8_col22, #T_e6e9c_row8_col23, #T_e6e9c_row8_col24, #T_e6e9c_row8_col25, #T_e6e9c_row8_col26, #T_e6e9c_row8_col27, #T_e6e9c_row9_col0, #T_e6e9c_row9_col1, #T_e6e9c_row9_col2, #T_e6e9c_row9_col3, #T_e6e9c_row9_col4, #T_e6e9c_row9_col9, #T_e6e9c_row9_col10, #T_e6e9c_row9_col11, #T_e6e9c_row9_col12, #T_e6e9c_row9_col13, #T_e6e9c_row9_col19, #T_e6e9c_row9_col20, #T_e6e9c_row9_col21, #T_e6e9c_row9_col22, #T_e6e9c_row9_col23, #T_e6e9c_row9_col24, #T_e6e9c_row9_col25, #T_e6e9c_row9_col26, #T_e6e9c_row9_col27, #T_e6e9c_row10_col0, #T_e6e9c_row10_col1, #T_e6e9c_row10_col2, #T_e6e9c_row10_col3, #T_e6e9c_row10_col4, #T_e6e9c_row10_col5, #T_e6e9c_row10_col6, #T_e6e9c_row10_col7, #T_e6e9c_row10_col8, #T_e6e9c_row10_col9, #T_e6e9c_row10_col10, #T_e6e9c_row10_col11, #T_e6e9c_row10_col12, #T_e6e9c_row10_col13, #T_e6e9c_row10_col18, #T_e6e9c_row10_col19, #T_e6e9c_row10_col20, #T_e6e9c_row10_col21, #T_e6e9c_row10_col22, #T_e6e9c_row10_col23, #T_e6e9c_row10_col24, #T_e6e9c_row10_col25, #T_e6e9c_row10_col26, #T_e6e9c_row10_col27, #T_e6e9c_row11_col0, #T_e6e9c_row11_col1, #T_e6e9c_row11_col2, #T_e6e9c_row11_col3, #T_e6e9c_row11_col4, #T_e6e9c_row11_col5, #T_e6e9c_row11_col6, #T_e6e9c_row11_col7, #T_e6e9c_row11_col8, #T_e6e9c_row11_col9, #T_e6e9c_row11_col10, #T_e6e9c_row11_col17, #T_e6e9c_row11_col18, #T_e6e9c_row11_col19, #T_e6e9c_row11_col20, #T_e6e9c_row11_col21, #T_e6e9c_row11_col22, #T_e6e9c_row11_col23, #T_e6e9c_row11_col24, #T_e6e9c_row11_col25, #T_e6e9c_row11_col26, #T_e6e9c_row11_col27, #T_e6e9c_row12_col0, #T_e6e9c_row12_col1, #T_e6e9c_row12_col2, #T_e6e9c_row12_col3, #T_e6e9c_row12_col4, #T_e6e9c_row12_col5, #T_e6e9c_row12_col6, #T_e6e9c_row12_col7, #T_e6e9c_row12_col8, #T_e6e9c_row12_col17, #T_e6e9c_row12_col18, #T_e6e9c_row12_col19, #T_e6e9c_row12_col20, #T_e6e9c_row12_col21, #T_e6e9c_row12_col22, #T_e6e9c_row12_col23, #T_e6e9c_row12_col24, #T_e6e9c_row12_col25, #T_e6e9c_row12_col26, #T_e6e9c_row12_col27, #T_e6e9c_row13_col0, #T_e6e9c_row13_col1, #T_e6e9c_row13_col2, #T_e6e9c_row13_col3, #T_e6e9c_row13_col4, #T_e6e9c_row13_col5, #T_e6e9c_row13_col6, #T_e6e9c_row13_col7, #T_e6e9c_row13_col8, #T_e6e9c_row13_col20, #T_e6e9c_row13_col21, #T_e6e9c_row13_col22, #T_e6e9c_row13_col23, #T_e6e9c_row13_col24, #T_e6e9c_row13_col25, #T_e6e9c_row13_col26, #T_e6e9c_row13_col27, #T_e6e9c_row14_col0, #T_e6e9c_row14_col1, #T_e6e9c_row14_col2, #T_e6e9c_row14_col3, #T_e6e9c_row14_col4, #T_e6e9c_row14_col5, #T_e6e9c_row14_col6, #T_e6e9c_row14_col7, #T_e6e9c_row14_col8, #T_e6e9c_row14_col9, #T_e6e9c_row14_col10, #T_e6e9c_row14_col21, #T_e6e9c_row14_col22, #T_e6e9c_row14_col23, #T_e6e9c_row14_col24, #T_e6e9c_row14_col25, #T_e6e9c_row14_col26, #T_e6e9c_row14_col27, #T_e6e9c_row15_col0, #T_e6e9c_row15_col1, #T_e6e9c_row15_col2, #T_e6e9c_row15_col3, #T_e6e9c_row15_col4, #T_e6e9c_row15_col5, #T_e6e9c_row15_col6, #T_e6e9c_row15_col7, #T_e6e9c_row15_col8, #T_e6e9c_row15_col9, #T_e6e9c_row15_col10, #T_e6e9c_row15_col11, #T_e6e9c_row15_col12, #T_e6e9c_row15_col13, #T_e6e9c_row15_col21, #T_e6e9c_row15_col22, #T_e6e9c_row15_col23, #T_e6e9c_row15_col24, #T_e6e9c_row15_col25, #T_e6e9c_row15_col26, #T_e6e9c_row15_col27, #T_e6e9c_row16_col0, #T_e6e9c_row16_col1, #T_e6e9c_row16_col2, #T_e6e9c_row16_col3, #T_e6e9c_row16_col4, #T_e6e9c_row16_col5, #T_e6e9c_row16_col6, #T_e6e9c_row16_col7, #T_e6e9c_row16_col8, #T_e6e9c_row16_col9, #T_e6e9c_row16_col10, #T_e6e9c_row16_col11, #T_e6e9c_row16_col12, #T_e6e9c_row16_col13, #T_e6e9c_row16_col14, #T_e6e9c_row16_col15, #T_e6e9c_row16_col16, #T_e6e9c_row16_col21, #T_e6e9c_row16_col22, #T_e6e9c_row16_col23, #T_e6e9c_row16_col24, #T_e6e9c_row16_col25, #T_e6e9c_row16_col26, #T_e6e9c_row16_col27, #T_e6e9c_row17_col0, #T_e6e9c_row17_col1, #T_e6e9c_row17_col2, #T_e6e9c_row17_col3, #T_e6e9c_row17_col4, #T_e6e9c_row17_col5, #T_e6e9c_row17_col6, #T_e6e9c_row17_col7, #T_e6e9c_row17_col8, #T_e6e9c_row17_col9, #T_e6e9c_row17_col10, #T_e6e9c_row17_col11, #T_e6e9c_row17_col12, #T_e6e9c_row17_col13, #T_e6e9c_row17_col14, #T_e6e9c_row17_col15, #T_e6e9c_row17_col16, #T_e6e9c_row17_col21, #T_e6e9c_row17_col22, #T_e6e9c_row17_col23, #T_e6e9c_row17_col24, #T_e6e9c_row17_col25, #T_e6e9c_row17_col26, #T_e6e9c_row17_col27, #T_e6e9c_row18_col0, #T_e6e9c_row18_col1, #T_e6e9c_row18_col2, #T_e6e9c_row18_col3, #T_e6e9c_row18_col4, #T_e6e9c_row18_col5, #T_e6e9c_row18_col6, #T_e6e9c_row18_col7, #T_e6e9c_row18_col8, #T_e6e9c_row18_col9, #T_e6e9c_row18_col10, #T_e6e9c_row18_col11, #T_e6e9c_row18_col12, #T_e6e9c_row18_col13, #T_e6e9c_row18_col14, #T_e6e9c_row18_col15, #T_e6e9c_row18_col21, #T_e6e9c_row18_col22, #T_e6e9c_row18_col23, #T_e6e9c_row18_col24, #T_e6e9c_row18_col25, #T_e6e9c_row18_col26, #T_e6e9c_row18_col27, #T_e6e9c_row19_col0, #T_e6e9c_row19_col1, #T_e6e9c_row19_col2, #T_e6e9c_row19_col3, #T_e6e9c_row19_col4, #T_e6e9c_row19_col5, #T_e6e9c_row19_col6, #T_e6e9c_row19_col7, #T_e6e9c_row19_col8, #T_e6e9c_row19_col9, #T_e6e9c_row19_col10, #T_e6e9c_row19_col11, #T_e6e9c_row19_col12, #T_e6e9c_row19_col13, #T_e6e9c_row19_col14, #T_e6e9c_row19_col21, #T_e6e9c_row19_col22, #T_e6e9c_row19_col23, #T_e6e9c_row19_col24, #T_e6e9c_row19_col25, #T_e6e9c_row19_col26, #T_e6e9c_row19_col27, #T_e6e9c_row20_col0, #T_e6e9c_row20_col1, #T_e6e9c_row20_col2, #T_e6e9c_row20_col3, #T_e6e9c_row20_col4, #T_e6e9c_row20_col5, #T_e6e9c_row20_col6, #T_e6e9c_row20_col7, #T_e6e9c_row20_col8, #T_e6e9c_row20_col9, #T_e6e9c_row20_col10, #T_e6e9c_row20_col11, #T_e6e9c_row20_col12, #T_e6e9c_row20_col13, #T_e6e9c_row20_col20, #T_e6e9c_row20_col21, #T_e6e9c_row20_col22, #T_e6e9c_row20_col23, #T_e6e9c_row20_col24, #T_e6e9c_row20_col25, #T_e6e9c_row20_col26, #T_e6e9c_row20_col27, #T_e6e9c_row21_col0, #T_e6e9c_row21_col1, #T_e6e9c_row21_col2, #T_e6e9c_row21_col3, #T_e6e9c_row21_col4, #T_e6e9c_row21_col5, #T_e6e9c_row21_col6, #T_e6e9c_row21_col7, #T_e6e9c_row21_col8, #T_e6e9c_row21_col9, #T_e6e9c_row21_col10, #T_e6e9c_row21_col11, #T_e6e9c_row21_col19, #T_e6e9c_row21_col20, #T_e6e9c_row21_col21, #T_e6e9c_row21_col22, #T_e6e9c_row21_col23, #T_e6e9c_row21_col24, #T_e6e9c_row21_col25, #T_e6e9c_row21_col26, #T_e6e9c_row21_col27, #T_e6e9c_row22_col0, #T_e6e9c_row22_col1, #T_e6e9c_row22_col2, #T_e6e9c_row22_col3, #T_e6e9c_row22_col4, #T_e6e9c_row22_col5, #T_e6e9c_row22_col18, #T_e6e9c_row22_col19, #T_e6e9c_row22_col20, #T_e6e9c_row22_col21, #T_e6e9c_row22_col22, #T_e6e9c_row22_col23, #T_e6e9c_row22_col24, #T_e6e9c_row22_col25, #T_e6e9c_row22_col26, #T_e6e9c_row22_col27, #T_e6e9c_row23_col0, #T_e6e9c_row23_col1, #T_e6e9c_row23_col2, #T_e6e9c_row23_col3, #T_e6e9c_row23_col4, #T_e6e9c_row23_col5, #T_e6e9c_row23_col16, #T_e6e9c_row23_col17, #T_e6e9c_row23_col18, #T_e6e9c_row23_col19, #T_e6e9c_row23_col20, #T_e6e9c_row23_col21, #T_e6e9c_row23_col22, #T_e6e9c_row23_col23, #T_e6e9c_row23_col24, #T_e6e9c_row23_col25, #T_e6e9c_row23_col26, #T_e6e9c_row23_col27, #T_e6e9c_row24_col0, #T_e6e9c_row24_col1, #T_e6e9c_row24_col2, #T_e6e9c_row24_col3, #T_e6e9c_row24_col4, #T_e6e9c_row24_col5, #T_e6e9c_row24_col14, #T_e6e9c_row24_col15, #T_e6e9c_row24_col16, #T_e6e9c_row24_col17, #T_e6e9c_row24_col18, #T_e6e9c_row24_col19, #T_e6e9c_row24_col20, #T_e6e9c_row24_col21, #T_e6e9c_row24_col22, #T_e6e9c_row24_col23, #T_e6e9c_row24_col24, #T_e6e9c_row24_col25, #T_e6e9c_row24_col26, #T_e6e9c_row24_col27, #T_e6e9c_row25_col0, #T_e6e9c_row25_col1, #T_e6e9c_row25_col2, #T_e6e9c_row25_col3, #T_e6e9c_row25_col4, #T_e6e9c_row25_col5, #T_e6e9c_row25_col6, #T_e6e9c_row25_col7, #T_e6e9c_row25_col8, #T_e6e9c_row25_col9, #T_e6e9c_row25_col10, #T_e6e9c_row25_col11, #T_e6e9c_row25_col12, #T_e6e9c_row25_col13, #T_e6e9c_row25_col14, #T_e6e9c_row25_col15, #T_e6e9c_row25_col16, #T_e6e9c_row25_col17, #T_e6e9c_row25_col18, #T_e6e9c_row25_col19, #T_e6e9c_row25_col20, #T_e6e9c_row25_col21, #T_e6e9c_row25_col22, #T_e6e9c_row25_col23, #T_e6e9c_row25_col24, #T_e6e9c_row25_col25, #T_e6e9c_row25_col26, #T_e6e9c_row25_col27, #T_e6e9c_row26_col0, #T_e6e9c_row26_col1, #T_e6e9c_row26_col2, #T_e6e9c_row26_col3, #T_e6e9c_row26_col4, #T_e6e9c_row26_col5, #T_e6e9c_row26_col6, #T_e6e9c_row26_col7, #T_e6e9c_row26_col8, #T_e6e9c_row26_col9, #T_e6e9c_row26_col10, #T_e6e9c_row26_col11, #T_e6e9c_row26_col12, #T_e6e9c_row26_col13, #T_e6e9c_row26_col14, #T_e6e9c_row26_col15, #T_e6e9c_row26_col16, #T_e6e9c_row26_col17, #T_e6e9c_row26_col18, #T_e6e9c_row26_col19, #T_e6e9c_row26_col20, #T_e6e9c_row26_col21, #T_e6e9c_row26_col22, #T_e6e9c_row26_col23, #T_e6e9c_row26_col24, #T_e6e9c_row26_col25, #T_e6e9c_row26_col26, #T_e6e9c_row26_col27, #T_e6e9c_row27_col0, #T_e6e9c_row27_col1, #T_e6e9c_row27_col2, #T_e6e9c_row27_col3, #T_e6e9c_row27_col4, #T_e6e9c_row27_col5, #T_e6e9c_row27_col6, #T_e6e9c_row27_col7, #T_e6e9c_row27_col8, #T_e6e9c_row27_col9, #T_e6e9c_row27_col10, #T_e6e9c_row27_col11, #T_e6e9c_row27_col12, #T_e6e9c_row27_col13, #T_e6e9c_row27_col14, #T_e6e9c_row27_col15, #T_e6e9c_row27_col16, #T_e6e9c_row27_col17, #T_e6e9c_row27_col18, #T_e6e9c_row27_col19, #T_e6e9c_row27_col20, #T_e6e9c_row27_col21, #T_e6e9c_row27_col22, #T_e6e9c_row27_col23, #T_e6e9c_row27_col24, #T_e6e9c_row27_col25, #T_e6e9c_row27_col26, #T_e6e9c_row27_col27 {\n",
       "  font-size: 6pt;\n",
       "  background-color: #ffffff;\n",
       "  color: #000000;\n",
       "}\n",
       "#T_e6e9c_row5_col9, #T_e6e9c_row12_col16 {\n",
       "  font-size: 6pt;\n",
       "  background-color: #f1f1f1;\n",
       "  color: #000000;\n",
       "}\n",
       "#T_e6e9c_row5_col10, #T_e6e9c_row5_col17 {\n",
       "  font-size: 6pt;\n",
       "  background-color: #7c7c7c;\n",
       "  color: #f1f1f1;\n",
       "}\n",
       "#T_e6e9c_row5_col11 {\n",
       "  font-size: 6pt;\n",
       "  background-color: #4a4a4a;\n",
       "  color: #f1f1f1;\n",
       "}\n",
       "#T_e6e9c_row5_col12, #T_e6e9c_row5_col13, #T_e6e9c_row5_col14, #T_e6e9c_row6_col10, #T_e6e9c_row6_col11, #T_e6e9c_row6_col15, #T_e6e9c_row6_col16, #T_e6e9c_row6_col17, #T_e6e9c_row7_col8, #T_e6e9c_row7_col16, #T_e6e9c_row7_col17, #T_e6e9c_row8_col5, #T_e6e9c_row8_col6, #T_e6e9c_row8_col7, #T_e6e9c_row8_col16, #T_e6e9c_row8_col17, #T_e6e9c_row9_col16, #T_e6e9c_row10_col15, #T_e6e9c_row13_col15, #T_e6e9c_row14_col15, #T_e6e9c_row14_col16, #T_e6e9c_row14_col17, #T_e6e9c_row14_col18, #T_e6e9c_row15_col17, #T_e6e9c_row15_col18, #T_e6e9c_row15_col19, #T_e6e9c_row16_col18, #T_e6e9c_row16_col19, #T_e6e9c_row16_col20, #T_e6e9c_row17_col18, #T_e6e9c_row17_col19, #T_e6e9c_row18_col18, #T_e6e9c_row18_col19, #T_e6e9c_row19_col17, #T_e6e9c_row19_col18, #T_e6e9c_row20_col16, #T_e6e9c_row20_col17, #T_e6e9c_row21_col15, #T_e6e9c_row21_col16, #T_e6e9c_row23_col7, #T_e6e9c_row23_col8, #T_e6e9c_row23_col9, #T_e6e9c_row23_col10, #T_e6e9c_row23_col11, #T_e6e9c_row24_col7, #T_e6e9c_row24_col8, #T_e6e9c_row24_col9, #T_e6e9c_row24_col10, #T_e6e9c_row24_col11 {\n",
       "  font-size: 6pt;\n",
       "  background-color: #000000;\n",
       "  color: #f1f1f1;\n",
       "}\n",
       "#T_e6e9c_row5_col15 {\n",
       "  font-size: 6pt;\n",
       "  background-color: #606060;\n",
       "  color: #f1f1f1;\n",
       "}\n",
       "#T_e6e9c_row5_col16 {\n",
       "  font-size: 6pt;\n",
       "  background-color: #4d4d4d;\n",
       "  color: #f1f1f1;\n",
       "}\n",
       "#T_e6e9c_row5_col18 {\n",
       "  font-size: 6pt;\n",
       "  background-color: #bbbbbb;\n",
       "  color: #000000;\n",
       "}\n",
       "#T_e6e9c_row6_col7, #T_e6e9c_row8_col9 {\n",
       "  font-size: 6pt;\n",
       "  background-color: #e4e4e4;\n",
       "  color: #000000;\n",
       "}\n",
       "#T_e6e9c_row6_col8, #T_e6e9c_row12_col10 {\n",
       "  font-size: 6pt;\n",
       "  background-color: #6b6b6b;\n",
       "  color: #f1f1f1;\n",
       "}\n",
       "#T_e6e9c_row6_col9, #T_e6e9c_row9_col15 {\n",
       "  font-size: 6pt;\n",
       "  background-color: #222222;\n",
       "  color: #f1f1f1;\n",
       "}\n",
       "#T_e6e9c_row6_col12, #T_e6e9c_row6_col18, #T_e6e9c_row7_col18, #T_e6e9c_row21_col17 {\n",
       "  font-size: 6pt;\n",
       "  background-color: #171717;\n",
       "  color: #f1f1f1;\n",
       "}\n",
       "#T_e6e9c_row6_col13, #T_e6e9c_row7_col15 {\n",
       "  font-size: 6pt;\n",
       "  background-color: #4b4b4b;\n",
       "  color: #f1f1f1;\n",
       "}\n",
       "#T_e6e9c_row6_col14, #T_e6e9c_row11_col14, #T_e6e9c_row12_col12, #T_e6e9c_row12_col14, #T_e6e9c_row13_col12, #T_e6e9c_row13_col14, #T_e6e9c_row22_col14, #T_e6e9c_row23_col12 {\n",
       "  font-size: 6pt;\n",
       "  background-color: #010101;\n",
       "  color: #f1f1f1;\n",
       "}\n",
       "#T_e6e9c_row7_col5 {\n",
       "  font-size: 6pt;\n",
       "  background-color: #272727;\n",
       "  color: #f1f1f1;\n",
       "}\n",
       "#T_e6e9c_row7_col6 {\n",
       "  font-size: 6pt;\n",
       "  background-color: #0a0a0a;\n",
       "  color: #f1f1f1;\n",
       "}\n",
       "#T_e6e9c_row7_col7, #T_e6e9c_row18_col17 {\n",
       "  font-size: 6pt;\n",
       "  background-color: #050505;\n",
       "  color: #f1f1f1;\n",
       "}\n",
       "#T_e6e9c_row7_col9, #T_e6e9c_row12_col15, #T_e6e9c_row14_col19, #T_e6e9c_row23_col6 {\n",
       "  font-size: 6pt;\n",
       "  background-color: #545454;\n",
       "  color: #f1f1f1;\n",
       "}\n",
       "#T_e6e9c_row7_col10 {\n",
       "  font-size: 6pt;\n",
       "  background-color: #e6e6e6;\n",
       "  color: #000000;\n",
       "}\n",
       "#T_e6e9c_row7_col11, #T_e6e9c_row7_col14, #T_e6e9c_row12_col9 {\n",
       "  font-size: 6pt;\n",
       "  background-color: #fafafa;\n",
       "  color: #000000;\n",
       "}\n",
       "#T_e6e9c_row7_col12, #T_e6e9c_row15_col14, #T_e6e9c_row20_col19 {\n",
       "  font-size: 6pt;\n",
       "  background-color: #fbfbfb;\n",
       "  color: #000000;\n",
       "}\n",
       "#T_e6e9c_row7_col13 {\n",
       "  font-size: 6pt;\n",
       "  background-color: #fdfdfd;\n",
       "  color: #000000;\n",
       "}\n",
       "#T_e6e9c_row8_col8 {\n",
       "  font-size: 6pt;\n",
       "  background-color: #1b1b1b;\n",
       "  color: #f1f1f1;\n",
       "}\n",
       "#T_e6e9c_row8_col15 {\n",
       "  font-size: 6pt;\n",
       "  background-color: #4e4e4e;\n",
       "  color: #f1f1f1;\n",
       "}\n",
       "#T_e6e9c_row8_col18 {\n",
       "  font-size: 6pt;\n",
       "  background-color: #767676;\n",
       "  color: #f1f1f1;\n",
       "}\n",
       "#T_e6e9c_row9_col5 {\n",
       "  font-size: 6pt;\n",
       "  background-color: #fcfcfc;\n",
       "  color: #000000;\n",
       "}\n",
       "#T_e6e9c_row9_col6, #T_e6e9c_row9_col7, #T_e6e9c_row19_col20 {\n",
       "  font-size: 6pt;\n",
       "  background-color: #f6f6f6;\n",
       "  color: #000000;\n",
       "}\n",
       "#T_e6e9c_row9_col8, #T_e6e9c_row11_col11 {\n",
       "  font-size: 6pt;\n",
       "  background-color: #f8f8f8;\n",
       "  color: #000000;\n",
       "}\n",
       "#T_e6e9c_row9_col14, #T_e6e9c_row14_col11 {\n",
       "  font-size: 6pt;\n",
       "  background-color: #e8e8e8;\n",
       "  color: #000000;\n",
       "}\n",
       "#T_e6e9c_row9_col17, #T_e6e9c_row10_col16 {\n",
       "  font-size: 6pt;\n",
       "  background-color: #090909;\n",
       "  color: #f1f1f1;\n",
       "}\n",
       "#T_e6e9c_row9_col18 {\n",
       "  font-size: 6pt;\n",
       "  background-color: #d0d0d0;\n",
       "  color: #000000;\n",
       "}\n",
       "#T_e6e9c_row10_col14, #T_e6e9c_row11_col15, #T_e6e9c_row13_col10 {\n",
       "  font-size: 6pt;\n",
       "  background-color: #060606;\n",
       "  color: #f1f1f1;\n",
       "}\n",
       "#T_e6e9c_row10_col17 {\n",
       "  font-size: 6pt;\n",
       "  background-color: #979797;\n",
       "  color: #f1f1f1;\n",
       "}\n",
       "#T_e6e9c_row11_col12 {\n",
       "  font-size: 6pt;\n",
       "  background-color: #b6b6b6;\n",
       "  color: #000000;\n",
       "}\n",
       "#T_e6e9c_row11_col13 {\n",
       "  font-size: 6pt;\n",
       "  background-color: #252525;\n",
       "  color: #f1f1f1;\n",
       "}\n",
       "#T_e6e9c_row11_col16 {\n",
       "  font-size: 6pt;\n",
       "  background-color: #999999;\n",
       "  color: #f1f1f1;\n",
       "}\n",
       "#T_e6e9c_row12_col11, #T_e6e9c_row22_col12 {\n",
       "  font-size: 6pt;\n",
       "  background-color: #101010;\n",
       "  color: #f1f1f1;\n",
       "}\n",
       "#T_e6e9c_row12_col13, #T_e6e9c_row13_col13, #T_e6e9c_row21_col14, #T_e6e9c_row22_col13, #T_e6e9c_row23_col13 {\n",
       "  font-size: 6pt;\n",
       "  background-color: #020202;\n",
       "  color: #f1f1f1;\n",
       "}\n",
       "#T_e6e9c_row13_col9 {\n",
       "  font-size: 6pt;\n",
       "  background-color: #f7f7f7;\n",
       "  color: #000000;\n",
       "}\n",
       "#T_e6e9c_row13_col11, #T_e6e9c_row22_col15 {\n",
       "  font-size: 6pt;\n",
       "  background-color: #030303;\n",
       "  color: #f1f1f1;\n",
       "}\n",
       "#T_e6e9c_row13_col16 {\n",
       "  font-size: 6pt;\n",
       "  background-color: #181818;\n",
       "  color: #f1f1f1;\n",
       "}\n",
       "#T_e6e9c_row13_col17 {\n",
       "  font-size: 6pt;\n",
       "  background-color: #303030;\n",
       "  color: #f1f1f1;\n",
       "}\n",
       "#T_e6e9c_row13_col18 {\n",
       "  font-size: 6pt;\n",
       "  background-color: #a9a9a9;\n",
       "  color: #f1f1f1;\n",
       "}\n",
       "#T_e6e9c_row13_col19 {\n",
       "  font-size: 6pt;\n",
       "  background-color: #fefefe;\n",
       "  color: #000000;\n",
       "}\n",
       "#T_e6e9c_row14_col12, #T_e6e9c_row14_col13, #T_e6e9c_row20_col14 {\n",
       "  font-size: 6pt;\n",
       "  background-color: #bababa;\n",
       "  color: #000000;\n",
       "}\n",
       "#T_e6e9c_row14_col14 {\n",
       "  font-size: 6pt;\n",
       "  background-color: #393939;\n",
       "  color: #f1f1f1;\n",
       "}\n",
       "#T_e6e9c_row14_col20 {\n",
       "  font-size: 6pt;\n",
       "  background-color: #eaeaea;\n",
       "  color: #000000;\n",
       "}\n",
       "#T_e6e9c_row15_col15 {\n",
       "  font-size: 6pt;\n",
       "  background-color: #e2e2e2;\n",
       "  color: #000000;\n",
       "}\n",
       "#T_e6e9c_row15_col16 {\n",
       "  font-size: 6pt;\n",
       "  background-color: #9f9f9f;\n",
       "  color: #f1f1f1;\n",
       "}\n",
       "#T_e6e9c_row15_col20 {\n",
       "  font-size: 6pt;\n",
       "  background-color: #898989;\n",
       "  color: #f1f1f1;\n",
       "}\n",
       "#T_e6e9c_row16_col17 {\n",
       "  font-size: 6pt;\n",
       "  background-color: #585858;\n",
       "  color: #f1f1f1;\n",
       "}\n",
       "#T_e6e9c_row17_col17 {\n",
       "  font-size: 6pt;\n",
       "  background-color: #5a5a5a;\n",
       "  color: #f1f1f1;\n",
       "}\n",
       "#T_e6e9c_row17_col20 {\n",
       "  font-size: 6pt;\n",
       "  background-color: #525252;\n",
       "  color: #f1f1f1;\n",
       "}\n",
       "#T_e6e9c_row18_col16, #T_e6e9c_row23_col15 {\n",
       "  font-size: 6pt;\n",
       "  background-color: #c5c5c5;\n",
       "  color: #000000;\n",
       "}\n",
       "#T_e6e9c_row18_col20 {\n",
       "  font-size: 6pt;\n",
       "  background-color: #d7d7d7;\n",
       "  color: #000000;\n",
       "}\n",
       "#T_e6e9c_row19_col15, #T_e6e9c_row22_col9 {\n",
       "  font-size: 6pt;\n",
       "  background-color: #dcdcdc;\n",
       "  color: #000000;\n",
       "}\n",
       "#T_e6e9c_row19_col16 {\n",
       "  font-size: 6pt;\n",
       "  background-color: #2f2f2f;\n",
       "  color: #f1f1f1;\n",
       "}\n",
       "#T_e6e9c_row19_col19 {\n",
       "  font-size: 6pt;\n",
       "  background-color: #636363;\n",
       "  color: #f1f1f1;\n",
       "}\n",
       "#T_e6e9c_row20_col15 {\n",
       "  font-size: 6pt;\n",
       "  background-color: #070707;\n",
       "  color: #f1f1f1;\n",
       "}\n",
       "#T_e6e9c_row20_col18 {\n",
       "  font-size: 6pt;\n",
       "  background-color: #1f1f1f;\n",
       "  color: #f1f1f1;\n",
       "}\n",
       "#T_e6e9c_row21_col12, #T_e6e9c_row22_col6, #T_e6e9c_row22_col8 {\n",
       "  font-size: 6pt;\n",
       "  background-color: #e9e9e9;\n",
       "  color: #000000;\n",
       "}\n",
       "#T_e6e9c_row21_col13 {\n",
       "  font-size: 6pt;\n",
       "  background-color: #7d7d7d;\n",
       "  color: #f1f1f1;\n",
       "}\n",
       "#T_e6e9c_row21_col18 {\n",
       "  font-size: 6pt;\n",
       "  background-color: #e1e1e1;\n",
       "  color: #000000;\n",
       "}\n",
       "#T_e6e9c_row22_col7, #T_e6e9c_row22_col10 {\n",
       "  font-size: 6pt;\n",
       "  background-color: #a4a4a4;\n",
       "  color: #f1f1f1;\n",
       "}\n",
       "#T_e6e9c_row22_col11 {\n",
       "  font-size: 6pt;\n",
       "  background-color: #727272;\n",
       "  color: #f1f1f1;\n",
       "}\n",
       "#T_e6e9c_row22_col16 {\n",
       "  font-size: 6pt;\n",
       "  background-color: #616161;\n",
       "  color: #f1f1f1;\n",
       "}\n",
       "#T_e6e9c_row22_col17 {\n",
       "  font-size: 6pt;\n",
       "  background-color: #f3f3f3;\n",
       "  color: #000000;\n",
       "}\n",
       "#T_e6e9c_row23_col14 {\n",
       "  font-size: 6pt;\n",
       "  background-color: #484848;\n",
       "  color: #f1f1f1;\n",
       "}\n",
       "#T_e6e9c_row24_col6 {\n",
       "  font-size: 6pt;\n",
       "  background-color: #b3b3b3;\n",
       "  color: #000000;\n",
       "}\n",
       "#T_e6e9c_row24_col12 {\n",
       "  font-size: 6pt;\n",
       "  background-color: #1a1a1a;\n",
       "  color: #f1f1f1;\n",
       "}\n",
       "#T_e6e9c_row24_col13 {\n",
       "  font-size: 6pt;\n",
       "  background-color: #d6d6d6;\n",
       "  color: #000000;\n",
       "}\n",
       "</style>\n",
       "<table id=\"T_e6e9c\">\n",
       "  <thead>\n",
       "    <tr>\n",
       "      <th class=\"blank level0\" >&nbsp;</th>\n",
       "      <th id=\"T_e6e9c_level0_col0\" class=\"col_heading level0 col0\" >0</th>\n",
       "      <th id=\"T_e6e9c_level0_col1\" class=\"col_heading level0 col1\" >1</th>\n",
       "      <th id=\"T_e6e9c_level0_col2\" class=\"col_heading level0 col2\" >2</th>\n",
       "      <th id=\"T_e6e9c_level0_col3\" class=\"col_heading level0 col3\" >3</th>\n",
       "      <th id=\"T_e6e9c_level0_col4\" class=\"col_heading level0 col4\" >4</th>\n",
       "      <th id=\"T_e6e9c_level0_col5\" class=\"col_heading level0 col5\" >5</th>\n",
       "      <th id=\"T_e6e9c_level0_col6\" class=\"col_heading level0 col6\" >6</th>\n",
       "      <th id=\"T_e6e9c_level0_col7\" class=\"col_heading level0 col7\" >7</th>\n",
       "      <th id=\"T_e6e9c_level0_col8\" class=\"col_heading level0 col8\" >8</th>\n",
       "      <th id=\"T_e6e9c_level0_col9\" class=\"col_heading level0 col9\" >9</th>\n",
       "      <th id=\"T_e6e9c_level0_col10\" class=\"col_heading level0 col10\" >10</th>\n",
       "      <th id=\"T_e6e9c_level0_col11\" class=\"col_heading level0 col11\" >11</th>\n",
       "      <th id=\"T_e6e9c_level0_col12\" class=\"col_heading level0 col12\" >12</th>\n",
       "      <th id=\"T_e6e9c_level0_col13\" class=\"col_heading level0 col13\" >13</th>\n",
       "      <th id=\"T_e6e9c_level0_col14\" class=\"col_heading level0 col14\" >14</th>\n",
       "      <th id=\"T_e6e9c_level0_col15\" class=\"col_heading level0 col15\" >15</th>\n",
       "      <th id=\"T_e6e9c_level0_col16\" class=\"col_heading level0 col16\" >16</th>\n",
       "      <th id=\"T_e6e9c_level0_col17\" class=\"col_heading level0 col17\" >17</th>\n",
       "      <th id=\"T_e6e9c_level0_col18\" class=\"col_heading level0 col18\" >18</th>\n",
       "      <th id=\"T_e6e9c_level0_col19\" class=\"col_heading level0 col19\" >19</th>\n",
       "      <th id=\"T_e6e9c_level0_col20\" class=\"col_heading level0 col20\" >20</th>\n",
       "      <th id=\"T_e6e9c_level0_col21\" class=\"col_heading level0 col21\" >21</th>\n",
       "      <th id=\"T_e6e9c_level0_col22\" class=\"col_heading level0 col22\" >22</th>\n",
       "      <th id=\"T_e6e9c_level0_col23\" class=\"col_heading level0 col23\" >23</th>\n",
       "      <th id=\"T_e6e9c_level0_col24\" class=\"col_heading level0 col24\" >24</th>\n",
       "      <th id=\"T_e6e9c_level0_col25\" class=\"col_heading level0 col25\" >25</th>\n",
       "      <th id=\"T_e6e9c_level0_col26\" class=\"col_heading level0 col26\" >26</th>\n",
       "      <th id=\"T_e6e9c_level0_col27\" class=\"col_heading level0 col27\" >27</th>\n",
       "    </tr>\n",
       "  </thead>\n",
       "  <tbody>\n",
       "    <tr>\n",
       "      <th id=\"T_e6e9c_level0_row0\" class=\"row_heading level0 row0\" >0</th>\n",
       "      <td id=\"T_e6e9c_row0_col0\" class=\"data row0 col0\" >0</td>\n",
       "      <td id=\"T_e6e9c_row0_col1\" class=\"data row0 col1\" >0</td>\n",
       "      <td id=\"T_e6e9c_row0_col2\" class=\"data row0 col2\" >0</td>\n",
       "      <td id=\"T_e6e9c_row0_col3\" class=\"data row0 col3\" >0</td>\n",
       "      <td id=\"T_e6e9c_row0_col4\" class=\"data row0 col4\" >0</td>\n",
       "      <td id=\"T_e6e9c_row0_col5\" class=\"data row0 col5\" >0</td>\n",
       "      <td id=\"T_e6e9c_row0_col6\" class=\"data row0 col6\" >0</td>\n",
       "      <td id=\"T_e6e9c_row0_col7\" class=\"data row0 col7\" >0</td>\n",
       "      <td id=\"T_e6e9c_row0_col8\" class=\"data row0 col8\" >0</td>\n",
       "      <td id=\"T_e6e9c_row0_col9\" class=\"data row0 col9\" >0</td>\n",
       "      <td id=\"T_e6e9c_row0_col10\" class=\"data row0 col10\" >0</td>\n",
       "      <td id=\"T_e6e9c_row0_col11\" class=\"data row0 col11\" >0</td>\n",
       "      <td id=\"T_e6e9c_row0_col12\" class=\"data row0 col12\" >0</td>\n",
       "      <td id=\"T_e6e9c_row0_col13\" class=\"data row0 col13\" >0</td>\n",
       "      <td id=\"T_e6e9c_row0_col14\" class=\"data row0 col14\" >0</td>\n",
       "      <td id=\"T_e6e9c_row0_col15\" class=\"data row0 col15\" >0</td>\n",
       "      <td id=\"T_e6e9c_row0_col16\" class=\"data row0 col16\" >0</td>\n",
       "      <td id=\"T_e6e9c_row0_col17\" class=\"data row0 col17\" >0</td>\n",
       "      <td id=\"T_e6e9c_row0_col18\" class=\"data row0 col18\" >0</td>\n",
       "      <td id=\"T_e6e9c_row0_col19\" class=\"data row0 col19\" >0</td>\n",
       "      <td id=\"T_e6e9c_row0_col20\" class=\"data row0 col20\" >0</td>\n",
       "      <td id=\"T_e6e9c_row0_col21\" class=\"data row0 col21\" >0</td>\n",
       "      <td id=\"T_e6e9c_row0_col22\" class=\"data row0 col22\" >0</td>\n",
       "      <td id=\"T_e6e9c_row0_col23\" class=\"data row0 col23\" >0</td>\n",
       "      <td id=\"T_e6e9c_row0_col24\" class=\"data row0 col24\" >0</td>\n",
       "      <td id=\"T_e6e9c_row0_col25\" class=\"data row0 col25\" >0</td>\n",
       "      <td id=\"T_e6e9c_row0_col26\" class=\"data row0 col26\" >0</td>\n",
       "      <td id=\"T_e6e9c_row0_col27\" class=\"data row0 col27\" >0</td>\n",
       "    </tr>\n",
       "    <tr>\n",
       "      <th id=\"T_e6e9c_level0_row1\" class=\"row_heading level0 row1\" >1</th>\n",
       "      <td id=\"T_e6e9c_row1_col0\" class=\"data row1 col0\" >0</td>\n",
       "      <td id=\"T_e6e9c_row1_col1\" class=\"data row1 col1\" >0</td>\n",
       "      <td id=\"T_e6e9c_row1_col2\" class=\"data row1 col2\" >0</td>\n",
       "      <td id=\"T_e6e9c_row1_col3\" class=\"data row1 col3\" >0</td>\n",
       "      <td id=\"T_e6e9c_row1_col4\" class=\"data row1 col4\" >0</td>\n",
       "      <td id=\"T_e6e9c_row1_col5\" class=\"data row1 col5\" >0</td>\n",
       "      <td id=\"T_e6e9c_row1_col6\" class=\"data row1 col6\" >0</td>\n",
       "      <td id=\"T_e6e9c_row1_col7\" class=\"data row1 col7\" >0</td>\n",
       "      <td id=\"T_e6e9c_row1_col8\" class=\"data row1 col8\" >0</td>\n",
       "      <td id=\"T_e6e9c_row1_col9\" class=\"data row1 col9\" >0</td>\n",
       "      <td id=\"T_e6e9c_row1_col10\" class=\"data row1 col10\" >0</td>\n",
       "      <td id=\"T_e6e9c_row1_col11\" class=\"data row1 col11\" >0</td>\n",
       "      <td id=\"T_e6e9c_row1_col12\" class=\"data row1 col12\" >0</td>\n",
       "      <td id=\"T_e6e9c_row1_col13\" class=\"data row1 col13\" >0</td>\n",
       "      <td id=\"T_e6e9c_row1_col14\" class=\"data row1 col14\" >0</td>\n",
       "      <td id=\"T_e6e9c_row1_col15\" class=\"data row1 col15\" >0</td>\n",
       "      <td id=\"T_e6e9c_row1_col16\" class=\"data row1 col16\" >0</td>\n",
       "      <td id=\"T_e6e9c_row1_col17\" class=\"data row1 col17\" >0</td>\n",
       "      <td id=\"T_e6e9c_row1_col18\" class=\"data row1 col18\" >0</td>\n",
       "      <td id=\"T_e6e9c_row1_col19\" class=\"data row1 col19\" >0</td>\n",
       "      <td id=\"T_e6e9c_row1_col20\" class=\"data row1 col20\" >0</td>\n",
       "      <td id=\"T_e6e9c_row1_col21\" class=\"data row1 col21\" >0</td>\n",
       "      <td id=\"T_e6e9c_row1_col22\" class=\"data row1 col22\" >0</td>\n",
       "      <td id=\"T_e6e9c_row1_col23\" class=\"data row1 col23\" >0</td>\n",
       "      <td id=\"T_e6e9c_row1_col24\" class=\"data row1 col24\" >0</td>\n",
       "      <td id=\"T_e6e9c_row1_col25\" class=\"data row1 col25\" >0</td>\n",
       "      <td id=\"T_e6e9c_row1_col26\" class=\"data row1 col26\" >0</td>\n",
       "      <td id=\"T_e6e9c_row1_col27\" class=\"data row1 col27\" >0</td>\n",
       "    </tr>\n",
       "    <tr>\n",
       "      <th id=\"T_e6e9c_level0_row2\" class=\"row_heading level0 row2\" >2</th>\n",
       "      <td id=\"T_e6e9c_row2_col0\" class=\"data row2 col0\" >0</td>\n",
       "      <td id=\"T_e6e9c_row2_col1\" class=\"data row2 col1\" >0</td>\n",
       "      <td id=\"T_e6e9c_row2_col2\" class=\"data row2 col2\" >0</td>\n",
       "      <td id=\"T_e6e9c_row2_col3\" class=\"data row2 col3\" >0</td>\n",
       "      <td id=\"T_e6e9c_row2_col4\" class=\"data row2 col4\" >0</td>\n",
       "      <td id=\"T_e6e9c_row2_col5\" class=\"data row2 col5\" >0</td>\n",
       "      <td id=\"T_e6e9c_row2_col6\" class=\"data row2 col6\" >0</td>\n",
       "      <td id=\"T_e6e9c_row2_col7\" class=\"data row2 col7\" >0</td>\n",
       "      <td id=\"T_e6e9c_row2_col8\" class=\"data row2 col8\" >0</td>\n",
       "      <td id=\"T_e6e9c_row2_col9\" class=\"data row2 col9\" >0</td>\n",
       "      <td id=\"T_e6e9c_row2_col10\" class=\"data row2 col10\" >0</td>\n",
       "      <td id=\"T_e6e9c_row2_col11\" class=\"data row2 col11\" >0</td>\n",
       "      <td id=\"T_e6e9c_row2_col12\" class=\"data row2 col12\" >0</td>\n",
       "      <td id=\"T_e6e9c_row2_col13\" class=\"data row2 col13\" >0</td>\n",
       "      <td id=\"T_e6e9c_row2_col14\" class=\"data row2 col14\" >0</td>\n",
       "      <td id=\"T_e6e9c_row2_col15\" class=\"data row2 col15\" >0</td>\n",
       "      <td id=\"T_e6e9c_row2_col16\" class=\"data row2 col16\" >0</td>\n",
       "      <td id=\"T_e6e9c_row2_col17\" class=\"data row2 col17\" >0</td>\n",
       "      <td id=\"T_e6e9c_row2_col18\" class=\"data row2 col18\" >0</td>\n",
       "      <td id=\"T_e6e9c_row2_col19\" class=\"data row2 col19\" >0</td>\n",
       "      <td id=\"T_e6e9c_row2_col20\" class=\"data row2 col20\" >0</td>\n",
       "      <td id=\"T_e6e9c_row2_col21\" class=\"data row2 col21\" >0</td>\n",
       "      <td id=\"T_e6e9c_row2_col22\" class=\"data row2 col22\" >0</td>\n",
       "      <td id=\"T_e6e9c_row2_col23\" class=\"data row2 col23\" >0</td>\n",
       "      <td id=\"T_e6e9c_row2_col24\" class=\"data row2 col24\" >0</td>\n",
       "      <td id=\"T_e6e9c_row2_col25\" class=\"data row2 col25\" >0</td>\n",
       "      <td id=\"T_e6e9c_row2_col26\" class=\"data row2 col26\" >0</td>\n",
       "      <td id=\"T_e6e9c_row2_col27\" class=\"data row2 col27\" >0</td>\n",
       "    </tr>\n",
       "    <tr>\n",
       "      <th id=\"T_e6e9c_level0_row3\" class=\"row_heading level0 row3\" >3</th>\n",
       "      <td id=\"T_e6e9c_row3_col0\" class=\"data row3 col0\" >0</td>\n",
       "      <td id=\"T_e6e9c_row3_col1\" class=\"data row3 col1\" >0</td>\n",
       "      <td id=\"T_e6e9c_row3_col2\" class=\"data row3 col2\" >0</td>\n",
       "      <td id=\"T_e6e9c_row3_col3\" class=\"data row3 col3\" >0</td>\n",
       "      <td id=\"T_e6e9c_row3_col4\" class=\"data row3 col4\" >0</td>\n",
       "      <td id=\"T_e6e9c_row3_col5\" class=\"data row3 col5\" >0</td>\n",
       "      <td id=\"T_e6e9c_row3_col6\" class=\"data row3 col6\" >0</td>\n",
       "      <td id=\"T_e6e9c_row3_col7\" class=\"data row3 col7\" >0</td>\n",
       "      <td id=\"T_e6e9c_row3_col8\" class=\"data row3 col8\" >0</td>\n",
       "      <td id=\"T_e6e9c_row3_col9\" class=\"data row3 col9\" >0</td>\n",
       "      <td id=\"T_e6e9c_row3_col10\" class=\"data row3 col10\" >0</td>\n",
       "      <td id=\"T_e6e9c_row3_col11\" class=\"data row3 col11\" >0</td>\n",
       "      <td id=\"T_e6e9c_row3_col12\" class=\"data row3 col12\" >0</td>\n",
       "      <td id=\"T_e6e9c_row3_col13\" class=\"data row3 col13\" >0</td>\n",
       "      <td id=\"T_e6e9c_row3_col14\" class=\"data row3 col14\" >0</td>\n",
       "      <td id=\"T_e6e9c_row3_col15\" class=\"data row3 col15\" >0</td>\n",
       "      <td id=\"T_e6e9c_row3_col16\" class=\"data row3 col16\" >0</td>\n",
       "      <td id=\"T_e6e9c_row3_col17\" class=\"data row3 col17\" >0</td>\n",
       "      <td id=\"T_e6e9c_row3_col18\" class=\"data row3 col18\" >0</td>\n",
       "      <td id=\"T_e6e9c_row3_col19\" class=\"data row3 col19\" >0</td>\n",
       "      <td id=\"T_e6e9c_row3_col20\" class=\"data row3 col20\" >0</td>\n",
       "      <td id=\"T_e6e9c_row3_col21\" class=\"data row3 col21\" >0</td>\n",
       "      <td id=\"T_e6e9c_row3_col22\" class=\"data row3 col22\" >0</td>\n",
       "      <td id=\"T_e6e9c_row3_col23\" class=\"data row3 col23\" >0</td>\n",
       "      <td id=\"T_e6e9c_row3_col24\" class=\"data row3 col24\" >0</td>\n",
       "      <td id=\"T_e6e9c_row3_col25\" class=\"data row3 col25\" >0</td>\n",
       "      <td id=\"T_e6e9c_row3_col26\" class=\"data row3 col26\" >0</td>\n",
       "      <td id=\"T_e6e9c_row3_col27\" class=\"data row3 col27\" >0</td>\n",
       "    </tr>\n",
       "    <tr>\n",
       "      <th id=\"T_e6e9c_level0_row4\" class=\"row_heading level0 row4\" >4</th>\n",
       "      <td id=\"T_e6e9c_row4_col0\" class=\"data row4 col0\" >0</td>\n",
       "      <td id=\"T_e6e9c_row4_col1\" class=\"data row4 col1\" >0</td>\n",
       "      <td id=\"T_e6e9c_row4_col2\" class=\"data row4 col2\" >0</td>\n",
       "      <td id=\"T_e6e9c_row4_col3\" class=\"data row4 col3\" >0</td>\n",
       "      <td id=\"T_e6e9c_row4_col4\" class=\"data row4 col4\" >0</td>\n",
       "      <td id=\"T_e6e9c_row4_col5\" class=\"data row4 col5\" >0</td>\n",
       "      <td id=\"T_e6e9c_row4_col6\" class=\"data row4 col6\" >0</td>\n",
       "      <td id=\"T_e6e9c_row4_col7\" class=\"data row4 col7\" >0</td>\n",
       "      <td id=\"T_e6e9c_row4_col8\" class=\"data row4 col8\" >0</td>\n",
       "      <td id=\"T_e6e9c_row4_col9\" class=\"data row4 col9\" >0</td>\n",
       "      <td id=\"T_e6e9c_row4_col10\" class=\"data row4 col10\" >0</td>\n",
       "      <td id=\"T_e6e9c_row4_col11\" class=\"data row4 col11\" >0</td>\n",
       "      <td id=\"T_e6e9c_row4_col12\" class=\"data row4 col12\" >0</td>\n",
       "      <td id=\"T_e6e9c_row4_col13\" class=\"data row4 col13\" >0</td>\n",
       "      <td id=\"T_e6e9c_row4_col14\" class=\"data row4 col14\" >0</td>\n",
       "      <td id=\"T_e6e9c_row4_col15\" class=\"data row4 col15\" >0</td>\n",
       "      <td id=\"T_e6e9c_row4_col16\" class=\"data row4 col16\" >0</td>\n",
       "      <td id=\"T_e6e9c_row4_col17\" class=\"data row4 col17\" >0</td>\n",
       "      <td id=\"T_e6e9c_row4_col18\" class=\"data row4 col18\" >0</td>\n",
       "      <td id=\"T_e6e9c_row4_col19\" class=\"data row4 col19\" >0</td>\n",
       "      <td id=\"T_e6e9c_row4_col20\" class=\"data row4 col20\" >0</td>\n",
       "      <td id=\"T_e6e9c_row4_col21\" class=\"data row4 col21\" >0</td>\n",
       "      <td id=\"T_e6e9c_row4_col22\" class=\"data row4 col22\" >0</td>\n",
       "      <td id=\"T_e6e9c_row4_col23\" class=\"data row4 col23\" >0</td>\n",
       "      <td id=\"T_e6e9c_row4_col24\" class=\"data row4 col24\" >0</td>\n",
       "      <td id=\"T_e6e9c_row4_col25\" class=\"data row4 col25\" >0</td>\n",
       "      <td id=\"T_e6e9c_row4_col26\" class=\"data row4 col26\" >0</td>\n",
       "      <td id=\"T_e6e9c_row4_col27\" class=\"data row4 col27\" >0</td>\n",
       "    </tr>\n",
       "    <tr>\n",
       "      <th id=\"T_e6e9c_level0_row5\" class=\"row_heading level0 row5\" >5</th>\n",
       "      <td id=\"T_e6e9c_row5_col0\" class=\"data row5 col0\" >0</td>\n",
       "      <td id=\"T_e6e9c_row5_col1\" class=\"data row5 col1\" >0</td>\n",
       "      <td id=\"T_e6e9c_row5_col2\" class=\"data row5 col2\" >0</td>\n",
       "      <td id=\"T_e6e9c_row5_col3\" class=\"data row5 col3\" >0</td>\n",
       "      <td id=\"T_e6e9c_row5_col4\" class=\"data row5 col4\" >0</td>\n",
       "      <td id=\"T_e6e9c_row5_col5\" class=\"data row5 col5\" >0</td>\n",
       "      <td id=\"T_e6e9c_row5_col6\" class=\"data row5 col6\" >0</td>\n",
       "      <td id=\"T_e6e9c_row5_col7\" class=\"data row5 col7\" >0</td>\n",
       "      <td id=\"T_e6e9c_row5_col8\" class=\"data row5 col8\" >0</td>\n",
       "      <td id=\"T_e6e9c_row5_col9\" class=\"data row5 col9\" >29</td>\n",
       "      <td id=\"T_e6e9c_row5_col10\" class=\"data row5 col10\" >150</td>\n",
       "      <td id=\"T_e6e9c_row5_col11\" class=\"data row5 col11\" >195</td>\n",
       "      <td id=\"T_e6e9c_row5_col12\" class=\"data row5 col12\" >254</td>\n",
       "      <td id=\"T_e6e9c_row5_col13\" class=\"data row5 col13\" >255</td>\n",
       "      <td id=\"T_e6e9c_row5_col14\" class=\"data row5 col14\" >254</td>\n",
       "      <td id=\"T_e6e9c_row5_col15\" class=\"data row5 col15\" >176</td>\n",
       "      <td id=\"T_e6e9c_row5_col16\" class=\"data row5 col16\" >193</td>\n",
       "      <td id=\"T_e6e9c_row5_col17\" class=\"data row5 col17\" >150</td>\n",
       "      <td id=\"T_e6e9c_row5_col18\" class=\"data row5 col18\" >96</td>\n",
       "      <td id=\"T_e6e9c_row5_col19\" class=\"data row5 col19\" >0</td>\n",
       "      <td id=\"T_e6e9c_row5_col20\" class=\"data row5 col20\" >0</td>\n",
       "      <td id=\"T_e6e9c_row5_col21\" class=\"data row5 col21\" >0</td>\n",
       "      <td id=\"T_e6e9c_row5_col22\" class=\"data row5 col22\" >0</td>\n",
       "      <td id=\"T_e6e9c_row5_col23\" class=\"data row5 col23\" >0</td>\n",
       "      <td id=\"T_e6e9c_row5_col24\" class=\"data row5 col24\" >0</td>\n",
       "      <td id=\"T_e6e9c_row5_col25\" class=\"data row5 col25\" >0</td>\n",
       "      <td id=\"T_e6e9c_row5_col26\" class=\"data row5 col26\" >0</td>\n",
       "      <td id=\"T_e6e9c_row5_col27\" class=\"data row5 col27\" >0</td>\n",
       "    </tr>\n",
       "    <tr>\n",
       "      <th id=\"T_e6e9c_level0_row6\" class=\"row_heading level0 row6\" >6</th>\n",
       "      <td id=\"T_e6e9c_row6_col0\" class=\"data row6 col0\" >0</td>\n",
       "      <td id=\"T_e6e9c_row6_col1\" class=\"data row6 col1\" >0</td>\n",
       "      <td id=\"T_e6e9c_row6_col2\" class=\"data row6 col2\" >0</td>\n",
       "      <td id=\"T_e6e9c_row6_col3\" class=\"data row6 col3\" >0</td>\n",
       "      <td id=\"T_e6e9c_row6_col4\" class=\"data row6 col4\" >0</td>\n",
       "      <td id=\"T_e6e9c_row6_col5\" class=\"data row6 col5\" >0</td>\n",
       "      <td id=\"T_e6e9c_row6_col6\" class=\"data row6 col6\" >0</td>\n",
       "      <td id=\"T_e6e9c_row6_col7\" class=\"data row6 col7\" >48</td>\n",
       "      <td id=\"T_e6e9c_row6_col8\" class=\"data row6 col8\" >166</td>\n",
       "      <td id=\"T_e6e9c_row6_col9\" class=\"data row6 col9\" >224</td>\n",
       "      <td id=\"T_e6e9c_row6_col10\" class=\"data row6 col10\" >253</td>\n",
       "      <td id=\"T_e6e9c_row6_col11\" class=\"data row6 col11\" >253</td>\n",
       "      <td id=\"T_e6e9c_row6_col12\" class=\"data row6 col12\" >234</td>\n",
       "      <td id=\"T_e6e9c_row6_col13\" class=\"data row6 col13\" >196</td>\n",
       "      <td id=\"T_e6e9c_row6_col14\" class=\"data row6 col14\" >253</td>\n",
       "      <td id=\"T_e6e9c_row6_col15\" class=\"data row6 col15\" >253</td>\n",
       "      <td id=\"T_e6e9c_row6_col16\" class=\"data row6 col16\" >253</td>\n",
       "      <td id=\"T_e6e9c_row6_col17\" class=\"data row6 col17\" >253</td>\n",
       "      <td id=\"T_e6e9c_row6_col18\" class=\"data row6 col18\" >233</td>\n",
       "      <td id=\"T_e6e9c_row6_col19\" class=\"data row6 col19\" >0</td>\n",
       "      <td id=\"T_e6e9c_row6_col20\" class=\"data row6 col20\" >0</td>\n",
       "      <td id=\"T_e6e9c_row6_col21\" class=\"data row6 col21\" >0</td>\n",
       "      <td id=\"T_e6e9c_row6_col22\" class=\"data row6 col22\" >0</td>\n",
       "      <td id=\"T_e6e9c_row6_col23\" class=\"data row6 col23\" >0</td>\n",
       "      <td id=\"T_e6e9c_row6_col24\" class=\"data row6 col24\" >0</td>\n",
       "      <td id=\"T_e6e9c_row6_col25\" class=\"data row6 col25\" >0</td>\n",
       "      <td id=\"T_e6e9c_row6_col26\" class=\"data row6 col26\" >0</td>\n",
       "      <td id=\"T_e6e9c_row6_col27\" class=\"data row6 col27\" >0</td>\n",
       "    </tr>\n",
       "    <tr>\n",
       "      <th id=\"T_e6e9c_level0_row7\" class=\"row_heading level0 row7\" >7</th>\n",
       "      <td id=\"T_e6e9c_row7_col0\" class=\"data row7 col0\" >0</td>\n",
       "      <td id=\"T_e6e9c_row7_col1\" class=\"data row7 col1\" >0</td>\n",
       "      <td id=\"T_e6e9c_row7_col2\" class=\"data row7 col2\" >0</td>\n",
       "      <td id=\"T_e6e9c_row7_col3\" class=\"data row7 col3\" >0</td>\n",
       "      <td id=\"T_e6e9c_row7_col4\" class=\"data row7 col4\" >0</td>\n",
       "      <td id=\"T_e6e9c_row7_col5\" class=\"data row7 col5\" >93</td>\n",
       "      <td id=\"T_e6e9c_row7_col6\" class=\"data row7 col6\" >244</td>\n",
       "      <td id=\"T_e6e9c_row7_col7\" class=\"data row7 col7\" >249</td>\n",
       "      <td id=\"T_e6e9c_row7_col8\" class=\"data row7 col8\" >253</td>\n",
       "      <td id=\"T_e6e9c_row7_col9\" class=\"data row7 col9\" >187</td>\n",
       "      <td id=\"T_e6e9c_row7_col10\" class=\"data row7 col10\" >46</td>\n",
       "      <td id=\"T_e6e9c_row7_col11\" class=\"data row7 col11\" >10</td>\n",
       "      <td id=\"T_e6e9c_row7_col12\" class=\"data row7 col12\" >8</td>\n",
       "      <td id=\"T_e6e9c_row7_col13\" class=\"data row7 col13\" >4</td>\n",
       "      <td id=\"T_e6e9c_row7_col14\" class=\"data row7 col14\" >10</td>\n",
       "      <td id=\"T_e6e9c_row7_col15\" class=\"data row7 col15\" >194</td>\n",
       "      <td id=\"T_e6e9c_row7_col16\" class=\"data row7 col16\" >253</td>\n",
       "      <td id=\"T_e6e9c_row7_col17\" class=\"data row7 col17\" >253</td>\n",
       "      <td id=\"T_e6e9c_row7_col18\" class=\"data row7 col18\" >233</td>\n",
       "      <td id=\"T_e6e9c_row7_col19\" class=\"data row7 col19\" >0</td>\n",
       "      <td id=\"T_e6e9c_row7_col20\" class=\"data row7 col20\" >0</td>\n",
       "      <td id=\"T_e6e9c_row7_col21\" class=\"data row7 col21\" >0</td>\n",
       "      <td id=\"T_e6e9c_row7_col22\" class=\"data row7 col22\" >0</td>\n",
       "      <td id=\"T_e6e9c_row7_col23\" class=\"data row7 col23\" >0</td>\n",
       "      <td id=\"T_e6e9c_row7_col24\" class=\"data row7 col24\" >0</td>\n",
       "      <td id=\"T_e6e9c_row7_col25\" class=\"data row7 col25\" >0</td>\n",
       "      <td id=\"T_e6e9c_row7_col26\" class=\"data row7 col26\" >0</td>\n",
       "      <td id=\"T_e6e9c_row7_col27\" class=\"data row7 col27\" >0</td>\n",
       "    </tr>\n",
       "    <tr>\n",
       "      <th id=\"T_e6e9c_level0_row8\" class=\"row_heading level0 row8\" >8</th>\n",
       "      <td id=\"T_e6e9c_row8_col0\" class=\"data row8 col0\" >0</td>\n",
       "      <td id=\"T_e6e9c_row8_col1\" class=\"data row8 col1\" >0</td>\n",
       "      <td id=\"T_e6e9c_row8_col2\" class=\"data row8 col2\" >0</td>\n",
       "      <td id=\"T_e6e9c_row8_col3\" class=\"data row8 col3\" >0</td>\n",
       "      <td id=\"T_e6e9c_row8_col4\" class=\"data row8 col4\" >0</td>\n",
       "      <td id=\"T_e6e9c_row8_col5\" class=\"data row8 col5\" >107</td>\n",
       "      <td id=\"T_e6e9c_row8_col6\" class=\"data row8 col6\" >253</td>\n",
       "      <td id=\"T_e6e9c_row8_col7\" class=\"data row8 col7\" >253</td>\n",
       "      <td id=\"T_e6e9c_row8_col8\" class=\"data row8 col8\" >230</td>\n",
       "      <td id=\"T_e6e9c_row8_col9\" class=\"data row8 col9\" >48</td>\n",
       "      <td id=\"T_e6e9c_row8_col10\" class=\"data row8 col10\" >0</td>\n",
       "      <td id=\"T_e6e9c_row8_col11\" class=\"data row8 col11\" >0</td>\n",
       "      <td id=\"T_e6e9c_row8_col12\" class=\"data row8 col12\" >0</td>\n",
       "      <td id=\"T_e6e9c_row8_col13\" class=\"data row8 col13\" >0</td>\n",
       "      <td id=\"T_e6e9c_row8_col14\" class=\"data row8 col14\" >0</td>\n",
       "      <td id=\"T_e6e9c_row8_col15\" class=\"data row8 col15\" >192</td>\n",
       "      <td id=\"T_e6e9c_row8_col16\" class=\"data row8 col16\" >253</td>\n",
       "      <td id=\"T_e6e9c_row8_col17\" class=\"data row8 col17\" >253</td>\n",
       "      <td id=\"T_e6e9c_row8_col18\" class=\"data row8 col18\" >156</td>\n",
       "      <td id=\"T_e6e9c_row8_col19\" class=\"data row8 col19\" >0</td>\n",
       "      <td id=\"T_e6e9c_row8_col20\" class=\"data row8 col20\" >0</td>\n",
       "      <td id=\"T_e6e9c_row8_col21\" class=\"data row8 col21\" >0</td>\n",
       "      <td id=\"T_e6e9c_row8_col22\" class=\"data row8 col22\" >0</td>\n",
       "      <td id=\"T_e6e9c_row8_col23\" class=\"data row8 col23\" >0</td>\n",
       "      <td id=\"T_e6e9c_row8_col24\" class=\"data row8 col24\" >0</td>\n",
       "      <td id=\"T_e6e9c_row8_col25\" class=\"data row8 col25\" >0</td>\n",
       "      <td id=\"T_e6e9c_row8_col26\" class=\"data row8 col26\" >0</td>\n",
       "      <td id=\"T_e6e9c_row8_col27\" class=\"data row8 col27\" >0</td>\n",
       "    </tr>\n",
       "    <tr>\n",
       "      <th id=\"T_e6e9c_level0_row9\" class=\"row_heading level0 row9\" >9</th>\n",
       "      <td id=\"T_e6e9c_row9_col0\" class=\"data row9 col0\" >0</td>\n",
       "      <td id=\"T_e6e9c_row9_col1\" class=\"data row9 col1\" >0</td>\n",
       "      <td id=\"T_e6e9c_row9_col2\" class=\"data row9 col2\" >0</td>\n",
       "      <td id=\"T_e6e9c_row9_col3\" class=\"data row9 col3\" >0</td>\n",
       "      <td id=\"T_e6e9c_row9_col4\" class=\"data row9 col4\" >0</td>\n",
       "      <td id=\"T_e6e9c_row9_col5\" class=\"data row9 col5\" >3</td>\n",
       "      <td id=\"T_e6e9c_row9_col6\" class=\"data row9 col6\" >20</td>\n",
       "      <td id=\"T_e6e9c_row9_col7\" class=\"data row9 col7\" >20</td>\n",
       "      <td id=\"T_e6e9c_row9_col8\" class=\"data row9 col8\" >15</td>\n",
       "      <td id=\"T_e6e9c_row9_col9\" class=\"data row9 col9\" >0</td>\n",
       "      <td id=\"T_e6e9c_row9_col10\" class=\"data row9 col10\" >0</td>\n",
       "      <td id=\"T_e6e9c_row9_col11\" class=\"data row9 col11\" >0</td>\n",
       "      <td id=\"T_e6e9c_row9_col12\" class=\"data row9 col12\" >0</td>\n",
       "      <td id=\"T_e6e9c_row9_col13\" class=\"data row9 col13\" >0</td>\n",
       "      <td id=\"T_e6e9c_row9_col14\" class=\"data row9 col14\" >43</td>\n",
       "      <td id=\"T_e6e9c_row9_col15\" class=\"data row9 col15\" >224</td>\n",
       "      <td id=\"T_e6e9c_row9_col16\" class=\"data row9 col16\" >253</td>\n",
       "      <td id=\"T_e6e9c_row9_col17\" class=\"data row9 col17\" >245</td>\n",
       "      <td id=\"T_e6e9c_row9_col18\" class=\"data row9 col18\" >74</td>\n",
       "      <td id=\"T_e6e9c_row9_col19\" class=\"data row9 col19\" >0</td>\n",
       "      <td id=\"T_e6e9c_row9_col20\" class=\"data row9 col20\" >0</td>\n",
       "      <td id=\"T_e6e9c_row9_col21\" class=\"data row9 col21\" >0</td>\n",
       "      <td id=\"T_e6e9c_row9_col22\" class=\"data row9 col22\" >0</td>\n",
       "      <td id=\"T_e6e9c_row9_col23\" class=\"data row9 col23\" >0</td>\n",
       "      <td id=\"T_e6e9c_row9_col24\" class=\"data row9 col24\" >0</td>\n",
       "      <td id=\"T_e6e9c_row9_col25\" class=\"data row9 col25\" >0</td>\n",
       "      <td id=\"T_e6e9c_row9_col26\" class=\"data row9 col26\" >0</td>\n",
       "      <td id=\"T_e6e9c_row9_col27\" class=\"data row9 col27\" >0</td>\n",
       "    </tr>\n",
       "    <tr>\n",
       "      <th id=\"T_e6e9c_level0_row10\" class=\"row_heading level0 row10\" >10</th>\n",
       "      <td id=\"T_e6e9c_row10_col0\" class=\"data row10 col0\" >0</td>\n",
       "      <td id=\"T_e6e9c_row10_col1\" class=\"data row10 col1\" >0</td>\n",
       "      <td id=\"T_e6e9c_row10_col2\" class=\"data row10 col2\" >0</td>\n",
       "      <td id=\"T_e6e9c_row10_col3\" class=\"data row10 col3\" >0</td>\n",
       "      <td id=\"T_e6e9c_row10_col4\" class=\"data row10 col4\" >0</td>\n",
       "      <td id=\"T_e6e9c_row10_col5\" class=\"data row10 col5\" >0</td>\n",
       "      <td id=\"T_e6e9c_row10_col6\" class=\"data row10 col6\" >0</td>\n",
       "      <td id=\"T_e6e9c_row10_col7\" class=\"data row10 col7\" >0</td>\n",
       "      <td id=\"T_e6e9c_row10_col8\" class=\"data row10 col8\" >0</td>\n",
       "      <td id=\"T_e6e9c_row10_col9\" class=\"data row10 col9\" >0</td>\n",
       "      <td id=\"T_e6e9c_row10_col10\" class=\"data row10 col10\" >0</td>\n",
       "      <td id=\"T_e6e9c_row10_col11\" class=\"data row10 col11\" >0</td>\n",
       "      <td id=\"T_e6e9c_row10_col12\" class=\"data row10 col12\" >0</td>\n",
       "      <td id=\"T_e6e9c_row10_col13\" class=\"data row10 col13\" >0</td>\n",
       "      <td id=\"T_e6e9c_row10_col14\" class=\"data row10 col14\" >249</td>\n",
       "      <td id=\"T_e6e9c_row10_col15\" class=\"data row10 col15\" >253</td>\n",
       "      <td id=\"T_e6e9c_row10_col16\" class=\"data row10 col16\" >245</td>\n",
       "      <td id=\"T_e6e9c_row10_col17\" class=\"data row10 col17\" >126</td>\n",
       "      <td id=\"T_e6e9c_row10_col18\" class=\"data row10 col18\" >0</td>\n",
       "      <td id=\"T_e6e9c_row10_col19\" class=\"data row10 col19\" >0</td>\n",
       "      <td id=\"T_e6e9c_row10_col20\" class=\"data row10 col20\" >0</td>\n",
       "      <td id=\"T_e6e9c_row10_col21\" class=\"data row10 col21\" >0</td>\n",
       "      <td id=\"T_e6e9c_row10_col22\" class=\"data row10 col22\" >0</td>\n",
       "      <td id=\"T_e6e9c_row10_col23\" class=\"data row10 col23\" >0</td>\n",
       "      <td id=\"T_e6e9c_row10_col24\" class=\"data row10 col24\" >0</td>\n",
       "      <td id=\"T_e6e9c_row10_col25\" class=\"data row10 col25\" >0</td>\n",
       "      <td id=\"T_e6e9c_row10_col26\" class=\"data row10 col26\" >0</td>\n",
       "      <td id=\"T_e6e9c_row10_col27\" class=\"data row10 col27\" >0</td>\n",
       "    </tr>\n",
       "    <tr>\n",
       "      <th id=\"T_e6e9c_level0_row11\" class=\"row_heading level0 row11\" >11</th>\n",
       "      <td id=\"T_e6e9c_row11_col0\" class=\"data row11 col0\" >0</td>\n",
       "      <td id=\"T_e6e9c_row11_col1\" class=\"data row11 col1\" >0</td>\n",
       "      <td id=\"T_e6e9c_row11_col2\" class=\"data row11 col2\" >0</td>\n",
       "      <td id=\"T_e6e9c_row11_col3\" class=\"data row11 col3\" >0</td>\n",
       "      <td id=\"T_e6e9c_row11_col4\" class=\"data row11 col4\" >0</td>\n",
       "      <td id=\"T_e6e9c_row11_col5\" class=\"data row11 col5\" >0</td>\n",
       "      <td id=\"T_e6e9c_row11_col6\" class=\"data row11 col6\" >0</td>\n",
       "      <td id=\"T_e6e9c_row11_col7\" class=\"data row11 col7\" >0</td>\n",
       "      <td id=\"T_e6e9c_row11_col8\" class=\"data row11 col8\" >0</td>\n",
       "      <td id=\"T_e6e9c_row11_col9\" class=\"data row11 col9\" >0</td>\n",
       "      <td id=\"T_e6e9c_row11_col10\" class=\"data row11 col10\" >0</td>\n",
       "      <td id=\"T_e6e9c_row11_col11\" class=\"data row11 col11\" >14</td>\n",
       "      <td id=\"T_e6e9c_row11_col12\" class=\"data row11 col12\" >101</td>\n",
       "      <td id=\"T_e6e9c_row11_col13\" class=\"data row11 col13\" >223</td>\n",
       "      <td id=\"T_e6e9c_row11_col14\" class=\"data row11 col14\" >253</td>\n",
       "      <td id=\"T_e6e9c_row11_col15\" class=\"data row11 col15\" >248</td>\n",
       "      <td id=\"T_e6e9c_row11_col16\" class=\"data row11 col16\" >124</td>\n",
       "      <td id=\"T_e6e9c_row11_col17\" class=\"data row11 col17\" >0</td>\n",
       "      <td id=\"T_e6e9c_row11_col18\" class=\"data row11 col18\" >0</td>\n",
       "      <td id=\"T_e6e9c_row11_col19\" class=\"data row11 col19\" >0</td>\n",
       "      <td id=\"T_e6e9c_row11_col20\" class=\"data row11 col20\" >0</td>\n",
       "      <td id=\"T_e6e9c_row11_col21\" class=\"data row11 col21\" >0</td>\n",
       "      <td id=\"T_e6e9c_row11_col22\" class=\"data row11 col22\" >0</td>\n",
       "      <td id=\"T_e6e9c_row11_col23\" class=\"data row11 col23\" >0</td>\n",
       "      <td id=\"T_e6e9c_row11_col24\" class=\"data row11 col24\" >0</td>\n",
       "      <td id=\"T_e6e9c_row11_col25\" class=\"data row11 col25\" >0</td>\n",
       "      <td id=\"T_e6e9c_row11_col26\" class=\"data row11 col26\" >0</td>\n",
       "      <td id=\"T_e6e9c_row11_col27\" class=\"data row11 col27\" >0</td>\n",
       "    </tr>\n",
       "    <tr>\n",
       "      <th id=\"T_e6e9c_level0_row12\" class=\"row_heading level0 row12\" >12</th>\n",
       "      <td id=\"T_e6e9c_row12_col0\" class=\"data row12 col0\" >0</td>\n",
       "      <td id=\"T_e6e9c_row12_col1\" class=\"data row12 col1\" >0</td>\n",
       "      <td id=\"T_e6e9c_row12_col2\" class=\"data row12 col2\" >0</td>\n",
       "      <td id=\"T_e6e9c_row12_col3\" class=\"data row12 col3\" >0</td>\n",
       "      <td id=\"T_e6e9c_row12_col4\" class=\"data row12 col4\" >0</td>\n",
       "      <td id=\"T_e6e9c_row12_col5\" class=\"data row12 col5\" >0</td>\n",
       "      <td id=\"T_e6e9c_row12_col6\" class=\"data row12 col6\" >0</td>\n",
       "      <td id=\"T_e6e9c_row12_col7\" class=\"data row12 col7\" >0</td>\n",
       "      <td id=\"T_e6e9c_row12_col8\" class=\"data row12 col8\" >0</td>\n",
       "      <td id=\"T_e6e9c_row12_col9\" class=\"data row12 col9\" >11</td>\n",
       "      <td id=\"T_e6e9c_row12_col10\" class=\"data row12 col10\" >166</td>\n",
       "      <td id=\"T_e6e9c_row12_col11\" class=\"data row12 col11\" >239</td>\n",
       "      <td id=\"T_e6e9c_row12_col12\" class=\"data row12 col12\" >253</td>\n",
       "      <td id=\"T_e6e9c_row12_col13\" class=\"data row12 col13\" >253</td>\n",
       "      <td id=\"T_e6e9c_row12_col14\" class=\"data row12 col14\" >253</td>\n",
       "      <td id=\"T_e6e9c_row12_col15\" class=\"data row12 col15\" >187</td>\n",
       "      <td id=\"T_e6e9c_row12_col16\" class=\"data row12 col16\" >30</td>\n",
       "      <td id=\"T_e6e9c_row12_col17\" class=\"data row12 col17\" >0</td>\n",
       "      <td id=\"T_e6e9c_row12_col18\" class=\"data row12 col18\" >0</td>\n",
       "      <td id=\"T_e6e9c_row12_col19\" class=\"data row12 col19\" >0</td>\n",
       "      <td id=\"T_e6e9c_row12_col20\" class=\"data row12 col20\" >0</td>\n",
       "      <td id=\"T_e6e9c_row12_col21\" class=\"data row12 col21\" >0</td>\n",
       "      <td id=\"T_e6e9c_row12_col22\" class=\"data row12 col22\" >0</td>\n",
       "      <td id=\"T_e6e9c_row12_col23\" class=\"data row12 col23\" >0</td>\n",
       "      <td id=\"T_e6e9c_row12_col24\" class=\"data row12 col24\" >0</td>\n",
       "      <td id=\"T_e6e9c_row12_col25\" class=\"data row12 col25\" >0</td>\n",
       "      <td id=\"T_e6e9c_row12_col26\" class=\"data row12 col26\" >0</td>\n",
       "      <td id=\"T_e6e9c_row12_col27\" class=\"data row12 col27\" >0</td>\n",
       "    </tr>\n",
       "    <tr>\n",
       "      <th id=\"T_e6e9c_level0_row13\" class=\"row_heading level0 row13\" >13</th>\n",
       "      <td id=\"T_e6e9c_row13_col0\" class=\"data row13 col0\" >0</td>\n",
       "      <td id=\"T_e6e9c_row13_col1\" class=\"data row13 col1\" >0</td>\n",
       "      <td id=\"T_e6e9c_row13_col2\" class=\"data row13 col2\" >0</td>\n",
       "      <td id=\"T_e6e9c_row13_col3\" class=\"data row13 col3\" >0</td>\n",
       "      <td id=\"T_e6e9c_row13_col4\" class=\"data row13 col4\" >0</td>\n",
       "      <td id=\"T_e6e9c_row13_col5\" class=\"data row13 col5\" >0</td>\n",
       "      <td id=\"T_e6e9c_row13_col6\" class=\"data row13 col6\" >0</td>\n",
       "      <td id=\"T_e6e9c_row13_col7\" class=\"data row13 col7\" >0</td>\n",
       "      <td id=\"T_e6e9c_row13_col8\" class=\"data row13 col8\" >0</td>\n",
       "      <td id=\"T_e6e9c_row13_col9\" class=\"data row13 col9\" >16</td>\n",
       "      <td id=\"T_e6e9c_row13_col10\" class=\"data row13 col10\" >248</td>\n",
       "      <td id=\"T_e6e9c_row13_col11\" class=\"data row13 col11\" >250</td>\n",
       "      <td id=\"T_e6e9c_row13_col12\" class=\"data row13 col12\" >253</td>\n",
       "      <td id=\"T_e6e9c_row13_col13\" class=\"data row13 col13\" >253</td>\n",
       "      <td id=\"T_e6e9c_row13_col14\" class=\"data row13 col14\" >253</td>\n",
       "      <td id=\"T_e6e9c_row13_col15\" class=\"data row13 col15\" >253</td>\n",
       "      <td id=\"T_e6e9c_row13_col16\" class=\"data row13 col16\" >232</td>\n",
       "      <td id=\"T_e6e9c_row13_col17\" class=\"data row13 col17\" >213</td>\n",
       "      <td id=\"T_e6e9c_row13_col18\" class=\"data row13 col18\" >111</td>\n",
       "      <td id=\"T_e6e9c_row13_col19\" class=\"data row13 col19\" >2</td>\n",
       "      <td id=\"T_e6e9c_row13_col20\" class=\"data row13 col20\" >0</td>\n",
       "      <td id=\"T_e6e9c_row13_col21\" class=\"data row13 col21\" >0</td>\n",
       "      <td id=\"T_e6e9c_row13_col22\" class=\"data row13 col22\" >0</td>\n",
       "      <td id=\"T_e6e9c_row13_col23\" class=\"data row13 col23\" >0</td>\n",
       "      <td id=\"T_e6e9c_row13_col24\" class=\"data row13 col24\" >0</td>\n",
       "      <td id=\"T_e6e9c_row13_col25\" class=\"data row13 col25\" >0</td>\n",
       "      <td id=\"T_e6e9c_row13_col26\" class=\"data row13 col26\" >0</td>\n",
       "      <td id=\"T_e6e9c_row13_col27\" class=\"data row13 col27\" >0</td>\n",
       "    </tr>\n",
       "    <tr>\n",
       "      <th id=\"T_e6e9c_level0_row14\" class=\"row_heading level0 row14\" >14</th>\n",
       "      <td id=\"T_e6e9c_row14_col0\" class=\"data row14 col0\" >0</td>\n",
       "      <td id=\"T_e6e9c_row14_col1\" class=\"data row14 col1\" >0</td>\n",
       "      <td id=\"T_e6e9c_row14_col2\" class=\"data row14 col2\" >0</td>\n",
       "      <td id=\"T_e6e9c_row14_col3\" class=\"data row14 col3\" >0</td>\n",
       "      <td id=\"T_e6e9c_row14_col4\" class=\"data row14 col4\" >0</td>\n",
       "      <td id=\"T_e6e9c_row14_col5\" class=\"data row14 col5\" >0</td>\n",
       "      <td id=\"T_e6e9c_row14_col6\" class=\"data row14 col6\" >0</td>\n",
       "      <td id=\"T_e6e9c_row14_col7\" class=\"data row14 col7\" >0</td>\n",
       "      <td id=\"T_e6e9c_row14_col8\" class=\"data row14 col8\" >0</td>\n",
       "      <td id=\"T_e6e9c_row14_col9\" class=\"data row14 col9\" >0</td>\n",
       "      <td id=\"T_e6e9c_row14_col10\" class=\"data row14 col10\" >0</td>\n",
       "      <td id=\"T_e6e9c_row14_col11\" class=\"data row14 col11\" >43</td>\n",
       "      <td id=\"T_e6e9c_row14_col12\" class=\"data row14 col12\" >98</td>\n",
       "      <td id=\"T_e6e9c_row14_col13\" class=\"data row14 col13\" >98</td>\n",
       "      <td id=\"T_e6e9c_row14_col14\" class=\"data row14 col14\" >208</td>\n",
       "      <td id=\"T_e6e9c_row14_col15\" class=\"data row14 col15\" >253</td>\n",
       "      <td id=\"T_e6e9c_row14_col16\" class=\"data row14 col16\" >253</td>\n",
       "      <td id=\"T_e6e9c_row14_col17\" class=\"data row14 col17\" >253</td>\n",
       "      <td id=\"T_e6e9c_row14_col18\" class=\"data row14 col18\" >253</td>\n",
       "      <td id=\"T_e6e9c_row14_col19\" class=\"data row14 col19\" >187</td>\n",
       "      <td id=\"T_e6e9c_row14_col20\" class=\"data row14 col20\" >22</td>\n",
       "      <td id=\"T_e6e9c_row14_col21\" class=\"data row14 col21\" >0</td>\n",
       "      <td id=\"T_e6e9c_row14_col22\" class=\"data row14 col22\" >0</td>\n",
       "      <td id=\"T_e6e9c_row14_col23\" class=\"data row14 col23\" >0</td>\n",
       "      <td id=\"T_e6e9c_row14_col24\" class=\"data row14 col24\" >0</td>\n",
       "      <td id=\"T_e6e9c_row14_col25\" class=\"data row14 col25\" >0</td>\n",
       "      <td id=\"T_e6e9c_row14_col26\" class=\"data row14 col26\" >0</td>\n",
       "      <td id=\"T_e6e9c_row14_col27\" class=\"data row14 col27\" >0</td>\n",
       "    </tr>\n",
       "    <tr>\n",
       "      <th id=\"T_e6e9c_level0_row15\" class=\"row_heading level0 row15\" >15</th>\n",
       "      <td id=\"T_e6e9c_row15_col0\" class=\"data row15 col0\" >0</td>\n",
       "      <td id=\"T_e6e9c_row15_col1\" class=\"data row15 col1\" >0</td>\n",
       "      <td id=\"T_e6e9c_row15_col2\" class=\"data row15 col2\" >0</td>\n",
       "      <td id=\"T_e6e9c_row15_col3\" class=\"data row15 col3\" >0</td>\n",
       "      <td id=\"T_e6e9c_row15_col4\" class=\"data row15 col4\" >0</td>\n",
       "      <td id=\"T_e6e9c_row15_col5\" class=\"data row15 col5\" >0</td>\n",
       "      <td id=\"T_e6e9c_row15_col6\" class=\"data row15 col6\" >0</td>\n",
       "      <td id=\"T_e6e9c_row15_col7\" class=\"data row15 col7\" >0</td>\n",
       "      <td id=\"T_e6e9c_row15_col8\" class=\"data row15 col8\" >0</td>\n",
       "      <td id=\"T_e6e9c_row15_col9\" class=\"data row15 col9\" >0</td>\n",
       "      <td id=\"T_e6e9c_row15_col10\" class=\"data row15 col10\" >0</td>\n",
       "      <td id=\"T_e6e9c_row15_col11\" class=\"data row15 col11\" >0</td>\n",
       "      <td id=\"T_e6e9c_row15_col12\" class=\"data row15 col12\" >0</td>\n",
       "      <td id=\"T_e6e9c_row15_col13\" class=\"data row15 col13\" >0</td>\n",
       "      <td id=\"T_e6e9c_row15_col14\" class=\"data row15 col14\" >9</td>\n",
       "      <td id=\"T_e6e9c_row15_col15\" class=\"data row15 col15\" >51</td>\n",
       "      <td id=\"T_e6e9c_row15_col16\" class=\"data row15 col16\" >119</td>\n",
       "      <td id=\"T_e6e9c_row15_col17\" class=\"data row15 col17\" >253</td>\n",
       "      <td id=\"T_e6e9c_row15_col18\" class=\"data row15 col18\" >253</td>\n",
       "      <td id=\"T_e6e9c_row15_col19\" class=\"data row15 col19\" >253</td>\n",
       "      <td id=\"T_e6e9c_row15_col20\" class=\"data row15 col20\" >76</td>\n",
       "      <td id=\"T_e6e9c_row15_col21\" class=\"data row15 col21\" >0</td>\n",
       "      <td id=\"T_e6e9c_row15_col22\" class=\"data row15 col22\" >0</td>\n",
       "      <td id=\"T_e6e9c_row15_col23\" class=\"data row15 col23\" >0</td>\n",
       "      <td id=\"T_e6e9c_row15_col24\" class=\"data row15 col24\" >0</td>\n",
       "      <td id=\"T_e6e9c_row15_col25\" class=\"data row15 col25\" >0</td>\n",
       "      <td id=\"T_e6e9c_row15_col26\" class=\"data row15 col26\" >0</td>\n",
       "      <td id=\"T_e6e9c_row15_col27\" class=\"data row15 col27\" >0</td>\n",
       "    </tr>\n",
       "    <tr>\n",
       "      <th id=\"T_e6e9c_level0_row16\" class=\"row_heading level0 row16\" >16</th>\n",
       "      <td id=\"T_e6e9c_row16_col0\" class=\"data row16 col0\" >0</td>\n",
       "      <td id=\"T_e6e9c_row16_col1\" class=\"data row16 col1\" >0</td>\n",
       "      <td id=\"T_e6e9c_row16_col2\" class=\"data row16 col2\" >0</td>\n",
       "      <td id=\"T_e6e9c_row16_col3\" class=\"data row16 col3\" >0</td>\n",
       "      <td id=\"T_e6e9c_row16_col4\" class=\"data row16 col4\" >0</td>\n",
       "      <td id=\"T_e6e9c_row16_col5\" class=\"data row16 col5\" >0</td>\n",
       "      <td id=\"T_e6e9c_row16_col6\" class=\"data row16 col6\" >0</td>\n",
       "      <td id=\"T_e6e9c_row16_col7\" class=\"data row16 col7\" >0</td>\n",
       "      <td id=\"T_e6e9c_row16_col8\" class=\"data row16 col8\" >0</td>\n",
       "      <td id=\"T_e6e9c_row16_col9\" class=\"data row16 col9\" >0</td>\n",
       "      <td id=\"T_e6e9c_row16_col10\" class=\"data row16 col10\" >0</td>\n",
       "      <td id=\"T_e6e9c_row16_col11\" class=\"data row16 col11\" >0</td>\n",
       "      <td id=\"T_e6e9c_row16_col12\" class=\"data row16 col12\" >0</td>\n",
       "      <td id=\"T_e6e9c_row16_col13\" class=\"data row16 col13\" >0</td>\n",
       "      <td id=\"T_e6e9c_row16_col14\" class=\"data row16 col14\" >0</td>\n",
       "      <td id=\"T_e6e9c_row16_col15\" class=\"data row16 col15\" >0</td>\n",
       "      <td id=\"T_e6e9c_row16_col16\" class=\"data row16 col16\" >1</td>\n",
       "      <td id=\"T_e6e9c_row16_col17\" class=\"data row16 col17\" >183</td>\n",
       "      <td id=\"T_e6e9c_row16_col18\" class=\"data row16 col18\" >253</td>\n",
       "      <td id=\"T_e6e9c_row16_col19\" class=\"data row16 col19\" >253</td>\n",
       "      <td id=\"T_e6e9c_row16_col20\" class=\"data row16 col20\" >139</td>\n",
       "      <td id=\"T_e6e9c_row16_col21\" class=\"data row16 col21\" >0</td>\n",
       "      <td id=\"T_e6e9c_row16_col22\" class=\"data row16 col22\" >0</td>\n",
       "      <td id=\"T_e6e9c_row16_col23\" class=\"data row16 col23\" >0</td>\n",
       "      <td id=\"T_e6e9c_row16_col24\" class=\"data row16 col24\" >0</td>\n",
       "      <td id=\"T_e6e9c_row16_col25\" class=\"data row16 col25\" >0</td>\n",
       "      <td id=\"T_e6e9c_row16_col26\" class=\"data row16 col26\" >0</td>\n",
       "      <td id=\"T_e6e9c_row16_col27\" class=\"data row16 col27\" >0</td>\n",
       "    </tr>\n",
       "    <tr>\n",
       "      <th id=\"T_e6e9c_level0_row17\" class=\"row_heading level0 row17\" >17</th>\n",
       "      <td id=\"T_e6e9c_row17_col0\" class=\"data row17 col0\" >0</td>\n",
       "      <td id=\"T_e6e9c_row17_col1\" class=\"data row17 col1\" >0</td>\n",
       "      <td id=\"T_e6e9c_row17_col2\" class=\"data row17 col2\" >0</td>\n",
       "      <td id=\"T_e6e9c_row17_col3\" class=\"data row17 col3\" >0</td>\n",
       "      <td id=\"T_e6e9c_row17_col4\" class=\"data row17 col4\" >0</td>\n",
       "      <td id=\"T_e6e9c_row17_col5\" class=\"data row17 col5\" >0</td>\n",
       "      <td id=\"T_e6e9c_row17_col6\" class=\"data row17 col6\" >0</td>\n",
       "      <td id=\"T_e6e9c_row17_col7\" class=\"data row17 col7\" >0</td>\n",
       "      <td id=\"T_e6e9c_row17_col8\" class=\"data row17 col8\" >0</td>\n",
       "      <td id=\"T_e6e9c_row17_col9\" class=\"data row17 col9\" >0</td>\n",
       "      <td id=\"T_e6e9c_row17_col10\" class=\"data row17 col10\" >0</td>\n",
       "      <td id=\"T_e6e9c_row17_col11\" class=\"data row17 col11\" >0</td>\n",
       "      <td id=\"T_e6e9c_row17_col12\" class=\"data row17 col12\" >0</td>\n",
       "      <td id=\"T_e6e9c_row17_col13\" class=\"data row17 col13\" >0</td>\n",
       "      <td id=\"T_e6e9c_row17_col14\" class=\"data row17 col14\" >0</td>\n",
       "      <td id=\"T_e6e9c_row17_col15\" class=\"data row17 col15\" >0</td>\n",
       "      <td id=\"T_e6e9c_row17_col16\" class=\"data row17 col16\" >0</td>\n",
       "      <td id=\"T_e6e9c_row17_col17\" class=\"data row17 col17\" >182</td>\n",
       "      <td id=\"T_e6e9c_row17_col18\" class=\"data row17 col18\" >253</td>\n",
       "      <td id=\"T_e6e9c_row17_col19\" class=\"data row17 col19\" >253</td>\n",
       "      <td id=\"T_e6e9c_row17_col20\" class=\"data row17 col20\" >104</td>\n",
       "      <td id=\"T_e6e9c_row17_col21\" class=\"data row17 col21\" >0</td>\n",
       "      <td id=\"T_e6e9c_row17_col22\" class=\"data row17 col22\" >0</td>\n",
       "      <td id=\"T_e6e9c_row17_col23\" class=\"data row17 col23\" >0</td>\n",
       "      <td id=\"T_e6e9c_row17_col24\" class=\"data row17 col24\" >0</td>\n",
       "      <td id=\"T_e6e9c_row17_col25\" class=\"data row17 col25\" >0</td>\n",
       "      <td id=\"T_e6e9c_row17_col26\" class=\"data row17 col26\" >0</td>\n",
       "      <td id=\"T_e6e9c_row17_col27\" class=\"data row17 col27\" >0</td>\n",
       "    </tr>\n",
       "    <tr>\n",
       "      <th id=\"T_e6e9c_level0_row18\" class=\"row_heading level0 row18\" >18</th>\n",
       "      <td id=\"T_e6e9c_row18_col0\" class=\"data row18 col0\" >0</td>\n",
       "      <td id=\"T_e6e9c_row18_col1\" class=\"data row18 col1\" >0</td>\n",
       "      <td id=\"T_e6e9c_row18_col2\" class=\"data row18 col2\" >0</td>\n",
       "      <td id=\"T_e6e9c_row18_col3\" class=\"data row18 col3\" >0</td>\n",
       "      <td id=\"T_e6e9c_row18_col4\" class=\"data row18 col4\" >0</td>\n",
       "      <td id=\"T_e6e9c_row18_col5\" class=\"data row18 col5\" >0</td>\n",
       "      <td id=\"T_e6e9c_row18_col6\" class=\"data row18 col6\" >0</td>\n",
       "      <td id=\"T_e6e9c_row18_col7\" class=\"data row18 col7\" >0</td>\n",
       "      <td id=\"T_e6e9c_row18_col8\" class=\"data row18 col8\" >0</td>\n",
       "      <td id=\"T_e6e9c_row18_col9\" class=\"data row18 col9\" >0</td>\n",
       "      <td id=\"T_e6e9c_row18_col10\" class=\"data row18 col10\" >0</td>\n",
       "      <td id=\"T_e6e9c_row18_col11\" class=\"data row18 col11\" >0</td>\n",
       "      <td id=\"T_e6e9c_row18_col12\" class=\"data row18 col12\" >0</td>\n",
       "      <td id=\"T_e6e9c_row18_col13\" class=\"data row18 col13\" >0</td>\n",
       "      <td id=\"T_e6e9c_row18_col14\" class=\"data row18 col14\" >0</td>\n",
       "      <td id=\"T_e6e9c_row18_col15\" class=\"data row18 col15\" >0</td>\n",
       "      <td id=\"T_e6e9c_row18_col16\" class=\"data row18 col16\" >85</td>\n",
       "      <td id=\"T_e6e9c_row18_col17\" class=\"data row18 col17\" >249</td>\n",
       "      <td id=\"T_e6e9c_row18_col18\" class=\"data row18 col18\" >253</td>\n",
       "      <td id=\"T_e6e9c_row18_col19\" class=\"data row18 col19\" >253</td>\n",
       "      <td id=\"T_e6e9c_row18_col20\" class=\"data row18 col20\" >36</td>\n",
       "      <td id=\"T_e6e9c_row18_col21\" class=\"data row18 col21\" >0</td>\n",
       "      <td id=\"T_e6e9c_row18_col22\" class=\"data row18 col22\" >0</td>\n",
       "      <td id=\"T_e6e9c_row18_col23\" class=\"data row18 col23\" >0</td>\n",
       "      <td id=\"T_e6e9c_row18_col24\" class=\"data row18 col24\" >0</td>\n",
       "      <td id=\"T_e6e9c_row18_col25\" class=\"data row18 col25\" >0</td>\n",
       "      <td id=\"T_e6e9c_row18_col26\" class=\"data row18 col26\" >0</td>\n",
       "      <td id=\"T_e6e9c_row18_col27\" class=\"data row18 col27\" >0</td>\n",
       "    </tr>\n",
       "    <tr>\n",
       "      <th id=\"T_e6e9c_level0_row19\" class=\"row_heading level0 row19\" >19</th>\n",
       "      <td id=\"T_e6e9c_row19_col0\" class=\"data row19 col0\" >0</td>\n",
       "      <td id=\"T_e6e9c_row19_col1\" class=\"data row19 col1\" >0</td>\n",
       "      <td id=\"T_e6e9c_row19_col2\" class=\"data row19 col2\" >0</td>\n",
       "      <td id=\"T_e6e9c_row19_col3\" class=\"data row19 col3\" >0</td>\n",
       "      <td id=\"T_e6e9c_row19_col4\" class=\"data row19 col4\" >0</td>\n",
       "      <td id=\"T_e6e9c_row19_col5\" class=\"data row19 col5\" >0</td>\n",
       "      <td id=\"T_e6e9c_row19_col6\" class=\"data row19 col6\" >0</td>\n",
       "      <td id=\"T_e6e9c_row19_col7\" class=\"data row19 col7\" >0</td>\n",
       "      <td id=\"T_e6e9c_row19_col8\" class=\"data row19 col8\" >0</td>\n",
       "      <td id=\"T_e6e9c_row19_col9\" class=\"data row19 col9\" >0</td>\n",
       "      <td id=\"T_e6e9c_row19_col10\" class=\"data row19 col10\" >0</td>\n",
       "      <td id=\"T_e6e9c_row19_col11\" class=\"data row19 col11\" >0</td>\n",
       "      <td id=\"T_e6e9c_row19_col12\" class=\"data row19 col12\" >0</td>\n",
       "      <td id=\"T_e6e9c_row19_col13\" class=\"data row19 col13\" >0</td>\n",
       "      <td id=\"T_e6e9c_row19_col14\" class=\"data row19 col14\" >0</td>\n",
       "      <td id=\"T_e6e9c_row19_col15\" class=\"data row19 col15\" >60</td>\n",
       "      <td id=\"T_e6e9c_row19_col16\" class=\"data row19 col16\" >214</td>\n",
       "      <td id=\"T_e6e9c_row19_col17\" class=\"data row19 col17\" >253</td>\n",
       "      <td id=\"T_e6e9c_row19_col18\" class=\"data row19 col18\" >253</td>\n",
       "      <td id=\"T_e6e9c_row19_col19\" class=\"data row19 col19\" >173</td>\n",
       "      <td id=\"T_e6e9c_row19_col20\" class=\"data row19 col20\" >11</td>\n",
       "      <td id=\"T_e6e9c_row19_col21\" class=\"data row19 col21\" >0</td>\n",
       "      <td id=\"T_e6e9c_row19_col22\" class=\"data row19 col22\" >0</td>\n",
       "      <td id=\"T_e6e9c_row19_col23\" class=\"data row19 col23\" >0</td>\n",
       "      <td id=\"T_e6e9c_row19_col24\" class=\"data row19 col24\" >0</td>\n",
       "      <td id=\"T_e6e9c_row19_col25\" class=\"data row19 col25\" >0</td>\n",
       "      <td id=\"T_e6e9c_row19_col26\" class=\"data row19 col26\" >0</td>\n",
       "      <td id=\"T_e6e9c_row19_col27\" class=\"data row19 col27\" >0</td>\n",
       "    </tr>\n",
       "    <tr>\n",
       "      <th id=\"T_e6e9c_level0_row20\" class=\"row_heading level0 row20\" >20</th>\n",
       "      <td id=\"T_e6e9c_row20_col0\" class=\"data row20 col0\" >0</td>\n",
       "      <td id=\"T_e6e9c_row20_col1\" class=\"data row20 col1\" >0</td>\n",
       "      <td id=\"T_e6e9c_row20_col2\" class=\"data row20 col2\" >0</td>\n",
       "      <td id=\"T_e6e9c_row20_col3\" class=\"data row20 col3\" >0</td>\n",
       "      <td id=\"T_e6e9c_row20_col4\" class=\"data row20 col4\" >0</td>\n",
       "      <td id=\"T_e6e9c_row20_col5\" class=\"data row20 col5\" >0</td>\n",
       "      <td id=\"T_e6e9c_row20_col6\" class=\"data row20 col6\" >0</td>\n",
       "      <td id=\"T_e6e9c_row20_col7\" class=\"data row20 col7\" >0</td>\n",
       "      <td id=\"T_e6e9c_row20_col8\" class=\"data row20 col8\" >0</td>\n",
       "      <td id=\"T_e6e9c_row20_col9\" class=\"data row20 col9\" >0</td>\n",
       "      <td id=\"T_e6e9c_row20_col10\" class=\"data row20 col10\" >0</td>\n",
       "      <td id=\"T_e6e9c_row20_col11\" class=\"data row20 col11\" >0</td>\n",
       "      <td id=\"T_e6e9c_row20_col12\" class=\"data row20 col12\" >0</td>\n",
       "      <td id=\"T_e6e9c_row20_col13\" class=\"data row20 col13\" >0</td>\n",
       "      <td id=\"T_e6e9c_row20_col14\" class=\"data row20 col14\" >98</td>\n",
       "      <td id=\"T_e6e9c_row20_col15\" class=\"data row20 col15\" >247</td>\n",
       "      <td id=\"T_e6e9c_row20_col16\" class=\"data row20 col16\" >253</td>\n",
       "      <td id=\"T_e6e9c_row20_col17\" class=\"data row20 col17\" >253</td>\n",
       "      <td id=\"T_e6e9c_row20_col18\" class=\"data row20 col18\" >226</td>\n",
       "      <td id=\"T_e6e9c_row20_col19\" class=\"data row20 col19\" >9</td>\n",
       "      <td id=\"T_e6e9c_row20_col20\" class=\"data row20 col20\" >0</td>\n",
       "      <td id=\"T_e6e9c_row20_col21\" class=\"data row20 col21\" >0</td>\n",
       "      <td id=\"T_e6e9c_row20_col22\" class=\"data row20 col22\" >0</td>\n",
       "      <td id=\"T_e6e9c_row20_col23\" class=\"data row20 col23\" >0</td>\n",
       "      <td id=\"T_e6e9c_row20_col24\" class=\"data row20 col24\" >0</td>\n",
       "      <td id=\"T_e6e9c_row20_col25\" class=\"data row20 col25\" >0</td>\n",
       "      <td id=\"T_e6e9c_row20_col26\" class=\"data row20 col26\" >0</td>\n",
       "      <td id=\"T_e6e9c_row20_col27\" class=\"data row20 col27\" >0</td>\n",
       "    </tr>\n",
       "    <tr>\n",
       "      <th id=\"T_e6e9c_level0_row21\" class=\"row_heading level0 row21\" >21</th>\n",
       "      <td id=\"T_e6e9c_row21_col0\" class=\"data row21 col0\" >0</td>\n",
       "      <td id=\"T_e6e9c_row21_col1\" class=\"data row21 col1\" >0</td>\n",
       "      <td id=\"T_e6e9c_row21_col2\" class=\"data row21 col2\" >0</td>\n",
       "      <td id=\"T_e6e9c_row21_col3\" class=\"data row21 col3\" >0</td>\n",
       "      <td id=\"T_e6e9c_row21_col4\" class=\"data row21 col4\" >0</td>\n",
       "      <td id=\"T_e6e9c_row21_col5\" class=\"data row21 col5\" >0</td>\n",
       "      <td id=\"T_e6e9c_row21_col6\" class=\"data row21 col6\" >0</td>\n",
       "      <td id=\"T_e6e9c_row21_col7\" class=\"data row21 col7\" >0</td>\n",
       "      <td id=\"T_e6e9c_row21_col8\" class=\"data row21 col8\" >0</td>\n",
       "      <td id=\"T_e6e9c_row21_col9\" class=\"data row21 col9\" >0</td>\n",
       "      <td id=\"T_e6e9c_row21_col10\" class=\"data row21 col10\" >0</td>\n",
       "      <td id=\"T_e6e9c_row21_col11\" class=\"data row21 col11\" >0</td>\n",
       "      <td id=\"T_e6e9c_row21_col12\" class=\"data row21 col12\" >42</td>\n",
       "      <td id=\"T_e6e9c_row21_col13\" class=\"data row21 col13\" >150</td>\n",
       "      <td id=\"T_e6e9c_row21_col14\" class=\"data row21 col14\" >252</td>\n",
       "      <td id=\"T_e6e9c_row21_col15\" class=\"data row21 col15\" >253</td>\n",
       "      <td id=\"T_e6e9c_row21_col16\" class=\"data row21 col16\" >253</td>\n",
       "      <td id=\"T_e6e9c_row21_col17\" class=\"data row21 col17\" >233</td>\n",
       "      <td id=\"T_e6e9c_row21_col18\" class=\"data row21 col18\" >53</td>\n",
       "      <td id=\"T_e6e9c_row21_col19\" class=\"data row21 col19\" >0</td>\n",
       "      <td id=\"T_e6e9c_row21_col20\" class=\"data row21 col20\" >0</td>\n",
       "      <td id=\"T_e6e9c_row21_col21\" class=\"data row21 col21\" >0</td>\n",
       "      <td id=\"T_e6e9c_row21_col22\" class=\"data row21 col22\" >0</td>\n",
       "      <td id=\"T_e6e9c_row21_col23\" class=\"data row21 col23\" >0</td>\n",
       "      <td id=\"T_e6e9c_row21_col24\" class=\"data row21 col24\" >0</td>\n",
       "      <td id=\"T_e6e9c_row21_col25\" class=\"data row21 col25\" >0</td>\n",
       "      <td id=\"T_e6e9c_row21_col26\" class=\"data row21 col26\" >0</td>\n",
       "      <td id=\"T_e6e9c_row21_col27\" class=\"data row21 col27\" >0</td>\n",
       "    </tr>\n",
       "    <tr>\n",
       "      <th id=\"T_e6e9c_level0_row22\" class=\"row_heading level0 row22\" >22</th>\n",
       "      <td id=\"T_e6e9c_row22_col0\" class=\"data row22 col0\" >0</td>\n",
       "      <td id=\"T_e6e9c_row22_col1\" class=\"data row22 col1\" >0</td>\n",
       "      <td id=\"T_e6e9c_row22_col2\" class=\"data row22 col2\" >0</td>\n",
       "      <td id=\"T_e6e9c_row22_col3\" class=\"data row22 col3\" >0</td>\n",
       "      <td id=\"T_e6e9c_row22_col4\" class=\"data row22 col4\" >0</td>\n",
       "      <td id=\"T_e6e9c_row22_col5\" class=\"data row22 col5\" >0</td>\n",
       "      <td id=\"T_e6e9c_row22_col6\" class=\"data row22 col6\" >42</td>\n",
       "      <td id=\"T_e6e9c_row22_col7\" class=\"data row22 col7\" >115</td>\n",
       "      <td id=\"T_e6e9c_row22_col8\" class=\"data row22 col8\" >42</td>\n",
       "      <td id=\"T_e6e9c_row22_col9\" class=\"data row22 col9\" >60</td>\n",
       "      <td id=\"T_e6e9c_row22_col10\" class=\"data row22 col10\" >115</td>\n",
       "      <td id=\"T_e6e9c_row22_col11\" class=\"data row22 col11\" >159</td>\n",
       "      <td id=\"T_e6e9c_row22_col12\" class=\"data row22 col12\" >240</td>\n",
       "      <td id=\"T_e6e9c_row22_col13\" class=\"data row22 col13\" >253</td>\n",
       "      <td id=\"T_e6e9c_row22_col14\" class=\"data row22 col14\" >253</td>\n",
       "      <td id=\"T_e6e9c_row22_col15\" class=\"data row22 col15\" >250</td>\n",
       "      <td id=\"T_e6e9c_row22_col16\" class=\"data row22 col16\" >175</td>\n",
       "      <td id=\"T_e6e9c_row22_col17\" class=\"data row22 col17\" >25</td>\n",
       "      <td id=\"T_e6e9c_row22_col18\" class=\"data row22 col18\" >0</td>\n",
       "      <td id=\"T_e6e9c_row22_col19\" class=\"data row22 col19\" >0</td>\n",
       "      <td id=\"T_e6e9c_row22_col20\" class=\"data row22 col20\" >0</td>\n",
       "      <td id=\"T_e6e9c_row22_col21\" class=\"data row22 col21\" >0</td>\n",
       "      <td id=\"T_e6e9c_row22_col22\" class=\"data row22 col22\" >0</td>\n",
       "      <td id=\"T_e6e9c_row22_col23\" class=\"data row22 col23\" >0</td>\n",
       "      <td id=\"T_e6e9c_row22_col24\" class=\"data row22 col24\" >0</td>\n",
       "      <td id=\"T_e6e9c_row22_col25\" class=\"data row22 col25\" >0</td>\n",
       "      <td id=\"T_e6e9c_row22_col26\" class=\"data row22 col26\" >0</td>\n",
       "      <td id=\"T_e6e9c_row22_col27\" class=\"data row22 col27\" >0</td>\n",
       "    </tr>\n",
       "    <tr>\n",
       "      <th id=\"T_e6e9c_level0_row23\" class=\"row_heading level0 row23\" >23</th>\n",
       "      <td id=\"T_e6e9c_row23_col0\" class=\"data row23 col0\" >0</td>\n",
       "      <td id=\"T_e6e9c_row23_col1\" class=\"data row23 col1\" >0</td>\n",
       "      <td id=\"T_e6e9c_row23_col2\" class=\"data row23 col2\" >0</td>\n",
       "      <td id=\"T_e6e9c_row23_col3\" class=\"data row23 col3\" >0</td>\n",
       "      <td id=\"T_e6e9c_row23_col4\" class=\"data row23 col4\" >0</td>\n",
       "      <td id=\"T_e6e9c_row23_col5\" class=\"data row23 col5\" >0</td>\n",
       "      <td id=\"T_e6e9c_row23_col6\" class=\"data row23 col6\" >187</td>\n",
       "      <td id=\"T_e6e9c_row23_col7\" class=\"data row23 col7\" >253</td>\n",
       "      <td id=\"T_e6e9c_row23_col8\" class=\"data row23 col8\" >253</td>\n",
       "      <td id=\"T_e6e9c_row23_col9\" class=\"data row23 col9\" >253</td>\n",
       "      <td id=\"T_e6e9c_row23_col10\" class=\"data row23 col10\" >253</td>\n",
       "      <td id=\"T_e6e9c_row23_col11\" class=\"data row23 col11\" >253</td>\n",
       "      <td id=\"T_e6e9c_row23_col12\" class=\"data row23 col12\" >253</td>\n",
       "      <td id=\"T_e6e9c_row23_col13\" class=\"data row23 col13\" >253</td>\n",
       "      <td id=\"T_e6e9c_row23_col14\" class=\"data row23 col14\" >197</td>\n",
       "      <td id=\"T_e6e9c_row23_col15\" class=\"data row23 col15\" >86</td>\n",
       "      <td id=\"T_e6e9c_row23_col16\" class=\"data row23 col16\" >0</td>\n",
       "      <td id=\"T_e6e9c_row23_col17\" class=\"data row23 col17\" >0</td>\n",
       "      <td id=\"T_e6e9c_row23_col18\" class=\"data row23 col18\" >0</td>\n",
       "      <td id=\"T_e6e9c_row23_col19\" class=\"data row23 col19\" >0</td>\n",
       "      <td id=\"T_e6e9c_row23_col20\" class=\"data row23 col20\" >0</td>\n",
       "      <td id=\"T_e6e9c_row23_col21\" class=\"data row23 col21\" >0</td>\n",
       "      <td id=\"T_e6e9c_row23_col22\" class=\"data row23 col22\" >0</td>\n",
       "      <td id=\"T_e6e9c_row23_col23\" class=\"data row23 col23\" >0</td>\n",
       "      <td id=\"T_e6e9c_row23_col24\" class=\"data row23 col24\" >0</td>\n",
       "      <td id=\"T_e6e9c_row23_col25\" class=\"data row23 col25\" >0</td>\n",
       "      <td id=\"T_e6e9c_row23_col26\" class=\"data row23 col26\" >0</td>\n",
       "      <td id=\"T_e6e9c_row23_col27\" class=\"data row23 col27\" >0</td>\n",
       "    </tr>\n",
       "    <tr>\n",
       "      <th id=\"T_e6e9c_level0_row24\" class=\"row_heading level0 row24\" >24</th>\n",
       "      <td id=\"T_e6e9c_row24_col0\" class=\"data row24 col0\" >0</td>\n",
       "      <td id=\"T_e6e9c_row24_col1\" class=\"data row24 col1\" >0</td>\n",
       "      <td id=\"T_e6e9c_row24_col2\" class=\"data row24 col2\" >0</td>\n",
       "      <td id=\"T_e6e9c_row24_col3\" class=\"data row24 col3\" >0</td>\n",
       "      <td id=\"T_e6e9c_row24_col4\" class=\"data row24 col4\" >0</td>\n",
       "      <td id=\"T_e6e9c_row24_col5\" class=\"data row24 col5\" >0</td>\n",
       "      <td id=\"T_e6e9c_row24_col6\" class=\"data row24 col6\" >103</td>\n",
       "      <td id=\"T_e6e9c_row24_col7\" class=\"data row24 col7\" >253</td>\n",
       "      <td id=\"T_e6e9c_row24_col8\" class=\"data row24 col8\" >253</td>\n",
       "      <td id=\"T_e6e9c_row24_col9\" class=\"data row24 col9\" >253</td>\n",
       "      <td id=\"T_e6e9c_row24_col10\" class=\"data row24 col10\" >253</td>\n",
       "      <td id=\"T_e6e9c_row24_col11\" class=\"data row24 col11\" >253</td>\n",
       "      <td id=\"T_e6e9c_row24_col12\" class=\"data row24 col12\" >232</td>\n",
       "      <td id=\"T_e6e9c_row24_col13\" class=\"data row24 col13\" >67</td>\n",
       "      <td id=\"T_e6e9c_row24_col14\" class=\"data row24 col14\" >1</td>\n",
       "      <td id=\"T_e6e9c_row24_col15\" class=\"data row24 col15\" >0</td>\n",
       "      <td id=\"T_e6e9c_row24_col16\" class=\"data row24 col16\" >0</td>\n",
       "      <td id=\"T_e6e9c_row24_col17\" class=\"data row24 col17\" >0</td>\n",
       "      <td id=\"T_e6e9c_row24_col18\" class=\"data row24 col18\" >0</td>\n",
       "      <td id=\"T_e6e9c_row24_col19\" class=\"data row24 col19\" >0</td>\n",
       "      <td id=\"T_e6e9c_row24_col20\" class=\"data row24 col20\" >0</td>\n",
       "      <td id=\"T_e6e9c_row24_col21\" class=\"data row24 col21\" >0</td>\n",
       "      <td id=\"T_e6e9c_row24_col22\" class=\"data row24 col22\" >0</td>\n",
       "      <td id=\"T_e6e9c_row24_col23\" class=\"data row24 col23\" >0</td>\n",
       "      <td id=\"T_e6e9c_row24_col24\" class=\"data row24 col24\" >0</td>\n",
       "      <td id=\"T_e6e9c_row24_col25\" class=\"data row24 col25\" >0</td>\n",
       "      <td id=\"T_e6e9c_row24_col26\" class=\"data row24 col26\" >0</td>\n",
       "      <td id=\"T_e6e9c_row24_col27\" class=\"data row24 col27\" >0</td>\n",
       "    </tr>\n",
       "    <tr>\n",
       "      <th id=\"T_e6e9c_level0_row25\" class=\"row_heading level0 row25\" >25</th>\n",
       "      <td id=\"T_e6e9c_row25_col0\" class=\"data row25 col0\" >0</td>\n",
       "      <td id=\"T_e6e9c_row25_col1\" class=\"data row25 col1\" >0</td>\n",
       "      <td id=\"T_e6e9c_row25_col2\" class=\"data row25 col2\" >0</td>\n",
       "      <td id=\"T_e6e9c_row25_col3\" class=\"data row25 col3\" >0</td>\n",
       "      <td id=\"T_e6e9c_row25_col4\" class=\"data row25 col4\" >0</td>\n",
       "      <td id=\"T_e6e9c_row25_col5\" class=\"data row25 col5\" >0</td>\n",
       "      <td id=\"T_e6e9c_row25_col6\" class=\"data row25 col6\" >0</td>\n",
       "      <td id=\"T_e6e9c_row25_col7\" class=\"data row25 col7\" >0</td>\n",
       "      <td id=\"T_e6e9c_row25_col8\" class=\"data row25 col8\" >0</td>\n",
       "      <td id=\"T_e6e9c_row25_col9\" class=\"data row25 col9\" >0</td>\n",
       "      <td id=\"T_e6e9c_row25_col10\" class=\"data row25 col10\" >0</td>\n",
       "      <td id=\"T_e6e9c_row25_col11\" class=\"data row25 col11\" >0</td>\n",
       "      <td id=\"T_e6e9c_row25_col12\" class=\"data row25 col12\" >0</td>\n",
       "      <td id=\"T_e6e9c_row25_col13\" class=\"data row25 col13\" >0</td>\n",
       "      <td id=\"T_e6e9c_row25_col14\" class=\"data row25 col14\" >0</td>\n",
       "      <td id=\"T_e6e9c_row25_col15\" class=\"data row25 col15\" >0</td>\n",
       "      <td id=\"T_e6e9c_row25_col16\" class=\"data row25 col16\" >0</td>\n",
       "      <td id=\"T_e6e9c_row25_col17\" class=\"data row25 col17\" >0</td>\n",
       "      <td id=\"T_e6e9c_row25_col18\" class=\"data row25 col18\" >0</td>\n",
       "      <td id=\"T_e6e9c_row25_col19\" class=\"data row25 col19\" >0</td>\n",
       "      <td id=\"T_e6e9c_row25_col20\" class=\"data row25 col20\" >0</td>\n",
       "      <td id=\"T_e6e9c_row25_col21\" class=\"data row25 col21\" >0</td>\n",
       "      <td id=\"T_e6e9c_row25_col22\" class=\"data row25 col22\" >0</td>\n",
       "      <td id=\"T_e6e9c_row25_col23\" class=\"data row25 col23\" >0</td>\n",
       "      <td id=\"T_e6e9c_row25_col24\" class=\"data row25 col24\" >0</td>\n",
       "      <td id=\"T_e6e9c_row25_col25\" class=\"data row25 col25\" >0</td>\n",
       "      <td id=\"T_e6e9c_row25_col26\" class=\"data row25 col26\" >0</td>\n",
       "      <td id=\"T_e6e9c_row25_col27\" class=\"data row25 col27\" >0</td>\n",
       "    </tr>\n",
       "    <tr>\n",
       "      <th id=\"T_e6e9c_level0_row26\" class=\"row_heading level0 row26\" >26</th>\n",
       "      <td id=\"T_e6e9c_row26_col0\" class=\"data row26 col0\" >0</td>\n",
       "      <td id=\"T_e6e9c_row26_col1\" class=\"data row26 col1\" >0</td>\n",
       "      <td id=\"T_e6e9c_row26_col2\" class=\"data row26 col2\" >0</td>\n",
       "      <td id=\"T_e6e9c_row26_col3\" class=\"data row26 col3\" >0</td>\n",
       "      <td id=\"T_e6e9c_row26_col4\" class=\"data row26 col4\" >0</td>\n",
       "      <td id=\"T_e6e9c_row26_col5\" class=\"data row26 col5\" >0</td>\n",
       "      <td id=\"T_e6e9c_row26_col6\" class=\"data row26 col6\" >0</td>\n",
       "      <td id=\"T_e6e9c_row26_col7\" class=\"data row26 col7\" >0</td>\n",
       "      <td id=\"T_e6e9c_row26_col8\" class=\"data row26 col8\" >0</td>\n",
       "      <td id=\"T_e6e9c_row26_col9\" class=\"data row26 col9\" >0</td>\n",
       "      <td id=\"T_e6e9c_row26_col10\" class=\"data row26 col10\" >0</td>\n",
       "      <td id=\"T_e6e9c_row26_col11\" class=\"data row26 col11\" >0</td>\n",
       "      <td id=\"T_e6e9c_row26_col12\" class=\"data row26 col12\" >0</td>\n",
       "      <td id=\"T_e6e9c_row26_col13\" class=\"data row26 col13\" >0</td>\n",
       "      <td id=\"T_e6e9c_row26_col14\" class=\"data row26 col14\" >0</td>\n",
       "      <td id=\"T_e6e9c_row26_col15\" class=\"data row26 col15\" >0</td>\n",
       "      <td id=\"T_e6e9c_row26_col16\" class=\"data row26 col16\" >0</td>\n",
       "      <td id=\"T_e6e9c_row26_col17\" class=\"data row26 col17\" >0</td>\n",
       "      <td id=\"T_e6e9c_row26_col18\" class=\"data row26 col18\" >0</td>\n",
       "      <td id=\"T_e6e9c_row26_col19\" class=\"data row26 col19\" >0</td>\n",
       "      <td id=\"T_e6e9c_row26_col20\" class=\"data row26 col20\" >0</td>\n",
       "      <td id=\"T_e6e9c_row26_col21\" class=\"data row26 col21\" >0</td>\n",
       "      <td id=\"T_e6e9c_row26_col22\" class=\"data row26 col22\" >0</td>\n",
       "      <td id=\"T_e6e9c_row26_col23\" class=\"data row26 col23\" >0</td>\n",
       "      <td id=\"T_e6e9c_row26_col24\" class=\"data row26 col24\" >0</td>\n",
       "      <td id=\"T_e6e9c_row26_col25\" class=\"data row26 col25\" >0</td>\n",
       "      <td id=\"T_e6e9c_row26_col26\" class=\"data row26 col26\" >0</td>\n",
       "      <td id=\"T_e6e9c_row26_col27\" class=\"data row26 col27\" >0</td>\n",
       "    </tr>\n",
       "    <tr>\n",
       "      <th id=\"T_e6e9c_level0_row27\" class=\"row_heading level0 row27\" >27</th>\n",
       "      <td id=\"T_e6e9c_row27_col0\" class=\"data row27 col0\" >0</td>\n",
       "      <td id=\"T_e6e9c_row27_col1\" class=\"data row27 col1\" >0</td>\n",
       "      <td id=\"T_e6e9c_row27_col2\" class=\"data row27 col2\" >0</td>\n",
       "      <td id=\"T_e6e9c_row27_col3\" class=\"data row27 col3\" >0</td>\n",
       "      <td id=\"T_e6e9c_row27_col4\" class=\"data row27 col4\" >0</td>\n",
       "      <td id=\"T_e6e9c_row27_col5\" class=\"data row27 col5\" >0</td>\n",
       "      <td id=\"T_e6e9c_row27_col6\" class=\"data row27 col6\" >0</td>\n",
       "      <td id=\"T_e6e9c_row27_col7\" class=\"data row27 col7\" >0</td>\n",
       "      <td id=\"T_e6e9c_row27_col8\" class=\"data row27 col8\" >0</td>\n",
       "      <td id=\"T_e6e9c_row27_col9\" class=\"data row27 col9\" >0</td>\n",
       "      <td id=\"T_e6e9c_row27_col10\" class=\"data row27 col10\" >0</td>\n",
       "      <td id=\"T_e6e9c_row27_col11\" class=\"data row27 col11\" >0</td>\n",
       "      <td id=\"T_e6e9c_row27_col12\" class=\"data row27 col12\" >0</td>\n",
       "      <td id=\"T_e6e9c_row27_col13\" class=\"data row27 col13\" >0</td>\n",
       "      <td id=\"T_e6e9c_row27_col14\" class=\"data row27 col14\" >0</td>\n",
       "      <td id=\"T_e6e9c_row27_col15\" class=\"data row27 col15\" >0</td>\n",
       "      <td id=\"T_e6e9c_row27_col16\" class=\"data row27 col16\" >0</td>\n",
       "      <td id=\"T_e6e9c_row27_col17\" class=\"data row27 col17\" >0</td>\n",
       "      <td id=\"T_e6e9c_row27_col18\" class=\"data row27 col18\" >0</td>\n",
       "      <td id=\"T_e6e9c_row27_col19\" class=\"data row27 col19\" >0</td>\n",
       "      <td id=\"T_e6e9c_row27_col20\" class=\"data row27 col20\" >0</td>\n",
       "      <td id=\"T_e6e9c_row27_col21\" class=\"data row27 col21\" >0</td>\n",
       "      <td id=\"T_e6e9c_row27_col22\" class=\"data row27 col22\" >0</td>\n",
       "      <td id=\"T_e6e9c_row27_col23\" class=\"data row27 col23\" >0</td>\n",
       "      <td id=\"T_e6e9c_row27_col24\" class=\"data row27 col24\" >0</td>\n",
       "      <td id=\"T_e6e9c_row27_col25\" class=\"data row27 col25\" >0</td>\n",
       "      <td id=\"T_e6e9c_row27_col26\" class=\"data row27 col26\" >0</td>\n",
       "      <td id=\"T_e6e9c_row27_col27\" class=\"data row27 col27\" >0</td>\n",
       "    </tr>\n",
       "  </tbody>\n",
       "</table>\n"
      ],
      "text/plain": [
       "<pandas.io.formats.style.Styler at 0x7eff78158210>"
      ]
     },
     "execution_count": 25,
     "metadata": {},
     "output_type": "execute_result"
    }
   ],
   "source": [
    "'''\n",
    "grab a bit of the image with slicing and turn it into a panda's data frame, \n",
    "because pandas has a very convenient thing called backgroud_gradient()\n",
    "that turns a background into a gradient, as you can see\n",
    "\n",
    "this is super tiny, my phone has millions of pixels\n",
    "'''\n",
    "#hide_output\n",
    "im3_t = tensor(im3)  # image converted into a tensor\n",
    "#df = pd.DataFrame(im3_t[4:15,4:22])  # panda data frame\n",
    "df = pd.DataFrame(im3_t[0:28,0:28])  # panda data frame\n",
    "df.style.set_properties(**{'font-size':'6pt'}).background_gradient('Greys')"
   ]
  },
  {
   "cell_type": "markdown",
   "metadata": {},
   "source": [
    "<img width=\"453\" id=\"output_pd_pixels\" src=\"images/att_00058.png\">"
   ]
  },
  {
   "cell_type": "markdown",
   "metadata": {},
   "source": [
    "You can see that the background **white** pixels are stored as the number **0**, **black** is the number **255**, and **shades of gray** are between the two.  \n",
    "**The entire image contains 28 pixels across and 28 pixels down, for a total of 784 pixels.**  \n",
    "(This is much smaller than an image that you would get from a phone camera, which has millions of pixels, but is a convenient size for our initial learning and experiments.  \n",
    "We will build up to bigger, full-color images soon.)\n",
    "\n",
    "So, now you've seen what an image looks like to a computer,  \n",
    "**let's recall our GOAL: create a model (some kind of a computer program) that can recognize 3s and 7s**.  \n",
    "How might you go about getting a computer to do that?\n",
    "\n",
    "> Warning: Stop and Think!:\n",
    "> Before you read on, take a moment to think about how a computer might be able to recognize these two different digits.  \n",
    "> What kinds of features might it be able to look at?  \n",
    "> How might it be able to identify these features?  \n",
    "> How could it combine them together?  \n",
    "> Learning works best when you try to solve problems yourself, rather than just reading somebody else's answers;  \n",
    "> so step away from this book for a few minutes, grab a piece of paper and pen, and jot some ideas down…  "
   ]
  },
  {
   "cell_type": "markdown",
   "metadata": {},
   "source": [
    "## First Try: Pixel Similarity"
   ]
  },
  {
   "cell_type": "markdown",
   "metadata": {},
   "source": [
    "So, here is a first idea: how about we **find the average pixel value for every pixel of the 3s, then do the same for the 7s**.  \n",
    "This will give us two group averages, defining what we might call the **\"ideal\" 3 and 7**.  \n",
    "**Then, to classify an image as one digit or the other, we see which of these two ideal digits the image is most similar to**.  \n",
    "This certainly seems like it should be better than nothing, so it will make **a good baseline**."
   ]
  },
  {
   "cell_type": "markdown",
   "metadata": {},
   "source": [
    "> jargon: Baseline: A simple model which you are confident should perform reasonably well.  \n",
    "> It should be very simple to implement, and very easy to test, so that you can then test each of your improved ideas, and make sure they are always better than your baseline.  \n",
    "> Without starting with a sensible baseline, it is very difficult to know whether your super-fancy models are actually any good.  \n",
    "> One good approach to creating a baseline is doing what we have done here: think of a simple, easy-to-implement model.  \n",
    "> Another good approach is to search around to find other people that have solved similar problems to yours, and download and run their code on your dataset.  \n",
    "> Ideally, try both of these!  "
   ]
  },
  {
   "cell_type": "markdown",
   "metadata": {},
   "source": [
    "Step one for our simple model is to get **the average of pixel values for each of our two groups**.  \n",
    "In the process of doing this, we will learn a lot of neat Python numeric programming tricks!\n",
    "\n",
    "Let's create **a tensor containing all of our 3s stacked together**.  \n",
    "We already know how to create a tensor containing a single image.  \n",
    "To create **a tensor containing all the images in a directory**, we will first use a **Python list comprehension** to create **a plain list of the single image tensors**.\n",
    "\n",
    "We will use Jupyter to do some little checks of our work along the way—in this case, making sure that the number of returned items seems reasonable:"
   ]
  },
  {
   "cell_type": "code",
   "execution_count": 26,
   "metadata": {},
   "outputs": [
    {
     "data": {
      "text/plain": [
       "(6131, 6265)"
      ]
     },
     "execution_count": 26,
     "metadata": {},
     "output_type": "execute_result"
    }
   ],
   "source": [
    "'''\n",
    "for each of those file names in the sevens,\n",
    "lets Image.open() that file just like we did before, to get a PIL object, \n",
    "and convert that into a tensor\n",
    "and all will be colated into a list with all of the sevens\n",
    "\n",
    "all this thing is a list comprehension (one of the most powerful and useful tools in python)\n",
    "similar with link in c# but not as powerful\n",
    "'''\n",
    "# tensor(img) creates a tensor then you have a tensor of tensors with [tensor(img1), tensor(img2), etc]\n",
    "seven_tensors = [tensor(Image.open(o)) for o in sevens]  # sevens is a list (vector like) that keeps the path to pictures \n",
    "three_tensors = [tensor(Image.open(o)) for o in threes]  # and seven_tensors is a tensor that keeps the all the pictures, as pictures\n",
    "len(three_tensors),len(seven_tensors)                    # see below how an image looks like "
   ]
  },
  {
   "cell_type": "markdown",
   "metadata": {},
   "source": [
    "> note: **List Comprehensions:** List and dictionary comprehensions are a wonderful feature of Python.  \n",
    "Many Python programmers use them every day, including the authors of this book—they are part of \"idiomatic Python.\"  \n",
    "But programmers coming from other languages may have never seen them before.  \n",
    "There are a lot of great tutorials just a web search away, so we won't spend a long time discussing them now.  \n",
    "Here is a quick explanation and example to get you started. A list comprehension looks like this:  \n",
    "**`new_list = [f(o) for o in a_list if o>0]`.  \n",
    "This will return every element of `a_list` that is greater than 0, after passing it to the function `f`**.  \n",
    "There are three parts here:  \n",
    "the collection you are iterating over (`a_list`),  \n",
    "an optional filter (`if o>0`),  \n",
    "and something to do to each element (`f(o)`).  \n",
    "It's not only shorter to write but way faster than the alternative ways of creating the same list with a loop."
   ]
  },
  {
   "cell_type": "markdown",
   "metadata": {},
   "source": [
    "We'll also check that one of the images looks okay.  \n",
    "Since we **now have tensors** (which Jupyter by default will print as values),  \n",
    "**rather than PIL images** (which Jupyter by default will display as images),  \n",
    "we need to use **fastai's `show_image` function** to display it:"
   ]
  },
  {
   "cell_type": "code",
   "execution_count": 27,
   "metadata": {},
   "outputs": [
    {
     "data": {
      "image/png": "[encoded data removed]",
      "text/plain": [
       "<Figure size 100x100 with 1 Axes>"
      ]
     },
     "metadata": {},
     "output_type": "display_data"
    }
   ],
   "source": [
    "show_image(three_tensors[1]);  # a tensors needs fastai's function to display the image"
   ]
  },
  {
   "cell_type": "code",
   "execution_count": 28,
   "metadata": {},
   "outputs": [
    {
     "data": {
      "text/plain": [
       "tensor([[  0,   0,   0,   0,   0,   0,   0,   0,   0,   0,   0,   0,   0,   0,   0,   0,   0,   0,   0,   0,   0,   0,   0,   0,   0,   0,   0,   0],\n",
       "        [  0,   0,   0,   0,   0,   0,   0,   0,   0,   0,   0,   0,   0,   0,   0,   0,   0,   0,   0,   0,   0,   0,   0,   0,   0,   0,   0,   0],\n",
       "        [  0,   0,   0,   0,   0,   0,   0,   0,   0,   0,   0,   0,   0,   0,   0,   0,   0,   0,   0,   0,   0,   0,   0,   0,   0,   0,   0,   0],\n",
       "        [  0,   0,   0,   0,   0,   0,   0,   0,   0,   0,   0,   0,   0,   0,   0,   0,   0,   0,   0,   0,   0,   0,   0,   0,   0,   0,   0,   0],\n",
       "        [  0,   0,   0,   0,   0,   0,   0,   0,   0,   0,   0,   0,   0,   0,   0,   0,   0,   0,   0,   0,   0,   0,   0,   0,   0,   0,   0,   0],\n",
       "        [  0,   0,   0,   0,   0,   0,   0,   0,   0,  29, 150, 195, 254, 255, 254, 176, 193, 150,  96,   0,   0,   0,   0,   0,   0,   0,   0,   0],\n",
       "        [  0,   0,   0,   0,   0,   0,   0,  48, 166, 224, 253, 253, 234, 196, 253, 253, 253, 253, 233,   0,   0,   0,   0,   0,   0,   0,   0,   0],\n",
       "        [  0,   0,   0,   0,   0,  93, 244, 249, 253, 187,  46,  10,   8,   4,  10, 194, 253, 253, 233,   0,   0,   0,   0,   0,   0,   0,   0,   0],\n",
       "        [  0,   0,   0,   0,   0, 107, 253, 253, 230,  48,   0,   0,   0,   0,   0, 192, 253, 253, 156,   0,   0,   0,   0,   0,   0,   0,   0,   0],\n",
       "        [  0,   0,   0,   0,   0,   3,  20,  20,  15,   0,   0,   0,   0,   0,  43, 224, 253, 245,  74,   0,   0,   0,   0,   0,   0,   0,   0,   0],\n",
       "        [  0,   0,   0,   0,   0,   0,   0,   0,   0,   0,   0,   0,   0,   0, 249, 253, 245, 126,   0,   0,   0,   0,   0,   0,   0,   0,   0,   0],\n",
       "        [  0,   0,   0,   0,   0,   0,   0,   0,   0,   0,   0,  14, 101, 223, 253, 248, 124,   0,   0,   0,   0,   0,   0,   0,   0,   0,   0,   0],\n",
       "        [  0,   0,   0,   0,   0,   0,   0,   0,   0,  11, 166, 239, 253, 253, 253, 187,  30,   0,   0,   0,   0,   0,   0,   0,   0,   0,   0,   0],\n",
       "        [  0,   0,   0,   0,   0,   0,   0,   0,   0,  16, 248, 250, 253, 253, 253, 253, 232, 213, 111,   2,   0,   0,   0,   0,   0,   0,   0,   0],\n",
       "        [  0,   0,   0,   0,   0,   0,   0,   0,   0,   0,   0,  43,  98,  98, 208, 253, 253, 253, 253, 187,  22,   0,   0,   0,   0,   0,   0,   0],\n",
       "        [  0,   0,   0,   0,   0,   0,   0,   0,   0,   0,   0,   0,   0,   0,   9,  51, 119, 253, 253, 253,  76,   0,   0,   0,   0,   0,   0,   0],\n",
       "        [  0,   0,   0,   0,   0,   0,   0,   0,   0,   0,   0,   0,   0,   0,   0,   0,   1, 183, 253, 253, 139,   0,   0,   0,   0,   0,   0,   0],\n",
       "        [  0,   0,   0,   0,   0,   0,   0,   0,   0,   0,   0,   0,   0,   0,   0,   0,   0, 182, 253, 253, 104,   0,   0,   0,   0,   0,   0,   0],\n",
       "        [  0,   0,   0,   0,   0,   0,   0,   0,   0,   0,   0,   0,   0,   0,   0,   0,  85, 249, 253, 253,  36,   0,   0,   0,   0,   0,   0,   0],\n",
       "        [  0,   0,   0,   0,   0,   0,   0,   0,   0,   0,   0,   0,   0,   0,   0,  60, 214, 253, 253, 173,  11,   0,   0,   0,   0,   0,   0,   0],\n",
       "        [  0,   0,   0,   0,   0,   0,   0,   0,   0,   0,   0,   0,   0,   0,  98, 247, 253, 253, 226,   9,   0,   0,   0,   0,   0,   0,   0,   0],\n",
       "        [  0,   0,   0,   0,   0,   0,   0,   0,   0,   0,   0,   0,  42, 150, 252, 253, 253, 233,  53,   0,   0,   0,   0,   0,   0,   0,   0,   0],\n",
       "        [  0,   0,   0,   0,   0,   0,  42, 115,  42,  60, 115, 159, 240, 253, 253, 250, 175,  25,   0,   0,   0,   0,   0,   0,   0,   0,   0,   0],\n",
       "        [  0,   0,   0,   0,   0,   0, 187, 253, 253, 253, 253, 253, 253, 253, 197,  86,   0,   0,   0,   0,   0,   0,   0,   0,   0,   0,   0,   0],\n",
       "        [  0,   0,   0,   0,   0,   0, 103, 253, 253, 253, 253, 253, 232,  67,   1,   0,   0,   0,   0,   0,   0,   0,   0,   0,   0,   0,   0,   0],\n",
       "        [  0,   0,   0,   0,   0,   0,   0,   0,   0,   0,   0,   0,   0,   0,   0,   0,   0,   0,   0,   0,   0,   0,   0,   0,   0,   0,   0,   0],\n",
       "        [  0,   0,   0,   0,   0,   0,   0,   0,   0,   0,   0,   0,   0,   0,   0,   0,   0,   0,   0,   0,   0,   0,   0,   0,   0,   0,   0,   0],\n",
       "        [  0,   0,   0,   0,   0,   0,   0,   0,   0,   0,   0,   0,   0,   0,   0,   0,   0,   0,   0,   0,   0,   0,   0,   0,   0,   0,   0,   0]], dtype=torch.uint8)"
      ]
     },
     "execution_count": 28,
     "metadata": {},
     "output_type": "execute_result"
    }
   ],
   "source": [
    "three_tensors[1]  # added by me - jupyter by default prints tensors as values not images"
   ]
  },
  {
   "cell_type": "code",
   "execution_count": 29,
   "metadata": {},
   "outputs": [
    {
     "data": {
      "text/plain": [
       "torch.Size([28, 28])"
      ]
     },
     "execution_count": 29,
     "metadata": {},
     "output_type": "execute_result"
    }
   ],
   "source": [
    "three_tensors[1].shape  # the size is a 28 by 28; the rows by columns"
   ]
  },
  {
   "cell_type": "code",
   "execution_count": 30,
   "metadata": {},
   "outputs": [
    {
     "data": {
      "text/plain": [
       "list"
      ]
     },
     "execution_count": 30,
     "metadata": {},
     "output_type": "execute_result"
    }
   ],
   "source": [
    "'''\n",
    "but three_tensors itself is a list; I can't easily do mathematical computations on that\n",
    "we could stack these 28x28 images on top of eachother, to create like a 3d cube of images\n",
    "it's still called a tensor, and to stack them up you use stack()\n",
    "'''\n",
    "type(three_tensors)\n"
   ]
  },
  {
   "cell_type": "markdown",
   "metadata": {},
   "source": [
    "**For every pixel position**, we want to compute **the average** over all the images of the intensity of that pixel.  \n",
    "**To do this we first combine all the images in this list into a single three-dimensional tensor**.  \n",
    "    - three_tensors is a list and we transform it into a 3-dim tensor  \n",
    "    - why 3 dims?! bc each image is 28x28 and there are 6131 images - so 3 dimensions  \n",
    "    - but why the need for that? a tensor of tensors like three_tensors isn't the same? no, a tensor of tensors holds multiple tensors, and a rank-3 tensor is only one tensor!  \n",
    "The most common way to describe such a tensor is to call it a **rank-3 tensor**.   \n",
    "**We often need to stack up individual tensors in a collection into a single tensor.**  \n",
    "Unsurprisingly, **PyTorch** comes with a function called **`stack`** that we can use for this purpose.\n",
    "\n",
    "Some operations in PyTorch, such as **taking a mean, require us to *cast* our integer types to float types**.  \n",
    "Since we'll be needing this later, we'll also cast our stacked tensor to `float` now.  \n",
    "Casting in PyTorch is as simple as typing the name of the type you wish to cast to, and treating it as a method.\n",
    "\n",
    "**Generally when images are floats, the pixel values are expected to be between 0 and 1**, so we will also divide by 255 here:"
   ]
  },
  {
   "cell_type": "code",
   "execution_count": 31,
   "metadata": {},
   "outputs": [
    {
     "data": {
      "text/plain": [
       "torch.Size([6131, 28, 28])"
      ]
     },
     "execution_count": 31,
     "metadata": {},
     "output_type": "execute_result"
    }
   ],
   "source": [
    "'''\n",
    "we need the averate of all of those 3s\n",
    "so the 1st thing to do is to change a list into a tensor\n",
    "the shape of it is now 6131x28x28\n",
    "it's like a cube of height 6131 by 28 by 28 \n",
    "if we want to take the mean, we're going to turn into floating point values, because we don't want to have integers rounding off\n",
    "and it's kind of a standard in computer vision that when you're working with floats, you expect them to be between 0 and 1\n",
    "so we divide by 255 because they were between 0 and 255 before (the pixels)\n",
    "'''\n",
    "stacked_sevens = torch.stack(seven_tensors).float()/255  # stacked tensors is a single tensor with 3 dims, seven_tensors is a list of tensors rank 2 (a list of matrices; like a vector of vectors)\n",
    "stacked_threes = torch.stack(three_tensors).float()/255  # mean operation needs float, and when images are floats we need values between 0 and 1\n",
    "stacked_threes.shape"
   ]
  },
  {
   "cell_type": "code",
   "execution_count": 32,
   "metadata": {},
   "outputs": [
    {
     "data": {
      "text/plain": [
       "torch.Tensor"
      ]
     },
     "execution_count": 32,
     "metadata": {},
     "output_type": "execute_result"
    }
   ],
   "source": [
    "type(stacked_sevens)"
   ]
  },
  {
   "cell_type": "code",
   "execution_count": 33,
   "metadata": {},
   "outputs": [
    {
     "data": {
      "image/png": "[encoded data removed]",
      "text/plain": [
       "<Figure size 100x100 with 1 Axes>"
      ]
     },
     "metadata": {},
     "output_type": "display_data"
    }
   ],
   "source": [
    "show_image(stacked_threes[1]);  # added by me\n",
    "#stacked_threes[1]  # shows numbers between 0 and 1"
   ]
  },
  {
   "cell_type": "markdown",
   "metadata": {},
   "source": [
    "Perhaps the most important attribute of a tensor is its **shape**.  \n",
    "**This tells you the length of each axis.**   \n",
    "In this case, we can see that we have **6,131 images, each of size 28×28 pixels**.  -> that's why 3 dims    \n",
    "There is nothing specifically about this tensor that says that:  \n",
    "    the first axis is the number of images,  \n",
    "    the second is the height,  \n",
    "    and the third is the width  \n",
    "— the semantics of a tensor are entirely up to us, and how we construct it.  \n",
    "As far as PyTorch is concerned, it is just a bunch of numbers in memory.\n",
    "\n",
    "**The length of a tensor's shape is its rank**:"
   ]
  },
  {
   "cell_type": "code",
   "execution_count": 34,
   "metadata": {},
   "outputs": [
    {
     "data": {
      "text/plain": [
       "3"
      ]
     },
     "execution_count": 34,
     "metadata": {},
     "output_type": "execute_result"
    }
   ],
   "source": [
    "'''\n",
    "this is rank 3 tensor, with 3 axis\n",
    "there_tensors[1] was a rank 2 tensor, with 2 axis\n",
    "numpy calls it axis, pytorch calls it dimensions \n",
    "so the rank is also the number of dimensions: ndim\n",
    "'''\n",
    "len(stacked_threes.shape)  "
   ]
  },
  {
   "cell_type": "markdown",
   "metadata": {},
   "source": [
    "It is really important for you to commit to memory and practice these bits of tensor jargon:  \n",
    "**_rank_ is the number of axes or dimensions in a tensor;**  \n",
    "**_shape_ is the size of each axis of a tensor.**  (a list containing the size of each axis in a tensor)  \n",
    "\n",
    "> A: Watch out because the term \"dimension\" is sometimes used in two ways.  \n",
    "Consider that we live in \"three-dimensional space\" where a physical position can be described by a 3-vector `v`.  \n",
    "But according to PyTorch, the attribute `v.ndim` (which sure looks like the \"number of dimensions\" of `v`) equals one, not three!  \n",
    "Why? Because `v` is a vector, which is a tensor of rank one, meaning that it has only one _axis_ (even if that axis has a length of three).  \n",
    "In other words, sometimes dimension is used for the size of an axis (\"space is three-dimensional\");  \n",
    "other times, it is used for the rank, or the number of axes (\"a matrix has two dimensions\").  \n",
    "When confused, I find it helpful to translate all statements into terms of rank, axis, and length, which are unambiguous terms."
   ]
  },
  {
   "cell_type": "markdown",
   "metadata": {},
   "source": [
    "We can also get a **tensor's rank** directly with **`ndim`**:"
   ]
  },
  {
   "cell_type": "code",
   "execution_count": 35,
   "metadata": {},
   "outputs": [
    {
     "data": {
      "text/plain": [
       "3"
      ]
     },
     "execution_count": 35,
     "metadata": {},
     "output_type": "execute_result"
    }
   ],
   "source": [
    "stacked_threes.ndim"
   ]
  },
  {
   "cell_type": "markdown",
   "metadata": {},
   "source": [
    "**Finally, we can compute what the ideal 3 looks like.**  \n",
    "We calculate **the mean of all the image tensors by taking the mean along dimension 0** of our stacked, rank-3 tensor.  \n",
    "This is the dimension that indexes over all the images.  \n",
    "\n",
    "In other words, **for every pixel position, this will compute the average of that pixel over all images.**  \n",
    "**The result will be one value for every pixel position, or a single image.**  \n",
    "Here it is:"
   ]
  },
  {
   "cell_type": "code",
   "execution_count": 36,
   "metadata": {},
   "outputs": [
    {
     "data": {
      "text/plain": [
       "tensor(0.1415)"
      ]
     },
     "execution_count": 36,
     "metadata": {},
     "output_type": "execute_result"
    }
   ],
   "source": [
    "'''\n",
    "this returns a single number, that's the average pixel across the whole cube, the whole rank three tensor  \n",
    "'''\n",
    "stacked_threes.mean()"
   ]
  },
  {
   "cell_type": "code",
   "execution_count": 37,
   "metadata": {},
   "outputs": [
    {
     "data": {
      "image/png": "[encoded data removed]",
      "text/plain": [
       "<Figure size 100x100 with 1 Axes>"
      ]
     },
     "metadata": {},
     "output_type": "display_data"
    }
   ],
   "source": [
    "'''\n",
    "but if we say mean(0) that means take the mean over axis 0; \n",
    "the mean across the images\n",
    "'''\n",
    "mean3 = stacked_threes.mean(0)  # calculate mean along dimension 0\n",
    "show_image(mean3);  "
   ]
  },
  {
   "cell_type": "code",
   "execution_count": 38,
   "metadata": {},
   "outputs": [
    {
     "data": {
      "text/plain": [
       "torch.Size([28, 28])"
      ]
     },
     "execution_count": 38,
     "metadata": {},
     "output_type": "execute_result"
    }
   ],
   "source": [
    "'''\n",
    "that's now 28x28 again, because we kind of like reduced over this 6131\n",
    "we took the mean across that axis and so we can show that image\n",
    "'''\n",
    "mean3.shape"
   ]
  },
  {
   "cell_type": "markdown",
   "metadata": {},
   "source": [
    "According to this dataset, this is **the ideal number 3**! (You may not like it, but this is what peak number 3 performance looks like.)  \n",
    "You can see how it's very dark where all the images agree it should be dark, but it becomes wispy and blurry where the images disagree. \n",
    "\n",
    "Let's do **the same thing for the 7s**, but put all the steps together at once to save some time:"
   ]
  },
  {
   "cell_type": "code",
   "execution_count": 39,
   "metadata": {},
   "outputs": [
    {
     "data": {
      "image/png": "[encoded data removed]",
      "text/plain": [
       "<Figure size 100x100 with 1 Axes>"
      ]
     },
     "metadata": {},
     "output_type": "display_data"
    }
   ],
   "source": [
    "mean7 = stacked_sevens.mean(0)\n",
    "show_image(mean7);"
   ]
  },
  {
   "cell_type": "markdown",
   "metadata": {},
   "source": [
    "Let's now pick an **arbitrary 3 and measure its distance from our \"ideal digits\"**.\n",
    "\n",
    "> Stop and Think!: How would you calculate how similar a particular image is to each of our ideal digits?  \n",
    "Remember to step away from this book and jot down some ideas before you move on!  \n",
    "Research shows that recall and understanding improves dramatically when you are engaged with the learning process by solving problems, experimenting, and trying new ideas yourself\n",
    "\n",
    "**Here's a sample 3:**"
   ]
  },
  {
   "cell_type": "code",
   "execution_count": 40,
   "metadata": {},
   "outputs": [
    {
     "data": {
      "image/png": "[encoded data removed]",
      "text/plain": [
       "<Figure size 100x100 with 1 Axes>"
      ]
     },
     "metadata": {},
     "output_type": "display_data"
    }
   ],
   "source": [
    "'''\n",
    "now let's grab any 3\n",
    "and now is this 3 more similar to the ideal 3 or to the ideal 7?\n",
    "and whichever one it's more similar to, I'm going to assume that's the answer \n",
    "'''\n",
    "a_3 = stacked_threes[1]    \n",
    "show_image(a_3);"
   ]
  },
  {
   "cell_type": "markdown",
   "metadata": {},
   "source": [
    "**How can we determine its distance from our ideal 3?**  \n",
    "**We can't just add up the differences between the pixels of this image and the ideal digit.  \n",
    "Some differences will be positive while others will be negative, and these differences will cancel out,**  \n",
    "resulting in a situation where an image that is too dark in some places and too light in others might be shown as having zero total differences from the ideal.  \n",
    "That would be misleading!  \n",
    "(we need them all to be positive numbers  \n",
    "there are 2 ways to make them all positive numbers)\n",
    "\n",
    "To avoid this, there are **two main ways data scientists measure distance in this context**:\n",
    "\n",
    "- Take the **mean of the *absolute value* of differences** (absolute value is the function that replaces negative values with positive values). This is called the **mean absolute difference** or **L1 norm**\n",
    "- Take the **mean of the *square* of differences** (which makes everything positive) **and then take the *square root*** (which undoes the squaring). This is called the **root mean squared error** (RMSE) or **L2 norm**.\n",
    "\n",
    "> important: It's Okay to Have Forgotten Your Math: In this book we generally assume that you have completed high school math, and remember at least some of it... But everybody forgets some things! It all depends on what you happen to have had reason to practice in the meantime. Perhaps you have forgotten what a _square root_ is, or exactly how they work. No problem! Any time you come across a maths concept that is not explained fully in this book, don't just keep moving on; instead, stop and look it up. Make sure you understand the basic idea, how it works, and why we might be using it. One of the best places to refresh your understanding is Khan Academy. For instance, Khan Academy has a great [introduction to square roots](https://www.khanacademy.org/math/algebra/x2f8bb11595b61c86:rational-exponents-radicals/x2f8bb11595b61c86:radicals/v/understanding-square-roots)."
   ]
  },
  {
   "cell_type": "markdown",
   "metadata": {},
   "source": [
    "Let's try both of these now:"
   ]
  },
  {
   "cell_type": "code",
   "execution_count": 41,
   "metadata": {},
   "outputs": [
    {
     "data": {
      "text/plain": [
       "(tensor(0.1114), tensor(0.2021))"
      ]
     },
     "execution_count": 41,
     "metadata": {},
     "output_type": "execute_result"
    }
   ],
   "source": [
    "dist_3_abs = (a_3 - mean3).abs().mean()  # a_3 is a tensor from position 1 and mean3 and the average of all 3s\n",
    "dist_3_sqr = ((a_3 - mean3)**2).mean().sqrt()\n",
    "dist_3_abs,dist_3_sqr   # this will be used later"
   ]
  },
  {
   "cell_type": "code",
   "execution_count": 42,
   "metadata": {},
   "outputs": [
    {
     "data": {
      "text/plain": [
       "(tensor(0.1586), tensor(0.3021))"
      ]
     },
     "execution_count": 42,
     "metadata": {},
     "output_type": "execute_result"
    }
   ],
   "source": [
    "dist_7_abs = (a_3 - mean7).abs().mean()  # this time we'll compare it to the mean of the sevens\n",
    "dist_7_sqr = ((a_3 - mean7)**2).mean().sqrt()\n",
    "dist_7_abs,dist_7_sqr"
   ]
  },
  {
   "cell_type": "markdown",
   "metadata": {},
   "source": [
    "**In both cases, the distance between our 3 and the \"ideal\" 3 is less than the distance to the ideal 7.**  \n",
    "(0.1114 < 0.1586 and 0.2021 < 0.3021)  \n",
    "So our simple model will give the right prediction in this case. (me: it's a 3)  \n",
    "\n",
    "so it's closer to the mean of the 3s than to the mean of the 7s  \n",
    "so we guess therefore that this is a 3  \n",
    "so this is a good baseline"
   ]
  },
  {
   "cell_type": "markdown",
   "metadata": {},
   "source": [
    "PyTorch already provides both of these as **loss functions**.  \n",
    "You'll find these inside `torch.nn.functional`, which the PyTorch team recommends importing as `F` (and is available by default under that name in fastai):"
   ]
  },
  {
   "cell_type": "code",
   "execution_count": 43,
   "metadata": {},
   "outputs": [
    {
     "data": {
      "text/plain": [
       "(tensor(0.1586), tensor(0.3021))"
      ]
     },
     "execution_count": 43,
     "metadata": {},
     "output_type": "execute_result"
    }
   ],
   "source": [
    "#F.l1_loss(a_3.float(),mean7), F.mse_loss(a_3,mean7).sqrt()  # original code but float() has no sense there bc a_3 is a stacked_three[1] which is already transformed to float, and the same for mean7\n",
    "F.l1_loss(a_3,mean7), F.mse_loss(a_3,mean7).sqrt()  # mse_loss doesn't do the sqrt by default so we need to pop that in"
   ]
  },
  {
   "cell_type": "markdown",
   "metadata": {},
   "source": [
    "Here `mse` stands for *mean squared error*, and `l1` refers to the standard mathematical jargon for *mean absolute value* (in math it's called the *L1 norm*)."
   ]
  },
  {
   "cell_type": "markdown",
   "metadata": {},
   "source": [
    "> S: Intuitively, the difference between L1 norm and mean squared error (MSE) is that the **latter (MSE) will penalize bigger mistakes more heavily than the former(L1 norm) (and be more lenient with small mistakes).**"
   ]
  },
  {
   "cell_type": "markdown",
   "metadata": {},
   "source": [
    "> J: When I first came across this \"L1\" thingie, I looked it up to see what on earth it meant. I found on Google that it is a _vector norm_ using _absolute value_, so looked up _vector norm_ and started reading: _Given a vector space V over a field F of the real or complex numbers, a norm on V is a nonnegative-valued any function p: V → \\[0,+∞) with the following properties: For all a ∈ F and all u, v ∈ V, p(u + v) ≤ p(u) + p(v)..._ Then I stopped reading. \"Ugh, I'll never understand math!\" I thought, for the thousandth time. Since then I've learned that every time these complex mathy bits of jargon come up in practice, it turns out I can replace them with a tiny bit of code!  \n",
    "Like, the **_L1 loss_ is just equal to `(a-b).abs().mean()`**, here `a` and `b` are tensors.  \n",
    "I guess mathy folks just think differently than me... I'll make sure in this book that every time some mathy jargon comes up, I'll give you the little bit of code it's equal to as well, and explain in common-sense terms what's going on."
   ]
  },
  {
   "cell_type": "markdown",
   "metadata": {},
   "source": [
    "We just completed various mathematical operations on PyTorch tensors.  \n",
    "If you've done some numeric programming in NumPy before, you may recognize these as being similar to NumPy arrays.  \n",
    "**Let's have a look at those two very important data structures.**"
   ]
  },
  {
   "cell_type": "markdown",
   "metadata": {},
   "source": [
    "### NumPy Arrays and PyTorch Tensors"
   ]
  },
  {
   "cell_type": "markdown",
   "metadata": {},
   "source": [
    "**[NumPy](https://numpy.org/)** is the most widely used library for scientific and numeric programming in Python.  \n",
    "It provides very similar functionality and a very similar API to that provided by PyTorch;  \n",
    "however, **it does not support using the GPU or calculating gradients**, which are both critical for deep learning.  \n",
    "Therefore, in this book **we will generally use PyTorch tensors instead of NumPy arrays**, where possible.  \n",
    "\n",
    "(Note that fastai adds some features to NumPy and PyTorch to make them a bit more similar to each other.  \n",
    "If any code in this book doesn't work on your computer, it's possible that you forgot to include a line like this at the start of your notebook: `from fastai.vision.all import *`.)\n",
    "\n",
    "But what are arrays and tensors, and why should you care?"
   ]
  },
  {
   "cell_type": "markdown",
   "metadata": {},
   "source": [
    "Python is slow compared to many languages. Anything fast in Python, NumPy, or PyTorch is likely to be a wrapper for a compiled object written (and optimized) in another language—specifically C.  \n",
    "In fact, **NumPy arrays and PyTorch tensors can finish computations many thousands of times faster than using pure Python.**\n",
    "\n",
    "**A NumPy array is a multidimensional table of data, with all items of the same type.**  \n",
    "Since that can be any type at all, they can even be arrays of arrays, with **the innermost arrays potentially being different sizes—this is called a \"jagged array.\"** (ca un fierastrau)  \n",
    "By \"multidimensional table\" we mean, for instance, a list (dimension of one), a table or matrix (dimension of two), a \"table of tables\" or \"cube\" (dimension of three), and so forth.  \n",
    "**If the items are all of some simple type such as integer or float, then NumPy will store them as a compact C data structure in memory.**  \n",
    "This is where NumPy shines. NumPy has a wide variety of operators and methods that can run computations on these compact structures at the same speed as optimized C, because they are written in optimized C.\n",
    "\n",
    "**A PyTorch tensor** is nearly the same thing as a NumPy array, but with **an additional restriction that unlocks some additional capabilities.**  \n",
    "It's the same in that it, too, is a multidimensional table of data, with all items of the same type.  \n",
    "**However, the restriction is that a tensor cannot use just any old type—it has to use a single basic numeric type for all components.**     \n",
    "For example, **a PyTorch tensor cannot be jagged. It is always a regularly shaped multidimensional rectangular structure.**  \n",
    "\n",
    "The vast majority of methods and operators supported by NumPy on these structures are also supported by PyTorch, but **PyTorch tensors have additional capabilities**.  \n",
    "One major capability is that **these structures can live on the GPU, in which case their computation will be optimized for the GPU and can run much faster** (given lots of values to work on).  \n",
    "In addition, PyTorch can automatically **calculate derivatives** of these operations, including combinations of operations.  \n",
    "As you'll see, it would be impossible to do deep learning in practice without this capability.  \n",
    "\n",
    "> S: If you don't know what C is, don't worry as you won't need it at all. In a nutshell, it's a low-level  (low-level means more similar to the language that computers use internally) language that is very fast compared to Python.  \n",
    "**To take advantage of its speed while programming in Python, try to avoid as much as possible writing loops, and replace them by commands that work directly on arrays or tensors.**\n",
    "\n",
    "Perhaps the most important new coding skill for a Python programmer to learn is how to **effectively use the array/tensor APIs**.  \n",
    "We will be showing lots more tricks later in this book, but **here's a summary** of the key things you need to know for now."
   ]
  },
  {
   "cell_type": "markdown",
   "metadata": {},
   "source": [
    "**To create an array or tensor,  \n",
    "pass a list (or list of lists, or list of lists of lists, etc.)  \n",
    "to `array()` or `tensor()`:**"
   ]
  },
  {
   "cell_type": "code",
   "execution_count": 44,
   "metadata": {},
   "outputs": [],
   "source": [
    "data = [[1,2,3],[4,5,6]]\n",
    "arr = array (data)\n",
    "tns = tensor(data)"
   ]
  },
  {
   "cell_type": "code",
   "execution_count": 45,
   "metadata": {},
   "outputs": [
    {
     "data": {
      "text/plain": [
       "array([[1, 2, 3],\n",
       "       [4, 5, 6]])"
      ]
     },
     "execution_count": 45,
     "metadata": {},
     "output_type": "execute_result"
    }
   ],
   "source": [
    "arr  # numpy"
   ]
  },
  {
   "cell_type": "code",
   "execution_count": 46,
   "metadata": {},
   "outputs": [
    {
     "data": {
      "text/plain": [
       "tensor([[1, 2, 3],\n",
       "        [4, 5, 6]])"
      ]
     },
     "execution_count": 46,
     "metadata": {},
     "output_type": "execute_result"
    }
   ],
   "source": [
    "tns  # pytorch"
   ]
  },
  {
   "cell_type": "markdown",
   "metadata": {},
   "source": [
    "All the operations that follow are shown on tensors, but the syntax and results for NumPy arrays is identical.\n",
    "\n",
    "**You can select a row** (note that, like lists in Python, tensors are 0-indexed so 1 refers to the second row/column):"
   ]
  },
  {
   "cell_type": "code",
   "execution_count": 47,
   "metadata": {},
   "outputs": [
    {
     "data": {
      "text/plain": [
       "tensor([4, 5, 6])"
      ]
     },
     "execution_count": 47,
     "metadata": {},
     "output_type": "execute_result"
    }
   ],
   "source": [
    "tns[1]  # row 1; the 2nd row"
   ]
  },
  {
   "cell_type": "markdown",
   "metadata": {},
   "source": [
    "or **a column**, by using **`:` to indicate *all of the first axis*** (we sometimes refer to the dimensions of tensors/arrays as *axes*):"
   ]
  },
  {
   "cell_type": "code",
   "execution_count": 48,
   "metadata": {},
   "outputs": [
    {
     "data": {
      "text/plain": [
       "tensor([2, 5])"
      ]
     },
     "execution_count": 48,
     "metadata": {},
     "output_type": "execute_result"
    }
   ],
   "source": [
    "tns[:,1]  # 1st position shows the row, 2nd position shows the column"
   ]
  },
  {
   "cell_type": "markdown",
   "metadata": {},
   "source": [
    "You can combine these with Python **slice syntax (`[start:end]` with `end` being excluded)** to select part of a row or column:"
   ]
  },
  {
   "cell_type": "code",
   "execution_count": 49,
   "metadata": {},
   "outputs": [
    {
     "data": {
      "text/plain": [
       "tensor([5, 6])"
      ]
     },
     "execution_count": 49,
     "metadata": {},
     "output_type": "execute_result"
    }
   ],
   "source": [
    "tns[1,1:3]   # row 1, columns 1,2 (not 3)"
   ]
  },
  {
   "cell_type": "markdown",
   "metadata": {},
   "source": [
    "And you can use the standard operators such as `+`, `-`, `*`, `/`:"
   ]
  },
  {
   "cell_type": "code",
   "execution_count": 50,
   "metadata": {},
   "outputs": [
    {
     "data": {
      "text/plain": [
       "tensor([[2, 3, 4],\n",
       "        [5, 6, 7]])"
      ]
     },
     "execution_count": 50,
     "metadata": {},
     "output_type": "execute_result"
    }
   ],
   "source": [
    "tns+1"
   ]
  },
  {
   "cell_type": "markdown",
   "metadata": {},
   "source": [
    "Tensors have a **type**:"
   ]
  },
  {
   "cell_type": "code",
   "execution_count": 51,
   "metadata": {},
   "outputs": [
    {
     "data": {
      "text/plain": [
       "'torch.LongTensor'"
      ]
     },
     "execution_count": 51,
     "metadata": {},
     "output_type": "execute_result"
    }
   ],
   "source": [
    "tns.type()"
   ]
  },
  {
   "cell_type": "code",
   "execution_count": 52,
   "metadata": {},
   "outputs": [
    {
     "data": {
      "text/plain": [
       "torch.Tensor"
      ]
     },
     "execution_count": 52,
     "metadata": {},
     "output_type": "execute_result"
    }
   ],
   "source": [
    "'''\n",
    "this is different from python type, which is a method\n",
    "this tells you it's a tensor\n",
    "if you want to know what kind of a tensor, you have to use type as a method: tns.type()\n",
    "'''\n",
    "type(tns)"
   ]
  },
  {
   "cell_type": "markdown",
   "metadata": {},
   "source": [
    "And will **automatically change type as needed**, for example from `int` to `float`:"
   ]
  },
  {
   "cell_type": "code",
   "execution_count": 53,
   "metadata": {},
   "outputs": [
    {
     "data": {
      "text/plain": [
       "tensor([[1.5000, 3.0000, 4.5000],\n",
       "        [6.0000, 7.5000, 9.0000]])"
      ]
     },
     "execution_count": 53,
     "metadata": {},
     "output_type": "execute_result"
    }
   ],
   "source": [
    "tns*1.5"
   ]
  },
  {
   "cell_type": "markdown",
   "metadata": {},
   "source": [
    "**So, is our baseline model any good?  \n",
    "Our model that compares something to the mean  \n",
    "To quantify this, we must define a metric**."
   ]
  },
  {
   "cell_type": "markdown",
   "metadata": {},
   "source": [
    "## Computing Metrics Using Broadcasting"
   ]
  },
  {
   "cell_type": "markdown",
   "metadata": {},
   "source": [
    "Recall that **a metric is a number that is calculated based on the predictions of our model, and the correct labels in our dataset, in order to tell us how good our model is**.  \n",
    "For instance, we could use either of the functions we saw in the previous section, **mean squared error, or mean absolute error, and take the average of them over the whole dataset.**   \n",
    "However, neither of these are numbers that are very understandable to most people;  \n",
    "in practice, we normally **use accuracy as the metric for classification models**.  \n",
    "\n",
    "As we've discussed, we want to **calculate our metric over a validation set**.  \n",
    "This is so that we don't inadvertently **overfit—that is, train a model to work well only on our training data**.  \n",
    "This is not really a risk with the pixel similarity model we're using here as a first try, since it has no trained components,  \n",
    "but we'll use a validation set anyway to follow normal practices and to be ready for our second try later.\n",
    "\n",
    "To get a validation set we need to remove some of the data from training entirely, so it is not seen by the model at all.  \n",
    "As it turns out, the creators of the MNIST dataset have already done this for us.  \n",
    "Do you remember how there was a whole separate **directory called *valid***? That's what this directory is for!\n",
    "\n",
    "So to start with, **let's create tensors for our 3s and 7s from that directory (valid)**.  \n",
    "**These are the tensors we will use to calculate a metric measuring the quality of our first-try model, which measures distance from an ideal image**:"
   ]
  },
  {
   "cell_type": "code",
   "execution_count": 54,
   "metadata": {},
   "outputs": [
    {
     "data": {
      "text/plain": [
       "(torch.Size([1010, 28, 28]), torch.Size([1028, 28, 28]))"
      ]
     },
     "execution_count": 54,
     "metadata": {},
     "output_type": "execute_result"
    }
   ],
   "source": [
    "valid_3_tens = torch.stack([tensor(Image.open(o)) for o in (path/'valid'/'3').ls()])  # combine all the steps for valids\n",
    "valid_3_tens = valid_3_tens.float()/255\n",
    "#\n",
    "valid_7_tens = torch.stack([tensor(Image.open(o)) for o in (path/'valid'/'7').ls()])\n",
    "valid_7_tens = valid_7_tens.float()/255\n",
    "#\n",
    "valid_3_tens.shape, valid_7_tens.shape   # they are just 1k because it's the validation set"
   ]
  },
  {
   "cell_type": "markdown",
   "metadata": {},
   "source": [
    "It's good to get in **the habit of checking shapes** as you go.  \n",
    "Here we see two tensors, one representing the 3s validation set of 1,010 images of size 28×28, and one representing the 7s validation set of 1,028 images of size 28×28.\n",
    "\n",
    "==\n",
    "\n",
    "We ultimately want to write **a function, `is_3`, that will decide if an arbitrary image is a 3 or a 7.  \n",
    "(will return true if something is a 3)**    \n",
    "**It will do this by deciding which of our two \"ideal digits\" this arbitrary image is closer to.**  \n",
    "(to do that we have to decide whether our digit that we're testing on is closer to the ideal 3 or to ideal 7)  \n",
    "For that we need to define **a notion of distance  \n",
    "— that is, a function that calculates the distance between two images**.  \n",
    "\n",
    "We can write a simple **function that calculates the mean absolute error** using an expression very similar to the one we wrote in the last section:  \n",
    "(takes distance between 2 tensors, takes the absolute value and then takes the mean)"
   ]
  },
  {
   "cell_type": "code",
   "execution_count": 55,
   "metadata": {},
   "outputs": [
    {
     "data": {
      "text/plain": [
       "tensor(0.1114)"
      ]
     },
     "execution_count": 55,
     "metadata": {},
     "output_type": "execute_result"
    }
   ],
   "source": [
    "'''\n",
    "the mean over the last and the second last dimensions (0 is the 1st, -1 is the last, -2 is the second last)\n",
    "so this is going to take the mean acros the x and y axis\n",
    "'''\n",
    "\n",
    "def mnist_distance(a,b):               \n",
    "    return (a-b).abs().mean((-1,-2))   # why -1,-2? https://forums.fast.ai/t/understanding-mean-1-2-in-mnist-distance/84430\n",
    "mnist_distance(a_3, mean3)             # same as dist_a3_abs, cell 27"
   ]
  },
  {
   "cell_type": "markdown",
   "metadata": {},
   "source": [
    "This is **the same value** we previously calculated for the **distance between these two images,  \n",
    "the ideal 3, `mean3` and the arbitrary sample 3 `a_3`,**    \n",
    "which are both single-image tensors with a shape of `[28,28]`.\n",
    "\n",
    "But in order to calculate **A METRIC FOR OVERALL ACCURACY**,  \n",
    "**we will need to calculate the distance to the ideal 3 for _every_ image in the validation set**.  \n",
    "How do we do that calculation?  \n",
    "We could write a loop over all of the single-image tensors that are stacked within our validation set tensor,  \n",
    "`valid_3_tens`, which has a shape of `[1010,28,28]` representing 1,010 images.  \n",
    "But there is a better way.  \n",
    "\n",
    "Something very interesting happens when **we take this exact same distance function,  \n",
    "designed for comparing two single images,  \n",
    "but pass in as an argument `valid_3_tens`,  \n",
    "the tensor that represents the 3s validation set** (a rank-3 tensors):"
   ]
  },
  {
   "cell_type": "code",
   "execution_count": 56,
   "metadata": {},
   "outputs": [
    {
     "data": {
      "text/plain": [
       "(tensor([0.1086, 0.1092, 0.1124,  ..., 0.1368, 0.1382, 0.1187]),\n",
       " torch.Size([1010]),\n",
       " 1)"
      ]
     },
     "execution_count": 56,
     "metadata": {},
     "output_type": "execute_result"
    }
   ],
   "source": [
    "'''\n",
    "mnist_distance:\n",
    "    takes the difference between different tensors with broadcasting\n",
    "    then we say the absolute value on something of size 1010x28x28 (difference.shape) \n",
    "    it just calls abs value on each underlying thing\n",
    "    and finally, we call mean: -1 is the last element in python, -2 is the second last\n",
    "    so this is taking the mean over the last 2 axis\n",
    "    and it's going to return just the 1st axis - meaning 1010 elements, each element is the mean of a 784 (28x28) pixels\n",
    "    which is what we want: to know how far away is each of our validation items from the ideal 3\n",
    "'''\n",
    "valid_3_dist = mnist_distance(valid_3_tens, mean3)\n",
    "valid_3_dist, valid_3_dist.shape, valid_3_dist.ndim"
   ]
  },
  {
   "cell_type": "code",
   "execution_count": 57,
   "metadata": {},
   "outputs": [
    {
     "data": {
      "text/plain": [
       "torch.Size([1010, 28, 28])"
      ]
     },
     "execution_count": 57,
     "metadata": {},
     "output_type": "execute_result"
    }
   ],
   "source": [
    "valid_3_tens.shape"
   ]
  },
  {
   "cell_type": "code",
   "execution_count": 58,
   "metadata": {},
   "outputs": [
    {
     "data": {
      "text/plain": [
       "torch.Size([28, 28])"
      ]
     },
     "execution_count": 58,
     "metadata": {},
     "output_type": "execute_result"
    }
   ],
   "source": [
    "'''\n",
    "because they don't match it acts like as if there's a 1010 versions of this 28x28 of this mean3\n",
    "so it's going to substract mean3 from every single valid_3_tens \n",
    "'''\n",
    "mean3.shape"
   ]
  },
  {
   "cell_type": "markdown",
   "metadata": {},
   "source": [
    "Instead of complaining about shapes not matching,  \n",
    "it returned the **distance for every single image as a vector (i.e., a rank-1 tensor) of length 1,010** (the number of 3s in our validation set).  \n",
    "How did that happen?\n",
    "\n",
    "Take another look at our function `mnist_distance`, and you'll see we have there the subtraction `(a-b)`.  \n",
    "The magic trick is that PyTorch, when it tries to perform a simple subtraction operation between two tensors of different ranks, will use **broadcasting**.  \n",
    "That is, **it will automatically expand the tensor with the smaller rank to have the same size as the one with the larger rank**.  \n",
    "Broadcasting is an important capability that makes tensor code much easier to write.\n",
    "\n",
    "After broadcasting so the two argument tensors have the same rank,  \n",
    "PyTorch applies its usual logic for two tensors of the same rank:  \n",
    "it performs the operation on each corresponding element of the two tensors, and returns the tensor result.  \n",
    "For instance:"
   ]
  },
  {
   "cell_type": "code",
   "execution_count": 59,
   "metadata": {},
   "outputs": [
    {
     "data": {
      "text/plain": [
       "tensor([2, 3, 4])"
      ]
     },
     "execution_count": 59,
     "metadata": {},
     "output_type": "execute_result"
    }
   ],
   "source": [
    "'''\n",
    "element wise operations - adds each element\n",
    "'''\n",
    "tensor([1,2,3]) + tensor([1,1,1])"
   ]
  },
  {
   "cell_type": "code",
   "execution_count": 60,
   "metadata": {},
   "outputs": [
    {
     "data": {
      "text/plain": [
       "tensor([2, 3, 4])"
      ]
     },
     "execution_count": 60,
     "metadata": {},
     "output_type": "execute_result"
    }
   ],
   "source": [
    "'''\n",
    "when I have different shapes, it copies 1 for 3 times\n",
    "'''\n",
    "tensor([1,2,3]) + tensor(1)"
   ]
  },
  {
   "cell_type": "markdown",
   "metadata": {},
   "source": [
    "So in this case, PyTorch **treats `mean3`, a rank-2 tensor representing a single image, as if it were 1,010 copies of the same image**,  \n",
    "and then subtracts each of those copies from each 3 in our validation set.  \n",
    "What shape would you expect this tensor to have?  \n",
    "Try to figure it out yourself before you look at the answer below:"
   ]
  },
  {
   "cell_type": "code",
   "execution_count": 61,
   "metadata": {},
   "outputs": [
    {
     "data": {
      "text/plain": [
       "torch.Size([1010, 28, 28])"
      ]
     },
     "execution_count": 61,
     "metadata": {},
     "output_type": "execute_result"
    }
   ],
   "source": [
    "'''\n",
    "valid_3_tens minus 1010 copies of mean3\n",
    "'''\n",
    "(valid_3_tens-mean3).shape"
   ]
  },
  {
   "cell_type": "markdown",
   "metadata": {},
   "source": [
    "We are calculating **the difference between our \"ideal 3\" and each of the 1,010 3s in the validation set, for each of 28×28 images, resulting in the shape `[1010,28,28]`**.\n",
    "\n",
    "There are a couple of **important points about how broadcasting is implemented**, which make it valuable not just for expressivity but also for **performance**:\n",
    "\n",
    "- **PyTorch doesn't *actually* copy `mean3` 1,010 times. It *pretends* it were a tensor of that shape, but doesn't actually allocate any additional memory**  \n",
    "- **It does the whole calculation in C (or, if you're using a GPU, in CUDA, the equivalent of C on the GPU)**, tens of thousands of times faster than pure Python (up to millions of times faster on a GPU!).\n",
    "\n",
    "**This is true of all broadcasting and elementwise operations and functions done in PyTorch.  \n",
    "*It's the most important technique for you to know to create efficient PyTorch code.***\n",
    "\n",
    "Next in `mnist_distance` we see **`abs`**. You might be able to guess now what this does when applied to a tensor.  \n",
    "**It applies the method to each individual element in the tensor, and returns a tensor of the results (that is, it applies the method \"elementwise\").**    \n",
    "So in this case, we'll get back **1,010 matrices of absolute values**. (1010x(28x28))\n",
    "\n",
    "**Finally, our function calls `mean((-1,-2))`**.  \n",
    "The tuple `(-1,-2)` represents **a range of axes**.  \n",
    "In Python, `-1` refers to the *last element*, and `-2` refers to the *second-to-last*.  \n",
    "So in this case, **this tells PyTorch that we want to take the mean ranging over the values indexed by the last two axes of the tensor.  \n",
    "The last two axes are the horizontal and vertical dimensions of an image. (me: the 28x28 axis of each image)  \n",
    "After taking the mean over the last two axes, we are left with just the first tensor axis,  \n",
    "which indexes over our images, which is why our final size was `(1010 means)`.**  \n",
    "**In other words, for every image, we averaged the intensity of all the pixels in that image.**  (so not the average of every pixel from the axis 0, but the average of every image 28x28)\n",
    "\n",
    "We'll be learning lots more about broadcasting throughout this book, especially in <<chapter_foundations>>, and will be practicing it regularly too.\n",
    "\n",
    "We can use `mnist_distance` to figure out whether **an image is a 3 or not** by using the following logic:  \n",
    "**if the distance between the digit in question and the ideal 3 is less than the distance to the ideal 7, then it's a 3.**  \n",
    "This function will automatically do broadcasting and be applied elementwise, just like all PyTorch functions and operators:"
   ]
  },
  {
   "cell_type": "code",
   "execution_count": 62,
   "metadata": {},
   "outputs": [],
   "source": [
    "'''\n",
    "is the distance between the number in question and the perfect 3 less than \n",
    "the distance between the number in question and the perfect 7?\n",
    "if it is, it's a 3\n",
    "'''\n",
    "\n",
    "def is_3(x): return mnist_distance(x,mean3) < mnist_distance(x,mean7)"
   ]
  },
  {
   "cell_type": "markdown",
   "metadata": {},
   "source": [
    "**Let's test it on our example case:**"
   ]
  },
  {
   "cell_type": "code",
   "execution_count": 63,
   "metadata": {},
   "outputs": [
    {
     "data": {
      "text/plain": [
       "(tensor(True), tensor(1.))"
      ]
     },
     "execution_count": 63,
     "metadata": {},
     "output_type": "execute_result"
    }
   ],
   "source": [
    "is_3(a_3), is_3(a_3).float()  # we can turn that into a float and yes becomes 1"
   ]
  },
  {
   "cell_type": "markdown",
   "metadata": {},
   "source": [
    "Note that when we convert the Boolean response to a float, we get `1.0` for `True` and `0.0` for `False`.  \n",
    "**Thanks to broadcasting, we can also test it on the full validation set of 3s:**"
   ]
  },
  {
   "cell_type": "code",
   "execution_count": 64,
   "metadata": {},
   "outputs": [
    {
     "data": {
      "text/plain": [
       "tensor([True, True, True,  ..., True, True, True])"
      ]
     },
     "execution_count": 64,
     "metadata": {},
     "output_type": "execute_result"
    }
   ],
   "source": [
    "'''\n",
    "thanks to broadcasting, we can do it for the entire validation set of 3s\n",
    "we basically get rid of loops\n",
    "in this kind of programming, you should have very few loops\n",
    "loops make things much harder to read, and hundreds of thousands of times slower\n",
    "on gpu potentially tens of millions of times slower\n",
    "'''\n",
    "is_3(valid_3_tens)  "
   ]
  },
  {
   "cell_type": "code",
   "execution_count": 65,
   "metadata": {},
   "outputs": [
    {
     "data": {
      "text/plain": [
       "tensor([1., 1., 1.,  ..., 1., 1., 1.])"
      ]
     },
     "execution_count": 65,
     "metadata": {},
     "output_type": "execute_result"
    }
   ],
   "source": [
    "is_3(valid_3_tens).float()  # added by me"
   ]
  },
  {
   "cell_type": "markdown",
   "metadata": {},
   "source": [
    "Now we can calculate **the accuracy for each of the 3s and 7s by taking the average of that function for all 3s and its inverse for all 7s:**"
   ]
  },
  {
   "cell_type": "code",
   "execution_count": 66,
   "metadata": {},
   "outputs": [
    {
     "data": {
      "text/plain": [
       "(tensor(0.9168), tensor(0.9854), tensor(0.9511))"
      ]
     },
     "execution_count": 66,
     "metadata": {},
     "output_type": "execute_result"
    }
   ],
   "source": [
    "'''\n",
    "so the accuracy across 3s is about 91%, on 7 is 98%\n",
    "and the average of those 2 is about 95%\n",
    "so here we have a model that's 95% accurate in recognising 3s from 7s\n",
    "it can suprise you that we can do that nothing but arithmetic\n",
    "so that's what I mean by getting a good baseline\n",
    "\n",
    "but it doesn't match Arthur Samuel description of machine learning\n",
    "this is not something where there's a function which has some parameters\n",
    "which we're testing against some kind of measure of fitness\n",
    "and then using that to like improve the parameters iteratively\n",
    "\n",
    "here we just did one step and that's that\n",
    "'''\n",
    "accuracy_3s =      is_3(valid_3_tens).float() .mean()\n",
    "accuracy_7s = (1 - is_3(valid_7_tens).float()).mean()\n",
    "\n",
    "accuracy_3s,accuracy_7s,(accuracy_3s+accuracy_7s)/2  # me: it's 0.90 because some of the is_3 are not 1 but 0 or 0.5 etc"
   ]
  },
  {
   "cell_type": "code",
   "execution_count": 67,
   "metadata": {},
   "outputs": [
    {
     "data": {
      "text/plain": [
       "tensor(0.9854)"
      ]
     },
     "execution_count": 67,
     "metadata": {},
     "output_type": "execute_result"
    }
   ],
   "source": [
    "(1-is_3(valid_7_tens).float()).mean()"
   ]
  },
  {
   "cell_type": "markdown",
   "metadata": {},
   "source": [
    "This looks like a pretty good start! We're getting **over 90% accuracy on both 3s and 7s,** (me: because some of the is_3 are not 1 but 0 or 0.5 etc)  \n",
    "and we've seen how to define a metric conveniently using broadcasting.\n",
    "\n",
    "But let's be honest: 3s and 7s are very different-looking digits.  \n",
    "And we're only classifying 2 out of the 10 possible digits so far.  \n",
    "So we're going to need to do better!\n",
    "\n",
    "To do better, perhaps it is time to **try a system that does some real learning\n",
    "— that is, that can automatically modify itself to improve its performance.**  \n",
    "In other words, it's time to talk about **the training process, and SGD.**"
   ]
  },
  {
   "cell_type": "markdown",
   "metadata": {},
   "source": [
    "## Stochastic Gradient Descent (SGD)"
   ]
  },
  {
   "cell_type": "markdown",
   "metadata": {},
   "source": [
    "Do you remember the way that Arthur Samuel **described machine learning**, which we quoted in <<chapter_intro>>?\n",
    "\n",
    "> **Suppose we arrange for some automatic means  \n",
    "of testing the effectiveness of any current weight (parameter) assignment in terms of actual performance  \n",
    "and provide a mechanism for altering the weight assignment so as to maximize the performance.  \n",
    "We need not go into the details of such a procedure to see that it could be made entirely automatic  \n",
    "and to see that a machine so programmed would \"learn\" from its experience.**\n",
    "\n",
    "As we discussed, this is the key to allowing us to have **a model that can get better and better — that can learn.**  \n",
    "**But our pixel similarity approach does not really do this.**  \n",
    "We do not have any kind of weight assignment, or any way of improving based on testing the effectiveness of a weight assignment.  \n",
    "In other words, **we can't really improve our pixel similarity approach by modifying a set of parameters.**    \n",
    "**In order to take advantage of the power of deep learning,  \n",
    "we will first have to represent our task in the way that Arthur Samuel described it.**\n",
    "\n",
    "Instead of trying to find the similarity between an image and an \"ideal image,\"  \n",
    "we could instead **look at each individual pixel and come up with a set of weights for each one,  \n",
    "such that the highest weights are associated with those pixels most likely to be black for a particular category.**  \n",
    "For instance, **pixels toward the bottom right** are not very likely to be activated for a 7, so they should have **a low weight for a 7,**  \n",
    "but they are likely to be activated for an 8, so they should have **a high weight for an 8.**  \n",
    "This can be represented as **a function and set of weight values for each possible category  \n",
    "— for instance the probability of being the number 8:**\n",
    "\n",
    "```\n",
    "def pr_eight(x,w): return (x*w).sum()\n",
    "```\n",
    "> why this formula? a nn multiplies each input by a number of values and adds them (how a nn works)"
   ]
  },
  {
   "cell_type": "code",
   "execution_count": 68,
   "metadata": {},
   "outputs": [
    {
     "data": {
      "text/plain": [
       "\"\\ninstead of finding an ideal image and seeing how far away something is from the ideal image\\nwe could come up with a set of weights for each pixel\\nso we're trying to find out if something is the number 3\\nand so we know that like in the places that you would expect to find 3 pixels you could give those high weights\\nif there's a dot in those places, we give it like a high score \\nand if there's dots in other places we give it a low score (why?)\\n\\nso we can actually come up with a function where the probability of something being an 8\\nis equal to pixels in the image (x) multiplied by some sort of weights and them we sum them up\\nso then anywhere where the image we're looking at has pixels (where) there are high weights\\nit's going to end up with high probability \\n\\nhere X is the image, represented as vector, have all the rows stacked up, end to end into a single long line\\n\\nso we're going to use an approach were we're going to start with a vector W (rank 1 tensor)\\n1. that's going to contain random weights (random parameters)\\n2. we'll then predict whether a number appears to be a 3 or a 7 by using this tiny little function pr_eight\\n3. and then we'll figure out how good/accurate our model is (it's loss)\\n4. and then the key step is to calculate the gradient\\nthe gradient is something that measures for each weight \\nif I made it a little bit bigger would the loss get better or worse\\nif I made it a little bit smaller would the loss get better or worse?\\nso if we do that for every weight we can decide for every weight whether we should make that weight a bit bigger or a bit smaller\\nthat's called the gradient\\n5. once we have the gradient we then step (change) all the weights \\nup a little bit for the ones where the gradient said we should make them a bit higher\\nand down a little bit for all the once where the gradient said they should be a little bit lower\\nso now it should be a tiny bit better \\n6. and then we go back to step 2 and calculate a new set of predictions, using this formula\\ncalculate the gradient again, step the weights, keep doing that\\nthis is the flow chart \\n7. and at somw point when we're sick of waiting or when the loss gets good enough we'll stop\\n\\nthese 7 steps are key to training all DL models\\nthis technique is called stochastic gradient descent \\nwell, it's gradient descent, we'll the see the stochastic very soon\\n\""
      ]
     },
     "execution_count": 68,
     "metadata": {},
     "output_type": "execute_result"
    }
   ],
   "source": [
    "'''\n",
    "instead of finding an ideal image and seeing how far away something is from the ideal image\n",
    "we could come up with a set of weights for each pixel\n",
    "so we're trying to find out if something is the number 3\n",
    "and so we know that like in the places that you would expect to find 3 pixels you could give those high weights\n",
    "if there's a dot in those places, we give it like a high score \n",
    "and if there's dots in other places we give it a low score (why?)\n",
    "\n",
    "so we can actually come up with a function where the probability of something being an 8\n",
    "is equal to pixels in the image (x) multiplied by some sort of weights and them we sum them up\n",
    "so then anywhere where the image we're looking at has pixels (where) there are high weights\n",
    "it's going to end up with high probability \n",
    "\n",
    "here X is the image, represented as vector, have all the rows stacked up, end to end into a single long line\n",
    "\n",
    "so we're going to use an approach were we're going to start with a vector W (rank 1 tensor)\n",
    "1. that's going to contain random weights (random parameters)\n",
    "2. we'll then predict whether a number appears to be a 3 or a 7 by using this tiny little function pr_eight\n",
    "3. and then we'll figure out how good/accurate our model is (it's loss)\n",
    "4. and then the key step is to calculate the gradient\n",
    "the gradient is something that measures for each weight \n",
    "if I made it a little bit bigger would the loss get better or worse\n",
    "if I made it a little bit smaller would the loss get better or worse?\n",
    "so if we do that for every weight we can decide for every weight whether we should make that weight a bit bigger or a bit smaller\n",
    "that's called the gradient\n",
    "5. once we have the gradient we then step (change) all the weights \n",
    "up a little bit for the ones where the gradient said we should make them a bit higher\n",
    "and down a little bit for all the once where the gradient said they should be a little bit lower\n",
    "so now it should be a tiny bit better \n",
    "6. and then we go back to step 2 and calculate a new set of predictions, using this formula\n",
    "calculate the gradient again, step the weights, keep doing that\n",
    "this is the flow chart \n",
    "7. and at somw point when we're sick of waiting or when the loss gets good enough we'll stop\n",
    "\n",
    "these 7 steps are key to training all DL models\n",
    "this technique is called stochastic gradient descent \n",
    "well, it's gradient descent, we'll the see the stochastic very soon\n",
    "'''"
   ]
  },
  {
   "cell_type": "markdown",
   "metadata": {},
   "source": [
    "Here we are assuming that **`x` is the image, represented as a vector**  \n",
    "— in other words, with <u>all of the rows stacked up end to end into a single long line</u>.    \n",
    "And we are assuming that **the weights are a vector `w`**.  \n",
    "If we have this function, then we just need some **way to update the weights to make them a little bit better**.  \n",
    "With such an approach, we can repeat that step a number of times,  \n",
    "making the weights better and better, until they are as good as we can make them.\n",
    "\n",
    "**We want to find the specific values for the vector `w`  \n",
    "that causes the result of our function to be high for those images that are actually 8s,  \n",
    "and low for those images that are not.**  \n",
    "**Searching for the best vector `w` is a way to search for the best function for recognising 8s.**  \n",
    "(<u>Because we are not yet using a deep neural network, we are limited by what our function can actually do</u>.  \n",
    "— we are going to fix that constraint later in this chapter.) \n",
    "\n",
    "To be more specific, here are **the steps** that we are going to require,  \n",
    "**to turn this function into a machine learning classifier:**\n",
    "\n",
    "1. ***Initialize*** the weights.\n",
    "1. For each image, **use these weights to *predict*** whether it appears to be a 3 or a 7.\n",
    "1. Based on these predictions, **calculate how good the model is (its *loss*).**\n",
    "1. **Calculate the *gradient***, <u>which measures for each weight, how changing that weight would change the loss</u>\n",
    "1. ***Step* (that is, change) all the weights** based on that calculation.\n",
    "1. Go back to the **step 2, and *repeat*** the process.\n",
    "1. **Iterate until you decide to *stop*** the training process (for instance, because the model is good enough or you don't want to wait any longer)."
   ]
  },
  {
   "cell_type": "markdown",
   "metadata": {},
   "source": [
    "**These seven steps, illustrated in <<gradient_descent>>, are the key to the training of all deep learning models.**    \n",
    "That deep learning turns out to rely entirely on these steps is extremely surprising and **counterintuitive**.  \n",
    "It's amazing that this process can solve such complex problems.  \n",
    "But, as you'll see, it really does!"
   ]
  },
  {
   "cell_type": "code",
   "execution_count": 69,
   "metadata": {
    "hide_input": true
   },
   "outputs": [
    {
     "data": {
      "image/svg+xml": [
       "<?xml version=\"1.0\" encoding=\"UTF-8\" standalone=\"no\"?>\n",
       "<!DOCTYPE svg PUBLIC \"-//W3C//DTD SVG 1.1//EN\"\n",
       " \"http://www.w3.org/Graphics/SVG/1.1/DTD/svg11.dtd\">\n",
       "<!-- Generated by graphviz version 7.1.0 (20230122.1345)\n",
       " -->\n",
       "<!-- Title: G Pages: 1 -->\n",
       "<svg width=\"661pt\" height=\"78pt\"\n",
       " viewBox=\"0.00 0.00 660.87 78.00\" xmlns=\"http://www.w3.org/2000/svg\" xmlns:xlink=\"http://www.w3.org/1999/xlink\">\n",
       "<g id=\"graph0\" class=\"graph\" transform=\"scale(1 1) rotate(0) translate(4 74)\">\n",
       "<title>G</title>\n",
       "<polygon fill=\"white\" stroke=\"none\" points=\"-4,4 -4,-74 656.87,-74 656.87,4 -4,4\"/>\n",
       "<!-- init -->\n",
       "<g id=\"node1\" class=\"node\">\n",
       "<title>init</title>\n",
       "<ellipse fill=\"none\" stroke=\"black\" cx=\"27\" cy=\"-18\" rx=\"27\" ry=\"18\"/>\n",
       "<text text-anchor=\"middle\" x=\"27\" y=\"-14.3\" font-family=\"Times,serif\" font-size=\"14.00\">init</text>\n",
       "</g>\n",
       "<!-- predict -->\n",
       "<g id=\"node2\" class=\"node\">\n",
       "<title>predict</title>\n",
       "<ellipse fill=\"none\" stroke=\"black\" cx=\"135.2\" cy=\"-18\" rx=\"44.39\" ry=\"18\"/>\n",
       "<text text-anchor=\"middle\" x=\"135.2\" y=\"-14.3\" font-family=\"Times,serif\" font-size=\"14.00\">predict</text>\n",
       "</g>\n",
       "<!-- init&#45;&gt;predict -->\n",
       "<g id=\"edge1\" class=\"edge\">\n",
       "<title>init&#45;&gt;predict</title>\n",
       "<path fill=\"none\" stroke=\"black\" d=\"M54.25,-18C61.85,-18 70.45,-18 79.12,-18\"/>\n",
       "<polygon fill=\"black\" stroke=\"black\" points=\"78.96,-21.5 88.96,-18 78.96,-14.5 78.96,-21.5\"/>\n",
       "</g>\n",
       "<!-- loss -->\n",
       "<g id=\"node3\" class=\"node\">\n",
       "<title>loss</title>\n",
       "<ellipse fill=\"none\" stroke=\"black\" cx=\"244.99\" cy=\"-52\" rx=\"28.7\" ry=\"18\"/>\n",
       "<text text-anchor=\"middle\" x=\"244.99\" y=\"-48.3\" font-family=\"Times,serif\" font-size=\"14.00\">loss</text>\n",
       "</g>\n",
       "<!-- predict&#45;&gt;loss -->\n",
       "<g id=\"edge2\" class=\"edge\">\n",
       "<title>predict&#45;&gt;loss</title>\n",
       "<path fill=\"none\" stroke=\"black\" d=\"M171.19,-29.04C182.93,-32.74 196.04,-36.88 207.87,-40.61\"/>\n",
       "<polygon fill=\"black\" stroke=\"black\" points=\"206.69,-43.9 217.28,-43.58 208.8,-37.23 206.69,-43.9\"/>\n",
       "</g>\n",
       "<!-- gradient -->\n",
       "<g id=\"node4\" class=\"node\">\n",
       "<title>gradient</title>\n",
       "<ellipse fill=\"none\" stroke=\"black\" cx=\"406.63\" cy=\"-52\" rx=\"50.09\" ry=\"18\"/>\n",
       "<text text-anchor=\"middle\" x=\"406.63\" y=\"-48.3\" font-family=\"Times,serif\" font-size=\"14.00\">gradient</text>\n",
       "</g>\n",
       "<!-- loss&#45;&gt;gradient -->\n",
       "<g id=\"edge3\" class=\"edge\">\n",
       "<title>loss&#45;&gt;gradient</title>\n",
       "<path fill=\"none\" stroke=\"black\" d=\"M274.16,-52C293.71,-52 320.51,-52 344.81,-52\"/>\n",
       "<polygon fill=\"black\" stroke=\"black\" points=\"344.61,-55.5 354.61,-52 344.61,-48.5 344.61,-55.5\"/>\n",
       "</g>\n",
       "<!-- step -->\n",
       "<g id=\"node5\" class=\"node\">\n",
       "<title>step</title>\n",
       "<ellipse fill=\"none\" stroke=\"black\" cx=\"524.23\" cy=\"-18\" rx=\"30.59\" ry=\"18\"/>\n",
       "<text text-anchor=\"middle\" x=\"524.23\" y=\"-14.3\" font-family=\"Times,serif\" font-size=\"14.00\">step</text>\n",
       "</g>\n",
       "<!-- gradient&#45;&gt;step -->\n",
       "<g id=\"edge4\" class=\"edge\">\n",
       "<title>gradient&#45;&gt;step</title>\n",
       "<path fill=\"none\" stroke=\"black\" d=\"M446.12,-40.68C458.69,-36.98 472.64,-32.88 485.18,-29.19\"/>\n",
       "<polygon fill=\"black\" stroke=\"black\" points=\"486.16,-32.55 494.77,-26.37 484.18,-25.84 486.16,-32.55\"/>\n",
       "</g>\n",
       "<!-- step&#45;&gt;predict -->\n",
       "<g id=\"edge6\" class=\"edge\">\n",
       "<title>step&#45;&gt;predict</title>\n",
       "<path fill=\"none\" stroke=\"black\" d=\"M493.24,-18C428.38,-18 274.25,-18 191.3,-18\"/>\n",
       "<polygon fill=\"black\" stroke=\"black\" points=\"191.35,-14.5 181.35,-18 191.35,-21.5 191.35,-14.5\"/>\n",
       "<text text-anchor=\"middle\" x=\"315.09\" y=\"-21.8\" font-family=\"Times,serif\" font-size=\"14.00\">repeat</text>\n",
       "</g>\n",
       "<!-- stop -->\n",
       "<g id=\"node6\" class=\"node\">\n",
       "<title>stop</title>\n",
       "<ellipse fill=\"none\" stroke=\"black\" cx=\"622.32\" cy=\"-18\" rx=\"30.59\" ry=\"18\"/>\n",
       "<text text-anchor=\"middle\" x=\"622.32\" y=\"-14.3\" font-family=\"Times,serif\" font-size=\"14.00\">stop</text>\n",
       "</g>\n",
       "<!-- step&#45;&gt;stop -->\n",
       "<g id=\"edge5\" class=\"edge\">\n",
       "<title>step&#45;&gt;stop</title>\n",
       "<path fill=\"none\" stroke=\"black\" d=\"M555.1,-18C563.06,-18 571.79,-18 580.23,-18\"/>\n",
       "<polygon fill=\"black\" stroke=\"black\" points=\"579.95,-21.5 589.95,-18 579.95,-14.5 579.95,-21.5\"/>\n",
       "</g>\n",
       "</g>\n",
       "</svg>\n"
      ],
      "text/plain": [
       "<graphviz.sources.Source at 0x7eff77bc8bd0>"
      ]
     },
     "execution_count": 69,
     "metadata": {},
     "output_type": "execute_result"
    }
   ],
   "source": [
    "#id gradient_descent\n",
    "#caption The gradient descent process\n",
    "#alt Graph showing the steps for Gradient Descent\n",
    "gv('''\n",
    "init->predict->loss->gradient->step->stop\n",
    "step->predict[label=repeat]\n",
    "''')"
   ]
  },
  {
   "cell_type": "code",
   "execution_count": 70,
   "metadata": {},
   "outputs": [
    {
     "data": {
      "text/plain": [
       "\"\\nfor each of these 7 steps there are lots of choices around exactly how to do it\\nwe've just kind of hand waved a lot\\n    what kind of random initialization\\n    how do you calculate the gradient\\n    and what step do you take based on the gradient\\n    and how do you decide when to stop\\n\\nin this course we're going to be learning about these steps, that's kind of the part 1\\nthe other part is what is the actual function, neural network\\nso how do we train the thing that we train?\\n\\nso we initialize the parameters with random values\\nwe need some function that's going to be the loss function that will return a number that's small if the performance of the model is good\\nsome way to figure out if the weight should be increased or decreased a bit \\nand then we need to decide when to stop, which is to say let's do a certain number of epochs\\n\\n1.45\\n\""
      ]
     },
     "execution_count": 70,
     "metadata": {},
     "output_type": "execute_result"
    }
   ],
   "source": [
    "'''\n",
    "for each of these 7 steps there are lots of choices around exactly how to do it\n",
    "we've just kind of hand waved a lot\n",
    "    what kind of random initialization\n",
    "    how do you calculate the gradient\n",
    "    and what step do you take based on the gradient\n",
    "    and how do you decide when to stop\n",
    "\n",
    "in this course we're going to be learning about these steps, that's kind of the part 1\n",
    "the other part is what is the actual function, neural network\n",
    "so how do we train the thing that we train?\n",
    "\n",
    "so we initialize the parameters with random values\n",
    "we need some function that's going to be the loss function that will return a number that's small if the performance of the model is good\n",
    "some way to figure out if the weight should be increased or decreased a bit \n",
    "and then we need to decide when to stop, which is to say let's do a certain number of epochs\n",
    "\n",
    "1.45\n",
    "'''"
   ]
  },
  {
   "cell_type": "markdown",
   "metadata": {},
   "source": [
    "**There are many different ways to do each of these seven steps**, and we will be learning about them throughout the rest of this book.  \n",
    "These are the details that make a big difference for deep learning practitioners,  \n",
    "but it turns out that **the general approach to each one generally follows some basic principles**.  \n",
    "**Here are a few guidelines:**\n",
    "\n",
    "- **Initialize**:: **We initialize the parameters to random values**.  \n",
    "This may sound surprising.  \n",
    "There are certainly other choices we could make, such as initializing them to the percentage of times that pixel is activated for that category  \n",
    "— but since we already know that we have a routine to improve these weights, it turns out that just starting with random weights works perfectly well.   \n",
    "- **Loss**:: This is what Samuel referred to when he spoke of ***testing the effectiveness of any current weight assignment in terms of actual performance***.  \n",
    "**We need some function that will return a number that is small if the performance of the model is good**  \n",
    "(the standard approach is to treat a small loss as good, and a large loss as bad, although this is just a convention).  \n",
    "- **Step**:: A simple way to **figure out whether a weight should be increased a bit, or decreased a bit**,  \n",
    "would be just to try it: **increase the weight by a small amount, and see if the loss goes up or down.**    \n",
    "Once you find the correct direction, you could then change that amount by a bit more, and a bit less,  \n",
    "until you find an amount that works well.  \n",
    "However, this is slow! As we will see, the magic of calculus allows us  \n",
    "**to directly figure out in which direction, and by roughly how much, to change each weight,**  \n",
    "without having to try all these small changes.  \n",
    "The way to do this is by calculating ***gradients***.  \n",
    "This is just a performance optimization, we would get exactly the same results by using the slower manual process as well.  \n",
    "- **Stop**:: Once we've decided **how many epochs to train the model for** (a few suggestions for this were given in the earlier list),  \n",
    "we apply that decision. This is where that decision is applied.  \n",
    "For our digit classifier, we would **keep training until the accuracy of the model started getting worse, or we ran out of time.**   "
   ]
  },
  {
   "cell_type": "markdown",
   "metadata": {},
   "source": [
    "Before applying these steps to our image classification problem, **let's illustrate what they look like in a simpler case.**    \n",
    "First we will define a very simple function,  \n",
    "**the quadratic — let's pretend that this is our loss function, and `x` is a weight parameter of the function:**  \n",
    ">me: why x is the weight parameter?  \n",
    "we need to minimize the loss function  \n",
    "and the loss is a function of the weight (in this case a quadratic function, but it can be some other function)  \n",
    "why loss is a function of the weight? because we need to find the weights where the loss is minimum!!  \n",
    "more logical would be f(a)=a**2"
   ]
  },
  {
   "cell_type": "code",
   "execution_count": 71,
   "metadata": {},
   "outputs": [],
   "source": [
    "'''\n",
    "so let's go even simpler, we're not going to do mnist\n",
    "we're going to start with this x**2\n",
    "and in fastai we've created a tiny thing called plot function\n",
    "that plots a function \n",
    "'''\n",
    "def f(x): return x**2"
   ]
  },
  {
   "cell_type": "markdown",
   "metadata": {},
   "source": [
    "Here is a **graph** of that function:"
   ]
  },
  {
   "cell_type": "code",
   "execution_count": 72,
   "metadata": {},
   "outputs": [
    {
     "data": {
      "image/png": "[encoded data removed]",
      "text/plain": [
       "<Figure size 600x400 with 1 Axes>"
      ]
     },
     "metadata": {},
     "output_type": "display_data"
    }
   ],
   "source": [
    "plot_function(f, 'x', 'x**2')"
   ]
  },
  {
   "cell_type": "markdown",
   "metadata": {},
   "source": [
    "The sequence of steps we described earlier \n",
    "**starts by picking some random value for a parameter, \n",
    "and calculating the value of the loss:**  \n",
    "> me: step 1 initialize the weights or parameters;  \n",
    "> so if it says pick a random value for a parameter then x is the parameter, -1.5  \n",
    "x=-1.5 and the loss is f(-1.5) because quadratic f is the loss  "
   ]
  },
  {
   "cell_type": "code",
   "execution_count": 73,
   "metadata": {},
   "outputs": [
    {
     "data": {
      "image/png": "[encoded data removed]",
      "text/plain": [
       "<Figure size 600x400 with 1 Axes>"
      ]
     },
     "metadata": {},
     "output_type": "display_data"
    }
   ],
   "source": [
    "'''\n",
    "so there's our loss function f, \n",
    "and we're going to do is we're going to try to find the bottom point\n",
    "we're trying to figure out what is the x value, which is at the bottom\n",
    "so our seven stop procedure requires us to start out by initializing the weights\n",
    "so we need to pick some value\n",
    "so the value we pick is just randomly -1.5\n",
    "\n",
    "so now we need to know if I increased x a bit, does my loss gets a bit better\n",
    "better is smaller, going down, or a bit worse?\n",
    "we can try a slightly higher x, a lower x and see what happens\n",
    "\n",
    "and you can see it's just the slope\n",
    "the slope at this point (X=-1.5) tells you that if I increased x by a bit then \n",
    "my loss will decrease because that is the slope at this point\n",
    "so if we change our weight, our parameter, just a little bit, in the direction of the slope\n",
    "\n",
    "here is the direction of the slope; the big red, horizontal line\n",
    "here is the new value at that point, intersect of the verticall dotted line with the function\n",
    "and then do it again\n",
    "and then do it again\n",
    "eventually we'll get to the bottom of this curve\n",
    "'''\n",
    "plot_function(f, 'x', 'x**2')\n",
    "plt.scatter(-1.5, f(-1.5), color='red');"
   ]
  },
  {
   "cell_type": "markdown",
   "metadata": {},
   "source": [
    "Now we look to see **what would happen if we increased or decreased our parameter by a little bit — the *adjustment***.  \n",
    "This is simply **the slope** at a particular point:"
   ]
  },
  {
   "cell_type": "markdown",
   "metadata": {},
   "source": [
    "<img alt=\"A graph showing the squared function with the slope at one point\" width=\"400\" src=\"images/grad_illustration.svg\"/>"
   ]
  },
  {
   "cell_type": "markdown",
   "metadata": {},
   "source": [
    "We can \n",
    "**change our weight by a little in the direction of the slope, (me: increase the parameter/weight)    \n",
    "calculate our loss and adjustment again,  \n",
    "and repeat this a few times**.   \n",
    "Eventually, we will get to **the lowest point on our curve**:"
   ]
  },
  {
   "cell_type": "markdown",
   "metadata": {},
   "source": [
    "here is the direction of the slope; the big red, horizontal line  \n",
    "here is the new value at that point, intersect of the verticall dotted line with the function  \n",
    "and then do it again  \n",
    "and then do it again  \n",
    "eventually we'll get to the bottom of this curve  \n",
    "\n",
    "<img alt=\"An illustration of gradient descent\" width=\"400\" src=\"images/chapter2_perfect.svg\"/>"
   ]
  },
  {
   "cell_type": "markdown",
   "metadata": {},
   "source": [
    "This basic idea goes all the way back to **Isaac Newton**, who pointed out that we can optimize arbitrary functions in this way.  \n",
    "Regardless of how complicated our functions become, **this basic approach of gradient descent will not significantly change**.  \n",
    "The only minor changes we will see later in this book are **some handy ways we can make it faster, by finding better steps**.\n",
    "\n",
    "video:\n",
    "the idea is called newton's method  \n",
    "so a key thing we need to be able to do is to calculate this slope  \n",
    "the bad news is to do that we need calculus  \n",
    "we have to calculate the derivative  \n",
    "1.48.55  "
   ]
  },
  {
   "cell_type": "markdown",
   "metadata": {},
   "source": [
    "### Calculating Gradients"
   ]
  },
  {
   "cell_type": "markdown",
   "metadata": {},
   "source": [
    "**The one magic step is the bit where we calculate the gradients**.    \n",
    "As we mentioned, we use calculus as a performance optimization;  \n",
    "it allows us to more quickly **calculate whether our loss will go up or down when we adjust our parameters up or down**.  \n",
    "In other words, **the gradients will tell us how much we have to change each weight to make our model better**.\n",
    "\n",
    "You may remember from your high school calculus class that  \n",
    "**the *derivative* of a function tells you how much a change in its parameters will change its result**.   \n",
    "If not, don't worry, lots of us forget calculus once high school is behind us!  \n",
    "But you will have to have some intuitive understanding of what a derivative is before you continue,  \n",
    "so if this is all very fuzzy in your head, head over to Khan Academy and complete the **[lessons on basic derivatives](https://www.khanacademy.org/math/differential-calculus/dc-diff-intro)**.  \n",
    "You won't have to know how to calculate them yourselves, **you just have to know what a derivative is.**\n",
    "\n",
    "**The key point about a derivative is this:** <u>for any function, such as the quadratic function we saw in the previous section, we can calculate its derivative</u>.  \n",
    "The derivative is another function.  \n",
    "**It calculates the change, rather than the value.**  \n",
    "For instance, **the derivative of the quadratic function at the value 3 tells us how rapidly the function changes at the value 3.  \n",
    "= THE SPEED**   \n",
    "More specifically, you may recall that **gradient** is defined as ***rise/run***,  \n",
    "that is, **<u>the change in the value of the function, divided by the change in the value of the parameter</u>**.  \n",
    "**When we know how our function will change, then we know what we need to do to make it smaller**.  \n",
    ">(me: because slope=rise/run or delta-function/delta-parameter and is negative  \n",
    "and delta-func is negative because the func value is lower  \n",
    "then we need to increase the param so that delta-param is positive so that the slope is negative  \n",
    "if the param would decrease then delta-param would be negative and the slope positive, but that's not the case)         \n",
    "\n",
    "**This is the key to machine learning: having a way to change the parameters of a function to make it smaller**.  \n",
    "Calculus provides us with a computational shortcut, **the derivative, which lets us directly calculate the gradients of our functions**.  "
   ]
  },
  {
   "cell_type": "markdown",
   "metadata": {},
   "source": [
    "One important thing to be aware of is that **our function has lots of weights** that we need to adjust,  \n",
    "so when we **calculate the derivative** we won't get back one number, but lots of them — **a gradient for every weight**.  \n",
    "But there is nothing mathematically tricky here;  \n",
    "you can calculate **the derivative with respect to one weight, and treat all the other ones as constant,  \n",
    "then repeat that for each other weight**.   \n",
    "This is how all of the gradients are calculated, for every weight.\n",
    "\n",
    "We mentioned just now that you won't have to calculate any gradients yourself. How can that be?  \n",
    "Amazingly enough, **PyTorch is able to automatically compute the derivative of nearly any function!**  \n",
    "What's more, it does it very fast.  \n",
    "Most of the time, it will be at least as fast as any derivative function that you can create by hand.  \n",
    "Let's see **an example.**\n",
    "\n",
    "First, **let's pick a tensor value which we want gradients at:** (me: the parameter is 3)"
   ]
  },
  {
   "cell_type": "code",
   "execution_count": 74,
   "metadata": {},
   "outputs": [],
   "source": [
    "'''\n",
    "we start with a tensor, and we'll modify this tensor with this special method called requires_grad_\n",
    "and this tells pytorch that any time I do a calculation with this xt\n",
    "it should remember what calculation it does so that I can take the derivative later \n",
    "_ at the end of a method in pytorch means this is called an in-place operation: it actually modifies tensor(3.)\n",
    "so requires_grad_ modifies this tensor to tell pytorch that we want to be calculation gradients on it\n",
    "so that means it's just going to keep track of all of the computations we do so that it can calculate the derivative later\n",
    "'''\n",
    "xt = tensor(3.).requires_grad_()  # xt = xtensor?!"
   ]
  },
  {
   "cell_type": "markdown",
   "metadata": {},
   "source": [
    "Notice the special method `requires_grad_`?  \n",
    "That's the magical incantation we use to tell PyTorch that we want to **calculate gradients with respect to that variable at that value.**    \n",
    "**It is essentially tagging the variable,** so PyTorch will remember to   \n",
    "**keep track of how to compute gradients of the other, direct calculations on it that you will ask for**.  \n",
    "\n",
    "> a: This API might throw you off if you're coming from math or physics.  \n",
    "In those contexts the \"gradient\" of a function is just another function (i.e., its derivative),  \n",
    "so you might expect gradient-related APIs to give you a new function.  \n",
    "**But in deep learning, \"gradients\" usually means the _value_ of a function's derivative at a particular argument value.**  \n",
    "The PyTorch API also puts the focus on the argument, not the function you're actually computing the gradients of.  \n",
    "It may feel backwards at first, but it's just a different perspective.  \n",
    "\n",
    "**Now we calculate our function with that value.**  \n",
    "Notice how PyTorch prints not just the value calculated,  \n",
    "but also a note that it has a gradient function it'll be using to calculate our gradients when needed:"
   ]
  },
  {
   "cell_type": "code",
   "execution_count": 75,
   "metadata": {},
   "outputs": [
    {
     "data": {
      "text/plain": [
       "tensor(9., grad_fn=<PowBackward0>)"
      ]
     },
     "execution_count": 75,
     "metadata": {},
     "output_type": "execute_result"
    }
   ],
   "source": [
    "'''\n",
    "ok, so we've got the number 3 and call f on it\n",
    "f(3)=9 but the value is not just 9\n",
    "it's 9 accompanied with a grad function which it knows that a power operation has been taken\n",
    "'''\n",
    "yt = f(xt)  # xt is 3 so yt is the loss at 3\n",
    "yt"
   ]
  },
  {
   "cell_type": "markdown",
   "metadata": {},
   "source": [
    "**Finally, we tell PyTorch to calculate the gradients for us:**"
   ]
  },
  {
   "cell_type": "code",
   "execution_count": 76,
   "metadata": {},
   "outputs": [],
   "source": [
    "'''\n",
    "so we can now call a special method, backward\n",
    "which refers to backpropagation, and it means take the derivative\n",
    "'''\n",
    "yt.backward()"
   ]
  },
  {
   "cell_type": "markdown",
   "metadata": {},
   "source": [
    "**The \"backward\" here refers to *backpropagation***,  \n",
    "which is the name given to **the process of calculating the derivative of each layer**.   \n",
    "We'll see how this is done exactly in chapter <<chapter_foundations>>,  \n",
    "when we calculate the gradients of a deep neural net from scratch.  \n",
    "This is called **the \"backward pass\" of the network, as opposed to the \"forward pass,\"**    \n",
    "which is where the activations are calculated.  \n",
    "Life would probably be easier if `backward` was just called `calculate_grad`,  \n",
    "but deep learning folks really do like to add jargon everywhere they can!  "
   ]
  },
  {
   "cell_type": "markdown",
   "metadata": {},
   "source": [
    "**We can now view the gradients by checking the `grad` attribute of our tensor:**"
   ]
  },
  {
   "cell_type": "code",
   "execution_count": 77,
   "metadata": {},
   "outputs": [
    {
     "data": {
      "text/plain": [
       "tensor(6.)"
      ]
     },
     "execution_count": 77,
     "metadata": {},
     "output_type": "execute_result"
    }
   ],
   "source": [
    "'''\n",
    "once it does that, we can now look inside xt, which we said it requires grad\n",
    "and find out its gradient\n",
    "and remember, the derivative of x**2 is 2*x\n",
    "in this case 2*3=6 \n",
    "so we didn't have to figure out the derivative, \n",
    "we just called backward and then get the grad attribute to get the derivative\n",
    "so that's how easy it is to do calculus in pytorch\n",
    "\n",
    "so what you need to know about calculus is not how to take a derivative, but what it means\n",
    "and what it means it's a slope at some point\n",
    "\n",
    "'''\n",
    "xt.grad"
   ]
  },
  {
   "cell_type": "markdown",
   "metadata": {},
   "source": [
    "If you remember your high school calculus rules, the derivative of `x**2` is `2*x`,  \n",
    "and we have `x=3`, so the gradients should be `2*3=6`, which is what PyTorch calculated for us!\n",
    "\n",
    "Now we'll repeat the preceding steps, **but with a vector argument for our function:**"
   ]
  },
  {
   "cell_type": "code",
   "execution_count": 78,
   "metadata": {},
   "outputs": [
    {
     "data": {
      "text/plain": [
       "tensor([ 3.,  4., 10.], requires_grad=True)"
      ]
     },
     "execution_count": 78,
     "metadata": {},
     "output_type": "execute_result"
    }
   ],
   "source": [
    "'''\n",
    "something interesting, let's not just take 3, let's take a rank1 tensor, also known as a vector\n",
    "'''\n",
    "\n",
    "xt = tensor([3.,4.,10.]).requires_grad_()  # weights are 3,4,10 and are inputs for the loss function f(x)\n",
    "xt"
   ]
  },
  {
   "cell_type": "markdown",
   "metadata": {},
   "source": [
    "And we'll add **`sum`** to our function so it can **take a vector (i.e., a rank-1 tensor), and return a scalar (i.e., a rank-0 tensor):**  \n",
    "> why it needs to return a scalar? because you need to see if the loss function increases or decreases if you modify the weight/parameter x  \n",
    "> true, because it says \"pretend the quadratic is our loss function\"  \n",
    "> and the derivative of the quadratic shows if the loss function increases or decreases  "
   ]
  },
  {
   "cell_type": "code",
   "execution_count": 79,
   "metadata": {},
   "outputs": [
    {
     "data": {
      "text/plain": [
       "tensor(125., grad_fn=<SumBackward0>)"
      ]
     },
     "execution_count": 79,
     "metadata": {},
     "output_type": "execute_result"
    }
   ],
   "source": [
    "'''\n",
    "and let's add sum to our f function\n",
    "f of this vector is 125 \n",
    "'''\n",
    "def f(x): return (x**2).sum()\n",
    "\n",
    "yt = f(xt)\n",
    "yt  # loss is 125=9+16+100"
   ]
  },
  {
   "cell_type": "markdown",
   "metadata": {},
   "source": [
    "**Our gradients are `2*xt`, as we'd expect!**"
   ]
  },
  {
   "cell_type": "code",
   "execution_count": 80,
   "metadata": {},
   "outputs": [
    {
     "data": {
      "text/plain": [
       "tensor([ 6.,  8., 20.])"
      ]
     },
     "execution_count": 80,
     "metadata": {},
     "output_type": "execute_result"
    }
   ],
   "source": [
    "'''\n",
    "and we say backward and grad\n",
    "and it's 2x,2x,2x\n",
    "so this is vector calculus\n",
    "we're getting the gradient for every element of a vector with the same 2 lines of code\n",
    "so that's all you need to know about calculus\n",
    "\n",
    "so now that we know how to calculate the gradient, that is the slope of the function\n",
    "that tells us if we change our input a little bit, how will our output change correspondingly\n",
    "that's what a slope is\n",
    "\n",
    "and so that tells us that for every one of our parameters, if we know their gradients\n",
    "then we know if we change that parameter up a bit or down a bit, how it will change our loss\n",
    "so therefore, we then know how to change our parameters\n",
    "\n",
    "'''\n",
    "yt.backward()  # yt.calculate_grad() for ytensor which is the loss function; \n",
    "xt.grad        # calculate_gradients() means to derivate the loss, and it shows in which direction is the minimum"
   ]
  },
  {
   "cell_type": "markdown",
   "metadata": {},
   "source": [
    "**The gradients only tell us the slope of our function, they don't actually tell us exactly how far to adjust the parameters.**  \n",
    "> me: but why the grad is attached to xt? because the gradients show how much each weight needs to change \n",
    "\n",
    "**But it gives us some idea of how far;**  \n",
    "if the slope is **very large, then that may suggest that we have more adjustments to do,**  \n",
    "**hereas if the slope is very small, that may suggest that we are close to the optimal value.**  \n",
    ">me: very large means very far from minimum of the loss functions, where the gradient/slope is 0 (an horizontal line)"
   ]
  },
  {
   "cell_type": "markdown",
   "metadata": {},
   "source": [
    "### Stepping With a Learning Rate"
   ]
  },
  {
   "cell_type": "markdown",
   "metadata": {},
   "source": [
    "Deciding **how to change our parameters based on the values of the gradients** is an important part of the deep learning process.  \n",
    "Nearly all approaches start with the basic idea of \n",
    "**multiplying the gradient by some small number, called the *learning rate* (LR).**    \n",
    "The learning rate is often a number between **0.001 and 0.1**, although it could be anything.  \n",
    "Often, people select a learning rate just by trying a few, and finding which results in the best model after training  \n",
    "(we'll show you a better approach later in this book, called the *learning rate finder*).  \n",
    "Once you've picked a learning rate, you can **adjust your parameters** using this simple function:\n",
    "\n",
    "```\n",
    "w -= gradient(w) * lr\n",
    "```\n",
    "\n",
    "This is known as ***stepping*** your parameters, using an ***optimizer step***.  \n",
    "Notice how we **_subtract_ the `gradient * lr` from the parameter to update it.**  \n",
    "This allows us to **adjust the parameter in the direction of the slope**  \n",
    "<u>by increasing the parameter when the slope is negative and decreasing the parameter when the slope is positive</u>.  \n",
    "**We want to adjust our parameters in the direction of the slope because our goal in deep learning is to _minimize_ the loss**.\n",
    "\n",
    "If you pick a **learning rate that's too low**, it can mean having to do a lot of steps. <<descent_small>> illustrates that.\n",
    "\n"
   ]
  },
  {
   "cell_type": "code",
   "execution_count": 81,
   "metadata": {},
   "outputs": [
    {
     "data": {
      "text/plain": [
       "'\\nlet\\'s say all of our weights are called \"w\",\\nwe just substract off them the gradients multiplied by some small number \\nand that small number is often a number between 0.001 and 0.1\\nand it\\'s called the learning rate\\n\\nw -= gradient(w) * lr\\n\\nand this here is the essence of gradient descent\\nso if you pick a learning rate that is very small, then you take a small step in the direction of the slope\\nand another small step, so on\\nand it\\'s going to take forever to get to the end\\n'"
      ]
     },
     "execution_count": 81,
     "metadata": {},
     "output_type": "execute_result"
    }
   ],
   "source": [
    "'''\n",
    "let's say all of our weights are called \"w\",\n",
    "we just substract off them the gradients multiplied by some small number \n",
    "and that small number is often a number between 0.001 and 0.1\n",
    "and it's called the learning rate\n",
    "\n",
    "w -= gradient(w) * lr\n",
    "\n",
    "and this here is the essence of gradient descent\n",
    "so if you pick a learning rate that is very small, then you take a small step in the direction of the slope\n",
    "and another small step, so on\n",
    "and it's going to take forever to get to the end\n",
    "'''"
   ]
  },
  {
   "cell_type": "markdown",
   "metadata": {},
   "source": [
    "<img alt=\"An illustration of gradient descent with a LR too low\" width=\"400\" caption=\"Gradient descent with low LR\" src=\"images/chapter2_small.svg\" id=\"descent_small\"/>"
   ]
  },
  {
   "cell_type": "markdown",
   "metadata": {},
   "source": [
    "But picking a **learning rate that's too high** is even worse — it can actually result in the loss getting *worse*, as we see in <<descent_div>>!"
   ]
  },
  {
   "cell_type": "code",
   "execution_count": 82,
   "metadata": {},
   "outputs": [
    {
     "data": {
      "text/plain": [
       "\"\\nif you pick a learning rate that is too big, you jump way too far each time and again, it's goint to take forever\\nme: why like this? because w is on the x/parameter axis and if lr is big then new w is that big\\nit started at the bottom and lr is so bit that w got worse and worse, it moves away from the minimum\\n\""
      ]
     },
     "execution_count": 82,
     "metadata": {},
     "output_type": "execute_result"
    }
   ],
   "source": [
    "'''\n",
    "if you pick a learning rate that is too big, you jump way too far each time and again, it's goint to take forever\n",
    "me: why like this? because w is on the x/parameter axis and if lr is big then new w is that big\n",
    "it started at the bottom and lr is so bit that w got worse and worse, it moves away from the minimum\n",
    "'''"
   ]
  },
  {
   "cell_type": "markdown",
   "metadata": {},
   "source": [
    "<img alt=\"An illustration of gradient descent with a LR too high\" width=\"400\" caption=\"Gradient descent with high LR\" src=\"images/chapter2_div.svg\" id=\"descent_div\"/>"
   ]
  },
  {
   "cell_type": "markdown",
   "metadata": {},
   "source": [
    "If the **learning rate is too high**, it may also **\"bounce\" around**, rather than actually diverging;  \n",
    "<<descent_bouncy>> shows how this has the result of taking many steps to train successfully."
   ]
  },
  {
   "cell_type": "code",
   "execution_count": 83,
   "metadata": {},
   "outputs": [
    {
     "data": {
      "text/plain": [
       "\"\\nthis one is not so big that it gets worse and worse\\nbut it just takes a long time to bounce in and out\\n\\nso picking a good learning rate is really important, both to making sure is even possible to solve the problem\\nand that it's possible to solve it in a reasonable amount of time\\n\\nso we'll be learning how to pick learning rates in this course\\n\""
      ]
     },
     "execution_count": 83,
     "metadata": {},
     "output_type": "execute_result"
    }
   ],
   "source": [
    "'''\n",
    "this one is not so big that it gets worse and worse\n",
    "but it just takes a long time to bounce in and out\n",
    "\n",
    "so picking a good learning rate is really important, both to making sure is even possible to solve the problem\n",
    "and that it's possible to solve it in a reasonable amount of time\n",
    "\n",
    "so we'll be learning how to pick learning rates in this course\n",
    "'''"
   ]
  },
  {
   "cell_type": "markdown",
   "metadata": {},
   "source": [
    "<img alt=\"An illustation of gradient descent with a bouncy LR\" width=\"400\" caption=\"Gradient descent with bouncy LR\" src=\"images/chapter2_bouncy.svg\" id=\"descent_bouncy\"/>"
   ]
  },
  {
   "cell_type": "markdown",
   "metadata": {},
   "source": [
    "Now let's apply all of this in an end-to-end example."
   ]
  },
  {
   "cell_type": "markdown",
   "metadata": {},
   "source": [
    "### An End-to-End SGD Example"
   ]
  },
  {
   "cell_type": "markdown",
   "metadata": {},
   "source": [
    "We've seen how to use gradients to find a minimum.  \n",
    "Now it's time to look at **an SGD example and see how finding a minimum can be used to train a model to fit data better.**  \n",
    "(it's not S, just GD)\n",
    "\n",
    "Let's start with a simple, synthetic, example model.  \n",
    "**Imagine you were measuring the speed of a roller coaster as it went over the top of a hump.**  (me:hump means top)  \n",
    "**It would start fast, and then get slower as it went up the hill;**  \n",
    "**it would be slowest at the top, and it would then speed up again as it went downhill.**  \n",
    "**<u>You want to build a model of how the speed changes over time</u>.**  \n",
    "If you were measuring the speed manually **every second for 20 seconds,**  \n",
    "it might look something like this:"
   ]
  },
  {
   "cell_type": "code",
   "execution_count": 84,
   "metadata": {},
   "outputs": [
    {
     "data": {
      "text/plain": [
       "\"\\nlet's imagine you were watching a roller coaster go over the top of a hump\\nso as it comes out of the previous hill, it's going super fast, \\nand it's going up the hill and it's going slower and slower until it gets to the top of the hump\\nand then it goes to the other side, it gets faster and faster\\n\\nand of you had a speedometer and you were measuring it just by hand at kind of equal times points\\nyou might end up with something that looks a bit like this:\\nI end up with a quadratic function which is a bit bumpy\\n\""
      ]
     },
     "execution_count": 84,
     "metadata": {},
     "output_type": "execute_result"
    }
   ],
   "source": [
    "'''\n",
    "let's imagine you were watching a roller coaster go over the top of a hump\n",
    "so as it comes out of the previous hill, it's going super fast, \n",
    "and it's going up the hill and it's going slower and slower until it gets to the top of the hump\n",
    "and then it goes to the other side, it gets faster and faster\n",
    "\n",
    "and of you had a speedometer and you were measuring it just by hand at kind of equal times points\n",
    "you might end up with something that looks a bit like this:\n",
    "I end up with a quadratic function which is a bit bumpy\n",
    "'''"
   ]
  },
  {
   "cell_type": "code",
   "execution_count": 85,
   "metadata": {},
   "outputs": [
    {
     "data": {
      "text/plain": [
       "tensor([ 0.,  1.,  2.,  3.,  4.,  5.,  6.,  7.,  8.,  9., 10., 11., 12., 13., 14., 15., 16., 17., 18., 19.])"
      ]
     },
     "execution_count": 85,
     "metadata": {},
     "output_type": "execute_result"
    }
   ],
   "source": [
    "time = torch.arange(0,20).float();  # a tensor with 20 time intervals from 0 to 19 when I take speed measurements\n",
    "time"
   ]
  },
  {
   "cell_type": "code",
   "execution_count": 86,
   "metadata": {},
   "outputs": [
    {
     "data": {
      "image/png": "[encoded data removed]",
      "text/plain": [
       "<Figure size 640x480 with 1 Axes>"
      ]
     },
     "metadata": {},
     "output_type": "display_data"
    }
   ],
   "source": [
    "speed = torch.randn(20)*3 + 0.75*(time-9.5)**2 + 1  # speed are some values for speed that were supposedly measured every 20s\n",
    "#speed\n",
    "plt.scatter(time,speed);                            # they are recorded data, target data "
   ]
  },
  {
   "cell_type": "markdown",
   "metadata": {},
   "source": [
    "We've **added a bit of random noise**, since measuring things manually isn't precise.  \n",
    "This means it's not that easy to answer the question: **what was the roller coaster's speed?**  \n",
    "**Using SGD we can try to find a function that matches our observations**.  \n",
    "We can't consider every possible function, so let's use a **guess that it will be quadratic**;  \n",
    "i.e., a function of the form **`a*(time**2)+(b*time)+c`**.    \n",
    "\n",
    "We want to distinguish clearly between  \n",
    "the **function's input** (<u>the time</u> when we are measuring the coaster's speed)  \n",
    "and **its parameters** (<u>the values that define *which* quadratic we're trying</u>).  \n",
    "So, let's **collect the parameters in one argument and thus separate the input, `t`, and the parameters, `params`**, in the function's signature: "
   ]
  },
  {
   "cell_type": "code",
   "execution_count": 87,
   "metadata": {},
   "outputs": [],
   "source": [
    "'''\n",
    "we want to create a function that estimates at any time what is the speed of the rolercoaster\n",
    "so we start by guessing what function it might be\n",
    "so we guess that it's a quadratic function \n",
    "\n",
    "so let's create it using the albert samuel technique, machine learning technique\n",
    "it's going to take an input, which is a time\n",
    "and it's going to take some parameters, a,b,c \n",
    "so in python you can split out a list or a collection into its components (a,b,c=params)\n",
    "so we're not trying to find any function in the world, but a quadratic by finding an a,b and c\n",
    "so arthur samuel technique for doing this is to next come up with a loss function\n",
    "come up with a measurement of how good we are\n",
    "'''\n",
    "\n",
    "def f(t, params):                     # f is a function that aims to match the points above; we guess it's quadratic\n",
    "    a,b,c = params                    # input is time and parameters are a,b,c\n",
    "    return a*(t**2) + (b*t) + c       "
   ]
  },
  {
   "cell_type": "markdown",
   "metadata": {},
   "source": [
    "In other words, we've restricted the problem of finding the best imaginable function that fits the data, \n",
    "to **finding the best *quadratic* function**.  \n",
    "This greatly simplifies the problem, since every quadratic function is fully defined by the three parameters `a`, `b`, and `c`.  \n",
    "Thus, **to find the best quadratic function, we only need to find the best values for `a`, `b`, and `c`**.  \n",
    "\n",
    "If we can solve this problem for the three parameters of a quadratic function,  \n",
    "we'll be able to **apply the same approach for other, more complex functions with more parameters — such as a neural net**.  \n",
    "Let's find the parameters for `f` first, and then we'll come back and do the same thing for the MNIST dataset with a neural net.  \n",
    "\n",
    "**We need to define first what we mean by \"best\"**.  \n",
    "We define this precisely by **choosing a *loss function***,   \n",
    "**which will return a value based on a prediction and a target,**  \n",
    "where **lower values** of the function correspond to **\"better\" predictions**.   \n",
    "It is important for **loss functions to return _lower_ values when predictions are more accurate**,  \n",
    "as the SGD procedure we defined earlier will try to _minimize_ this loss.  \n",
    "**For continuous data, it's common to use *mean squared error*:**  "
   ]
  },
  {
   "cell_type": "code",
   "execution_count": 88,
   "metadata": {},
   "outputs": [],
   "source": [
    "'''\n",
    "so if we've got some predictions that come out of our function and the targets which are these actual values (blue dots from the plot)\n",
    "then we could just do the mse\n",
    "now we need to go through our 7 step process\n",
    "\n",
    "'''\n",
    "def mse(preds, targets): return ((preds-targets)**2).mean()  # the loss function is MSE between predictions and targets"
   ]
  },
  {
   "cell_type": "markdown",
   "metadata": {},
   "source": [
    "Now, let's work through our 7 step process."
   ]
  },
  {
   "cell_type": "markdown",
   "metadata": {},
   "source": [
    "#### Step 1: Initialize the parameters"
   ]
  },
  {
   "cell_type": "markdown",
   "metadata": {},
   "source": [
    "First, **we initialize the parameters to random values**,  \n",
    "and tell PyTorch that we want to **track their gradients**, using `requires_grad_`:"
   ]
  },
  {
   "cell_type": "code",
   "execution_count": 89,
   "metadata": {},
   "outputs": [],
   "source": [
    "'''\n",
    "we want to come up with a set of parameters a,b and c to random values\n",
    "we're going to be adjusting them, so tell pytorch that we want the gradients\n",
    "'''\n",
    "params = torch.randn(3).requires_grad_()  # params are the weights for the quadratic function we want to find (a,b,c)"
   ]
  },
  {
   "cell_type": "code",
   "execution_count": 90,
   "metadata": {},
   "outputs": [],
   "source": [
    "'''\n",
    "I'm going to save these away to check them later\n",
    "'''\n",
    "#hide\n",
    "orig_params = params.clone()"
   ]
  },
  {
   "cell_type": "markdown",
   "metadata": {},
   "source": [
    "#### Step 2: Calculate the predictions"
   ]
  },
  {
   "cell_type": "markdown",
   "metadata": {},
   "source": [
    "Next, we **calculate the predictions**:"
   ]
  },
  {
   "cell_type": "code",
   "execution_count": 91,
   "metadata": {},
   "outputs": [],
   "source": [
    "'''\n",
    "calculate the prediction using function f\n",
    "'''\n",
    "preds = f(time, params)  # f is quadratic with random parameters"
   ]
  },
  {
   "cell_type": "markdown",
   "metadata": {},
   "source": [
    "Let's create **a little function to see how close our predictions are to our targets**, and take a look:"
   ]
  },
  {
   "cell_type": "code",
   "execution_count": 92,
   "metadata": {},
   "outputs": [],
   "source": [
    "'''\n",
    "and now create a function that plots how good are our predictions\n",
    "here's a function that prints in red our predictions and in blue our targets\n",
    "that looks pretty terible\n",
    "'''\n",
    "def show_preds(preds, ax=None):\n",
    "    if ax is None: ax=plt.subplots()[1]\n",
    "    ax.scatter(time, speed)                      # target data\n",
    "    ax.scatter(time, to_np(preds), color='red')  # prediction data\n",
    "    ax.set_ylim(-300,100)"
   ]
  },
  {
   "cell_type": "code",
   "execution_count": 93,
   "metadata": {},
   "outputs": [
    {
     "data": {
      "image/png": "[encoded data removed]",
      "text/plain": [
       "<Figure size 640x480 with 1 Axes>"
      ]
     },
     "metadata": {},
     "output_type": "display_data"
    }
   ],
   "source": [
    "show_preds(preds)  # show predictions (red) with 1st choice of random parameters (params)"
   ]
  },
  {
   "cell_type": "markdown",
   "metadata": {},
   "source": [
    "**This doesn't look very close** —  \n",
    "our random parameters suggest that the roller coaster will end up **going backwards**,  \n",
    "since we have **negative speeds!**"
   ]
  },
  {
   "cell_type": "markdown",
   "metadata": {},
   "source": [
    "#### Step 3: Calculate the loss"
   ]
  },
  {
   "cell_type": "markdown",
   "metadata": {},
   "source": [
    "We **calculate the loss** as follows:"
   ]
  },
  {
   "cell_type": "code",
   "execution_count": 94,
   "metadata": {},
   "outputs": [
    {
     "data": {
      "text/plain": [
       "tensor(4990.9258, grad_fn=<MeanBackward0>)"
      ]
     },
     "execution_count": 94,
     "metadata": {},
     "output_type": "execute_result"
    }
   ],
   "source": [
    "'''\n",
    "so let's calculate the loss, using the mse function we wrote\n",
    "so now we want to improve this\n",
    "'''\n",
    "loss = mse(preds, speed) # preds are predictions with random parameters and speed are recorded data\n",
    "loss"
   ]
  },
  {
   "cell_type": "markdown",
   "metadata": {},
   "source": [
    "Our goal is now to **improve** this.  \n",
    "To do that, we'll need to **know the gradients.**"
   ]
  },
  {
   "cell_type": "markdown",
   "metadata": {},
   "source": [
    "#### Step 4: Calculate the gradients"
   ]
  },
  {
   "cell_type": "markdown",
   "metadata": {},
   "source": [
    "The next step is to **calculate the gradients**.  \n",
    "In other words, **calculate an approximation of how the parameters need to change**:"
   ]
  },
  {
   "cell_type": "code",
   "execution_count": 95,
   "metadata": {},
   "outputs": [
    {
     "data": {
      "text/plain": [
       "tensor([-22116.9102,  -1406.4412,   -112.9858])"
      ]
     },
     "execution_count": 95,
     "metadata": {},
     "output_type": "execute_result"
    }
   ],
   "source": [
    "'''\n",
    "calculate the gradients using the 2 steps\n",
    "each of our parameter has a gradient that's negative\n",
    "'''\n",
    "loss.backward()  # backward() means calculate_gradients(); # calculate gradients by derivating the loss function; find each gradient by derivating each ax**2 and keeping the rest as a constant\n",
    "params.grad      # gradients are \"attached\" to params because it shows in which direction to change the params a,b,c  \n",
    "                 # -73k,-5k,-0,3k"
   ]
  },
  {
   "cell_type": "code",
   "execution_count": 96,
   "metadata": {},
   "outputs": [
    {
     "data": {
      "text/plain": [
       "tensor([-0.2212, -0.0141, -0.0011])"
      ]
     },
     "execution_count": 96,
     "metadata": {},
     "output_type": "execute_result"
    }
   ],
   "source": [
    "'''\n",
    "let's pick a learning rate of 10 to the -5  \n",
    "'''\n",
    "params.grad * 1e-5  # here shows what the step will be equal to = gradients * learning rate"
   ]
  },
  {
   "cell_type": "markdown",
   "metadata": {},
   "source": [
    "**We can use these gradients to improve our parameters.**  \n",
    "We'll need to **pick a learning rate** (we'll discuss how to do that in practice in the next chapter; for now we'll just use 1e-5, or **0.00001**):"
   ]
  },
  {
   "cell_type": "code",
   "execution_count": 97,
   "metadata": {},
   "outputs": [
    {
     "data": {
      "text/plain": [
       "tensor([-0.3087,  0.8158,  0.1809], requires_grad=True)"
      ]
     },
     "execution_count": 97,
     "metadata": {},
     "output_type": "execute_result"
    }
   ],
   "source": [
    "params  # these are the parameters before being adjusted with the learning rate"
   ]
  },
  {
   "cell_type": "markdown",
   "metadata": {},
   "source": [
    "#### Step 5: Step the weights. "
   ]
  },
  {
   "cell_type": "markdown",
   "metadata": {},
   "source": [
    "Now we need to **update the parameters based on the gradients we just calculated:**"
   ]
  },
  {
   "cell_type": "code",
   "execution_count": 98,
   "metadata": {},
   "outputs": [],
   "source": [
    "'''\n",
    "and step the weights\n",
    "step is -= learning rate * gradient\n",
    "there's a wonderful trick here, which I've called .data\n",
    "there reason I've called .data is because it's a special attribute in pytorch, which if you use it, then the gradient is not calculated\n",
    "and we don't want the gradient to be calculated of the actual step we're doing - me: here, in lr*grad we don't want to call .grad, so that's why add .data\n",
    "we only want the gradient to be calculated of our function f\n",
    "all right, so when we step the weights we have to use this special .data attribute (params.data in left side of the =)\n",
    "after we do that delete the gradients what we already had and let's see if loss improved\n",
    "\n",
    "'''\n",
    "# w -=gradient(w)*lr\n",
    "# adjusts the parameter in the direction of the slope (gradient)\n",
    "# increasing the parameter when the slope (gradient) is negative and decreasing the parameter when the slope is positive\n",
    "lr = 1e-5\n",
    "params.data -= lr * params.grad.data  # how to change our parameters based on the values of the gradients\t                            \n",
    "params.grad = None                    # multiplying the gradient by some small number, called the learning rate (LR)"
   ]
  },
  {
   "cell_type": "markdown",
   "metadata": {},
   "source": [
    "> a: Understanding this bit depends on remembering recent history.   \n",
    "To **calculate the gradients** we call `backward` on the **`loss`**.  \n",
    "But this `loss` was itself calculated by **`mse`**,  \n",
    "which in turn took **`preds`** as an input,  \n",
    "which was calculated using **`f`** taking as an input **`params`**,  \n",
    "which was the object on which we originally called **`requires_grad_`**  \n",
    "— which is the original call that now allows us to call `backward` on `loss`.  \n",
    "This **chain of function calls** represents the mathematical composition of functions,  \n",
    "which **enables PyTorch** to use calculus's chain rule under the hood to **calculate these gradients.**  "
   ]
  },
  {
   "cell_type": "markdown",
   "metadata": {},
   "source": [
    "Let's see if **the loss has improved:**"
   ]
  },
  {
   "cell_type": "code",
   "execution_count": 99,
   "metadata": {},
   "outputs": [
    {
     "data": {
      "text/plain": [
       "tensor(1466.9171, grad_fn=<MeanBackward0>)"
      ]
     },
     "execution_count": 99,
     "metadata": {},
     "output_type": "execute_result"
    }
   ],
   "source": [
    "'''\n",
    "the loss before was 25823 and now is 5400\n",
    "and the plot has gone from something that goes down to -300 to something that looks much better\n",
    "'''\n",
    "preds = f(time,params)  # new predictions based on quadratic f with new parameters\n",
    "mse(preds, speed)       # new loss"
   ]
  },
  {
   "cell_type": "markdown",
   "metadata": {},
   "source": [
    "And take a look at **the plot:**"
   ]
  },
  {
   "cell_type": "code",
   "execution_count": 100,
   "metadata": {},
   "outputs": [
    {
     "data": {
      "image/png": "[encoded data removed]",
      "text/plain": [
       "<Figure size 640x480 with 1 Axes>"
      ]
     },
     "metadata": {},
     "output_type": "display_data"
    }
   ],
   "source": [
    "show_preds(preds)"
   ]
  },
  {
   "cell_type": "markdown",
   "metadata": {},
   "source": [
    "We need to repeat this a few times, so we'll create **a function to apply one step:**  "
   ]
  },
  {
   "cell_type": "code",
   "execution_count": 101,
   "metadata": {},
   "outputs": [],
   "source": [
    "def apply_step(params, prn=True):\n",
    "    preds = f(time, params)\n",
    "    loss = mse(preds, speed)\n",
    "    loss.backward()\n",
    "    params.data -= lr * params.grad.data\n",
    "    params.grad = None\n",
    "    if prn: print(loss.item())\n",
    "    return preds"
   ]
  },
  {
   "cell_type": "markdown",
   "metadata": {},
   "source": [
    "#### Step 6: Repeat the process "
   ]
  },
  {
   "cell_type": "markdown",
   "metadata": {},
   "source": [
    "Now we **iterate**.  \n",
    "By looping and performing many improvements, we hope to reach a good result:"
   ]
  },
  {
   "cell_type": "code",
   "execution_count": 102,
   "metadata": {},
   "outputs": [
    {
     "name": "stdout",
     "output_type": "stream",
     "text": [
      "1466.9171142578125\n",
      "800.063232421875\n",
      "673.8706665039062\n",
      "649.9879150390625\n",
      "645.465087890625\n",
      "644.6058959960938\n",
      "644.4398193359375\n",
      "644.4051513671875\n",
      "644.3951416015625\n",
      "644.3899536132812\n"
     ]
    }
   ],
   "source": [
    "'''\n",
    "put those steps in a function and repeat it 10 times\n",
    "and the loss is getting better and better\n",
    "'''\n",
    "for i in range(10): apply_step(params)"
   ]
  },
  {
   "cell_type": "code",
   "execution_count": 103,
   "metadata": {},
   "outputs": [],
   "source": [
    "#hide\n",
    "params = orig_params.detach().requires_grad_() "
   ]
  },
  {
   "cell_type": "markdown",
   "metadata": {},
   "source": [
    "**The loss is going down**, just as we hoped!  \n",
    "But looking only at these loss numbers disguises the fact that each **iteration represents an entirely different quadratic function being tried**,  \n",
    "on the way to finding the best possible quadratic function.  \n",
    "We can see this process visually if, instead of printing out the loss function, **we plot the function at every step.**  \n",
    "Then we can see how **the shape is approaching the best possible quadratic function for our data:**"
   ]
  },
  {
   "cell_type": "code",
   "execution_count": 104,
   "metadata": {},
   "outputs": [
    {
     "data": {
      "image/png": "[encoded data removed]",
      "text/plain": [
       "<Figure size 1200x300 with 4 Axes>"
      ]
     },
     "metadata": {},
     "output_type": "display_data"
    }
   ],
   "source": [
    "'''\n",
    "and we can actually look at it getting better and better\n",
    "so we have a technique, this is the arthur samuel technique\n",
    "for finding a set of parameters that continuously improves \n",
    "by getting feedback from the result of measuring some loss fuction\n",
    "so that was kind of the key step  \n",
    "this is the gradient descent method\n",
    "'''\n",
    "_,axs = plt.subplots(1,4,figsize=(12,3))     \n",
    "for ax in axs: show_preds(apply_step(params, False), ax)   \n",
    "plt.tight_layout()   "
   ]
  },
  {
   "cell_type": "markdown",
   "metadata": {},
   "source": [
    "#### Step 7: stop"
   ]
  },
  {
   "cell_type": "markdown",
   "metadata": {},
   "source": [
    "We just decided to stop after 10 epochs arbitrarily.  \n",
    "In practice, **we would watch the training and validation losses and our metrics to decide when to stop**, as we've discussed."
   ]
  },
  {
   "cell_type": "markdown",
   "metadata": {},
   "source": [
    "### Summarizing Gradient Descent"
   ]
  },
  {
   "cell_type": "code",
   "execution_count": 105,
   "metadata": {
    "hide_input": false
   },
   "outputs": [
    {
     "data": {
      "image/svg+xml": [
       "<?xml version=\"1.0\" encoding=\"UTF-8\" standalone=\"no\"?>\n",
       "<!DOCTYPE svg PUBLIC \"-//W3C//DTD SVG 1.1//EN\"\n",
       " \"http://www.w3.org/Graphics/SVG/1.1/DTD/svg11.dtd\">\n",
       "<!-- Generated by graphviz version 7.1.0 (20230122.1345)\n",
       " -->\n",
       "<!-- Title: G Pages: 1 -->\n",
       "<svg width=\"661pt\" height=\"78pt\"\n",
       " viewBox=\"0.00 0.00 660.87 78.00\" xmlns=\"http://www.w3.org/2000/svg\" xmlns:xlink=\"http://www.w3.org/1999/xlink\">\n",
       "<g id=\"graph0\" class=\"graph\" transform=\"scale(1 1) rotate(0) translate(4 74)\">\n",
       "<title>G</title>\n",
       "<polygon fill=\"white\" stroke=\"none\" points=\"-4,4 -4,-74 656.87,-74 656.87,4 -4,4\"/>\n",
       "<!-- init -->\n",
       "<g id=\"node1\" class=\"node\">\n",
       "<title>init</title>\n",
       "<ellipse fill=\"none\" stroke=\"black\" cx=\"27\" cy=\"-18\" rx=\"27\" ry=\"18\"/>\n",
       "<text text-anchor=\"middle\" x=\"27\" y=\"-14.3\" font-family=\"Times,serif\" font-size=\"14.00\">init</text>\n",
       "</g>\n",
       "<!-- predict -->\n",
       "<g id=\"node2\" class=\"node\">\n",
       "<title>predict</title>\n",
       "<ellipse fill=\"none\" stroke=\"black\" cx=\"135.2\" cy=\"-18\" rx=\"44.39\" ry=\"18\"/>\n",
       "<text text-anchor=\"middle\" x=\"135.2\" y=\"-14.3\" font-family=\"Times,serif\" font-size=\"14.00\">predict</text>\n",
       "</g>\n",
       "<!-- init&#45;&gt;predict -->\n",
       "<g id=\"edge1\" class=\"edge\">\n",
       "<title>init&#45;&gt;predict</title>\n",
       "<path fill=\"none\" stroke=\"black\" d=\"M54.25,-18C61.85,-18 70.45,-18 79.12,-18\"/>\n",
       "<polygon fill=\"black\" stroke=\"black\" points=\"78.96,-21.5 88.96,-18 78.96,-14.5 78.96,-21.5\"/>\n",
       "</g>\n",
       "<!-- loss -->\n",
       "<g id=\"node3\" class=\"node\">\n",
       "<title>loss</title>\n",
       "<ellipse fill=\"none\" stroke=\"black\" cx=\"244.99\" cy=\"-52\" rx=\"28.7\" ry=\"18\"/>\n",
       "<text text-anchor=\"middle\" x=\"244.99\" y=\"-48.3\" font-family=\"Times,serif\" font-size=\"14.00\">loss</text>\n",
       "</g>\n",
       "<!-- predict&#45;&gt;loss -->\n",
       "<g id=\"edge2\" class=\"edge\">\n",
       "<title>predict&#45;&gt;loss</title>\n",
       "<path fill=\"none\" stroke=\"black\" d=\"M171.19,-29.04C182.93,-32.74 196.04,-36.88 207.87,-40.61\"/>\n",
       "<polygon fill=\"black\" stroke=\"black\" points=\"206.69,-43.9 217.28,-43.58 208.8,-37.23 206.69,-43.9\"/>\n",
       "</g>\n",
       "<!-- gradient -->\n",
       "<g id=\"node4\" class=\"node\">\n",
       "<title>gradient</title>\n",
       "<ellipse fill=\"none\" stroke=\"black\" cx=\"406.63\" cy=\"-52\" rx=\"50.09\" ry=\"18\"/>\n",
       "<text text-anchor=\"middle\" x=\"406.63\" y=\"-48.3\" font-family=\"Times,serif\" font-size=\"14.00\">gradient</text>\n",
       "</g>\n",
       "<!-- loss&#45;&gt;gradient -->\n",
       "<g id=\"edge3\" class=\"edge\">\n",
       "<title>loss&#45;&gt;gradient</title>\n",
       "<path fill=\"none\" stroke=\"black\" d=\"M274.16,-52C293.71,-52 320.51,-52 344.81,-52\"/>\n",
       "<polygon fill=\"black\" stroke=\"black\" points=\"344.61,-55.5 354.61,-52 344.61,-48.5 344.61,-55.5\"/>\n",
       "</g>\n",
       "<!-- step -->\n",
       "<g id=\"node5\" class=\"node\">\n",
       "<title>step</title>\n",
       "<ellipse fill=\"none\" stroke=\"black\" cx=\"524.23\" cy=\"-18\" rx=\"30.59\" ry=\"18\"/>\n",
       "<text text-anchor=\"middle\" x=\"524.23\" y=\"-14.3\" font-family=\"Times,serif\" font-size=\"14.00\">step</text>\n",
       "</g>\n",
       "<!-- gradient&#45;&gt;step -->\n",
       "<g id=\"edge4\" class=\"edge\">\n",
       "<title>gradient&#45;&gt;step</title>\n",
       "<path fill=\"none\" stroke=\"black\" d=\"M446.12,-40.68C458.69,-36.98 472.64,-32.88 485.18,-29.19\"/>\n",
       "<polygon fill=\"black\" stroke=\"black\" points=\"486.16,-32.55 494.77,-26.37 484.18,-25.84 486.16,-32.55\"/>\n",
       "</g>\n",
       "<!-- step&#45;&gt;predict -->\n",
       "<g id=\"edge6\" class=\"edge\">\n",
       "<title>step&#45;&gt;predict</title>\n",
       "<path fill=\"none\" stroke=\"black\" d=\"M493.24,-18C428.38,-18 274.25,-18 191.3,-18\"/>\n",
       "<polygon fill=\"black\" stroke=\"black\" points=\"191.35,-14.5 181.35,-18 191.35,-21.5 191.35,-14.5\"/>\n",
       "<text text-anchor=\"middle\" x=\"315.09\" y=\"-21.8\" font-family=\"Times,serif\" font-size=\"14.00\">repeat</text>\n",
       "</g>\n",
       "<!-- stop -->\n",
       "<g id=\"node6\" class=\"node\">\n",
       "<title>stop</title>\n",
       "<ellipse fill=\"none\" stroke=\"black\" cx=\"622.32\" cy=\"-18\" rx=\"30.59\" ry=\"18\"/>\n",
       "<text text-anchor=\"middle\" x=\"622.32\" y=\"-14.3\" font-family=\"Times,serif\" font-size=\"14.00\">stop</text>\n",
       "</g>\n",
       "<!-- step&#45;&gt;stop -->\n",
       "<g id=\"edge5\" class=\"edge\">\n",
       "<title>step&#45;&gt;stop</title>\n",
       "<path fill=\"none\" stroke=\"black\" d=\"M555.1,-18C563.06,-18 571.79,-18 580.23,-18\"/>\n",
       "<polygon fill=\"black\" stroke=\"black\" points=\"579.95,-21.5 589.95,-18 579.95,-14.5 579.95,-21.5\"/>\n",
       "</g>\n",
       "</g>\n",
       "</svg>\n"
      ],
      "text/plain": [
       "<graphviz.sources.Source at 0x7eff74319290>"
      ]
     },
     "execution_count": 105,
     "metadata": {},
     "output_type": "execute_result"
    }
   ],
   "source": [
    "#hide_input\n",
    "#id gradient_descent\n",
    "#caption The gradient descent process\n",
    "#alt Graph showing the steps for Gradient Descent\n",
    "gv('''\n",
    "init->predict->loss->gradient->step->stop\n",
    "step->predict[label=repeat]\n",
    "''')"
   ]
  },
  {
   "cell_type": "markdown",
   "metadata": {},
   "source": [
    "To summarize,  \n",
    "at the beginning, **the weights of our model can be random (training *from scratch*)**    \n",
    "**or come from a pretrained model (*transfer learning*).**    \n",
    "In the first case, the output we will get from our inputs won't have anything to do with what we want,  \n",
    "and even in the second case, it's very likely the pretrained model won't be very good at the specific task we are targeting.  \n",
    "**So the model will need to *learn* better weights.**  \n",
    "\n",
    "**We begin by comparing the outputs the model gives us with our targets**  \n",
    "(we have labeled data, so we know what result the model should give) **using a *loss function*,**  \n",
    "**which returns a number that we want to make as low as possible by improving our weights.**  \n",
    "To do this, **we take a few data items (such as images) from the training set and feed them to our model.  \n",
    "We compare the corresponding targets using our loss function,  \n",
    "and the score we get tells us how wrong our predictions were.**    \n",
    "We then **change the weights a little bit** to make it slightly better.   \n",
    "\n",
    "To find **how to change the weights to make the loss a bit better, we use calculus to calculate the *gradients*.**    \n",
    "(Actually, we let PyTorch do it for us!)   \n",
    "Let's consider an **analogy**.  \n",
    "Imagine you are lost in the mountains with your **car parked at the lowest point.**  \n",
    "To find your way back to it, you might wander in a random direction, but that probably wouldn't help much.  \n",
    "Since you know your vehicle is at the lowest point, you would be better off going downhill.  \n",
    "**By always taking a step in the direction of the steepest downward slope, you should eventually arrive at your destination.**  \n",
    "**We use the magnitude of the gradient (i.e., the steepness of the slope) to tell us how big a step to take;**  \n",
    "specifically, we multiply the gradient by a number we choose called the ***learning rate*** to decide on the step size.  \n",
    "We then ***iterate*** until we have reached the lowest point, which will be our parking lot,  \n",
    "then we can ***stop***.\n",
    "\n",
    "All of that we just saw can be transposed directly to the MNIST dataset, except for the loss function.  \n",
    "Let's now see how we can **define a good training objective.** "
   ]
  },
  {
   "cell_type": "markdown",
   "metadata": {},
   "source": [
    "## The MNIST Loss Function"
   ]
  },
  {
   "cell_type": "markdown",
   "metadata": {},
   "source": [
    "We already have our **independent variables `x`—these are the images themselves.**  \n",
    "We'll **concatenate them all into a single tensor,**  \n",
    "and also change them from **a list of matrices (a rank-3 tensor) to a list of vectors (a rank-2 tensor).**  \n",
    "We can do this using **`view`, which is a PyTorch method that changes the shape of a tensor without changing its contents.**  \n",
    "`-1` is a special parameter to `view` that means **\"make this axis as big as necessary to fit all the data\":**  "
   ]
  },
  {
   "cell_type": "code",
   "execution_count": 106,
   "metadata": {},
   "outputs": [
    {
     "data": {
      "text/plain": [
       "\"\\nso now let's apply this to MNIST\\nso for MNIST we want to use this exact technique and there's nothing extra that we have to do\\nexcept on thing, we need a LOSS function\\nand the metric that we've been using is the error rate, or the accuracy \\n    (the accuracy = how many of the predictions are true in the validation set\\n    using the mnist_distance that calculates the overall distance between an the validation set and an ideal 3/7)\\naccuracy = it's like how often are we correct \\nand that's the thing we're actually trying to make good, our metric\\nbut we've got a very serious problem, \\nwhich is we need to calculate the gradient to figure out how we should change our parameters\\nand the gradient is the slope, or the steepness, which is rise / run\\nit's (y_new-y_old) / (x_new-x_old)  -->> on the loss graph\\nthe gradient is actually defined when x_new is very, very close to x_old, \\nmeaning their difference is very small (because the derivative it's the tangent)\\nbut think about accuracy: if I change a parameter by a tiny tiny amount, the accuracy might not change at all\\n(it's an horizontal line and it's slope in that x_new point is 0)\\nbecause there might not be any 3 that we now predict as a 7 or any 7 that we now predict as a 3\\nbecause we change the parameter by such a small amount\\nso it's certain that the gradient is 0 in many places, \\nand that means our parameters aren't going to change at all\\nbecause learning rate * gradient is still 0 when the gradient is 0 for any learning rate\\nso this is why the loss function and the metric are not always the same thing\\nwe can't use a metric as our loss if that metric has a gradient of zero\\nso we need something different\\nwe need to find something that is pretty similar to the accuracy \\nin that like as the accuracy gets better this ideal function we want gets better as well\\nbut it should not have a gradient of 0\\n\\nso let's think about that function\\nsuppose we had 3 images\\nactually we will stop\\nwe understand GD\\nwe know how to do it with a simple loss function \\n\\n\\n\\nlesson 4 2020\\ndeep into the weeds of what exactly is going on when we are training a neural network\\nand we started looking at this in the previous lesson, at SGD\\n\\nwe were looking at what Arthur Samuel said:\\nautomatic means of testing the effectivenes of any current weight/paramenter assignment in terms of actual performance\\nand provide a mechanism for altering the weight assignment so as to maximize that performance\\nso we could make that entirely automatic \\nand a machine so programmed would learn from its experience\\n\\nour initial attempt on MNIST data set was not based on that\\nwe didn't have any parameters \\n\\nlesson 4 2020\\nnow let's use this to create our MNIST 3 and 7 model\\nand so to create a model we're going to need to create something that we can pass into a function like\\nthis one: def pr_eight(x,w) = (x*w).sum()\\nso we need some pixels that are all lined up and some parameters that are all lined up\\nand then we're going to sum them up\\nso our axis/x's are going to be pixels and so in this case,\\nbecause we're just going to multiply each pixel by a parameter and add them up,\\nthe effect that the're laid out in a grid is not important so let's reshape those grids\\nand turn them into vectors\\nthe way we reshape things in pytorch is by using the view method\\nthe view method you can pass to it how large you want each dimension to be\\nin this case, we want the number of columns to be equal to the total number of pixels in each picture, which is 28*28=784\\nand then the number of rows will be however many rows there are in the data\\n(me: so each picture now occupies a row of 784 columns or 784 numbers)\\n(in total are 12396 3s and 7s so there are that many rows)\\nso if you use -1 when you call view, that means as many there are in the data\\nso this will create something of the same, with the same total number of elements that we had before\\nso we can grab all our 3, we can concatenate them with torch cat with all of our 7s\\nand then reshape that into a matrix, where each row is one image\\nwith all of the rows and columns of an image all lined up in a single vector\\nso that's our x.\\n\""
      ]
     },
     "execution_count": 106,
     "metadata": {},
     "output_type": "execute_result"
    }
   ],
   "source": [
    "'''\n",
    "so now let's apply this to MNIST\n",
    "so for MNIST we want to use this exact technique and there's nothing extra that we have to do\n",
    "except on thing, we need a LOSS function\n",
    "and the metric that we've been using is the error rate, or the accuracy \n",
    "    (the accuracy = how many of the predictions are true in the validation set\n",
    "    using the mnist_distance that calculates the overall distance between an the validation set and an ideal 3/7)\n",
    "accuracy = it's like how often are we correct \n",
    "and that's the thing we're actually trying to make good, our metric\n",
    "but we've got a very serious problem, \n",
    "which is we need to calculate the gradient to figure out how we should change our parameters\n",
    "and the gradient is the slope, or the steepness, which is rise / run\n",
    "it's (y_new-y_old) / (x_new-x_old)  -->> on the loss graph\n",
    "the gradient is actually defined when x_new is very, very close to x_old, \n",
    "meaning their difference is very small (because the derivative it's the tangent)\n",
    "but think about accuracy: if I change a parameter by a tiny tiny amount, the accuracy might not change at all\n",
    "(it's an horizontal line and it's slope in that x_new point is 0)\n",
    "because there might not be any 3 that we now predict as a 7 or any 7 that we now predict as a 3\n",
    "because we change the parameter by such a small amount\n",
    "so it's certain that the gradient is 0 in many places, \n",
    "and that means our parameters aren't going to change at all\n",
    "because learning rate * gradient is still 0 when the gradient is 0 for any learning rate\n",
    "so this is why the loss function and the metric are not always the same thing\n",
    "we can't use a metric as our loss if that metric has a gradient of zero\n",
    "so we need something different\n",
    "we need to find something that is pretty similar to the accuracy \n",
    "in that like as the accuracy gets better this ideal function we want gets better as well\n",
    "but it should not have a gradient of 0\n",
    "\n",
    "so let's think about that function\n",
    "suppose we had 3 images\n",
    "actually we will stop\n",
    "we understand GD\n",
    "we know how to do it with a simple loss function \n",
    "\n",
    "\n",
    "\n",
    "lesson 4 2020\n",
    "deep into the weeds of what exactly is going on when we are training a neural network\n",
    "and we started looking at this in the previous lesson, at SGD\n",
    "\n",
    "we were looking at what Arthur Samuel said:\n",
    "automatic means of testing the effectivenes of any current weight/paramenter assignment in terms of actual performance\n",
    "and provide a mechanism for altering the weight assignment so as to maximize that performance\n",
    "so we could make that entirely automatic \n",
    "and a machine so programmed would learn from its experience\n",
    "\n",
    "our initial attempt on MNIST data set was not based on that\n",
    "we didn't have any parameters \n",
    "\n",
    "lesson 4 2020\n",
    "now let's use this to create our MNIST 3 and 7 model\n",
    "and so to create a model we're going to need to create something that we can pass into a function like\n",
    "this one: def pr_eight(x,w) = (x*w).sum()\n",
    "so we need some pixels that are all lined up and some parameters that are all lined up\n",
    "and then we're going to sum them up\n",
    "so our axis/x's are going to be pixels and so in this case,\n",
    "because we're just going to multiply each pixel by a parameter and add them up,\n",
    "the effect that the're laid out in a grid is not important so let's reshape those grids\n",
    "and turn them into vectors\n",
    "the way we reshape things in pytorch is by using the view method\n",
    "the view method you can pass to it how large you want each dimension to be\n",
    "in this case, we want the number of columns to be equal to the total number of pixels in each picture, which is 28*28=784\n",
    "and then the number of rows will be however many rows there are in the data\n",
    "(me: so each picture now occupies a row of 784 columns or 784 numbers)\n",
    "(in total are 12396 3s and 7s so there are that many rows)\n",
    "so if you use -1 when you call view, that means as many there are in the data\n",
    "so this will create something of the same, with the same total number of elements that we had before\n",
    "so we can grab all our 3, we can concatenate them with torch cat with all of our 7s\n",
    "and then reshape that into a matrix, where each row is one image\n",
    "with all of the rows and columns of an image all lined up in a single vector\n",
    "so that's our x.\n",
    "'''\n",
    "\n",
    "#train_test = torch.cat([stacked_threes, stacked_sevens])\n",
    "#train_test"
   ]
  },
  {
   "cell_type": "code",
   "execution_count": 107,
   "metadata": {},
   "outputs": [],
   "source": [
    "train_x = torch.cat([stacked_threes, stacked_sevens]).view(-1, 28*28)  \n",
    "# cat puts 3 above 7 because default axis is 0, the vertical axis\n",
    "# view(-1,28*28) means fix one axis to 28*28 and one picture is now 784 columns/numbers\n",
    "# and the -1 means to adapt so it can fit all images, the sum of 3s + 7s\n",
    "# so this is a matrix now"
   ]
  },
  {
   "cell_type": "markdown",
   "metadata": {},
   "source": [
    "We need a **label for each image.**  \n",
    "We'll use `1` for 3s and `0` for 7s:"
   ]
  },
  {
   "cell_type": "code",
   "execution_count": 108,
   "metadata": {},
   "outputs": [],
   "source": [
    "# test only\n",
    "#train_test = tensor([1]*len(threes) + [0]*len(sevens))\n",
    "#train_test, train_test.shape"
   ]
  },
  {
   "cell_type": "code",
   "execution_count": 109,
   "metadata": {},
   "outputs": [
    {
     "data": {
      "text/plain": [
       "(torch.Size([12396, 784]), torch.Size([12396, 1]))"
      ]
     },
     "execution_count": 109,
     "metadata": {},
     "output_type": "execute_result"
    }
   ],
   "source": [
    "'''\n",
    "then we're going to need labels, 1 for each of the 3s and a 0 for each of the 7s\n",
    "so basically we're going to create an is_3 model (what??)\n",
    "so that's going to create a vector, we actually need it to be a matrix in pytorch\n",
    "so unsqueeze will and an additional unit dimension to whatever I've asked for\n",
    "so here in position 1, \n",
    "so in other words, this is going to turn up from which is a vector of 12396 long \n",
    "into a matrix with 12396 rows and 1 column\n",
    "'''\n",
    "# create a tensor for labels\n",
    "train_y = tensor([1]*len(threes) + [0]*len(sevens)).unsqueeze(1)  # puts them vertical\n",
    "train_x.shape,train_y.shape"
   ]
  },
  {
   "cell_type": "code",
   "execution_count": 110,
   "metadata": {},
   "outputs": [
    {
     "data": {
      "text/plain": [
       "tensor([[1],\n",
       "        [1],\n",
       "        [1],\n",
       "        ...,\n",
       "        [0],\n",
       "        [0],\n",
       "        [0]])"
      ]
     },
     "execution_count": 110,
     "metadata": {},
     "output_type": "execute_result"
    }
   ],
   "source": [
    "train_y  # added by me"
   ]
  },
  {
   "cell_type": "markdown",
   "metadata": {},
   "source": [
    "**A `Dataset` in PyTorch is required to return a tuple of `(x,y)` when indexed.**  \n",
    "Python provides **a `zip` function which, when combined with `list`**, provides a simple way to get this functionality:"
   ]
  },
  {
   "cell_type": "code",
   "execution_count": 111,
   "metadata": {},
   "outputs": [
    {
     "data": {
      "text/plain": [
       "(torch.Size([784]), tensor([1]))"
      ]
     },
     "execution_count": 111,
     "metadata": {},
     "output_type": "execute_result"
    }
   ],
   "source": [
    "'''\n",
    "now we're going to turn or x and y into a dataset\n",
    "and a Dataset is a very specific concept in pytorch\n",
    "it's something we can index into, using []\n",
    "and when we do so, it's expected to return a tuple \n",
    "containing our independent variable (x) and a dependent variable (y)\n",
    "for each particular row (0 in this case)\n",
    "\n",
    "and so to do that we can use the python zip function, \n",
    "which takes one element of the train_x and combines/concatenates it with one element of train_y\n",
    "and it does that again and again and again\n",
    "and so then if we create a list of those it gives us a Dataset\n",
    "\n",
    "it gives us a list which when we index into it, it's going to contain 1 image and 1 label\n",
    "and so here you can see \"y\" there's my label\n",
    "and \"x\" my image, but I won't print the whole thing, it's a 784 long vector\n",
    "\n",
    "so that's a really important concept: Dataset, something you can index into, and get back a tuple\n",
    "this is called destructuring a tuple: which means I'm taking the 2 parts of the tuple\n",
    "and putthing the 1st part in one variable (x) and the 2nd part in the other variable\n",
    "which is something we do a lot in python, it's pretty handy\n",
    "'''\n",
    "\n",
    "dset = list(zip(train_x,train_y))  # so a pytorch dataset needs to return a tuple (a fixed list)\n",
    "x,y = dset[0]\n",
    "x.shape,y"
   ]
  },
  {
   "cell_type": "code",
   "execution_count": 112,
   "metadata": {},
   "outputs": [],
   "source": [
    "'''\n",
    "repeat the same 3 steps for the validation set\n",
    "so we've now got a training Dataset and a validation Dataset\n",
    "'''\n",
    "valid_x = torch.cat([valid_3_tens, valid_7_tens]).view(-1, 28*28)             # create the valid dataset\n",
    "valid_y = tensor([1]*len(valid_3_tens) + [0]*len(valid_7_tens)).unsqueeze(1)\n",
    "valid_dset = list(zip(valid_x,valid_y))"
   ]
  },
  {
   "cell_type": "markdown",
   "metadata": {},
   "source": [
    "Now we need **an (initially random) weight for every pixel**  \n",
    "(this is the ***initialize* step** in our seven-step process):"
   ]
  },
  {
   "cell_type": "code",
   "execution_count": 113,
   "metadata": {},
   "outputs": [],
   "source": [
    "'''\n",
    "so now we need to initialize our parameters\n",
    "and we just do it randomly\n",
    "here's a function that given some size (shape if you like)\n",
    "we'll randomly initialize, using a normal random number distribution in pytorch\n",
    "(hit shift+tab with cursor inside the size of rand(size) to see more details)\n",
    "and it says in the details that's going to have a variance of 1\n",
    "so I probably should not call this standard deviation (std=1), but variance\n",
    "\n",
    "so multiply it by the variance to change it's variance to whatever is requested (in arguments at std=)\n",
    "which will default to 1\n",
    "\n",
    "and as we talked about when it comes to calculating our gradients\n",
    "we have to tell pytorch which things we want gradients for\n",
    "and the way we do that is requires_grad_\n",
    "the underscore _ at the end is a special magic symbol \n",
    "which tells pytorch that we want this function to actually change the thing that is referring to\n",
    "this will change this tensor, such that it requires gradience\n",
    "\n",
    "\n",
    "'''\n",
    "def init_params(size, std=1.0): \n",
    "    return (torch.randn(size)*std).requires_grad_()"
   ]
  },
  {
   "cell_type": "code",
   "execution_count": 114,
   "metadata": {},
   "outputs": [],
   "source": [
    "'''\n",
    "here's some weights, so our weights are going to need to be 28*28=784 by 1 shape\n",
    "28*28 because every pixel is going to need a weight\n",
    "and then 1 because we're going to need to have that unit access to make it into a column\n",
    "(me: to be vertical 784 weights, a single column)\n",
    "so that's what pytorch expects \n",
    "so there's our weights\n",
    "'''\n",
    "\n",
    "weights = init_params((28*28,1))   # x are the pictures, which are 28*28 so the weights w should be the same"
   ]
  },
  {
   "cell_type": "markdown",
   "metadata": {},
   "source": [
    "**The function `weights*pixels` won't be flexible enough**  \n",
    "— it is always equal to 0 when the pixels are equal to 0 (i.e., its *intercept* is 0).  \n",
    "You might remember from high school math that **the formula for a line is `y=w*x+b`; we still need the `b`.**  \n",
    "**We'll initialize it to a random number too:**"
   ]
  },
  {
   "cell_type": "code",
   "execution_count": 115,
   "metadata": {},
   "outputs": [],
   "source": [
    "'''\n",
    "now just weights by pixels actually isn't going to be enough\n",
    "because weights by pixels were always equal 0 when the pixels are equal to 0,\n",
    "it has a 0 intercept\n",
    "so we really want something where it's like w*x+b, a line\n",
    "so the b we call the bias\n",
    "so let's grab a single number for our bias =|> (1)\n",
    "\n",
    "so I told you, there's a difference between parameters and weights\n",
    "\n",
    "the weights from weights = init_params((28*28,1)) are the w in y=wx+b equation\n",
    "and the bias is b in this equation\n",
    "and the weights and bias together are the PARAMETERS  of the function\n",
    "they're all the things that we're going to change, they're all the things that have gradients that we're going to update\n",
    "'''\n",
    "bias = init_params(1)"
   ]
  },
  {
   "cell_type": "markdown",
   "metadata": {},
   "source": [
    "In neural networks, the `w` in the equation `y=w*x+b` is called the *weights*, and the `b` is called the *bias*.  \n",
    "**Together, the weights and bias make up the *parameters*.**"
   ]
  },
  {
   "cell_type": "markdown",
   "metadata": {},
   "source": [
    "> jargon: Parameters: The _weights_ and _biases_ of a model.  \n",
    "> The weights are the `w` in the equation `w*x+b`, and the biases are the `b` in that equation."
   ]
  },
  {
   "cell_type": "markdown",
   "metadata": {},
   "source": [
    "**We can now calculate a prediction for one image:**"
   ]
  },
  {
   "cell_type": "code",
   "execution_count": 116,
   "metadata": {},
   "outputs": [
    {
     "data": {
      "text/plain": [
       "tensor([1.4917], grad_fn=<AddBackward0>)"
      ]
     },
     "execution_count": 116,
     "metadata": {},
     "output_type": "execute_result"
    }
   ],
   "source": [
    "'''\n",
    "we can now create and calculate predictions for one image \n",
    "so we can take an image such as the 1st one\n",
    "and multiply by the weights only to transpose them \n",
    "to make them line up in terms of the rows and columns \n",
    "and add it up, \n",
    "and add the bias \n",
    "and there is a prediction\n",
    "\n",
    "we want to do that for every image \n",
    "we could do that with a for loop and that would be really, really slow\n",
    "it wouldn't run on the gpu and it wouldn't run in optimized c code\n",
    "so we actually want to use always to do kind of like looping over pixels, looping over images\n",
    "you always want to make sure you're doing that without a python loop\n",
    "in this case doing this calculation for lots of rows and columns is the matrix multiplication operation\n",
    "'''\n",
    "(train_x[0]*weights.T).sum() + bias  # why? because a nn it's a linear function; and pr_eight is also multiplication + sum; here it adds a bias"
   ]
  },
  {
   "cell_type": "markdown",
   "metadata": {},
   "source": [
    "While we could use a Python `for` loop to calculate the prediction for each image, that would be very slow.  \n",
    "Because Python loops don't run on the GPU, and because Python is a slow language for loops in general,  \n",
    "**we need to represent as much of the computation in a model as possible using higher-level functions.**\n",
    "\n",
    "In this case, there's an extremely convenient mathematical operation that calculates `w*x` for every row of a matrix—it's called ***matrix multiplication***.  \n",
    "<<matmul>> shows what matrix multiplication looks like."
   ]
  },
  {
   "cell_type": "markdown",
   "metadata": {},
   "source": [
    "<img alt=\"Matrix multiplication\" width=\"400\" caption=\"Matrix multiplication\" src=\"images/matmul2.svg\" id=\"matmul\"/>"
   ]
  },
  {
   "cell_type": "markdown",
   "metadata": {},
   "source": [
    "This image shows two matrices, `A` and `B`, being multiplied together.  \n",
    "Each item of the result, which we'll call `AB`, contains each item of its corresponding row of `A` multiplied by each item of its corresponding column of `B`, added together.  \n",
    "For instance, **row 1, column 2 (the yellow dot with a red border) is calculated as $a_{1,1} * b_{1,2} + a_{1,2} * b_{2,2}$.**  \n",
    "If you need a refresher on matrix multiplication, we suggest you take a look at the [Intro to Matrix Multiplication](https://youtu.be/kT4Mp9EdVqs) on *Khan Academy*,  \n",
    "since this is the most important mathematical operation in deep learning.  \n",
    "\n",
    "**In Python, matrix multiplication is represented with the `@` operator.**    \n",
    "Let's try it:"
   ]
  },
  {
   "cell_type": "code",
   "execution_count": 117,
   "metadata": {},
   "outputs": [
    {
     "data": {
      "text/plain": [
       "tensor([[ 1.4917],\n",
       "        [ 8.0730],\n",
       "        [13.7015],\n",
       "        ...,\n",
       "        [-4.6291],\n",
       "        [13.3116],\n",
       "        [-3.6772]], grad_fn=<AddBackward0>)"
      ]
     },
     "execution_count": 117,
     "metadata": {},
     "output_type": "execute_result"
    }
   ],
   "source": [
    "'''\n",
    "1st prediction is 20.2336 as above with train_x[0]\n",
    "so matrix multiplication gives us an optimized way to do these simple linear function\n",
    "wehreas we want as many rows and columns as we want\n",
    "so this is one of the 2 fundamental equations of any neural network\n",
    "some rows and columns of data multiply some weights add some bias \n",
    "and the 2nd one is an activation function\n",
    "\n",
    "so these are some predictions from our randomly initialized model\n",
    "'''\n",
    "def linear1(xb): return xb@weights + bias\n",
    "preds = linear1(train_x)\n",
    "preds"
   ]
  },
  {
   "cell_type": "markdown",
   "metadata": {},
   "source": [
    "The first element is the same as we calculated before, as we'd expect.  \n",
    "**This equation, `batch@weights + bias`, is one of the two fundamental equations of any neural network**  \n",
    "(the other one is the ***activation function***, which we'll see in a moment)."
   ]
  },
  {
   "cell_type": "markdown",
   "metadata": {},
   "source": [
    "Let's check our **accuracy**.  \n",
    "**To decide if an output represents a 3 or a 7, we can just check whether it's greater than 0.0,**  \n",
    "so our accuracy for each item can be calculated (using broadcasting, so no loops!) with:"
   ]
  },
  {
   "cell_type": "code",
   "execution_count": 118,
   "metadata": {},
   "outputs": [
    {
     "data": {
      "text/plain": [
       "tensor([[ True],\n",
       "        [ True],\n",
       "        [ True],\n",
       "        ...,\n",
       "        [ True],\n",
       "        [False],\n",
       "        [ True]])"
      ]
     },
     "execution_count": 118,
     "metadata": {},
     "output_type": "execute_result"
    }
   ],
   "source": [
    "'''\n",
    "so we can check how good our model is\n",
    "and so to do that we can decide that anything greater than 0 we will call a 3\n",
    "and anything less than 0 we will call a 7\n",
    "so preds greater than 0 tells us whether or not something is predicted to be a 3 or not\n",
    "then turn that into a float, so rather than true and false, make it 1 and 0, \n",
    "because it's what our training set contains (train_y)\n",
    "\n",
    "and check with our thresholded predictions are equal to our training set \n",
    "and this will return true every time a row is correctly predicted and false otherwise\n",
    "'''\n",
    "corrects = (preds>0.0).float() == train_y  # compare the predictions with train_y\n",
    "                                           # train_y is 1(3s) and 0(7s)\n",
    "                                           # preds>0 means 1; if it's equal with 1 in train_y then it's a 3\n",
    "corrects"
   ]
  },
  {
   "cell_type": "code",
   "execution_count": 119,
   "metadata": {},
   "outputs": [
    {
     "data": {
      "text/plain": [
       "0.5893836617469788"
      ]
     },
     "execution_count": 119,
     "metadata": {},
     "output_type": "execute_result"
    }
   ],
   "source": [
    "'''\n",
    "so if we take all these trues and falses and turn them into floasts, that'll be 1s and 0s\n",
    "and then take their mean it's 0.49\n",
    "so not surprisingly our randomly initialized model is right about half the time at predicting 3s from 7s\n",
    "I added one more method here, which is .item() \n",
    "without .item() this will return a tensor, it's a rank 0 tensor, it has no rows, no columns\n",
    "it just it's number on its own, but I actually wanted to unwrap it to create a normal python scalar\n",
    "mainly just because I wanted to easily see the decimal places \n",
    "and the reason for that is I want to show you how we're going to calculate the derivative on the accuracy\n",
    "by changing a parameter a tiny bit\n",
    "'''\n",
    "corrects.float().mean().item()"
   ]
  },
  {
   "cell_type": "markdown",
   "metadata": {},
   "source": [
    "Now let's see what **the change in accuracy is for a small change in one of the weights**    \n",
    "(note that we have to ask PyTorch not to calculate gradients as we do this, which is what `with torch.no_grad()` is doing here):"
   ]
  },
  {
   "cell_type": "code",
   "execution_count": 120,
   "metadata": {},
   "outputs": [],
   "source": [
    "'''\n",
    "so let's take one parameter, which will be w[0] and multiply it with 1.0001\n",
    "and so that's going to make it a little bit bigger\n",
    "and then if I calculate how the accuracy changes based on the change in that weight\n",
    "that will be the gradient of the accuracy with respect to that parameter\n",
    "'''\n",
    "\n",
    "with torch.no_grad(): weights[0] *= 1.0001  "
   ]
  },
  {
   "cell_type": "code",
   "execution_count": 121,
   "metadata": {},
   "outputs": [
    {
     "data": {
      "text/plain": [
       "0.5893836617469788"
      ]
     },
     "execution_count": 121,
     "metadata": {},
     "output_type": "execute_result"
    }
   ],
   "source": [
    "'''\n",
    "so I can do that by calculating my new set of predictions and then I can threshold them\n",
    "and then I can check whether they're equal to the training set and then take the mean\n",
    "and I get back exactly the same number \n",
    "so remember that gradient is equal to rise/run \n",
    "\n",
    "the change in y, so y_new-y_old (that's the accuracy, the y function = wx+b)\n",
    "which is which is 0.4912 - 0.4912, which is 0\n",
    "divided by this change in x (1.0001) \n",
    "will give us 0\n",
    "so at this point we have a problem: our derivative is 0 so we have 0 gradients:\n",
    "which means our step will be 0\n",
    "which means our prediction will be unchanged\n",
    "\n",
    "ok, so we have problem\n",
    "our problem is that our gradient is zero and with a gradient of 0\n",
    "we can't take a step and we can't get better predictions\n",
    "and so intuitively speaking, the reason that our gradient is 0\n",
    "is because when we change a single pixel by a tiny bit\n",
    "we might not ever in any way change an actual prediction to change from predicting a 3 to a 7\n",
    "or viceversa\n",
    "because we have this threshold (preds>0.0)\n",
    "\n",
    "so in other words, our accuracy loss function here is very bumpy\n",
    "it's like a flat step, flat step, flat step\n",
    "so it's got this 9 gradient all over the place\n",
    "so what we need to do it use something other than accuracy as our loss function\n",
    "\n",
    "so let's try and create a new function \n",
    "and what this new function is going to do, it's going to give us a better value\n",
    "kind of in much the same way that accuracy gives a better value\n",
    "so this is the loss, and remember, the small loss is better\n",
    "so to give us a lower loss, when the accuracy is better \n",
    "but it won't have a zero gradient\n",
    "it means that a slightly better prediction needs to have a slightly better loss (lower loss is better)\n",
    "'''\n",
    "\n",
    "preds = linear1(train_x)\n",
    "((preds>0.0).float() == train_y).float().mean().item()  # same value, which means the y is constant \n",
    "                                                        # so the gradient/derivative is 0 = useless"
   ]
  },
  {
   "cell_type": "markdown",
   "metadata": {},
   "source": [
    "As we've seen, **we need gradients in order to improve our model using SGD,**  \n",
    "and in order to calculate gradients we need some ***loss function* that represents how good our model is.**  \n",
    "That is because the gradients are a measure of how that loss function changes with small tweaks to the weights.  \n",
    "\n",
    "**So, we need to choose a loss function.**  \n",
    "The obvious approach would be to use **accuracy**, which is our metric, as our loss function as well.  \n",
    "In this case, we would calculate our prediction for each image, collect these values to calculate an overall accuracy,  \n",
    "and then calculate **the gradients of each weight with respect to that overall accuracy.**\n",
    "\n",
    "Unfortunately, we have a **significant technical problem here.**  \n",
    "**The gradient of a function is its *slope***, or its steepness, which can be defined as ***rise over run***       \n",
    "— that is, how much the value of the function goes up or down, divided by how much we changed the input.  \n",
    "We can write this in mathematically as: **`(y_new - y_old) / (x_new - x_old)`**.  \n",
    "This gives us **a good approximation of the gradient when `x_new` is very similar to `x_old`**, meaning that their difference is very small.  \n",
    "**But accuracy only changes at all when a prediction changes from a 3 to a 7, or vice versa.**  \n",
    "The problem is that a small change in weights from `x_old` to `x_new` isn't likely to cause any prediction to change,    \n",
    "so `(y_new - y_old)` will almost always be 0.   \n",
    "In other words, **the gradient is 0 almost everywhere.**  "
   ]
  },
  {
   "cell_type": "markdown",
   "metadata": {},
   "source": [
    "A very small change in the value of a weight will often not actually change the accuracy at all.  \n",
    "This means **it is not useful to use accuracy as a loss function**   \n",
    "— if we do, most of the time our gradients will actually be 0, and the model will not be able to learn from that number.  \n",
    "\n",
    "> S: In mathematical terms, accuracy is a function that is constant almost everywhere (except at the threshold, 0.5),  \n",
    "> so its derivative is nil almost everywhere (and infinity at the threshold).  \n",
    "> This then gives gradients that are 0 or infinite, which are useless for updating the model.  \n",
    "\n",
    "Instead, **we need a loss function which, when our weights result in slightly better predictions, gives us a slightly better loss.**  \n",
    "So what does a \"slightly better prediction\" look like, exactly?  \n",
    "Well, in this case, it means that **if the correct answer is a 3 the score is a little higher, or if the correct answer is a 7 the score is a little lower.**  \n",
    "\n",
    "Let's write such a function now.  \n",
    "What form does it take?  \n",
    "\n",
    "**The loss function receives not the images themselves, but the predictions from the model.**  \n",
    "Let's make **one argument, `prds`, of values between 0 and 1, where each value is the prediction that an image is a 3.**  \n",
    "It is a vector (i.e., a rank-1 tensor), indexed over the images.  \n",
    "\n",
    "**The purpose of the loss function is to measure the difference between predicted values and the true values — that is, the targets (aka labels).**  \n",
    "**Let's make another argument, `trgts`, with values of 0 or 1 which tells whether an image actually is a 3 or not.**    \n",
    "It is also a vector (i.e., another rank-1 tensor), indexed over the images.  \n",
    "\n",
    "So, for instance, **suppose we had three images which we knew were a 3, a 7, and a 3.**    \n",
    "**And suppose our model predicted:**  \n",
    "    <u>with high confidence (`0.9`) that the first was a 3,</u>  \n",
    "    <u>with slight confidence (`0.4`) that the second was a 7,</u>        \n",
    "    <u>and with fair confidence (`0.2`), but incorrectly, that the last was a 7.</u>    \n",
    "This would mean **our loss function would receive these values as its inputs:**  "
   ]
  },
  {
   "cell_type": "code",
   "execution_count": 122,
   "metadata": {},
   "outputs": [],
   "source": [
    "# prds are received from the model (the model doesn't send images, but predictions)"
   ]
  },
  {
   "cell_type": "code",
   "execution_count": 123,
   "metadata": {},
   "outputs": [],
   "source": [
    "'''\n",
    "so let's have a look at an example\n",
    "let's say our targets, our labels, of like that are 3\n",
    "it's 3 images here: 1,0,1\n",
    "and we've made some predictions from a neural net\n",
    "and those predictions gave us 0.9,0.4,0.2\n",
    "\n",
    "[after the next cell text, jumps back here:]\n",
    "so you can see here, when the prediction is correct\n",
    "in other words, it's a high number when the target is 1\n",
    "and a low number when the target is 0\n",
    "so the worst one is when we predicted 0.2\n",
    "so we really thought that was a 0, but it's actually a one\n",
    "[continuation to torch.where(trgts==1, 1-prds, prds)]\n",
    "'''\n",
    "trgts = tensor([1,0,1])            # true images:     3,          7,               3              (1 if it's a 3, and 0 if it's not a 3)\n",
    "prds  = tensor([0.9, 0.4, 0.2])    # model predicts:  0.9 is 3    0.4 that is 7    0.2 that is 7  (incorrect)                                   \n",
    "#prds  = tensor([1, 0, 1])\n",
    "#prds  = 1-tensor([1, 0, 1])"
   ]
  },
  {
   "cell_type": "markdown",
   "metadata": {},
   "source": [
    "**Here's a first try at a loss function that measures the distance between `predictions` and `targets`:**  "
   ]
  },
  {
   "cell_type": "code",
   "execution_count": 124,
   "metadata": {},
   "outputs": [],
   "source": [
    "'''\n",
    "so now consider this loss function\n",
    "we're going to use torch.where, which is the same as this list comprehension\n",
    "it's basically an if statement so it's going to say:\n",
    "for where targets equals 1, we're going to return 1-predictions\n",
    "and where is not 1 it will just be predictions\n",
    "'''\n",
    "# if it should be 1 (targets==1) then what is the distance from pred to 1 (1-pred)\n",
    "# if it should be 0 (targets==0) then what is the distance from pred to 0 (pred)\n",
    "def mnist_loss(predictions, targets):  \n",
    "    return torch.where(targets==1, 1-predictions, predictions).mean()  # the loss is the mean of all these distances between predictions and targets\n"
   ]
  },
  {
   "cell_type": "markdown",
   "metadata": {},
   "source": [
    "**We're using a new function, `torch.where(a,b,c)`.**  \n",
    "This is the same as running the **list comprehension `[b[i] if a[i] else c[i] for i in range(len(a))]`,**  \n",
    "except it works on tensors, at C/CUDA speed.  \n",
    "In plain English, **this function will measure how distant each prediction is from 1 if it should be 1,      \n",
    "and how distant it is from 0 if it should be 0,  \n",
    "and then it will take the mean of all those distances.**  \n",
    "\n",
    "> note: Read the Docs: It's important to learn about PyTorch functions like this,  \n",
    "> because looping over tensors in Python performs at Python speed, not C/CUDA speed!  \n",
    "> Try running **`help(torch.where)`** now to read the docs for this function, or, better still, look it up on the PyTorch documentation site.  "
   ]
  },
  {
   "cell_type": "code",
   "execution_count": 125,
   "metadata": {},
   "outputs": [],
   "source": [
    "#help(torch.where)"
   ]
  },
  {
   "cell_type": "markdown",
   "metadata": {},
   "source": [
    "**Let's try it on our `prds` and `trgts`:**"
   ]
  },
  {
   "cell_type": "code",
   "execution_count": 126,
   "metadata": {},
   "outputs": [
    {
     "data": {
      "text/plain": [
       "tensor([0.1000, 0.4000, 0.8000])"
      ]
     },
     "execution_count": 126,
     "metadata": {},
     "output_type": "execute_result"
    }
   ],
   "source": [
    "'''\n",
    "so we ended up with 0.8 here because it is 1-prediction (1-0.2=0.8)\n",
    "'''\n",
    "torch.where(trgts==1, 1-prds, prds)  # if targets equals 1, replace with 1-prds, otherwise replace with prds: 1-0.9, 0.4, 1-0.8"
   ]
  },
  {
   "cell_type": "markdown",
   "metadata": {},
   "source": [
    "**You can see that this function returns a lower number when:    \n",
    "predictions are more accurate,  \n",
    "when accurate predictions are more confident (higher absolute values), (prds=0.9 and trgts=1 -> returns 0.1)    \n",
    "and when inaccurate predictions are less confident.**    \n",
    "In PyTorch, we always assume that a lower value of a loss function is better.  \n",
    "**Since we need a scalar for the final loss, `mnist_loss` takes the mean of the previous tensor:**  "
   ]
  },
  {
   "cell_type": "code",
   "execution_count": 127,
   "metadata": {},
   "outputs": [
    {
     "data": {
      "text/plain": [
       "tensor(0.4333)"
      ]
     },
     "execution_count": 127,
     "metadata": {},
     "output_type": "execute_result"
    }
   ],
   "source": [
    "'''\n",
    "so we can then take the mean of all of these to calculate a loss\n",
    "so if you think about it, this loss will be the smallest if the predictions are exactly right\n",
    "so if we did predictions that are identical to the targes ([1,0,1]) then torch.where(trgts==1, 1-prds, prds) will be [0,0,0] ~ loss is 0, the ideal\n",
    "if they were exactly wrong (prds  = 1-tensor([1, 0, 1])) then torch.where/loss is [1,1,1]\n",
    "\n",
    "so the loss will be better (smaller) when the predictions are closer to the targets\n",
    "so here we can now take the mean and when we do, we get here 0.433\n",
    "'''\n",
    "mnist_loss(prds,trgts)"
   ]
  },
  {
   "cell_type": "markdown",
   "metadata": {},
   "source": [
    "For instance, if we change our prediction for **the one \"false\" target from `0.2` to `0.8` the loss will go down**,  \n",
    "indicating that this is **a better prediction:**  \n",
    "me: why 0.8 for an incorrect 7 is better than 0.2 for an incorrect 7  \n",
    "because 0.9 is closer to 1 than to 0 so it predicts a 1, which is a 3  \n",
    "and 0.2 is closer to 0 than to 1, so it predicts a 0, which is a 7 (which is incorrect)  \n",
    "and 0.8 is closer to 1, so it predicts 1, which is a 3 (which is correct)  "
   ]
  },
  {
   "cell_type": "code",
   "execution_count": 128,
   "metadata": {},
   "outputs": [
    {
     "data": {
      "text/plain": [
       "tensor(0.2333)"
      ]
     },
     "execution_count": 128,
     "metadata": {},
     "output_type": "execute_result"
    }
   ],
   "source": [
    "'''\n",
    "let's say we change this last bad one in accurate prediction from 0.2 to 0.8 \n",
    "and the loss gets better, from 0.43 to 0.23 but this is just this function torch.where().mean()\n",
    "this is pretty good, a loss function which pretty closely tracks accuracy\n",
    "if the accuracy is better the loss will be smaller\n",
    "but also it doesn't have these 0 gradients because every time we change the prediction the loss changes\n",
    "because the prediction is literally harder?? the loss\n",
    "but this is going to work when predictions are between 0 and 1\n",
    "otherwise this 1-prediction thing is going to look a bit funny\n",
    "we should try and find a way to ensure that the predictions are always between 0 and 1\n",
    "and it makes more intuitively sense because we want to thing at these as probabilities [0.9, 0.4, 0.8]\n",
    "or at least nicely scaled numbers \n",
    "'''\n",
    "mnist_loss(tensor([0.9, 0.4, 0.8]),trgts)"
   ]
  },
  {
   "cell_type": "markdown",
   "metadata": {},
   "source": [
    "**One problem with `mnist_loss` as currently defined is that it assumes that predictions are always between 0 and 1.**  \n",
    "**We need to ensure, then, that this is actually the case!**  \n",
    "As it happens, there is a function that does exactly that — let's take a look."
   ]
  },
  {
   "cell_type": "markdown",
   "metadata": {},
   "source": [
    "### Sigmoid"
   ]
  },
  {
   "cell_type": "markdown",
   "metadata": {},
   "source": [
    "**The `sigmoid` function always outputs a number between 0 and 1.**  \n",
    "It's defined as follows:"
   ]
  },
  {
   "cell_type": "code",
   "execution_count": 129,
   "metadata": {},
   "outputs": [],
   "source": [
    "'''\n",
    "so we need some function that can take our big numbers in preds tensor (cell 99) (20, 15, 18 etc)\n",
    "and turn them all into numbers between 0 and 1\n",
    "and it happens that we have exactly the right function, \n",
    "the sigmoid: if you pass in a really small number you get a number very close to 0\n",
    "if you pass in a big number you get a number very close to 1\n",
    "it never gets past 1 and it never goes smaller than 0\n",
    "and it's kind of like this smooth curve between\n",
    "and in the middle it looks a lot like the y = x line\n",
    "this is the definition of the sigmoid function\n",
    "\n",
    "what is exponential? is e to the power of something\n",
    "'''\n",
    "def sigmoid(x): \n",
    "    return 1/(1+torch.exp(-x)) # 1/(1+e^-x)"
   ]
  },
  {
   "cell_type": "code",
   "execution_count": 130,
   "metadata": {},
   "outputs": [
    {
     "data": {
      "text/plain": [
       "7.3890560989306495"
      ]
     },
     "execution_count": 130,
     "metadata": {},
     "output_type": "execute_result"
    }
   ],
   "source": [
    "'''\n",
    "e is just a number like pi\n",
    "'''\n",
    "math.e**2"
   ]
  },
  {
   "cell_type": "code",
   "execution_count": 131,
   "metadata": {},
   "outputs": [
    {
     "data": {
      "text/plain": [
       "tensor(7.3891)"
      ]
     },
     "execution_count": 131,
     "metadata": {},
     "output_type": "execute_result"
    }
   ],
   "source": [
    "torch.exp(tensor(2))  # the same numbers as the cell above"
   ]
  },
  {
   "cell_type": "markdown",
   "metadata": {},
   "source": [
    "Pytorch defines an accelerated version for us, so we don’t really need our own.  \n",
    "This is an important function in deep learning, since we often want to **ensure values are between 0 and 1.**    \n",
    "This is what it looks like:"
   ]
  },
  {
   "cell_type": "code",
   "execution_count": 132,
   "metadata": {},
   "outputs": [
    {
     "data": {
      "image/png": "[encoded data removed]",
      "text/plain": [
       "<Figure size 600x400 with 1 Axes>"
      ]
     },
     "metadata": {},
     "output_type": "display_data"
    }
   ],
   "source": [
    "plot_function(torch.sigmoid, title='Sigmoid', min=-4, max=4)"
   ]
  },
  {
   "cell_type": "markdown",
   "metadata": {},
   "source": [
    "As you can see, it takes any input value, positive or negative, and smooshes it onto an output value between 0 and 1.  \n",
    "**It's also a smooth curve that only goes up, which makes it easier for SGD to find meaningful gradients.** \n",
    "\n",
    "**Let's update `mnist_loss` to first apply `sigmoid` to the inputs:**"
   ]
  },
  {
   "cell_type": "code",
   "execution_count": 133,
   "metadata": {},
   "outputs": [],
   "source": [
    "'''\n",
    "so we can change mnist_loss to be exactly the same as it was before but first we can make everything into sigmoid first\n",
    "and then use torch.where\n",
    "\n",
    "so that is a loss function that has all the properties we want\n",
    "it will not have those nasty 0 gradients and we ensure that the input  to the where() is between 0 and 1  \n",
    "so the reason we did this is because our accuracy was kind of what we really cared about to be a good accuracy    \n",
    "we can't use it to get our gradients, just to create our steps, to improve our parameters\n",
    "so we can change our accuracy to another function that is better when the accuracy is better\n",
    "but also it does not have these 0 gradients\n",
    "and so we can see now where, why we have a metric and a loss \n",
    "the metric is the thing we actually care about\n",
    "the loss is the thing that's similar to what we care about\n",
    "but has a nicely behaved gradient\n",
    "sometimes, the thing you care about, your metric, does have a nicely defined gradient\n",
    "and you can use it directly as a loss\n",
    "for example, we often use mean squared error but for classification unfortunately not\n",
    "'''\n",
    "def mnist_loss(predictions, targets):\n",
    "    predictions = predictions.sigmoid()\n",
    "    return torch.where(targets==1, 1-predictions, predictions).mean()"
   ]
  },
  {
   "cell_type": "markdown",
   "metadata": {},
   "source": [
    "Now we can be confident our loss function will work, even if the predictions are not between 0 and 1.  \n",
    "**All that is required is that a higher prediction corresponds to higher confidence an image is a 3.**  \n",
    "\n",
    "Having defined a loss function, now is a good moment to recapitulate why we did this.  \n",
    "After all, we already had a metric, which was **overall accuracy.**  \n",
    "**So why did we define a loss?**  \n",
    "\n",
    "The key difference is that the metric is to drive human understanding and **the loss is to drive automated learning.**    \n",
    "**To drive automated learning, the loss must be a function that has a meaningful derivative.**  \n",
    "It can't have big flat sections and large jumps, but instead **must be reasonably smooth.**   \n",
    "This is why we designed a loss function that would respond to small changes in confidence level.  \n",
    "This requirement means that sometimes it does not really reflect exactly what we are trying to achieve,  \n",
    "**but is rather a compromise between our real goal and a function that can be optimized using its gradient.**  \n",
    "**The loss** function is calculated for **each item** in our dataset,  \n",
    "and then at the end of an epoch the loss values are all averaged and **the overall mean is reported for the epoch.**\n",
    "\n",
    "**Metrics, on the other hand, are the numbers that we really care about.**  \n",
    "These are the values that are **printed at the end of each epoch that tell us how our model is really doing.**  \n",
    "It is important that we learn to **focus on these metrics, rather than the loss, when judging the performance of a model.**"
   ]
  },
  {
   "cell_type": "markdown",
   "metadata": {},
   "source": [
    "### SGD and Mini-Batches"
   ]
  },
  {
   "cell_type": "markdown",
   "metadata": {},
   "source": [
    "Now that we have a loss function that is suitable for driving SGD,  \n",
    "we can consider some of the details involved in **the next phase of the learning process,**  \n",
    "which is to **change or update the weights based on the gradients.**  \n",
    "**This is called an *optimization step***.\n",
    "\n",
    "In order to take **an optimization step** we need to **calculate the loss over one or more data items.**  \n",
    "How many should we use? We could calculate it for **the whole dataset, and take the average,**  \n",
    "or we could calculate it for **a single data item.**  \n",
    "But neither of these is ideal.   \n",
    "Calculating it for the whole dataset would take **a very long time.**  \n",
    "Calculating it for a single item would not use much information, so it would result in **a very imprecise and unstable gradient.**  \n",
    "That is, you'd be going to the trouble of updating the weights,  \n",
    "but taking into account only how that would improve the model's performance on that single item.  \n",
    "\n",
    "So instead we take a **compromise** between the two: we calculate **the average loss for a few data items at a time.**  \n",
    "**This is called a *mini-batch*.**  \n",
    "The number of data items in the mini-batch is called the ***batch size***.  \n",
    "**A larger batch size** means that you will get a **more accurate and stable estimate** of your dataset's gradients from the loss function,  \n",
    "but it **will take longer**, and you will process fewer mini-batches per epoch.  \n",
    "Choosing a good batch size is one of the decisions you need to make as a deep learning practitioner to train your model quickly and accurately.  \n",
    "We will talk about how to make this choice throughout this book.  \n",
    "\n",
    "Another good reason for using **mini-batches** rather than calculating the gradient on individual data items is that,  \n",
    "in practice, we nearly always do our training on **an accelerator such as a GPU**.  \n",
    "These accelerators only perform well if they have **lots of work to do at a time,**  \n",
    "so it's helpful if we can give them lots of data items to work on.  \n",
    "Using mini-batches is one of the best ways to do this.  \n",
    "However, if you give them too much data to work on at once, they run out of memory — making GPUs happy is also tricky!  \n",
    "\n",
    "As we saw in our discussion of data augmentation in <<chapter_production>>,  \n",
    "**we get better generalization if we can vary things during training.**  \n",
    "One simple and effective thing **we can vary is what data items we put in each mini-batch.**  \n",
    "Rather than simply enumerating our dataset in order for every epoch,  \n",
    "instead what we normally do is **randomly shuffle it on every epoch, before we create mini-batches.**    \n",
    "**PyTorch and fastai provide a class that will do the shuffling and mini-batch collation for you, called `DataLoader`.**  \n",
    "\n",
    "**A `DataLoader` can take any Python collection and turn it into an iterator over mini-batches, like so:**"
   ]
  },
  {
   "cell_type": "code",
   "execution_count": 134,
   "metadata": {},
   "outputs": [
    {
     "data": {
      "text/plain": [
       "[tensor([ 3, 12,  8, 10,  2]),\n",
       " tensor([ 9,  4,  7, 14,  5]),\n",
       " tensor([ 1, 13,  0,  6, 11])]"
      ]
     },
     "execution_count": 134,
     "metadata": {},
     "output_type": "execute_result"
    }
   ],
   "source": [
    "'''\n",
    "so we need to now use this to update the parameters\n",
    "so there's a couple of ways we could do this\n",
    "one would be to loop through every image\n",
    "calculate a prediction for that image \n",
    "and then calculate a loss\n",
    "and then do a step and then step the parameters\n",
    "and then do that again for the next image, and the next image\n",
    "that's going to be really slow because we're doing a single step for a single image\n",
    "so that would mean an epoch would take quite a while\n",
    "we could go much faster by doing every single image in the data set\n",
    "so a big matrix multiplication it can all be paralelized on the GPU\n",
    "and then so we can do a step based on the gradients looking at the entire dataset\n",
    "but now that's going to be like a lot of work to just update the weights once\n",
    "and remember sometimes our datasets have millions or tens of millions of items\n",
    "so that's probably a bad idea too\n",
    "so why not compromised?\n",
    "let's grab a few data items at a time to calculate our loss and our step\n",
    "if we grab a few data items at a time those 2 data items are called a mini batch\n",
    "and a mini-batch just means a few pieces of data\n",
    "and so the size of your mini batch is called the batch size\n",
    "so the bigger the batch size, the closer you get to the full size of your dataset\n",
    "the longer it's going to take to calculate a single set of losses, a single step\n",
    "but the more accurate it's going to be, it's going to be like, \n",
    "the gradients are going to be much closer to the true data set gradients\n",
    "and then the smaller the batch size, the faster each step we'll be able to do\n",
    "but those steps will represent a smaller number of items\n",
    "so they won't be such accurate approximation of the real gradient of the whole dataset\n",
    "\n",
    "so how do we ask for a few items at a time?\n",
    "it turns out that pytorch and fastai provides something to do that for you\n",
    "you can pass in any dataset to do this class called DataLoader\n",
    "and it will grab a few items from that dataset at a time\n",
    "how many: batch_size\n",
    "so it will grab a few items at the time, until it's grabbed all of them\n",
    "\n",
    "so here, let's create a collection (coll) that just contains all the numbers from 0 to 14\n",
    "let's pass that into a dataloader with a batch size of 5\n",
    "and then, that's going to be something called an iterator, in python\n",
    "it's something that you can ask for one more thing from an iterator\n",
    "if you pass an iterator to list in python, it returns all the things from the iterator\n",
    "so here are my three mini-batches (3 rows of 5) from 0 to 14, 5 at the time, appear in random order because suffle=true\n",
    "normally in the training set we ask for things to be suffled, so it gives us a little bit of more randomization\n",
    "more randomization is good, because it makes it harder for it to learn what the dataset looks like\n",
    "so that's how our DataLoader is created\n",
    "\n",
    "now remember though, that our datasets actually return tuples, and here I've just got single ints\n",
    "\n",
    "'''\n",
    "coll = range(15)\n",
    "dl = DataLoader(coll, batch_size=5, shuffle=True)\n",
    "list(dl)"
   ]
  },
  {
   "cell_type": "markdown",
   "metadata": {},
   "source": [
    "**For training a model, we don't just want any Python collection,  \n",
    "but a collection containing independent and dependent variables (that is, the inputs and targets of the model).**  \n",
    "**A collection that contains tuples of independent and dependent variables is known in PyTorch as a `Dataset`.**  \n",
    "Here's an example of an **extremely simple `Dataset`:**    "
   ]
  },
  {
   "cell_type": "code",
   "execution_count": 135,
   "metadata": {},
   "outputs": [
    {
     "data": {
      "text/plain": [
       "(#26) [(0, 'a'),(1, 'b'),(2, 'c'),(3, 'd'),(4, 'e'),(5, 'f'),(6, 'g'),(7, 'h'),(8, 'i'),(9, 'j')...]"
      ]
     },
     "execution_count": 135,
     "metadata": {},
     "output_type": "execute_result"
    }
   ],
   "source": [
    "'''\n",
    "so let's actually create a tuple, so if we enumerate all the letters of english\n",
    "then that means that returns (0, 'a'),(1, 'b') etc\n",
    "let's make that our dataset \n",
    "'''\n",
    "\n",
    "ds = L(enumerate(string.ascii_lowercase))\n",
    "ds"
   ]
  },
  {
   "cell_type": "markdown",
   "metadata": {},
   "source": [
    "**When we pass a `Dataset` to a `DataLoader` we will get back mini-batches**  \n",
    "which are themselves **tuples of tensors representing batches of independent and dependent variables:**"
   ]
  },
  {
   "cell_type": "code",
   "execution_count": 136,
   "metadata": {},
   "outputs": [
    {
     "data": {
      "text/plain": [
       "[(tensor([17, 18, 10, 22,  8, 14]), ('r', 's', 'k', 'w', 'i', 'o')),\n",
       " (tensor([20, 15,  9, 13, 21, 12]), ('u', 'p', 'j', 'n', 'v', 'm')),\n",
       " (tensor([ 7, 25,  6,  5, 11, 23]), ('h', 'z', 'g', 'f', 'l', 'x')),\n",
       " (tensor([ 1,  3,  0, 24, 19, 16]), ('b', 'd', 'a', 'y', 't', 'q')),\n",
       " (tensor([2, 4]), ('c', 'e'))]"
      ]
     },
     "execution_count": 136,
     "metadata": {},
     "output_type": "execute_result"
    }
   ],
   "source": [
    "'''\n",
    "so, if we pass that to a DataLoader with a batch size of 6, as you can see, \n",
    "it returns tuples containing 6 of the first things, and the associated 6 of the second things\n",
    "so this is like our independent variable (numbers) and this is like our dependent variable (letters)\n",
    "okay, so at the end the batch size weren't necessarily exactly divided nicely into the full size of the Dataset,\n",
    "you might end up wiht a smaller batch\n",
    "so basically then, we already have a Dataset remember, and so we could pass it to a DataLoader \n",
    "\n",
    "'''\n",
    "dl = DataLoader(ds, batch_size=6, shuffle=True)  # 26 elements from 0 to 25\n",
    "list(dl)"
   ]
  },
  {
   "cell_type": "markdown",
   "metadata": {},
   "source": [
    "We are now ready to write our first training loop for a model using SGD!"
   ]
  },
  {
   "cell_type": "markdown",
   "metadata": {},
   "source": [
    "## Putting It All Together"
   ]
  },
  {
   "cell_type": "code",
   "execution_count": 137,
   "metadata": {},
   "outputs": [
    {
     "data": {
      "text/plain": [
       "'\\nand then we can basically say this\\nan iterator in python is something that you can actually loop through\\nso when we say \"for\" in dataloader it\\'s going to return a tuple\\nwe can destructure it in the 1st bit, 2nd bit so that\\'s going to be our x and y\\nwe can calculate our predictions, our loss from the predictions and the targets\\ncalculate our gradients (backward)\\nand we can update our parameters just like we did in our toy SGD example for the quadratic equation\\n'"
      ]
     },
     "execution_count": 137,
     "metadata": {},
     "output_type": "execute_result"
    }
   ],
   "source": [
    "'''\n",
    "and then we can basically say this\n",
    "an iterator in python is something that you can actually loop through\n",
    "so when we say \"for\" in dataloader it's going to return a tuple\n",
    "we can destructure it in the 1st bit, 2nd bit so that's going to be our x and y\n",
    "we can calculate our predictions, our loss from the predictions and the targets\n",
    "calculate our gradients (backward)\n",
    "and we can update our parameters just like we did in our toy SGD example for the quadratic equation\n",
    "'''"
   ]
  },
  {
   "cell_type": "markdown",
   "metadata": {},
   "source": [
    "\n",
    "\n",
    "It's time to **implement the process we saw in <<gradient_descent>>.**  \n",
    "In code, our process will be implemented something like this **for each epoch:**\n",
    "\n",
    "```python\n",
    "for x,y in dl:\n",
    "    pred = model(x)\n",
    "    loss = loss_func(pred, y)\n",
    "    loss.backward()\n",
    "    parameters -= parameters.grad * lr\n",
    "```"
   ]
  },
  {
   "cell_type": "markdown",
   "metadata": {},
   "source": [
    "First, let's **re-initialize our parameters:**"
   ]
  },
  {
   "cell_type": "code",
   "execution_count": 138,
   "metadata": {},
   "outputs": [],
   "source": [
    "'''\n",
    "so that's reinitialize our weights with the same 2 lines of code before\n",
    "'''\n",
    "weights = init_params((28*28,1))\n",
    "bias = init_params(1)"
   ]
  },
  {
   "cell_type": "markdown",
   "metadata": {},
   "source": [
    "**A `DataLoader` can be created from a `Dataset`:**"
   ]
  },
  {
   "cell_type": "code",
   "execution_count": 139,
   "metadata": {},
   "outputs": [
    {
     "data": {
      "text/plain": [
       "(torch.Size([256, 784]), torch.Size([256, 1]))"
      ]
     },
     "execution_count": 139,
     "metadata": {},
     "output_type": "execute_result"
    }
   ],
   "source": [
    "'''\n",
    "create the data loader this time from our mnist dataset\n",
    "and create a nice, big batch size\n",
    "so we do plenty of work each time\n",
    "and just to take a look, grab the 1st thing rom the dataloader\n",
    "first is a fastai function which grabs the 1st thing from an iterator (dl)\n",
    "it's useful to look at, kind of an arbitrary mini batch\n",
    "so here's the shape we're going to have\n",
    "the 1st mini batch is 256 rows of 784 long, \n",
    "that's 28 by 28 \n",
    "so 256 flattened out images (xb), \n",
    "and 256 labels that are 1 column (yb), 0 or 1, depending on whether it's a 3 or a 7\n",
    " \n",
    "'''\n",
    "dl = DataLoader(dset, batch_size=256)\n",
    "xb,yb = first(dl)  # first element of dl; 256 flattened out images and 256 labels that are 1 column\n",
    "xb.shape,yb.shape"
   ]
  },
  {
   "cell_type": "markdown",
   "metadata": {},
   "source": [
    "**We'll do the same for the validation set:**"
   ]
  },
  {
   "cell_type": "code",
   "execution_count": 140,
   "metadata": {},
   "outputs": [],
   "source": [
    "'''\n",
    "so here's out validation dataloader\n",
    "'''\n",
    "valid_dl = DataLoader(valid_dset, batch_size=256)"
   ]
  },
  {
   "cell_type": "markdown",
   "metadata": {},
   "source": [
    "**Let's create a mini-batch of size 4 for testing:**"
   ]
  },
  {
   "cell_type": "code",
   "execution_count": 141,
   "metadata": {},
   "outputs": [
    {
     "data": {
      "text/plain": [
       "torch.Size([4, 784])"
      ]
     },
     "execution_count": 141,
     "metadata": {},
     "output_type": "execute_result"
    }
   ],
   "source": [
    "'''\n",
    "so let's grab a batch here, testing\n",
    "'''\n",
    "batch = train_x[:4]\n",
    "batch.shape"
   ]
  },
  {
   "cell_type": "code",
   "execution_count": 142,
   "metadata": {},
   "outputs": [
    {
     "data": {
      "text/plain": [
       "\u001b[0;31mSignature:\u001b[0m \u001b[0mlinear1\u001b[0m\u001b[0;34m(\u001b[0m\u001b[0mxb\u001b[0m\u001b[0;34m)\u001b[0m\u001b[0;34m\u001b[0m\u001b[0;34m\u001b[0m\u001b[0m\n",
       "\u001b[0;31mDocstring:\u001b[0m <no docstring>\n",
       "\u001b[0;31mSource:\u001b[0m    \u001b[0;32mdef\u001b[0m \u001b[0mlinear1\u001b[0m\u001b[0;34m(\u001b[0m\u001b[0mxb\u001b[0m\u001b[0;34m)\u001b[0m\u001b[0;34m:\u001b[0m \u001b[0;32mreturn\u001b[0m \u001b[0mxb\u001b[0m\u001b[0;34m@\u001b[0m\u001b[0mweights\u001b[0m \u001b[0;34m+\u001b[0m \u001b[0mbias\u001b[0m\u001b[0;34m\u001b[0m\u001b[0;34m\u001b[0m\u001b[0m\n",
       "\u001b[0;31mFile:\u001b[0m      /tmp/ipykernel_2594/2527206448.py\n",
       "\u001b[0;31mType:\u001b[0m      function"
      ]
     },
     "metadata": {},
     "output_type": "display_data"
    }
   ],
   "source": [
    "linear1??"
   ]
  },
  {
   "cell_type": "code",
   "execution_count": 143,
   "metadata": {},
   "outputs": [
    {
     "data": {
      "text/plain": [
       "tensor([[ 2.0346],\n",
       "        [ 3.7392],\n",
       "        [15.1718],\n",
       "        [ 7.5507]], grad_fn=<AddBackward0>)"
      ]
     },
     "execution_count": 143,
     "metadata": {},
     "output_type": "execute_result"
    }
   ],
   "source": [
    "'''\n",
    "well, for our testing I'm going to just manually grab the first 4 things just so that we make sure everything lines up\n",
    "pass it into that linear function, we created earlier\n",
    "remember linear was just x batch @ weights (matrix multiply) plus bias\n",
    "and that's going to give us 4 results\n",
    "that's a prediction of each of those 4 images\n",
    "'''\n",
    "preds = linear1(batch)  # who is linear1? the model: def linear1(xb): return xb@weights + bias  // preds = linear1(train_x) - here \n",
    "preds"
   ]
  },
  {
   "cell_type": "markdown",
   "metadata": {},
   "source": [
    "**me: calculate the loss:**"
   ]
  },
  {
   "cell_type": "code",
   "execution_count": 144,
   "metadata": {},
   "outputs": [
    {
     "data": {
      "text/plain": [
       "tensor(0.0348, grad_fn=<MeanBackward0>)"
      ]
     },
     "execution_count": 144,
     "metadata": {},
     "output_type": "execute_result"
    }
   ],
   "source": [
    "'''\n",
    "and so then we can calculate the loss using that loss function we just used\n",
    "and let's just grab the fist 4 items of the training set (4 same as the preds)\n",
    "'''\n",
    "loss = mnist_loss(preds, train_y[:4])  # the loss between predictions and targets\n",
    "loss"
   ]
  },
  {
   "cell_type": "markdown",
   "metadata": {},
   "source": [
    "**Now we can calculate the gradients:**"
   ]
  },
  {
   "cell_type": "code",
   "execution_count": 145,
   "metadata": {},
   "outputs": [
    {
     "data": {
      "text/plain": [
       "(torch.Size([784, 1]), tensor(-0.0045), tensor([-0.0314]))"
      ]
     },
     "execution_count": 145,
     "metadata": {},
     "output_type": "execute_result"
    }
   ],
   "source": [
    "'''\n",
    "and now we can calculate the gradients of the training set\n",
    "and so the gradients are 784 by 1, so it's a column where every weight as a gradient\n",
    "it's what's the change in loss for a small change in that parameter \n",
    "and then the bias as a gradient, it's a single number, because the bias is just a single number\n",
    "'''\n",
    "loss.backward()\n",
    "weights.grad.shape,weights.grad.mean(),bias.grad  # 784 gradients in a vertical tensor-1 ; their mean is the 2nd value ; bias gradient is the 3rd\n",
    "#weights.grad"
   ]
  },
  {
   "cell_type": "markdown",
   "metadata": {},
   "source": [
    "**Let's put that all in a function:**"
   ]
  },
  {
   "cell_type": "code",
   "execution_count": 146,
   "metadata": {},
   "outputs": [],
   "source": [
    "'''\n",
    "so we can take those 3 steps and put it in a function\n",
    "if you pass it an x batch, a y batch and some model \n",
    "then it's going to calculate the predictions, the loss, and do the backward step\n",
    "\n",
    "'''\n",
    "def calc_grad(xb, yb, model):  # all the above\n",
    "    preds = model(xb)\n",
    "    loss = mnist_loss(preds, yb)\n",
    "    loss.backward()"
   ]
  },
  {
   "cell_type": "markdown",
   "metadata": {},
   "source": [
    "**and test it:**"
   ]
  },
  {
   "cell_type": "code",
   "execution_count": 147,
   "metadata": {},
   "outputs": [
    {
     "data": {
      "text/plain": [
       "(tensor(-0.0090), tensor([-0.0627]))"
      ]
     },
     "execution_count": 147,
     "metadata": {},
     "output_type": "execute_result"
    }
   ],
   "source": [
    "'''\n",
    "and here we see\n",
    "just to take a look, the mean of the weights gradient and the bias gradient\n",
    "and there it is\n",
    "'''\n",
    "calc_grad(batch, train_y[:4], linear1)  # linear1 is the model\n",
    "weights.grad.mean(),bias.grad"
   ]
  },
  {
   "cell_type": "markdown",
   "metadata": {},
   "source": [
    "**But look what happens if we call it twice:**"
   ]
  },
  {
   "cell_type": "code",
   "execution_count": 148,
   "metadata": {},
   "outputs": [
    {
     "data": {
      "text/plain": [
       "(tensor(-0.0134), tensor([-0.0941]))"
      ]
     },
     "execution_count": 148,
     "metadata": {},
     "output_type": "execute_result"
    }
   ],
   "source": [
    "'''\n",
    "if I call it the 2nd time, \n",
    "notice I haven't done any step here. these are exactly the same parameters\n",
    "I get a different value, that's a concern\n",
    "you would expect to get the same gradient every time you called it with the same data\n",
    "why have the gradients changed?\n",
    "that's because loss.backward doesn't just calculate the gradients \n",
    "it calculates the gradients and adds them to the existing gradients\n",
    "the things in the .grad attribute of weights (weights.grad)\n",
    "the reasons for that will come to later\n",
    "what we need to do is to call grad.zero_()\n",
    "so .zero returns a tensor containing 0s and remember _ does it in place, \n",
    "so that updates the weights.grad attribute, which is a tensor, to contain 0s\n",
    "so now, if I do that, and call it again, I will get exactly the same number\n",
    "\n",
    "'''\n",
    "calc_grad(batch, train_y[:4], linear1)\n",
    "weights.grad.mean(),bias.grad"
   ]
  },
  {
   "cell_type": "markdown",
   "metadata": {},
   "source": [
    "The gradients have **changed!**    \n",
    "The reason for this is that **`loss.backward` actually *adds* the gradients of `loss` to any gradients that are currently stored.**    \n",
    "**So, we have to set the current gradients to 0 first:**"
   ]
  },
  {
   "cell_type": "code",
   "execution_count": 149,
   "metadata": {},
   "outputs": [],
   "source": [
    "weights.grad.zero_()  # all elements of tensor weights.grad set to 0\n",
    "bias.grad.zero_();  # all elements of tensor bias.grad set to 0"
   ]
  },
  {
   "cell_type": "markdown",
   "metadata": {},
   "source": [
    "> note: Inplace Operations: Methods in PyTorch whose names end in an underscore modify their objects _in place_.  \n",
    "> For instance, **`bias.zero_()` sets all elements of the tensor `bias` to 0.**"
   ]
  },
  {
   "cell_type": "markdown",
   "metadata": {},
   "source": [
    "**Our only remaining step is to update the weights and biases based on the gradient and learning rate.**  \n",
    "When we do so, we have to **tell PyTorch not to take the gradient of this step too**  \n",
    "— otherwise things will get very confusing when we try to compute the derivative at the next batch!  \n",
    "**If we assign to the `data` attribute of a tensor then PyTorch will not take the gradient of that step.**  \n",
    "Here's our basic **training loop for an epoch:**"
   ]
  },
  {
   "cell_type": "code",
   "execution_count": 150,
   "metadata": {},
   "outputs": [],
   "source": [
    "'''\n",
    "here's how you train one epoch with SGD:\n",
    "loop through the DataLoader (for), grabbing the X batch and the y batch (xb,yb)\n",
    "calculate the gradient (composed of: prediction, loss, backward)\n",
    "go through each of the parameters (passed in) - 784 weights and 1 bias\n",
    "and for each of those update the parameter to go minus equals gradient * learning rate (that's our GD step)\n",
    "and then zero it out for the next time around the loop\n",
    "I'm not saying p -= but p.data\n",
    "and the reason for that is that, remember, pytorch keeps track of all of the calculations we do\n",
    "so that it can calculate the gradient\n",
    "well, I don't want to calculate the gradient in my gradient descent step\n",
    "that's like not part of the model , right?\n",
    "so .data is a special attribute in pytorch, where if you write to it, \n",
    "it tells pytorch not to update the gradients using that calculation\n",
    "\n",
    "so this is your most basic, standard SGD loop\n",
    "so the difference between stochastic GD and GD is that GD doesn't have this for loop that loops through each mini-batch\n",
    "GD it does it on the whole dataset each time around\n",
    "so train epoch or GD would simply not have the for loop,\n",
    "but instead would calculate the gradient for the whole dataset and update the parameters based on the whole dataset\n",
    "which we never really do in practice\n",
    "we always use mini-batches of various sizes\n",
    "'''\n",
    "def train_epoch(model, lr, params):\n",
    "    for xb,yb in dl:\n",
    "        calc_grad(xb, yb, model)\n",
    "        for p in params:\n",
    "            p.data -= p.grad*lr  # If we assign to the `data` attribute of a tensor then PyTorch will not take the gradient of that step.\n",
    "            p.grad.zero_()"
   ]
  },
  {
   "cell_type": "markdown",
   "metadata": {},
   "source": [
    "We also want to **check how we're doing, by looking at the accuracy of the validation set.**  (how to calculate accuracy?)  \n",
    "To decide if an output represents a 3 or a 7, we can just check whether it's greater than 0. (because a 3 is represented by 1?)   \n",
    "**So our accuracy for each item can be calculated (using broadcasting, so no loops!) with:**  "
   ]
  },
  {
   "cell_type": "code",
   "execution_count": 151,
   "metadata": {},
   "outputs": [
    {
     "data": {
      "text/plain": [
       "tensor([[True],\n",
       "        [True],\n",
       "        [True],\n",
       "        [True]])"
      ]
     },
     "execution_count": 151,
     "metadata": {},
     "output_type": "execute_result"
    }
   ],
   "source": [
    "(preds>0.0).float() == train_y[:4]  # preds = linear1(batch); if prediction > 0 means it's 1 and if it's equal to targets tensor (which has 1 and 0) then it's True, otherwise False"
   ]
  },
  {
   "cell_type": "markdown",
   "metadata": {},
   "source": [
    "**That gives us this function to calculate our validation accuracy:**"
   ]
  },
  {
   "cell_type": "code",
   "execution_count": 152,
   "metadata": {},
   "outputs": [],
   "source": [
    "'''\n",
    "ok, so we can take the function we had before where we compare the predictions to whether that are greater than 0.5\n",
    "we used to compare predictions with 0, but now that we're doing the sigmoid, everything is between 0 and 1\n",
    "we should compare the predictions to whether they're greater than 0.5 or not\n",
    "\n",
    "if it's greater than 0.5, just to look back at our sigmoid function\n",
    "so what used to be 0, is now on sigmoid 0.5\n",
    "so we need to make this slight change to our measure of accuracy \n",
    "so to calculate the accuracy for some x batch (preditions) and some y batch (assumed, targets)\n",
    "then we take the sigmoid of the predictions\n",
    "we compare them to 0.5 to tell us whether it's a 3 or not\n",
    "we check what the actual target was, to see which ones are correct (==yb)\n",
    "and then we take the mean, after converting booleans to floats\n",
    "\n",
    "'''\n",
    "def batch_accuracy(xb, yb):\n",
    "    preds = xb.sigmoid()\n",
    "    correct = (preds>0.5) == yb  # if prediction is bigger than 0.5 then it's a 1, otherwise is a 0 ; then compare with target yb (which is 1 or 0)\n",
    "    return correct.float().mean()  # return the mean"
   ]
  },
  {
   "cell_type": "markdown",
   "metadata": {},
   "source": [
    "**We can check it works:**"
   ]
  },
  {
   "cell_type": "code",
   "execution_count": 153,
   "metadata": {},
   "outputs": [
    {
     "data": {
      "text/plain": [
       "tensor(1.)"
      ]
     },
     "execution_count": 153,
     "metadata": {},
     "output_type": "execute_result"
    }
   ],
   "source": [
    "'''\n",
    "so we can check that accuracy:\n",
    "put our batch through our simple linear model\n",
    "compare it to the 4 items of the training set\n",
    "and there's the accuracy\n",
    "'''\n",
    "batch_accuracy(linear1(batch), train_y[:4])"
   ]
  },
  {
   "cell_type": "markdown",
   "metadata": {},
   "source": [
    "**and then put the batches together:**"
   ]
  },
  {
   "cell_type": "code",
   "execution_count": 154,
   "metadata": {},
   "outputs": [],
   "source": [
    "'''\n",
    "so if we do that for every batch in the validation set \n",
    "then we can loop through with a list comprehension\n",
    "every batch in the validation set, get the accuracy based on some model\n",
    "stack those all up together, so that this is a list (acs line)\n",
    "we want to turn that list into a tensor, where the items of the tensor are the items of the list\n",
    "that's what stack all those, take the mean, \n",
    "convert it to a standard python scalar (item)\n",
    "round it to 4 decimal places, just for display\n",
    "'''\n",
    "def validate_epoch(model):\n",
    "    accs = [batch_accuracy(model(xb), yb) for xb,yb in valid_dl]  # compression: calculates the accuracy for each element in the valid dataloader (is like a for loop)\n",
    "    return round(torch.stack(accs).mean().item(), 4)  # returns the mean of accuracies in the bach: 1st concatenates them into a tensor and then takes the mean, and rounds it to 4 digits"
   ]
  },
  {
   "cell_type": "code",
   "execution_count": 155,
   "metadata": {},
   "outputs": [],
   "source": [
    "#help(torch.stack)"
   ]
  },
  {
   "cell_type": "code",
   "execution_count": 156,
   "metadata": {},
   "outputs": [
    {
     "data": {
      "text/plain": [
       "0.7186"
      ]
     },
     "execution_count": 156,
     "metadata": {},
     "output_type": "execute_result"
    }
   ],
   "source": [
    "'''\n",
    "so here's our validation set accuracy\n",
    "as you would expect, it's about 50% because it's random\n",
    "'''\n",
    "validate_epoch(linear1)"
   ]
  },
  {
   "cell_type": "markdown",
   "metadata": {},
   "source": [
    "That's our starting point.  \n",
    "**Let's train for one epoch, and see if the accuracy improves:**"
   ]
  },
  {
   "cell_type": "code",
   "execution_count": 157,
   "metadata": {},
   "outputs": [
    {
     "data": {
      "text/plain": [
       "0.7621"
      ]
     },
     "execution_count": 157,
     "metadata": {},
     "output_type": "execute_result"
    }
   ],
   "source": [
    "'''\n",
    "so we can now train for 1 epoch\n",
    "so we can say, remember \"train_epoch\" needed the parameters\n",
    "so the parameters in this case are the weights tensor and the bias tensor\n",
    "so train one epoch using the linear1 model, with lr of 1, with these 2 parameters\n",
    "and then validate and the result is 0.6883, 68.8%\n",
    "so we've trained an epoch\n",
    "'''\n",
    "lr = 1.\n",
    "params = weights,bias\n",
    "train_epoch(linear1, lr, params)\n",
    "validate_epoch(linear1)"
   ]
  },
  {
   "cell_type": "markdown",
   "metadata": {},
   "source": [
    "**Then do a few more:**"
   ]
  },
  {
   "cell_type": "code",
   "execution_count": 158,
   "metadata": {},
   "outputs": [
    {
     "name": "stdout",
     "output_type": "stream",
     "text": [
      "0.8974 0.933 0.9466 0.951 0.9549 0.9583 0.9598 0.9608 0.9612 0.9627 0.9637 0.9657 0.9676 0.9686 0.9696 0.9701 0.9706 0.972 0.9715 0.9715 "
     ]
    }
   ],
   "source": [
    "'''\n",
    "so let's repeat that many times\n",
    "train and validate, and you can see the accuracy goes up and up and up to about 97%\n",
    "so that's cool! we've built and SGD optimizer\n",
    "of a simple linear function that is getting about 97% on our simplified MNIST where there's just 3s and 7s\n",
    "so a lot of steps there, let's simplify this through some refactoring\n",
    "'''\n",
    "for i in range(20):\n",
    "    train_epoch(linear1, lr, params)\n",
    "    print(validate_epoch(linear1), end=' ')"
   ]
  },
  {
   "cell_type": "markdown",
   "metadata": {},
   "source": [
    "Looking good!  \n",
    "We're already about at **the same accuracy as our \"pixel similarity\" approach**, and we've created a general-purpose foundation we can build on.  \n",
    "Our next step will be to **create an object that will handle the SGD step for us.**  \n",
    "In PyTorch, it's called **an *optimizer*.**"
   ]
  },
  {
   "cell_type": "markdown",
   "metadata": {},
   "source": [
    "### Creating an Optimizer"
   ]
  },
  {
   "cell_type": "markdown",
   "metadata": {},
   "source": [
    "Because this is such a general foundation,  \n",
    "PyTorch provides some **useful classes to make it easier to implement.**   \n",
    "The first thing we can do is replace our `linear1` function with **PyTorch's `nn.Linear` module.**  \n",
    "A *module* is an object of a class that inherits from the PyTorch `nn.Module` class.  \n",
    "Objects of this class behave identically to standard Python functions,  \n",
    "in that you can call them using parentheses and they will return the activations of a model.\n",
    "\n",
    "**`nn.Linear` does the same thing as our `init_params` and `linear` together.**  \n",
    "**It contains both the *weights* and *biases* in a single class.**  \n",
    "Here's how we replicate our model from the previous section:"
   ]
  },
  {
   "cell_type": "code",
   "execution_count": 159,
   "metadata": {},
   "outputs": [
    {
     "data": {
      "text/plain": [
       "\u001b[0;31mSignature:\u001b[0m \u001b[0mlinear1\u001b[0m\u001b[0;34m(\u001b[0m\u001b[0mxb\u001b[0m\u001b[0;34m)\u001b[0m\u001b[0;34m\u001b[0m\u001b[0;34m\u001b[0m\u001b[0m\n",
       "\u001b[0;31mDocstring:\u001b[0m <no docstring>\n",
       "\u001b[0;31mSource:\u001b[0m    \u001b[0;32mdef\u001b[0m \u001b[0mlinear1\u001b[0m\u001b[0;34m(\u001b[0m\u001b[0mxb\u001b[0m\u001b[0;34m)\u001b[0m\u001b[0;34m:\u001b[0m \u001b[0;32mreturn\u001b[0m \u001b[0mxb\u001b[0m\u001b[0;34m@\u001b[0m\u001b[0mweights\u001b[0m \u001b[0;34m+\u001b[0m \u001b[0mbias\u001b[0m\u001b[0;34m\u001b[0m\u001b[0;34m\u001b[0m\u001b[0m\n",
       "\u001b[0;31mFile:\u001b[0m      /tmp/ipykernel_2594/2527206448.py\n",
       "\u001b[0;31mType:\u001b[0m      function"
      ]
     },
     "metadata": {},
     "output_type": "display_data"
    }
   ],
   "source": [
    "linear1??"
   ]
  },
  {
   "cell_type": "code",
   "execution_count": 160,
   "metadata": {},
   "outputs": [],
   "source": [
    "'''\n",
    "the simple refactoring we're going to do, we're going to create something called on optimizer class\n",
    "the first thing we'll do, we'll get rid  of the linear1 function\n",
    "but remember, the linear1 function does x@w+b\n",
    "there's a class in pytorch that does that equation for us, so we may as well use it\n",
    "it's called nn.Linear and does 3 things:\n",
    "it does that function for us\n",
    "and it also initializes the parameters for us\n",
    "so we don't have to do weights and bias init_params anymore\n",
    "we're going to create an nn.Linear class and that's going to create a matrix of size (28,28,1)\n",
    "and a bias o size 1\n",
    "it will set requires_grad=True for us\n",
    "it's all going to be encapsulated in this class\n",
    "and then when I call that as a function, it's going to do my x@w+b\n",
    "'''\n",
    "linear_model = nn.Linear(28*28,1)"
   ]
  },
  {
   "cell_type": "markdown",
   "metadata": {},
   "source": [
    "Every PyTorch module knows **what parameters it has that can be trained;**  \n",
    "they are available through the **`parameters` method:**"
   ]
  },
  {
   "cell_type": "code",
   "execution_count": 161,
   "metadata": {},
   "outputs": [
    {
     "data": {
      "text/plain": [
       "(torch.Size([1, 784]), torch.Size([1]))"
      ]
     },
     "execution_count": 161,
     "metadata": {},
     "output_type": "execute_result"
    }
   ],
   "source": [
    "'''\n",
    "so to see the parameters in it, we could expect it to contain 784 weights and 1 bias\n",
    "we can destructure it to w, b and see! it's 784 for the weights and 1 for the bias\n",
    "could be an interesting exercise for you to create this class yourself from scratch !! DO IT\n",
    "you should be able to, at this point\n",
    "so that you can confirm that you can recreate something that behaves exactly like nn.linear\n",
    "'''\n",
    "w,b = linear_model.parameters()\n",
    "w.shape,b.shape"
   ]
  },
  {
   "cell_type": "markdown",
   "metadata": {},
   "source": [
    "We can use this information to **create an optimizer:**"
   ]
  },
  {
   "cell_type": "code",
   "execution_count": 162,
   "metadata": {},
   "outputs": [],
   "source": [
    "'''\n",
    "so now that we've got this object which contains our parameters in a parameters method (.parameters())\n",
    "we can now create an optimizer\n",
    "so for our optimizer, we're going to pass it the parameters to optimize (params in init) and a learning rate, \n",
    "we'll store them away (with self.etc) \n",
    "and we'll have something called step which goes through each parameter (for p in params)\n",
    "and does that thing we just saw: p.data -= etc\n",
    "and it's also going to have something called zero_grad\n",
    "which goes through each parameter and zeroes it out, or we just set it to none\n",
    "so that's the thing we call Basic Optimizer\n",
    "so those are exactly the same lines of code we've already seen wrapped up into a class\n",
    "so we can now create an optimizer, passing in the parameters of the linear model, and our learning rate \n",
    "'''\n",
    "class BasicOptim:\n",
    "    def __init__(self,params,lr):                  # self is a way to intialize the data members without declaring them separately like in c++\n",
    "        self.params,self.lr = list(params),lr\n",
    "\n",
    "    def step(self, *args, **kwargs):\n",
    "        for p in self.params: \n",
    "            p.data -= p.grad.data * self.lr\n",
    "\n",
    "    def zero_grad(self, *args, **kwargs):\n",
    "        for p in self.params: \n",
    "            p.grad = None"
   ]
  },
  {
   "cell_type": "markdown",
   "metadata": {},
   "source": [
    "**We can create our optimizer by passing in the model's parameters:**"
   ]
  },
  {
   "cell_type": "code",
   "execution_count": 163,
   "metadata": {},
   "outputs": [],
   "source": [
    "opt = BasicOptim(linear_model.parameters(), lr)"
   ]
  },
  {
   "cell_type": "markdown",
   "metadata": {},
   "source": [
    "**Our training loop can now be simplified to:**"
   ]
  },
  {
   "cell_type": "code",
   "execution_count": 164,
   "metadata": {},
   "outputs": [
    {
     "data": {
      "text/plain": [
       "'\\ndef train_epoch(model, lr, params):\\n    for xb,yb in dl:\\n        calc_grad(xb, yb, model)\\n        for p in params:\\n            p.data -= p.grad*lr  # If we assign to the `data` attribute of a tensor then PyTorch will not take the gradient of that step.\\n            p.grad.zero_()\\n'"
      ]
     },
     "execution_count": 164,
     "metadata": {},
     "output_type": "execute_result"
    }
   ],
   "source": [
    "'''\n",
    "def train_epoch(model, lr, params):\n",
    "    for xb,yb in dl:\n",
    "        calc_grad(xb, yb, model)\n",
    "        for p in params:\n",
    "            p.data -= p.grad*lr  # If we assign to the `data` attribute of a tensor then PyTorch will not take the gradient of that step.\n",
    "            p.grad.zero_()\n",
    "'''"
   ]
  },
  {
   "cell_type": "code",
   "execution_count": 165,
   "metadata": {},
   "outputs": [],
   "source": [
    "'''\n",
    "so now our training loop is: look through each mini batch in the data loader\n",
    "calculate the gradient, opt.step, opt.zero_grad\n",
    "'''\n",
    "def train_epoch(model):\n",
    "    for xb,yb in dl:\n",
    "        calc_grad(xb, yb, model)   # calc gradients\n",
    "        opt.step()                 # modify the weights\n",
    "        opt.zero_grad()            # make gradients zero"
   ]
  },
  {
   "cell_type": "markdown",
   "metadata": {},
   "source": [
    "**Our validation function doesn't need to change at all:**"
   ]
  },
  {
   "cell_type": "code",
   "execution_count": 166,
   "metadata": {},
   "outputs": [
    {
     "data": {
      "text/plain": [
       "0.4352"
      ]
     },
     "execution_count": 166,
     "metadata": {},
     "output_type": "execute_result"
    }
   ],
   "source": [
    "'''\n",
    "validation function doesn't have to change\n",
    "'''\n",
    "validate_epoch(linear_model)"
   ]
  },
  {
   "cell_type": "markdown",
   "metadata": {},
   "source": [
    "**Let's put our little training loop in a function, to make things simpler:**"
   ]
  },
  {
   "cell_type": "code",
   "execution_count": 167,
   "metadata": {},
   "outputs": [],
   "source": [
    "'''\n",
    "so let's put our training loop into a function\n",
    "that's going to loop through a bunch of epochs, call an epoch\n",
    "print validate_epoch and then run it\n",
    "'''\n",
    "def train_model(model, epochs):\n",
    "    for i in range(epochs):\n",
    "        train_epoch(model)\n",
    "        print(validate_epoch(model), end=' ')"
   ]
  },
  {
   "cell_type": "markdown",
   "metadata": {},
   "source": [
    "**The results are the same as in the previous section:**"
   ]
  },
  {
   "cell_type": "code",
   "execution_count": 168,
   "metadata": {},
   "outputs": [
    {
     "name": "stdout",
     "output_type": "stream",
     "text": [
      "0.4932 0.9339 0.7861 0.8999 0.9292 0.9438 0.9551 0.9614 0.9653 0.9673 0.9687 0.9707 0.9726 0.9751 0.9761 0.9761 0.9775 0.978 0.9785 0.9785 "
     ]
    }
   ],
   "source": [
    "'''\n",
    "it's the same\n",
    "we're getting a slightly different result here, but it's much of the same idea \n",
    "so that's cool, we've now refactoring using our own optimizer and using pytorch built-in nn.linear class \n",
    "'''\n",
    "train_model(linear_model, 20)"
   ]
  },
  {
   "cell_type": "markdown",
   "metadata": {},
   "source": [
    "**fastai provides the `SGD` class which, by default, does the same thing as our `BasicOptim`:**"
   ]
  },
  {
   "cell_type": "code",
   "execution_count": 169,
   "metadata": {},
   "outputs": [
    {
     "name": "stdout",
     "output_type": "stream",
     "text": [
      "0.4932 0.772 0.853 0.918 0.9346 0.9482 0.956 0.9634 0.9658 0.9687 0.9697 0.9717 0.9736 0.9751 0.9761 0.9766 0.9775 0.978 0.9785 0.9785 "
     ]
    }
   ],
   "source": [
    "'''\n",
    "and we don't actually need to use our basicOptim\n",
    "pytorch comes with something which does exactly this and it's called SGD\n",
    "so and actually this SGD is provided by fastai\n",
    "fastai and pytorch provide some overlapping functionality\n",
    "then it works much of the same way:\n",
    "you can pass to SGD your parameters and your learning rate, just like BasicOptim\n",
    "and train it and get the same result\n",
    "\n",
    "and as you can see, these classes that are in fastai and pytorch, are not mysterious\n",
    "they're just pretty thin wrappers around functionality that we've now written ourselves\n",
    "so there's quite a few steps there\n",
    "and if you haven't done gradient descent before, then there's a lot of unpacking\n",
    "\n",
    "so this lesson is kind of the key lesson\n",
    "it's the one where, you know, take a stop and a deep breath and make sure your comfortable\n",
    "what's:\n",
    "a dataset?\n",
    "dataloader?\n",
    "nn.linear?\n",
    "SGD\n",
    "if any of these don't make sens, go back to where we defined it from scratch using python code\n",
    "the dataloader we didn't define from scratch but the functionality is not particularly interesting\n",
    "you can create your own from scratch\n",
    "if you wanted to - that would be another pretty good exercise\n",
    "\n",
    "let's refactor some more\n",
    "'''\n",
    "linear_model = nn.Linear(28*28,1)\n",
    "opt = SGD(linear_model.parameters(), lr)  # changes the weights instead of step\n",
    "train_model(linear_model, 20)"
   ]
  },
  {
   "cell_type": "markdown",
   "metadata": {},
   "source": [
    "**fastai also provides `Learner.fit`**, which we can use instead of `train_model`.  \n",
    "**To create a `Learner` we first need to create a `DataLoaders`, by passing in our training and validation `DataLoader`s:**"
   ]
  },
  {
   "cell_type": "code",
   "execution_count": 170,
   "metadata": {},
   "outputs": [],
   "source": [
    "'''\n",
    "fastai has some DataLoaders class, which is as we've mentioned before, a tiny class\n",
    "that you just pass it a bunch of dataloaders and it just stores them away\n",
    "as a .train and .valid\n",
    "even though it's a tiny class, it's super handy, because with that we now have a single object that knows all the data we have\n",
    "and so it can take sure that your training dataloader is shuffled and your validation loader isn't shuffled\n",
    "you know, make sure everything works properly\n",
    "so that's what the dataloaders class is:\n",
    "you can pass in the training and valid dataloader \n",
    "'''\n",
    "dls = DataLoaders(dl, valid_dl)  # train and valid dataloaders"
   ]
  },
  {
   "cell_type": "markdown",
   "metadata": {},
   "source": [
    "**To create a `Learner`** without using an application (such as `vision_learner`) **we need to pass in all the elements that we've created in this chapter:**    \n",
    "the `DataLoaders`,  \n",
    "the model,  \n",
    "the optimization function (which will be passed the parameters),   \n",
    "the loss function,  \n",
    "and optionally any metrics to print:  "
   ]
  },
  {
   "cell_type": "code",
   "execution_count": 171,
   "metadata": {},
   "outputs": [],
   "source": [
    "'''\n",
    "and then the next thing we have in fastai is the learner class\n",
    "and the learner class is something where we're going to pass in our dataloaders\n",
    "we're going to pass in our model, we're going to pass in our optimization function,\n",
    "our loss function, and our metrics\n",
    "so all the stuf we've done manually - that's all learner does!\n",
    "it's just going to do that for us\n",
    "so it's just going to call this train_model() and this train_epoch()\n",
    "it's inside Learner \n",
    "'''\n",
    "\n",
    "learn = Learner(dls, nn.Linear(28*28,1), opt_func=SGD,            # pass in all the elements created\n",
    "                loss_func=mnist_loss, metrics=batch_accuracy)"
   ]
  },
  {
   "cell_type": "markdown",
   "metadata": {},
   "source": [
    "Now we can call `fit`:  \n",
    "(me: fit means to run it for a number of epochs)"
   ]
  },
  {
   "cell_type": "code",
   "execution_count": 172,
   "metadata": {},
   "outputs": [
    {
     "data": {
      "text/html": [
       "\n",
       "<style>\n",
       "    /* Turns off some styling */\n",
       "    progress {\n",
       "        /* gets rid of default border in Firefox and Opera. */\n",
       "        border: none;\n",
       "        /* Needs to be in here for Safari polyfill so background images work as expected. */\n",
       "        background-size: auto;\n",
       "    }\n",
       "    progress:not([value]), progress:not([value])::-webkit-progress-bar {\n",
       "        background: repeating-linear-gradient(45deg, #7e7e7e, #7e7e7e 10px, #5c5c5c 10px, #5c5c5c 20px);\n",
       "    }\n",
       "    .progress-bar-interrupted, .progress-bar-interrupted::-webkit-progress-bar {\n",
       "        background: #F44336;\n",
       "    }\n",
       "</style>\n"
      ],
      "text/plain": [
       "<IPython.core.display.HTML object>"
      ]
     },
     "metadata": {},
     "output_type": "display_data"
    },
    {
     "data": {
      "text/html": [
       "<table border=\"1\" class=\"dataframe\">\n",
       "  <thead>\n",
       "    <tr style=\"text-align: left;\">\n",
       "      <th>epoch</th>\n",
       "      <th>train_loss</th>\n",
       "      <th>valid_loss</th>\n",
       "      <th>batch_accuracy</th>\n",
       "      <th>time</th>\n",
       "    </tr>\n",
       "  </thead>\n",
       "  <tbody>\n",
       "    <tr>\n",
       "      <td>0</td>\n",
       "      <td>0.636295</td>\n",
       "      <td>0.503405</td>\n",
       "      <td>0.495584</td>\n",
       "      <td>00:00</td>\n",
       "    </tr>\n",
       "    <tr>\n",
       "      <td>1</td>\n",
       "      <td>0.500637</td>\n",
       "      <td>0.183814</td>\n",
       "      <td>0.846418</td>\n",
       "      <td>00:00</td>\n",
       "    </tr>\n",
       "    <tr>\n",
       "      <td>2</td>\n",
       "      <td>0.184307</td>\n",
       "      <td>0.181716</td>\n",
       "      <td>0.837586</td>\n",
       "      <td>00:00</td>\n",
       "    </tr>\n",
       "    <tr>\n",
       "      <td>3</td>\n",
       "      <td>0.081262</td>\n",
       "      <td>0.107085</td>\n",
       "      <td>0.911187</td>\n",
       "      <td>00:00</td>\n",
       "    </tr>\n",
       "    <tr>\n",
       "      <td>4</td>\n",
       "      <td>0.043293</td>\n",
       "      <td>0.078071</td>\n",
       "      <td>0.932287</td>\n",
       "      <td>00:00</td>\n",
       "    </tr>\n",
       "    <tr>\n",
       "      <td>5</td>\n",
       "      <td>0.028451</td>\n",
       "      <td>0.062503</td>\n",
       "      <td>0.947498</td>\n",
       "      <td>00:00</td>\n",
       "    </tr>\n",
       "    <tr>\n",
       "      <td>6</td>\n",
       "      <td>0.022335</td>\n",
       "      <td>0.052797</td>\n",
       "      <td>0.955348</td>\n",
       "      <td>00:00</td>\n",
       "    </tr>\n",
       "    <tr>\n",
       "      <td>7</td>\n",
       "      <td>0.019610</td>\n",
       "      <td>0.046329</td>\n",
       "      <td>0.963199</td>\n",
       "      <td>00:00</td>\n",
       "    </tr>\n",
       "    <tr>\n",
       "      <td>8</td>\n",
       "      <td>0.018227</td>\n",
       "      <td>0.041789</td>\n",
       "      <td>0.965653</td>\n",
       "      <td>00:00</td>\n",
       "    </tr>\n",
       "    <tr>\n",
       "      <td>9</td>\n",
       "      <td>0.017397</td>\n",
       "      <td>0.038452</td>\n",
       "      <td>0.967125</td>\n",
       "      <td>00:00</td>\n",
       "    </tr>\n",
       "  </tbody>\n",
       "</table>"
      ],
      "text/plain": [
       "<IPython.core.display.HTML object>"
      ]
     },
     "metadata": {},
     "output_type": "display_data"
    }
   ],
   "source": [
    "'''\n",
    "so now if we go learn.fit() you can see again\n",
    "it's doing the same thing, it's doing the same thing, getting the same result\n",
    "and it's got some nice functionality, it's printing it out into a pretty table for us\n",
    "and it's showing us the losses and the accuracy and how long it takes \n",
    "but it's nothing magic, right?\n",
    "you've been able to do exactly the same thing by hand using python and pytorch\n",
    "ok, so these abstractions are here to let you write less code\n",
    "and to save some time and to save some cognitive overhead\n",
    "but they're not doing anything you can't do yourself\n",
    "and that's important, right\n",
    "because if they're doing things you can't do youself, you can't customize them\n",
    "you can't debug them, you can't profile them\n",
    "so we want to make sure that the stuff we've using is stuff that we undertand what it's doing\n",
    "\n",
    "so this is just a linear function, it's not great\n",
    "we want a neural network\n",
    "'''\n",
    "learn.fit(10, lr=lr)  # no of epochs"
   ]
  },
  {
   "cell_type": "markdown",
   "metadata": {},
   "source": [
    "As you can see, there's nothing magic about the PyTorch and fastai classes.  \n",
    "They are just convenient pre-packaged pieces that make your life a bit easier!  \n",
    "(They also provide a lot of extra functionality we'll be using in future chapters.)\n",
    "\n",
    "**With these classes, we can now replace our linear model with a neural network.**"
   ]
  },
  {
   "cell_type": "markdown",
   "metadata": {},
   "source": [
    "## Adding a Nonlinearity"
   ]
  },
  {
   "cell_type": "markdown",
   "metadata": {},
   "source": [
    "So far we have a general procedure for optimizing the parameters of a function,  \n",
    "and we have tried it out on a very boring function: **a simple linear classifier.**  \n",
    "**A linear classifier is very constrained in terms of what it can do.**  \n",
    "To make it a bit **more complex** (and able to handle more tasks),  \n",
    "**we need to add something nonlinear between two linear classifiers  \n",
    "— this is what gives us a neural network.**\n",
    "\n",
    "**Here is the entire definition of a basic neural network:**"
   ]
  },
  {
   "cell_type": "code",
   "execution_count": 173,
   "metadata": {},
   "outputs": [],
   "source": [
    "'''\n",
    "so, how do we turn this into a neural network?\n",
    "remember this is a linear function, x@w+b\n",
    "to turn it into a neural network, we have two linear functions exactly the same,\n",
    "but with different weights and biases\n",
    "and in between this magic line of code, which takes the result of our 1st linear function\n",
    "and then does a max between that and 0\n",
    "so a max() of res and 0 is going to take any negative numbers and turn them into 0s\n",
    "so we're going to do a linear function, we're going to replace the negatives with 0\n",
    "and then take that and put it through another linear function\n",
    "that, believe it or not, is a neural net!\n",
    "'''\n",
    "def simple_net(xb):\n",
    "    res = xb@w1 + b1\n",
    "    res = res.max(tensor(0.0))  # ReLU: rectified liniar unit = replaces every negative number with a zero\n",
    "    res = res@w2 + b2\n",
    "    return res"
   ]
  },
  {
   "cell_type": "markdown",
   "metadata": {},
   "source": [
    "That's it!  \n",
    "**All we have in `simple_net` is two linear classifiers with a `max` function between them.**\n",
    "\n",
    "**Here, `w1` and `w2` are weight tensors, and `b1` and `b2` are bias tensors;**  \n",
    "that is, **parameters that are initially randomly initialized, just like we did in the previous section:**"
   ]
  },
  {
   "cell_type": "code",
   "execution_count": 174,
   "metadata": {},
   "outputs": [],
   "source": [
    "'''\n",
    "so w1 and w2 were weight tensors, b1 and b2 are bias tensors (just like before)\n",
    "so we can initialize them (just like before)\n",
    "and we can now call exactly the same training code that we did before to roll these \n",
    "'''\n",
    "w1 = init_params((28*28,30))  # weight tensor  \n",
    "b1 = init_params(30)          # bias tensor    \n",
    "w2 = init_params((30,1))\n",
    "b2 = init_params(1)"
   ]
  },
  {
   "cell_type": "markdown",
   "metadata": {},
   "source": [
    "The key point about this is that **`w1` has 30 output activations (which means that `w2` must have 30 input activations, so they match).**  \n",
    "That means that the first layer can construct 30 different features, each representing some different mix of pixels.  \n",
    "You can change that `30` to anything you like, to make the model more or less complex.  \n",
    "\n",
    "**That little function `res.max(tensor(0.0))` is called a *rectified linear unit*, also known as *ReLU*.**  \n",
    "We think we can all agree that *rectified linear unit* sounds pretty fancy and complicated...  \n",
    "But actually, there's nothing more to it than **`res.max(tensor(0.0))` — in other words, replace every negative number with a zero.**  \n",
    "This tiny function is also available in **PyTorch as `F.relu`:**"
   ]
  },
  {
   "cell_type": "code",
   "execution_count": 175,
   "metadata": {},
   "outputs": [
    {
     "data": {
      "image/png": "[encoded data removed]",
      "text/plain": [
       "<Figure size 600x400 with 1 Axes>"
      ]
     },
     "metadata": {},
     "output_type": "display_data"
    }
   ],
   "source": [
    "'''\n",
    "so res.max(tensor(0)) is called a rectified linear unit\n",
    "which you will always see refered to as ReLU\n",
    "and in pytorch it already has this function - it's called F.relu()\n",
    "and if we plot it you can see it's as you'd expect, \n",
    "it's 0 for all negative numbers and then it's y=x for positive numbers\n",
    "\n",
    "jargon: rectified linear unit seems complicated but it's just this line of code: res = res.max(tensor(0.0))\n",
    "and this happens a lot in deep learning \n",
    "\n",
    "so why do we do linear layer ReLU?\n",
    "well, if we got rid of the middle relu and just went linear layer, linear layer\n",
    "then you could rewrite that as a single linear layer when you multiply things and add and then multiply things and add\n",
    "and you can just change the coefficients and make it into a single multiply and then add\n",
    "so no matter how many linear layers we stack on top of each other, we can never make anything more effective than a simple linear model\n",
    "but if you put a non-linearity between the linear layers\n",
    "then actually you have the opposite\n",
    "\n",
    "this is where something called universal approximation theorem holds \n",
    "which is that if the size of the weight and bias matrices are big enough\n",
    "this can actually approximate any arbitrary function \n",
    "including the function of how do I recognize 3s from 7s or whatever  \n",
    "\n",
    "so this is kind of amazing, this tiny thing (res = res.max(tensor(0.0))\n",
    "is actually a universal function approximator as long as you have w1 b1 and w2 b2 have the right numbers\n",
    "and we know how to make them the right numbers\n",
    "we use SGD\n",
    "could take a very long time, it could take a lot of memory\n",
    "but the basic idea is that there is some solution to any computable problem \n",
    "and this is one of the biggest challenges a lot of beginners have to deep learning\n",
    "is that there's nothing else to it\n",
    "it's like, how do I make a neural net? that is the neural net\n",
    "how do I do deep learning training with SGD\n",
    "there's things to like make a train a bit faster\n",
    "there's things to.. you need a few less parameters but everything from here is just performance tweaks\n",
    "this is the key understanding of training a neural network\n",
    "'''\n",
    "plot_function(F.relu)"
   ]
  },
  {
   "cell_type": "markdown",
   "metadata": {},
   "source": [
    "> J: There is an enormous amount of jargon in deep learning, including terms like **_rectified linear unit_.**  \n",
    "> The vast vast majority of this jargon is no more complicated than can be implemented in a short line of code, as we saw in this example.  \n",
    "> The reality is that for academics to get their papers published they need to make them sound as impressive and sophisticated as possible.  \n",
    "> One of the ways that they do that is to introduce jargon.  \n",
    "> Unfortunately, this has the result that the field ends up becoming far more intimidating and difficult to get into than it should be.  \n",
    "> You do have to learn the jargon, because otherwise papers and tutorials are not going to mean much to you.  \n",
    "> But that doesn't mean you have to find the jargon intimidating.  \n",
    "> Just remember, when you come across a word or phrase that you haven't seen before,  \n",
    "> it will almost certainly turn out to be referring to a very simple concept.  "
   ]
  },
  {
   "cell_type": "markdown",
   "metadata": {},
   "source": [
    "**The basic idea is that by using more linear layers, we can have our model do more computation,  \n",
    "and therefore model more complex functions.**  \n",
    "**But there's no point just putting one linear layer directly after another one,**  \n",
    "because when we multiply things together and then add them up multiple times,  \n",
    "that could be replaced by multiplying different things together and adding them up just once!  \n",
    "That is to say, **a series of any number of linear layers in a row can be replaced with a single linear layer with a different set of parameters.**  \n",
    "\n",
    "**But if we put a nonlinear function between them, such as `max`, then this is no longer true.**  \n",
    "**Now each linear layer is actually somewhat decoupled from the other ones, and can do its own useful work.**  \n",
    "The `max` function is particularly interesting, because it operates as a simple `if` statement.  "
   ]
  },
  {
   "cell_type": "markdown",
   "metadata": {},
   "source": [
    "> S: Mathematically, we say the composition of two linear functions is another linear function.  \n",
    "> So, we can stack as many linear classifiers as we want on top of each other,  \n",
    "> and without nonlinear functions between them, it will just be the same as one linear classifier.  "
   ]
  },
  {
   "cell_type": "markdown",
   "metadata": {},
   "source": [
    "**Amazingly enough, it can be mathematically proven that this little function can solve any computable problem to an arbitrarily high level of accuracy,  \n",
    "if you can find the right parameters for `w1` and `w2` and if you make these matrices big enough.**    \n",
    "For any arbitrarily wiggly function, we can approximate it as a bunch of lines joined together;  \n",
    "to make it closer to the wiggly function, we just have to use shorter lines.  \n",
    "This is known as the ***universal approximation theorem***.  \n",
    "The three lines of code that we have here are known as ***layers***.  \n",
    "**The first and third are known as *linear layers*,  \n",
    "and the second line of code is known variously as a *nonlinearity*, or *activation function*.**    \n",
    "\n",
    "Just like in the previous section, we can replace this code with something a bit simpler, **by taking advantage of PyTorch:**  "
   ]
  },
  {
   "cell_type": "code",
   "execution_count": 176,
   "metadata": {},
   "outputs": [],
   "source": [
    "'''\n",
    "ok, we can simplify things a bit more\n",
    "we already know that we can use nn.linear to replace the weight and bias\n",
    "so let's do that for both \n",
    "and since we're simply taking the result of one function and passing it into the next (res to res)\n",
    "and take the result of that function and pass it to the next and so forth and then return the end (end res)\n",
    "this is called function composition\n",
    "function composition is when you just take the result of one function, pass it to a new one\n",
    "so every pretty much neural network is just doing function composition of linear layers\n",
    "and these (res.max etc) are called activation functions or nonlinearities\n",
    "so pytorch provides something to do function composition for us\n",
    "and it's called nn.sequential \n",
    "so it's gonna do a linear layer, \n",
    "pass the result to a ReLu\n",
    "you pass the result to a linear layer\n",
    "\n",
    "see here I'm not using F.relu, I'm using nn.relu\n",
    "this is identical, returns exactly the same thing\n",
    "but this is a class rather than a function\n",
    "'''\n",
    "simple_net = nn.Sequential(\n",
    "    nn.Linear(28*28,30),\n",
    "    nn.ReLU(),\n",
    "    nn.Linear(30,1)\n",
    ")"
   ]
  },
  {
   "cell_type": "markdown",
   "metadata": {},
   "source": [
    "**`nn.Sequential` creates a module that will call each of the listed layers or functions in turn.**  \n",
    "\n",
    "**`nn.ReLU` is a PyTorch module** that does exactly the same thing as the **`F.relu` function.**  \n",
    "Most functions that can appear in a model also have identical forms that are modules.  \n",
    "Generally, it's just a case of replacing `F` with `nn` and changing the capitalization.  \n",
    "When using `nn.Sequential`, PyTorch requires us to use the module version.  \n",
    "Since modules are classes, we have to instantiate them, which is why you see `nn.ReLU()` in this example.  \n",
    "\n",
    "**Because `nn.Sequential` is a module, we can get its parameters,**  \n",
    "which will return a list of all the parameters of all the modules it contains.  \n",
    "Let's try it out!  \n",
    "As this is a deeper model, we'll use a lower learning rate and a few more epochs.  "
   ]
  },
  {
   "cell_type": "code",
   "execution_count": 177,
   "metadata": {},
   "outputs": [],
   "source": [
    "'''\n",
    "now that we have a neural net (simple_net) \n",
    "we can use the same learner we had before but this time we pass in the simple_net instead of linear one\n",
    "everything else is the same and we can call fit just like before\n",
    "\n",
    "and generally, as your models get deeper\n",
    "so here we've gone from 1 layer to 2 (at simple_net, calculate only the parametrized layer (withotu relu))\n",
    "you could say it's 3. I'm going to call it 2,  there's 2 trainable layers\n",
    "so I've gone from 1 layer to 2 (started with linear1)\n",
    "I've dropped my learning r ate from 1 to 0.1 because the deeper models (with more layers) all tend to be bumpier\n",
    "less nicely behaved so often you need to use lower learning rates\n",
    "'''\n",
    "learn = Learner(dls, simple_net, opt_func=SGD,\n",
    "                loss_func=mnist_loss, metrics=batch_accuracy)"
   ]
  },
  {
   "cell_type": "code",
   "execution_count": 178,
   "metadata": {},
   "outputs": [
    {
     "data": {
      "text/html": [
       "\n",
       "<style>\n",
       "    /* Turns off some styling */\n",
       "    progress {\n",
       "        /* gets rid of default border in Firefox and Opera. */\n",
       "        border: none;\n",
       "        /* Needs to be in here for Safari polyfill so background images work as expected. */\n",
       "        background-size: auto;\n",
       "    }\n",
       "    progress:not([value]), progress:not([value])::-webkit-progress-bar {\n",
       "        background: repeating-linear-gradient(45deg, #7e7e7e, #7e7e7e 10px, #5c5c5c 10px, #5c5c5c 20px);\n",
       "    }\n",
       "    .progress-bar-interrupted, .progress-bar-interrupted::-webkit-progress-bar {\n",
       "        background: #F44336;\n",
       "    }\n",
       "</style>\n"
      ],
      "text/plain": [
       "<IPython.core.display.HTML object>"
      ]
     },
     "metadata": {},
     "output_type": "display_data"
    },
    {
     "data": {
      "text/html": [
       "<table border=\"1\" class=\"dataframe\">\n",
       "  <thead>\n",
       "    <tr style=\"text-align: left;\">\n",
       "      <th>epoch</th>\n",
       "      <th>train_loss</th>\n",
       "      <th>valid_loss</th>\n",
       "      <th>batch_accuracy</th>\n",
       "      <th>time</th>\n",
       "    </tr>\n",
       "  </thead>\n",
       "  <tbody>\n",
       "    <tr>\n",
       "      <td>0</td>\n",
       "      <td>0.306178</td>\n",
       "      <td>0.399517</td>\n",
       "      <td>0.508832</td>\n",
       "      <td>00:00</td>\n",
       "    </tr>\n",
       "    <tr>\n",
       "      <td>1</td>\n",
       "      <td>0.142642</td>\n",
       "      <td>0.220382</td>\n",
       "      <td>0.817468</td>\n",
       "      <td>00:00</td>\n",
       "    </tr>\n",
       "    <tr>\n",
       "      <td>2</td>\n",
       "      <td>0.079635</td>\n",
       "      <td>0.112032</td>\n",
       "      <td>0.921001</td>\n",
       "      <td>00:00</td>\n",
       "    </tr>\n",
       "    <tr>\n",
       "      <td>3</td>\n",
       "      <td>0.052750</td>\n",
       "      <td>0.076199</td>\n",
       "      <td>0.943572</td>\n",
       "      <td>00:00</td>\n",
       "    </tr>\n",
       "    <tr>\n",
       "      <td>4</td>\n",
       "      <td>0.040225</td>\n",
       "      <td>0.059813</td>\n",
       "      <td>0.959274</td>\n",
       "      <td>00:00</td>\n",
       "    </tr>\n",
       "    <tr>\n",
       "      <td>5</td>\n",
       "      <td>0.033792</td>\n",
       "      <td>0.050623</td>\n",
       "      <td>0.963199</td>\n",
       "      <td>00:00</td>\n",
       "    </tr>\n",
       "    <tr>\n",
       "      <td>6</td>\n",
       "      <td>0.030072</td>\n",
       "      <td>0.044810</td>\n",
       "      <td>0.965653</td>\n",
       "      <td>00:00</td>\n",
       "    </tr>\n",
       "    <tr>\n",
       "      <td>7</td>\n",
       "      <td>0.027641</td>\n",
       "      <td>0.040804</td>\n",
       "      <td>0.966634</td>\n",
       "      <td>00:00</td>\n",
       "    </tr>\n",
       "    <tr>\n",
       "      <td>8</td>\n",
       "      <td>0.025880</td>\n",
       "      <td>0.037863</td>\n",
       "      <td>0.969578</td>\n",
       "      <td>00:00</td>\n",
       "    </tr>\n",
       "    <tr>\n",
       "      <td>9</td>\n",
       "      <td>0.024511</td>\n",
       "      <td>0.035601</td>\n",
       "      <td>0.970069</td>\n",
       "      <td>00:00</td>\n",
       "    </tr>\n",
       "    <tr>\n",
       "      <td>10</td>\n",
       "      <td>0.023398</td>\n",
       "      <td>0.033796</td>\n",
       "      <td>0.972522</td>\n",
       "      <td>00:00</td>\n",
       "    </tr>\n",
       "    <tr>\n",
       "      <td>11</td>\n",
       "      <td>0.022466</td>\n",
       "      <td>0.032315</td>\n",
       "      <td>0.973013</td>\n",
       "      <td>00:00</td>\n",
       "    </tr>\n",
       "    <tr>\n",
       "      <td>12</td>\n",
       "      <td>0.021670</td>\n",
       "      <td>0.031068</td>\n",
       "      <td>0.974485</td>\n",
       "      <td>00:00</td>\n",
       "    </tr>\n",
       "    <tr>\n",
       "      <td>13</td>\n",
       "      <td>0.020980</td>\n",
       "      <td>0.030000</td>\n",
       "      <td>0.974485</td>\n",
       "      <td>00:00</td>\n",
       "    </tr>\n",
       "    <tr>\n",
       "      <td>14</td>\n",
       "      <td>0.020374</td>\n",
       "      <td>0.029070</td>\n",
       "      <td>0.974975</td>\n",
       "      <td>00:00</td>\n",
       "    </tr>\n",
       "    <tr>\n",
       "      <td>15</td>\n",
       "      <td>0.019836</td>\n",
       "      <td>0.028252</td>\n",
       "      <td>0.975957</td>\n",
       "      <td>00:00</td>\n",
       "    </tr>\n",
       "    <tr>\n",
       "      <td>16</td>\n",
       "      <td>0.019354</td>\n",
       "      <td>0.027526</td>\n",
       "      <td>0.977429</td>\n",
       "      <td>00:00</td>\n",
       "    </tr>\n",
       "    <tr>\n",
       "      <td>17</td>\n",
       "      <td>0.018920</td>\n",
       "      <td>0.026875</td>\n",
       "      <td>0.977920</td>\n",
       "      <td>00:00</td>\n",
       "    </tr>\n",
       "    <tr>\n",
       "      <td>18</td>\n",
       "      <td>0.018526</td>\n",
       "      <td>0.026289</td>\n",
       "      <td>0.978410</td>\n",
       "      <td>00:00</td>\n",
       "    </tr>\n",
       "    <tr>\n",
       "      <td>19</td>\n",
       "      <td>0.018165</td>\n",
       "      <td>0.025757</td>\n",
       "      <td>0.978901</td>\n",
       "      <td>00:00</td>\n",
       "    </tr>\n",
       "    <tr>\n",
       "      <td>20</td>\n",
       "      <td>0.017834</td>\n",
       "      <td>0.025275</td>\n",
       "      <td>0.979392</td>\n",
       "      <td>00:00</td>\n",
       "    </tr>\n",
       "    <tr>\n",
       "      <td>21</td>\n",
       "      <td>0.017527</td>\n",
       "      <td>0.024833</td>\n",
       "      <td>0.979882</td>\n",
       "      <td>00:00</td>\n",
       "    </tr>\n",
       "    <tr>\n",
       "      <td>22</td>\n",
       "      <td>0.017243</td>\n",
       "      <td>0.024428</td>\n",
       "      <td>0.979882</td>\n",
       "      <td>00:00</td>\n",
       "    </tr>\n",
       "    <tr>\n",
       "      <td>23</td>\n",
       "      <td>0.016978</td>\n",
       "      <td>0.024054</td>\n",
       "      <td>0.980864</td>\n",
       "      <td>00:00</td>\n",
       "    </tr>\n",
       "    <tr>\n",
       "      <td>24</td>\n",
       "      <td>0.016731</td>\n",
       "      <td>0.023709</td>\n",
       "      <td>0.980864</td>\n",
       "      <td>00:00</td>\n",
       "    </tr>\n",
       "    <tr>\n",
       "      <td>25</td>\n",
       "      <td>0.016499</td>\n",
       "      <td>0.023388</td>\n",
       "      <td>0.980864</td>\n",
       "      <td>00:00</td>\n",
       "    </tr>\n",
       "    <tr>\n",
       "      <td>26</td>\n",
       "      <td>0.016280</td>\n",
       "      <td>0.023091</td>\n",
       "      <td>0.980373</td>\n",
       "      <td>00:00</td>\n",
       "    </tr>\n",
       "    <tr>\n",
       "      <td>27</td>\n",
       "      <td>0.016073</td>\n",
       "      <td>0.022814</td>\n",
       "      <td>0.980864</td>\n",
       "      <td>00:00</td>\n",
       "    </tr>\n",
       "    <tr>\n",
       "      <td>28</td>\n",
       "      <td>0.015878</td>\n",
       "      <td>0.022556</td>\n",
       "      <td>0.981354</td>\n",
       "      <td>00:00</td>\n",
       "    </tr>\n",
       "    <tr>\n",
       "      <td>29</td>\n",
       "      <td>0.015693</td>\n",
       "      <td>0.022315</td>\n",
       "      <td>0.981354</td>\n",
       "      <td>00:00</td>\n",
       "    </tr>\n",
       "    <tr>\n",
       "      <td>30</td>\n",
       "      <td>0.015517</td>\n",
       "      <td>0.022090</td>\n",
       "      <td>0.982336</td>\n",
       "      <td>00:00</td>\n",
       "    </tr>\n",
       "    <tr>\n",
       "      <td>31</td>\n",
       "      <td>0.015350</td>\n",
       "      <td>0.021879</td>\n",
       "      <td>0.982336</td>\n",
       "      <td>00:00</td>\n",
       "    </tr>\n",
       "    <tr>\n",
       "      <td>32</td>\n",
       "      <td>0.015190</td>\n",
       "      <td>0.021681</td>\n",
       "      <td>0.982826</td>\n",
       "      <td>00:00</td>\n",
       "    </tr>\n",
       "    <tr>\n",
       "      <td>33</td>\n",
       "      <td>0.015037</td>\n",
       "      <td>0.021495</td>\n",
       "      <td>0.983317</td>\n",
       "      <td>00:00</td>\n",
       "    </tr>\n",
       "    <tr>\n",
       "      <td>34</td>\n",
       "      <td>0.014891</td>\n",
       "      <td>0.021319</td>\n",
       "      <td>0.983317</td>\n",
       "      <td>00:00</td>\n",
       "    </tr>\n",
       "    <tr>\n",
       "      <td>35</td>\n",
       "      <td>0.014751</td>\n",
       "      <td>0.021154</td>\n",
       "      <td>0.983317</td>\n",
       "      <td>00:00</td>\n",
       "    </tr>\n",
       "    <tr>\n",
       "      <td>36</td>\n",
       "      <td>0.014616</td>\n",
       "      <td>0.020998</td>\n",
       "      <td>0.983317</td>\n",
       "      <td>00:00</td>\n",
       "    </tr>\n",
       "    <tr>\n",
       "      <td>37</td>\n",
       "      <td>0.014486</td>\n",
       "      <td>0.020850</td>\n",
       "      <td>0.983317</td>\n",
       "      <td>00:00</td>\n",
       "    </tr>\n",
       "    <tr>\n",
       "      <td>38</td>\n",
       "      <td>0.014362</td>\n",
       "      <td>0.020710</td>\n",
       "      <td>0.983317</td>\n",
       "      <td>00:00</td>\n",
       "    </tr>\n",
       "    <tr>\n",
       "      <td>39</td>\n",
       "      <td>0.014241</td>\n",
       "      <td>0.020577</td>\n",
       "      <td>0.983317</td>\n",
       "      <td>00:00</td>\n",
       "    </tr>\n",
       "  </tbody>\n",
       "</table>"
      ],
      "text/plain": [
       "<IPython.core.display.HTML object>"
      ]
     },
     "metadata": {},
     "output_type": "display_data"
    }
   ],
   "source": [
    "#hide_output\n",
    "learn.fit(40, 0.1)"
   ]
  },
  {
   "cell_type": "markdown",
   "metadata": {},
   "source": [
    "We're not showing the 40 lines of output here to save room;  \n",
    "**the training process is recorded in `learn.recorder`,**  \n",
    "with the table of output stored in the `values` attribute,  \n",
    "so we can plot **the accuracy over training as:**"
   ]
  },
  {
   "cell_type": "code",
   "execution_count": 179,
   "metadata": {},
   "outputs": [
    {
     "data": {
      "image/png": "[encoded data removed]",
      "text/plain": [
       "<Figure size 640x480 with 1 Axes>"
      ]
     },
     "metadata": {},
     "output_type": "display_data"
    }
   ],
   "source": [
    "'''\n",
    "and so we've trained for a while, and we can actually find out what that training looks like\n",
    "by looking inside our learner and there's an attribute we create for you called recorder \n",
    "and that's going to record everything that appears in this table (learn.fit results)\n",
    "bascally, these 3 things: training loss, validation loss and the batch accuracy or any metrics \n",
    "so recorded our values, contains that table of results\n",
    "and so item number 2 of each row will be the accuracy  \n",
    "so the capital L class, which I'm using here as a nice little method called .itemgot\n",
    "that will get the second item for every row and then I can plot that to see how the training went\n",
    "'''\n",
    "plt.plot(L(learn.recorder.values).itemgot(2));  # plot accuracy"
   ]
  },
  {
   "cell_type": "markdown",
   "metadata": {},
   "source": [
    "**And we can view the final accuracy:**"
   ]
  },
  {
   "cell_type": "code",
   "execution_count": 180,
   "metadata": {},
   "outputs": [
    {
     "data": {
      "text/plain": [
       "0.983316957950592"
      ]
     },
     "execution_count": 180,
     "metadata": {},
     "output_type": "execute_result"
    }
   ],
   "source": [
    "'''\n",
    "and I can get the final accuracy by grabbing the last row of the table and index 2 (0,1,2) - 98.3%\n",
    "\n",
    "1. we now have a function that can solve any problem to any level of accuracy if we can find the right parameters\n",
    "2. and we have a way to find the best or at least the very good set of parameters for any function\n",
    "\n",
    "'''\n",
    "learn.recorder.values[-1][2]"
   ]
  },
  {
   "cell_type": "code",
   "execution_count": 181,
   "metadata": {},
   "outputs": [
    {
     "data": {
      "text/plain": [
       "Sequential(\n",
       "  (0): Linear(in_features=784, out_features=30, bias=True)\n",
       "  (1): ReLU()\n",
       "  (2): Linear(in_features=30, out_features=1, bias=True)\n",
       ")"
      ]
     },
     "execution_count": 181,
     "metadata": {},
     "output_type": "execute_result"
    }
   ],
   "source": [
    "'''\n",
    "if you want to grab the model\n",
    "you can look inside the model to see the actual model that we just trained and you can see it's got the 3 things in it:\n",
    "the linear\n",
    "the relu\n",
    "the linear\n",
    "\n",
    "I put that into a variable to make it easier to work with\n",
    "'''\n",
    "#learn.model\n",
    "m = learn.model\n",
    "m"
   ]
  },
  {
   "cell_type": "code",
   "execution_count": 190,
   "metadata": {},
   "outputs": [
    {
     "data": {
      "text/plain": [
       "<generator object Module.parameters at 0x7eff384082e0>"
      ]
     },
     "execution_count": 190,
     "metadata": {},
     "output_type": "execute_result"
    }
   ],
   "source": [
    "'''\n",
    "you can grab one layer by indexing\n",
    "you can look at the parameters, this will give something called a generator\n",
    "'''\n",
    "m[0].parameters()"
   ]
  },
  {
   "cell_type": "code",
   "execution_count": 196,
   "metadata": {},
   "outputs": [],
   "source": [
    "'''\n",
    "it's something that will give me a list of the parameters when I ask for them \n",
    "with w,b to destructure them\n",
    "'''\n",
    "w,b = m[0].parameters()"
   ]
  },
  {
   "cell_type": "code",
   "execution_count": 188,
   "metadata": {},
   "outputs": [
    {
     "data": {
      "text/plain": [
       "(torch.Size([30, 784]), torch.Size([30]))"
      ]
     },
     "execution_count": 188,
     "metadata": {},
     "output_type": "execute_result"
    }
   ],
   "source": [
    "'''\n",
    "so the weight is 30 by 784 because that's what I ask for\n",
    "so one of the things to note here is that to create a neural net (so something that's more than one layer)\n",
    "I actually have 30 outputs, not just 1, right? [simple_net = nn.seq (nn.Linear(xx,30))]\n",
    "so I'm kind of generating lots of features\n",
    "so it's kind of like 30 different linear models here\n",
    "and then I combined those 30 back into 1 (with the 2nd linear)\n",
    "'''\n",
    "w.shape, b.shape"
   ]
  },
  {
   "cell_type": "code",
   "execution_count": 192,
   "metadata": {},
   "outputs": [
    {
     "data": {
      "text/plain": [
       "tensor([-3.0100e-02,  1.9052e-02,  2.9477e-02, -3.4425e-02,  6.4140e-03, -1.0457e-02,  2.1451e-02,  1.5624e-02,  1.7567e-02,  3.0049e-02,  3.1262e-02, -2.0492e-02,  2.5520e-02, -8.0380e-03,\n",
       "         3.3780e-02, -2.6922e-02, -7.4052e-04, -2.2814e-02, -3.5086e-02, -3.5390e-02, -2.3421e-02, -7.2024e-03,  2.3453e-02, -3.5592e-02,  1.7864e-02,  2.1052e-02, -1.1565e-02,  2.7005e-03,\n",
       "        -1.2803e-02, -8.2192e-03, -1.4972e-02,  2.1738e-02, -2.0701e-02,  2.6458e-02,  1.2580e-02,  2.9975e-02,  1.5550e-03,  2.6571e-02, -2.6625e-02, -5.1075e-03, -7.5398e-03, -1.8958e-02,\n",
       "        -2.4748e-02,  3.2386e-02,  3.0870e-03,  2.0842e-02,  7.0747e-03,  1.8930e-02, -3.0142e-02, -1.5400e-03,  1.8391e-02,  2.7783e-04, -1.3994e-02,  2.0310e-03, -2.8694e-02,  1.3494e-02,\n",
       "         6.0580e-03, -2.8467e-02,  2.0373e-02, -3.0352e-02,  1.8536e-02, -2.3559e-02, -3.3395e-02,  5.8225e-03, -5.0159e-03,  2.8023e-02, -1.6682e-02,  3.3784e-02,  8.7398e-03,  4.3036e-03,\n",
       "         6.7939e-03,  9.9093e-03,  1.8955e-02,  3.0378e-03,  3.1855e-02, -2.9978e-02, -1.5126e-02, -1.1854e-02, -2.4286e-02, -2.6230e-02, -2.2343e-02,  6.9593e-03, -1.2407e-02, -2.8843e-02,\n",
       "         1.7156e-02,  3.1700e-02,  1.2955e-02, -2.4392e-02,  3.4875e-02,  2.2692e-03, -1.7238e-03,  3.0696e-03,  3.1296e-02, -1.7998e-02, -2.3488e-02,  1.3132e-02, -2.7540e-02, -1.3279e-02,\n",
       "        -4.0666e-03,  2.9327e-02, -1.1587e-02, -1.3309e-03, -3.1880e-02,  2.0852e-02, -2.8540e-02,  1.1306e-03,  8.1609e-03, -1.0819e-02,  9.5431e-03,  5.0727e-03, -2.2132e-02, -2.9542e-02,\n",
       "         3.3530e-02, -3.1289e-02, -1.4341e-02,  1.8102e-02, -6.5292e-03, -6.9081e-03,  4.2107e-03, -5.3818e-03,  1.5888e-02, -1.4481e-02,  9.1799e-03, -3.3075e-02, -4.5160e-03,  2.7586e-02,\n",
       "         1.7623e-02,  9.8776e-04,  6.6736e-03,  3.2544e-02, -7.0391e-03,  2.1011e-02,  2.9218e-02, -9.3723e-03,  2.0250e-02,  1.1683e-02, -1.3068e-02, -2.5773e-02, -7.3002e-03,  2.9180e-02,\n",
       "         1.8386e-02,  2.7890e-02, -2.3213e-02, -3.3307e-02, -8.3935e-03, -3.3808e-02,  2.3468e-02, -6.7565e-03, -2.0933e-02, -1.9367e-03, -7.4079e-03,  2.1271e-03,  2.0525e-02, -2.0643e-02,\n",
       "         1.5783e-02,  3.3020e-03,  2.2892e-02,  5.2380e-03,  1.8080e-02, -2.9667e-02,  2.0588e-02,  2.4905e-02,  3.0638e-02,  2.7005e-03,  1.1694e-03,  3.1949e-02, -2.8451e-02, -2.7860e-03,\n",
       "         9.3002e-03, -1.8896e-02,  3.0437e-02,  2.5676e-02,  2.8249e-02,  1.8023e-02,  1.3451e-02,  1.1384e-02,  2.4763e-02,  6.0954e-03,  2.3266e-03,  3.1216e-03,  6.1010e-03, -2.7686e-02,\n",
       "         2.2275e-02,  3.3521e-02,  9.5820e-03,  7.1440e-03, -4.0795e-03, -2.7639e-02, -3.1982e-02, -2.5996e-02, -2.2027e-02, -3.0632e-02,  1.0510e-02,  3.5086e-02, -7.6244e-03,  2.6221e-02,\n",
       "         1.8796e-02,  2.6979e-02,  1.3241e-02,  2.7914e-02,  2.6861e-02, -1.6842e-02,  1.0052e-02,  2.3553e-02, -2.7427e-02, -1.9343e-02,  2.2545e-02, -1.3384e-02, -1.9607e-02, -1.4618e-03,\n",
       "         2.4487e-03, -1.2935e-02, -2.2972e-02, -2.5972e-02, -2.1002e-02,  3.4956e-02,  8.6627e-03, -2.1437e-02,  3.3590e-02,  1.9792e-02, -1.4163e-03, -3.3097e-03, -2.5342e-02, -1.3373e-02,\n",
       "         2.9711e-02, -2.2141e-02,  4.2886e-03,  2.5150e-02, -2.3678e-02,  3.7046e-03,  1.0861e-02,  3.5056e-02, -2.0132e-02, -1.6570e-02,  1.0138e-02,  1.2072e-02,  3.0836e-02,  1.6803e-02,\n",
       "         2.9841e-02,  3.4730e-02, -9.6132e-03,  1.9338e-02,  2.2798e-02, -1.5595e-02, -1.2434e-02,  1.2320e-02,  2.0396e-02,  6.1655e-03, -2.3733e-02, -2.9404e-02,  1.2718e-02, -2.2195e-02,\n",
       "         9.2743e-03,  1.9619e-03,  3.1725e-02,  2.4449e-02,  3.2248e-02,  2.2948e-02, -2.7984e-02,  2.5492e-02,  2.8798e-02,  1.9777e-02, -3.7627e-03, -2.3726e-02, -3.4296e-02,  2.8787e-02,\n",
       "         8.1830e-03, -3.0427e-02,  2.3047e-02,  3.1893e-02,  5.5306e-03,  1.9716e-02, -3.6311e-02, -2.1563e-02, -3.3929e-02, -3.3160e-02,  2.5111e-03, -4.4145e-03, -1.0600e-02,  1.3544e-03,\n",
       "         1.8595e-02,  2.8290e-02, -1.8094e-02,  2.0580e-02, -1.3648e-02,  1.6732e-02, -2.1803e-02, -2.8043e-02,  2.9074e-03, -8.4849e-03, -4.1793e-04, -9.0391e-03, -1.0261e-02, -2.6850e-02,\n",
       "         3.2235e-02, -2.3355e-02,  3.3514e-02, -1.9719e-02,  2.0990e-02, -3.0800e-02,  3.0041e-02,  3.2446e-02,  3.4478e-02,  3.0127e-02,  3.4854e-02, -2.4413e-02, -7.4962e-03,  1.7429e-02,\n",
       "         2.0331e-04, -2.8486e-02, -3.0242e-02,  3.4714e-02,  3.3975e-02,  5.2891e-03,  1.7405e-02,  3.1916e-02, -2.7612e-02, -2.9805e-02,  2.6351e-02,  3.4394e-02, -2.3880e-02, -3.3863e-02,\n",
       "         9.6791e-03, -1.0760e-02, -3.1994e-02, -2.2862e-02, -3.3457e-02,  1.9186e-02, -1.8298e-02,  2.2675e-02, -4.4533e-03, -1.7165e-02,  7.7176e-04,  3.5330e-02,  3.2632e-02, -1.7789e-02,\n",
       "        -4.5266e-04,  2.3900e-02,  3.3423e-02,  2.3244e-02, -1.5952e-02,  1.9251e-02,  3.1234e-03,  2.1334e-02, -5.7725e-03,  6.2473e-03, -3.3475e-02, -2.4823e-02,  2.7904e-02, -2.1428e-02,\n",
       "        -2.4428e-02, -2.3628e-02,  9.8815e-03,  4.8129e-03,  1.6339e-02,  2.4855e-02, -1.5063e-02,  7.9751e-03,  3.3191e-02,  3.0620e-04, -3.8358e-03,  2.2900e-02, -4.9415e-03, -1.5830e-02,\n",
       "        -3.5562e-02,  2.8699e-03,  1.0342e-02, -2.3263e-02, -5.4888e-03, -1.3148e-02,  1.6970e-02,  6.5005e-04, -2.8536e-02,  3.3215e-02,  2.4699e-02, -2.3269e-02,  2.9153e-02, -3.8155e-03,\n",
       "         9.5395e-03,  1.3381e-02, -2.4006e-02, -2.8903e-02,  1.9880e-03,  5.0263e-03,  2.2895e-02, -8.1852e-03,  3.1173e-02,  3.2590e-02,  3.3139e-02,  1.2684e-02, -1.2354e-02, -5.0985e-03,\n",
       "         2.6791e-03,  3.3060e-02,  1.8296e-03, -2.8309e-02, -4.9953e-03, -2.3072e-02, -2.4657e-02, -1.2896e-02,  2.5578e-02, -3.3363e-02,  6.5889e-03,  2.6956e-02, -1.7974e-02,  1.1916e-02,\n",
       "         2.9188e-02,  2.9236e-03,  4.8159e-03, -1.0457e-02, -1.7739e-02, -2.0173e-03, -7.9490e-03,  1.0371e-02,  2.9917e-02, -2.7803e-02,  3.1787e-02,  2.4621e-02, -3.3973e-02, -3.2844e-02,\n",
       "         2.3110e-02, -8.0960e-04,  2.5327e-02,  2.7596e-02, -6.5490e-03, -2.9048e-02,  2.6788e-03, -1.2365e-02, -6.3723e-03,  1.3840e-03,  3.7096e-02, -1.9973e-02,  5.5125e-03,  2.2910e-02,\n",
       "        -1.2642e-02, -3.2968e-02, -1.6270e-02, -1.6600e-02,  3.0828e-02, -7.8388e-03,  1.7049e-02,  2.7660e-02, -2.1496e-02, -7.1072e-03, -1.2663e-02,  1.2439e-02,  2.4467e-02, -2.5202e-02,\n",
       "        -2.3859e-02, -3.6376e-04, -1.0673e-02,  3.3861e-02,  2.9044e-02, -1.4667e-02,  2.3828e-02, -7.6031e-04,  2.1271e-02, -4.9105e-03,  2.5785e-02, -9.9433e-04,  3.4853e-02, -8.2993e-03,\n",
       "         2.4509e-02,  3.2708e-02, -2.1295e-02, -2.4674e-02,  9.2792e-04, -1.9536e-02,  5.9921e-03,  8.0147e-03,  1.8139e-02,  3.4997e-03, -2.0968e-02, -1.4981e-02,  2.5049e-02,  3.1914e-02,\n",
       "         1.6478e-02, -9.8413e-03,  2.1152e-02, -2.0721e-02,  2.8163e-02, -8.3458e-03, -5.8735e-03,  3.4351e-02, -3.1913e-02,  1.2480e-02, -9.5424e-03,  6.9360e-03,  4.6267e-03, -1.2927e-02,\n",
       "        -3.0776e-03, -8.9449e-04, -1.6727e-03,  3.4695e-02, -7.6762e-04, -1.6695e-02,  1.5070e-02, -2.2361e-02, -1.4973e-02,  1.1589e-03,  1.7213e-02,  4.0898e-03,  7.5423e-03, -8.5386e-03,\n",
       "         3.2487e-02, -2.7469e-02, -2.6263e-02, -2.7123e-02,  2.0052e-02,  1.3386e-02,  8.0526e-03,  5.7796e-04, -1.7362e-02, -3.0342e-02,  2.4202e-02,  2.1593e-02,  1.7607e-02, -1.1796e-02,\n",
       "        -3.0211e-02, -1.2164e-02, -3.3959e-02, -8.3000e-03,  3.2813e-02,  6.1056e-03,  3.7412e-02, -6.1167e-03, -1.7980e-02, -2.7798e-02,  3.4728e-02, -3.3302e-02, -2.1834e-02, -1.4584e-02,\n",
       "         1.1960e-02,  2.3910e-02,  1.5613e-02,  2.6374e-03,  3.3811e-02,  2.2980e-02, -1.5910e-02,  2.8421e-05,  3.0841e-02, -2.0946e-02, -1.1640e-04, -5.2644e-03, -3.4909e-02,  2.2653e-02,\n",
       "         1.8018e-02,  1.6996e-02, -1.9426e-02,  3.3780e-02, -2.0592e-02, -1.6257e-02, -2.9827e-02,  3.3317e-02,  1.9841e-02, -8.9863e-03, -2.9572e-02,  5.2923e-03, -3.3699e-02,  2.6461e-02,\n",
       "        -2.5501e-02,  1.2259e-02,  1.5505e-03,  2.9444e-02, -1.4601e-02, -2.3223e-03, -2.5993e-02, -1.5846e-02,  3.5217e-02,  3.2394e-02,  1.3928e-02, -2.9676e-02,  1.8758e-02, -3.4917e-02,\n",
       "        -2.5517e-02, -3.2348e-02, -1.3994e-02, -1.2474e-02, -2.4258e-02, -1.9634e-02, -1.3562e-02, -1.4130e-02,  1.6854e-02,  2.7017e-02,  7.3784e-03,  5.3604e-03,  2.8601e-02, -4.5662e-03,\n",
       "        -2.1988e-02, -2.9223e-02, -2.5917e-02,  9.3631e-03,  2.8669e-02, -3.1183e-03, -4.4533e-03,  3.1306e-02, -1.7065e-02,  2.8505e-02, -2.3615e-02,  3.1433e-02, -3.4268e-02, -2.4335e-02,\n",
       "         1.3552e-02,  1.9954e-02, -1.4725e-02, -1.3079e-02,  3.3251e-02,  2.5521e-02, -3.3144e-02,  2.9529e-02,  7.9410e-03, -2.8344e-02, -4.2633e-03, -1.1169e-03,  1.3612e-02, -2.8213e-02,\n",
       "        -1.0653e-02, -9.5090e-03, -1.1727e-02,  9.7677e-03,  4.5918e-03,  1.3089e-02, -6.6265e-03,  1.3034e-04,  9.0692e-03,  1.8363e-02, -1.8899e-02, -1.2218e-02,  1.3894e-02, -1.8385e-02,\n",
       "         2.1835e-02,  6.4048e-03,  3.2354e-02,  3.2491e-02, -1.1982e-02,  2.1772e-02,  5.2871e-03,  1.4337e-02,  9.5214e-03,  4.9568e-03,  1.0718e-03,  4.8552e-03, -3.2840e-02, -2.0897e-02,\n",
       "         1.8857e-03, -1.3880e-02,  6.5363e-03, -1.0569e-02,  6.4096e-03,  2.4683e-02,  1.2461e-02,  2.0968e-02, -2.1183e-02,  2.8970e-03, -2.9254e-02,  1.6804e-02, -2.8932e-02,  2.1945e-02,\n",
       "         9.7876e-03,  2.1583e-03,  7.8484e-03,  1.2332e-02,  2.9425e-02, -2.0639e-02, -2.1718e-02, -1.1277e-02, -3.4467e-02, -6.6153e-03, -2.3350e-02,  1.1798e-03,  2.6016e-03,  2.8054e-02,\n",
       "        -1.7759e-02, -3.3795e-02,  8.3266e-03,  7.7279e-03, -3.0559e-02,  6.0052e-03,  3.2611e-02, -3.0394e-02, -2.6931e-02,  1.4825e-03,  2.1644e-02,  3.2306e-02, -1.7513e-02, -3.2649e-02,\n",
       "         1.3864e-02, -1.1775e-02, -2.6132e-03, -3.2011e-02, -2.1418e-02, -1.2311e-02, -2.3495e-02,  1.5973e-03, -1.2327e-02,  2.1344e-02,  2.0224e-02,  1.3612e-02,  2.7021e-02, -3.0458e-02,\n",
       "        -1.6825e-02, -8.1205e-03,  3.3772e-02,  2.9821e-02, -3.5859e-03, -3.8089e-03, -2.5602e-02,  3.0489e-02, -1.0103e-02, -7.3859e-03,  3.3688e-02,  4.2877e-04, -1.2581e-02, -3.3731e-03,\n",
       "         3.2805e-02,  2.8000e-02, -3.4536e-02,  1.7392e-02, -1.3081e-02,  1.6717e-02,  2.5319e-02,  2.7518e-02, -2.2179e-02, -1.9486e-02,  1.3334e-02,  3.4252e-02,  3.9211e-04, -9.3778e-03,\n",
       "         2.7552e-02, -1.3500e-02, -2.4855e-02,  1.4765e-02, -1.4204e-02,  2.7967e-02,  2.9331e-04, -1.8660e-02, -7.3153e-03,  2.0472e-02, -3.2026e-02, -2.9011e-03,  2.2659e-02,  2.2470e-02,\n",
       "         6.8929e-03, -9.6212e-03, -1.4527e-02,  2.3179e-02, -2.4254e-03,  7.9853e-03,  1.3444e-02,  6.9830e-03, -1.2130e-02,  2.5526e-03, -2.8085e-02,  2.6966e-02, -9.1442e-03,  1.9278e-02,\n",
       "         2.3549e-02,  1.9741e-02,  2.7247e-02,  2.9003e-02, -2.2124e-02, -2.8421e-02,  8.0246e-03,  3.3794e-02, -1.9599e-02,  3.2354e-02, -2.2026e-05,  3.0739e-02,  4.9774e-03,  2.8501e-02,\n",
       "        -2.7780e-02,  1.9464e-02,  1.5982e-02, -2.7337e-02,  3.1889e-02, -3.3556e-04,  2.3811e-02, -4.6703e-03, -2.9452e-02,  2.3689e-02, -3.3725e-03, -1.8790e-02,  2.5523e-02,  1.4083e-02],\n",
       "       grad_fn=<SelectBackward0>)"
      ]
     },
     "execution_count": 192,
     "metadata": {},
     "output_type": "execute_result"
    }
   ],
   "source": [
    "'''\n",
    "so you could look at one of those by having a look at here\n",
    "so there's the numbers in the first row\n",
    "'''\n",
    "w[0]"
   ]
  },
  {
   "cell_type": "code",
   "execution_count": 193,
   "metadata": {},
   "outputs": [
    {
     "data": {
      "text/plain": [
       "tensor([[-3.0100e-02,  1.9052e-02,  2.9477e-02, -3.4425e-02,  6.4140e-03, -1.0457e-02,  2.1451e-02,  1.5624e-02,  1.7567e-02,  3.0049e-02,  3.1262e-02, -2.0492e-02,  2.5520e-02, -8.0380e-03,\n",
       "          3.3780e-02, -2.6922e-02, -7.4052e-04, -2.2814e-02, -3.5086e-02, -3.5390e-02, -2.3421e-02, -7.2024e-03,  2.3453e-02, -3.5592e-02,  1.7864e-02,  2.1052e-02, -1.1565e-02,  2.7005e-03],\n",
       "        [-1.2803e-02, -8.2192e-03, -1.4972e-02,  2.1738e-02, -2.0701e-02,  2.6458e-02,  1.2580e-02,  2.9975e-02,  1.5550e-03,  2.6571e-02, -2.6625e-02, -5.1075e-03, -7.5398e-03, -1.8958e-02,\n",
       "         -2.4748e-02,  3.2386e-02,  3.0870e-03,  2.0842e-02,  7.0747e-03,  1.8930e-02, -3.0142e-02, -1.5400e-03,  1.8391e-02,  2.7783e-04, -1.3994e-02,  2.0310e-03, -2.8694e-02,  1.3494e-02],\n",
       "        [ 6.0580e-03, -2.8467e-02,  2.0373e-02, -3.0352e-02,  1.8536e-02, -2.3559e-02, -3.3395e-02,  5.8225e-03, -5.0159e-03,  2.8023e-02, -1.6682e-02,  3.3784e-02,  8.7398e-03,  4.3036e-03,\n",
       "          6.7939e-03,  9.9093e-03,  1.8955e-02,  3.0378e-03,  3.1855e-02, -2.9978e-02, -1.5126e-02, -1.1854e-02, -2.4286e-02, -2.6230e-02, -2.2343e-02,  6.9593e-03, -1.2407e-02, -2.8843e-02],\n",
       "        [ 1.7156e-02,  3.1700e-02,  1.2955e-02, -2.4392e-02,  3.4875e-02,  2.2692e-03, -1.7238e-03,  3.0696e-03,  3.1296e-02, -1.7998e-02, -2.3488e-02,  1.3132e-02, -2.7540e-02, -1.3279e-02,\n",
       "         -4.0666e-03,  2.9327e-02, -1.1587e-02, -1.3309e-03, -3.1880e-02,  2.0852e-02, -2.8540e-02,  1.1306e-03,  8.1609e-03, -1.0819e-02,  9.5431e-03,  5.0727e-03, -2.2132e-02, -2.9542e-02],\n",
       "        [ 3.3530e-02, -3.1289e-02, -1.4341e-02,  1.8102e-02, -6.5292e-03, -6.9081e-03,  4.2107e-03, -5.3818e-03,  1.5888e-02, -1.4481e-02,  9.1799e-03, -3.3075e-02, -4.5160e-03,  2.7586e-02,\n",
       "          1.7623e-02,  9.8776e-04,  6.6736e-03,  3.2544e-02, -7.0391e-03,  2.1011e-02,  2.9218e-02, -9.3723e-03,  2.0250e-02,  1.1683e-02, -1.3068e-02, -2.5773e-02, -7.3002e-03,  2.9180e-02],\n",
       "        [ 1.8386e-02,  2.7890e-02, -2.3213e-02, -3.3307e-02, -8.3935e-03, -3.3808e-02,  2.3468e-02, -6.7565e-03, -2.0933e-02, -1.9367e-03, -7.4079e-03,  2.1271e-03,  2.0525e-02, -2.0643e-02,\n",
       "          1.5783e-02,  3.3020e-03,  2.2892e-02,  5.2380e-03,  1.8080e-02, -2.9667e-02,  2.0588e-02,  2.4905e-02,  3.0638e-02,  2.7005e-03,  1.1694e-03,  3.1949e-02, -2.8451e-02, -2.7860e-03],\n",
       "        [ 9.3002e-03, -1.8896e-02,  3.0437e-02,  2.5676e-02,  2.8249e-02,  1.8023e-02,  1.3451e-02,  1.1384e-02,  2.4763e-02,  6.0954e-03,  2.3266e-03,  3.1216e-03,  6.1010e-03, -2.7686e-02,\n",
       "          2.2275e-02,  3.3521e-02,  9.5820e-03,  7.1440e-03, -4.0795e-03, -2.7639e-02, -3.1982e-02, -2.5996e-02, -2.2027e-02, -3.0632e-02,  1.0510e-02,  3.5086e-02, -7.6244e-03,  2.6221e-02],\n",
       "        [ 1.8796e-02,  2.6979e-02,  1.3241e-02,  2.7914e-02,  2.6861e-02, -1.6842e-02,  1.0052e-02,  2.3553e-02, -2.7427e-02, -1.9343e-02,  2.2545e-02, -1.3384e-02, -1.9607e-02, -1.4618e-03,\n",
       "          2.4487e-03, -1.2935e-02, -2.2972e-02, -2.5972e-02, -2.1002e-02,  3.4956e-02,  8.6627e-03, -2.1437e-02,  3.3590e-02,  1.9792e-02, -1.4163e-03, -3.3097e-03, -2.5342e-02, -1.3373e-02],\n",
       "        [ 2.9711e-02, -2.2141e-02,  4.2886e-03,  2.5150e-02, -2.3678e-02,  3.7046e-03,  1.0861e-02,  3.5056e-02, -2.0132e-02, -1.6570e-02,  1.0138e-02,  1.2072e-02,  3.0836e-02,  1.6803e-02,\n",
       "          2.9841e-02,  3.4730e-02, -9.6132e-03,  1.9338e-02,  2.2798e-02, -1.5595e-02, -1.2434e-02,  1.2320e-02,  2.0396e-02,  6.1655e-03, -2.3733e-02, -2.9404e-02,  1.2718e-02, -2.2195e-02],\n",
       "        [ 9.2743e-03,  1.9619e-03,  3.1725e-02,  2.4449e-02,  3.2248e-02,  2.2948e-02, -2.7984e-02,  2.5492e-02,  2.8798e-02,  1.9777e-02, -3.7627e-03, -2.3726e-02, -3.4296e-02,  2.8787e-02,\n",
       "          8.1830e-03, -3.0427e-02,  2.3047e-02,  3.1893e-02,  5.5306e-03,  1.9716e-02, -3.6311e-02, -2.1563e-02, -3.3929e-02, -3.3160e-02,  2.5111e-03, -4.4145e-03, -1.0600e-02,  1.3544e-03],\n",
       "        [ 1.8595e-02,  2.8290e-02, -1.8094e-02,  2.0580e-02, -1.3648e-02,  1.6732e-02, -2.1803e-02, -2.8043e-02,  2.9074e-03, -8.4849e-03, -4.1793e-04, -9.0391e-03, -1.0261e-02, -2.6850e-02,\n",
       "          3.2235e-02, -2.3355e-02,  3.3514e-02, -1.9719e-02,  2.0990e-02, -3.0800e-02,  3.0041e-02,  3.2446e-02,  3.4478e-02,  3.0127e-02,  3.4854e-02, -2.4413e-02, -7.4962e-03,  1.7429e-02],\n",
       "        [ 2.0331e-04, -2.8486e-02, -3.0242e-02,  3.4714e-02,  3.3975e-02,  5.2891e-03,  1.7405e-02,  3.1916e-02, -2.7612e-02, -2.9805e-02,  2.6351e-02,  3.4394e-02, -2.3880e-02, -3.3863e-02,\n",
       "          9.6791e-03, -1.0760e-02, -3.1994e-02, -2.2862e-02, -3.3457e-02,  1.9186e-02, -1.8298e-02,  2.2675e-02, -4.4533e-03, -1.7165e-02,  7.7176e-04,  3.5330e-02,  3.2632e-02, -1.7789e-02],\n",
       "        [-4.5266e-04,  2.3900e-02,  3.3423e-02,  2.3244e-02, -1.5952e-02,  1.9251e-02,  3.1234e-03,  2.1334e-02, -5.7725e-03,  6.2473e-03, -3.3475e-02, -2.4823e-02,  2.7904e-02, -2.1428e-02,\n",
       "         -2.4428e-02, -2.3628e-02,  9.8815e-03,  4.8129e-03,  1.6339e-02,  2.4855e-02, -1.5063e-02,  7.9751e-03,  3.3191e-02,  3.0620e-04, -3.8358e-03,  2.2900e-02, -4.9415e-03, -1.5830e-02],\n",
       "        [-3.5562e-02,  2.8699e-03,  1.0342e-02, -2.3263e-02, -5.4888e-03, -1.3148e-02,  1.6970e-02,  6.5005e-04, -2.8536e-02,  3.3215e-02,  2.4699e-02, -2.3269e-02,  2.9153e-02, -3.8155e-03,\n",
       "          9.5395e-03,  1.3381e-02, -2.4006e-02, -2.8903e-02,  1.9880e-03,  5.0263e-03,  2.2895e-02, -8.1852e-03,  3.1173e-02,  3.2590e-02,  3.3139e-02,  1.2684e-02, -1.2354e-02, -5.0985e-03],\n",
       "        [ 2.6791e-03,  3.3060e-02,  1.8296e-03, -2.8309e-02, -4.9953e-03, -2.3072e-02, -2.4657e-02, -1.2896e-02,  2.5578e-02, -3.3363e-02,  6.5889e-03,  2.6956e-02, -1.7974e-02,  1.1916e-02,\n",
       "          2.9188e-02,  2.9236e-03,  4.8159e-03, -1.0457e-02, -1.7739e-02, -2.0173e-03, -7.9490e-03,  1.0371e-02,  2.9917e-02, -2.7803e-02,  3.1787e-02,  2.4621e-02, -3.3973e-02, -3.2844e-02],\n",
       "        [ 2.3110e-02, -8.0960e-04,  2.5327e-02,  2.7596e-02, -6.5490e-03, -2.9048e-02,  2.6788e-03, -1.2365e-02, -6.3723e-03,  1.3840e-03,  3.7096e-02, -1.9973e-02,  5.5125e-03,  2.2910e-02,\n",
       "         -1.2642e-02, -3.2968e-02, -1.6270e-02, -1.6600e-02,  3.0828e-02, -7.8388e-03,  1.7049e-02,  2.7660e-02, -2.1496e-02, -7.1072e-03, -1.2663e-02,  1.2439e-02,  2.4467e-02, -2.5202e-02],\n",
       "        [-2.3859e-02, -3.6376e-04, -1.0673e-02,  3.3861e-02,  2.9044e-02, -1.4667e-02,  2.3828e-02, -7.6031e-04,  2.1271e-02, -4.9105e-03,  2.5785e-02, -9.9433e-04,  3.4853e-02, -8.2993e-03,\n",
       "          2.4509e-02,  3.2708e-02, -2.1295e-02, -2.4674e-02,  9.2792e-04, -1.9536e-02,  5.9921e-03,  8.0147e-03,  1.8139e-02,  3.4997e-03, -2.0968e-02, -1.4981e-02,  2.5049e-02,  3.1914e-02],\n",
       "        [ 1.6478e-02, -9.8413e-03,  2.1152e-02, -2.0721e-02,  2.8163e-02, -8.3458e-03, -5.8735e-03,  3.4351e-02, -3.1913e-02,  1.2480e-02, -9.5424e-03,  6.9360e-03,  4.6267e-03, -1.2927e-02,\n",
       "         -3.0776e-03, -8.9449e-04, -1.6727e-03,  3.4695e-02, -7.6762e-04, -1.6695e-02,  1.5070e-02, -2.2361e-02, -1.4973e-02,  1.1589e-03,  1.7213e-02,  4.0898e-03,  7.5423e-03, -8.5386e-03],\n",
       "        [ 3.2487e-02, -2.7469e-02, -2.6263e-02, -2.7123e-02,  2.0052e-02,  1.3386e-02,  8.0526e-03,  5.7796e-04, -1.7362e-02, -3.0342e-02,  2.4202e-02,  2.1593e-02,  1.7607e-02, -1.1796e-02,\n",
       "         -3.0211e-02, -1.2164e-02, -3.3959e-02, -8.3000e-03,  3.2813e-02,  6.1056e-03,  3.7412e-02, -6.1167e-03, -1.7980e-02, -2.7798e-02,  3.4728e-02, -3.3302e-02, -2.1834e-02, -1.4584e-02],\n",
       "        [ 1.1960e-02,  2.3910e-02,  1.5613e-02,  2.6374e-03,  3.3811e-02,  2.2980e-02, -1.5910e-02,  2.8421e-05,  3.0841e-02, -2.0946e-02, -1.1640e-04, -5.2644e-03, -3.4909e-02,  2.2653e-02,\n",
       "          1.8018e-02,  1.6996e-02, -1.9426e-02,  3.3780e-02, -2.0592e-02, -1.6257e-02, -2.9827e-02,  3.3317e-02,  1.9841e-02, -8.9863e-03, -2.9572e-02,  5.2923e-03, -3.3699e-02,  2.6461e-02],\n",
       "        [-2.5501e-02,  1.2259e-02,  1.5505e-03,  2.9444e-02, -1.4601e-02, -2.3223e-03, -2.5993e-02, -1.5846e-02,  3.5217e-02,  3.2394e-02,  1.3928e-02, -2.9676e-02,  1.8758e-02, -3.4917e-02,\n",
       "         -2.5517e-02, -3.2348e-02, -1.3994e-02, -1.2474e-02, -2.4258e-02, -1.9634e-02, -1.3562e-02, -1.4130e-02,  1.6854e-02,  2.7017e-02,  7.3784e-03,  5.3604e-03,  2.8601e-02, -4.5662e-03],\n",
       "        [-2.1988e-02, -2.9223e-02, -2.5917e-02,  9.3631e-03,  2.8669e-02, -3.1183e-03, -4.4533e-03,  3.1306e-02, -1.7065e-02,  2.8505e-02, -2.3615e-02,  3.1433e-02, -3.4268e-02, -2.4335e-02,\n",
       "          1.3552e-02,  1.9954e-02, -1.4725e-02, -1.3079e-02,  3.3251e-02,  2.5521e-02, -3.3144e-02,  2.9529e-02,  7.9410e-03, -2.8344e-02, -4.2633e-03, -1.1169e-03,  1.3612e-02, -2.8213e-02],\n",
       "        [-1.0653e-02, -9.5090e-03, -1.1727e-02,  9.7677e-03,  4.5918e-03,  1.3089e-02, -6.6265e-03,  1.3034e-04,  9.0692e-03,  1.8363e-02, -1.8899e-02, -1.2218e-02,  1.3894e-02, -1.8385e-02,\n",
       "          2.1835e-02,  6.4048e-03,  3.2354e-02,  3.2491e-02, -1.1982e-02,  2.1772e-02,  5.2871e-03,  1.4337e-02,  9.5214e-03,  4.9568e-03,  1.0718e-03,  4.8552e-03, -3.2840e-02, -2.0897e-02],\n",
       "        [ 1.8857e-03, -1.3880e-02,  6.5363e-03, -1.0569e-02,  6.4096e-03,  2.4683e-02,  1.2461e-02,  2.0968e-02, -2.1183e-02,  2.8970e-03, -2.9254e-02,  1.6804e-02, -2.8932e-02,  2.1945e-02,\n",
       "          9.7876e-03,  2.1583e-03,  7.8484e-03,  1.2332e-02,  2.9425e-02, -2.0639e-02, -2.1718e-02, -1.1277e-02, -3.4467e-02, -6.6153e-03, -2.3350e-02,  1.1798e-03,  2.6016e-03,  2.8054e-02],\n",
       "        [-1.7759e-02, -3.3795e-02,  8.3266e-03,  7.7279e-03, -3.0559e-02,  6.0052e-03,  3.2611e-02, -3.0394e-02, -2.6931e-02,  1.4825e-03,  2.1644e-02,  3.2306e-02, -1.7513e-02, -3.2649e-02,\n",
       "          1.3864e-02, -1.1775e-02, -2.6132e-03, -3.2011e-02, -2.1418e-02, -1.2311e-02, -2.3495e-02,  1.5973e-03, -1.2327e-02,  2.1344e-02,  2.0224e-02,  1.3612e-02,  2.7021e-02, -3.0458e-02],\n",
       "        [-1.6825e-02, -8.1205e-03,  3.3772e-02,  2.9821e-02, -3.5859e-03, -3.8089e-03, -2.5602e-02,  3.0489e-02, -1.0103e-02, -7.3859e-03,  3.3688e-02,  4.2877e-04, -1.2581e-02, -3.3731e-03,\n",
       "          3.2805e-02,  2.8000e-02, -3.4536e-02,  1.7392e-02, -1.3081e-02,  1.6717e-02,  2.5319e-02,  2.7518e-02, -2.2179e-02, -1.9486e-02,  1.3334e-02,  3.4252e-02,  3.9211e-04, -9.3778e-03],\n",
       "        [ 2.7552e-02, -1.3500e-02, -2.4855e-02,  1.4765e-02, -1.4204e-02,  2.7967e-02,  2.9331e-04, -1.8660e-02, -7.3153e-03,  2.0472e-02, -3.2026e-02, -2.9011e-03,  2.2659e-02,  2.2470e-02,\n",
       "          6.8929e-03, -9.6212e-03, -1.4527e-02,  2.3179e-02, -2.4254e-03,  7.9853e-03,  1.3444e-02,  6.9830e-03, -1.2130e-02,  2.5526e-03, -2.8085e-02,  2.6966e-02, -9.1442e-03,  1.9278e-02],\n",
       "        [ 2.3549e-02,  1.9741e-02,  2.7247e-02,  2.9003e-02, -2.2124e-02, -2.8421e-02,  8.0246e-03,  3.3794e-02, -1.9599e-02,  3.2354e-02, -2.2026e-05,  3.0739e-02,  4.9774e-03,  2.8501e-02,\n",
       "         -2.7780e-02,  1.9464e-02,  1.5982e-02, -2.7337e-02,  3.1889e-02, -3.3556e-04,  2.3811e-02, -4.6703e-03, -2.9452e-02,  2.3689e-02, -3.3725e-03, -1.8790e-02,  2.5523e-02,  1.4083e-02]],\n",
       "       grad_fn=<ViewBackward0>)"
      ]
     },
     "execution_count": 193,
     "metadata": {},
     "output_type": "execute_result"
    }
   ],
   "source": [
    "'''\n",
    "we could reshape that into the original shape of the images\n",
    "'''\n",
    "w[0].view(28,28)"
   ]
  },
  {
   "cell_type": "code",
   "execution_count": 201,
   "metadata": {},
   "outputs": [
    {
     "data": {
      "text/plain": [
       "<Axes: >"
      ]
     },
     "execution_count": 201,
     "metadata": {},
     "output_type": "execute_result"
    },
    {
     "data": {
      "image/png": "[encoded data removed]",
      "text/plain": [
       "<Figure size 100x100 with 1 Axes>"
      ]
     },
     "metadata": {},
     "output_type": "display_data"
    }
   ],
   "source": [
    "'''\n",
    "and we could even have a look and there it is\n",
    "so you can see this is something which is kind of learning to find things at the top and the bottom and the middle (me: pointing to the image)\n",
    "and we can look at the 2nd one w[1] - no idea what is that showing\n",
    "I probably got far more than I need, which is why they're not that obvious\n",
    "\n",
    "but you can see, here's another thing that's looking pretty similar w[4]\n",
    "king of looking for this little bit in the middle, \n",
    "so yeah, this is the basic idea, to understand the features that are not the 1st layer but later layers you have to be a bit more sophisticated\n",
    "but you can see the first layer ones , you can just plot them\n",
    "'''\n",
    "show_image(w[0].view(28,28))"
   ]
  },
  {
   "cell_type": "markdown",
   "metadata": {},
   "source": [
    "At this point we have something that is rather **magical:**    \n",
    "\n",
    "1. **A function that can solve any problem to any level of accuracy (the neural network) given the correct set of parameters**    \n",
    "1. **A way to find the best set of parameters for any function (stochastic gradient descent)**  \n",
    "\n",
    "This is why deep learning can do things which seem rather magical, such fantastic things.  \n",
    "Believing that this combination of simple techniques can really solve any problem is one of the biggest steps that we find many students have to take.  \n",
    "It seems too good to be true — surely things should be more difficult and complicated than this?  \n",
    "Our recommendation: try it out!  \n",
    "We just tried it on the MNIST dataset and you have seen the results.  \n",
    "And since we are doing everything from scratch ourselves (except for calculating the gradients) you know that there is no special magic hiding behind the scenes. "
   ]
  },
  {
   "cell_type": "markdown",
   "metadata": {},
   "source": [
    "### Going Deeper"
   ]
  },
  {
   "cell_type": "markdown",
   "metadata": {},
   "source": [
    "**There is no need to stop at just two linear layers.**  \n",
    "**We can add as many as we want, as long as we add a nonlinearity between each pair of linear layers.**  \n",
    "As you will learn, however, the deeper the model gets, the harder it is to optimize the parameters in practice.  \n",
    "Later in this book you will learn about some simple but brilliantly effective techniques for training deeper models.\n",
    "\n",
    "We already know that a single nonlinearity with two linear layers is enough to approximate any function.  \n",
    "**So why would we use deeper models?**  \n",
    "**The reason is performance.**  \n",
    "**<u>With a deeper model (that is, one with more layers) we do not need to use as many parameters;</u>**  \n",
    "it turns out that we can use smaller matrices with more layers, and get better results than we would get with larger matrices, and few layers.  \n",
    "\n",
    "**That means that we can train the model more quickly, and it will take up less memory.**  \n",
    "In the 1990s researchers were so focused on the universal approximation theorem that very few were experimenting with more than one nonlinearity.  \n",
    "This theoretical but not practical foundation held back the field for years.  \n",
    "Some researchers, however, did experiment with deep models, and eventually were able to show that these models could perform much better in practice.  \n",
    "**Eventually, theoretical results were developed which showed why this happens.**  \n",
    "Today, it is extremely unusual to find anybody using a neural network with just one nonlinearity.\n",
    "\n",
    "**Here is what happens when we train an 18-layer model using the same approach we saw in <<chapter_intro>>:**"
   ]
  },
  {
   "cell_type": "code",
   "execution_count": 184,
   "metadata": {},
   "outputs": [
    {
     "name": "stderr",
     "output_type": "stream",
     "text": [
      "/home/ltr01/mambaforge/envs/fastai23/lib/python3.11/site-packages/fastai/data/transforms.py:225: FutureWarning: is_categorical_dtype is deprecated and will be removed in a future version. Use isinstance(dtype, CategoricalDtype) instead\n",
      "  if is_categorical_dtype(col):\n",
      "/home/ltr01/mambaforge/envs/fastai23/lib/python3.11/site-packages/torchvision/models/_utils.py:208: UserWarning: The parameter 'pretrained' is deprecated since 0.13 and may be removed in the future, please use 'weights' instead.\n",
      "  warnings.warn(\n",
      "/home/ltr01/mambaforge/envs/fastai23/lib/python3.11/site-packages/torchvision/models/_utils.py:223: UserWarning: Arguments other than a weight enum or `None` for 'weights' are deprecated since 0.13 and may be removed in the future. The current behavior is equivalent to passing `weights=None`.\n",
      "  warnings.warn(msg)\n"
     ]
    },
    {
     "data": {
      "text/html": [
       "\n",
       "<style>\n",
       "    /* Turns off some styling */\n",
       "    progress {\n",
       "        /* gets rid of default border in Firefox and Opera. */\n",
       "        border: none;\n",
       "        /* Needs to be in here for Safari polyfill so background images work as expected. */\n",
       "        background-size: auto;\n",
       "    }\n",
       "    progress:not([value]), progress:not([value])::-webkit-progress-bar {\n",
       "        background: repeating-linear-gradient(45deg, #7e7e7e, #7e7e7e 10px, #5c5c5c 10px, #5c5c5c 20px);\n",
       "    }\n",
       "    .progress-bar-interrupted, .progress-bar-interrupted::-webkit-progress-bar {\n",
       "        background: #F44336;\n",
       "    }\n",
       "</style>\n"
      ],
      "text/plain": [
       "<IPython.core.display.HTML object>"
      ]
     },
     "metadata": {},
     "output_type": "display_data"
    },
    {
     "data": {
      "text/html": [
       "<table border=\"1\" class=\"dataframe\">\n",
       "  <thead>\n",
       "    <tr style=\"text-align: left;\">\n",
       "      <th>epoch</th>\n",
       "      <th>train_loss</th>\n",
       "      <th>valid_loss</th>\n",
       "      <th>accuracy</th>\n",
       "      <th>time</th>\n",
       "    </tr>\n",
       "  </thead>\n",
       "  <tbody>\n",
       "    <tr>\n",
       "      <td>0</td>\n",
       "      <td>0.075454</td>\n",
       "      <td>0.021230</td>\n",
       "      <td>0.995584</td>\n",
       "      <td>00:19</td>\n",
       "    </tr>\n",
       "  </tbody>\n",
       "</table>"
      ],
      "text/plain": [
       "<IPython.core.display.HTML object>"
      ]
     },
     "metadata": {},
     "output_type": "display_data"
    },
    {
     "name": "stderr",
     "output_type": "stream",
     "text": [
      "/home/ltr01/mambaforge/envs/fastai23/lib/python3.11/site-packages/torch/nn/modules/conv.py:459: UserWarning: Applied workaround for CuDNN issue, install nvrtc.so (Triggered internally at /opt/conda/conda-bld/pytorch_1682343995622/work/aten/src/ATen/native/cudnn/Conv_v8.cpp:80.)\n",
      "  return F.conv2d(input, weight, bias, self.stride,\n"
     ]
    }
   ],
   "source": [
    "'''\n",
    "ok, so just to compare we could use the full fastai toolkit   \n",
    "grab out data loaders by using data loaders from folder as we've done before\n",
    "and create a cnn_learner and a resnet and fit it for a single epoch and whoa, 99.7%\n",
    "\n",
    "we did 40 epochs and got 98.3%, as I said, \n",
    "using all the tricks you can really speed things up and make things a lot better\n",
    "so by the end of this course or at least both parts of this course\n",
    "you'll be able to, from scratch, get this 99.7% in a single epoch\n",
    "\n",
    "\n",
    "'''\n",
    "dls = ImageDataLoaders.from_folder(path)\n",
    "learn = vision_learner(dls, resnet18, pretrained=False,\n",
    "                    loss_func=F.cross_entropy, metrics=accuracy)\n",
    "learn.fit_one_cycle(1, 0.1)"
   ]
  },
  {
   "cell_type": "markdown",
   "metadata": {},
   "source": [
    "**Nearly 100% accuracy!**  \n",
    "**That's a big difference compared to our simple neural net.**  \n",
    "But as you'll learn in the remainder of this book,  \n",
    "**there are just a few little tricks you need to use to get such great results from scratch yourself.**  \n",
    "You already know the key foundational pieces.  \n",
    "(Of course, even once you know all the tricks,  \n",
    "**you'll nearly always want to work with the pre-built classes provided by PyTorch and fastai,  \n",
    "because they save you having to think about all the little details yourself.)**"
   ]
  },
  {
   "cell_type": "markdown",
   "metadata": {},
   "source": [
    "## Jargon Recap"
   ]
  },
  {
   "cell_type": "markdown",
   "metadata": {},
   "source": [
    "Congratulations: you now know how to create and train a deep neural network from scratch!  \n",
    "We've gone through quite a few steps to get to this point, **but you might be surprised at how simple it really is.**  \n",
    "\n",
    "Now that we are at this point, it is a good opportunity to define, and review, some jargon and key concepts.  \n",
    "\n",
    "A neural network contains a lot of numbers, but they are only of two types:  \n",
    "numbers that are calculated, and the parameters that these numbers are calculated from.  \n",
    "This gives us the two most important pieces of jargon to learn:\n",
    "\n",
    "- **Activations:: Numbers that are calculated (both by linear and nonlinear layers)**\n",
    "- **Parameters:: Numbers that are randomly initialized, and optimized (that is, the numbers that define the model)**\n",
    "\n",
    "We will often talk in this book about activations and parameters.  \n",
    "Remember that they have very specific meanings.  \n",
    "They are numbers.  \n",
    "They are not abstract concepts, but they are actual specific numbers that are in your model.  \n",
    "**Part of becoming a good deep learning practitioner is getting used to the idea of actually looking at your activations and parameters,**  \n",
    "and plotting them and testing whether they are behaving correctly.\n",
    "\n",
    "**Our activations and parameters are all contained in *tensors*.**  \n",
    "These are simply regularly shaped arrays—for example, a matrix.  \n",
    "Matrices have rows and columns; we call these the *axes* or *dimensions*.  \n",
    "**The number of dimensions of a tensor is its *rank*.**  \n",
    "There are some special tensors:\n",
    "\n",
    "- Rank zero: scalar\n",
    "- Rank one: vector\n",
    "- Rank two: matrix\n",
    "\n",
    "**A neural network contains a number of layers.  \n",
    "Each layer is either *linear* or *nonlinear*.  \n",
    "We generally alternate between these two kinds of layers in a neural network.**  \n",
    "Sometimes people refer to both a linear layer and its subsequent nonlinearity together as a single layer.  \n",
    "Yes, this is confusing.  \n",
    "**Sometimes a nonlinearity is referred to as an *activation function*.**\n",
    "\n",
    "<<dljargon1>> summarizes the key concepts related to SGD.\n",
    "\n",
    "```asciidoc\n",
    "[[dljargon1]]\n",
    ".Deep learning vocabulary\n",
    "[options=\"header\"]\n",
    "|=====\n",
    "|Term | Meaning\n",
    "|ReLU | Function that returns 0 for negative numbers and doesn't change positive numbers.\n",
    "|Mini-batch | A small group of inputs and labels gathered together in two arrays. A gradient descent step is updated on this batch (rather than a whole epoch).\n",
    "|Forward pass | Applying the model to some input and computing the predictions.\n",
    "|Loss | A value that represents how well (or badly) our model is doing.\n",
    "|Gradient | The derivative of the loss with respect to some parameter of the model.\n",
    "|Backward pass | Computing the gradients of the loss with respect to all model parameters.\n",
    "|Gradient descent | Taking a step in the directions opposite to the gradients to make the model parameters a little bit better.\n",
    "|Learning rate | The size of the step we take when applying SGD to update the parameters of the model.\n",
    "|=====\n",
    "```"
   ]
  },
  {
   "cell_type": "code",
   "execution_count": null,
   "metadata": {},
   "outputs": [],
   "source": [
    "'''\n",
    "relu: function that returns 0 for negatives\n",
    "mini-batch: a few inputs and labels, which optionally are randomnly selected \n",
    "forward pass: is the bit where we calculate the predictions\n",
    "loss: the function that we're going to take the derivative of \n",
    "gradient: the derivative of the loss with respect to each parameter\n",
    "backward pass: is when we calculate those gradients\n",
    "gradient descent: full thing of taking a step in the direction opposite to the gradients after calculating the loss\n",
    "learning rate: the size of the step that we take\n",
    "\n",
    "other things to know: perhaps the 2 most important pieces of jargon are:\n",
    "    parameters = the numbers that we're learning \n",
    "    activations = the numbers that we're calculating, so every relu that's calculated, every matrix multiplication element that's calculated\n",
    "    \n",
    "so activations and parameters are all of the numbers that are in a neural network\n",
    "so be careful when I say from here on in these lessons activations or parameters you make sure you know what those mean\n",
    "because that's the entire set of numbers that exist inside a neural network \n",
    "so activations are calculated, parameters are learned\n",
    "\n",
    "we're doing this stuff with tensors, which are regularly shapped arrays\n",
    "rank zero we call scalar, rank 1 vector, rank 2 matrix \n",
    "rank 5 tensors are very common in deep learning \n",
    "\n",
    "non linearity to choose: relu, leaky relu\n",
    "some are taking longer and are more accurate, some are faster and a bit less accurate\n",
    "\n",
    "\n",
    "'''"
   ]
  },
  {
   "cell_type": "markdown",
   "metadata": {},
   "source": [
    "> note: _Choose Your Own Adventure_ Reminder:  \n",
    "> Did you choose to skip over chapters 2 & 3, in your excitement to peek under the hood?  \n",
    "> **Well, here's your reminder to head back to chapter 2 now, because you'll be needing to know that stuff very soon!**  "
   ]
  },
  {
   "cell_type": "markdown",
   "metadata": {},
   "source": [
    "## Questionnaire"
   ]
  },
  {
   "cell_type": "markdown",
   "metadata": {},
   "source": [
    "1. How is a grayscale image represented on a computer? How about a color image?\n",
    "1. How are the files and folders in the `MNIST_SAMPLE` dataset structured? Why?\n",
    "1. Explain how the \"pixel similarity\" approach to classifying digits works.\n",
    "1. What is a list comprehension? Create one now that selects odd numbers from a list and doubles them.\n",
    "1. What is a \"rank-3 tensor\"?\n",
    "1. What is the difference between tensor rank and shape? How do you get the rank from the shape?\n",
    "1. What are RMSE and L1 norm?\n",
    "1. How can you apply a calculation on thousands of numbers at once, many thousands of times faster than a Python loop?\n",
    "1. Create a 3×3 tensor or array containing the numbers from 1 to 9. Double it. Select the bottom-right four numbers.\n",
    "1. What is broadcasting?\n",
    "1. Are metrics generally calculated using the training set, or the validation set? Why?\n",
    "1. What is SGD?\n",
    "1. Why does SGD use mini-batches?\n",
    "1. What are the seven steps in SGD for machine learning?\n",
    "1. How do we initialize the weights in a model?\n",
    "1. What is \"loss\"?\n",
    "1. Why can't we always use a high learning rate?\n",
    "1. What is a \"gradient\"?\n",
    "1. Do you need to know how to calculate gradients yourself?\n",
    "1. Why can't we use accuracy as a loss function?\n",
    "1. Draw the sigmoid function. What is special about its shape?\n",
    "1. What is the difference between a loss function and a metric?\n",
    "1. What is the function to calculate new weights using a learning rate?\n",
    "1. What does the `DataLoader` class do?\n",
    "1. Write pseudocode showing the basic steps taken in each epoch for SGD.\n",
    "1. Create a function that, if passed two arguments `[1,2,3,4]` and `'abcd'`, returns `[(1, 'a'), (2, 'b'), (3, 'c'), (4, 'd')]`. What is special about that output data structure?\n",
    "1. What does `view` do in PyTorch?\n",
    "1. What are the \"bias\" parameters in a neural network? Why do we need them?\n",
    "1. What does the `@` operator do in Python?\n",
    "1. What does the `backward` method do?\n",
    "1. Why do we have to zero the gradients?\n",
    "1. What information do we have to pass to `Learner`?\n",
    "1. Show Python or pseudocode for the basic steps of a training loop.\n",
    "1. What is \"ReLU\"? Draw a plot of it for values from `-2` to `+2`.\n",
    "1. What is an \"activation function\"?\n",
    "1. What's the difference between `F.relu` and `nn.ReLU`?\n",
    "1. The universal approximation theorem shows that any function can be approximated as closely as needed using just one nonlinearity.  \n",
    "   So why do we normally use more?"
   ]
  },
  {
   "cell_type": "markdown",
   "metadata": {},
   "source": [
    "### Further Research"
   ]
  },
  {
   "cell_type": "markdown",
   "metadata": {},
   "source": [
    "1. Create your own implementation of `Learner` from scratch, based on the training loop shown in this chapter.\n",
    "1. Complete all the steps in this chapter using the full MNIST datasets (that is, for all digits, not just 3s and 7s).  \n",
    "   This is a significant project and will take you quite a bit of time to complete!  \n",
    "   You'll need to do some of your own research to figure out how to overcome some obstacles you'll meet on the way.  "
   ]
  },
  {
   "cell_type": "code",
   "execution_count": null,
   "metadata": {},
   "outputs": [],
   "source": [
    "'''\n",
    "2020 1h:10min \n",
    "now you know how to create and train a neural net\n",
    "let's cycle back and look deeper at some applications\n",
    "so we're going to try to interpolate in \n",
    "from one end we've done they're kind of from scratch version\n",
    "at the other end we've done the kind of 4 lines of code version\n",
    "and we'll gradually nibble at each end until we find ourselved in the middle and we've touched on all of it\n",
    "so let's go back up to the kind of the 4 lines of code version and delve a little deeper\n",
    "this is chapter 5\n",
    "\n",
    "\n",
    "'''"
   ]
  }
 ],
 "metadata": {
  "jupytext": {
   "split_at_heading": true
  },
  "kernelspec": {
   "display_name": "fastai23",
   "language": "python",
   "name": "fastai23"
  },
  "language_info": {
   "codemirror_mode": {
    "name": "ipython",
    "version": 3
   },
   "file_extension": ".py",
   "mimetype": "text/x-python",
   "name": "python",
   "nbconvert_exporter": "python",
   "pygments_lexer": "ipython3",
   "version": "3.11.5"
  },
  "widgets": {
   "application/vnd.jupyter.widget-state+json": {
    "state": {},
    "version_major": 2,
    "version_minor": 0
   }
  }
 },
 "nbformat": 4,
 "nbformat_minor": 4
}
