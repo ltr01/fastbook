{
 "cells": [
  {
   "cell_type": "markdown",
   "id": "2d0d945c-cb53-4ff5-8fa3-81ef81d09212",
   "metadata": {},
   "source": [
    "me: self is a way to intialize the data members without declaring them separately like in c++\n",
    "\n",
    "https://www.w3schools.com/python/gloss_python_self.asp  \n",
    "The self parameter is a reference to the current instance of the class, and is used to access variables that belongs to the class.\n",
    "\n",
    "https://www.codecademy.com/forum_questions/558cd3fc76b8fe06280002ce  \n",
    "A blueprint for a house design is like a class description.  \n",
    "All the houses built from that blueprint are objects of that class.  \n",
    "A given house is an instance.  \n",
    "\n",
    "https://www.geeksforgeeks.org/args-kwargs-python/\n",
    "The special syntax *args in function definitions in Python is used to pass a variable number of arguments to a function. It is used to pass a non-keyworded, variable-length argument list. \n"
   ]
  },
  {
   "cell_type": "markdown",
   "id": "6fe9b650-787a-4db5-9a82-38a7771ab15a",
   "metadata": {},
   "source": [
    "https://www.geeksforgeeks.org/args-kwargs-python/"
   ]
  },
  {
   "cell_type": "code",
   "execution_count": 2,
   "id": "5dc36bdb-9d1a-4dac-a6d2-6f1a253d3731",
   "metadata": {
    "execution": {
     "iopub.execute_input": "2023-11-24T13:48:00.566493Z",
     "iopub.status.busy": "2023-11-24T13:48:00.566086Z",
     "iopub.status.idle": "2023-11-24T13:48:00.572404Z",
     "shell.execute_reply": "2023-11-24T13:48:00.570960Z",
     "shell.execute_reply.started": "2023-11-24T13:48:00.566457Z"
    }
   },
   "outputs": [],
   "source": [
    "def myFun(**kwargs):\n",
    "    for key, value in kwargs.items():\n",
    "        print(\"%s == %s\" % (key, value))"
   ]
  },
  {
   "cell_type": "code",
   "execution_count": 3,
   "id": "b819aa27-f9d4-4dbe-864f-349799096c0d",
   "metadata": {
    "execution": {
     "iopub.execute_input": "2023-11-24T13:48:03.920987Z",
     "iopub.status.busy": "2023-11-24T13:48:03.920345Z",
     "iopub.status.idle": "2023-11-24T13:48:03.931415Z",
     "shell.execute_reply": "2023-11-24T13:48:03.929855Z",
     "shell.execute_reply.started": "2023-11-24T13:48:03.920924Z"
    }
   },
   "outputs": [
    {
     "name": "stdout",
     "output_type": "stream",
     "text": [
      "first == Geeks\n",
      "mid == for\n",
      "last == Geeks\n"
     ]
    }
   ],
   "source": [
    "# Driver code\n",
    "myFun(first='Geeks', mid='for', last='Geeks')"
   ]
  },
  {
   "cell_type": "markdown",
   "id": "8206ea4b-221e-4c37-8124-fc97c532e3e6",
   "metadata": {},
   "source": [
    "https://realpython.com/python-kwargs-and-args/"
   ]
  },
  {
   "cell_type": "code",
   "execution_count": 4,
   "id": "b17b0411-b495-48dd-bcca-8007ac8abf20",
   "metadata": {
    "execution": {
     "iopub.execute_input": "2023-11-24T14:17:56.792315Z",
     "iopub.status.busy": "2023-11-24T14:17:56.792025Z",
     "iopub.status.idle": "2023-11-24T14:17:56.796777Z",
     "shell.execute_reply": "2023-11-24T14:17:56.795920Z",
     "shell.execute_reply.started": "2023-11-24T14:17:56.792288Z"
    }
   },
   "outputs": [],
   "source": [
    "def concatenate(**kwargs):\n",
    "    result = \"\"\n",
    "    # Iterating over the Python kwargs dictionary\n",
    "    for arg in kwargs.values():\n",
    "        result += arg\n",
    "    return result"
   ]
  },
  {
   "cell_type": "code",
   "execution_count": 5,
   "id": "f3aacba3-1758-49bf-87a2-a5a0e309bc99",
   "metadata": {
    "execution": {
     "iopub.execute_input": "2023-11-24T14:17:58.902481Z",
     "iopub.status.busy": "2023-11-24T14:17:58.901827Z",
     "iopub.status.idle": "2023-11-24T14:17:58.913272Z",
     "shell.execute_reply": "2023-11-24T14:17:58.910440Z",
     "shell.execute_reply.started": "2023-11-24T14:17:58.902418Z"
    }
   },
   "outputs": [
    {
     "name": "stdout",
     "output_type": "stream",
     "text": [
      "RealPythonIsGreat!\n"
     ]
    }
   ],
   "source": [
    "print(concatenate(a=\"Real\", b=\"Python\", c=\"Is\", d=\"Great\", e=\"!\"))"
   ]
  },
  {
   "cell_type": "code",
   "execution_count": 6,
   "id": "e5526c40-df90-4350-8343-8f37ffe1279f",
   "metadata": {
    "execution": {
     "iopub.execute_input": "2023-11-24T14:18:17.247448Z",
     "iopub.status.busy": "2023-11-24T14:18:17.246766Z",
     "iopub.status.idle": "2023-11-24T14:18:17.258212Z",
     "shell.execute_reply": "2023-11-24T14:18:17.256220Z",
     "shell.execute_reply.started": "2023-11-24T14:18:17.247384Z"
    }
   },
   "outputs": [],
   "source": [
    "def concatenate(**kwargs):\n",
    "    result = \"\"\n",
    "    # Iterating over the Python kwargs dictionary\n",
    "    for arg in kwargs.keys():\n",
    "        result += arg\n",
    "    return result"
   ]
  },
  {
   "cell_type": "code",
   "execution_count": 7,
   "id": "fb270987-6b92-4789-9233-d9012fa72afa",
   "metadata": {
    "execution": {
     "iopub.execute_input": "2023-11-24T14:18:21.598750Z",
     "iopub.status.busy": "2023-11-24T14:18:21.598047Z",
     "iopub.status.idle": "2023-11-24T14:18:21.608101Z",
     "shell.execute_reply": "2023-11-24T14:18:21.606533Z",
     "shell.execute_reply.started": "2023-11-24T14:18:21.598688Z"
    }
   },
   "outputs": [
    {
     "name": "stdout",
     "output_type": "stream",
     "text": [
      "abcde\n"
     ]
    }
   ],
   "source": [
    "print(concatenate(a=\"Real\", b=\"Python\", c=\"Is\", d=\"Great\", e=\"!\"))"
   ]
  },
  {
   "cell_type": "code",
   "execution_count": 8,
   "id": "6d30a335-25ad-4e72-ab7a-164dbf407fa0",
   "metadata": {
    "execution": {
     "iopub.execute_input": "2023-11-24T14:18:52.415609Z",
     "iopub.status.busy": "2023-11-24T14:18:52.415390Z",
     "iopub.status.idle": "2023-11-24T14:18:52.418904Z",
     "shell.execute_reply": "2023-11-24T14:18:52.418172Z",
     "shell.execute_reply.started": "2023-11-24T14:18:52.415593Z"
    }
   },
   "outputs": [],
   "source": [
    "def concatenate(**kwargs):\n",
    "    result = \"\"\n",
    "    # Iterating over the Python kwargs dictionary\n",
    "    for arg in kwargs:  # concatenates keys like above\n",
    "        result += arg\n",
    "    return result"
   ]
  },
  {
   "cell_type": "code",
   "execution_count": 9,
   "id": "d5716fc7-f14e-4260-99c8-cc32e8c5f4f8",
   "metadata": {
    "execution": {
     "iopub.execute_input": "2023-11-24T14:18:56.666269Z",
     "iopub.status.busy": "2023-11-24T14:18:56.666029Z",
     "iopub.status.idle": "2023-11-24T14:18:56.669834Z",
     "shell.execute_reply": "2023-11-24T14:18:56.669243Z",
     "shell.execute_reply.started": "2023-11-24T14:18:56.666253Z"
    }
   },
   "outputs": [
    {
     "name": "stdout",
     "output_type": "stream",
     "text": [
      "abcde\n"
     ]
    }
   ],
   "source": [
    "print(concatenate(a=\"Real\", b=\"Python\", c=\"Is\", d=\"Great\", e=\"!\"))"
   ]
  },
  {
   "cell_type": "code",
   "execution_count": null,
   "id": "a2c0aa44-ea2b-4d1a-b548-4ff70f9049fa",
   "metadata": {},
   "outputs": [],
   "source": [
    "https://www.scaler.com/topics/python/args-and-kwargs-in-python/"
   ]
  },
  {
   "cell_type": "code",
   "execution_count": null,
   "id": "a87fa814-0412-4aaa-a150-caa467a3bfd4",
   "metadata": {},
   "outputs": [],
   "source": [
    "https://www.programiz.com/python-programming/args-and-kwargs"
   ]
  }
 ],
 "metadata": {
  "kernelspec": {
   "display_name": "fastai23",
   "language": "python",
   "name": "fastai23"
  },
  "language_info": {
   "codemirror_mode": {
    "name": "ipython",
    "version": 3
   },
   "file_extension": ".py",
   "mimetype": "text/x-python",
   "name": "python",
   "nbconvert_exporter": "python",
   "pygments_lexer": "ipython3",
   "version": "3.11.5"
  },
  "widgets": {
   "application/vnd.jupyter.widget-state+json": {
    "state": {},
    "version_major": 2,
    "version_minor": 0
   }
  }
 },
 "nbformat": 4,
 "nbformat_minor": 5
}
