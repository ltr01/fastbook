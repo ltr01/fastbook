{
 "cells": [
  {
   "cell_type": "code",
   "execution_count": 1,
   "id": "71299eaa-0cc2-4405-9dca-34c150e0d13a",
   "metadata": {
    "execution": {
     "iopub.execute_input": "2023-11-10T14:01:56.367784Z",
     "iopub.status.busy": "2023-11-10T14:01:56.367422Z",
     "iopub.status.idle": "2023-11-10T14:01:56.763749Z",
     "shell.execute_reply": "2023-11-10T14:01:56.761805Z",
     "shell.execute_reply.started": "2023-11-10T14:01:56.367749Z"
    }
   },
   "outputs": [],
   "source": [
    "import numpy as np"
   ]
  },
  {
   "cell_type": "markdown",
   "id": "de6d723e-76f4-491c-bac3-747ed1ad4086",
   "metadata": {},
   "source": [
    "https://www.freecodecamp.org/news/multi-dimensional-arrays-in-python/"
   ]
  },
  {
   "cell_type": "code",
   "execution_count": 5,
   "id": "9ec4bb11-2b1d-44b7-95a6-655a15389dc2",
   "metadata": {
    "execution": {
     "iopub.execute_input": "2023-11-10T14:16:12.091189Z",
     "iopub.status.busy": "2023-11-10T14:16:12.090943Z",
     "iopub.status.idle": "2023-11-10T14:16:12.095860Z",
     "shell.execute_reply": "2023-11-10T14:16:12.095323Z",
     "shell.execute_reply.started": "2023-11-10T14:16:12.091172Z"
    }
   },
   "outputs": [
    {
     "data": {
      "text/plain": [
       "(array([[ 1,  2,  3,  4],\n",
       "        [ 5,  6,  7,  8],\n",
       "        [ 9, 10, 11, 12]]),\n",
       " (3, 4))"
      ]
     },
     "execution_count": 5,
     "metadata": {},
     "output_type": "execute_result"
    }
   ],
   "source": [
    "# Create a 2-dimensional array with 3 rows and 4 columns\n",
    "# pass in a list of lists as an argument\n",
    "# each inner list represents a row of the array\n",
    "# and the outer list contains all the rows\n",
    "\n",
    "arr = np.array([[1, 2, 3, 4], [5, 6, 7, 8], [9, 10, 11, 12]])\n",
    "arr, arr.shape\n"
   ]
  },
  {
   "cell_type": "code",
   "execution_count": 3,
   "id": "384c28a2-37c4-4096-b7d4-d13dafea0293",
   "metadata": {
    "execution": {
     "iopub.execute_input": "2023-11-10T14:01:58.406867Z",
     "iopub.status.busy": "2023-11-10T14:01:58.406591Z",
     "iopub.status.idle": "2023-11-10T14:01:58.411199Z",
     "shell.execute_reply": "2023-11-10T14:01:58.410547Z",
     "shell.execute_reply.started": "2023-11-10T14:01:58.406850Z"
    }
   },
   "outputs": [
    {
     "data": {
      "text/plain": [
       "array([[ 1,  2,  3, 20],\n",
       "       [ 5,  6,  7,  8],\n",
       "       [ 9, 10, 11, 12]])"
      ]
     },
     "execution_count": 3,
     "metadata": {},
     "output_type": "execute_result"
    }
   ],
   "source": [
    "# Modify an element at row 0, column 3\n",
    "arr[0, 3] = 20\n",
    "arr"
   ]
  },
  {
   "cell_type": "code",
   "execution_count": 10,
   "id": "7de932e2-45b4-4b00-81c2-4f1c5a997f0d",
   "metadata": {
    "execution": {
     "iopub.execute_input": "2023-11-10T14:26:26.979849Z",
     "iopub.status.busy": "2023-11-10T14:26:26.979625Z",
     "iopub.status.idle": "2023-11-10T14:26:26.985649Z",
     "shell.execute_reply": "2023-11-10T14:26:26.985033Z",
     "shell.execute_reply.started": "2023-11-10T14:26:26.979833Z"
    }
   },
   "outputs": [
    {
     "data": {
      "text/plain": [
       "(array([[[ 1,  2,  3,  4],\n",
       "         [ 5,  6,  7,  8],\n",
       "         [ 9, 10, 11, 12]]]),\n",
       " (1, 3, 4))"
      ]
     },
     "execution_count": 10,
     "metadata": {},
     "output_type": "execute_result"
    }
   ],
   "source": [
    "arr2 = np.array([[[1, 2, 3, 4], [5, 6, 7, 8], [9, 10, 11, 12]]])  # 3 dims\n",
    "arr2, arr2.shape"
   ]
  },
  {
   "cell_type": "markdown",
   "id": "fafd00ad-c913-4918-bcbb-a50d79b6ea48",
   "metadata": {},
   "source": [
    "Axes are defined for arrays with more than one dimension.  \n",
    "A 2-dimensional array has two corresponding axes:  \n",
    "the first running vertically downwards across rows (axis 0),   \n",
    "and the second running horizontally across columns (axis 1).  \n"
   ]
  },
  {
   "cell_type": "code",
   "execution_count": 21,
   "id": "a6dd3903-bf8c-4f2d-b143-282420222220",
   "metadata": {
    "execution": {
     "iopub.execute_input": "2023-11-10T14:55:09.993124Z",
     "iopub.status.busy": "2023-11-10T14:55:09.992883Z",
     "iopub.status.idle": "2023-11-10T14:55:09.997726Z",
     "shell.execute_reply": "2023-11-10T14:55:09.997207Z",
     "shell.execute_reply.started": "2023-11-10T14:55:09.993108Z"
    }
   },
   "outputs": [
    {
     "data": {
      "text/plain": [
       "array([[ 1,  2,  3,  4],\n",
       "       [ 5,  6,  7,  8],\n",
       "       [ 9, 10, 11, 12]])"
      ]
     },
     "execution_count": 21,
     "metadata": {},
     "output_type": "execute_result"
    }
   ],
   "source": [
    "arr = np.array([[1, 2, 3, 4], [5, 6, 7, 8], [9, 10, 11, 12]])  # calculate the mean of each row\n",
    "arr"
   ]
  },
  {
   "cell_type": "code",
   "execution_count": 22,
   "id": "0980e878-70d2-4e85-b672-97bf75b7d089",
   "metadata": {
    "execution": {
     "iopub.execute_input": "2023-11-10T14:56:11.010495Z",
     "iopub.status.busy": "2023-11-10T14:56:11.010238Z",
     "iopub.status.idle": "2023-11-10T14:56:11.015888Z",
     "shell.execute_reply": "2023-11-10T14:56:11.015397Z",
     "shell.execute_reply.started": "2023-11-10T14:56:11.010478Z"
    }
   },
   "outputs": [
    {
     "data": {
      "text/plain": [
       "array([15, 18, 21, 24])"
      ]
     },
     "execution_count": 22,
     "metadata": {},
     "output_type": "execute_result"
    }
   ],
   "source": [
    "arrm = np.sum(arr, axis=0)  # there are 4 verticals\n",
    "arrm"
   ]
  },
  {
   "cell_type": "code",
   "execution_count": 23,
   "id": "1febbcc8-700e-4cc3-9392-81657bf10d38",
   "metadata": {
    "execution": {
     "iopub.execute_input": "2023-11-10T14:56:31.327037Z",
     "iopub.status.busy": "2023-11-10T14:56:31.326508Z",
     "iopub.status.idle": "2023-11-10T14:56:31.334134Z",
     "shell.execute_reply": "2023-11-10T14:56:31.333259Z",
     "shell.execute_reply.started": "2023-11-10T14:56:31.326991Z"
    }
   },
   "outputs": [
    {
     "data": {
      "text/plain": [
       "array([10, 26, 42])"
      ]
     },
     "execution_count": 23,
     "metadata": {},
     "output_type": "execute_result"
    }
   ],
   "source": [
    "arrm2 = np.sum(arr, axis=1)  # there are 3 horizontals\n",
    "arrm2"
   ]
  },
  {
   "cell_type": "markdown",
   "id": "f1e1e3e6-de8e-4702-b58f-643a472023c0",
   "metadata": {},
   "source": [
    "https://towardsdatascience.com/a-visual-guide-to-multidimensional-numpy-array-aggregation-97a8960b3c59"
   ]
  },
  {
   "cell_type": "code",
   "execution_count": 35,
   "id": "6d166417-1dd4-4ebc-9bfd-620043ab1fdd",
   "metadata": {
    "execution": {
     "iopub.execute_input": "2023-11-10T15:26:56.335370Z",
     "iopub.status.busy": "2023-11-10T15:26:56.335183Z",
     "iopub.status.idle": "2023-11-10T15:26:56.339781Z",
     "shell.execute_reply": "2023-11-10T15:26:56.339148Z",
     "shell.execute_reply.started": "2023-11-10T15:26:56.335352Z"
    }
   },
   "outputs": [
    {
     "data": {
      "text/plain": [
       "(array([[[1, 2],\n",
       "         [3, 4]],\n",
       " \n",
       "        [[5, 6],\n",
       "         [7, 8]]]),\n",
       " (2, 2, 2))"
      ]
     },
     "execution_count": 35,
     "metadata": {},
     "output_type": "execute_result"
    }
   ],
   "source": [
    "c = np.array([[[1,2],[3,4]],[[5,6],[7,8]]])  # 3 dimensional array\n",
    "c, c.shape"
   ]
  },
  {
   "cell_type": "code",
   "execution_count": 38,
   "id": "21777af0-6010-4c44-9340-4a9219b45c95",
   "metadata": {
    "execution": {
     "iopub.execute_input": "2023-11-10T15:38:16.542896Z",
     "iopub.status.busy": "2023-11-10T15:38:16.542601Z",
     "iopub.status.idle": "2023-11-10T15:38:16.548565Z",
     "shell.execute_reply": "2023-11-10T15:38:16.547843Z",
     "shell.execute_reply.started": "2023-11-10T15:38:16.542870Z"
    }
   },
   "outputs": [
    {
     "data": {
      "text/plain": [
       "(array([[ 6,  8],\n",
       "        [10, 12]]),\n",
       " (2, 2))"
      ]
     },
     "execution_count": 38,
     "metadata": {},
     "output_type": "execute_result"
    }
   ],
   "source": [
    "s1 = np.sum(c, axis=0)  # axis 0 is the newest added dimension\n",
    "s1, s1.shape"
   ]
  },
  {
   "cell_type": "code",
   "execution_count": 36,
   "id": "49d41bda-3db2-4fba-9e4f-9ed50d541b5b",
   "metadata": {
    "execution": {
     "iopub.execute_input": "2023-11-10T15:27:23.706030Z",
     "iopub.status.busy": "2023-11-10T15:27:23.705816Z",
     "iopub.status.idle": "2023-11-10T15:27:23.710239Z",
     "shell.execute_reply": "2023-11-10T15:27:23.709701Z",
     "shell.execute_reply.started": "2023-11-10T15:27:23.706014Z"
    }
   },
   "outputs": [
    {
     "data": {
      "text/plain": [
       "(array([[ 4,  6],\n",
       "        [12, 14]]),\n",
       " (2, 2))"
      ]
     },
     "execution_count": 36,
     "metadata": {},
     "output_type": "execute_result"
    }
   ],
   "source": [
    "s2 = np.sum(c, axis=1)  # collapse both 2 dim arrays along the vertical axes\n",
    "s2, s2.shape"
   ]
  },
  {
   "cell_type": "code",
   "execution_count": 37,
   "id": "09950dea-28a8-465c-a88c-69c317d187b8",
   "metadata": {
    "execution": {
     "iopub.execute_input": "2023-11-10T15:27:51.850922Z",
     "iopub.status.busy": "2023-11-10T15:27:51.850702Z",
     "iopub.status.idle": "2023-11-10T15:27:51.855408Z",
     "shell.execute_reply": "2023-11-10T15:27:51.854665Z",
     "shell.execute_reply.started": "2023-11-10T15:27:51.850907Z"
    }
   },
   "outputs": [
    {
     "data": {
      "text/plain": [
       "(array([[ 3,  7],\n",
       "        [11, 15]]),\n",
       " (2, 2))"
      ]
     },
     "execution_count": 37,
     "metadata": {},
     "output_type": "execute_result"
    }
   ],
   "source": [
    "s3 = np.sum(c, axis=2)\n",
    "s3, s3.shape"
   ]
  },
  {
   "cell_type": "code",
   "execution_count": null,
   "id": "c75ce486-b737-4c15-9935-1ad38f065a3d",
   "metadata": {},
   "outputs": [],
   "source": []
  }
 ],
 "metadata": {
  "kernelspec": {
   "display_name": "fastai23",
   "language": "python",
   "name": "fastai23"
  },
  "language_info": {
   "codemirror_mode": {
    "name": "ipython",
    "version": 3
   },
   "file_extension": ".py",
   "mimetype": "text/x-python",
   "name": "python",
   "nbconvert_exporter": "python",
   "pygments_lexer": "ipython3",
   "version": "3.11.5"
  }
 },
 "nbformat": 4,
 "nbformat_minor": 5
}
