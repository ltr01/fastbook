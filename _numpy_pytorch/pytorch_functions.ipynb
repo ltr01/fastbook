{
 "cells": [
  {
   "cell_type": "code",
   "execution_count": 2,
   "id": "fd002057-fd13-4198-989f-7f6623a4478c",
   "metadata": {
    "execution": {
     "iopub.execute_input": "2023-11-21T13:15:16.130037Z",
     "iopub.status.busy": "2023-11-21T13:15:16.129790Z",
     "iopub.status.idle": "2023-11-21T13:15:18.728619Z",
     "shell.execute_reply": "2023-11-21T13:15:18.727913Z",
     "shell.execute_reply.started": "2023-11-21T13:15:16.130019Z"
    }
   },
   "outputs": [],
   "source": [
    "#hide\n",
    "! [ -e /content ] && pip install -Uqq fastbook  \n",
    "# see if there's a directory called /content (no ,there isn't\n",
    "# this exist for colab, colab uses pip, and uses an older version of fastai\n",
    "import fastbook\n",
    "fastbook.setup_book()"
   ]
  },
  {
   "cell_type": "code",
   "execution_count": 3,
   "id": "9f16cc18-9af7-4b4e-8b3e-0bc2bd81e558",
   "metadata": {
    "execution": {
     "iopub.execute_input": "2023-11-21T13:15:18.730002Z",
     "iopub.status.busy": "2023-11-21T13:15:18.729728Z",
     "iopub.status.idle": "2023-11-21T13:15:18.733955Z",
     "shell.execute_reply": "2023-11-21T13:15:18.733316Z",
     "shell.execute_reply.started": "2023-11-21T13:15:18.729987Z"
    }
   },
   "outputs": [],
   "source": [
    "#hide\n",
    "from fastai.vision.all import *\n",
    "from fastbook import *"
   ]
  },
  {
   "cell_type": "markdown",
   "id": "3201775f-7dfb-4074-9adb-d183f828f382",
   "metadata": {},
   "source": [
    "### torch cat - https://pytorch.org/docs/stable/generated/torch.cat.html"
   ]
  },
  {
   "cell_type": "code",
   "execution_count": 15,
   "id": "5785c4dd-6634-4dce-85e8-55fd10532610",
   "metadata": {
    "execution": {
     "iopub.execute_input": "2023-11-10T16:05:48.046156Z",
     "iopub.status.busy": "2023-11-10T16:05:48.045967Z",
     "iopub.status.idle": "2023-11-10T16:05:48.079351Z",
     "shell.execute_reply": "2023-11-10T16:05:48.078321Z",
     "shell.execute_reply.started": "2023-11-10T16:05:48.046137Z"
    }
   },
   "outputs": [
    {
     "data": {
      "text/plain": [
       "tensor([[ 0.3367,  0.1288,  0.2345],\n",
       "        [ 0.2303, -1.1229, -0.1863]])"
      ]
     },
     "execution_count": 15,
     "metadata": {},
     "output_type": "execute_result"
    }
   ],
   "source": [
    "x = torch.randn(2, 3)\n",
    "x"
   ]
  },
  {
   "cell_type": "code",
   "execution_count": 40,
   "id": "8107b019-aa13-4e59-a37f-417dec5446cf",
   "metadata": {
    "execution": {
     "iopub.execute_input": "2023-11-09T13:16:56.438532Z",
     "iopub.status.busy": "2023-11-09T13:16:56.438278Z",
     "iopub.status.idle": "2023-11-09T13:16:56.443549Z",
     "shell.execute_reply": "2023-11-09T13:16:56.442963Z",
     "shell.execute_reply.started": "2023-11-09T13:16:56.438516Z"
    }
   },
   "outputs": [
    {
     "data": {
      "text/plain": [
       "tensor([[-0.3417,  0.3040, -0.6890],\n",
       "        [-1.1267, -0.2858, -1.0935],\n",
       "        [-0.3417,  0.3040, -0.6890],\n",
       "        [-1.1267, -0.2858, -1.0935]])"
      ]
     },
     "execution_count": 40,
     "metadata": {},
     "output_type": "execute_result"
    }
   ],
   "source": [
    "torch.cat((x, x), 0)  # 0 axis is vertical, so it's stacks one over the other"
   ]
  },
  {
   "cell_type": "code",
   "execution_count": 41,
   "id": "be74db7f-f6df-4627-b1da-e2f04d7c4c85",
   "metadata": {
    "execution": {
     "iopub.execute_input": "2023-11-09T13:17:03.924871Z",
     "iopub.status.busy": "2023-11-09T13:17:03.924665Z",
     "iopub.status.idle": "2023-11-09T13:17:03.929349Z",
     "shell.execute_reply": "2023-11-09T13:17:03.928886Z",
     "shell.execute_reply.started": "2023-11-09T13:17:03.924853Z"
    }
   },
   "outputs": [
    {
     "data": {
      "text/plain": [
       "tensor([[-0.3417,  0.3040, -0.6890],\n",
       "        [-1.1267, -0.2858, -1.0935],\n",
       "        [-0.3417,  0.3040, -0.6890],\n",
       "        [-1.1267, -0.2858, -1.0935]])"
      ]
     },
     "execution_count": 41,
     "metadata": {},
     "output_type": "execute_result"
    }
   ],
   "source": [
    "torch.cat((x, x))  # default as 0"
   ]
  },
  {
   "cell_type": "code",
   "execution_count": 16,
   "id": "e670eb7e-383d-4f85-bda1-16fad82a2ad5",
   "metadata": {
    "execution": {
     "iopub.execute_input": "2023-11-10T16:05:51.352264Z",
     "iopub.status.busy": "2023-11-10T16:05:51.351954Z",
     "iopub.status.idle": "2023-11-10T16:05:51.357905Z",
     "shell.execute_reply": "2023-11-10T16:05:51.357322Z",
     "shell.execute_reply.started": "2023-11-10T16:05:51.352247Z"
    }
   },
   "outputs": [
    {
     "data": {
      "text/plain": [
       "tensor([[ 0.3367,  0.1288,  0.2345,  0.3367,  0.1288,  0.2345],\n",
       "        [ 0.2303, -1.1229, -0.1863,  0.2303, -1.1229, -0.1863]])"
      ]
     },
     "execution_count": 16,
     "metadata": {},
     "output_type": "execute_result"
    }
   ],
   "source": [
    "torch.cat((x, x), 1)  # and 1 as horizontal"
   ]
  },
  {
   "cell_type": "code",
   "execution_count": 17,
   "id": "85bc8e84-57f4-48ab-b565-64126db60c63",
   "metadata": {
    "execution": {
     "iopub.execute_input": "2023-11-10T16:05:52.425734Z",
     "iopub.status.busy": "2023-11-10T16:05:52.425012Z",
     "iopub.status.idle": "2023-11-10T16:05:52.432753Z",
     "shell.execute_reply": "2023-11-10T16:05:52.432072Z",
     "shell.execute_reply.started": "2023-11-10T16:05:52.425669Z"
    }
   },
   "outputs": [
    {
     "data": {
      "text/plain": [
       "tensor([[ 0.3367,  0.1288,  0.2345,  0.3367,  0.1288,  0.2345],\n",
       "        [ 0.2303, -1.1229, -0.1863,  0.2303, -1.1229, -0.1863]])"
      ]
     },
     "execution_count": 17,
     "metadata": {},
     "output_type": "execute_result"
    }
   ],
   "source": [
    "torch.cat((x, x), -1)  # -1 is the same as 1; is the last axis"
   ]
  },
  {
   "cell_type": "markdown",
   "id": "1fcfa8a6-8608-41ce-af21-a45f67e36a17",
   "metadata": {
    "execution": {
     "iopub.execute_input": "2023-11-09T13:03:06.330347Z",
     "iopub.status.busy": "2023-11-09T13:03:06.329656Z",
     "iopub.status.idle": "2023-11-09T13:03:06.340994Z",
     "shell.execute_reply": "2023-11-09T13:03:06.337255Z",
     "shell.execute_reply.started": "2023-11-09T13:03:06.330282Z"
    }
   },
   "source": [
    "### torch view - https://pytorch.org/docs/stable/generated/torch.Tensor.view.html"
   ]
  },
  {
   "cell_type": "code",
   "execution_count": 46,
   "id": "3c31be9c-6aba-45d7-8bf4-3a51bd018afb",
   "metadata": {
    "execution": {
     "iopub.execute_input": "2023-11-09T13:18:04.675457Z",
     "iopub.status.busy": "2023-11-09T13:18:04.675203Z",
     "iopub.status.idle": "2023-11-09T13:18:04.680636Z",
     "shell.execute_reply": "2023-11-09T13:18:04.680153Z",
     "shell.execute_reply.started": "2023-11-09T13:18:04.675441Z"
    }
   },
   "outputs": [
    {
     "data": {
      "text/plain": [
       "tensor([[ 0.2695, -0.2104, -0.7328,  0.1043],\n",
       "        [ 1.0414, -0.3997, -2.2933,  0.4976],\n",
       "        [-2.4801, -0.4175, -1.1955,  0.8123],\n",
       "        [-0.3063, -0.3302, -0.9808,  0.1947]])"
      ]
     },
     "execution_count": 46,
     "metadata": {},
     "output_type": "execute_result"
    }
   ],
   "source": [
    "x = torch.randn(4, 4)\n",
    "x"
   ]
  },
  {
   "cell_type": "code",
   "execution_count": 47,
   "id": "c874975d-2721-4763-bcaf-2148fc5f98c3",
   "metadata": {
    "execution": {
     "iopub.execute_input": "2023-11-09T13:18:11.658149Z",
     "iopub.status.busy": "2023-11-09T13:18:11.657951Z",
     "iopub.status.idle": "2023-11-09T13:18:11.662034Z",
     "shell.execute_reply": "2023-11-09T13:18:11.661430Z",
     "shell.execute_reply.started": "2023-11-09T13:18:11.658132Z"
    }
   },
   "outputs": [
    {
     "data": {
      "text/plain": [
       "torch.Size([4, 4])"
      ]
     },
     "execution_count": 47,
     "metadata": {},
     "output_type": "execute_result"
    }
   ],
   "source": [
    "x.size()"
   ]
  },
  {
   "cell_type": "code",
   "execution_count": 55,
   "id": "78fe4d7f-d6dd-409d-9b7e-ceca823b1fdd",
   "metadata": {
    "execution": {
     "iopub.execute_input": "2023-11-09T13:23:35.686330Z",
     "iopub.status.busy": "2023-11-09T13:23:35.686067Z",
     "iopub.status.idle": "2023-11-09T13:23:35.692906Z",
     "shell.execute_reply": "2023-11-09T13:23:35.692382Z",
     "shell.execute_reply.started": "2023-11-09T13:23:35.686309Z"
    }
   },
   "outputs": [
    {
     "data": {
      "text/plain": [
       "tensor([ 0.2695, -0.2104, -0.7328,  0.1043,  1.0414, -0.3997, -2.2933,  0.4976, -2.4801, -0.4175, -1.1955,  0.8123, -0.3063, -0.3302, -0.9808,  0.1947])"
      ]
     },
     "execution_count": 55,
     "metadata": {},
     "output_type": "execute_result"
    }
   ],
   "source": [
    "y = x.view(16)\n",
    "y"
   ]
  },
  {
   "cell_type": "code",
   "execution_count": 51,
   "id": "c4306329-8298-41eb-b219-a6225ef3dc32",
   "metadata": {
    "execution": {
     "iopub.execute_input": "2023-11-09T13:19:14.072274Z",
     "iopub.status.busy": "2023-11-09T13:19:14.072048Z",
     "iopub.status.idle": "2023-11-09T13:19:14.076645Z",
     "shell.execute_reply": "2023-11-09T13:19:14.075878Z",
     "shell.execute_reply.started": "2023-11-09T13:19:14.072258Z"
    }
   },
   "outputs": [
    {
     "data": {
      "text/plain": [
       "torch.Size([16])"
      ]
     },
     "execution_count": 51,
     "metadata": {},
     "output_type": "execute_result"
    }
   ],
   "source": [
    "y.size()"
   ]
  },
  {
   "cell_type": "code",
   "execution_count": 77,
   "id": "211e13cc-0e29-4875-983b-9d01e7f43e72",
   "metadata": {
    "execution": {
     "iopub.execute_input": "2023-11-09T14:08:42.514155Z",
     "iopub.status.busy": "2023-11-09T14:08:42.513481Z",
     "iopub.status.idle": "2023-11-09T14:08:42.521873Z",
     "shell.execute_reply": "2023-11-09T14:08:42.521378Z",
     "shell.execute_reply.started": "2023-11-09T14:08:42.514096Z"
    }
   },
   "outputs": [
    {
     "data": {
      "text/plain": [
       "(tensor([[ 0.2695, -0.2104, -0.7328,  0.1043,  1.0414, -0.3997, -2.2933,  0.4976],\n",
       "         [-2.4801, -0.4175, -1.1955,  0.8123, -0.3063, -0.3302, -0.9808,  0.1947]]),\n",
       " tensor([-2.4801, -0.4175, -1.1955,  0.8123, -0.3063, -0.3302, -0.9808,  0.1947]),\n",
       " tensor([-2.4801, -0.4175, -1.1955,  0.8123, -0.3063, -0.3302, -0.9808,  0.1947]))"
      ]
     },
     "execution_count": 77,
     "metadata": {},
     "output_type": "execute_result"
    }
   ],
   "source": [
    "z = x.view(-1, 8)  # the size -1 is inferred from other dimensions = fix to 8 columns and rows are 16/8=2\n",
    "z,z[1],z[-1]"
   ]
  },
  {
   "cell_type": "code",
   "execution_count": 76,
   "id": "c7ef79cb-2d8f-4867-a3f5-ef1381fd1f57",
   "metadata": {
    "execution": {
     "iopub.execute_input": "2023-11-09T14:07:28.994847Z",
     "iopub.status.busy": "2023-11-09T14:07:28.994617Z",
     "iopub.status.idle": "2023-11-09T14:07:28.999695Z",
     "shell.execute_reply": "2023-11-09T14:07:28.999148Z",
     "shell.execute_reply.started": "2023-11-09T14:07:28.994829Z"
    }
   },
   "outputs": [
    {
     "data": {
      "text/plain": [
       "tensor([[ 0.2695, -0.2104],\n",
       "        [-0.7328,  0.1043],\n",
       "        [ 1.0414, -0.3997],\n",
       "        [-2.2933,  0.4976],\n",
       "        [-2.4801, -0.4175],\n",
       "        [-1.1955,  0.8123],\n",
       "        [-0.3063, -0.3302],\n",
       "        [-0.9808,  0.1947]])"
      ]
     },
     "execution_count": 76,
     "metadata": {},
     "output_type": "execute_result"
    }
   ],
   "source": [
    "t = y.view(8,2)\n",
    "t"
   ]
  },
  {
   "cell_type": "code",
   "execution_count": 80,
   "id": "8fa20dd0-0daf-45ee-8485-247a83db188a",
   "metadata": {
    "execution": {
     "iopub.execute_input": "2023-11-09T14:09:43.869707Z",
     "iopub.status.busy": "2023-11-09T14:09:43.869036Z",
     "iopub.status.idle": "2023-11-09T14:09:43.880115Z",
     "shell.execute_reply": "2023-11-09T14:09:43.878502Z",
     "shell.execute_reply.started": "2023-11-09T14:09:43.869644Z"
    }
   },
   "outputs": [
    {
     "data": {
      "text/plain": [
       "torch.Size([2, 8])"
      ]
     },
     "execution_count": 80,
     "metadata": {},
     "output_type": "execute_result"
    }
   ],
   "source": [
    "z.size()"
   ]
  },
  {
   "cell_type": "code",
   "execution_count": 91,
   "id": "0a6c146e-acb8-40fc-a0b2-6904e186dd8b",
   "metadata": {
    "execution": {
     "iopub.execute_input": "2023-11-09T14:49:11.328403Z",
     "iopub.status.busy": "2023-11-09T14:49:11.328189Z",
     "iopub.status.idle": "2023-11-09T14:49:11.333372Z",
     "shell.execute_reply": "2023-11-09T14:49:11.332849Z",
     "shell.execute_reply.started": "2023-11-09T14:49:11.328387Z"
    }
   },
   "outputs": [
    {
     "data": {
      "text/plain": [
       "tensor([[[[ 0.7694,  2.5574,  0.5716,  1.3596],\n",
       "          [ 0.4334, -0.7172,  1.0554, -1.4534],\n",
       "          [ 0.5667, -0.7098, -0.4875,  0.0501]],\n",
       "\n",
       "         [[ 0.3273,  0.1292,  2.8520, -0.7436],\n",
       "          [ 0.9478, -0.6766, -0.5730, -0.3303],\n",
       "          [-0.3071, -0.7155,  0.0762, -0.2127]]]])"
      ]
     },
     "execution_count": 91,
     "metadata": {},
     "output_type": "execute_result"
    }
   ],
   "source": [
    "a = torch.randn(1, 2, 3, 4)  # how??\n",
    "a"
   ]
  },
  {
   "cell_type": "code",
   "execution_count": 85,
   "id": "ac41edf1-0d34-464c-96ab-76ea9fb07fd4",
   "metadata": {
    "execution": {
     "iopub.execute_input": "2023-11-09T14:40:39.777650Z",
     "iopub.status.busy": "2023-11-09T14:40:39.776683Z",
     "iopub.status.idle": "2023-11-09T14:40:39.781264Z",
     "shell.execute_reply": "2023-11-09T14:40:39.780735Z",
     "shell.execute_reply.started": "2023-11-09T14:40:39.777629Z"
    }
   },
   "outputs": [
    {
     "data": {
      "text/plain": [
       "torch.Size([1, 2, 3, 4])"
      ]
     },
     "execution_count": 85,
     "metadata": {},
     "output_type": "execute_result"
    }
   ],
   "source": [
    "a.size()"
   ]
  },
  {
   "cell_type": "code",
   "execution_count": 86,
   "id": "9cb1c1f3-d148-4fd2-81e2-3821b57cba6f",
   "metadata": {
    "execution": {
     "iopub.execute_input": "2023-11-09T14:40:50.015482Z",
     "iopub.status.busy": "2023-11-09T14:40:50.015274Z",
     "iopub.status.idle": "2023-11-09T14:40:50.020130Z",
     "shell.execute_reply": "2023-11-09T14:40:50.019716Z",
     "shell.execute_reply.started": "2023-11-09T14:40:50.015464Z"
    }
   },
   "outputs": [
    {
     "data": {
      "text/plain": [
       "torch.Size([1, 3, 2, 4])"
      ]
     },
     "execution_count": 86,
     "metadata": {},
     "output_type": "execute_result"
    }
   ],
   "source": [
    "b = a.transpose(1, 2)  # Swaps 2nd and 3rd dimension\n",
    "b.size()"
   ]
  },
  {
   "cell_type": "code",
   "execution_count": null,
   "id": "ab9c6c9c-d92d-475b-920c-236b7185454a",
   "metadata": {},
   "outputs": [],
   "source": []
  },
  {
   "cell_type": "code",
   "execution_count": 11,
   "id": "5d7aa4ac-1c25-4f1a-8a71-d52170344ec4",
   "metadata": {
    "execution": {
     "iopub.execute_input": "2023-11-09T12:10:20.284568Z",
     "iopub.status.busy": "2023-11-09T12:10:20.284333Z",
     "iopub.status.idle": "2023-11-09T12:10:20.289129Z",
     "shell.execute_reply": "2023-11-09T12:10:20.288642Z",
     "shell.execute_reply.started": "2023-11-09T12:10:20.284550Z"
    }
   },
   "outputs": [
    {
     "data": {
      "text/plain": [
       "torch.Size([1, 3, 2, 4])"
      ]
     },
     "execution_count": 11,
     "metadata": {},
     "output_type": "execute_result"
    }
   ],
   "source": [
    "c = a.view(1, 3, 2, 4)  # Does not change tensor layout in memory\n",
    "c.size()"
   ]
  },
  {
   "cell_type": "code",
   "execution_count": 12,
   "id": "d1d52432-eb73-4fa2-a23f-e885a75fe597",
   "metadata": {
    "execution": {
     "iopub.execute_input": "2023-11-09T12:10:23.530062Z",
     "iopub.status.busy": "2023-11-09T12:10:23.529316Z",
     "iopub.status.idle": "2023-11-09T12:10:23.537216Z",
     "shell.execute_reply": "2023-11-09T12:10:23.536678Z",
     "shell.execute_reply.started": "2023-11-09T12:10:23.529995Z"
    }
   },
   "outputs": [
    {
     "data": {
      "text/plain": [
       "False"
      ]
     },
     "execution_count": 12,
     "metadata": {},
     "output_type": "execute_result"
    }
   ],
   "source": [
    "torch.equal(b, c)"
   ]
  },
  {
   "cell_type": "markdown",
   "id": "f499c090-7fd0-4df3-80be-bfa838d21b93",
   "metadata": {},
   "source": [
    "### torch squeeze - https://pytorch.org/docs/stable/generated/torch.squeeze.html"
   ]
  },
  {
   "cell_type": "code",
   "execution_count": 115,
   "id": "a1b05a2d-9ddc-4173-8b1a-4ab4970f05d7",
   "metadata": {
    "execution": {
     "iopub.execute_input": "2023-11-09T16:33:37.575464Z",
     "iopub.status.busy": "2023-11-09T16:33:37.575222Z",
     "iopub.status.idle": "2023-11-09T16:33:37.580206Z",
     "shell.execute_reply": "2023-11-09T16:33:37.579504Z",
     "shell.execute_reply.started": "2023-11-09T16:33:37.575449Z"
    }
   },
   "outputs": [
    {
     "data": {
      "text/plain": [
       "(tensor([[[[[0., 0.]],\n",
       " \n",
       "           [[0., 0.]]]],\n",
       " \n",
       " \n",
       " \n",
       "         [[[[0., 0.]],\n",
       " \n",
       "           [[0., 0.]]]]]),\n",
       " torch.Size([2, 1, 2, 1, 2]))"
      ]
     },
     "execution_count": 115,
     "metadata": {},
     "output_type": "execute_result"
    }
   ],
   "source": [
    "x = torch.zeros(2, 1, 2, 1, 2)\n",
    "x, x.size()"
   ]
  },
  {
   "cell_type": "code",
   "execution_count": 116,
   "id": "8a726acd-1c37-49fa-906c-4c338d5092cf",
   "metadata": {
    "execution": {
     "iopub.execute_input": "2023-11-09T16:33:39.285362Z",
     "iopub.status.busy": "2023-11-09T16:33:39.285122Z",
     "iopub.status.idle": "2023-11-09T16:33:39.289720Z",
     "shell.execute_reply": "2023-11-09T16:33:39.289088Z",
     "shell.execute_reply.started": "2023-11-09T16:33:39.285348Z"
    }
   },
   "outputs": [
    {
     "data": {
      "text/plain": [
       "(tensor([[[0., 0.],\n",
       "          [0., 0.]],\n",
       " \n",
       "         [[0., 0.],\n",
       "          [0., 0.]]]),\n",
       " torch.Size([2, 2, 2]))"
      ]
     },
     "execution_count": 116,
     "metadata": {},
     "output_type": "execute_result"
    }
   ],
   "source": [
    "y = torch.squeeze(x)\n",
    "y, y.size()"
   ]
  },
  {
   "cell_type": "code",
   "execution_count": 118,
   "id": "1ccd0949-53cd-4d80-aff1-2d7f14a68f23",
   "metadata": {
    "execution": {
     "iopub.execute_input": "2023-11-09T16:33:48.707510Z",
     "iopub.status.busy": "2023-11-09T16:33:48.707233Z",
     "iopub.status.idle": "2023-11-09T16:33:48.712886Z",
     "shell.execute_reply": "2023-11-09T16:33:48.712389Z",
     "shell.execute_reply.started": "2023-11-09T16:33:48.707492Z"
    }
   },
   "outputs": [
    {
     "data": {
      "text/plain": [
       "(tensor([[[[[0., 0.]],\n",
       " \n",
       "           [[0., 0.]]]],\n",
       " \n",
       " \n",
       " \n",
       "         [[[[0., 0.]],\n",
       " \n",
       "           [[0., 0.]]]]]),\n",
       " torch.Size([2, 1, 2, 1, 2]))"
      ]
     },
     "execution_count": 118,
     "metadata": {},
     "output_type": "execute_result"
    }
   ],
   "source": [
    "y = torch.squeeze(x, 0)\n",
    "y, y.size()"
   ]
  },
  {
   "cell_type": "code",
   "execution_count": 119,
   "id": "e257e279-a043-4ec8-b7fb-337d16165a00",
   "metadata": {
    "execution": {
     "iopub.execute_input": "2023-11-09T16:33:51.156375Z",
     "iopub.status.busy": "2023-11-09T16:33:51.155631Z",
     "iopub.status.idle": "2023-11-09T16:33:51.164471Z",
     "shell.execute_reply": "2023-11-09T16:33:51.163911Z",
     "shell.execute_reply.started": "2023-11-09T16:33:51.156316Z"
    }
   },
   "outputs": [
    {
     "data": {
      "text/plain": [
       "(tensor([[[[0., 0.]],\n",
       " \n",
       "          [[0., 0.]]],\n",
       " \n",
       " \n",
       "         [[[0., 0.]],\n",
       " \n",
       "          [[0., 0.]]]]),\n",
       " torch.Size([2, 2, 1, 2]))"
      ]
     },
     "execution_count": 119,
     "metadata": {},
     "output_type": "execute_result"
    }
   ],
   "source": [
    "y = torch.squeeze(x, 1)\n",
    "y, y.size()"
   ]
  },
  {
   "cell_type": "code",
   "execution_count": 120,
   "id": "5aedc650-5244-4594-9af0-0edd3eb17467",
   "metadata": {
    "execution": {
     "iopub.execute_input": "2023-11-09T16:33:54.411515Z",
     "iopub.status.busy": "2023-11-09T16:33:54.411296Z",
     "iopub.status.idle": "2023-11-09T16:33:54.416757Z",
     "shell.execute_reply": "2023-11-09T16:33:54.416089Z",
     "shell.execute_reply.started": "2023-11-09T16:33:54.411500Z"
    }
   },
   "outputs": [
    {
     "data": {
      "text/plain": [
       "(tensor([[[0., 0.],\n",
       "          [0., 0.]],\n",
       " \n",
       "         [[0., 0.],\n",
       "          [0., 0.]]]),\n",
       " torch.Size([2, 2, 2]))"
      ]
     },
     "execution_count": 120,
     "metadata": {},
     "output_type": "execute_result"
    }
   ],
   "source": [
    "y = torch.squeeze(x, (1, 2, 3))\n",
    "y, y.size()"
   ]
  },
  {
   "cell_type": "markdown",
   "id": "da126797-dbc0-43ff-9a86-21abade52fa5",
   "metadata": {},
   "source": [
    "### numpy squeeze - https://numpy.org/doc/stable/reference/generated/numpy.squeeze.html"
   ]
  },
  {
   "cell_type": "code",
   "execution_count": 2,
   "id": "1d53e416-0a37-41c1-8682-789903c61b22",
   "metadata": {
    "execution": {
     "iopub.execute_input": "2023-11-10T15:40:01.926740Z",
     "iopub.status.busy": "2023-11-10T15:40:01.926045Z",
     "iopub.status.idle": "2023-11-10T15:40:02.040592Z",
     "shell.execute_reply": "2023-11-10T15:40:02.040047Z",
     "shell.execute_reply.started": "2023-11-10T15:40:01.926673Z"
    }
   },
   "outputs": [],
   "source": [
    "import numpy as np"
   ]
  },
  {
   "cell_type": "code",
   "execution_count": 7,
   "id": "9259f7c0-0f2a-485b-8c68-c6722776892e",
   "metadata": {
    "execution": {
     "iopub.execute_input": "2023-11-10T15:42:44.319809Z",
     "iopub.status.busy": "2023-11-10T15:42:44.319602Z",
     "iopub.status.idle": "2023-11-10T15:42:44.325434Z",
     "shell.execute_reply": "2023-11-10T15:42:44.324818Z",
     "shell.execute_reply.started": "2023-11-10T15:42:44.319790Z"
    }
   },
   "outputs": [
    {
     "data": {
      "text/plain": [
       "(array([[0],\n",
       "        [1],\n",
       "        [2]]),\n",
       " (3, 1))"
      ]
     },
     "execution_count": 7,
     "metadata": {},
     "output_type": "execute_result"
    }
   ],
   "source": [
    "x = np.array([[0], [1], [2]])  # 1st dimension is 3, and each dimension has 1 element\n",
    "x, x.shape"
   ]
  },
  {
   "cell_type": "code",
   "execution_count": 3,
   "id": "74e223c1-b4cb-4a75-acef-05866ed3aa8b",
   "metadata": {
    "execution": {
     "iopub.execute_input": "2023-11-10T15:40:03.132378Z",
     "iopub.status.busy": "2023-11-10T15:40:03.131859Z",
     "iopub.status.idle": "2023-11-10T15:40:03.142693Z",
     "shell.execute_reply": "2023-11-10T15:40:03.141539Z",
     "shell.execute_reply.started": "2023-11-10T15:40:03.132345Z"
    }
   },
   "outputs": [
    {
     "data": {
      "text/plain": [
       "(array([[[0],\n",
       "         [1],\n",
       "         [2]]]),\n",
       " (1, 3, 1))"
      ]
     },
     "execution_count": 3,
     "metadata": {},
     "output_type": "execute_result"
    }
   ],
   "source": [
    "x = np.array([[[0], [1], [2]]])\n",
    "x, x.shape"
   ]
  },
  {
   "cell_type": "code",
   "execution_count": 37,
   "id": "c2e34d5d-eb43-4c08-8cf4-ecb658c17006",
   "metadata": {
    "execution": {
     "iopub.execute_input": "2023-11-10T10:04:25.292027Z",
     "iopub.status.busy": "2023-11-10T10:04:25.291730Z",
     "iopub.status.idle": "2023-11-10T10:04:25.296558Z",
     "shell.execute_reply": "2023-11-10T10:04:25.296023Z",
     "shell.execute_reply.started": "2023-11-10T10:04:25.292012Z"
    }
   },
   "outputs": [
    {
     "data": {
      "text/plain": [
       "(array([0, 1, 2]), (3,))"
      ]
     },
     "execution_count": 37,
     "metadata": {},
     "output_type": "execute_result"
    }
   ],
   "source": [
    "np.squeeze(x), np.squeeze(x).shape"
   ]
  },
  {
   "cell_type": "code",
   "execution_count": 38,
   "id": "0b97050a-0434-404b-923f-17059cceb15d",
   "metadata": {
    "execution": {
     "iopub.execute_input": "2023-11-10T10:04:26.402852Z",
     "iopub.status.busy": "2023-11-10T10:04:26.402651Z",
     "iopub.status.idle": "2023-11-10T10:04:26.406951Z",
     "shell.execute_reply": "2023-11-10T10:04:26.406428Z",
     "shell.execute_reply.started": "2023-11-10T10:04:26.402836Z"
    }
   },
   "outputs": [
    {
     "data": {
      "text/plain": [
       "(array([[0],\n",
       "        [1],\n",
       "        [2]]),\n",
       " (3, 1))"
      ]
     },
     "execution_count": 38,
     "metadata": {},
     "output_type": "execute_result"
    }
   ],
   "source": [
    "np.squeeze(x, axis=0), np.squeeze(x, axis=0).shape"
   ]
  },
  {
   "cell_type": "code",
   "execution_count": 11,
   "id": "8deb2997-36e3-4433-b522-309d9cd025e5",
   "metadata": {
    "execution": {
     "iopub.execute_input": "2023-11-10T15:48:59.994298Z",
     "iopub.status.busy": "2023-11-10T15:48:59.994059Z",
     "iopub.status.idle": "2023-11-10T15:48:59.998542Z",
     "shell.execute_reply": "2023-11-10T15:48:59.998084Z",
     "shell.execute_reply.started": "2023-11-10T15:48:59.994283Z"
    }
   },
   "outputs": [
    {
     "data": {
      "text/plain": [
       "array([0, 1, 2])"
      ]
     },
     "execution_count": 11,
     "metadata": {},
     "output_type": "execute_result"
    }
   ],
   "source": [
    "#x = np.array([[[0], [1], [2]]])\n",
    "np.squeeze(x, axis=1) #, np.squeeze(x, axis=1).shape"
   ]
  },
  {
   "cell_type": "code",
   "execution_count": 39,
   "id": "4e067b54-9c44-454c-b958-02fc0199b035",
   "metadata": {
    "execution": {
     "iopub.execute_input": "2023-11-10T10:04:32.275362Z",
     "iopub.status.busy": "2023-11-10T10:04:32.274676Z",
     "iopub.status.idle": "2023-11-10T10:04:32.282701Z",
     "shell.execute_reply": "2023-11-10T10:04:32.282221Z",
     "shell.execute_reply.started": "2023-11-10T10:04:32.275298Z"
    }
   },
   "outputs": [
    {
     "data": {
      "text/plain": [
       "(array([[0, 1, 2]]), (1, 3, 1))"
      ]
     },
     "execution_count": 39,
     "metadata": {},
     "output_type": "execute_result"
    }
   ],
   "source": [
    "#x = np.array([[[0], [1], [2]]])\n",
    "np.squeeze(x, axis=2), x.shape"
   ]
  },
  {
   "cell_type": "code",
   "execution_count": 40,
   "id": "902e904a-ae7c-4c82-a232-97865dc04681",
   "metadata": {
    "execution": {
     "iopub.execute_input": "2023-11-10T10:06:12.652822Z",
     "iopub.status.busy": "2023-11-10T10:06:12.652492Z",
     "iopub.status.idle": "2023-11-10T10:06:12.658146Z",
     "shell.execute_reply": "2023-11-10T10:06:12.657436Z",
     "shell.execute_reply.started": "2023-11-10T10:06:12.652795Z"
    }
   },
   "outputs": [
    {
     "data": {
      "text/plain": [
       "(1, 1)"
      ]
     },
     "execution_count": 40,
     "metadata": {},
     "output_type": "execute_result"
    }
   ],
   "source": [
    "x = np.array([[1234]])\n",
    "x.shape"
   ]
  },
  {
   "cell_type": "code",
   "execution_count": 41,
   "id": "61664a55-b9bd-4a96-ad55-b5fe48a73b6e",
   "metadata": {
    "execution": {
     "iopub.execute_input": "2023-11-10T10:06:29.121290Z",
     "iopub.status.busy": "2023-11-10T10:06:29.120644Z",
     "iopub.status.idle": "2023-11-10T10:06:29.125466Z",
     "shell.execute_reply": "2023-11-10T10:06:29.124799Z",
     "shell.execute_reply.started": "2023-11-10T10:06:29.121274Z"
    }
   },
   "outputs": [
    {
     "data": {
      "text/plain": [
       "array(1234)"
      ]
     },
     "execution_count": 41,
     "metadata": {},
     "output_type": "execute_result"
    }
   ],
   "source": [
    "np.squeeze(x)"
   ]
  },
  {
   "cell_type": "code",
   "execution_count": 42,
   "id": "1a6b8619-fd64-4f6a-9c9d-48d8e805b8bf",
   "metadata": {
    "execution": {
     "iopub.execute_input": "2023-11-10T10:06:43.771077Z",
     "iopub.status.busy": "2023-11-10T10:06:43.770389Z",
     "iopub.status.idle": "2023-11-10T10:06:43.783966Z",
     "shell.execute_reply": "2023-11-10T10:06:43.782447Z",
     "shell.execute_reply.started": "2023-11-10T10:06:43.771013Z"
    }
   },
   "outputs": [
    {
     "data": {
      "text/plain": [
       "()"
      ]
     },
     "execution_count": 42,
     "metadata": {},
     "output_type": "execute_result"
    }
   ],
   "source": [
    "np.squeeze(x).shape"
   ]
  },
  {
   "cell_type": "code",
   "execution_count": 43,
   "id": "f92adc4c-1248-4682-bada-5bb9defb0b9c",
   "metadata": {
    "execution": {
     "iopub.execute_input": "2023-11-10T10:06:54.348680Z",
     "iopub.status.busy": "2023-11-10T10:06:54.347996Z",
     "iopub.status.idle": "2023-11-10T10:06:54.360539Z",
     "shell.execute_reply": "2023-11-10T10:06:54.358773Z",
     "shell.execute_reply.started": "2023-11-10T10:06:54.348616Z"
    }
   },
   "outputs": [
    {
     "data": {
      "text/plain": [
       "1234"
      ]
     },
     "execution_count": 43,
     "metadata": {},
     "output_type": "execute_result"
    }
   ],
   "source": [
    "np.squeeze(x)[()]"
   ]
  },
  {
   "cell_type": "code",
   "execution_count": null,
   "id": "5063cd0d-e913-4492-9b75-ee00a1b100c2",
   "metadata": {},
   "outputs": [],
   "source": []
  },
  {
   "cell_type": "code",
   "execution_count": null,
   "id": "6e83718d-5bee-48d9-9a94-1b6aa664a9e7",
   "metadata": {},
   "outputs": [],
   "source": []
  },
  {
   "cell_type": "markdown",
   "id": "a707a10d-2d6d-4ce7-bfba-bc2693823893",
   "metadata": {},
   "source": [
    "### torch unsqueeze - https://pytorch.org/docs/stable/generated/torch.unsqueeze.html\n",
    "Returns a new tensor with a dimension of size one inserted at the specified position.\n",
    "\n"
   ]
  },
  {
   "cell_type": "code",
   "execution_count": 22,
   "id": "597f062e-b654-4358-a5c4-2d542f663c98",
   "metadata": {
    "execution": {
     "iopub.execute_input": "2023-11-10T19:37:34.541058Z",
     "iopub.status.busy": "2023-11-10T19:37:34.540397Z",
     "iopub.status.idle": "2023-11-10T19:37:34.548523Z",
     "shell.execute_reply": "2023-11-10T19:37:34.547954Z",
     "shell.execute_reply.started": "2023-11-10T19:37:34.540999Z"
    }
   },
   "outputs": [
    {
     "data": {
      "text/plain": [
       "(tensor([1, 2, 3, 4]), torch.Size([4]))"
      ]
     },
     "execution_count": 22,
     "metadata": {},
     "output_type": "execute_result"
    }
   ],
   "source": [
    "x= torch.tensor([1, 2, 3, 4])\n",
    "x, x.shape"
   ]
  },
  {
   "cell_type": "code",
   "execution_count": 25,
   "id": "a3d94908-340e-4d79-b9a6-673afec099b3",
   "metadata": {
    "execution": {
     "iopub.execute_input": "2023-11-10T19:38:41.610034Z",
     "iopub.status.busy": "2023-11-10T19:38:41.609843Z",
     "iopub.status.idle": "2023-11-10T19:38:41.617948Z",
     "shell.execute_reply": "2023-11-10T19:38:41.617387Z",
     "shell.execute_reply.started": "2023-11-10T19:38:41.610018Z"
    }
   },
   "outputs": [
    {
     "data": {
      "text/plain": [
       "(tensor([[1, 2, 3, 4]]), torch.Size([4]), torch.Size([4]))"
      ]
     },
     "execution_count": 25,
     "metadata": {},
     "output_type": "execute_result"
    }
   ],
   "source": [
    "torch.unsqueeze(x, 0), x.size(), x.shape  # from 4 elements to 1 element at dimension 0\n",
    "# dim 0 is the vertical and it has the size 1, just like the original"
   ]
  },
  {
   "cell_type": "code",
   "execution_count": 24,
   "id": "f01ad4b7-372c-4947-bac9-53bb102728a2",
   "metadata": {
    "execution": {
     "iopub.execute_input": "2023-11-10T19:37:53.918300Z",
     "iopub.status.busy": "2023-11-10T19:37:53.918046Z",
     "iopub.status.idle": "2023-11-10T19:37:53.922774Z",
     "shell.execute_reply": "2023-11-10T19:37:53.922377Z",
     "shell.execute_reply.started": "2023-11-10T19:37:53.918285Z"
    }
   },
   "outputs": [
    {
     "data": {
      "text/plain": [
       "(tensor([[1],\n",
       "         [2],\n",
       "         [3],\n",
       "         [4]]),\n",
       " torch.Size([4]))"
      ]
     },
     "execution_count": 24,
     "metadata": {},
     "output_type": "execute_result"
    }
   ],
   "source": [
    "torch.unsqueeze(x, 1), x.size()\n",
    "# dim 1 is the horizontal, and it has a now a size of 1"
   ]
  },
  {
   "cell_type": "code",
   "execution_count": null,
   "id": "ef1dffdc-10ca-4a25-b3a7-467f941df435",
   "metadata": {},
   "outputs": [],
   "source": []
  },
  {
   "cell_type": "markdown",
   "id": "87124985-b00b-4f79-91ee-8697d7b560ba",
   "metadata": {},
   "source": [
    "https://stackoverflow.com/questions/57237352/what-does-unsqueeze-do-in-pytorch"
   ]
  },
  {
   "cell_type": "markdown",
   "id": "1e20030d-7560-4e0d-a773-00e366774df0",
   "metadata": {},
   "source": [
    "### torch.where"
   ]
  },
  {
   "cell_type": "code",
   "execution_count": 4,
   "id": "7d359f0d-1539-4c2c-8fd9-612adbc3ceab",
   "metadata": {
    "execution": {
     "iopub.execute_input": "2023-11-21T13:15:25.213364Z",
     "iopub.status.busy": "2023-11-21T13:15:25.213131Z",
     "iopub.status.idle": "2023-11-21T13:15:25.217353Z",
     "shell.execute_reply": "2023-11-21T13:15:25.216704Z",
     "shell.execute_reply.started": "2023-11-21T13:15:25.213346Z"
    }
   },
   "outputs": [
    {
     "name": "stdout",
     "output_type": "stream",
     "text": [
      "Help on built-in function where in module torch:\n",
      "\n",
      "where(...)\n",
      "    where(condition, input, other, *, out=None) -> Tensor\n",
      "    \n",
      "    Return a tensor of elements selected from either :attr:`input` or :attr:`other`, depending on :attr:`condition`.\n",
      "    \n",
      "    The operation is defined as:\n",
      "    \n",
      "    .. math::\n",
      "        \\text{out}_i = \\begin{cases}\n",
      "            \\text{input}_i & \\text{if } \\text{condition}_i \\\\\n",
      "            \\text{other}_i & \\text{otherwise} \\\\\n",
      "        \\end{cases}\n",
      "    \n",
      "    .. note::\n",
      "        The tensors :attr:`condition`, :attr:`input`, :attr:`other` must be :ref:`broadcastable <broadcasting-semantics>`.\n",
      "    \n",
      "    Arguments:\n",
      "        condition (BoolTensor): When True (nonzero), yield input, otherwise yield other\n",
      "        input (Tensor or Scalar): value (if :attr:`input` is a scalar) or values selected at indices\n",
      "                              where :attr:`condition` is ``True``\n",
      "        other (Tensor or Scalar): value (if :attr:`other` is a scalar) or values selected at indices\n",
      "                              where :attr:`condition` is ``False``\n",
      "    \n",
      "    Keyword args:\n",
      "        out (Tensor, optional): the output tensor.\n",
      "    \n",
      "    Returns:\n",
      "        Tensor: A tensor of shape equal to the broadcasted shape of :attr:`condition`, :attr:`input`, :attr:`other`\n",
      "    \n",
      "    Example::\n",
      "    \n",
      "        >>> x = torch.randn(3, 2)\n",
      "        >>> y = torch.ones(3, 2)\n",
      "        >>> x\n",
      "        tensor([[-0.4620,  0.3139],\n",
      "                [ 0.3898, -0.7197],\n",
      "                [ 0.0478, -0.1657]])\n",
      "        >>> torch.where(x > 0, 1.0, 0.0)\n",
      "        tensor([[0., 1.],\n",
      "                [1., 0.],\n",
      "                [1., 0.]])\n",
      "        >>> torch.where(x > 0, x, y)\n",
      "        tensor([[ 1.0000,  0.3139],\n",
      "                [ 0.3898,  1.0000],\n",
      "                [ 0.0478,  1.0000]])\n",
      "        >>> x = torch.randn(2, 2, dtype=torch.double)\n",
      "        >>> x\n",
      "        tensor([[ 1.0779,  0.0383],\n",
      "                [-0.8785, -1.1089]], dtype=torch.float64)\n",
      "        >>> torch.where(x > 0, x, 0.)\n",
      "        tensor([[1.0779, 0.0383],\n",
      "                [0.0000, 0.0000]], dtype=torch.float64)\n",
      "    \n",
      "    .. function:: where(condition) -> tuple of LongTensor\n",
      "       :noindex:\n",
      "    \n",
      "    ``torch.where(condition)`` is identical to\n",
      "    ``torch.nonzero(condition, as_tuple=True)``.\n",
      "    \n",
      "    .. note::\n",
      "        See also :func:`torch.nonzero`.\n",
      "\n"
     ]
    }
   ],
   "source": [
    "help(torch.where)"
   ]
  },
  {
   "cell_type": "code",
   "execution_count": 5,
   "id": "dbc33f52-fed5-440b-8a98-b909f3c2c170",
   "metadata": {
    "execution": {
     "iopub.execute_input": "2023-11-21T13:16:18.933533Z",
     "iopub.status.busy": "2023-11-21T13:16:18.933089Z",
     "iopub.status.idle": "2023-11-21T13:16:18.945908Z",
     "shell.execute_reply": "2023-11-21T13:16:18.945023Z",
     "shell.execute_reply.started": "2023-11-21T13:16:18.933491Z"
    }
   },
   "outputs": [
    {
     "data": {
      "text/plain": [
       "tensor([[ 0.3367,  0.1288],\n",
       "        [ 0.2345,  0.2303],\n",
       "        [-1.1229, -0.1863]])"
      ]
     },
     "execution_count": 5,
     "metadata": {},
     "output_type": "execute_result"
    }
   ],
   "source": [
    "x = torch.randn(3, 2)\n",
    "y = torch.ones(3, 2)\n",
    "x"
   ]
  },
  {
   "cell_type": "code",
   "execution_count": 7,
   "id": "a99e0bd4-734a-44cc-b243-4676a953ab45",
   "metadata": {
    "execution": {
     "iopub.execute_input": "2023-11-21T13:17:12.295792Z",
     "iopub.status.busy": "2023-11-21T13:17:12.295089Z",
     "iopub.status.idle": "2023-11-21T13:17:12.307136Z",
     "shell.execute_reply": "2023-11-21T13:17:12.306013Z",
     "shell.execute_reply.started": "2023-11-21T13:17:12.295724Z"
    }
   },
   "outputs": [
    {
     "data": {
      "text/plain": [
       "tensor([[1., 1.],\n",
       "        [1., 1.],\n",
       "        [0., 0.]])"
      ]
     },
     "execution_count": 7,
     "metadata": {},
     "output_type": "execute_result"
    }
   ],
   "source": [
    "torch.where(x > 0, 1.0, 0.0)  # if x>0 replace with 1, otherwise replace with 0"
   ]
  },
  {
   "cell_type": "code",
   "execution_count": 9,
   "id": "acc8a306-c16e-4515-9c6e-132c7f10bd17",
   "metadata": {
    "execution": {
     "iopub.execute_input": "2023-11-21T13:18:29.178367Z",
     "iopub.status.busy": "2023-11-21T13:18:29.177577Z",
     "iopub.status.idle": "2023-11-21T13:18:29.192396Z",
     "shell.execute_reply": "2023-11-21T13:18:29.190672Z",
     "shell.execute_reply.started": "2023-11-21T13:18:29.178297Z"
    }
   },
   "outputs": [
    {
     "data": {
      "text/plain": [
       "tensor([[0.3367, 0.1288],\n",
       "        [0.2345, 0.2303],\n",
       "        [1.0000, 1.0000]])"
      ]
     },
     "execution_count": 9,
     "metadata": {},
     "output_type": "execute_result"
    }
   ],
   "source": [
    "torch.where(x > 0, x, y)  # if x>0 replace with x, otherwise replace with y=1"
   ]
  },
  {
   "cell_type": "code",
   "execution_count": 11,
   "id": "bda3be88-7012-4f99-9528-ba99318a6aea",
   "metadata": {
    "execution": {
     "iopub.execute_input": "2023-11-21T13:18:55.054560Z",
     "iopub.status.busy": "2023-11-21T13:18:55.054332Z",
     "iopub.status.idle": "2023-11-21T13:18:55.059923Z",
     "shell.execute_reply": "2023-11-21T13:18:55.059344Z",
     "shell.execute_reply.started": "2023-11-21T13:18:55.054541Z"
    }
   },
   "outputs": [
    {
     "data": {
      "text/plain": [
       "tensor([[ 0.5349,  0.8094],\n",
       "        [ 1.1103, -1.6898]], dtype=torch.float64)"
      ]
     },
     "execution_count": 11,
     "metadata": {},
     "output_type": "execute_result"
    }
   ],
   "source": [
    "x = torch.randn(2, 2, dtype=torch.double)\n",
    "x"
   ]
  },
  {
   "cell_type": "code",
   "execution_count": 12,
   "id": "f17e27a6-793a-4d0b-a299-aaa0d07b62da",
   "metadata": {
    "execution": {
     "iopub.execute_input": "2023-11-21T13:19:21.654247Z",
     "iopub.status.busy": "2023-11-21T13:19:21.653556Z",
     "iopub.status.idle": "2023-11-21T13:19:21.668783Z",
     "shell.execute_reply": "2023-11-21T13:19:21.667026Z",
     "shell.execute_reply.started": "2023-11-21T13:19:21.654178Z"
    }
   },
   "outputs": [
    {
     "data": {
      "text/plain": [
       "tensor([[0.5349, 0.8094],\n",
       "        [1.1103, 0.0000]], dtype=torch.float64)"
      ]
     },
     "execution_count": 12,
     "metadata": {},
     "output_type": "execute_result"
    }
   ],
   "source": [
    "torch.where(x > 0, x, 0.)  # if x>0 replace with x, otherwise replace with 0"
   ]
  },
  {
   "cell_type": "markdown",
   "id": "1b4cf3aa-79a3-42d1-b7a1-98cddb57e37a",
   "metadata": {},
   "source": [
    "### mnist code"
   ]
  },
  {
   "cell_type": "code",
   "execution_count": 16,
   "id": "d5e37efa-8a31-4f2f-894d-dad9a461c88d",
   "metadata": {
    "execution": {
     "iopub.execute_input": "2023-11-21T13:22:11.823463Z",
     "iopub.status.busy": "2023-11-21T13:22:11.823166Z",
     "iopub.status.idle": "2023-11-21T13:22:11.829141Z",
     "shell.execute_reply": "2023-11-21T13:22:11.828454Z",
     "shell.execute_reply.started": "2023-11-21T13:22:11.823437Z"
    }
   },
   "outputs": [
    {
     "data": {
      "text/plain": [
       "tensor([1, 0, 1])"
      ]
     },
     "execution_count": 16,
     "metadata": {},
     "output_type": "execute_result"
    }
   ],
   "source": [
    "trgts = tensor([1,0,1])\n",
    "trgts"
   ]
  },
  {
   "cell_type": "code",
   "execution_count": 17,
   "id": "d7227dae-0605-4064-bc61-9a70b597a97c",
   "metadata": {
    "execution": {
     "iopub.execute_input": "2023-11-21T13:22:13.026481Z",
     "iopub.status.busy": "2023-11-21T13:22:13.026271Z",
     "iopub.status.idle": "2023-11-21T13:22:13.031038Z",
     "shell.execute_reply": "2023-11-21T13:22:13.030476Z",
     "shell.execute_reply.started": "2023-11-21T13:22:13.026462Z"
    }
   },
   "outputs": [
    {
     "data": {
      "text/plain": [
       "tensor([0.9000, 0.4000, 0.2000])"
      ]
     },
     "execution_count": 17,
     "metadata": {},
     "output_type": "execute_result"
    }
   ],
   "source": [
    "prds = tensor([0.9, 0.4, 0.2])\n",
    "prds"
   ]
  },
  {
   "cell_type": "code",
   "execution_count": 20,
   "id": "97ae536c-0202-42de-b46b-b29d0d9cd987",
   "metadata": {
    "execution": {
     "iopub.execute_input": "2023-11-21T13:26:18.765335Z",
     "iopub.status.busy": "2023-11-21T13:26:18.765092Z",
     "iopub.status.idle": "2023-11-21T13:26:18.770134Z",
     "shell.execute_reply": "2023-11-21T13:26:18.769517Z",
     "shell.execute_reply.started": "2023-11-21T13:26:18.765320Z"
    }
   },
   "outputs": [
    {
     "data": {
      "text/plain": [
       "tensor([0.1000, 0.4000, 0.8000])"
      ]
     },
     "execution_count": 20,
     "metadata": {},
     "output_type": "execute_result"
    }
   ],
   "source": [
    "torch.where(trgts==1, 1-prds, prds)  # if targets equal 1, replace with 1-prds, otherwise replace with prds: 1-0.9, 0.4, 1-0.8"
   ]
  },
  {
   "cell_type": "code",
   "execution_count": null,
   "id": "f9fa3372-3e79-4b07-884a-ee403bf7aa9f",
   "metadata": {},
   "outputs": [],
   "source": []
  }
 ],
 "metadata": {
  "kernelspec": {
   "display_name": "fastai23",
   "language": "python",
   "name": "fastai23"
  },
  "language_info": {
   "codemirror_mode": {
    "name": "ipython",
    "version": 3
   },
   "file_extension": ".py",
   "mimetype": "text/x-python",
   "name": "python",
   "nbconvert_exporter": "python",
   "pygments_lexer": "ipython3",
   "version": "3.11.5"
  }
 },
 "nbformat": 4,
 "nbformat_minor": 5
}
