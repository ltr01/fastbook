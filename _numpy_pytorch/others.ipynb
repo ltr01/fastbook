{
 "cells": [
  {
   "cell_type": "code",
   "execution_count": 1,
   "id": "a7fdc91a-3084-4364-9a65-533fb6098641",
   "metadata": {
    "execution": {
     "iopub.execute_input": "2023-11-13T18:42:11.904560Z",
     "iopub.status.busy": "2023-11-13T18:42:11.904269Z",
     "iopub.status.idle": "2023-11-13T18:42:14.539277Z",
     "shell.execute_reply": "2023-11-13T18:42:14.538415Z",
     "shell.execute_reply.started": "2023-11-13T18:42:11.904532Z"
    }
   },
   "outputs": [],
   "source": [
    "#hide\n",
    "! [ -e /content ] && pip install -Uqq fastbook  \n",
    "# see if there's a directory called /content (no ,there isn't\n",
    "# this exist for colab, colab uses pip, and uses an older version of fastai\n",
    "import fastbook\n",
    "fastbook.setup_book()"
   ]
  },
  {
   "cell_type": "code",
   "execution_count": 3,
   "id": "9f95ab0a-b0ea-41d8-b348-ae6223f3e663",
   "metadata": {
    "execution": {
     "iopub.execute_input": "2023-11-13T18:48:08.067307Z",
     "iopub.status.busy": "2023-11-13T18:48:08.067002Z",
     "iopub.status.idle": "2023-11-13T18:48:08.072196Z",
     "shell.execute_reply": "2023-11-13T18:48:08.071395Z",
     "shell.execute_reply.started": "2023-11-13T18:48:08.067280Z"
    }
   },
   "outputs": [],
   "source": [
    "#hide\n",
    "from fastai.vision.all import *\n",
    "from fastbook import *"
   ]
  },
  {
   "cell_type": "code",
   "execution_count": 5,
   "id": "0f752b5c-e2ae-4329-8dd1-ad9f9cbb0dcd",
   "metadata": {
    "execution": {
     "iopub.execute_input": "2023-11-13T18:48:52.182091Z",
     "iopub.status.busy": "2023-11-13T18:48:52.181790Z",
     "iopub.status.idle": "2023-11-13T18:48:52.187138Z",
     "shell.execute_reply": "2023-11-13T18:48:52.186180Z",
     "shell.execute_reply.started": "2023-11-13T18:48:52.182065Z"
    }
   },
   "outputs": [],
   "source": [
    "def pr_eight(x,w): return (x*w).sum()"
   ]
  },
  {
   "cell_type": "code",
   "execution_count": null,
   "id": "774a7ea2-991e-482e-9a2c-eecb9aa00a97",
   "metadata": {},
   "outputs": [],
   "source": []
  }
 ],
 "metadata": {
  "kernelspec": {
   "display_name": "fastai23",
   "language": "python",
   "name": "fastai23"
  },
  "language_info": {
   "codemirror_mode": {
    "name": "ipython",
    "version": 3
   },
   "file_extension": ".py",
   "mimetype": "text/x-python",
   "name": "python",
   "nbconvert_exporter": "python",
   "pygments_lexer": "ipython3",
   "version": "3.11.5"
  }
 },
 "nbformat": 4,
 "nbformat_minor": 5
}
